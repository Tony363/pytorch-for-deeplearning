{
 "cells": [
  {
   "cell_type": "markdown",
   "id": "02073f25",
   "metadata": {
    "id": "OZ0S8IQWfTTV",
    "papermill": {
     "duration": 0.035643,
     "end_time": "2023-03-16T14:18:59.103725",
     "exception": false,
     "start_time": "2023-03-16T14:18:59.068082",
     "status": "completed"
    },
    "tags": []
   },
   "source": [
    "# Working with Images & Logistic Regression in PyTorch\n",
    "\n",
    "### Part 3 of \"Deep Learning with Pytorch: Zero to GANs\"\n",
    "\n",
    "This tutorial series is a hands-on beginner-friendly introduction to deep learning using [PyTorch](https://pytorch.org), an open-source neural networks library. These tutorials take a practical and coding-focused approach. The best way to learn the material is to execute the code and experiment with it yourself. Check out the full series here:\n",
    "\n",
    "1. [PyTorch Basics: Tensors & Gradients](https://jovian.ai/aakashns/01-pytorch-basics)\n",
    "2. [Gradient Descent & Linear Regression](https://jovian.ai/aakashns/02-linear-regression)\n",
    "3. [Working with Images & Logistic Regression](https://jovian.ai/aakashns/03-logistic-regression) \n",
    "4. [Training Deep Neural Networks on a GPU](https://jovian.ai/aakashns/04-feedforward-nn)\n",
    "5. [Image Classification using Convolutional Neural Networks](https://jovian.ai/aakashns/05-cifar10-cnn)\n",
    "6. [Data Augmentation, Regularization and ResNets](https://jovian.ai/aakashns/05b-cifar10-resnet)\n",
    "7. [Generating Images using Generative Adversarial Networks](https://jovian.ai/aakashns/06b-anime-dcgan/)"
   ]
  },
  {
   "cell_type": "markdown",
   "id": "196abc07",
   "metadata": {
    "id": "YL4niY96fTTV",
    "papermill": {
     "duration": 0.030615,
     "end_time": "2023-03-16T14:18:59.165456",
     "exception": false,
     "start_time": "2023-03-16T14:18:59.134841",
     "status": "completed"
    },
    "tags": []
   },
   "source": [
    "This tutorial covers the following topics:\n",
    "    \n",
    "* Working with images in PyTorch (using the MNIST dataset)\n",
    "* Splitting a dataset into training, validation, and test sets\n",
    "* Creating PyTorch models with custom logic by extending the `nn.Module` class\n",
    "* Interpreting model outputs as probabilities using Softmax and picking predicted labels\n",
    "* Picking a useful evaluation metric (accuracy) and loss function (cross-entropy) for classification problems\n",
    "* Setting up a training loop that also evaluates the model using the validation set\n",
    "* Testing the model manually on randomly picked examples \n",
    "* Saving and loading model checkpoints to avoid retraining from scratch\n",
    "\n"
   ]
  },
  {
   "cell_type": "markdown",
   "id": "2501c445",
   "metadata": {
    "id": "l8SHC9wafTTV",
    "papermill": {
     "duration": 0.030041,
     "end_time": "2023-03-16T14:18:59.225862",
     "exception": false,
     "start_time": "2023-03-16T14:18:59.195821",
     "status": "completed"
    },
    "tags": []
   },
   "source": [
    "### How to run the code\n",
    "\n",
    "This tutorial is an executable [Jupyter notebook](https://jupyter.org) hosted on [Jovian](https://www.jovian.ai). You can _run_ this tutorial and experiment with the code examples in a couple of ways: *using free online resources* (recommended) or *on your computer*.\n",
    "\n",
    "#### Option 1: Running using free online resources (1-click, recommended)\n",
    "\n",
    "The easiest way to start executing the code is to click the **Run** button at the top of this page and select **Run on Colab**. [Google Colab](https://colab.research.google.com) is a free online platform for running Jupyter notebooks using Google's cloud infrastructure. You can also select \"Run on Binder\" or \"Run on Kaggle\" if you face issues running the notebook on Google Colab.\n",
    "\n",
    "\n",
    "#### Option 2: Running on your computer locally\n",
    "\n",
    "To run the code on your computer locally, you'll need to set up [Python](https://www.python.org), download the notebook and install the required libraries. We recommend using the [Conda](https://docs.conda.io/projects/conda/en/latest/user-guide/install/) distribution of Python. Click the **Run** button at the top of this page, select the **Run Locally** option, and follow the instructions.\n",
    "\n",
    ">  **Jupyter Notebooks**: This tutorial is a [Jupyter notebook](https://jupyter.org) - a document made of _cells_. Each cell can contain code written in Python or explanations in plain English. You can execute code cells and view the results, e.g., numbers, messages, graphs, tables, files, etc., instantly within the notebook. Jupyter is a powerful platform for experimentation and analysis. Don't be afraid to mess around with the code & break things - you'll learn a lot by encountering and fixing errors. You can use the \"Kernel > Restart & Clear Output\" or \"Edit > Clear Outputs\" menu option to clear all outputs and start again from the top."
   ]
  },
  {
   "cell_type": "markdown",
   "id": "b49b9429",
   "metadata": {
    "id": "BlizBg8UfTTV",
    "papermill": {
     "duration": 0.030594,
     "end_time": "2023-03-16T14:18:59.287061",
     "exception": false,
     "start_time": "2023-03-16T14:18:59.256467",
     "status": "completed"
    },
    "tags": []
   },
   "source": [
    "## Working with Images\n",
    "\n",
    "In this tutorial, we'll use our existing knowledge of PyTorch and linear regression to solve a very different kind of problem: *image classification*. We'll use the famous [*MNIST Handwritten Digits Database*](http://yann.lecun.com/exdb/mnist/) as our training dataset. It consists of 28px by 28px grayscale images of handwritten digits (0 to 9) and labels for each image indicating which digit it represents. Here are some sample images from the dataset:\n",
    "\n",
    "![mnist-sample](https://i.imgur.com/CAYnuo1.jpg)"
   ]
  },
  {
   "cell_type": "markdown",
   "id": "10d25ef1",
   "metadata": {
    "id": "IArll2smfTTV",
    "papermill": {
     "duration": 0.030002,
     "end_time": "2023-03-16T14:18:59.347448",
     "exception": false,
     "start_time": "2023-03-16T14:18:59.317446",
     "status": "completed"
    },
    "tags": []
   },
   "source": [
    "We begin by installing and importing `torch` and `torchvision`. `torchvision` contains some utilities for working with image data. It also provides helper classes to download and import popular datasets like MNIST automatically"
   ]
  },
  {
   "cell_type": "code",
   "execution_count": 1,
   "id": "393c8255",
   "metadata": {
    "execution": {
     "iopub.execute_input": "2023-03-16T14:18:59.411561Z",
     "iopub.status.busy": "2023-03-16T14:18:59.410093Z",
     "iopub.status.idle": "2023-03-16T14:18:59.417763Z",
     "shell.execute_reply": "2023-03-16T14:18:59.416318Z"
    },
    "executionInfo": {
     "elapsed": 1534,
     "status": "ok",
     "timestamp": 1606577825606,
     "user": {
      "displayName": "Aakash N S",
      "photoUrl": "https://lh3.googleusercontent.com/a-/AOh14GiIWFHtan62vtW1gz2Bv2bxL3rppefcadxzEVxRKQ=s64",
      "userId": "03254185060287524023"
     },
     "user_tz": -330
    },
    "id": "y_D8CGr0fTTV",
    "papermill": {
     "duration": 0.043344,
     "end_time": "2023-03-16T14:18:59.421270",
     "exception": false,
     "start_time": "2023-03-16T14:18:59.377926",
     "status": "completed"
    },
    "tags": []
   },
   "outputs": [],
   "source": [
    "# Uncomment and run the appropriate command for your operating system, if required\n",
    "\n",
    "# Linux / Binder\n",
    "# !pip install numpy matplotlib torch==1.7.0+cpu torchvision==0.8.1+cpu torchaudio==0.7.0 -f https://download.pytorch.org/whl/torch_stable.html\n",
    "\n",
    "# Windows\n",
    "# !pip install numpy matplotlib torch==1.7.0+cpu torchvision==0.8.1+cpu torchaudio==0.7.0 -f https://download.pytorch.org/whl/torch_stable.html\n",
    "\n",
    "# MacOS\n",
    "# !pip install numpy matplotlib torch torchvision torchaudio"
   ]
  },
  {
   "cell_type": "code",
   "execution_count": 2,
   "id": "0fd9308d",
   "metadata": {
    "execution": {
     "iopub.execute_input": "2023-03-16T14:18:59.485212Z",
     "iopub.status.busy": "2023-03-16T14:18:59.484793Z",
     "iopub.status.idle": "2023-03-16T14:19:02.318432Z",
     "shell.execute_reply": "2023-03-16T14:19:02.317062Z"
    },
    "executionInfo": {
     "elapsed": 4034,
     "status": "ok",
     "timestamp": 1606577857436,
     "user": {
      "displayName": "Aakash N S",
      "photoUrl": "https://lh3.googleusercontent.com/a-/AOh14GiIWFHtan62vtW1gz2Bv2bxL3rppefcadxzEVxRKQ=s64",
      "userId": "03254185060287524023"
     },
     "user_tz": -330
    },
    "id": "o_xViEWvfTTV",
    "papermill": {
     "duration": 2.869775,
     "end_time": "2023-03-16T14:19:02.321939",
     "exception": false,
     "start_time": "2023-03-16T14:18:59.452164",
     "status": "completed"
    },
    "tags": []
   },
   "outputs": [],
   "source": [
    "# Imports\n",
    "import torch\n",
    "import torchvision\n",
    "from torchvision.datasets import MNIST"
   ]
  },
  {
   "cell_type": "code",
   "execution_count": 3,
   "id": "7ff55014",
   "metadata": {
    "execution": {
     "iopub.execute_input": "2023-03-16T14:19:02.385499Z",
     "iopub.status.busy": "2023-03-16T14:19:02.384202Z",
     "iopub.status.idle": "2023-03-16T14:19:03.577959Z",
     "shell.execute_reply": "2023-03-16T14:19:03.576509Z"
    },
    "executionInfo": {
     "elapsed": 2911,
     "status": "ok",
     "timestamp": 1606577890091,
     "user": {
      "displayName": "Aakash N S",
      "photoUrl": "https://lh3.googleusercontent.com/a-/AOh14GiIWFHtan62vtW1gz2Bv2bxL3rppefcadxzEVxRKQ=s64",
      "userId": "03254185060287524023"
     },
     "user_tz": -330
    },
    "id": "q1Skz7dlfTTV",
    "outputId": "cfc70a7f-bbb0-4c05-e160-24c0f43bc0c7",
    "papermill": {
     "duration": 1.228487,
     "end_time": "2023-03-16T14:19:03.580921",
     "exception": false,
     "start_time": "2023-03-16T14:19:02.352434",
     "status": "completed"
    },
    "tags": []
   },
   "outputs": [
    {
     "name": "stdout",
     "output_type": "stream",
     "text": [
      "Downloading http://yann.lecun.com/exdb/mnist/train-images-idx3-ubyte.gz\n",
      "Downloading http://yann.lecun.com/exdb/mnist/train-images-idx3-ubyte.gz to data/MNIST/raw/train-images-idx3-ubyte.gz\n"
     ]
    },
    {
     "data": {
      "application/vnd.jupyter.widget-view+json": {
       "model_id": "80b15a7857214354ae1b11934fe86cc2",
       "version_major": 2,
       "version_minor": 0
      },
      "text/plain": [
       "  0%|          | 0/9912422 [00:00<?, ?it/s]"
      ]
     },
     "metadata": {},
     "output_type": "display_data"
    },
    {
     "name": "stdout",
     "output_type": "stream",
     "text": [
      "Extracting data/MNIST/raw/train-images-idx3-ubyte.gz to data/MNIST/raw\n",
      "\n",
      "Downloading http://yann.lecun.com/exdb/mnist/train-labels-idx1-ubyte.gz\n",
      "Downloading http://yann.lecun.com/exdb/mnist/train-labels-idx1-ubyte.gz to data/MNIST/raw/train-labels-idx1-ubyte.gz\n"
     ]
    },
    {
     "data": {
      "application/vnd.jupyter.widget-view+json": {
       "model_id": "c5e1bf956b6d4c09905f92fa0e1d342e",
       "version_major": 2,
       "version_minor": 0
      },
      "text/plain": [
       "  0%|          | 0/28881 [00:00<?, ?it/s]"
      ]
     },
     "metadata": {},
     "output_type": "display_data"
    },
    {
     "name": "stdout",
     "output_type": "stream",
     "text": [
      "Extracting data/MNIST/raw/train-labels-idx1-ubyte.gz to data/MNIST/raw\n",
      "\n",
      "Downloading http://yann.lecun.com/exdb/mnist/t10k-images-idx3-ubyte.gz\n",
      "Downloading http://yann.lecun.com/exdb/mnist/t10k-images-idx3-ubyte.gz to data/MNIST/raw/t10k-images-idx3-ubyte.gz\n"
     ]
    },
    {
     "data": {
      "application/vnd.jupyter.widget-view+json": {
       "model_id": "f33e82c7d7b44fd1937a22a4b081c445",
       "version_major": 2,
       "version_minor": 0
      },
      "text/plain": [
       "  0%|          | 0/1648877 [00:00<?, ?it/s]"
      ]
     },
     "metadata": {},
     "output_type": "display_data"
    },
    {
     "name": "stdout",
     "output_type": "stream",
     "text": [
      "Extracting data/MNIST/raw/t10k-images-idx3-ubyte.gz to data/MNIST/raw\n",
      "\n",
      "Downloading http://yann.lecun.com/exdb/mnist/t10k-labels-idx1-ubyte.gz\n",
      "Downloading http://yann.lecun.com/exdb/mnist/t10k-labels-idx1-ubyte.gz to data/MNIST/raw/t10k-labels-idx1-ubyte.gz\n"
     ]
    },
    {
     "data": {
      "application/vnd.jupyter.widget-view+json": {
       "model_id": "9e30aa3906384d97b0af663b6714d3cb",
       "version_major": 2,
       "version_minor": 0
      },
      "text/plain": [
       "  0%|          | 0/4542 [00:00<?, ?it/s]"
      ]
     },
     "metadata": {},
     "output_type": "display_data"
    },
    {
     "name": "stdout",
     "output_type": "stream",
     "text": [
      "Extracting data/MNIST/raw/t10k-labels-idx1-ubyte.gz to data/MNIST/raw\n",
      "\n"
     ]
    }
   ],
   "source": [
    "# Download training dataset\n",
    "dataset = MNIST(root='data/', download=True)"
   ]
  },
  {
   "cell_type": "markdown",
   "id": "6821addf",
   "metadata": {
    "id": "Koi-fVbAfTTV",
    "papermill": {
     "duration": 0.031583,
     "end_time": "2023-03-16T14:19:03.645502",
     "exception": false,
     "start_time": "2023-03-16T14:19:03.613919",
     "status": "completed"
    },
    "tags": []
   },
   "source": [
    "When this statement is executed for the first time, it downloads the data to the `data/` directory next to the notebook and creates a PyTorch `Dataset`. On subsequent executions, the download is skipped as the data is already downloaded. Let's check the size of the dataset."
   ]
  },
  {
   "cell_type": "code",
   "execution_count": 4,
   "id": "7590f8ba",
   "metadata": {
    "execution": {
     "iopub.execute_input": "2023-03-16T14:19:03.712866Z",
     "iopub.status.busy": "2023-03-16T14:19:03.712413Z",
     "iopub.status.idle": "2023-03-16T14:19:03.720258Z",
     "shell.execute_reply": "2023-03-16T14:19:03.719333Z"
    },
    "executionInfo": {
     "elapsed": 843,
     "status": "ok",
     "timestamp": 1606577913840,
     "user": {
      "displayName": "Aakash N S",
      "photoUrl": "https://lh3.googleusercontent.com/a-/AOh14GiIWFHtan62vtW1gz2Bv2bxL3rppefcadxzEVxRKQ=s64",
      "userId": "03254185060287524023"
     },
     "user_tz": -330
    },
    "id": "W9mWyKqAfTTV",
    "outputId": "c3ad6519-90c4-4584-d314-805c68cf6a7a",
    "papermill": {
     "duration": 0.045284,
     "end_time": "2023-03-16T14:19:03.722686",
     "exception": false,
     "start_time": "2023-03-16T14:19:03.677402",
     "status": "completed"
    },
    "tags": []
   },
   "outputs": [
    {
     "data": {
      "text/plain": [
       "60000"
      ]
     },
     "execution_count": 4,
     "metadata": {},
     "output_type": "execute_result"
    }
   ],
   "source": [
    "len(dataset)"
   ]
  },
  {
   "cell_type": "markdown",
   "id": "2553f490",
   "metadata": {
    "id": "6pRKB16NfTTW",
    "papermill": {
     "duration": 0.032009,
     "end_time": "2023-03-16T14:19:03.786910",
     "exception": false,
     "start_time": "2023-03-16T14:19:03.754901",
     "status": "completed"
    },
    "tags": []
   },
   "source": [
    "The dataset has 60,000 images that we'll use to train the model. There is also an additional test set of 10,000 images used for evaluating models and reporting metrics in papers and reports. We can create the test dataset using the `MNIST` class by passing `train=False` to the constructor."
   ]
  },
  {
   "cell_type": "code",
   "execution_count": 5,
   "id": "c1c3c138",
   "metadata": {
    "execution": {
     "iopub.execute_input": "2023-03-16T14:19:03.854095Z",
     "iopub.status.busy": "2023-03-16T14:19:03.853691Z",
     "iopub.status.idle": "2023-03-16T14:19:03.870063Z",
     "shell.execute_reply": "2023-03-16T14:19:03.868714Z"
    },
    "executionInfo": {
     "elapsed": 881,
     "status": "ok",
     "timestamp": 1606577951429,
     "user": {
      "displayName": "Aakash N S",
      "photoUrl": "https://lh3.googleusercontent.com/a-/AOh14GiIWFHtan62vtW1gz2Bv2bxL3rppefcadxzEVxRKQ=s64",
      "userId": "03254185060287524023"
     },
     "user_tz": -330
    },
    "id": "zLqZQOlWfTTW",
    "outputId": "858232eb-e985-45ea-dff9-261c6e17567e",
    "papermill": {
     "duration": 0.053427,
     "end_time": "2023-03-16T14:19:03.872757",
     "exception": false,
     "start_time": "2023-03-16T14:19:03.819330",
     "status": "completed"
    },
    "tags": []
   },
   "outputs": [
    {
     "data": {
      "text/plain": [
       "10000"
      ]
     },
     "execution_count": 5,
     "metadata": {},
     "output_type": "execute_result"
    }
   ],
   "source": [
    "test_dataset = MNIST(root='data/', train=False)\n",
    "len(test_dataset)"
   ]
  },
  {
   "cell_type": "markdown",
   "id": "a429751e",
   "metadata": {
    "id": "bgJru-f7fTTW",
    "papermill": {
     "duration": 0.031619,
     "end_time": "2023-03-16T14:19:03.936188",
     "exception": false,
     "start_time": "2023-03-16T14:19:03.904569",
     "status": "completed"
    },
    "tags": []
   },
   "source": [
    "Let's look at a sample element from the training dataset."
   ]
  },
  {
   "cell_type": "code",
   "execution_count": 6,
   "id": "bbb9bb6c",
   "metadata": {
    "execution": {
     "iopub.execute_input": "2023-03-16T14:19:04.002534Z",
     "iopub.status.busy": "2023-03-16T14:19:04.002088Z",
     "iopub.status.idle": "2023-03-16T14:19:04.021463Z",
     "shell.execute_reply": "2023-03-16T14:19:04.020075Z"
    },
    "executionInfo": {
     "elapsed": 748,
     "status": "ok",
     "timestamp": 1606577960430,
     "user": {
      "displayName": "Aakash N S",
      "photoUrl": "https://lh3.googleusercontent.com/a-/AOh14GiIWFHtan62vtW1gz2Bv2bxL3rppefcadxzEVxRKQ=s64",
      "userId": "03254185060287524023"
     },
     "user_tz": -330
    },
    "id": "4ZmSZeFGfTTW",
    "outputId": "f38133b3-f015-4ab9-9773-3d196e17f9a1",
    "papermill": {
     "duration": 0.055755,
     "end_time": "2023-03-16T14:19:04.024085",
     "exception": false,
     "start_time": "2023-03-16T14:19:03.968330",
     "status": "completed"
    },
    "tags": []
   },
   "outputs": [
    {
     "data": {
      "text/plain": [
       "(<PIL.Image.Image image mode=L size=28x28>, 5)"
      ]
     },
     "execution_count": 6,
     "metadata": {},
     "output_type": "execute_result"
    }
   ],
   "source": [
    "dataset[0]"
   ]
  },
  {
   "cell_type": "markdown",
   "id": "20a303d4",
   "metadata": {
    "id": "2oBdGAc4fTTX",
    "papermill": {
     "duration": 0.033186,
     "end_time": "2023-03-16T14:19:04.089467",
     "exception": false,
     "start_time": "2023-03-16T14:19:04.056281",
     "status": "completed"
    },
    "tags": []
   },
   "source": [
    "It's a pair, consisting of a 28x28px image and a label. The image is an object of the class `PIL.Image.Image`, which is a part of the Python imaging library [Pillow](https://pillow.readthedocs.io/en/stable/). We can view the image within Jupyter using [`matplotlib`](https://matplotlib.org/), the de-facto plotting and graphing library for data science in Python."
   ]
  },
  {
   "cell_type": "code",
   "execution_count": 7,
   "id": "fd13bca4",
   "metadata": {
    "execution": {
     "iopub.execute_input": "2023-03-16T14:19:04.156450Z",
     "iopub.status.busy": "2023-03-16T14:19:04.155234Z",
     "iopub.status.idle": "2023-03-16T14:19:04.162467Z",
     "shell.execute_reply": "2023-03-16T14:19:04.161324Z"
    },
    "executionInfo": {
     "elapsed": 769,
     "status": "ok",
     "timestamp": 1606578019026,
     "user": {
      "displayName": "Aakash N S",
      "photoUrl": "https://lh3.googleusercontent.com/a-/AOh14GiIWFHtan62vtW1gz2Bv2bxL3rppefcadxzEVxRKQ=s64",
      "userId": "03254185060287524023"
     },
     "user_tz": -330
    },
    "id": "edyBIgXPfTTX",
    "papermill": {
     "duration": 0.043551,
     "end_time": "2023-03-16T14:19:04.164931",
     "exception": false,
     "start_time": "2023-03-16T14:19:04.121380",
     "status": "completed"
    },
    "tags": []
   },
   "outputs": [],
   "source": [
    "import matplotlib.pyplot as plt\n",
    "%matplotlib inline"
   ]
  },
  {
   "cell_type": "markdown",
   "id": "b6f2b801",
   "metadata": {
    "id": "TSVQL5vJfTTX",
    "papermill": {
     "duration": 0.032398,
     "end_time": "2023-03-16T14:19:04.229973",
     "exception": false,
     "start_time": "2023-03-16T14:19:04.197575",
     "status": "completed"
    },
    "tags": []
   },
   "source": [
    "The statement `%matplotlib inline` indicates to Jupyter that we want to plot the graphs within the notebook. Without this line, Jupyter will show the image in a popup. Statements starting with `%` are called magic commands and are used to configure the behavior of Jupyter itself. You can find a full list of magic commands here: https://ipython.readthedocs.io/en/stable/interactive/magics.html .\n",
    "\n",
    "Let's look at a couple of images from the dataset."
   ]
  },
  {
   "cell_type": "code",
   "execution_count": 8,
   "id": "88782536",
   "metadata": {
    "execution": {
     "iopub.execute_input": "2023-03-16T14:19:04.295909Z",
     "iopub.status.busy": "2023-03-16T14:19:04.295471Z",
     "iopub.status.idle": "2023-03-16T14:19:04.554436Z",
     "shell.execute_reply": "2023-03-16T14:19:04.553062Z"
    },
    "executionInfo": {
     "elapsed": 764,
     "status": "ok",
     "timestamp": 1606578085723,
     "user": {
      "displayName": "Aakash N S",
      "photoUrl": "https://lh3.googleusercontent.com/a-/AOh14GiIWFHtan62vtW1gz2Bv2bxL3rppefcadxzEVxRKQ=s64",
      "userId": "03254185060287524023"
     },
     "user_tz": -330
    },
    "id": "3cxwpTQLfTTX",
    "outputId": "0e67e177-1d1e-489e-f45e-3353d7960076",
    "papermill": {
     "duration": 0.294981,
     "end_time": "2023-03-16T14:19:04.557100",
     "exception": false,
     "start_time": "2023-03-16T14:19:04.262119",
     "status": "completed"
    },
    "tags": []
   },
   "outputs": [
    {
     "name": "stdout",
     "output_type": "stream",
     "text": [
      "Label: 5\n"
     ]
    },
    {
     "data": {
      "image/png": "[encoded data removed]",
      "text/plain": [
       "<Figure size 640x480 with 1 Axes>"
      ]
     },
     "metadata": {},
     "output_type": "display_data"
    }
   ],
   "source": [
    "image, label = dataset[0]\n",
    "plt.imshow(image, cmap='gray')\n",
    "print('Label:', label)"
   ]
  },
  {
   "cell_type": "code",
   "execution_count": 9,
   "id": "b29e83b7",
   "metadata": {
    "execution": {
     "iopub.execute_input": "2023-03-16T14:19:04.624509Z",
     "iopub.status.busy": "2023-03-16T14:19:04.624041Z",
     "iopub.status.idle": "2023-03-16T14:19:04.849842Z",
     "shell.execute_reply": "2023-03-16T14:19:04.848958Z"
    },
    "executionInfo": {
     "elapsed": 798,
     "status": "ok",
     "timestamp": 1606578094615,
     "user": {
      "displayName": "Aakash N S",
      "photoUrl": "https://lh3.googleusercontent.com/a-/AOh14GiIWFHtan62vtW1gz2Bv2bxL3rppefcadxzEVxRKQ=s64",
      "userId": "03254185060287524023"
     },
     "user_tz": -330
    },
    "id": "35ELPbM7fTTX",
    "outputId": "0bfafb5a-46c1-465d-aeff-b7ee7ff601bc",
    "papermill": {
     "duration": 0.262831,
     "end_time": "2023-03-16T14:19:04.852269",
     "exception": false,
     "start_time": "2023-03-16T14:19:04.589438",
     "status": "completed"
    },
    "tags": []
   },
   "outputs": [
    {
     "name": "stdout",
     "output_type": "stream",
     "text": [
      "Label: 3\n"
     ]
    },
    {
     "data": {
      "image/png": "[encoded data removed]",
      "text/plain": [
       "<Figure size 640x480 with 1 Axes>"
      ]
     },
     "metadata": {},
     "output_type": "display_data"
    }
   ],
   "source": [
    "image, label = dataset[10]\n",
    "plt.imshow(image, cmap='gray')\n",
    "print('Label:', label)"
   ]
  },
  {
   "cell_type": "markdown",
   "id": "f492a7ee",
   "metadata": {
    "id": "5vO2Gh9RfTTX",
    "papermill": {
     "duration": 0.032327,
     "end_time": "2023-03-16T14:19:04.917068",
     "exception": false,
     "start_time": "2023-03-16T14:19:04.884741",
     "status": "completed"
    },
    "tags": []
   },
   "source": [
    "It's evident that these images are relatively small in size, and recognizing the digits can sometimes be challenging even for the human eye. While it's useful to look at these images, there's just one problem here: PyTorch doesn't know how to work with images. We need to convert the images into tensors. We can do this by specifying a transform while creating our dataset."
   ]
  },
  {
   "cell_type": "code",
   "execution_count": 10,
   "id": "4e023669",
   "metadata": {
    "execution": {
     "iopub.execute_input": "2023-03-16T14:19:04.984933Z",
     "iopub.status.busy": "2023-03-16T14:19:04.983915Z",
     "iopub.status.idle": "2023-03-16T14:19:04.988788Z",
     "shell.execute_reply": "2023-03-16T14:19:04.987674Z"
    },
    "executionInfo": {
     "elapsed": 757,
     "status": "ok",
     "timestamp": 1606578158015,
     "user": {
      "displayName": "Aakash N S",
      "photoUrl": "https://lh3.googleusercontent.com/a-/AOh14GiIWFHtan62vtW1gz2Bv2bxL3rppefcadxzEVxRKQ=s64",
      "userId": "03254185060287524023"
     },
     "user_tz": -330
    },
    "id": "FBnad_UDfTTX",
    "papermill": {
     "duration": 0.041788,
     "end_time": "2023-03-16T14:19:04.991443",
     "exception": false,
     "start_time": "2023-03-16T14:19:04.949655",
     "status": "completed"
    },
    "tags": []
   },
   "outputs": [],
   "source": [
    "import torchvision.transforms as transforms"
   ]
  },
  {
   "cell_type": "markdown",
   "id": "a1b55be5",
   "metadata": {
    "id": "084T0emtfTTX",
    "papermill": {
     "duration": 0.032859,
     "end_time": "2023-03-16T14:19:05.057013",
     "exception": false,
     "start_time": "2023-03-16T14:19:05.024154",
     "status": "completed"
    },
    "tags": []
   },
   "source": [
    "PyTorch datasets allow us to specify one or more transformation functions that are applied to the images as they are loaded. The `torchvision.transforms` module contains many such predefined functions. We'll use the `ToTensor` transform to convert images into PyTorch tensors."
   ]
  },
  {
   "cell_type": "code",
   "execution_count": 11,
   "id": "8e7450a2",
   "metadata": {
    "execution": {
     "iopub.execute_input": "2023-03-16T14:19:05.123978Z",
     "iopub.status.busy": "2023-03-16T14:19:05.123556Z",
     "iopub.status.idle": "2023-03-16T14:19:05.213282Z",
     "shell.execute_reply": "2023-03-16T14:19:05.212251Z"
    },
    "executionInfo": {
     "elapsed": 927,
     "status": "ok",
     "timestamp": 1606578184520,
     "user": {
      "displayName": "Aakash N S",
      "photoUrl": "https://lh3.googleusercontent.com/a-/AOh14GiIWFHtan62vtW1gz2Bv2bxL3rppefcadxzEVxRKQ=s64",
      "userId": "03254185060287524023"
     },
     "user_tz": -330
    },
    "id": "hYvBQ3LzfTTX",
    "papermill": {
     "duration": 0.126656,
     "end_time": "2023-03-16T14:19:05.216164",
     "exception": false,
     "start_time": "2023-03-16T14:19:05.089508",
     "status": "completed"
    },
    "tags": []
   },
   "outputs": [],
   "source": [
    "# MNIST dataset (images and labels)\n",
    "dataset = MNIST(root='data/', \n",
    "                train=True,\n",
    "                transform=transforms.ToTensor())"
   ]
  },
  {
   "cell_type": "code",
   "execution_count": 12,
   "id": "3d09d694",
   "metadata": {
    "execution": {
     "iopub.execute_input": "2023-03-16T14:19:05.284143Z",
     "iopub.status.busy": "2023-03-16T14:19:05.283739Z",
     "iopub.status.idle": "2023-03-16T14:19:05.303987Z",
     "shell.execute_reply": "2023-03-16T14:19:05.302363Z"
    },
    "executionInfo": {
     "elapsed": 781,
     "status": "ok",
     "timestamp": 1606578201993,
     "user": {
      "displayName": "Aakash N S",
      "photoUrl": "https://lh3.googleusercontent.com/a-/AOh14GiIWFHtan62vtW1gz2Bv2bxL3rppefcadxzEVxRKQ=s64",
      "userId": "03254185060287524023"
     },
     "user_tz": -330
    },
    "id": "nCZ4h7jMfTTX",
    "outputId": "d182f619-8e57-4864-ec67-8f2b08c78fc7",
    "papermill": {
     "duration": 0.056651,
     "end_time": "2023-03-16T14:19:05.306744",
     "exception": false,
     "start_time": "2023-03-16T14:19:05.250093",
     "status": "completed"
    },
    "tags": []
   },
   "outputs": [
    {
     "name": "stdout",
     "output_type": "stream",
     "text": [
      "torch.Size([1, 28, 28]) 5\n"
     ]
    }
   ],
   "source": [
    "img_tensor, label = dataset[0]\n",
    "print(img_tensor.shape, label)"
   ]
  },
  {
   "cell_type": "markdown",
   "id": "b2c6b134",
   "metadata": {
    "id": "Io317DfSfTTX",
    "papermill": {
     "duration": 0.032756,
     "end_time": "2023-03-16T14:19:05.372910",
     "exception": false,
     "start_time": "2023-03-16T14:19:05.340154",
     "status": "completed"
    },
    "tags": []
   },
   "source": [
    "The image is now converted to a 1x28x28 tensor. The first dimension tracks color channels. The second and third dimensions represent pixels along the height and width of the image, respectively. Since images in the MNIST dataset are grayscale, there's just one channel. Other datasets have images with color, in which case there are three channels: red, green, and blue (RGB). \n",
    "\n",
    "Let's look at some sample values inside the tensor."
   ]
  },
  {
   "cell_type": "code",
   "execution_count": 13,
   "id": "edb6c425",
   "metadata": {
    "execution": {
     "iopub.execute_input": "2023-03-16T14:19:05.441994Z",
     "iopub.status.busy": "2023-03-16T14:19:05.441099Z",
     "iopub.status.idle": "2023-03-16T14:19:05.495209Z",
     "shell.execute_reply": "2023-03-16T14:19:05.493726Z"
    },
    "executionInfo": {
     "elapsed": 792,
     "status": "ok",
     "timestamp": 1606578295334,
     "user": {
      "displayName": "Aakash N S",
      "photoUrl": "https://lh3.googleusercontent.com/a-/AOh14GiIWFHtan62vtW1gz2Bv2bxL3rppefcadxzEVxRKQ=s64",
      "userId": "03254185060287524023"
     },
     "user_tz": -330
    },
    "id": "prZFgdtefTTX",
    "outputId": "835d4232-380d-456a-fafd-8f8474766ba0",
    "papermill": {
     "duration": 0.092381,
     "end_time": "2023-03-16T14:19:05.498690",
     "exception": false,
     "start_time": "2023-03-16T14:19:05.406309",
     "status": "completed"
    },
    "tags": []
   },
   "outputs": [
    {
     "name": "stdout",
     "output_type": "stream",
     "text": [
      "tensor([[0.0039, 0.6039, 0.9922, 0.3529, 0.0000],\n",
      "        [0.0000, 0.5451, 0.9922, 0.7451, 0.0078],\n",
      "        [0.0000, 0.0431, 0.7451, 0.9922, 0.2745],\n",
      "        [0.0000, 0.0000, 0.1373, 0.9451, 0.8824],\n",
      "        [0.0000, 0.0000, 0.0000, 0.3176, 0.9412]])\n",
      "tensor(1.) tensor(0.)\n"
     ]
    }
   ],
   "source": [
    "print(img_tensor[0,10:15,10:15])\n",
    "print(torch.max(img_tensor), torch.min(img_tensor))"
   ]
  },
  {
   "cell_type": "markdown",
   "id": "37058591",
   "metadata": {
    "id": "_2HjQ5P5fTTX",
    "papermill": {
     "duration": 0.032769,
     "end_time": "2023-03-16T14:19:05.564733",
     "exception": false,
     "start_time": "2023-03-16T14:19:05.531964",
     "status": "completed"
    },
    "tags": []
   },
   "source": [
    "The values range from 0 to 1, with `0` representing black, `1` white, and the values in between different shades of grey. We can also plot the tensor as an image using `plt.imshow`."
   ]
  },
  {
   "cell_type": "code",
   "execution_count": 14,
   "id": "8acd8242",
   "metadata": {
    "execution": {
     "iopub.execute_input": "2023-03-16T14:19:05.632884Z",
     "iopub.status.busy": "2023-03-16T14:19:05.631637Z",
     "iopub.status.idle": "2023-03-16T14:19:05.824703Z",
     "shell.execute_reply": "2023-03-16T14:19:05.823454Z"
    },
    "executionInfo": {
     "elapsed": 828,
     "status": "ok",
     "timestamp": 1606578335519,
     "user": {
      "displayName": "Aakash N S",
      "photoUrl": "https://lh3.googleusercontent.com/a-/AOh14GiIWFHtan62vtW1gz2Bv2bxL3rppefcadxzEVxRKQ=s64",
      "userId": "03254185060287524023"
     },
     "user_tz": -330
    },
    "id": "Fw-NvsqpfTTX",
    "outputId": "5b128f82-14dc-467b-c704-a2795dce6c72",
    "papermill": {
     "duration": 0.230471,
     "end_time": "2023-03-16T14:19:05.827703",
     "exception": false,
     "start_time": "2023-03-16T14:19:05.597232",
     "status": "completed"
    },
    "tags": []
   },
   "outputs": [
    {
     "data": {
      "image/png": "[encoded data removed]",
      "text/plain": [
       "<Figure size 640x480 with 1 Axes>"
      ]
     },
     "metadata": {},
     "output_type": "display_data"
    }
   ],
   "source": [
    "# Plot the image by passing in the 28x28 matrix\n",
    "plt.imshow(img_tensor[0,10:15,10:15], cmap='gray');"
   ]
  },
  {
   "cell_type": "markdown",
   "id": "e257e4bc",
   "metadata": {
    "id": "WudqBr3pfTTX",
    "papermill": {
     "duration": 0.033282,
     "end_time": "2023-03-16T14:19:05.894462",
     "exception": false,
     "start_time": "2023-03-16T14:19:05.861180",
     "status": "completed"
    },
    "tags": []
   },
   "source": [
    "Note that we need to pass just the 28x28 matrix to `plt.imshow`, without a channel dimension. We also pass a color map (`cmap=gray`) to indicate that we want to see a grayscale image."
   ]
  },
  {
   "cell_type": "markdown",
   "id": "e989a34f",
   "metadata": {
    "id": "qSKTZ8aifTTX",
    "papermill": {
     "duration": 0.032463,
     "end_time": "2023-03-16T14:19:05.960904",
     "exception": false,
     "start_time": "2023-03-16T14:19:05.928441",
     "status": "completed"
    },
    "tags": []
   },
   "source": [
    "## Training and Validation Datasets\n",
    "\n",
    "While building real-world machine learning models, it is quite common to split the dataset into three parts:\n",
    "\n",
    "1. **Training set** - used to train the model, i.e., compute the loss and adjust the model's weights using gradient descent.\n",
    "2. **Validation set** - used to evaluate the model during training, adjust hyperparameters (learning rate, etc.), and pick the best version of the model.\n",
    "3. **Test set** - used to compare different models or approaches and report the model's final accuracy.\n",
    "\n",
    "In the MNIST dataset, there are 60,000 training images and 10,000 test images. The test set is standardized so that different researchers can report their models' results against the same collection of images. \n",
    "\n",
    "Since there's no predefined validation set, we must manually split the 60,000 images into training and validation datasets. Let's set aside 10,000 randomly chosen images for validation. We can do this using the `random_spilt` method from PyTorch."
   ]
  },
  {
   "cell_type": "code",
   "execution_count": 15,
   "id": "0eb09b18",
   "metadata": {
    "execution": {
     "iopub.execute_input": "2023-03-16T14:19:06.029603Z",
     "iopub.status.busy": "2023-03-16T14:19:06.029148Z",
     "iopub.status.idle": "2023-03-16T14:19:06.044972Z",
     "shell.execute_reply": "2023-03-16T14:19:06.043722Z"
    },
    "executionInfo": {
     "elapsed": 802,
     "status": "ok",
     "timestamp": 1606578530215,
     "user": {
      "displayName": "Aakash N S",
      "photoUrl": "https://lh3.googleusercontent.com/a-/AOh14GiIWFHtan62vtW1gz2Bv2bxL3rppefcadxzEVxRKQ=s64",
      "userId": "03254185060287524023"
     },
     "user_tz": -330
    },
    "id": "1dcE0OPBfTTX",
    "outputId": "be74ca6a-d40e-4ccf-cc24-ea6231a6e097",
    "papermill": {
     "duration": 0.053487,
     "end_time": "2023-03-16T14:19:06.047458",
     "exception": false,
     "start_time": "2023-03-16T14:19:05.993971",
     "status": "completed"
    },
    "tags": []
   },
   "outputs": [
    {
     "data": {
      "text/plain": [
       "(50000, 10000)"
      ]
     },
     "execution_count": 15,
     "metadata": {},
     "output_type": "execute_result"
    }
   ],
   "source": [
    "from torch.utils.data import random_split\n",
    "\n",
    "train_ds, val_ds = random_split(dataset, [50000, 10000])\n",
    "len(train_ds), len(val_ds)"
   ]
  },
  {
   "cell_type": "markdown",
   "id": "fd7cec66",
   "metadata": {
    "id": "CACcvMnZfTTX",
    "papermill": {
     "duration": 0.033169,
     "end_time": "2023-03-16T14:19:06.114573",
     "exception": false,
     "start_time": "2023-03-16T14:19:06.081404",
     "status": "completed"
    },
    "tags": []
   },
   "source": [
    "It's essential to choose a random sample for creating a validation set. Training data is often sorted by the target labels, i.e., images of 0s, followed by 1s, followed by 2s, etc. If we create a validation set using the last 20% of images, it would only consist of 8s and 9s. In contrast, the training set would contain no 8s or 9s. Such a training-validation would make it impossible to train a useful model.\n",
    "\n",
    "We can now create data loaders to help us load the data in batches. We'll use a batch size of 128.\n",
    "\n",
    "\n"
   ]
  },
  {
   "cell_type": "code",
   "execution_count": 16,
   "id": "c69702cd",
   "metadata": {
    "execution": {
     "iopub.execute_input": "2023-03-16T14:19:06.185474Z",
     "iopub.status.busy": "2023-03-16T14:19:06.184792Z",
     "iopub.status.idle": "2023-03-16T14:19:06.190823Z",
     "shell.execute_reply": "2023-03-16T14:19:06.189711Z"
    },
    "executionInfo": {
     "elapsed": 846,
     "status": "ok",
     "timestamp": 1606578689940,
     "user": {
      "displayName": "Aakash N S",
      "photoUrl": "https://lh3.googleusercontent.com/a-/AOh14GiIWFHtan62vtW1gz2Bv2bxL3rppefcadxzEVxRKQ=s64",
      "userId": "03254185060287524023"
     },
     "user_tz": -330
    },
    "id": "pD_oD7BTfTTX",
    "papermill": {
     "duration": 0.043948,
     "end_time": "2023-03-16T14:19:06.193084",
     "exception": false,
     "start_time": "2023-03-16T14:19:06.149136",
     "status": "completed"
    },
    "tags": []
   },
   "outputs": [],
   "source": [
    "from torch.utils.data import DataLoader\n",
    "\n",
    "batch_size = 128\n",
    "\n",
    "train_loader = DataLoader(train_ds, batch_size, shuffle=True)\n",
    "val_loader = DataLoader(val_ds, batch_size)"
   ]
  },
  {
   "cell_type": "markdown",
   "id": "a13ba09e",
   "metadata": {
    "id": "NCtbVhkOfTTX",
    "papermill": {
     "duration": 0.032776,
     "end_time": "2023-03-16T14:19:06.258996",
     "exception": false,
     "start_time": "2023-03-16T14:19:06.226220",
     "status": "completed"
    },
    "tags": []
   },
   "source": [
    "We set `shuffle=True` for the training data loader to ensure that the batches generated in each epoch are different. This randomization helps generalize & speed up the training process. On the other hand, since the validation data loader is used only for evaluating the model, there is no need to shuffle the images. \n"
   ]
  },
  {
   "cell_type": "markdown",
   "id": "e097d98a",
   "metadata": {
    "id": "HEyJshGxfTTY",
    "papermill": {
     "duration": 0.032582,
     "end_time": "2023-03-16T14:19:06.324760",
     "exception": false,
     "start_time": "2023-03-16T14:19:06.292178",
     "status": "completed"
    },
    "tags": []
   },
   "source": [
    "### Save and upload your notebook\n",
    "\n",
    "Whether you're running this Jupyter notebook online or on your computer, it's essential to save your work from time to time. You can continue working on a saved notebook later or share it with friends and colleagues to let them execute your code. [Jovian](https://jovian.ai/platform-features) offers an easy way of saving and sharing your Jupyter notebooks online."
   ]
  },
  {
   "cell_type": "code",
   "execution_count": 17,
   "id": "2a416b26",
   "metadata": {
    "execution": {
     "iopub.execute_input": "2023-03-16T14:19:06.392753Z",
     "iopub.status.busy": "2023-03-16T14:19:06.392356Z",
     "iopub.status.idle": "2023-03-16T14:19:20.853968Z",
     "shell.execute_reply": "2023-03-16T14:19:20.852423Z"
    },
    "executionInfo": {
     "elapsed": 3385,
     "status": "ok",
     "timestamp": 1606578705431,
     "user": {
      "displayName": "Aakash N S",
      "photoUrl": "https://lh3.googleusercontent.com/a-/AOh14GiIWFHtan62vtW1gz2Bv2bxL3rppefcadxzEVxRKQ=s64",
      "userId": "03254185060287524023"
     },
     "user_tz": -330
    },
    "id": "QWDMN_nsfTTY",
    "papermill": {
     "duration": 14.499471,
     "end_time": "2023-03-16T14:19:20.857057",
     "exception": false,
     "start_time": "2023-03-16T14:19:06.357586",
     "status": "completed"
    },
    "tags": []
   },
   "outputs": [
    {
     "name": "stdout",
     "output_type": "stream",
     "text": [
      "\u001b[33mWARNING: Running pip as the 'root' user can result in broken permissions and conflicting behaviour with the system package manager. It is recommended to use a virtual environment instead: https://pip.pypa.io/warnings/venv\u001b[0m\u001b[33m\r\n",
      "\u001b[0m"
     ]
    }
   ],
   "source": [
    "# Install the library\n",
    "!pip install jovian --upgrade --quiet"
   ]
  },
  {
   "cell_type": "markdown",
   "id": "125b3b10",
   "metadata": {
    "id": "rUFBNaPFfTTY",
    "papermill": {
     "duration": 0.032779,
     "end_time": "2023-03-16T14:19:20.922653",
     "exception": false,
     "start_time": "2023-03-16T14:19:20.889874",
     "status": "completed"
    },
    "tags": []
   },
   "source": [
    "`jovian.commit` uploads the notebook to your Jovian account, captures the Python environment, and creates a shareable link for your notebook, as shown above. You can use this link to share your work and let anyone (including you) run your notebooks and reproduce your work."
   ]
  },
  {
   "cell_type": "markdown",
   "id": "8463cd2a",
   "metadata": {
    "id": "Fy-lajKQfTTY",
    "papermill": {
     "duration": 0.032769,
     "end_time": "2023-03-16T14:19:20.989142",
     "exception": false,
     "start_time": "2023-03-16T14:19:20.956373",
     "status": "completed"
    },
    "tags": []
   },
   "source": [
    "## Model\n",
    "\n",
    "Now that we have prepared our data loaders, we can define our model.\n",
    "\n",
    "* A **logistic regression** model is almost identical to a linear regression model. It contains weights and bias matrices, and the output is obtained using simple matrix operations (`pred = x @ w.t() + b`). \n",
    "\n",
    "* As we did with linear regression, we can use `nn.Linear` to create the model instead of manually creating and initializing the matrices.\n",
    "\n",
    "* Since `nn.Linear` expects each training example to be a vector, each `1x28x28` image tensor is _flattened_ into a vector of size 784 `(28*28)` before being passed into the model. \n",
    "\n",
    "* The output for each image is a vector of size 10, with each element signifying the probability of a particular target label (i.e., 0 to 9). The predicted label for an image is simply the one with the highest probability."
   ]
  },
  {
   "cell_type": "code",
   "execution_count": 18,
   "id": "4b19048a",
   "metadata": {
    "execution": {
     "iopub.execute_input": "2023-03-16T14:19:21.057686Z",
     "iopub.status.busy": "2023-03-16T14:19:21.057196Z",
     "iopub.status.idle": "2023-03-16T14:19:21.066952Z",
     "shell.execute_reply": "2023-03-16T14:19:21.065907Z"
    },
    "executionInfo": {
     "elapsed": 1078,
     "status": "ok",
     "timestamp": 1606579070048,
     "user": {
      "displayName": "Aakash N S",
      "photoUrl": "https://lh3.googleusercontent.com/a-/AOh14GiIWFHtan62vtW1gz2Bv2bxL3rppefcadxzEVxRKQ=s64",
      "userId": "03254185060287524023"
     },
     "user_tz": -330
    },
    "id": "zzVbD7pifTTY",
    "papermill": {
     "duration": 0.04728,
     "end_time": "2023-03-16T14:19:21.069410",
     "exception": false,
     "start_time": "2023-03-16T14:19:21.022130",
     "status": "completed"
    },
    "tags": []
   },
   "outputs": [],
   "source": [
    "import torch.nn as nn\n",
    "\n",
    "input_size = 28\n",
    "num_classes = 10\n",
    "\n",
    "# Logistic regression model\n",
    "model = nn.Linear(input_size, num_classes)"
   ]
  },
  {
   "cell_type": "markdown",
   "id": "2f35b8c0",
   "metadata": {
    "id": "2ilamccMfTTY",
    "papermill": {
     "duration": 0.03412,
     "end_time": "2023-03-16T14:19:21.138454",
     "exception": false,
     "start_time": "2023-03-16T14:19:21.104334",
     "status": "completed"
    },
    "tags": []
   },
   "source": [
    "Of course, this model is a lot larger than our previous model in terms of the number of parameters. Let's take a look at the weights and biases."
   ]
  },
  {
   "cell_type": "code",
   "execution_count": 19,
   "id": "bf354962",
   "metadata": {
    "execution": {
     "iopub.execute_input": "2023-03-16T14:19:21.206956Z",
     "iopub.status.busy": "2023-03-16T14:19:21.206535Z",
     "iopub.status.idle": "2023-03-16T14:19:21.218277Z",
     "shell.execute_reply": "2023-03-16T14:19:21.216834Z"
    },
    "executionInfo": {
     "elapsed": 765,
     "status": "ok",
     "timestamp": 1606579085171,
     "user": {
      "displayName": "Aakash N S",
      "photoUrl": "https://lh3.googleusercontent.com/a-/AOh14GiIWFHtan62vtW1gz2Bv2bxL3rppefcadxzEVxRKQ=s64",
      "userId": "03254185060287524023"
     },
     "user_tz": -330
    },
    "id": "HAj8gVdUfTTY",
    "outputId": "3569f384-390a-4555-949f-a85b79a22ed0",
    "papermill": {
     "duration": 0.049609,
     "end_time": "2023-03-16T14:19:21.221286",
     "exception": false,
     "start_time": "2023-03-16T14:19:21.171677",
     "status": "completed"
    },
    "tags": []
   },
   "outputs": [
    {
     "name": "stdout",
     "output_type": "stream",
     "text": [
      "torch.Size([10, 28])\n"
     ]
    },
    {
     "data": {
      "text/plain": [
       "Parameter containing:\n",
       "tensor([[-0.0920, -0.1445, -0.0189,  0.0347, -0.0614,  0.0206, -0.1830,  0.1194,\n",
       "         -0.0577, -0.0064, -0.0816, -0.1476, -0.1884,  0.0282, -0.1016, -0.1050,\n",
       "          0.0701, -0.1764,  0.0626, -0.1225,  0.0086,  0.1762, -0.0697,  0.0141,\n",
       "         -0.1628,  0.1846, -0.0053, -0.1366],\n",
       "        [-0.1728, -0.1156, -0.0245,  0.0540,  0.0823, -0.1344, -0.1371,  0.0953,\n",
       "          0.1274, -0.1060, -0.1176,  0.1438, -0.0276, -0.1446, -0.0925,  0.1201,\n",
       "          0.0109, -0.1341,  0.0976, -0.1614,  0.1491,  0.1059,  0.0182, -0.1879,\n",
       "          0.1368,  0.0048, -0.1055,  0.0573],\n",
       "        [-0.1010, -0.0744,  0.0936,  0.1098, -0.1053, -0.0378,  0.0203, -0.1703,\n",
       "         -0.0426, -0.0383, -0.1837, -0.1350,  0.0361,  0.1482, -0.0049, -0.1696,\n",
       "          0.0245, -0.1056, -0.1800, -0.1147,  0.0392, -0.1690, -0.0275, -0.1735,\n",
       "         -0.1780, -0.0799,  0.1462,  0.0345],\n",
       "        [-0.0860,  0.1055,  0.1653, -0.0194, -0.1210,  0.0854, -0.1470,  0.0660,\n",
       "          0.1165,  0.0574, -0.0137, -0.1206,  0.0986, -0.0865, -0.1002,  0.1396,\n",
       "          0.0016, -0.0450, -0.1516, -0.0589, -0.0112,  0.0080,  0.1511, -0.1590,\n",
       "          0.1599, -0.0180, -0.0871, -0.0909],\n",
       "        [ 0.0201, -0.1698, -0.1233, -0.0542,  0.0435, -0.1717, -0.1793,  0.1826,\n",
       "         -0.1226, -0.1666, -0.0928, -0.1355, -0.0721, -0.0097,  0.0286, -0.1877,\n",
       "          0.1441, -0.0077,  0.0866,  0.0953, -0.0456, -0.0335,  0.0780,  0.1828,\n",
       "         -0.1049,  0.0296, -0.1768,  0.0457],\n",
       "        [-0.1770, -0.1742,  0.0689,  0.0948, -0.1861, -0.1113, -0.0614,  0.1561,\n",
       "         -0.1735, -0.0627, -0.0325,  0.1107, -0.1571,  0.1267, -0.0564, -0.0670,\n",
       "         -0.0114, -0.0359,  0.0581,  0.0897, -0.0069, -0.0983, -0.0445, -0.0800,\n",
       "         -0.1746,  0.0403, -0.0178, -0.1785],\n",
       "        [ 0.1542, -0.1325, -0.0751,  0.1649, -0.1858,  0.1210, -0.1463,  0.1209,\n",
       "         -0.0593, -0.0237, -0.0179,  0.0747, -0.1421,  0.0459, -0.0968,  0.0281,\n",
       "         -0.1134, -0.0273,  0.0583,  0.1734,  0.0792,  0.1051,  0.1824, -0.0351,\n",
       "         -0.1771, -0.1506, -0.1475, -0.0611],\n",
       "        [ 0.1441, -0.0140,  0.0964,  0.1538, -0.0577,  0.1870, -0.0486, -0.0149,\n",
       "         -0.1255,  0.1678, -0.1234, -0.1540,  0.1665, -0.0396,  0.1571,  0.0993,\n",
       "          0.0497, -0.0642, -0.0460,  0.0173,  0.0649,  0.1748,  0.1065,  0.0328,\n",
       "          0.0569,  0.1886, -0.0550,  0.0871],\n",
       "        [-0.0986,  0.0636,  0.1673, -0.0469, -0.0489, -0.0586, -0.1456,  0.0654,\n",
       "         -0.1786, -0.0594, -0.0622,  0.1453,  0.0762, -0.0511,  0.1795,  0.1300,\n",
       "          0.0309, -0.0089,  0.1621, -0.0516, -0.1799,  0.1805,  0.1345, -0.0679,\n",
       "          0.1319,  0.1673,  0.1286,  0.0102],\n",
       "        [ 0.1737,  0.1514, -0.0710, -0.1258,  0.1878, -0.1796, -0.1287,  0.1343,\n",
       "         -0.0823, -0.0320,  0.1815,  0.0264,  0.1670,  0.1391,  0.0782,  0.1656,\n",
       "          0.1244, -0.1528,  0.1075,  0.1151, -0.1180, -0.1197, -0.0033,  0.1122,\n",
       "         -0.1660,  0.1677,  0.0050, -0.0942]], requires_grad=True)"
      ]
     },
     "execution_count": 19,
     "metadata": {},
     "output_type": "execute_result"
    }
   ],
   "source": [
    "print(model.weight.shape)\n",
    "model.weight"
   ]
  },
  {
   "cell_type": "code",
   "execution_count": 20,
   "id": "8fbf1b9d",
   "metadata": {
    "execution": {
     "iopub.execute_input": "2023-03-16T14:19:21.290700Z",
     "iopub.status.busy": "2023-03-16T14:19:21.290275Z",
     "iopub.status.idle": "2023-03-16T14:19:21.299427Z",
     "shell.execute_reply": "2023-03-16T14:19:21.298160Z"
    },
    "executionInfo": {
     "elapsed": 1187,
     "status": "ok",
     "timestamp": 1606579093000,
     "user": {
      "displayName": "Aakash N S",
      "photoUrl": "https://lh3.googleusercontent.com/a-/AOh14GiIWFHtan62vtW1gz2Bv2bxL3rppefcadxzEVxRKQ=s64",
      "userId": "03254185060287524023"
     },
     "user_tz": -330
    },
    "id": "fRnviQ34fTTY",
    "outputId": "25bf0abf-427c-4079-8cc2-0d03eb6af0b2",
    "papermill": {
     "duration": 0.046332,
     "end_time": "2023-03-16T14:19:21.301744",
     "exception": false,
     "start_time": "2023-03-16T14:19:21.255412",
     "status": "completed"
    },
    "tags": []
   },
   "outputs": [
    {
     "name": "stdout",
     "output_type": "stream",
     "text": [
      "torch.Size([10])\n"
     ]
    },
    {
     "data": {
      "text/plain": [
       "Parameter containing:\n",
       "tensor([ 0.1677,  0.1264, -0.0649, -0.0699,  0.1870,  0.1749, -0.0438, -0.1166,\n",
       "         0.0688, -0.1755], requires_grad=True)"
      ]
     },
     "execution_count": 20,
     "metadata": {},
     "output_type": "execute_result"
    }
   ],
   "source": [
    "print(model.bias.shape)\n",
    "model.bias"
   ]
  },
  {
   "cell_type": "markdown",
   "id": "c34cf22d",
   "metadata": {
    "id": "Is6yNefafTTY",
    "papermill": {
     "duration": 0.033356,
     "end_time": "2023-03-16T14:19:21.369579",
     "exception": false,
     "start_time": "2023-03-16T14:19:21.336223",
     "status": "completed"
    },
    "tags": []
   },
   "source": [
    "Although there are a total of 7850 parameters here, conceptually, nothing has changed so far. Let's try and generate some outputs using our model. We'll take the first batch of 100 images from our dataset and pass them into our model."
   ]
  },
  {
   "cell_type": "code",
   "execution_count": 21,
   "id": "bb718862",
   "metadata": {
    "execution": {
     "iopub.execute_input": "2023-03-16T14:19:21.438967Z",
     "iopub.status.busy": "2023-03-16T14:19:21.438565Z",
     "iopub.status.idle": "2023-03-16T14:19:21.497371Z",
     "shell.execute_reply": "2023-03-16T14:19:21.496321Z"
    },
    "executionInfo": {
     "elapsed": 645,
     "status": "error",
     "timestamp": 1606579153232,
     "user": {
      "displayName": "Aakash N S",
      "photoUrl": "https://lh3.googleusercontent.com/a-/AOh14GiIWFHtan62vtW1gz2Bv2bxL3rppefcadxzEVxRKQ=s64",
      "userId": "03254185060287524023"
     },
     "user_tz": -330
    },
    "id": "qIuxYOy3fTTY",
    "outputId": "a58c1ab0-bddb-456a-d9a4-d27d9b6d8332",
    "papermill": {
     "duration": 0.097182,
     "end_time": "2023-03-16T14:19:21.500553",
     "exception": false,
     "start_time": "2023-03-16T14:19:21.403371",
     "status": "completed"
    },
    "tags": []
   },
   "outputs": [
    {
     "name": "stdout",
     "output_type": "stream",
     "text": [
      "tensor([2, 9, 0, 6, 1, 2, 2, 1, 2, 6, 2, 3, 3, 5, 4, 4, 8, 2, 9, 8, 6, 7, 7, 9,\n",
      "        2, 7, 0, 1, 3, 0, 9, 9, 0, 6, 0, 3, 8, 0, 3, 7, 1, 0, 1, 8, 3, 2, 9, 7,\n",
      "        5, 4, 5, 1, 6, 8, 6, 1, 3, 2, 6, 9, 3, 0, 6, 9, 9, 2, 3, 0, 5, 3, 2, 3,\n",
      "        1, 8, 4, 4, 7, 6, 9, 1, 3, 2, 5, 3, 6, 5, 7, 6, 6, 3, 8, 6, 1, 4, 5, 8,\n",
      "        7, 5, 7, 2, 1, 7, 4, 5, 8, 0, 2, 0, 8, 9, 2, 0, 7, 3, 5, 4, 0, 3, 9, 4,\n",
      "        2, 6, 1, 7, 1, 0, 0, 6])\n",
      "torch.Size([128, 1, 28, 28])\n",
      "tensor([[[[ 0.1677,  0.1264, -0.0649,  ..., -0.1166,  0.0688, -0.1755],\n",
      "          [ 0.1677,  0.1264, -0.0649,  ..., -0.1166,  0.0688, -0.1755],\n",
      "          [ 0.1677,  0.1264, -0.0649,  ..., -0.1166,  0.0688, -0.1755],\n",
      "          ...,\n",
      "          [ 0.1677,  0.1264, -0.0649,  ..., -0.1166,  0.0688, -0.1755],\n",
      "          [ 0.1677,  0.1264, -0.0649,  ..., -0.1166,  0.0688, -0.1755],\n",
      "          [ 0.1677,  0.1264, -0.0649,  ..., -0.1166,  0.0688, -0.1755]]],\n",
      "\n",
      "\n",
      "        [[[ 0.1677,  0.1264, -0.0649,  ..., -0.1166,  0.0688, -0.1755],\n",
      "          [ 0.1677,  0.1264, -0.0649,  ..., -0.1166,  0.0688, -0.1755],\n",
      "          [ 0.1677,  0.1264, -0.0649,  ..., -0.1166,  0.0688, -0.1755],\n",
      "          ...,\n",
      "          [ 0.0222, -0.0364, -0.0179,  ...,  0.0692,  0.2717,  0.1166],\n",
      "          [ 0.0413,  0.1652, -0.1881,  ...,  0.0330,  0.2517, -0.0142],\n",
      "          [ 0.1677,  0.1264, -0.0649,  ..., -0.1166,  0.0688, -0.1755]]],\n",
      "\n",
      "\n",
      "        [[[ 0.1677,  0.1264, -0.0649,  ..., -0.1166,  0.0688, -0.1755],\n",
      "          [ 0.1677,  0.1264, -0.0649,  ..., -0.1166,  0.0688, -0.1755],\n",
      "          [ 0.1677,  0.1264, -0.0649,  ..., -0.1166,  0.0688, -0.1755],\n",
      "          ...,\n",
      "          [ 0.1677,  0.1264, -0.0649,  ..., -0.1166,  0.0688, -0.1755],\n",
      "          [ 0.1677,  0.1264, -0.0649,  ..., -0.1166,  0.0688, -0.1755],\n",
      "          [ 0.1677,  0.1264, -0.0649,  ..., -0.1166,  0.0688, -0.1755]]],\n",
      "\n",
      "\n",
      "        ...,\n",
      "\n",
      "\n",
      "        [[[ 0.1677,  0.1264, -0.0649,  ..., -0.1166,  0.0688, -0.1755],\n",
      "          [ 0.1677,  0.1264, -0.0649,  ..., -0.1166,  0.0688, -0.1755],\n",
      "          [ 0.1677,  0.1264, -0.0649,  ..., -0.1166,  0.0688, -0.1755],\n",
      "          ...,\n",
      "          [ 0.1677,  0.1264, -0.0649,  ..., -0.1166,  0.0688, -0.1755],\n",
      "          [ 0.1677,  0.1264, -0.0649,  ..., -0.1166,  0.0688, -0.1755],\n",
      "          [ 0.1677,  0.1264, -0.0649,  ..., -0.1166,  0.0688, -0.1755]]],\n",
      "\n",
      "\n",
      "        [[[ 0.1677,  0.1264, -0.0649,  ..., -0.1166,  0.0688, -0.1755],\n",
      "          [ 0.1677,  0.1264, -0.0649,  ..., -0.1166,  0.0688, -0.1755],\n",
      "          [ 0.1677,  0.1264, -0.0649,  ..., -0.1166,  0.0688, -0.1755],\n",
      "          ...,\n",
      "          [ 0.1677,  0.1264, -0.0649,  ..., -0.1166,  0.0688, -0.1755],\n",
      "          [ 0.1677,  0.1264, -0.0649,  ..., -0.1166,  0.0688, -0.1755],\n",
      "          [ 0.1677,  0.1264, -0.0649,  ..., -0.1166,  0.0688, -0.1755]]],\n",
      "\n",
      "\n",
      "        [[[ 0.1677,  0.1264, -0.0649,  ..., -0.1166,  0.0688, -0.1755],\n",
      "          [ 0.1677,  0.1264, -0.0649,  ..., -0.1166,  0.0688, -0.1755],\n",
      "          [ 0.3154,  0.3531, -0.2183,  ...,  0.1602,  0.1820, -0.3852],\n",
      "          ...,\n",
      "          [ 0.1677,  0.1264, -0.0649,  ..., -0.1166,  0.0688, -0.1755],\n",
      "          [ 0.1677,  0.1264, -0.0649,  ..., -0.1166,  0.0688, -0.1755],\n",
      "          [ 0.1677,  0.1264, -0.0649,  ..., -0.1166,  0.0688, -0.1755]]]],\n",
      "       grad_fn=<AddBackward0>)\n"
     ]
    }
   ],
   "source": [
    "for images, labels in train_loader:\n",
    "    print(labels)\n",
    "    print(images.shape)\n",
    "    outputs = model(images)\n",
    "    print(outputs)\n",
    "    break"
   ]
  },
  {
   "cell_type": "code",
   "execution_count": 22,
   "id": "39531114",
   "metadata": {
    "execution": {
     "iopub.execute_input": "2023-03-16T14:19:21.570850Z",
     "iopub.status.busy": "2023-03-16T14:19:21.570185Z",
     "iopub.status.idle": "2023-03-16T14:19:21.576879Z",
     "shell.execute_reply": "2023-03-16T14:19:21.576006Z"
    },
    "executionInfo": {
     "elapsed": 1092,
     "status": "ok",
     "timestamp": 1606579210707,
     "user": {
      "displayName": "Aakash N S",
      "photoUrl": "https://lh3.googleusercontent.com/a-/AOh14GiIWFHtan62vtW1gz2Bv2bxL3rppefcadxzEVxRKQ=s64",
      "userId": "03254185060287524023"
     },
     "user_tz": -330
    },
    "id": "9m-JsBr6lSO8",
    "outputId": "fe780b2f-efd3-48cf-b8c9-8beb6a6e2a25",
    "papermill": {
     "duration": 0.045018,
     "end_time": "2023-03-16T14:19:21.579068",
     "exception": false,
     "start_time": "2023-03-16T14:19:21.534050",
     "status": "completed"
    },
    "tags": []
   },
   "outputs": [
    {
     "data": {
      "text/plain": [
       "torch.Size([128, 1, 28, 28])"
      ]
     },
     "execution_count": 22,
     "metadata": {},
     "output_type": "execute_result"
    }
   ],
   "source": [
    "images.shape"
   ]
  },
  {
   "cell_type": "code",
   "execution_count": 23,
   "id": "d0340e4b",
   "metadata": {
    "execution": {
     "iopub.execute_input": "2023-03-16T14:19:21.649826Z",
     "iopub.status.busy": "2023-03-16T14:19:21.649347Z",
     "iopub.status.idle": "2023-03-16T14:19:21.660694Z",
     "shell.execute_reply": "2023-03-16T14:19:21.659390Z"
    },
    "executionInfo": {
     "elapsed": 940,
     "status": "ok",
     "timestamp": 1606579229874,
     "user": {
      "displayName": "Aakash N S",
      "photoUrl": "https://lh3.googleusercontent.com/a-/AOh14GiIWFHtan62vtW1gz2Bv2bxL3rppefcadxzEVxRKQ=s64",
      "userId": "03254185060287524023"
     },
     "user_tz": -330
    },
    "id": "X3_ktSR1lVJQ",
    "outputId": "910c18e6-102d-4175-fd56-0e20c7f57461",
    "papermill": {
     "duration": 0.050854,
     "end_time": "2023-03-16T14:19:21.664375",
     "exception": false,
     "start_time": "2023-03-16T14:19:21.613521",
     "status": "completed"
    },
    "tags": []
   },
   "outputs": [
    {
     "data": {
      "text/plain": [
       "torch.Size([128, 784])"
      ]
     },
     "execution_count": 23,
     "metadata": {},
     "output_type": "execute_result"
    }
   ],
   "source": [
    "images.reshape(128, 784).shape"
   ]
  },
  {
   "cell_type": "markdown",
   "id": "49f991af",
   "metadata": {
    "id": "-lT2ZhMjfTTY",
    "papermill": {
     "duration": 0.041479,
     "end_time": "2023-03-16T14:19:21.757478",
     "exception": false,
     "start_time": "2023-03-16T14:19:21.715999",
     "status": "completed"
    },
    "tags": []
   },
   "source": [
    "The code above leads to an error because our input data does not have the right shape. Our images are of the shape 1x28x28, but we need them to be vectors of size 784, i.e., we need to flatten them. We'll use the `.reshape` method of a tensor, which will allow us to efficiently 'view' each image as a flat vector without really creating a copy of the underlying data. To include this additional functionality within our model, we need to define a custom model by extending the `nn.Module` class from PyTorch. \n",
    "\n",
    "A class in Python provides a \"blueprint\" for creating objects. Let's look at an example of defining a new class in Python."
   ]
  },
  {
   "cell_type": "code",
   "execution_count": 24,
   "id": "fab8f5c1",
   "metadata": {
    "execution": {
     "iopub.execute_input": "2023-03-16T14:19:21.827477Z",
     "iopub.status.busy": "2023-03-16T14:19:21.826977Z",
     "iopub.status.idle": "2023-03-16T14:19:21.833291Z",
     "shell.execute_reply": "2023-03-16T14:19:21.832071Z"
    },
    "executionInfo": {
     "elapsed": 919,
     "status": "ok",
     "timestamp": 1606579313914,
     "user": {
      "displayName": "Aakash N S",
      "photoUrl": "https://lh3.googleusercontent.com/a-/AOh14GiIWFHtan62vtW1gz2Bv2bxL3rppefcadxzEVxRKQ=s64",
      "userId": "03254185060287524023"
     },
     "user_tz": -330
    },
    "id": "6u8YjzDwfTTY",
    "papermill": {
     "duration": 0.044403,
     "end_time": "2023-03-16T14:19:21.835782",
     "exception": false,
     "start_time": "2023-03-16T14:19:21.791379",
     "status": "completed"
    },
    "tags": []
   },
   "outputs": [],
   "source": [
    "class Person:\n",
    "    # Class constructor\n",
    "    def __init__(self, name, age):\n",
    "        # Object properties\n",
    "        self.name = name\n",
    "        self.age = age\n",
    "    \n",
    "    # Method\n",
    "    def say_hello(self):\n",
    "        print(\"Hello my name is \" + self.name + \"!\")"
   ]
  },
  {
   "cell_type": "markdown",
   "id": "713e2239",
   "metadata": {
    "id": "Z3IlFc_8fTTY",
    "papermill": {
     "duration": 0.033544,
     "end_time": "2023-03-16T14:19:21.903206",
     "exception": false,
     "start_time": "2023-03-16T14:19:21.869662",
     "status": "completed"
    },
    "tags": []
   },
   "source": [
    "Here's how we create or _instantiate_ an object of the class `Person`."
   ]
  },
  {
   "cell_type": "code",
   "execution_count": 25,
   "id": "2dfd63f3",
   "metadata": {
    "execution": {
     "iopub.execute_input": "2023-03-16T14:19:21.972881Z",
     "iopub.status.busy": "2023-03-16T14:19:21.972422Z",
     "iopub.status.idle": "2023-03-16T14:19:21.977690Z",
     "shell.execute_reply": "2023-03-16T14:19:21.976625Z"
    },
    "executionInfo": {
     "elapsed": 949,
     "status": "ok",
     "timestamp": 1606579315463,
     "user": {
      "displayName": "Aakash N S",
      "photoUrl": "https://lh3.googleusercontent.com/a-/AOh14GiIWFHtan62vtW1gz2Bv2bxL3rppefcadxzEVxRKQ=s64",
      "userId": "03254185060287524023"
     },
     "user_tz": -330
    },
    "id": "GTqhyYjifTTY",
    "papermill": {
     "duration": 0.04347,
     "end_time": "2023-03-16T14:19:21.980284",
     "exception": false,
     "start_time": "2023-03-16T14:19:21.936814",
     "status": "completed"
    },
    "tags": []
   },
   "outputs": [],
   "source": [
    "bob = Person(\"Bob\", 32)"
   ]
  },
  {
   "cell_type": "markdown",
   "id": "4fdedc39",
   "metadata": {
    "id": "ihjFg-KOfTTY",
    "papermill": {
     "duration": 0.033781,
     "end_time": "2023-03-16T14:19:22.048772",
     "exception": false,
     "start_time": "2023-03-16T14:19:22.014991",
     "status": "completed"
    },
    "tags": []
   },
   "source": [
    "The object `bob` is an instance of the class `Person`. \n",
    "\n",
    "We can access the object's properties (also called attributes) or invoke its methods using the `.` notation."
   ]
  },
  {
   "cell_type": "code",
   "execution_count": 26,
   "id": "b64e6b96",
   "metadata": {
    "execution": {
     "iopub.execute_input": "2023-03-16T14:19:22.119697Z",
     "iopub.status.busy": "2023-03-16T14:19:22.118815Z",
     "iopub.status.idle": "2023-03-16T14:19:22.127221Z",
     "shell.execute_reply": "2023-03-16T14:19:22.125656Z"
    },
    "executionInfo": {
     "elapsed": 958,
     "status": "ok",
     "timestamp": 1606579330631,
     "user": {
      "displayName": "Aakash N S",
      "photoUrl": "https://lh3.googleusercontent.com/a-/AOh14GiIWFHtan62vtW1gz2Bv2bxL3rppefcadxzEVxRKQ=s64",
      "userId": "03254185060287524023"
     },
     "user_tz": -330
    },
    "id": "6vV3_NVyfTTY",
    "outputId": "f814a531-f116-4f2f-fdcb-7a5e2148e187",
    "papermill": {
     "duration": 0.047325,
     "end_time": "2023-03-16T14:19:22.130085",
     "exception": false,
     "start_time": "2023-03-16T14:19:22.082760",
     "status": "completed"
    },
    "tags": []
   },
   "outputs": [
    {
     "data": {
      "text/plain": [
       "('Bob', 32)"
      ]
     },
     "execution_count": 26,
     "metadata": {},
     "output_type": "execute_result"
    }
   ],
   "source": [
    "bob.name, bob.age"
   ]
  },
  {
   "cell_type": "code",
   "execution_count": 27,
   "id": "04c2fb42",
   "metadata": {
    "execution": {
     "iopub.execute_input": "2023-03-16T14:19:22.199797Z",
     "iopub.status.busy": "2023-03-16T14:19:22.199384Z",
     "iopub.status.idle": "2023-03-16T14:19:22.204780Z",
     "shell.execute_reply": "2023-03-16T14:19:22.203918Z"
    },
    "executionInfo": {
     "elapsed": 765,
     "status": "ok",
     "timestamp": 1606579340320,
     "user": {
      "displayName": "Aakash N S",
      "photoUrl": "https://lh3.googleusercontent.com/a-/AOh14GiIWFHtan62vtW1gz2Bv2bxL3rppefcadxzEVxRKQ=s64",
      "userId": "03254185060287524023"
     },
     "user_tz": -330
    },
    "id": "oMnNbsqWfTTY",
    "outputId": "33853fce-b97f-46c7-b1a8-a45a0d9a14b9",
    "papermill": {
     "duration": 0.043602,
     "end_time": "2023-03-16T14:19:22.207680",
     "exception": false,
     "start_time": "2023-03-16T14:19:22.164078",
     "status": "completed"
    },
    "tags": []
   },
   "outputs": [
    {
     "name": "stdout",
     "output_type": "stream",
     "text": [
      "Hello my name is Bob!\n"
     ]
    }
   ],
   "source": [
    "bob.say_hello()"
   ]
  },
  {
   "cell_type": "markdown",
   "id": "851be63d",
   "metadata": {
    "id": "wrI894tlfTTY",
    "papermill": {
     "duration": 0.033364,
     "end_time": "2023-03-16T14:19:22.276082",
     "exception": false,
     "start_time": "2023-03-16T14:19:22.242718",
     "status": "completed"
    },
    "tags": []
   },
   "source": [
    "You can learn more about Python classes here: https://www.w3schools.com/python/python_classes.asp .\n",
    "\n",
    "Classes can also build upon or _extend_ the functionality of existing classes. Let's extend the `nn.Module` class from PyTorch to define a custom model."
   ]
  },
  {
   "cell_type": "code",
   "execution_count": 28,
   "id": "1654eb7a",
   "metadata": {
    "execution": {
     "iopub.execute_input": "2023-03-16T14:19:22.345965Z",
     "iopub.status.busy": "2023-03-16T14:19:22.345551Z",
     "iopub.status.idle": "2023-03-16T14:19:22.352563Z",
     "shell.execute_reply": "2023-03-16T14:19:22.351548Z"
    },
    "executionInfo": {
     "elapsed": 1083,
     "status": "ok",
     "timestamp": 1606579733133,
     "user": {
      "displayName": "Aakash N S",
      "photoUrl": "https://lh3.googleusercontent.com/a-/AOh14GiIWFHtan62vtW1gz2Bv2bxL3rppefcadxzEVxRKQ=s64",
      "userId": "03254185060287524023"
     },
     "user_tz": -330
    },
    "id": "c2HWol7qfTTY",
    "papermill": {
     "duration": 0.045124,
     "end_time": "2023-03-16T14:19:22.354951",
     "exception": false,
     "start_time": "2023-03-16T14:19:22.309827",
     "status": "completed"
    },
    "tags": []
   },
   "outputs": [],
   "source": [
    "class MnistModel(nn.Module):\n",
    "    def __init__(\n",
    "        self,\n",
    "        input_size:int=784,\n",
    "    ):\n",
    "        super().__init__()\n",
    "        self.linear = nn.Linear(input_size, num_classes)\n",
    "        \n",
    "    def forward(self, xb):\n",
    "        xb = xb.reshape(-1, 784)\n",
    "        out = self.linear(xb)\n",
    "        return out\n",
    "    \n",
    "model = MnistModel()"
   ]
  },
  {
   "cell_type": "markdown",
   "id": "eeadd7eb",
   "metadata": {
    "id": "mZKn3GBFfTTY",
    "papermill": {
     "duration": 0.033561,
     "end_time": "2023-03-16T14:19:22.422445",
     "exception": false,
     "start_time": "2023-03-16T14:19:22.388884",
     "status": "completed"
    },
    "tags": []
   },
   "source": [
    "Inside the `__init__` constructor method, we instantiate the weights and biases using `nn.Linear`. And inside the `forward` method, which is invoked when we pass a batch of inputs to the model, we flatten the input tensor and pass it into `self.linear`.\n",
    "\n",
    "`xb.reshape(-1, 28*28)` indicates to PyTorch that we want a *view* of the `xb` tensor with two dimensions. The length along the 2nd dimension is 28\\*28 (i.e., 784). One argument to `.reshape` can be set to `-1` (in this case, the first dimension) to let PyTorch figure it out automatically based on the shape of the original tensor.\n",
    "\n",
    "Note that the model no longer has `.weight` and `.bias` attributes (as they are now inside the `.linear` attribute), but it does have a `.parameters` method that returns a list containing the weights and bias."
   ]
  },
  {
   "cell_type": "code",
   "execution_count": 29,
   "id": "916bd731",
   "metadata": {
    "execution": {
     "iopub.execute_input": "2023-03-16T14:19:22.492189Z",
     "iopub.status.busy": "2023-03-16T14:19:22.491725Z",
     "iopub.status.idle": "2023-03-16T14:19:22.498987Z",
     "shell.execute_reply": "2023-03-16T14:19:22.497821Z"
    },
    "executionInfo": {
     "elapsed": 887,
     "status": "ok",
     "timestamp": 1606579744253,
     "user": {
      "displayName": "Aakash N S",
      "photoUrl": "https://lh3.googleusercontent.com/a-/AOh14GiIWFHtan62vtW1gz2Bv2bxL3rppefcadxzEVxRKQ=s64",
      "userId": "03254185060287524023"
     },
     "user_tz": -330
    },
    "id": "voZF2M_3nVnI",
    "outputId": "1feeba1e-2ad7-4d32-9eb6-56e12f587a51",
    "papermill": {
     "duration": 0.045269,
     "end_time": "2023-03-16T14:19:22.501489",
     "exception": false,
     "start_time": "2023-03-16T14:19:22.456220",
     "status": "completed"
    },
    "tags": []
   },
   "outputs": [
    {
     "data": {
      "text/plain": [
       "Linear(in_features=784, out_features=10, bias=True)"
      ]
     },
     "execution_count": 29,
     "metadata": {},
     "output_type": "execute_result"
    }
   ],
   "source": [
    "model.linear"
   ]
  },
  {
   "cell_type": "code",
   "execution_count": 30,
   "id": "a51cdbb5",
   "metadata": {
    "execution": {
     "iopub.execute_input": "2023-03-16T14:19:22.572297Z",
     "iopub.status.busy": "2023-03-16T14:19:22.571376Z",
     "iopub.status.idle": "2023-03-16T14:19:22.583612Z",
     "shell.execute_reply": "2023-03-16T14:19:22.582285Z"
    },
    "executionInfo": {
     "elapsed": 751,
     "status": "ok",
     "timestamp": 1606579783293,
     "user": {
      "displayName": "Aakash N S",
      "photoUrl": "https://lh3.googleusercontent.com/a-/AOh14GiIWFHtan62vtW1gz2Bv2bxL3rppefcadxzEVxRKQ=s64",
      "userId": "03254185060287524023"
     },
     "user_tz": -330
    },
    "id": "JciejPo9fTTY",
    "outputId": "c3ea0a15-d0bb-4d44-f755-1d1ad4fe50ff",
    "papermill": {
     "duration": 0.05037,
     "end_time": "2023-03-16T14:19:22.586094",
     "exception": false,
     "start_time": "2023-03-16T14:19:22.535724",
     "status": "completed"
    },
    "tags": []
   },
   "outputs": [
    {
     "name": "stdout",
     "output_type": "stream",
     "text": [
      "torch.Size([10, 784]) torch.Size([10])\n"
     ]
    },
    {
     "data": {
      "text/plain": [
       "[Parameter containing:\n",
       " tensor([[ 0.0100,  0.0279, -0.0166,  ..., -0.0048, -0.0288,  0.0146],\n",
       "         [ 0.0147, -0.0262, -0.0152,  ...,  0.0074,  0.0068,  0.0035],\n",
       "         [-0.0304, -0.0151,  0.0357,  ...,  0.0329,  0.0083, -0.0145],\n",
       "         ...,\n",
       "         [ 0.0222,  0.0149, -0.0070,  ...,  0.0028,  0.0080, -0.0343],\n",
       "         [-0.0198,  0.0250, -0.0272,  ..., -0.0156, -0.0275, -0.0062],\n",
       "         [ 0.0191, -0.0315,  0.0163,  ...,  0.0184, -0.0300, -0.0184]],\n",
       "        requires_grad=True),\n",
       " Parameter containing:\n",
       " tensor([ 0.0354,  0.0184,  0.0258, -0.0030,  0.0322,  0.0269, -0.0129, -0.0049,\n",
       "          0.0079, -0.0278], requires_grad=True)]"
      ]
     },
     "execution_count": 30,
     "metadata": {},
     "output_type": "execute_result"
    }
   ],
   "source": [
    "print(model.linear.weight.shape, model.linear.bias.shape)\n",
    "list(model.parameters())"
   ]
  },
  {
   "cell_type": "markdown",
   "id": "2d0c9385",
   "metadata": {
    "id": "nGvgCQn2fTTY",
    "papermill": {
     "duration": 0.035221,
     "end_time": "2023-03-16T14:19:22.656041",
     "exception": false,
     "start_time": "2023-03-16T14:19:22.620820",
     "status": "completed"
    },
    "tags": []
   },
   "source": [
    "We can use our new custom model in the same way as before. Let's see if it works."
   ]
  },
  {
   "cell_type": "code",
   "execution_count": 31,
   "id": "bf93a27b",
   "metadata": {
    "execution": {
     "iopub.execute_input": "2023-03-16T14:19:22.727908Z",
     "iopub.status.busy": "2023-03-16T14:19:22.727526Z",
     "iopub.status.idle": "2023-03-16T14:19:22.763664Z",
     "shell.execute_reply": "2023-03-16T14:19:22.762002Z"
    },
    "executionInfo": {
     "elapsed": 962,
     "status": "ok",
     "timestamp": 1606579874350,
     "user": {
      "displayName": "Aakash N S",
      "photoUrl": "https://lh3.googleusercontent.com/a-/AOh14GiIWFHtan62vtW1gz2Bv2bxL3rppefcadxzEVxRKQ=s64",
      "userId": "03254185060287524023"
     },
     "user_tz": -330
    },
    "id": "HJ6FGOvYfTTZ",
    "outputId": "f016f9d4-ebba-401f-edff-e7b951f065eb",
    "papermill": {
     "duration": 0.075726,
     "end_time": "2023-03-16T14:19:22.766673",
     "exception": false,
     "start_time": "2023-03-16T14:19:22.690947",
     "status": "completed"
    },
    "tags": []
   },
   "outputs": [
    {
     "name": "stdout",
     "output_type": "stream",
     "text": [
      "torch.Size([128, 1, 28, 28])\n",
      "outputs.shape :  torch.Size([128, 10])\n",
      "Sample outputs :\n",
      " tensor([[ 0.1260, -0.2339,  0.0873, -0.0082,  0.1041, -0.0323, -0.0692,  0.0538,\n",
      "         -0.0096,  0.0863],\n",
      "        [ 0.3188,  0.0462, -0.3519, -0.1639, -0.2010, -0.0819, -0.3229,  0.1957,\n",
      "          0.0298,  0.0424]])\n"
     ]
    }
   ],
   "source": [
    "for images, labels in train_loader:\n",
    "    print(images.shape)\n",
    "    outputs = model(images)\n",
    "    break\n",
    "\n",
    "print('outputs.shape : ', outputs.shape)\n",
    "print('Sample outputs :\\n', outputs[:2].data)"
   ]
  },
  {
   "cell_type": "markdown",
   "id": "6d5042e9",
   "metadata": {
    "id": "9v407S1jfTTZ",
    "papermill": {
     "duration": 0.034025,
     "end_time": "2023-03-16T14:19:22.836780",
     "exception": false,
     "start_time": "2023-03-16T14:19:22.802755",
     "status": "completed"
    },
    "tags": []
   },
   "source": [
    "For each of the 100 input images, we get 10 outputs, one for each class. As discussed earlier, we'd like these outputs to represent probabilities. Each output row's elements must lie between 0 to 1 and add up to 1, which is not the case. \n",
    "\n",
    "To convert the output rows into probabilities, we use the softmax function, which has the following formula:\n",
    "\n",
    "![softmax](https://i.imgur.com/EAh9jLN.png)\n",
    "\n",
    "First, we replace each element `yi` in an output row by `e^yi`, making all the elements positive. \n",
    "\n",
    "![](https://www.montereyinstitute.org/courses/DevelopmentalMath/COURSE_TEXT2_RESOURCE/U18_L1_T1_text_final_6_files/image001.png)\n",
    "\n",
    "\n",
    "\n",
    "Then, we divide them by their sum to ensure that they add up to 1. The resulting vector can thus be interpreted as probabilities.\n",
    "\n",
    "While it's easy to implement the softmax function (you should try it!), we'll use the implementation that's provided within PyTorch because it works well with multidimensional tensors (a list of output rows in our case)."
   ]
  },
  {
   "cell_type": "code",
   "execution_count": 32,
   "id": "ab1dd573",
   "metadata": {
    "execution": {
     "iopub.execute_input": "2023-03-16T14:19:22.908864Z",
     "iopub.status.busy": "2023-03-16T14:19:22.908456Z",
     "iopub.status.idle": "2023-03-16T14:19:22.912577Z",
     "shell.execute_reply": "2023-03-16T14:19:22.911720Z"
    },
    "executionInfo": {
     "elapsed": 781,
     "status": "ok",
     "timestamp": 1606580126906,
     "user": {
      "displayName": "Aakash N S",
      "photoUrl": "https://lh3.googleusercontent.com/a-/AOh14GiIWFHtan62vtW1gz2Bv2bxL3rppefcadxzEVxRKQ=s64",
      "userId": "03254185060287524023"
     },
     "user_tz": -330
    },
    "id": "Wc7d6WD0fTTZ",
    "papermill": {
     "duration": 0.043741,
     "end_time": "2023-03-16T14:19:22.914768",
     "exception": false,
     "start_time": "2023-03-16T14:19:22.871027",
     "status": "completed"
    },
    "tags": []
   },
   "outputs": [],
   "source": [
    "import torch.nn.functional as F"
   ]
  },
  {
   "cell_type": "markdown",
   "id": "06d60834",
   "metadata": {
    "id": "FbYF4auWfTTZ",
    "papermill": {
     "duration": 0.034237,
     "end_time": "2023-03-16T14:19:22.983272",
     "exception": false,
     "start_time": "2023-03-16T14:19:22.949035",
     "status": "completed"
    },
    "tags": []
   },
   "source": [
    "The softmax function is included in the `torch.nn.functional` package and requires us to specify a dimension along which the function should be applied."
   ]
  },
  {
   "cell_type": "code",
   "execution_count": 33,
   "id": "34dc8a01",
   "metadata": {
    "execution": {
     "iopub.execute_input": "2023-03-16T14:19:23.053145Z",
     "iopub.status.busy": "2023-03-16T14:19:23.052749Z",
     "iopub.status.idle": "2023-03-16T14:19:23.061206Z",
     "shell.execute_reply": "2023-03-16T14:19:23.060310Z"
    },
    "executionInfo": {
     "elapsed": 802,
     "status": "ok",
     "timestamp": 1606580142812,
     "user": {
      "displayName": "Aakash N S",
      "photoUrl": "https://lh3.googleusercontent.com/a-/AOh14GiIWFHtan62vtW1gz2Bv2bxL3rppefcadxzEVxRKQ=s64",
      "userId": "03254185060287524023"
     },
     "user_tz": -330
    },
    "id": "6xvjcBVTo14n",
    "outputId": "34f2c507-4278-4f76-91cf-9ef33073ee87",
    "papermill": {
     "duration": 0.046033,
     "end_time": "2023-03-16T14:19:23.063339",
     "exception": false,
     "start_time": "2023-03-16T14:19:23.017306",
     "status": "completed"
    },
    "tags": []
   },
   "outputs": [
    {
     "data": {
      "text/plain": [
       "tensor([[ 0.1260, -0.2339,  0.0873, -0.0082,  0.1041, -0.0323, -0.0692,  0.0538,\n",
       "         -0.0096,  0.0863],\n",
       "        [ 0.3188,  0.0462, -0.3519, -0.1639, -0.2010, -0.0819, -0.3229,  0.1957,\n",
       "          0.0298,  0.0424]], grad_fn=<SliceBackward0>)"
      ]
     },
     "execution_count": 33,
     "metadata": {},
     "output_type": "execute_result"
    }
   ],
   "source": [
    "outputs[:2]"
   ]
  },
  {
   "cell_type": "code",
   "execution_count": 34,
   "id": "23062ac2",
   "metadata": {
    "execution": {
     "iopub.execute_input": "2023-03-16T14:19:23.134046Z",
     "iopub.status.busy": "2023-03-16T14:19:23.133647Z",
     "iopub.status.idle": "2023-03-16T14:19:23.150813Z",
     "shell.execute_reply": "2023-03-16T14:19:23.149303Z"
    },
    "executionInfo": {
     "elapsed": 927,
     "status": "ok",
     "timestamp": 1606580181438,
     "user": {
      "displayName": "Aakash N S",
      "photoUrl": "https://lh3.googleusercontent.com/a-/AOh14GiIWFHtan62vtW1gz2Bv2bxL3rppefcadxzEVxRKQ=s64",
      "userId": "03254185060287524023"
     },
     "user_tz": -330
    },
    "id": "C3neZ1YGfTTZ",
    "outputId": "4e499c5c-6c61-40f0-f05b-6f8d46f0e61a",
    "papermill": {
     "duration": 0.056396,
     "end_time": "2023-03-16T14:19:23.153971",
     "exception": false,
     "start_time": "2023-03-16T14:19:23.097575",
     "status": "completed"
    },
    "tags": []
   },
   "outputs": [
    {
     "name": "stdout",
     "output_type": "stream",
     "text": [
      "Sample probabilities:\n",
      " tensor([[0.1117, 0.0779, 0.1075, 0.0977, 0.1093, 0.0953, 0.0919, 0.1039, 0.0975,\n",
      "         0.1073],\n",
      "        [0.1414, 0.1077, 0.0723, 0.0873, 0.0841, 0.0947, 0.0744, 0.1250, 0.1059,\n",
      "         0.1072]])\n",
      "Sum:  1.0\n"
     ]
    }
   ],
   "source": [
    "# Apply softmax for each output row\n",
    "probs = F.softmax(outputs, dim=1)\n",
    "\n",
    "# Look at sample probabilities\n",
    "print(\"Sample probabilities:\\n\", probs[:2].data)\n",
    "\n",
    "# Add up the probabilities of an output row\n",
    "print(\"Sum: \", torch.sum(probs[0]).item())"
   ]
  },
  {
   "cell_type": "markdown",
   "id": "4c75e93e",
   "metadata": {
    "id": "k2cgqWGVfTTZ",
    "papermill": {
     "duration": 0.034625,
     "end_time": "2023-03-16T14:19:23.223025",
     "exception": false,
     "start_time": "2023-03-16T14:19:23.188400",
     "status": "completed"
    },
    "tags": []
   },
   "source": [
    "Finally, we can determine the predicted label for each image by simply choosing the index of the element with the highest probability in each output row. We can do this using `torch.max`, which returns each row's largest element and the corresponding index."
   ]
  },
  {
   "cell_type": "code",
   "execution_count": 35,
   "id": "c875f9e3",
   "metadata": {
    "execution": {
     "iopub.execute_input": "2023-03-16T14:19:23.295527Z",
     "iopub.status.busy": "2023-03-16T14:19:23.295106Z",
     "iopub.status.idle": "2023-03-16T14:19:23.309735Z",
     "shell.execute_reply": "2023-03-16T14:19:23.307872Z"
    },
    "executionInfo": {
     "elapsed": 1108,
     "status": "ok",
     "timestamp": 1606580284840,
     "user": {
      "displayName": "Aakash N S",
      "photoUrl": "https://lh3.googleusercontent.com/a-/AOh14GiIWFHtan62vtW1gz2Bv2bxL3rppefcadxzEVxRKQ=s64",
      "userId": "03254185060287524023"
     },
     "user_tz": -330
    },
    "id": "1o9a4hAufTTZ",
    "outputId": "ffe611f9-df20-4bbc-fb1c-6178faac90cc",
    "papermill": {
     "duration": 0.054345,
     "end_time": "2023-03-16T14:19:23.312822",
     "exception": false,
     "start_time": "2023-03-16T14:19:23.258477",
     "status": "completed"
    },
    "tags": []
   },
   "outputs": [
    {
     "name": "stdout",
     "output_type": "stream",
     "text": [
      "tensor([0, 0, 0, 8, 7, 7, 7, 7, 0, 9, 5, 7, 7, 7, 5, 0, 7, 7, 7, 7, 5, 7, 7, 7,\n",
      "        7, 7, 4, 0, 7, 5, 8, 7, 7, 7, 7, 8, 0, 7, 5, 7, 0, 7, 7, 7, 0, 5, 5, 7,\n",
      "        8, 0, 8, 4, 0, 7, 0, 8, 7, 7, 7, 8, 7, 5, 7, 5, 7, 5, 7, 8, 8, 8, 7, 3,\n",
      "        8, 8, 0, 5, 7, 8, 7, 7, 7, 8, 7, 5, 0, 7, 7, 4, 7, 8, 4, 5, 8, 3, 0, 7,\n",
      "        5, 7, 7, 4, 5, 8, 7, 5, 7, 0, 8, 0, 3, 7, 0, 7, 7, 0, 7, 7, 0, 7, 0, 5,\n",
      "        8, 7, 8, 7, 7, 0, 7, 0])\n",
      "tensor([0.1117, 0.1414, 0.1663, 0.1344, 0.1223, 0.1304, 0.1525, 0.1389, 0.1682,\n",
      "        0.1366, 0.1384, 0.1326, 0.1414, 0.1225, 0.1327, 0.1348, 0.1477, 0.1250,\n",
      "        0.1436, 0.1272, 0.1318, 0.1254, 0.1269, 0.1358, 0.1224, 0.1301, 0.1319,\n",
      "        0.1364, 0.1342, 0.1307, 0.1323, 0.1381, 0.1203, 0.1369, 0.1229, 0.1188,\n",
      "        0.1378, 0.1218, 0.1407, 0.1348, 0.1438, 0.1469, 0.1228, 0.1229, 0.1386,\n",
      "        0.1110, 0.1226, 0.1289, 0.1226, 0.1314, 0.1545, 0.1301, 0.1289, 0.1357,\n",
      "        0.1185, 0.1581, 0.1342, 0.1269, 0.1486, 0.1261, 0.1400, 0.1707, 0.1202,\n",
      "        0.1524, 0.1222, 0.1545, 0.1300, 0.1569, 0.1435, 0.1714, 0.1363, 0.1139,\n",
      "        0.1364, 0.1479, 0.1439, 0.1235, 0.1303, 0.1186, 0.1752, 0.1264, 0.1376,\n",
      "        0.1596, 0.1448, 0.1260, 0.1401, 0.1449, 0.1327, 0.1146, 0.1236, 0.1307,\n",
      "        0.1281, 0.1194, 0.1671, 0.1171, 0.1379, 0.1501, 0.1279, 0.1294, 0.1368,\n",
      "        0.1258, 0.1367, 0.1379, 0.1554, 0.1327, 0.1339, 0.1206, 0.1337, 0.1570,\n",
      "        0.1323, 0.1405, 0.1260, 0.1252, 0.1363, 0.1354, 0.1362, 0.1171, 0.1248,\n",
      "        0.1253, 0.1136, 0.1350, 0.1531, 0.1303, 0.1220, 0.1419, 0.1350, 0.1216,\n",
      "        0.1259, 0.1329], grad_fn=<MaxBackward0>)\n"
     ]
    }
   ],
   "source": [
    "max_probs, preds = torch.max(probs, dim=1)\n",
    "print(preds)\n",
    "print(max_probs)"
   ]
  },
  {
   "cell_type": "markdown",
   "id": "5281d16d",
   "metadata": {
    "id": "IGvKME9WfTTZ",
    "papermill": {
     "duration": 0.03413,
     "end_time": "2023-03-16T14:19:23.382916",
     "exception": false,
     "start_time": "2023-03-16T14:19:23.348786",
     "status": "completed"
    },
    "tags": []
   },
   "source": [
    "The numbers printed above are the predicted labels for the first batch of training images. Let's compare them with the actual labels."
   ]
  },
  {
   "cell_type": "code",
   "execution_count": 36,
   "id": "4159c8fe",
   "metadata": {
    "execution": {
     "iopub.execute_input": "2023-03-16T14:19:23.453972Z",
     "iopub.status.busy": "2023-03-16T14:19:23.453528Z",
     "iopub.status.idle": "2023-03-16T14:19:23.460957Z",
     "shell.execute_reply": "2023-03-16T14:19:23.459978Z"
    },
    "executionInfo": {
     "elapsed": 810,
     "status": "ok",
     "timestamp": 1606580329683,
     "user": {
      "displayName": "Aakash N S",
      "photoUrl": "https://lh3.googleusercontent.com/a-/AOh14GiIWFHtan62vtW1gz2Bv2bxL3rppefcadxzEVxRKQ=s64",
      "userId": "03254185060287524023"
     },
     "user_tz": -330
    },
    "id": "TsT85mhffTTZ",
    "outputId": "bc61f2f3-3213-4538-9733-579ac3cd8cef",
    "papermill": {
     "duration": 0.045637,
     "end_time": "2023-03-16T14:19:23.463058",
     "exception": false,
     "start_time": "2023-03-16T14:19:23.417421",
     "status": "completed"
    },
    "tags": []
   },
   "outputs": [
    {
     "data": {
      "text/plain": [
       "tensor([9, 9, 0, 5, 1, 6, 3, 4, 5, 3, 2, 9, 0, 5, 6, 7, 8, 1, 1, 4, 4, 1, 1, 7,\n",
       "        5, 1, 6, 2, 5, 2, 5, 0, 1, 3, 8, 1, 9, 5, 6, 3, 0, 8, 7, 1, 6, 5, 6, 9,\n",
       "        1, 0, 2, 4, 0, 1, 6, 6, 1, 6, 4, 6, 9, 6, 4, 2, 1, 4, 4, 1, 1, 0, 7, 5,\n",
       "        8, 2, 8, 0, 9, 5, 0, 1, 8, 0, 6, 2, 9, 3, 4, 2, 9, 3, 6, 6, 4, 9, 7, 1,\n",
       "        0, 1, 5, 6, 2, 4, 9, 6, 0, 1, 5, 8, 3, 9, 9, 9, 8, 0, 1, 9, 3, 7, 2, 2,\n",
       "        3, 5, 0, 8, 5, 4, 3, 7])"
      ]
     },
     "execution_count": 36,
     "metadata": {},
     "output_type": "execute_result"
    }
   ],
   "source": [
    "labels"
   ]
  },
  {
   "cell_type": "markdown",
   "id": "44235045",
   "metadata": {
    "id": "8AFZgI8SfTTZ",
    "papermill": {
     "duration": 0.034362,
     "end_time": "2023-03-16T14:19:23.531997",
     "exception": false,
     "start_time": "2023-03-16T14:19:23.497635",
     "status": "completed"
    },
    "tags": []
   },
   "source": [
    "Most of the predicted labels are different from the actual labels. That's because we have started with randomly initialized weights and biases. We need to train the model, i.e., adjust the weights using gradient descent to make better predictions."
   ]
  },
  {
   "cell_type": "markdown",
   "id": "d593d7b3",
   "metadata": {
    "id": "FegT9vhlfTTZ",
    "papermill": {
     "duration": 0.034138,
     "end_time": "2023-03-16T14:19:23.600803",
     "exception": false,
     "start_time": "2023-03-16T14:19:23.566665",
     "status": "completed"
    },
    "tags": []
   },
   "source": [
    "## Evaluation Metric and Loss Function"
   ]
  },
  {
   "cell_type": "markdown",
   "id": "c2b1e304",
   "metadata": {
    "id": "MSiZ3KtqfTTZ",
    "papermill": {
     "duration": 0.034513,
     "end_time": "2023-03-16T14:19:23.670016",
     "exception": false,
     "start_time": "2023-03-16T14:19:23.635503",
     "status": "completed"
    },
    "tags": []
   },
   "source": [
    "Just as with linear regression, we need a way to evaluate how well our model is performing. A natural way to do this would be to find the percentage of labels that were predicted correctly, i.e,. the **accuracy** of the predictions. "
   ]
  },
  {
   "cell_type": "code",
   "execution_count": 37,
   "id": "b963ec3b",
   "metadata": {
    "execution": {
     "iopub.execute_input": "2023-03-16T14:19:23.742761Z",
     "iopub.status.busy": "2023-03-16T14:19:23.742259Z",
     "iopub.status.idle": "2023-03-16T14:19:23.751216Z",
     "shell.execute_reply": "2023-03-16T14:19:23.750076Z"
    },
    "executionInfo": {
     "elapsed": 977,
     "status": "ok",
     "timestamp": 1606580407117,
     "user": {
      "displayName": "Aakash N S",
      "photoUrl": "https://lh3.googleusercontent.com/a-/AOh14GiIWFHtan62vtW1gz2Bv2bxL3rppefcadxzEVxRKQ=s64",
      "userId": "03254185060287524023"
     },
     "user_tz": -330
    },
    "id": "wG0IBPVMp3UE",
    "outputId": "ae1ba45f-bfc3-4e35-d4d4-0a0ecefdb919",
    "papermill": {
     "duration": 0.048822,
     "end_time": "2023-03-16T14:19:23.753625",
     "exception": false,
     "start_time": "2023-03-16T14:19:23.704803",
     "status": "completed"
    },
    "tags": []
   },
   "outputs": [
    {
     "data": {
      "text/plain": [
       "tensor([[ 0.1260, -0.2339,  0.0873, -0.0082,  0.1041, -0.0323, -0.0692,  0.0538,\n",
       "         -0.0096,  0.0863],\n",
       "        [ 0.3188,  0.0462, -0.3519, -0.1639, -0.2010, -0.0819, -0.3229,  0.1957,\n",
       "          0.0298,  0.0424]], grad_fn=<SliceBackward0>)"
      ]
     },
     "execution_count": 37,
     "metadata": {},
     "output_type": "execute_result"
    }
   ],
   "source": [
    "outputs[:2]"
   ]
  },
  {
   "cell_type": "code",
   "execution_count": 38,
   "id": "873e81f5",
   "metadata": {
    "execution": {
     "iopub.execute_input": "2023-03-16T14:19:23.827080Z",
     "iopub.status.busy": "2023-03-16T14:19:23.826203Z",
     "iopub.status.idle": "2023-03-16T14:19:23.834913Z",
     "shell.execute_reply": "2023-03-16T14:19:23.833584Z"
    },
    "executionInfo": {
     "elapsed": 721,
     "status": "ok",
     "timestamp": 1606580492350,
     "user": {
      "displayName": "Aakash N S",
      "photoUrl": "https://lh3.googleusercontent.com/a-/AOh14GiIWFHtan62vtW1gz2Bv2bxL3rppefcadxzEVxRKQ=s64",
      "userId": "03254185060287524023"
     },
     "user_tz": -330
    },
    "id": "hHgMnCL4qGDt",
    "outputId": "90f55abc-6496-46bf-faaf-edf7fe22fac8",
    "papermill": {
     "duration": 0.048217,
     "end_time": "2023-03-16T14:19:23.837885",
     "exception": false,
     "start_time": "2023-03-16T14:19:23.789668",
     "status": "completed"
    },
    "tags": []
   },
   "outputs": [
    {
     "data": {
      "text/plain": [
       "tensor(13)"
      ]
     },
     "execution_count": 38,
     "metadata": {},
     "output_type": "execute_result"
    }
   ],
   "source": [
    "torch.sum(preds == labels)"
   ]
  },
  {
   "cell_type": "code",
   "execution_count": 39,
   "id": "c3587150",
   "metadata": {
    "execution": {
     "iopub.execute_input": "2023-03-16T14:19:23.911219Z",
     "iopub.status.busy": "2023-03-16T14:19:23.910758Z",
     "iopub.status.idle": "2023-03-16T14:19:23.916696Z",
     "shell.execute_reply": "2023-03-16T14:19:23.915574Z"
    },
    "executionInfo": {
     "elapsed": 967,
     "status": "ok",
     "timestamp": 1606580510348,
     "user": {
      "displayName": "Aakash N S",
      "photoUrl": "https://lh3.googleusercontent.com/a-/AOh14GiIWFHtan62vtW1gz2Bv2bxL3rppefcadxzEVxRKQ=s64",
      "userId": "03254185060287524023"
     },
     "user_tz": -330
    },
    "id": "11hDOTR1fTTZ",
    "papermill": {
     "duration": 0.045055,
     "end_time": "2023-03-16T14:19:23.919109",
     "exception": false,
     "start_time": "2023-03-16T14:19:23.874054",
     "status": "completed"
    },
    "tags": []
   },
   "outputs": [],
   "source": [
    "def accuracy(outputs, labels):\n",
    "    _, preds = torch.max(outputs, dim=1)\n",
    "    return torch.tensor(torch.sum(preds == labels).item() / len(preds))"
   ]
  },
  {
   "cell_type": "markdown",
   "id": "24f75568",
   "metadata": {
    "id": "E258dVOUfTTZ",
    "papermill": {
     "duration": 0.034753,
     "end_time": "2023-03-16T14:19:23.988848",
     "exception": false,
     "start_time": "2023-03-16T14:19:23.954095",
     "status": "completed"
    },
    "tags": []
   },
   "source": [
    "The `==` operator performs an element-wise comparison of two tensors with the same shape and returns a tensor of the same shape, containing `True` for unequal elements and `False` for equal elements. Passing the result to `torch.sum` returns the number of labels that were predicted correctly. Finally, we divide by the total number of images to get the accuracy. \n",
    "\n",
    "Note that we don't need to apply softmax to the outputs since its results have the same relative order. This is because `e^x` is an increasing function, i.e., if `y1 > y2`, then `e^y1 > e^y2`. The same holds after averaging out the values to get the softmax.\n",
    "\n",
    "Let's calculate the accuracy of the current model on the first batch of data. "
   ]
  },
  {
   "cell_type": "code",
   "execution_count": 40,
   "id": "0c27c93c",
   "metadata": {
    "execution": {
     "iopub.execute_input": "2023-03-16T14:19:24.061540Z",
     "iopub.status.busy": "2023-03-16T14:19:24.060176Z",
     "iopub.status.idle": "2023-03-16T14:19:24.069353Z",
     "shell.execute_reply": "2023-03-16T14:19:24.068143Z"
    },
    "executionInfo": {
     "elapsed": 1247,
     "status": "ok",
     "timestamp": 1606580523641,
     "user": {
      "displayName": "Aakash N S",
      "photoUrl": "https://lh3.googleusercontent.com/a-/AOh14GiIWFHtan62vtW1gz2Bv2bxL3rppefcadxzEVxRKQ=s64",
      "userId": "03254185060287524023"
     },
     "user_tz": -330
    },
    "id": "HwVAxpZXfTTZ",
    "outputId": "d7a56d59-a6b9-4209-c7f3-fba67d0b268c",
    "papermill": {
     "duration": 0.048144,
     "end_time": "2023-03-16T14:19:24.071911",
     "exception": false,
     "start_time": "2023-03-16T14:19:24.023767",
     "status": "completed"
    },
    "tags": []
   },
   "outputs": [
    {
     "data": {
      "text/plain": [
       "tensor(0.1016)"
      ]
     },
     "execution_count": 40,
     "metadata": {},
     "output_type": "execute_result"
    }
   ],
   "source": [
    "accuracy(outputs, labels)"
   ]
  },
  {
   "cell_type": "code",
   "execution_count": 41,
   "id": "fce35fb5",
   "metadata": {
    "execution": {
     "iopub.execute_input": "2023-03-16T14:19:24.146007Z",
     "iopub.status.busy": "2023-03-16T14:19:24.145105Z",
     "iopub.status.idle": "2023-03-16T14:19:24.154555Z",
     "shell.execute_reply": "2023-03-16T14:19:24.153316Z"
    },
    "executionInfo": {
     "elapsed": 595,
     "status": "ok",
     "timestamp": 1606580756117,
     "user": {
      "displayName": "Aakash N S",
      "photoUrl": "https://lh3.googleusercontent.com/a-/AOh14GiIWFHtan62vtW1gz2Bv2bxL3rppefcadxzEVxRKQ=s64",
      "userId": "03254185060287524023"
     },
     "user_tz": -330
    },
    "id": "jEyaxGIBrNFm",
    "outputId": "2dab272b-2825-470a-91d6-30e39c5b1a43",
    "papermill": {
     "duration": 0.048996,
     "end_time": "2023-03-16T14:19:24.157269",
     "exception": false,
     "start_time": "2023-03-16T14:19:24.108273",
     "status": "completed"
    },
    "tags": []
   },
   "outputs": [
    {
     "data": {
      "text/plain": [
       "tensor([[0.1117, 0.0779, 0.1075,  ..., 0.1039, 0.0975, 0.1073],\n",
       "        [0.1414, 0.1077, 0.0723,  ..., 0.1250, 0.1059, 0.1072],\n",
       "        [0.1663, 0.0776, 0.0557,  ..., 0.1480, 0.0824, 0.0989],\n",
       "        ...,\n",
       "        [0.1216, 0.0926, 0.0884,  ..., 0.1210, 0.0918, 0.1022],\n",
       "        [0.0972, 0.1065, 0.1016,  ..., 0.1259, 0.1181, 0.0981],\n",
       "        [0.1329, 0.1053, 0.1030,  ..., 0.1025, 0.0933, 0.0916]],\n",
       "       grad_fn=<SoftmaxBackward0>)"
      ]
     },
     "execution_count": 41,
     "metadata": {},
     "output_type": "execute_result"
    }
   ],
   "source": [
    "probs"
   ]
  },
  {
   "cell_type": "markdown",
   "id": "f85b642b",
   "metadata": {
    "id": "Te7ORtqVfTTZ",
    "papermill": {
     "duration": 0.035236,
     "end_time": "2023-03-16T14:19:24.229011",
     "exception": false,
     "start_time": "2023-03-16T14:19:24.193775",
     "status": "completed"
    },
    "tags": []
   },
   "source": [
    "Accuracy is an excellent way for us (humans) to evaluate the model. However, we can't use it as a loss function for optimizing our model using gradient descent for the following reasons:\n",
    "\n",
    "1. It's not a differentiable function. `torch.max` and `==` are both non-continuous and non-differentiable operations, so we can't use the accuracy for computing gradients w.r.t the weights and biases.\n",
    "\n",
    "2. It doesn't take into account the actual probabilities predicted by the model, so it can't provide sufficient feedback for incremental improvements. \n",
    "\n",
    "For these reasons, accuracy is often used as an **evaluation metric** for classification, but not as a loss function. A commonly used loss function for classification problems is the **cross-entropy**, which has the following formula:\n",
    "\n",
    "![cross-entropy](https://i.imgur.com/VDRDl1D.png)\n",
    "\n",
    "While it looks complicated, it's actually quite simple:\n",
    "\n",
    "* For each output row, pick the predicted probability for the correct label. E.g., if the predicted probabilities for an image are `[0.1, 0.3, 0.2, ...]` and the correct label is `1`, we pick the corresponding element `0.3` and ignore the rest.\n",
    "\n",
    "* Then, take the [logarithm](https://en.wikipedia.org/wiki/Logarithm) of the picked probability. If the probability is high, i.e., close to 1, then its logarithm is a very small negative value, close to 0. And if the probability is low (close to 0), then the logarithm is a very large negative value. We also multiply the result by -1, which results is a large postive value of the loss for poor predictions.\n",
    "\n",
    "![](https://www.intmath.com/blog/wp-content/images/2019/05/log10.png)\n",
    "\n",
    "* Finally, take the average of the cross entropy across all the output rows to get the overall loss for a batch of data.\n",
    "\n",
    "Unlike accuracy, cross-entropy is a continuous and differentiable function. It also provides useful feedback for incremental improvements in the model (a slightly higher probability for the correct label leads to a lower loss). These two factors make cross-entropy a better choice for the loss function.\n",
    "\n",
    "As you might expect, PyTorch provides an efficient and tensor-friendly implementation of cross-entropy as part of the `torch.nn.functional` package. Moreover, it also performs softmax internally, so we can directly pass in the model's outputs without converting them into probabilities."
   ]
  },
  {
   "cell_type": "code",
   "execution_count": 42,
   "id": "ac61ad2a",
   "metadata": {
    "execution": {
     "iopub.execute_input": "2023-03-16T14:19:24.302106Z",
     "iopub.status.busy": "2023-03-16T14:19:24.301695Z",
     "iopub.status.idle": "2023-03-16T14:19:24.310343Z",
     "shell.execute_reply": "2023-03-16T14:19:24.309269Z"
    },
    "executionInfo": {
     "elapsed": 920,
     "status": "ok",
     "timestamp": 1606580951226,
     "user": {
      "displayName": "Aakash N S",
      "photoUrl": "https://lh3.googleusercontent.com/a-/AOh14GiIWFHtan62vtW1gz2Bv2bxL3rppefcadxzEVxRKQ=s64",
      "userId": "03254185060287524023"
     },
     "user_tz": -330
    },
    "id": "AkkyxKR1r8nm",
    "outputId": "7e13a471-37df-4549-e02d-1a807971176d",
    "papermill": {
     "duration": 0.048358,
     "end_time": "2023-03-16T14:19:24.312565",
     "exception": false,
     "start_time": "2023-03-16T14:19:24.264207",
     "status": "completed"
    },
    "tags": []
   },
   "outputs": [
    {
     "data": {
      "text/plain": [
       "tensor([[ 0.1260, -0.2339,  0.0873,  ...,  0.0538, -0.0096,  0.0863],\n",
       "        [ 0.3188,  0.0462, -0.3519,  ...,  0.1957,  0.0298,  0.0424],\n",
       "        [ 0.6855, -0.0770, -0.4089,  ...,  0.5690, -0.0171,  0.1659],\n",
       "        ...,\n",
       "        [ 0.1842, -0.0885, -0.1345,  ...,  0.1788, -0.0967,  0.0106],\n",
       "        [ 0.0411,  0.1332,  0.0862,  ...,  0.3000,  0.2363,  0.0511],\n",
       "        [ 0.2635,  0.0313,  0.0091,  ...,  0.0035, -0.0906, -0.1084]],\n",
       "       grad_fn=<AddmmBackward0>)"
      ]
     },
     "execution_count": 42,
     "metadata": {},
     "output_type": "execute_result"
    }
   ],
   "source": [
    "outputs"
   ]
  },
  {
   "cell_type": "code",
   "execution_count": 43,
   "id": "26ede013",
   "metadata": {
    "execution": {
     "iopub.execute_input": "2023-03-16T14:19:24.460544Z",
     "iopub.status.busy": "2023-03-16T14:19:24.459938Z",
     "iopub.status.idle": "2023-03-16T14:19:24.465865Z",
     "shell.execute_reply": "2023-03-16T14:19:24.464498Z"
    },
    "executionInfo": {
     "elapsed": 804,
     "status": "ok",
     "timestamp": 1606580980198,
     "user": {
      "displayName": "Aakash N S",
      "photoUrl": "https://lh3.googleusercontent.com/a-/AOh14GiIWFHtan62vtW1gz2Bv2bxL3rppefcadxzEVxRKQ=s64",
      "userId": "03254185060287524023"
     },
     "user_tz": -330
    },
    "id": "OqWUQpANfTTZ",
    "papermill": {
     "duration": 0.119518,
     "end_time": "2023-03-16T14:19:24.468564",
     "exception": false,
     "start_time": "2023-03-16T14:19:24.349046",
     "status": "completed"
    },
    "tags": []
   },
   "outputs": [],
   "source": [
    "loss_fn = F.cross_entropy"
   ]
  },
  {
   "cell_type": "code",
   "execution_count": 44,
   "id": "ffce5f2d",
   "metadata": {
    "execution": {
     "iopub.execute_input": "2023-03-16T14:19:24.542839Z",
     "iopub.status.busy": "2023-03-16T14:19:24.542421Z",
     "iopub.status.idle": "2023-03-16T14:19:24.553157Z",
     "shell.execute_reply": "2023-03-16T14:19:24.551330Z"
    },
    "executionInfo": {
     "elapsed": 1109,
     "status": "ok",
     "timestamp": 1606580980798,
     "user": {
      "displayName": "Aakash N S",
      "photoUrl": "https://lh3.googleusercontent.com/a-/AOh14GiIWFHtan62vtW1gz2Bv2bxL3rppefcadxzEVxRKQ=s64",
      "userId": "03254185060287524023"
     },
     "user_tz": -330
    },
    "id": "SuESG0hbfTTZ",
    "outputId": "10804014-e2d7-4b7c-c56d-b56761ffb464",
    "papermill": {
     "duration": 0.050706,
     "end_time": "2023-03-16T14:19:24.556042",
     "exception": false,
     "start_time": "2023-03-16T14:19:24.505336",
     "status": "completed"
    },
    "tags": []
   },
   "outputs": [
    {
     "name": "stdout",
     "output_type": "stream",
     "text": [
      "tensor(2.2955, grad_fn=<NllLossBackward0>)\n"
     ]
    }
   ],
   "source": [
    "# Loss for current batch of data\n",
    "loss = loss_fn(outputs, labels)\n",
    "print(loss)"
   ]
  },
  {
   "cell_type": "markdown",
   "id": "271c88ce",
   "metadata": {
    "id": "wFOtpxUqfTTZ",
    "papermill": {
     "duration": 0.035518,
     "end_time": "2023-03-16T14:19:24.627446",
     "exception": false,
     "start_time": "2023-03-16T14:19:24.591928",
     "status": "completed"
    },
    "tags": []
   },
   "source": [
    "We know that cross-entropy is the negative logarithm of the predicted probability of the correct label averaged over all training samples. Therefore, one way to interpret the resulting number e.g. `2.23` is look at `e^-2.23` which is around `0.1` as the predicted probability of the correct label, on average. *The lower the loss, The better the model.*"
   ]
  },
  {
   "cell_type": "markdown",
   "id": "615653c2",
   "metadata": {
    "id": "hTgl76MgfTTZ",
    "papermill": {
     "duration": 0.035267,
     "end_time": "2023-03-16T14:19:24.698309",
     "exception": false,
     "start_time": "2023-03-16T14:19:24.663042",
     "status": "completed"
    },
    "tags": []
   },
   "source": [
    "## Training the model\n",
    "\n",
    "Now that we have defined the data loaders, model, loss function and optimizer, we are ready to train the model. The training process is identical to linear regression, with the addition of a \"validation phase\" to evaluate the model in each epoch. Here's what it looks like in pseudocode:\n",
    "\n",
    "```\n",
    "for epoch in range(num_epochs):\n",
    "    # Training phase\n",
    "    for batch in train_loader:\n",
    "        # Generate predictions\n",
    "        # Calculate loss\n",
    "        # Compute gradients\n",
    "        # Update weights\n",
    "        # Reset gradients\n",
    "    \n",
    "    # Validation phase\n",
    "    for batch in val_loader:\n",
    "        # Generate predictions\n",
    "        # Calculate loss\n",
    "        # Calculate metrics (accuracy etc.)\n",
    "    # Calculate average validation loss & metrics\n",
    "    \n",
    "    # Log epoch, loss & metrics for inspection\n",
    "```\n",
    "\n",
    "Some parts of the training loop are specific the specific problem we're solving (e.g. loss function, metrics etc.) whereas others are generic and can be applied to any deep learning problem. \n",
    "\n",
    "We'll include the problem-independent parts within a function called `fit`, which will be used to train the model. The problem-specific parts will be implemented by adding new methods to the `nn.Module` class.\n",
    "\n"
   ]
  },
  {
   "cell_type": "code",
   "execution_count": 45,
   "id": "c8987cf7",
   "metadata": {
    "execution": {
     "iopub.execute_input": "2023-03-16T14:19:24.772637Z",
     "iopub.status.busy": "2023-03-16T14:19:24.772182Z",
     "iopub.status.idle": "2023-03-16T14:19:24.780233Z",
     "shell.execute_reply": "2023-03-16T14:19:24.778989Z"
    },
    "executionInfo": {
     "elapsed": 845,
     "status": "ok",
     "timestamp": 1606581529307,
     "user": {
      "displayName": "Aakash N S",
      "photoUrl": "https://lh3.googleusercontent.com/a-/AOh14GiIWFHtan62vtW1gz2Bv2bxL3rppefcadxzEVxRKQ=s64",
      "userId": "03254185060287524023"
     },
     "user_tz": -330
    },
    "id": "1cv7a7ukfTTZ",
    "papermill": {
     "duration": 0.048868,
     "end_time": "2023-03-16T14:19:24.782798",
     "exception": false,
     "start_time": "2023-03-16T14:19:24.733930",
     "status": "completed"
    },
    "tags": []
   },
   "outputs": [],
   "source": [
    "def fit(epochs, lr, model, train_loader, val_loader, opt_func=torch.optim.SGD):\n",
    "    optimizer = opt_func(model.parameters(), lr)\n",
    "    history = [] # for recording epoch-wise results\n",
    "    \n",
    "    for epoch in range(epochs):\n",
    "        \n",
    "        # Training Phase \n",
    "        for batch in train_loader:\n",
    "            loss = model.training_step(batch)\n",
    "            loss.backward()\n",
    "            optimizer.step()\n",
    "            optimizer.zero_grad()\n",
    "        \n",
    "        # Validation phase\n",
    "        result = evaluate(model, val_loader)\n",
    "        model.epoch_end(epoch, result)\n",
    "        history.append(result)\n",
    "\n",
    "    return history"
   ]
  },
  {
   "cell_type": "markdown",
   "id": "477eebca",
   "metadata": {
    "id": "TAuhlro7fTTZ",
    "papermill": {
     "duration": 0.036147,
     "end_time": "2023-03-16T14:19:24.855036",
     "exception": false,
     "start_time": "2023-03-16T14:19:24.818889",
     "status": "completed"
    },
    "tags": []
   },
   "source": [
    "The `fit` function records the validation loss and metric from each epoch. It returns a history of the training, useful for debugging & visualization.\n",
    "\n",
    "Configurations like batch size, learning rate, etc. (called hyperparameters), need to picked in advance while training machine learning models. Choosing the right hyperparameters is critical for training a reasonably accurate model within a reasonable amount of time. It is an active area of research and experimentation in machine learning. Feel free to try different learning rates and see how it affects the training process.\n",
    "\n",
    "\n",
    "Let's define the `evaluate` function, used in the validation phase of `fit`."
   ]
  },
  {
   "cell_type": "code",
   "execution_count": 46,
   "id": "53263a92",
   "metadata": {
    "execution": {
     "iopub.execute_input": "2023-03-16T14:19:24.930722Z",
     "iopub.status.busy": "2023-03-16T14:19:24.929992Z",
     "iopub.status.idle": "2023-03-16T14:19:24.934775Z",
     "shell.execute_reply": "2023-03-16T14:19:24.933874Z"
    },
    "executionInfo": {
     "elapsed": 974,
     "status": "ok",
     "timestamp": 1606581638418,
     "user": {
      "displayName": "Aakash N S",
      "photoUrl": "https://lh3.googleusercontent.com/a-/AOh14GiIWFHtan62vtW1gz2Bv2bxL3rppefcadxzEVxRKQ=s64",
      "userId": "03254185060287524023"
     },
     "user_tz": -330
    },
    "id": "N064K5H9ujtQ",
    "papermill": {
     "duration": 0.045543,
     "end_time": "2023-03-16T14:19:24.936851",
     "exception": false,
     "start_time": "2023-03-16T14:19:24.891308",
     "status": "completed"
    },
    "tags": []
   },
   "outputs": [],
   "source": [
    "l1 = [1, 2, 3, 4, 5]"
   ]
  },
  {
   "cell_type": "code",
   "execution_count": 47,
   "id": "c84ab5d3",
   "metadata": {
    "execution": {
     "iopub.execute_input": "2023-03-16T14:19:25.011107Z",
     "iopub.status.busy": "2023-03-16T14:19:25.009954Z",
     "iopub.status.idle": "2023-03-16T14:19:25.016883Z",
     "shell.execute_reply": "2023-03-16T14:19:25.016053Z"
    },
    "executionInfo": {
     "elapsed": 1036,
     "status": "ok",
     "timestamp": 1606581654744,
     "user": {
      "displayName": "Aakash N S",
      "photoUrl": "https://lh3.googleusercontent.com/a-/AOh14GiIWFHtan62vtW1gz2Bv2bxL3rppefcadxzEVxRKQ=s64",
      "userId": "03254185060287524023"
     },
     "user_tz": -330
    },
    "id": "5W8a_hmFujqa",
    "outputId": "ec0a2dfb-9b6a-48f7-86b3-5ee852af0072",
    "papermill": {
     "duration": 0.046512,
     "end_time": "2023-03-16T14:19:25.019157",
     "exception": false,
     "start_time": "2023-03-16T14:19:24.972645",
     "status": "completed"
    },
    "tags": []
   },
   "outputs": [
    {
     "data": {
      "text/plain": [
       "[2, 4, 6, 8, 10]"
      ]
     },
     "execution_count": 47,
     "metadata": {},
     "output_type": "execute_result"
    }
   ],
   "source": [
    "l2 = [x*2 for x in l1]\n",
    "l2"
   ]
  },
  {
   "cell_type": "code",
   "execution_count": 48,
   "id": "66905882",
   "metadata": {
    "execution": {
     "iopub.execute_input": "2023-03-16T14:19:25.095142Z",
     "iopub.status.busy": "2023-03-16T14:19:25.094314Z",
     "iopub.status.idle": "2023-03-16T14:19:25.099419Z",
     "shell.execute_reply": "2023-03-16T14:19:25.098509Z"
    },
    "executionInfo": {
     "elapsed": 943,
     "status": "ok",
     "timestamp": 1606581713680,
     "user": {
      "displayName": "Aakash N S",
      "photoUrl": "https://lh3.googleusercontent.com/a-/AOh14GiIWFHtan62vtW1gz2Bv2bxL3rppefcadxzEVxRKQ=s64",
      "userId": "03254185060287524023"
     },
     "user_tz": -330
    },
    "id": "wgWjXs5mfTTZ",
    "papermill": {
     "duration": 0.046654,
     "end_time": "2023-03-16T14:19:25.101925",
     "exception": false,
     "start_time": "2023-03-16T14:19:25.055271",
     "status": "completed"
    },
    "tags": []
   },
   "outputs": [],
   "source": [
    "def evaluate(model, val_loader):\n",
    "    outputs = [model.validation_step(batch) for batch in val_loader]\n",
    "    return model.validation_epoch_end(outputs)"
   ]
  },
  {
   "cell_type": "markdown",
   "id": "1cd72986",
   "metadata": {
    "id": "FdcKIXvMfTTZ",
    "papermill": {
     "duration": 0.036117,
     "end_time": "2023-03-16T14:19:25.175810",
     "exception": false,
     "start_time": "2023-03-16T14:19:25.139693",
     "status": "completed"
    },
    "tags": []
   },
   "source": [
    "\n",
    "Finally, let's redefine the `MnistModel` class to include additional methods `training_step`, `validation_step`, `validation_epoch_end`, and `epoch_end` used by `fit` and `evaluate`."
   ]
  },
  {
   "cell_type": "code",
   "execution_count": 49,
   "id": "1c5da49c",
   "metadata": {
    "execution": {
     "iopub.execute_input": "2023-03-16T14:19:25.249506Z",
     "iopub.status.busy": "2023-03-16T14:19:25.249056Z",
     "iopub.status.idle": "2023-03-16T14:19:25.260899Z",
     "shell.execute_reply": "2023-03-16T14:19:25.259775Z"
    },
    "executionInfo": {
     "elapsed": 785,
     "status": "ok",
     "timestamp": 1606582144490,
     "user": {
      "displayName": "Aakash N S",
      "photoUrl": "https://lh3.googleusercontent.com/a-/AOh14GiIWFHtan62vtW1gz2Bv2bxL3rppefcadxzEVxRKQ=s64",
      "userId": "03254185060287524023"
     },
     "user_tz": -330
    },
    "id": "SbJN7ICGfTTZ",
    "papermill": {
     "duration": 0.051645,
     "end_time": "2023-03-16T14:19:25.263136",
     "exception": false,
     "start_time": "2023-03-16T14:19:25.211491",
     "status": "completed"
    },
    "tags": []
   },
   "outputs": [],
   "source": [
    "class MnistModel(nn.Module):\n",
    "    def __init__(\n",
    "        self,\n",
    "        input_size:int=784\n",
    "    ):\n",
    "        super().__init__()\n",
    "        self.linear = nn.Linear(input_size, num_classes)\n",
    "        \n",
    "    def forward(self, xb):\n",
    "        xb = xb.reshape(-1, 784)\n",
    "        out = self.linear(xb)\n",
    "        return out\n",
    "    \n",
    "    def training_step(self, batch):\n",
    "        images, labels = batch \n",
    "        out = self(images)                  # Generate predictions\n",
    "        loss = F.cross_entropy(out, labels) # Calculate loss\n",
    "        return loss\n",
    "    \n",
    "    def validation_step(self, batch):\n",
    "        images, labels = batch \n",
    "        out = self(images)                    # Generate predictions\n",
    "        loss = F.cross_entropy(out, labels)   # Calculate loss\n",
    "        acc = accuracy(out, labels)           # Calculate accuracy\n",
    "        return {'val_loss': loss, 'val_acc': acc}\n",
    "        \n",
    "    def validation_epoch_end(self, outputs):\n",
    "        batch_losses = [x['val_loss'] for x in outputs]\n",
    "        epoch_loss = torch.stack(batch_losses).mean()   # Combine losses\n",
    "        batch_accs = [x['val_acc'] for x in outputs]\n",
    "        epoch_acc = torch.stack(batch_accs).mean()      # Combine accuracies\n",
    "        return {'val_loss': epoch_loss.item(), 'val_acc': epoch_acc.item()}\n",
    "    \n",
    "    def epoch_end(self, epoch, result):\n",
    "        print(\"Epoch [{}], val_loss: {:.4f}, val_acc: {:.4f}\".format(epoch, result['val_loss'], result['val_acc']))\n",
    "    \n",
    "model = MnistModel()"
   ]
  },
  {
   "cell_type": "markdown",
   "id": "ecfcd0dd",
   "metadata": {
    "id": "Y-omw1RBfTTZ",
    "papermill": {
     "duration": 0.036503,
     "end_time": "2023-03-16T14:19:25.335938",
     "exception": false,
     "start_time": "2023-03-16T14:19:25.299435",
     "status": "completed"
    },
    "tags": []
   },
   "source": [
    "Before we train the model, let's see how the model performs on the validation set with the initial set of randomly initialized weights & biases.\n",
    "\n"
   ]
  },
  {
   "cell_type": "code",
   "execution_count": 50,
   "id": "dee68bc7",
   "metadata": {
    "execution": {
     "iopub.execute_input": "2023-03-16T14:19:25.410493Z",
     "iopub.status.busy": "2023-03-16T14:19:25.409689Z",
     "iopub.status.idle": "2023-03-16T14:19:26.451197Z",
     "shell.execute_reply": "2023-03-16T14:19:26.450041Z"
    },
    "executionInfo": {
     "elapsed": 1817,
     "status": "ok",
     "timestamp": 1606582146179,
     "user": {
      "displayName": "Aakash N S",
      "photoUrl": "https://lh3.googleusercontent.com/a-/AOh14GiIWFHtan62vtW1gz2Bv2bxL3rppefcadxzEVxRKQ=s64",
      "userId": "03254185060287524023"
     },
     "user_tz": -330
    },
    "id": "tNUBy9qTfTTZ",
    "outputId": "774e8e20-68c2-4a30-ada9-4e0df23285ac",
    "papermill": {
     "duration": 1.081836,
     "end_time": "2023-03-16T14:19:26.453961",
     "exception": false,
     "start_time": "2023-03-16T14:19:25.372125",
     "status": "completed"
    },
    "tags": []
   },
   "outputs": [
    {
     "data": {
      "text/plain": [
       "{'val_loss': 2.3077707290649414, 'val_acc': 0.1106605976819992}"
      ]
     },
     "execution_count": 50,
     "metadata": {},
     "output_type": "execute_result"
    }
   ],
   "source": [
    "result0 = evaluate(model, val_loader)\n",
    "result0"
   ]
  },
  {
   "cell_type": "markdown",
   "id": "7f6bd1e9",
   "metadata": {
    "id": "KapQW0CDfTTZ",
    "papermill": {
     "duration": 0.035691,
     "end_time": "2023-03-16T14:19:26.526057",
     "exception": false,
     "start_time": "2023-03-16T14:19:26.490366",
     "status": "completed"
    },
    "tags": []
   },
   "source": [
    "The initial accuracy is around 10%, which one might expect from a randomly initialized model (since it has a 1 in 10 chance of getting a label right by guessing randomly).\n",
    "\n",
    "We are now ready to train the model. Let's train for five epochs and look at the results."
   ]
  },
  {
   "cell_type": "code",
   "execution_count": 51,
   "id": "5b4a9f4e",
   "metadata": {
    "execution": {
     "iopub.execute_input": "2023-03-16T14:19:26.599580Z",
     "iopub.status.busy": "2023-03-16T14:19:26.599121Z",
     "iopub.status.idle": "2023-03-16T14:19:58.261960Z",
     "shell.execute_reply": "2023-03-16T14:19:58.260580Z"
    },
    "executionInfo": {
     "elapsed": 25282,
     "status": "ok",
     "timestamp": 1606582219804,
     "user": {
      "displayName": "Aakash N S",
      "photoUrl": "https://lh3.googleusercontent.com/a-/AOh14GiIWFHtan62vtW1gz2Bv2bxL3rppefcadxzEVxRKQ=s64",
      "userId": "03254185060287524023"
     },
     "user_tz": -330
    },
    "id": "MQRahsa6fTTZ",
    "outputId": "864bc5a4-c235-458c-e316-764cae8bb587",
    "papermill": {
     "duration": 31.739555,
     "end_time": "2023-03-16T14:19:58.301518",
     "exception": false,
     "start_time": "2023-03-16T14:19:26.561963",
     "status": "completed"
    },
    "tags": []
   },
   "outputs": [
    {
     "name": "stdout",
     "output_type": "stream",
     "text": [
      "Epoch [0], val_loss: 1.9498, val_acc: 0.6138\n",
      "Epoch [1], val_loss: 1.6832, val_acc: 0.7211\n",
      "Epoch [2], val_loss: 1.4836, val_acc: 0.7550\n",
      "Epoch [3], val_loss: 1.3328, val_acc: 0.7770\n",
      "Epoch [4], val_loss: 1.2166, val_acc: 0.7915\n"
     ]
    }
   ],
   "source": [
    "history1 = fit(5, 0.001, model, train_loader, val_loader)"
   ]
  },
  {
   "cell_type": "markdown",
   "id": "8cc31b4f",
   "metadata": {
    "id": "5mcIbHuKfTTa",
    "papermill": {
     "duration": 0.036358,
     "end_time": "2023-03-16T14:19:58.374334",
     "exception": false,
     "start_time": "2023-03-16T14:19:58.337976",
     "status": "completed"
    },
    "tags": []
   },
   "source": [
    "That's a great result! With just 5 epochs of training, our model has reached an accuracy of over 80% on the validation set. Let's see if we can improve that by training for a few more epochs. Try changing the learning rates and number of epochs in each of the cells below."
   ]
  },
  {
   "cell_type": "code",
   "execution_count": 52,
   "id": "07c8a66d",
   "metadata": {
    "execution": {
     "iopub.execute_input": "2023-03-16T14:19:58.449535Z",
     "iopub.status.busy": "2023-03-16T14:19:58.448933Z",
     "iopub.status.idle": "2023-03-16T14:20:30.195669Z",
     "shell.execute_reply": "2023-03-16T14:20:30.194381Z"
    },
    "executionInfo": {
     "elapsed": 48991,
     "status": "ok",
     "timestamp": 1606582243818,
     "user": {
      "displayName": "Aakash N S",
      "photoUrl": "https://lh3.googleusercontent.com/a-/AOh14GiIWFHtan62vtW1gz2Bv2bxL3rppefcadxzEVxRKQ=s64",
      "userId": "03254185060287524023"
     },
     "user_tz": -330
    },
    "id": "cJvMd9CufTTa",
    "outputId": "c15d370b-4d0b-4644-8ddb-965117f03ba8",
    "papermill": {
     "duration": 31.828197,
     "end_time": "2023-03-16T14:20:30.239075",
     "exception": false,
     "start_time": "2023-03-16T14:19:58.410878",
     "status": "completed"
    },
    "tags": []
   },
   "outputs": [
    {
     "name": "stdout",
     "output_type": "stream",
     "text": [
      "Epoch [0], val_loss: 1.1252, val_acc: 0.8037\n",
      "Epoch [1], val_loss: 1.0517, val_acc: 0.8113\n",
      "Epoch [2], val_loss: 0.9914, val_acc: 0.8175\n",
      "Epoch [3], val_loss: 0.9412, val_acc: 0.8214\n",
      "Epoch [4], val_loss: 0.8986, val_acc: 0.8267\n"
     ]
    }
   ],
   "source": [
    "history2 = fit(5, 0.001, model, train_loader, val_loader)"
   ]
  },
  {
   "cell_type": "code",
   "execution_count": 53,
   "id": "ecb7a72a",
   "metadata": {
    "execution": {
     "iopub.execute_input": "2023-03-16T14:20:30.318945Z",
     "iopub.status.busy": "2023-03-16T14:20:30.318475Z",
     "iopub.status.idle": "2023-03-16T14:21:02.418785Z",
     "shell.execute_reply": "2023-03-16T14:21:02.417189Z"
    },
    "executionInfo": {
     "elapsed": 72873,
     "status": "ok",
     "timestamp": 1606582267867,
     "user": {
      "displayName": "Aakash N S",
      "photoUrl": "https://lh3.googleusercontent.com/a-/AOh14GiIWFHtan62vtW1gz2Bv2bxL3rppefcadxzEVxRKQ=s64",
      "userId": "03254185060287524023"
     },
     "user_tz": -330
    },
    "id": "hON9V8GBfTTa",
    "outputId": "08129337-153d-4eaa-eb13-1ee86089d60f",
    "papermill": {
     "duration": 32.180127,
     "end_time": "2023-03-16T14:21:02.459477",
     "exception": false,
     "start_time": "2023-03-16T14:20:30.279350",
     "status": "completed"
    },
    "tags": []
   },
   "outputs": [
    {
     "name": "stdout",
     "output_type": "stream",
     "text": [
      "Epoch [0], val_loss: 0.8622, val_acc: 0.8313\n",
      "Epoch [1], val_loss: 0.8305, val_acc: 0.8343\n",
      "Epoch [2], val_loss: 0.8028, val_acc: 0.8374\n",
      "Epoch [3], val_loss: 0.7783, val_acc: 0.8389\n",
      "Epoch [4], val_loss: 0.7564, val_acc: 0.8410\n"
     ]
    }
   ],
   "source": [
    "history3 = fit(5, 0.001, model, train_loader, val_loader)"
   ]
  },
  {
   "cell_type": "code",
   "execution_count": 54,
   "id": "a68cc1f0",
   "metadata": {
    "execution": {
     "iopub.execute_input": "2023-03-16T14:21:02.537220Z",
     "iopub.status.busy": "2023-03-16T14:21:02.536822Z",
     "iopub.status.idle": "2023-03-16T14:21:34.799050Z",
     "shell.execute_reply": "2023-03-16T14:21:34.797749Z"
    },
    "executionInfo": {
     "elapsed": 96447,
     "status": "ok",
     "timestamp": 1606582291889,
     "user": {
      "displayName": "Aakash N S",
      "photoUrl": "https://lh3.googleusercontent.com/a-/AOh14GiIWFHtan62vtW1gz2Bv2bxL3rppefcadxzEVxRKQ=s64",
      "userId": "03254185060287524023"
     },
     "user_tz": -330
    },
    "id": "V5ALmwZjfTTa",
    "outputId": "340bd5b7-e290-4cbe-9a62-f5901f09bf63",
    "papermill": {
     "duration": 32.343098,
     "end_time": "2023-03-16T14:21:34.840548",
     "exception": false,
     "start_time": "2023-03-16T14:21:02.497450",
     "status": "completed"
    },
    "tags": []
   },
   "outputs": [
    {
     "name": "stdout",
     "output_type": "stream",
     "text": [
      "Epoch [0], val_loss: 0.7368, val_acc: 0.8432\n",
      "Epoch [1], val_loss: 0.7191, val_acc: 0.8450\n",
      "Epoch [2], val_loss: 0.7029, val_acc: 0.8475\n",
      "Epoch [3], val_loss: 0.6882, val_acc: 0.8490\n",
      "Epoch [4], val_loss: 0.6748, val_acc: 0.8518\n"
     ]
    }
   ],
   "source": [
    "history4 = fit(5, 0.001, model, train_loader, val_loader)"
   ]
  },
  {
   "cell_type": "markdown",
   "id": "71ea81d6",
   "metadata": {
    "id": "sCm1903IfTTa",
    "papermill": {
     "duration": 0.038322,
     "end_time": "2023-03-16T14:21:34.916418",
     "exception": false,
     "start_time": "2023-03-16T14:21:34.878096",
     "status": "completed"
    },
    "tags": []
   },
   "source": [
    "While the accuracy does continue to increase as we train for more epochs, the improvements get smaller with every epoch. Let's visualize this using a line graph."
   ]
  },
  {
   "cell_type": "code",
   "execution_count": 55,
   "id": "9f610f29",
   "metadata": {
    "execution": {
     "iopub.execute_input": "2023-03-16T14:21:34.994172Z",
     "iopub.status.busy": "2023-03-16T14:21:34.993722Z",
     "iopub.status.idle": "2023-03-16T14:21:35.260498Z",
     "shell.execute_reply": "2023-03-16T14:21:35.258996Z"
    },
    "executionInfo": {
     "elapsed": 825,
     "status": "ok",
     "timestamp": 1606582484777,
     "user": {
      "displayName": "Aakash N S",
      "photoUrl": "https://lh3.googleusercontent.com/a-/AOh14GiIWFHtan62vtW1gz2Bv2bxL3rppefcadxzEVxRKQ=s64",
      "userId": "03254185060287524023"
     },
     "user_tz": -330
    },
    "id": "swNRQSa0fTTa",
    "outputId": "fa726f42-fc0a-4a74-e660-e105192777b4",
    "papermill": {
     "duration": 0.309051,
     "end_time": "2023-03-16T14:21:35.263520",
     "exception": false,
     "start_time": "2023-03-16T14:21:34.954469",
     "status": "completed"
    },
    "tags": []
   },
   "outputs": [
    {
     "data": {
      "image/png": "[encoded data removed]",
      "text/plain": [
       "<Figure size 640x480 with 1 Axes>"
      ]
     },
     "metadata": {},
     "output_type": "display_data"
    }
   ],
   "source": [
    "history = [result0] + history1 + history2 + history3 + history4\n",
    "accuracies = [result['val_acc'] for result in history]\n",
    "plt.plot(accuracies, '-x')\n",
    "plt.xlabel('epoch')\n",
    "plt.ylabel('accuracy')\n",
    "plt.title('Accuracy vs. No. of epochs');"
   ]
  },
  {
   "cell_type": "markdown",
   "id": "81fd6908",
   "metadata": {
    "id": "G-a7zRGxfTTa",
    "papermill": {
     "duration": 0.038403,
     "end_time": "2023-03-16T14:21:35.340891",
     "exception": false,
     "start_time": "2023-03-16T14:21:35.302488",
     "status": "completed"
    },
    "tags": []
   },
   "source": [
    "It's quite clear from the above picture that the model probably won't cross the accuracy threshold of 90% even after training for a very long time. One possible reason for this is that the learning rate might be too high. The model's parameters may be \"bouncing\" around the optimal set of parameters for the lowest loss. You can try reducing the learning rate and training for a few more epochs to see if it helps.\n",
    "\n",
    "The more likely reason that **the model just isn't powerful enough**. If you remember our initial hypothesis, we have assumed that the output (in this case the class probabilities) is a **linear function** of the input (pixel intensities), obtained by perfoming a matrix multiplication with the weights matrix and adding the bias. This is a fairly weak assumption, as there may not actually exist a linear relationship between the pixel intensities in an image and the digit it represents. While it works reasonably well for a simple dataset like MNIST (getting us to 85% accuracy), we need more sophisticated models that can capture non-linear relationships between image pixels and labels for complex tasks like recognizing everyday objects, animals etc. \n",
    "\n",
    "Let's save our work using `jovian.commit`. Along with the notebook, we can also record some metrics from our training."
   ]
  },
  {
   "cell_type": "markdown",
   "id": "120a8c79",
   "metadata": {
    "id": "_qUQKIJefTTa",
    "papermill": {
     "duration": 0.03773,
     "end_time": "2023-03-16T14:21:35.417160",
     "exception": false,
     "start_time": "2023-03-16T14:21:35.379430",
     "status": "completed"
    },
    "tags": []
   },
   "source": [
    "While we have been tracking the overall accuracy of a model so far, it's also a good idea to look at model's results on some sample images. Let's test out our model with some images from the predefined test dataset of 10000 images. We begin by recreating the test dataset with the `ToTensor` transform."
   ]
  },
  {
   "cell_type": "code",
   "execution_count": 56,
   "id": "6ecf69a2",
   "metadata": {
    "execution": {
     "iopub.execute_input": "2023-03-16T14:21:35.498087Z",
     "iopub.status.busy": "2023-03-16T14:21:35.497228Z",
     "iopub.status.idle": "2023-03-16T14:21:35.508172Z",
     "shell.execute_reply": "2023-03-16T14:21:35.506783Z"
    },
    "executionInfo": {
     "elapsed": 784,
     "status": "ok",
     "timestamp": 1606582915241,
     "user": {
      "displayName": "Aakash N S",
      "photoUrl": "https://lh3.googleusercontent.com/a-/AOh14GiIWFHtan62vtW1gz2Bv2bxL3rppefcadxzEVxRKQ=s64",
      "userId": "03254185060287524023"
     },
     "user_tz": -330
    },
    "id": "KqcHUQK3fTTa",
    "papermill": {
     "duration": 0.055167,
     "end_time": "2023-03-16T14:21:35.511331",
     "exception": false,
     "start_time": "2023-03-16T14:21:35.456164",
     "status": "completed"
    },
    "tags": []
   },
   "outputs": [],
   "source": [
    "# Define test dataset\n",
    "test_dataset = MNIST(root='data/', \n",
    "                     train=False,\n",
    "                     transform=transforms.ToTensor())"
   ]
  },
  {
   "cell_type": "markdown",
   "id": "64c134dd",
   "metadata": {
    "id": "Sw9J_viefTTa",
    "papermill": {
     "duration": 0.037937,
     "end_time": "2023-03-16T14:21:35.587211",
     "exception": false,
     "start_time": "2023-03-16T14:21:35.549274",
     "status": "completed"
    },
    "tags": []
   },
   "source": [
    "Here's a sample image from the dataset."
   ]
  },
  {
   "cell_type": "code",
   "execution_count": 57,
   "id": "33be4682",
   "metadata": {
    "execution": {
     "iopub.execute_input": "2023-03-16T14:21:35.665983Z",
     "iopub.status.busy": "2023-03-16T14:21:35.664717Z",
     "iopub.status.idle": "2023-03-16T14:21:35.892215Z",
     "shell.execute_reply": "2023-03-16T14:21:35.890655Z"
    },
    "executionInfo": {
     "elapsed": 784,
     "status": "ok",
     "timestamp": 1606582938197,
     "user": {
      "displayName": "Aakash N S",
      "photoUrl": "https://lh3.googleusercontent.com/a-/AOh14GiIWFHtan62vtW1gz2Bv2bxL3rppefcadxzEVxRKQ=s64",
      "userId": "03254185060287524023"
     },
     "user_tz": -330
    },
    "id": "yzEdFHq6fTTa",
    "outputId": "4e0faa6b-789f-46c4-9c25-27441665844c",
    "papermill": {
     "duration": 0.269506,
     "end_time": "2023-03-16T14:21:35.894874",
     "exception": false,
     "start_time": "2023-03-16T14:21:35.625368",
     "status": "completed"
    },
    "tags": []
   },
   "outputs": [
    {
     "name": "stdout",
     "output_type": "stream",
     "text": [
      "Shape: torch.Size([1, 28, 28])\n",
      "Label: 7\n"
     ]
    },
    {
     "data": {
      "image/png": "[encoded data removed]",
      "text/plain": [
       "<Figure size 640x480 with 1 Axes>"
      ]
     },
     "metadata": {},
     "output_type": "display_data"
    }
   ],
   "source": [
    "img, label = test_dataset[0]\n",
    "plt.imshow(img[0], cmap='gray')\n",
    "print('Shape:', img.shape)\n",
    "print('Label:', label)"
   ]
  },
  {
   "cell_type": "markdown",
   "id": "f68a0a3b",
   "metadata": {
    "id": "QgwbsDUjfTTa",
    "papermill": {
     "duration": 0.037727,
     "end_time": "2023-03-16T14:21:35.971154",
     "exception": false,
     "start_time": "2023-03-16T14:21:35.933427",
     "status": "completed"
    },
    "tags": []
   },
   "source": [
    "Let's define a helper function `predict_image`, which returns the predicted label for a single image tensor."
   ]
  },
  {
   "cell_type": "code",
   "execution_count": 58,
   "id": "8791bce3",
   "metadata": {
    "execution": {
     "iopub.execute_input": "2023-03-16T14:21:36.051115Z",
     "iopub.status.busy": "2023-03-16T14:21:36.050320Z",
     "iopub.status.idle": "2023-03-16T14:21:36.056073Z",
     "shell.execute_reply": "2023-03-16T14:21:36.054787Z"
    },
    "executionInfo": {
     "elapsed": 802,
     "status": "ok",
     "timestamp": 1606583060675,
     "user": {
      "displayName": "Aakash N S",
      "photoUrl": "https://lh3.googleusercontent.com/a-/AOh14GiIWFHtan62vtW1gz2Bv2bxL3rppefcadxzEVxRKQ=s64",
      "userId": "03254185060287524023"
     },
     "user_tz": -330
    },
    "id": "9FfeYQaOfTTa",
    "papermill": {
     "duration": 0.049236,
     "end_time": "2023-03-16T14:21:36.059050",
     "exception": false,
     "start_time": "2023-03-16T14:21:36.009814",
     "status": "completed"
    },
    "tags": []
   },
   "outputs": [],
   "source": [
    "def predict_image(img, model):\n",
    "    xb = img.unsqueeze(0)\n",
    "    yb = model(xb)\n",
    "    _, preds = torch.max(yb, dim=1)\n",
    "    return preds[0].item()"
   ]
  },
  {
   "cell_type": "markdown",
   "id": "96ce6721",
   "metadata": {
    "id": "9ppgosBYfTTa",
    "papermill": {
     "duration": 0.039357,
     "end_time": "2023-03-16T14:21:36.136797",
     "exception": false,
     "start_time": "2023-03-16T14:21:36.097440",
     "status": "completed"
    },
    "tags": []
   },
   "source": [
    "`img.unsqueeze` simply adds another dimension at the begining of the 1x28x28 tensor, making it a 1x1x28x28 tensor, which the model views as a batch containing a single image.\n",
    "\n",
    "Let's try it out with a few images."
   ]
  },
  {
   "cell_type": "code",
   "execution_count": 59,
   "id": "339ab172",
   "metadata": {
    "execution": {
     "iopub.execute_input": "2023-03-16T14:21:36.216234Z",
     "iopub.status.busy": "2023-03-16T14:21:36.215785Z",
     "iopub.status.idle": "2023-03-16T14:21:36.450051Z",
     "shell.execute_reply": "2023-03-16T14:21:36.448688Z"
    },
    "executionInfo": {
     "elapsed": 762,
     "status": "ok",
     "timestamp": 1606583096435,
     "user": {
      "displayName": "Aakash N S",
      "photoUrl": "https://lh3.googleusercontent.com/a-/AOh14GiIWFHtan62vtW1gz2Bv2bxL3rppefcadxzEVxRKQ=s64",
      "userId": "03254185060287524023"
     },
     "user_tz": -330
    },
    "id": "sPNcp52ifTTa",
    "outputId": "3f209ee0-d70e-4631-bc01-bf67165a8347",
    "papermill": {
     "duration": 0.277602,
     "end_time": "2023-03-16T14:21:36.453191",
     "exception": false,
     "start_time": "2023-03-16T14:21:36.175589",
     "status": "completed"
    },
    "tags": []
   },
   "outputs": [
    {
     "name": "stdout",
     "output_type": "stream",
     "text": [
      "Label: 7 , Predicted: 7\n"
     ]
    },
    {
     "data": {
      "image/png": "[encoded data removed]",
      "text/plain": [
       "<Figure size 640x480 with 1 Axes>"
      ]
     },
     "metadata": {},
     "output_type": "display_data"
    }
   ],
   "source": [
    "img, label = test_dataset[0]\n",
    "plt.imshow(img[0], cmap='gray')\n",
    "print('Label:', label, ', Predicted:', predict_image(img, model))"
   ]
  },
  {
   "cell_type": "code",
   "execution_count": 60,
   "id": "383633dc",
   "metadata": {
    "execution": {
     "iopub.execute_input": "2023-03-16T14:21:36.534039Z",
     "iopub.status.busy": "2023-03-16T14:21:36.533070Z",
     "iopub.status.idle": "2023-03-16T14:21:36.759775Z",
     "shell.execute_reply": "2023-03-16T14:21:36.758285Z"
    },
    "executionInfo": {
     "elapsed": 740,
     "status": "ok",
     "timestamp": 1606583105128,
     "user": {
      "displayName": "Aakash N S",
      "photoUrl": "https://lh3.googleusercontent.com/a-/AOh14GiIWFHtan62vtW1gz2Bv2bxL3rppefcadxzEVxRKQ=s64",
      "userId": "03254185060287524023"
     },
     "user_tz": -330
    },
    "id": "Nrj-w1COfTTa",
    "outputId": "63571287-3d8e-430f-c146-38167c355d2d",
    "papermill": {
     "duration": 0.269839,
     "end_time": "2023-03-16T14:21:36.762540",
     "exception": false,
     "start_time": "2023-03-16T14:21:36.492701",
     "status": "completed"
    },
    "tags": []
   },
   "outputs": [
    {
     "name": "stdout",
     "output_type": "stream",
     "text": [
      "Label: 0 , Predicted: 0\n"
     ]
    },
    {
     "data": {
      "image/png": "[encoded data removed]",
      "text/plain": [
       "<Figure size 640x480 with 1 Axes>"
      ]
     },
     "metadata": {},
     "output_type": "display_data"
    }
   ],
   "source": [
    "img, label = test_dataset[10]\n",
    "plt.imshow(img[0], cmap='gray')\n",
    "print('Label:', label, ', Predicted:', predict_image(img, model))"
   ]
  },
  {
   "cell_type": "code",
   "execution_count": 61,
   "id": "1bc1fbea",
   "metadata": {
    "execution": {
     "iopub.execute_input": "2023-03-16T14:21:36.844412Z",
     "iopub.status.busy": "2023-03-16T14:21:36.843968Z",
     "iopub.status.idle": "2023-03-16T14:21:37.075691Z",
     "shell.execute_reply": "2023-03-16T14:21:37.073935Z"
    },
    "executionInfo": {
     "elapsed": 751,
     "status": "ok",
     "timestamp": 1606583112083,
     "user": {
      "displayName": "Aakash N S",
      "photoUrl": "https://lh3.googleusercontent.com/a-/AOh14GiIWFHtan62vtW1gz2Bv2bxL3rppefcadxzEVxRKQ=s64",
      "userId": "03254185060287524023"
     },
     "user_tz": -330
    },
    "id": "EPrF7gB4fTTb",
    "outputId": "f315cb3c-7eb9-47aa-95ee-c4e917f28bda",
    "papermill": {
     "duration": 0.276784,
     "end_time": "2023-03-16T14:21:37.078593",
     "exception": false,
     "start_time": "2023-03-16T14:21:36.801809",
     "status": "completed"
    },
    "tags": []
   },
   "outputs": [
    {
     "name": "stdout",
     "output_type": "stream",
     "text": [
      "Label: 9 , Predicted: 9\n"
     ]
    },
    {
     "data": {
      "image/png": "[encoded data removed]",
      "text/plain": [
       "<Figure size 640x480 with 1 Axes>"
      ]
     },
     "metadata": {},
     "output_type": "display_data"
    }
   ],
   "source": [
    "img, label = test_dataset[193]\n",
    "plt.imshow(img[0], cmap='gray')\n",
    "print('Label:', label, ', Predicted:', predict_image(img, model))"
   ]
  },
  {
   "cell_type": "code",
   "execution_count": 62,
   "id": "2ac58aae",
   "metadata": {
    "execution": {
     "iopub.execute_input": "2023-03-16T14:21:37.160146Z",
     "iopub.status.busy": "2023-03-16T14:21:37.159296Z",
     "iopub.status.idle": "2023-03-16T14:21:37.392049Z",
     "shell.execute_reply": "2023-03-16T14:21:37.390456Z"
    },
    "executionInfo": {
     "elapsed": 790,
     "status": "ok",
     "timestamp": 1606583155559,
     "user": {
      "displayName": "Aakash N S",
      "photoUrl": "https://lh3.googleusercontent.com/a-/AOh14GiIWFHtan62vtW1gz2Bv2bxL3rppefcadxzEVxRKQ=s64",
      "userId": "03254185060287524023"
     },
     "user_tz": -330
    },
    "id": "eetYJdoFfTTb",
    "outputId": "da8c6613-355a-4479-cb49-574236d2de5c",
    "papermill": {
     "duration": 0.276851,
     "end_time": "2023-03-16T14:21:37.395159",
     "exception": false,
     "start_time": "2023-03-16T14:21:37.118308",
     "status": "completed"
    },
    "tags": []
   },
   "outputs": [
    {
     "name": "stdout",
     "output_type": "stream",
     "text": [
      "Label: 2 , Predicted: 8\n"
     ]
    },
    {
     "data": {
      "image/png": "[encoded data removed]",
      "text/plain": [
       "<Figure size 640x480 with 1 Axes>"
      ]
     },
     "metadata": {},
     "output_type": "display_data"
    }
   ],
   "source": [
    "img, label = test_dataset[1839]\n",
    "plt.imshow(img[0], cmap='gray')\n",
    "print('Label:', label, ', Predicted:', predict_image(img, model))"
   ]
  },
  {
   "cell_type": "markdown",
   "id": "3254b24d",
   "metadata": {
    "id": "jQ6Wsk4TfTTb",
    "papermill": {
     "duration": 0.039754,
     "end_time": "2023-03-16T14:21:37.475332",
     "exception": false,
     "start_time": "2023-03-16T14:21:37.435578",
     "status": "completed"
    },
    "tags": []
   },
   "source": [
    "Identifying where our model performs poorly can help us improve the model, by collecting more training data, increasing/decreasing the complexity of the model, and changing the hypeparameters.\n",
    "\n",
    "As a final step, let's also look at the overall loss and accuracy of the model on the test set."
   ]
  },
  {
   "cell_type": "code",
   "execution_count": 63,
   "id": "e37deacd",
   "metadata": {
    "execution": {
     "iopub.execute_input": "2023-03-16T14:21:37.557166Z",
     "iopub.status.busy": "2023-03-16T14:21:37.556732Z",
     "iopub.status.idle": "2023-03-16T14:21:38.563658Z",
     "shell.execute_reply": "2023-03-16T14:21:38.562429Z"
    },
    "executionInfo": {
     "elapsed": 1572,
     "status": "ok",
     "timestamp": 1606583301081,
     "user": {
      "displayName": "Aakash N S",
      "photoUrl": "https://lh3.googleusercontent.com/a-/AOh14GiIWFHtan62vtW1gz2Bv2bxL3rppefcadxzEVxRKQ=s64",
      "userId": "03254185060287524023"
     },
     "user_tz": -330
    },
    "id": "6bdjaeG-fTTb",
    "outputId": "c4479ab7-ee92-46d4-ac0d-9217d6873f43",
    "papermill": {
     "duration": 1.051252,
     "end_time": "2023-03-16T14:21:38.566060",
     "exception": false,
     "start_time": "2023-03-16T14:21:37.514808",
     "status": "completed"
    },
    "tags": []
   },
   "outputs": [
    {
     "data": {
      "text/plain": [
       "{'val_loss': 0.6418572664260864, 'val_acc': 0.8607422113418579}"
      ]
     },
     "execution_count": 63,
     "metadata": {},
     "output_type": "execute_result"
    }
   ],
   "source": [
    "test_loader = DataLoader(test_dataset, batch_size=256)\n",
    "result = evaluate(model, test_loader)\n",
    "result"
   ]
  },
  {
   "cell_type": "markdown",
   "id": "ef2a23d7",
   "metadata": {
    "id": "pfe2IzF3fTTb",
    "papermill": {
     "duration": 0.039976,
     "end_time": "2023-03-16T14:21:38.645817",
     "exception": false,
     "start_time": "2023-03-16T14:21:38.605841",
     "status": "completed"
    },
    "tags": []
   },
   "source": [
    "We expect this to be similar to the accuracy/loss on the validation set. If not, we might need a better validation set that has similar data and distribution as the test set (which often comes from real world data)."
   ]
  },
  {
   "cell_type": "markdown",
   "id": "9295eea5",
   "metadata": {
    "id": "TqC3HEZJfTTb",
    "papermill": {
     "duration": 0.038938,
     "end_time": "2023-03-16T14:21:38.724380",
     "exception": false,
     "start_time": "2023-03-16T14:21:38.685442",
     "status": "completed"
    },
    "tags": []
   },
   "source": [
    "## Saving and loading the model"
   ]
  },
  {
   "cell_type": "markdown",
   "id": "b5062f9f",
   "metadata": {
    "id": "KyE7vx_zfTTb",
    "papermill": {
     "duration": 0.039523,
     "end_time": "2023-03-16T14:21:38.803489",
     "exception": false,
     "start_time": "2023-03-16T14:21:38.763966",
     "status": "completed"
    },
    "tags": []
   },
   "source": [
    "Since we've trained our model for a long time and achieved a resonable accuracy, it would be a good idea to save the weights and bias matrices to disk, so that we can reuse the model later and avoid retraining from scratch. Here's how you can save the model."
   ]
  },
  {
   "cell_type": "code",
   "execution_count": 64,
   "id": "c5ba9792",
   "metadata": {
    "execution": {
     "iopub.execute_input": "2023-03-16T14:21:38.885326Z",
     "iopub.status.busy": "2023-03-16T14:21:38.884852Z",
     "iopub.status.idle": "2023-03-16T14:21:38.891850Z",
     "shell.execute_reply": "2023-03-16T14:21:38.890605Z"
    },
    "executionInfo": {
     "elapsed": 796,
     "status": "ok",
     "timestamp": 1606583486154,
     "user": {
      "displayName": "Aakash N S",
      "photoUrl": "https://lh3.googleusercontent.com/a-/AOh14GiIWFHtan62vtW1gz2Bv2bxL3rppefcadxzEVxRKQ=s64",
      "userId": "03254185060287524023"
     },
     "user_tz": -330
    },
    "id": "xESC-106fTTb",
    "papermill": {
     "duration": 0.050578,
     "end_time": "2023-03-16T14:21:38.894315",
     "exception": false,
     "start_time": "2023-03-16T14:21:38.843737",
     "status": "completed"
    },
    "tags": []
   },
   "outputs": [],
   "source": [
    "torch.save(model.state_dict(), 'mnist-logistic.pth')"
   ]
  },
  {
   "cell_type": "markdown",
   "id": "d10865b0",
   "metadata": {
    "id": "CAHSyFLPfTTb",
    "papermill": {
     "duration": 0.039303,
     "end_time": "2023-03-16T14:21:38.976223",
     "exception": false,
     "start_time": "2023-03-16T14:21:38.936920",
     "status": "completed"
    },
    "tags": []
   },
   "source": [
    "The `.state_dict` method returns an `OrderedDict` containing all the weights and bias matrices mapped to the right attributes of the model."
   ]
  },
  {
   "cell_type": "code",
   "execution_count": 65,
   "id": "e36c32be",
   "metadata": {
    "execution": {
     "iopub.execute_input": "2023-03-16T14:21:39.058936Z",
     "iopub.status.busy": "2023-03-16T14:21:39.058148Z",
     "iopub.status.idle": "2023-03-16T14:21:39.067093Z",
     "shell.execute_reply": "2023-03-16T14:21:39.065675Z"
    },
    "executionInfo": {
     "elapsed": 781,
     "status": "ok",
     "timestamp": 1606583449734,
     "user": {
      "displayName": "Aakash N S",
      "photoUrl": "https://lh3.googleusercontent.com/a-/AOh14GiIWFHtan62vtW1gz2Bv2bxL3rppefcadxzEVxRKQ=s64",
      "userId": "03254185060287524023"
     },
     "user_tz": -330
    },
    "id": "elbp48SCfTTb",
    "outputId": "84f92a49-910c-4466-8b96-ab267026f3ac",
    "papermill": {
     "duration": 0.054027,
     "end_time": "2023-03-16T14:21:39.069945",
     "exception": false,
     "start_time": "2023-03-16T14:21:39.015918",
     "status": "completed"
    },
    "tags": []
   },
   "outputs": [
    {
     "data": {
      "text/plain": [
       "OrderedDict([('linear.weight',\n",
       "              tensor([[ 0.0063,  0.0344, -0.0354,  ..., -0.0238, -0.0230,  0.0143],\n",
       "                      [ 0.0206,  0.0299, -0.0241,  ..., -0.0210,  0.0170, -0.0160],\n",
       "                      [-0.0251, -0.0024,  0.0173,  ..., -0.0291, -0.0086,  0.0130],\n",
       "                      ...,\n",
       "                      [-0.0057, -0.0094,  0.0296,  ..., -0.0336,  0.0163,  0.0178],\n",
       "                      [-0.0343, -0.0150,  0.0231,  ...,  0.0313, -0.0244, -0.0349],\n",
       "                      [-0.0019,  0.0332,  0.0069,  ..., -0.0093,  0.0098,  0.0201]])),\n",
       "             ('linear.bias',\n",
       "              tensor([-0.0752,  0.1203, -0.0021, -0.0303,  0.0559,  0.0262,  0.0084,  0.0546,\n",
       "                      -0.0724, -0.0420]))])"
      ]
     },
     "execution_count": 65,
     "metadata": {},
     "output_type": "execute_result"
    }
   ],
   "source": [
    "model.state_dict()"
   ]
  },
  {
   "cell_type": "markdown",
   "id": "ba051b9e",
   "metadata": {
    "id": "Qc9kRTDpfTTb",
    "papermill": {
     "duration": 0.040463,
     "end_time": "2023-03-16T14:21:39.150817",
     "exception": false,
     "start_time": "2023-03-16T14:21:39.110354",
     "status": "completed"
    },
    "tags": []
   },
   "source": [
    "To load the model weights, we can instante a new object of the class `MnistModel`, and use the `.load_state_dict` method."
   ]
  },
  {
   "cell_type": "code",
   "execution_count": 66,
   "id": "5968d810",
   "metadata": {
    "execution": {
     "iopub.execute_input": "2023-03-16T14:21:39.234492Z",
     "iopub.status.busy": "2023-03-16T14:21:39.233309Z",
     "iopub.status.idle": "2023-03-16T14:21:39.239202Z",
     "shell.execute_reply": "2023-03-16T14:21:39.237810Z"
    },
    "executionInfo": {
     "elapsed": 845,
     "status": "ok",
     "timestamp": 1606583501874,
     "user": {
      "displayName": "Aakash N S",
      "photoUrl": "https://lh3.googleusercontent.com/a-/AOh14GiIWFHtan62vtW1gz2Bv2bxL3rppefcadxzEVxRKQ=s64",
      "userId": "03254185060287524023"
     },
     "user_tz": -330
    },
    "id": "OO666r7_1rbW",
    "papermill": {
     "duration": 0.050753,
     "end_time": "2023-03-16T14:21:39.242121",
     "exception": false,
     "start_time": "2023-03-16T14:21:39.191368",
     "status": "completed"
    },
    "tags": []
   },
   "outputs": [],
   "source": [
    "model2 = MnistModel()"
   ]
  },
  {
   "cell_type": "code",
   "execution_count": 67,
   "id": "81f7a3a1",
   "metadata": {
    "execution": {
     "iopub.execute_input": "2023-03-16T14:21:39.326456Z",
     "iopub.status.busy": "2023-03-16T14:21:39.325976Z",
     "iopub.status.idle": "2023-03-16T14:21:39.335771Z",
     "shell.execute_reply": "2023-03-16T14:21:39.334522Z"
    },
    "executionInfo": {
     "elapsed": 776,
     "status": "ok",
     "timestamp": 1606583510607,
     "user": {
      "displayName": "Aakash N S",
      "photoUrl": "https://lh3.googleusercontent.com/a-/AOh14GiIWFHtan62vtW1gz2Bv2bxL3rppefcadxzEVxRKQ=s64",
      "userId": "03254185060287524023"
     },
     "user_tz": -330
    },
    "id": "aUvYwe4Q1six",
    "outputId": "63adc692-57b8-458d-a926-dc969bf491db",
    "papermill": {
     "duration": 0.054415,
     "end_time": "2023-03-16T14:21:39.338509",
     "exception": false,
     "start_time": "2023-03-16T14:21:39.284094",
     "status": "completed"
    },
    "tags": []
   },
   "outputs": [
    {
     "data": {
      "text/plain": [
       "OrderedDict([('linear.weight',\n",
       "              tensor([[-2.5648e-02,  2.1579e-02, -8.0407e-05,  ...,  2.5563e-02,\n",
       "                       -1.4947e-02,  1.1086e-02],\n",
       "                      [-2.1044e-03,  2.0496e-02,  3.3326e-02,  ...,  3.2570e-02,\n",
       "                       -3.4882e-02,  2.2083e-02],\n",
       "                      [-2.4120e-02, -3.3349e-02, -1.7405e-02,  ...,  1.8905e-02,\n",
       "                       -1.2854e-03,  1.4661e-02],\n",
       "                      ...,\n",
       "                      [-6.0599e-03,  1.2594e-02, -2.6613e-02,  ...,  3.2415e-02,\n",
       "                       -7.7141e-03, -1.0369e-02],\n",
       "                      [ 3.1069e-02, -2.1510e-02, -2.3267e-02,  ..., -1.7212e-02,\n",
       "                       -2.9715e-03,  2.8633e-02],\n",
       "                      [-1.1737e-02,  3.3432e-02, -3.4948e-02,  ..., -2.3829e-02,\n",
       "                        3.3357e-02,  6.3916e-03]])),\n",
       "             ('linear.bias',\n",
       "              tensor([-0.0240,  0.0298,  0.0282, -0.0195,  0.0157, -0.0142,  0.0125,  0.0291,\n",
       "                       0.0189,  0.0295]))])"
      ]
     },
     "execution_count": 67,
     "metadata": {},
     "output_type": "execute_result"
    }
   ],
   "source": [
    "model2.state_dict()"
   ]
  },
  {
   "cell_type": "code",
   "execution_count": 68,
   "id": "c2fcc382",
   "metadata": {
    "execution": {
     "iopub.execute_input": "2023-03-16T14:21:39.420820Z",
     "iopub.status.busy": "2023-03-16T14:21:39.419618Z",
     "iopub.status.idle": "2023-03-16T14:21:40.416055Z",
     "shell.execute_reply": "2023-03-16T14:21:40.414939Z"
    },
    "executionInfo": {
     "elapsed": 1715,
     "status": "ok",
     "timestamp": 1606583526111,
     "user": {
      "displayName": "Aakash N S",
      "photoUrl": "https://lh3.googleusercontent.com/a-/AOh14GiIWFHtan62vtW1gz2Bv2bxL3rppefcadxzEVxRKQ=s64",
      "userId": "03254185060287524023"
     },
     "user_tz": -330
    },
    "id": "gHac9s6e1vyS",
    "outputId": "bd0ef06a-ded0-4d91-c0a1-620b310bc89e",
    "papermill": {
     "duration": 1.040908,
     "end_time": "2023-03-16T14:21:40.419018",
     "exception": false,
     "start_time": "2023-03-16T14:21:39.378110",
     "status": "completed"
    },
    "tags": []
   },
   "outputs": [
    {
     "data": {
      "text/plain": [
       "{'val_loss': 2.338357925415039, 'val_acc': 0.16035155951976776}"
      ]
     },
     "execution_count": 68,
     "metadata": {},
     "output_type": "execute_result"
    }
   ],
   "source": [
    "evaluate(model2, test_loader)"
   ]
  },
  {
   "cell_type": "code",
   "execution_count": 69,
   "id": "8398a47b",
   "metadata": {
    "execution": {
     "iopub.execute_input": "2023-03-16T14:21:40.500930Z",
     "iopub.status.busy": "2023-03-16T14:21:40.500511Z",
     "iopub.status.idle": "2023-03-16T14:21:40.511668Z",
     "shell.execute_reply": "2023-03-16T14:21:40.510563Z"
    },
    "executionInfo": {
     "elapsed": 751,
     "status": "ok",
     "timestamp": 1606583546422,
     "user": {
      "displayName": "Aakash N S",
      "photoUrl": "https://lh3.googleusercontent.com/a-/AOh14GiIWFHtan62vtW1gz2Bv2bxL3rppefcadxzEVxRKQ=s64",
      "userId": "03254185060287524023"
     },
     "user_tz": -330
    },
    "id": "bvR1g8ggfTTb",
    "outputId": "2cb76bb5-b26a-472c-d2b3-3f872ebb8c7a",
    "papermill": {
     "duration": 0.054669,
     "end_time": "2023-03-16T14:21:40.514065",
     "exception": false,
     "start_time": "2023-03-16T14:21:40.459396",
     "status": "completed"
    },
    "tags": []
   },
   "outputs": [
    {
     "data": {
      "text/plain": [
       "OrderedDict([('linear.weight',\n",
       "              tensor([[ 0.0063,  0.0344, -0.0354,  ..., -0.0238, -0.0230,  0.0143],\n",
       "                      [ 0.0206,  0.0299, -0.0241,  ..., -0.0210,  0.0170, -0.0160],\n",
       "                      [-0.0251, -0.0024,  0.0173,  ..., -0.0291, -0.0086,  0.0130],\n",
       "                      ...,\n",
       "                      [-0.0057, -0.0094,  0.0296,  ..., -0.0336,  0.0163,  0.0178],\n",
       "                      [-0.0343, -0.0150,  0.0231,  ...,  0.0313, -0.0244, -0.0349],\n",
       "                      [-0.0019,  0.0332,  0.0069,  ..., -0.0093,  0.0098,  0.0201]])),\n",
       "             ('linear.bias',\n",
       "              tensor([-0.0752,  0.1203, -0.0021, -0.0303,  0.0559,  0.0262,  0.0084,  0.0546,\n",
       "                      -0.0724, -0.0420]))])"
      ]
     },
     "execution_count": 69,
     "metadata": {},
     "output_type": "execute_result"
    }
   ],
   "source": [
    "model2.load_state_dict(torch.load('mnist-logistic.pth'))\n",
    "model2.state_dict()"
   ]
  },
  {
   "cell_type": "markdown",
   "id": "0ef7adb9",
   "metadata": {
    "id": "zhjBm4BMfTTb",
    "papermill": {
     "duration": 0.039621,
     "end_time": "2023-03-16T14:21:40.594439",
     "exception": false,
     "start_time": "2023-03-16T14:21:40.554818",
     "status": "completed"
    },
    "tags": []
   },
   "source": [
    "Just as a sanity check, let's verify that this model has the same loss and accuracy on the test set as before."
   ]
  },
  {
   "cell_type": "code",
   "execution_count": 70,
   "id": "15e24712",
   "metadata": {
    "execution": {
     "iopub.execute_input": "2023-03-16T14:21:40.678697Z",
     "iopub.status.busy": "2023-03-16T14:21:40.677855Z",
     "iopub.status.idle": "2023-03-16T14:21:41.679206Z",
     "shell.execute_reply": "2023-03-16T14:21:41.678021Z"
    },
    "executionInfo": {
     "elapsed": 1668,
     "status": "ok",
     "timestamp": 1606583555728,
     "user": {
      "displayName": "Aakash N S",
      "photoUrl": "https://lh3.googleusercontent.com/a-/AOh14GiIWFHtan62vtW1gz2Bv2bxL3rppefcadxzEVxRKQ=s64",
      "userId": "03254185060287524023"
     },
     "user_tz": -330
    },
    "id": "UynZ4aSLfTTb",
    "outputId": "ed0184c3-6239-4610-b707-09b2e4cbd49d",
    "papermill": {
     "duration": 1.046924,
     "end_time": "2023-03-16T14:21:41.682118",
     "exception": false,
     "start_time": "2023-03-16T14:21:40.635194",
     "status": "completed"
    },
    "tags": []
   },
   "outputs": [
    {
     "data": {
      "text/plain": [
       "{'val_loss': 0.6418572664260864, 'val_acc': 0.8607422113418579}"
      ]
     },
     "execution_count": 70,
     "metadata": {},
     "output_type": "execute_result"
    }
   ],
   "source": [
    "test_loader = DataLoader(test_dataset, batch_size=256)\n",
    "result = evaluate(model2, test_loader)\n",
    "result"
   ]
  },
  {
   "cell_type": "markdown",
   "id": "29bae4b2",
   "metadata": {
    "id": "BRMNaQUWfTTb",
    "papermill": {
     "duration": 0.040113,
     "end_time": "2023-03-16T14:21:41.762916",
     "exception": false,
     "start_time": "2023-03-16T14:21:41.722803",
     "status": "completed"
    },
    "tags": []
   },
   "source": [
    "As a final step, we can save and commit our work using the `jovian` library. Along with the notebook, we can also attach the weights of our trained model, so that we can use it later."
   ]
  },
  {
   "cell_type": "markdown",
   "id": "4069ae0c",
   "metadata": {
    "id": "r1F3EHgSfTTb",
    "papermill": {
     "duration": 0.040487,
     "end_time": "2023-03-16T14:21:41.845357",
     "exception": false,
     "start_time": "2023-03-16T14:21:41.804870",
     "status": "completed"
    },
    "tags": []
   },
   "source": [
    "## Exercises\n",
    "\n",
    "Try out the following exercises to apply the concepts and techniques you have learned so far:\n",
    "\n",
    "* Coding exercises on end-to-end model training: https://jovian.ai/aakashns/02-insurance-linear-regression\n",
    "* Starter notebook for logistic regression projects: https://jovian.ai/aakashns/mnist-logistic-minimal\n",
    "* Starter notebook for linear regression projects: https://jovian.ai/aakashns/housing-linear-minimal\n",
    "\n",
    "Training great machine learning models within a short time takes practice and experience. Try experimenting with different datasets, models and hyperparameters, it's the best way to acquire this skill."
   ]
  },
  {
   "cell_type": "markdown",
   "id": "28bdad9e",
   "metadata": {
    "id": "_Q8EnndBfTTb",
    "papermill": {
     "duration": 0.039867,
     "end_time": "2023-03-16T14:21:41.925658",
     "exception": false,
     "start_time": "2023-03-16T14:21:41.885791",
     "status": "completed"
    },
    "tags": []
   },
   "source": [
    "## Summary and Further Reading\n",
    "\n",
    "We've created a fairly sophisticated training and evaluation pipeline in this tutorial. Here's a list of the topics we've covered:\n",
    "\n",
    "* Working with images in PyTorch (using the MNIST dataset)\n",
    "* Splitting a dataset into training, validation and test sets\n",
    "* Creating PyTorch models with custom logic by extending the `nn.Module` class\n",
    "* Interpreting model ouputs as probabilities using softmax, and picking predicted labels\n",
    "* Picking a good evaluation metric (accuracy) and loss function (cross entropy) for classification problems\n",
    "* Setting up a training loop that also evaluates the model using the validation set\n",
    "* Testing the model manually on randomly picked examples \n",
    "* Saving and loading model checkpoints to avoid retraining from scratch\n",
    "\n",
    "There's a lot of scope to experiment here, and I encourage you to use the interactive nature of Jupyter to play around with the various parameters. Here are a few ideas:\n",
    "\n",
    "* Try making the validation set smaller or larger, and see how it affects the model.\n",
    "* Try changing the learning rate and see if you can achieve the same accuracy in fewer epochs.\n",
    "* Try changing the batch size. What happens if you use too high a batch size, or too low?\n",
    "* Modify the `fit` function to also track the overall loss and accuracy on the training set, and see how it compares with the validation loss/accuracy. Can you explain why it's lower/higher?\n",
    "* Train with a small subset of the data, and see if you can reach a similar level of accuracy.\n",
    "* Try building a model for a different dataset, such as the [CIFAR10 or CIFAR100 datasets](https://www.cs.toronto.edu/~kriz/cifar.html).\n",
    "\n",
    "Here are some references for further reading:\n",
    "* For a more mathematical treatment, see the popular [Machine Learning](https://www.coursera.org/lecture/machine-learning/classification-wlPeP) course on Coursera. Most of the images used in this tutorial series have been taken from this course.\n",
    "* The training loop defined in this notebook was inspired from [FastAI development notebooks](https://github.com/fastai/fastai_docs/blob/master/dev_nb/001a_nn_basics.ipynb) which contain a wealth of other useful stuff if you can read and understand the code.\n",
    "* For a deep dive into softmax and cross entropy, see [this blog post on DeepNotes](https://deepnotes.io/softmax-crossentropy).\n",
    "\n",
    "\n",
    "With this we complete our discussion of logistic regression, and we're ready to move on to the next topic: [Training Deep Neural Networks on a GPU](https://jovian.ai/aakashns/04-feedforward-nn)!"
   ]
  }
 ],
 "metadata": {
  "kernelspec": {
   "display_name": "Python 3",
   "language": "python",
   "name": "python3"
  },
  "language_info": {
   "codemirror_mode": {
    "name": "ipython",
    "version": 3
   },
   "file_extension": ".py",
   "mimetype": "text/x-python",
   "name": "python",
   "nbconvert_exporter": "python",
   "pygments_lexer": "ipython3",
   "version": "3.7.12"
  },
  "papermill": {
   "default_parameters": {},
   "duration": 174.151566,
   "end_time": "2023-03-16T14:21:43.092873",
   "environment_variables": {},
   "exception": null,
   "input_path": "__notebook__.ipynb",
   "output_path": "__notebook__.ipynb",
   "parameters": {},
   "start_time": "2023-03-16T14:18:48.941307",
   "version": "2.4.0"
  },
  "widgets": {
   "application/vnd.jupyter.widget-state+json": {
    "state": {
     "010b58b9bed94007aa9c2991d78f21e5": {
      "model_module": "@jupyter-widgets/base",
      "model_module_version": "1.2.0",
      "model_name": "LayoutModel",
      "state": {
       "_model_module": "@jupyter-widgets/base",
       "_model_module_version": "1.2.0",
       "_model_name": "LayoutModel",
       "_view_count": null,
       "_view_module": "@jupyter-widgets/base",
       "_view_module_version": "1.2.0",
       "_view_name": "LayoutView",
       "align_content": null,
       "align_items": null,
       "align_self": null,
       "border": null,
       "bottom": null,
       "display": null,
       "flex": null,
       "flex_flow": null,
       "grid_area": null,
       "grid_auto_columns": null,
       "grid_auto_flow": null,
       "grid_auto_rows": null,
       "grid_column": null,
       "grid_gap": null,
       "grid_row": null,
       "grid_template_areas": null,
       "grid_template_columns": null,
       "grid_template_rows": null,
       "height": null,
       "justify_content": null,
       "justify_items": null,
       "left": null,
       "margin": null,
       "max_height": null,
       "max_width": null,
       "min_height": null,
       "min_width": null,
       "object_fit": null,
       "object_position": null,
       "order": null,
       "overflow": null,
       "overflow_x": null,
       "overflow_y": null,
       "padding": null,
       "right": null,
       "top": null,
       "visibility": null,
       "width": null
      }
     },
     "095bebdc0264425bad3d0e3200bbc60d": {
      "model_module": "@jupyter-widgets/base",
      "model_module_version": "1.2.0",
      "model_name": "LayoutModel",
      "state": {
       "_model_module": "@jupyter-widgets/base",
       "_model_module_version": "1.2.0",
       "_model_name": "LayoutModel",
       "_view_count": null,
       "_view_module": "@jupyter-widgets/base",
       "_view_module_version": "1.2.0",
       "_view_name": "LayoutView",
       "align_content": null,
       "align_items": null,
       "align_self": null,
       "border": null,
       "bottom": null,
       "display": null,
       "flex": null,
       "flex_flow": null,
       "grid_area": null,
       "grid_auto_columns": null,
       "grid_auto_flow": null,
       "grid_auto_rows": null,
       "grid_column": null,
       "grid_gap": null,
       "grid_row": null,
       "grid_template_areas": null,
       "grid_template_columns": null,
       "grid_template_rows": null,
       "height": null,
       "justify_content": null,
       "justify_items": null,
       "left": null,
       "margin": null,
       "max_height": null,
       "max_width": null,
       "min_height": null,
       "min_width": null,
       "object_fit": null,
       "object_position": null,
       "order": null,
       "overflow": null,
       "overflow_x": null,
       "overflow_y": null,
       "padding": null,
       "right": null,
       "top": null,
       "visibility": null,
       "width": null
      }
     },
     "0a0027c9b3954162bb035190ac1850a3": {
      "model_module": "@jupyter-widgets/base",
      "model_module_version": "1.2.0",
      "model_name": "LayoutModel",
      "state": {
       "_model_module": "@jupyter-widgets/base",
       "_model_module_version": "1.2.0",
       "_model_name": "LayoutModel",
       "_view_count": null,
       "_view_module": "@jupyter-widgets/base",
       "_view_module_version": "1.2.0",
       "_view_name": "LayoutView",
       "align_content": null,
       "align_items": null,
       "align_self": null,
       "border": null,
       "bottom": null,
       "display": null,
       "flex": null,
       "flex_flow": null,
       "grid_area": null,
       "grid_auto_columns": null,
       "grid_auto_flow": null,
       "grid_auto_rows": null,
       "grid_column": null,
       "grid_gap": null,
       "grid_row": null,
       "grid_template_areas": null,
       "grid_template_columns": null,
       "grid_template_rows": null,
       "height": null,
       "justify_content": null,
       "justify_items": null,
       "left": null,
       "margin": null,
       "max_height": null,
       "max_width": null,
       "min_height": null,
       "min_width": null,
       "object_fit": null,
       "object_position": null,
       "order": null,
       "overflow": null,
       "overflow_x": null,
       "overflow_y": null,
       "padding": null,
       "right": null,
       "top": null,
       "visibility": null,
       "width": null
      }
     },
     "0b66bc18bcd849df807f7b669b743993": {
      "model_module": "@jupyter-widgets/controls",
      "model_module_version": "1.5.0",
      "model_name": "DescriptionStyleModel",
      "state": {
       "_model_module": "@jupyter-widgets/controls",
       "_model_module_version": "1.5.0",
       "_model_name": "DescriptionStyleModel",
       "_view_count": null,
       "_view_module": "@jupyter-widgets/base",
       "_view_module_version": "1.2.0",
       "_view_name": "StyleView",
       "description_width": ""
      }
     },
     "0fb12bbf93b84fdeb758c42312da857b": {
      "model_module": "@jupyter-widgets/controls",
      "model_module_version": "1.5.0",
      "model_name": "ProgressStyleModel",
      "state": {
       "_model_module": "@jupyter-widgets/controls",
       "_model_module_version": "1.5.0",
       "_model_name": "ProgressStyleModel",
       "_view_count": null,
       "_view_module": "@jupyter-widgets/base",
       "_view_module_version": "1.2.0",
       "_view_name": "StyleView",
       "bar_color": null,
       "description_width": ""
      }
     },
     "1430fb6925da450ba5947ff401fda14c": {
      "model_module": "@jupyter-widgets/base",
      "model_module_version": "1.2.0",
      "model_name": "LayoutModel",
      "state": {
       "_model_module": "@jupyter-widgets/base",
       "_model_module_version": "1.2.0",
       "_model_name": "LayoutModel",
       "_view_count": null,
       "_view_module": "@jupyter-widgets/base",
       "_view_module_version": "1.2.0",
       "_view_name": "LayoutView",
       "align_content": null,
       "align_items": null,
       "align_self": null,
       "border": null,
       "bottom": null,
       "display": null,
       "flex": null,
       "flex_flow": null,
       "grid_area": null,
       "grid_auto_columns": null,
       "grid_auto_flow": null,
       "grid_auto_rows": null,
       "grid_column": null,
       "grid_gap": null,
       "grid_row": null,
       "grid_template_areas": null,
       "grid_template_columns": null,
       "grid_template_rows": null,
       "height": null,
       "justify_content": null,
       "justify_items": null,
       "left": null,
       "margin": null,
       "max_height": null,
       "max_width": null,
       "min_height": null,
       "min_width": null,
       "object_fit": null,
       "object_position": null,
       "order": null,
       "overflow": null,
       "overflow_x": null,
       "overflow_y": null,
       "padding": null,
       "right": null,
       "top": null,
       "visibility": null,
       "width": null
      }
     },
     "1829f43cda13469aa11de4a4a70c0882": {
      "model_module": "@jupyter-widgets/base",
      "model_module_version": "1.2.0",
      "model_name": "LayoutModel",
      "state": {
       "_model_module": "@jupyter-widgets/base",
       "_model_module_version": "1.2.0",
       "_model_name": "LayoutModel",
       "_view_count": null,
       "_view_module": "@jupyter-widgets/base",
       "_view_module_version": "1.2.0",
       "_view_name": "LayoutView",
       "align_content": null,
       "align_items": null,
       "align_self": null,
       "border": null,
       "bottom": null,
       "display": null,
       "flex": null,
       "flex_flow": null,
       "grid_area": null,
       "grid_auto_columns": null,
       "grid_auto_flow": null,
       "grid_auto_rows": null,
       "grid_column": null,
       "grid_gap": null,
       "grid_row": null,
       "grid_template_areas": null,
       "grid_template_columns": null,
       "grid_template_rows": null,
       "height": null,
       "justify_content": null,
       "justify_items": null,
       "left": null,
       "margin": null,
       "max_height": null,
       "max_width": null,
       "min_height": null,
       "min_width": null,
       "object_fit": null,
       "object_position": null,
       "order": null,
       "overflow": null,
       "overflow_x": null,
       "overflow_y": null,
       "padding": null,
       "right": null,
       "top": null,
       "visibility": null,
       "width": null
      }
     },
     "19da36e0fa7e4d5290fd3f6c607ac0f0": {
      "model_module": "@jupyter-widgets/controls",
      "model_module_version": "1.5.0",
      "model_name": "DescriptionStyleModel",
      "state": {
       "_model_module": "@jupyter-widgets/controls",
       "_model_module_version": "1.5.0",
       "_model_name": "DescriptionStyleModel",
       "_view_count": null,
       "_view_module": "@jupyter-widgets/base",
       "_view_module_version": "1.2.0",
       "_view_name": "StyleView",
       "description_width": ""
      }
     },
     "1cfc568fe7264e638567831dd796da3e": {
      "model_module": "@jupyter-widgets/controls",
      "model_module_version": "1.5.0",
      "model_name": "FloatProgressModel",
      "state": {
       "_dom_classes": [],
       "_model_module": "@jupyter-widgets/controls",
       "_model_module_version": "1.5.0",
       "_model_name": "FloatProgressModel",
       "_view_count": null,
       "_view_module": "@jupyter-widgets/controls",
       "_view_module_version": "1.5.0",
       "_view_name": "ProgressView",
       "bar_style": "success",
       "description": "",
       "description_tooltip": null,
       "layout": "IPY_MODEL_aa4b7e5f21e84c5dab7d6979d3a965b3",
       "max": 28881.0,
       "min": 0.0,
       "orientation": "horizontal",
       "style": "IPY_MODEL_0fb12bbf93b84fdeb758c42312da857b",
       "value": 28881.0
      }
     },
     "1ee916c8380f48e6997838e3f1a47ae3": {
      "model_module": "@jupyter-widgets/controls",
      "model_module_version": "1.5.0",
      "model_name": "DescriptionStyleModel",
      "state": {
       "_model_module": "@jupyter-widgets/controls",
       "_model_module_version": "1.5.0",
       "_model_name": "DescriptionStyleModel",
       "_view_count": null,
       "_view_module": "@jupyter-widgets/base",
       "_view_module_version": "1.2.0",
       "_view_name": "StyleView",
       "description_width": ""
      }
     },
     "2ce838af9ebe484abb0da5b015461554": {
      "model_module": "@jupyter-widgets/controls",
      "model_module_version": "1.5.0",
      "model_name": "HTMLModel",
      "state": {
       "_dom_classes": [],
       "_model_module": "@jupyter-widgets/controls",
       "_model_module_version": "1.5.0",
       "_model_name": "HTMLModel",
       "_view_count": null,
       "_view_module": "@jupyter-widgets/controls",
       "_view_module_version": "1.5.0",
       "_view_name": "HTMLView",
       "description": "",
       "description_tooltip": null,
       "layout": "IPY_MODEL_0a0027c9b3954162bb035190ac1850a3",
       "placeholder": "​",
       "style": "IPY_MODEL_1ee916c8380f48e6997838e3f1a47ae3",
       "value": "100%"
      }
     },
     "30a12cb0868f42078360e0007a54f0d5": {
      "model_module": "@jupyter-widgets/controls",
      "model_module_version": "1.5.0",
      "model_name": "HTMLModel",
      "state": {
       "_dom_classes": [],
       "_model_module": "@jupyter-widgets/controls",
       "_model_module_version": "1.5.0",
       "_model_name": "HTMLModel",
       "_view_count": null,
       "_view_module": "@jupyter-widgets/controls",
       "_view_module_version": "1.5.0",
       "_view_name": "HTMLView",
       "description": "",
       "description_tooltip": null,
       "layout": "IPY_MODEL_a05558f229be4b21be7ed354ebaedd6f",
       "placeholder": "​",
       "style": "IPY_MODEL_6d44a15f508f4a148002f1dbcf399aae",
       "value": " 9912422/9912422 [00:00&lt;00:00, 33659722.53it/s]"
      }
     },
     "3352647114cf4550ae27551b44b27cde": {
      "model_module": "@jupyter-widgets/controls",
      "model_module_version": "1.5.0",
      "model_name": "FloatProgressModel",
      "state": {
       "_dom_classes": [],
       "_model_module": "@jupyter-widgets/controls",
       "_model_module_version": "1.5.0",
       "_model_name": "FloatProgressModel",
       "_view_count": null,
       "_view_module": "@jupyter-widgets/controls",
       "_view_module_version": "1.5.0",
       "_view_name": "ProgressView",
       "bar_style": "success",
       "description": "",
       "description_tooltip": null,
       "layout": "IPY_MODEL_010b58b9bed94007aa9c2991d78f21e5",
       "max": 9912422.0,
       "min": 0.0,
       "orientation": "horizontal",
       "style": "IPY_MODEL_70f86bb2fd824795980227eb86f82702",
       "value": 9912422.0
      }
     },
     "405c3b33316144c0846248d8f29e5ac4": {
      "model_module": "@jupyter-widgets/controls",
      "model_module_version": "1.5.0",
      "model_name": "HTMLModel",
      "state": {
       "_dom_classes": [],
       "_model_module": "@jupyter-widgets/controls",
       "_model_module_version": "1.5.0",
       "_model_name": "HTMLModel",
       "_view_count": null,
       "_view_module": "@jupyter-widgets/controls",
       "_view_module_version": "1.5.0",
       "_view_name": "HTMLView",
       "description": "",
       "description_tooltip": null,
       "layout": "IPY_MODEL_4dee73e7b97d40499547f2ea452cfbab",
       "placeholder": "​",
       "style": "IPY_MODEL_19da36e0fa7e4d5290fd3f6c607ac0f0",
       "value": " 4542/4542 [00:00&lt;00:00, 353638.92it/s]"
      }
     },
     "40cca9e26e63433da6315e928ea28127": {
      "model_module": "@jupyter-widgets/base",
      "model_module_version": "1.2.0",
      "model_name": "LayoutModel",
      "state": {
       "_model_module": "@jupyter-widgets/base",
       "_model_module_version": "1.2.0",
       "_model_name": "LayoutModel",
       "_view_count": null,
       "_view_module": "@jupyter-widgets/base",
       "_view_module_version": "1.2.0",
       "_view_name": "LayoutView",
       "align_content": null,
       "align_items": null,
       "align_self": null,
       "border": null,
       "bottom": null,
       "display": null,
       "flex": null,
       "flex_flow": null,
       "grid_area": null,
       "grid_auto_columns": null,
       "grid_auto_flow": null,
       "grid_auto_rows": null,
       "grid_column": null,
       "grid_gap": null,
       "grid_row": null,
       "grid_template_areas": null,
       "grid_template_columns": null,
       "grid_template_rows": null,
       "height": null,
       "justify_content": null,
       "justify_items": null,
       "left": null,
       "margin": null,
       "max_height": null,
       "max_width": null,
       "min_height": null,
       "min_width": null,
       "object_fit": null,
       "object_position": null,
       "order": null,
       "overflow": null,
       "overflow_x": null,
       "overflow_y": null,
       "padding": null,
       "right": null,
       "top": null,
       "visibility": null,
       "width": null
      }
     },
     "43bbeed8204249e69e37d6ac448b34b9": {
      "model_module": "@jupyter-widgets/base",
      "model_module_version": "1.2.0",
      "model_name": "LayoutModel",
      "state": {
       "_model_module": "@jupyter-widgets/base",
       "_model_module_version": "1.2.0",
       "_model_name": "LayoutModel",
       "_view_count": null,
       "_view_module": "@jupyter-widgets/base",
       "_view_module_version": "1.2.0",
       "_view_name": "LayoutView",
       "align_content": null,
       "align_items": null,
       "align_self": null,
       "border": null,
       "bottom": null,
       "display": null,
       "flex": null,
       "flex_flow": null,
       "grid_area": null,
       "grid_auto_columns": null,
       "grid_auto_flow": null,
       "grid_auto_rows": null,
       "grid_column": null,
       "grid_gap": null,
       "grid_row": null,
       "grid_template_areas": null,
       "grid_template_columns": null,
       "grid_template_rows": null,
       "height": null,
       "justify_content": null,
       "justify_items": null,
       "left": null,
       "margin": null,
       "max_height": null,
       "max_width": null,
       "min_height": null,
       "min_width": null,
       "object_fit": null,
       "object_position": null,
       "order": null,
       "overflow": null,
       "overflow_x": null,
       "overflow_y": null,
       "padding": null,
       "right": null,
       "top": null,
       "visibility": null,
       "width": null
      }
     },
     "45c4ae1f495f4143b8e94c29811a8523": {
      "model_module": "@jupyter-widgets/controls",
      "model_module_version": "1.5.0",
      "model_name": "HTMLModel",
      "state": {
       "_dom_classes": [],
       "_model_module": "@jupyter-widgets/controls",
       "_model_module_version": "1.5.0",
       "_model_name": "HTMLModel",
       "_view_count": null,
       "_view_module": "@jupyter-widgets/controls",
       "_view_module_version": "1.5.0",
       "_view_name": "HTMLView",
       "description": "",
       "description_tooltip": null,
       "layout": "IPY_MODEL_86514eaa55a347f5a1dce9362e420020",
       "placeholder": "​",
       "style": "IPY_MODEL_c6c79a0bfc304d4b85cf5ded0e43d30d",
       "value": "100%"
      }
     },
     "45c5379f1dbb4c88a3aa79baf2c9c9bf": {
      "model_module": "@jupyter-widgets/controls",
      "model_module_version": "1.5.0",
      "model_name": "DescriptionStyleModel",
      "state": {
       "_model_module": "@jupyter-widgets/controls",
       "_model_module_version": "1.5.0",
       "_model_name": "DescriptionStyleModel",
       "_view_count": null,
       "_view_module": "@jupyter-widgets/base",
       "_view_module_version": "1.2.0",
       "_view_name": "StyleView",
       "description_width": ""
      }
     },
     "4781080aac0041ee9c1e2b5a67bc82bb": {
      "model_module": "@jupyter-widgets/controls",
      "model_module_version": "1.5.0",
      "model_name": "FloatProgressModel",
      "state": {
       "_dom_classes": [],
       "_model_module": "@jupyter-widgets/controls",
       "_model_module_version": "1.5.0",
       "_model_name": "FloatProgressModel",
       "_view_count": null,
       "_view_module": "@jupyter-widgets/controls",
       "_view_module_version": "1.5.0",
       "_view_name": "ProgressView",
       "bar_style": "success",
       "description": "",
       "description_tooltip": null,
       "layout": "IPY_MODEL_dcdda5a6dca949438ca309f4d8c5e9eb",
       "max": 1648877.0,
       "min": 0.0,
       "orientation": "horizontal",
       "style": "IPY_MODEL_f95ba56f42b24837bcf321f25b387771",
       "value": 1648877.0
      }
     },
     "4dee73e7b97d40499547f2ea452cfbab": {
      "model_module": "@jupyter-widgets/base",
      "model_module_version": "1.2.0",
      "model_name": "LayoutModel",
      "state": {
       "_model_module": "@jupyter-widgets/base",
       "_model_module_version": "1.2.0",
       "_model_name": "LayoutModel",
       "_view_count": null,
       "_view_module": "@jupyter-widgets/base",
       "_view_module_version": "1.2.0",
       "_view_name": "LayoutView",
       "align_content": null,
       "align_items": null,
       "align_self": null,
       "border": null,
       "bottom": null,
       "display": null,
       "flex": null,
       "flex_flow": null,
       "grid_area": null,
       "grid_auto_columns": null,
       "grid_auto_flow": null,
       "grid_auto_rows": null,
       "grid_column": null,
       "grid_gap": null,
       "grid_row": null,
       "grid_template_areas": null,
       "grid_template_columns": null,
       "grid_template_rows": null,
       "height": null,
       "justify_content": null,
       "justify_items": null,
       "left": null,
       "margin": null,
       "max_height": null,
       "max_width": null,
       "min_height": null,
       "min_width": null,
       "object_fit": null,
       "object_position": null,
       "order": null,
       "overflow": null,
       "overflow_x": null,
       "overflow_y": null,
       "padding": null,
       "right": null,
       "top": null,
       "visibility": null,
       "width": null
      }
     },
     "4ebf9234b36f4227880955b5903b590b": {
      "model_module": "@jupyter-widgets/base",
      "model_module_version": "1.2.0",
      "model_name": "LayoutModel",
      "state": {
       "_model_module": "@jupyter-widgets/base",
       "_model_module_version": "1.2.0",
       "_model_name": "LayoutModel",
       "_view_count": null,
       "_view_module": "@jupyter-widgets/base",
       "_view_module_version": "1.2.0",
       "_view_name": "LayoutView",
       "align_content": null,
       "align_items": null,
       "align_self": null,
       "border": null,
       "bottom": null,
       "display": null,
       "flex": null,
       "flex_flow": null,
       "grid_area": null,
       "grid_auto_columns": null,
       "grid_auto_flow": null,
       "grid_auto_rows": null,
       "grid_column": null,
       "grid_gap": null,
       "grid_row": null,
       "grid_template_areas": null,
       "grid_template_columns": null,
       "grid_template_rows": null,
       "height": null,
       "justify_content": null,
       "justify_items": null,
       "left": null,
       "margin": null,
       "max_height": null,
       "max_width": null,
       "min_height": null,
       "min_width": null,
       "object_fit": null,
       "object_position": null,
       "order": null,
       "overflow": null,
       "overflow_x": null,
       "overflow_y": null,
       "padding": null,
       "right": null,
       "top": null,
       "visibility": null,
       "width": null
      }
     },
     "526417e562014851b6efa8a054744719": {
      "model_module": "@jupyter-widgets/controls",
      "model_module_version": "1.5.0",
      "model_name": "HTMLModel",
      "state": {
       "_dom_classes": [],
       "_model_module": "@jupyter-widgets/controls",
       "_model_module_version": "1.5.0",
       "_model_name": "HTMLModel",
       "_view_count": null,
       "_view_module": "@jupyter-widgets/controls",
       "_view_module_version": "1.5.0",
       "_view_name": "HTMLView",
       "description": "",
       "description_tooltip": null,
       "layout": "IPY_MODEL_1430fb6925da450ba5947ff401fda14c",
       "placeholder": "​",
       "style": "IPY_MODEL_0b66bc18bcd849df807f7b669b743993",
       "value": " 28881/28881 [00:00&lt;00:00, 1991511.75it/s]"
      }
     },
     "6d44a15f508f4a148002f1dbcf399aae": {
      "model_module": "@jupyter-widgets/controls",
      "model_module_version": "1.5.0",
      "model_name": "DescriptionStyleModel",
      "state": {
       "_model_module": "@jupyter-widgets/controls",
       "_model_module_version": "1.5.0",
       "_model_name": "DescriptionStyleModel",
       "_view_count": null,
       "_view_module": "@jupyter-widgets/base",
       "_view_module_version": "1.2.0",
       "_view_name": "StyleView",
       "description_width": ""
      }
     },
     "70f86bb2fd824795980227eb86f82702": {
      "model_module": "@jupyter-widgets/controls",
      "model_module_version": "1.5.0",
      "model_name": "ProgressStyleModel",
      "state": {
       "_model_module": "@jupyter-widgets/controls",
       "_model_module_version": "1.5.0",
       "_model_name": "ProgressStyleModel",
       "_view_count": null,
       "_view_module": "@jupyter-widgets/base",
       "_view_module_version": "1.2.0",
       "_view_name": "StyleView",
       "bar_color": null,
       "description_width": ""
      }
     },
     "7a5fbd6290db4d0cb3b2cac778550749": {
      "model_module": "@jupyter-widgets/controls",
      "model_module_version": "1.5.0",
      "model_name": "DescriptionStyleModel",
      "state": {
       "_model_module": "@jupyter-widgets/controls",
       "_model_module_version": "1.5.0",
       "_model_name": "DescriptionStyleModel",
       "_view_count": null,
       "_view_module": "@jupyter-widgets/base",
       "_view_module_version": "1.2.0",
       "_view_name": "StyleView",
       "description_width": ""
      }
     },
     "7aa40e416d9d46eea03a86385c940b22": {
      "model_module": "@jupyter-widgets/controls",
      "model_module_version": "1.5.0",
      "model_name": "HTMLModel",
      "state": {
       "_dom_classes": [],
       "_model_module": "@jupyter-widgets/controls",
       "_model_module_version": "1.5.0",
       "_model_name": "HTMLModel",
       "_view_count": null,
       "_view_module": "@jupyter-widgets/controls",
       "_view_module_version": "1.5.0",
       "_view_name": "HTMLView",
       "description": "",
       "description_tooltip": null,
       "layout": "IPY_MODEL_e4084674324745b1843951563f25f713",
       "placeholder": "​",
       "style": "IPY_MODEL_45c5379f1dbb4c88a3aa79baf2c9c9bf",
       "value": " 1648877/1648877 [00:00&lt;00:00, 35975298.57it/s]"
      }
     },
     "7bd43fadca49465e87cbbd780e70dd44": {
      "model_module": "@jupyter-widgets/base",
      "model_module_version": "1.2.0",
      "model_name": "LayoutModel",
      "state": {
       "_model_module": "@jupyter-widgets/base",
       "_model_module_version": "1.2.0",
       "_model_name": "LayoutModel",
       "_view_count": null,
       "_view_module": "@jupyter-widgets/base",
       "_view_module_version": "1.2.0",
       "_view_name": "LayoutView",
       "align_content": null,
       "align_items": null,
       "align_self": null,
       "border": null,
       "bottom": null,
       "display": null,
       "flex": null,
       "flex_flow": null,
       "grid_area": null,
       "grid_auto_columns": null,
       "grid_auto_flow": null,
       "grid_auto_rows": null,
       "grid_column": null,
       "grid_gap": null,
       "grid_row": null,
       "grid_template_areas": null,
       "grid_template_columns": null,
       "grid_template_rows": null,
       "height": null,
       "justify_content": null,
       "justify_items": null,
       "left": null,
       "margin": null,
       "max_height": null,
       "max_width": null,
       "min_height": null,
       "min_width": null,
       "object_fit": null,
       "object_position": null,
       "order": null,
       "overflow": null,
       "overflow_x": null,
       "overflow_y": null,
       "padding": null,
       "right": null,
       "top": null,
       "visibility": null,
       "width": null
      }
     },
     "80b15a7857214354ae1b11934fe86cc2": {
      "model_module": "@jupyter-widgets/controls",
      "model_module_version": "1.5.0",
      "model_name": "HBoxModel",
      "state": {
       "_dom_classes": [],
       "_model_module": "@jupyter-widgets/controls",
       "_model_module_version": "1.5.0",
       "_model_name": "HBoxModel",
       "_view_count": null,
       "_view_module": "@jupyter-widgets/controls",
       "_view_module_version": "1.5.0",
       "_view_name": "HBoxView",
       "box_style": "",
       "children": [
        "IPY_MODEL_45c4ae1f495f4143b8e94c29811a8523",
        "IPY_MODEL_3352647114cf4550ae27551b44b27cde",
        "IPY_MODEL_30a12cb0868f42078360e0007a54f0d5"
       ],
       "layout": "IPY_MODEL_4ebf9234b36f4227880955b5903b590b"
      }
     },
     "86514eaa55a347f5a1dce9362e420020": {
      "model_module": "@jupyter-widgets/base",
      "model_module_version": "1.2.0",
      "model_name": "LayoutModel",
      "state": {
       "_model_module": "@jupyter-widgets/base",
       "_model_module_version": "1.2.0",
       "_model_name": "LayoutModel",
       "_view_count": null,
       "_view_module": "@jupyter-widgets/base",
       "_view_module_version": "1.2.0",
       "_view_name": "LayoutView",
       "align_content": null,
       "align_items": null,
       "align_self": null,
       "border": null,
       "bottom": null,
       "display": null,
       "flex": null,
       "flex_flow": null,
       "grid_area": null,
       "grid_auto_columns": null,
       "grid_auto_flow": null,
       "grid_auto_rows": null,
       "grid_column": null,
       "grid_gap": null,
       "grid_row": null,
       "grid_template_areas": null,
       "grid_template_columns": null,
       "grid_template_rows": null,
       "height": null,
       "justify_content": null,
       "justify_items": null,
       "left": null,
       "margin": null,
       "max_height": null,
       "max_width": null,
       "min_height": null,
       "min_width": null,
       "object_fit": null,
       "object_position": null,
       "order": null,
       "overflow": null,
       "overflow_x": null,
       "overflow_y": null,
       "padding": null,
       "right": null,
       "top": null,
       "visibility": null,
       "width": null
      }
     },
     "9e30aa3906384d97b0af663b6714d3cb": {
      "model_module": "@jupyter-widgets/controls",
      "model_module_version": "1.5.0",
      "model_name": "HBoxModel",
      "state": {
       "_dom_classes": [],
       "_model_module": "@jupyter-widgets/controls",
       "_model_module_version": "1.5.0",
       "_model_name": "HBoxModel",
       "_view_count": null,
       "_view_module": "@jupyter-widgets/controls",
       "_view_module_version": "1.5.0",
       "_view_name": "HBoxView",
       "box_style": "",
       "children": [
        "IPY_MODEL_b831d0bf3b15404ba9b7ff5bd5685f96",
        "IPY_MODEL_d10ba0c7579e4dca9ddd41de0d9c2b2e",
        "IPY_MODEL_405c3b33316144c0846248d8f29e5ac4"
       ],
       "layout": "IPY_MODEL_1829f43cda13469aa11de4a4a70c0882"
      }
     },
     "a05558f229be4b21be7ed354ebaedd6f": {
      "model_module": "@jupyter-widgets/base",
      "model_module_version": "1.2.0",
      "model_name": "LayoutModel",
      "state": {
       "_model_module": "@jupyter-widgets/base",
       "_model_module_version": "1.2.0",
       "_model_name": "LayoutModel",
       "_view_count": null,
       "_view_module": "@jupyter-widgets/base",
       "_view_module_version": "1.2.0",
       "_view_name": "LayoutView",
       "align_content": null,
       "align_items": null,
       "align_self": null,
       "border": null,
       "bottom": null,
       "display": null,
       "flex": null,
       "flex_flow": null,
       "grid_area": null,
       "grid_auto_columns": null,
       "grid_auto_flow": null,
       "grid_auto_rows": null,
       "grid_column": null,
       "grid_gap": null,
       "grid_row": null,
       "grid_template_areas": null,
       "grid_template_columns": null,
       "grid_template_rows": null,
       "height": null,
       "justify_content": null,
       "justify_items": null,
       "left": null,
       "margin": null,
       "max_height": null,
       "max_width": null,
       "min_height": null,
       "min_width": null,
       "object_fit": null,
       "object_position": null,
       "order": null,
       "overflow": null,
       "overflow_x": null,
       "overflow_y": null,
       "padding": null,
       "right": null,
       "top": null,
       "visibility": null,
       "width": null
      }
     },
     "aa4b7e5f21e84c5dab7d6979d3a965b3": {
      "model_module": "@jupyter-widgets/base",
      "model_module_version": "1.2.0",
      "model_name": "LayoutModel",
      "state": {
       "_model_module": "@jupyter-widgets/base",
       "_model_module_version": "1.2.0",
       "_model_name": "LayoutModel",
       "_view_count": null,
       "_view_module": "@jupyter-widgets/base",
       "_view_module_version": "1.2.0",
       "_view_name": "LayoutView",
       "align_content": null,
       "align_items": null,
       "align_self": null,
       "border": null,
       "bottom": null,
       "display": null,
       "flex": null,
       "flex_flow": null,
       "grid_area": null,
       "grid_auto_columns": null,
       "grid_auto_flow": null,
       "grid_auto_rows": null,
       "grid_column": null,
       "grid_gap": null,
       "grid_row": null,
       "grid_template_areas": null,
       "grid_template_columns": null,
       "grid_template_rows": null,
       "height": null,
       "justify_content": null,
       "justify_items": null,
       "left": null,
       "margin": null,
       "max_height": null,
       "max_width": null,
       "min_height": null,
       "min_width": null,
       "object_fit": null,
       "object_position": null,
       "order": null,
       "overflow": null,
       "overflow_x": null,
       "overflow_y": null,
       "padding": null,
       "right": null,
       "top": null,
       "visibility": null,
       "width": null
      }
     },
     "ac65fc26fa5c43a5bb1ac01d3338d7ad": {
      "model_module": "@jupyter-widgets/base",
      "model_module_version": "1.2.0",
      "model_name": "LayoutModel",
      "state": {
       "_model_module": "@jupyter-widgets/base",
       "_model_module_version": "1.2.0",
       "_model_name": "LayoutModel",
       "_view_count": null,
       "_view_module": "@jupyter-widgets/base",
       "_view_module_version": "1.2.0",
       "_view_name": "LayoutView",
       "align_content": null,
       "align_items": null,
       "align_self": null,
       "border": null,
       "bottom": null,
       "display": null,
       "flex": null,
       "flex_flow": null,
       "grid_area": null,
       "grid_auto_columns": null,
       "grid_auto_flow": null,
       "grid_auto_rows": null,
       "grid_column": null,
       "grid_gap": null,
       "grid_row": null,
       "grid_template_areas": null,
       "grid_template_columns": null,
       "grid_template_rows": null,
       "height": null,
       "justify_content": null,
       "justify_items": null,
       "left": null,
       "margin": null,
       "max_height": null,
       "max_width": null,
       "min_height": null,
       "min_width": null,
       "object_fit": null,
       "object_position": null,
       "order": null,
       "overflow": null,
       "overflow_x": null,
       "overflow_y": null,
       "padding": null,
       "right": null,
       "top": null,
       "visibility": null,
       "width": null
      }
     },
     "b831d0bf3b15404ba9b7ff5bd5685f96": {
      "model_module": "@jupyter-widgets/controls",
      "model_module_version": "1.5.0",
      "model_name": "HTMLModel",
      "state": {
       "_dom_classes": [],
       "_model_module": "@jupyter-widgets/controls",
       "_model_module_version": "1.5.0",
       "_model_name": "HTMLModel",
       "_view_count": null,
       "_view_module": "@jupyter-widgets/controls",
       "_view_module_version": "1.5.0",
       "_view_name": "HTMLView",
       "description": "",
       "description_tooltip": null,
       "layout": "IPY_MODEL_ac65fc26fa5c43a5bb1ac01d3338d7ad",
       "placeholder": "​",
       "style": "IPY_MODEL_7a5fbd6290db4d0cb3b2cac778550749",
       "value": "100%"
      }
     },
     "bd5d52cc53394acc99f5299225e35a57": {
      "model_module": "@jupyter-widgets/controls",
      "model_module_version": "1.5.0",
      "model_name": "HTMLModel",
      "state": {
       "_dom_classes": [],
       "_model_module": "@jupyter-widgets/controls",
       "_model_module_version": "1.5.0",
       "_model_name": "HTMLModel",
       "_view_count": null,
       "_view_module": "@jupyter-widgets/controls",
       "_view_module_version": "1.5.0",
       "_view_name": "HTMLView",
       "description": "",
       "description_tooltip": null,
       "layout": "IPY_MODEL_43bbeed8204249e69e37d6ac448b34b9",
       "placeholder": "​",
       "style": "IPY_MODEL_d157ad5bda9d4fd580fc21041d5e001b",
       "value": "100%"
      }
     },
     "c5e1bf956b6d4c09905f92fa0e1d342e": {
      "model_module": "@jupyter-widgets/controls",
      "model_module_version": "1.5.0",
      "model_name": "HBoxModel",
      "state": {
       "_dom_classes": [],
       "_model_module": "@jupyter-widgets/controls",
       "_model_module_version": "1.5.0",
       "_model_name": "HBoxModel",
       "_view_count": null,
       "_view_module": "@jupyter-widgets/controls",
       "_view_module_version": "1.5.0",
       "_view_name": "HBoxView",
       "box_style": "",
       "children": [
        "IPY_MODEL_bd5d52cc53394acc99f5299225e35a57",
        "IPY_MODEL_1cfc568fe7264e638567831dd796da3e",
        "IPY_MODEL_526417e562014851b6efa8a054744719"
       ],
       "layout": "IPY_MODEL_40cca9e26e63433da6315e928ea28127"
      }
     },
     "c6c79a0bfc304d4b85cf5ded0e43d30d": {
      "model_module": "@jupyter-widgets/controls",
      "model_module_version": "1.5.0",
      "model_name": "DescriptionStyleModel",
      "state": {
       "_model_module": "@jupyter-widgets/controls",
       "_model_module_version": "1.5.0",
       "_model_name": "DescriptionStyleModel",
       "_view_count": null,
       "_view_module": "@jupyter-widgets/base",
       "_view_module_version": "1.2.0",
       "_view_name": "StyleView",
       "description_width": ""
      }
     },
     "d10ba0c7579e4dca9ddd41de0d9c2b2e": {
      "model_module": "@jupyter-widgets/controls",
      "model_module_version": "1.5.0",
      "model_name": "FloatProgressModel",
      "state": {
       "_dom_classes": [],
       "_model_module": "@jupyter-widgets/controls",
       "_model_module_version": "1.5.0",
       "_model_name": "FloatProgressModel",
       "_view_count": null,
       "_view_module": "@jupyter-widgets/controls",
       "_view_module_version": "1.5.0",
       "_view_name": "ProgressView",
       "bar_style": "success",
       "description": "",
       "description_tooltip": null,
       "layout": "IPY_MODEL_7bd43fadca49465e87cbbd780e70dd44",
       "max": 4542.0,
       "min": 0.0,
       "orientation": "horizontal",
       "style": "IPY_MODEL_d8cdc98dc234411b9fd391d805aa2ab5",
       "value": 4542.0
      }
     },
     "d157ad5bda9d4fd580fc21041d5e001b": {
      "model_module": "@jupyter-widgets/controls",
      "model_module_version": "1.5.0",
      "model_name": "DescriptionStyleModel",
      "state": {
       "_model_module": "@jupyter-widgets/controls",
       "_model_module_version": "1.5.0",
       "_model_name": "DescriptionStyleModel",
       "_view_count": null,
       "_view_module": "@jupyter-widgets/base",
       "_view_module_version": "1.2.0",
       "_view_name": "StyleView",
       "description_width": ""
      }
     },
     "d8cdc98dc234411b9fd391d805aa2ab5": {
      "model_module": "@jupyter-widgets/controls",
      "model_module_version": "1.5.0",
      "model_name": "ProgressStyleModel",
      "state": {
       "_model_module": "@jupyter-widgets/controls",
       "_model_module_version": "1.5.0",
       "_model_name": "ProgressStyleModel",
       "_view_count": null,
       "_view_module": "@jupyter-widgets/base",
       "_view_module_version": "1.2.0",
       "_view_name": "StyleView",
       "bar_color": null,
       "description_width": ""
      }
     },
     "dcdda5a6dca949438ca309f4d8c5e9eb": {
      "model_module": "@jupyter-widgets/base",
      "model_module_version": "1.2.0",
      "model_name": "LayoutModel",
      "state": {
       "_model_module": "@jupyter-widgets/base",
       "_model_module_version": "1.2.0",
       "_model_name": "LayoutModel",
       "_view_count": null,
       "_view_module": "@jupyter-widgets/base",
       "_view_module_version": "1.2.0",
       "_view_name": "LayoutView",
       "align_content": null,
       "align_items": null,
       "align_self": null,
       "border": null,
       "bottom": null,
       "display": null,
       "flex": null,
       "flex_flow": null,
       "grid_area": null,
       "grid_auto_columns": null,
       "grid_auto_flow": null,
       "grid_auto_rows": null,
       "grid_column": null,
       "grid_gap": null,
       "grid_row": null,
       "grid_template_areas": null,
       "grid_template_columns": null,
       "grid_template_rows": null,
       "height": null,
       "justify_content": null,
       "justify_items": null,
       "left": null,
       "margin": null,
       "max_height": null,
       "max_width": null,
       "min_height": null,
       "min_width": null,
       "object_fit": null,
       "object_position": null,
       "order": null,
       "overflow": null,
       "overflow_x": null,
       "overflow_y": null,
       "padding": null,
       "right": null,
       "top": null,
       "visibility": null,
       "width": null
      }
     },
     "e4084674324745b1843951563f25f713": {
      "model_module": "@jupyter-widgets/base",
      "model_module_version": "1.2.0",
      "model_name": "LayoutModel",
      "state": {
       "_model_module": "@jupyter-widgets/base",
       "_model_module_version": "1.2.0",
       "_model_name": "LayoutModel",
       "_view_count": null,
       "_view_module": "@jupyter-widgets/base",
       "_view_module_version": "1.2.0",
       "_view_name": "LayoutView",
       "align_content": null,
       "align_items": null,
       "align_self": null,
       "border": null,
       "bottom": null,
       "display": null,
       "flex": null,
       "flex_flow": null,
       "grid_area": null,
       "grid_auto_columns": null,
       "grid_auto_flow": null,
       "grid_auto_rows": null,
       "grid_column": null,
       "grid_gap": null,
       "grid_row": null,
       "grid_template_areas": null,
       "grid_template_columns": null,
       "grid_template_rows": null,
       "height": null,
       "justify_content": null,
       "justify_items": null,
       "left": null,
       "margin": null,
       "max_height": null,
       "max_width": null,
       "min_height": null,
       "min_width": null,
       "object_fit": null,
       "object_position": null,
       "order": null,
       "overflow": null,
       "overflow_x": null,
       "overflow_y": null,
       "padding": null,
       "right": null,
       "top": null,
       "visibility": null,
       "width": null
      }
     },
     "f33e82c7d7b44fd1937a22a4b081c445": {
      "model_module": "@jupyter-widgets/controls",
      "model_module_version": "1.5.0",
      "model_name": "HBoxModel",
      "state": {
       "_dom_classes": [],
       "_model_module": "@jupyter-widgets/controls",
       "_model_module_version": "1.5.0",
       "_model_name": "HBoxModel",
       "_view_count": null,
       "_view_module": "@jupyter-widgets/controls",
       "_view_module_version": "1.5.0",
       "_view_name": "HBoxView",
       "box_style": "",
       "children": [
        "IPY_MODEL_2ce838af9ebe484abb0da5b015461554",
        "IPY_MODEL_4781080aac0041ee9c1e2b5a67bc82bb",
        "IPY_MODEL_7aa40e416d9d46eea03a86385c940b22"
       ],
       "layout": "IPY_MODEL_095bebdc0264425bad3d0e3200bbc60d"
      }
     },
     "f95ba56f42b24837bcf321f25b387771": {
      "model_module": "@jupyter-widgets/controls",
      "model_module_version": "1.5.0",
      "model_name": "ProgressStyleModel",
      "state": {
       "_model_module": "@jupyter-widgets/controls",
       "_model_module_version": "1.5.0",
       "_model_name": "ProgressStyleModel",
       "_view_count": null,
       "_view_module": "@jupyter-widgets/base",
       "_view_module_version": "1.2.0",
       "_view_name": "StyleView",
       "bar_color": null,
       "description_width": ""
      }
     }
    },
    "version_major": 2,
    "version_minor": 0
   }
  }
 },
 "nbformat": 4,
 "nbformat_minor": 5
}
