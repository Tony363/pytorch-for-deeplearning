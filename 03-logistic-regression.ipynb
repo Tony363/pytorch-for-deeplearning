{
 "cells": [
  {
   "cell_type": "markdown",
   "id": "a86c40ee",
   "metadata": {
    "id": "OZ0S8IQWfTTV",
    "papermill": {
     "duration": 0.036512,
     "end_time": "2023-03-16T13:53:30.357801",
     "exception": false,
     "start_time": "2023-03-16T13:53:30.321289",
     "status": "completed"
    },
    "tags": []
   },
   "source": [
    "# Working with Images & Logistic Regression in PyTorch\n",
    "\n",
    "### Part 3 of \"Deep Learning with Pytorch: Zero to GANs\"\n",
    "\n",
    "This tutorial series is a hands-on beginner-friendly introduction to deep learning using [PyTorch](https://pytorch.org), an open-source neural networks library. These tutorials take a practical and coding-focused approach. The best way to learn the material is to execute the code and experiment with it yourself. Check out the full series here:\n",
    "\n",
    "1. [PyTorch Basics: Tensors & Gradients](https://jovian.ai/aakashns/01-pytorch-basics)\n",
    "2. [Gradient Descent & Linear Regression](https://jovian.ai/aakashns/02-linear-regression)\n",
    "3. [Working with Images & Logistic Regression](https://jovian.ai/aakashns/03-logistic-regression) \n",
    "4. [Training Deep Neural Networks on a GPU](https://jovian.ai/aakashns/04-feedforward-nn)\n",
    "5. [Image Classification using Convolutional Neural Networks](https://jovian.ai/aakashns/05-cifar10-cnn)\n",
    "6. [Data Augmentation, Regularization and ResNets](https://jovian.ai/aakashns/05b-cifar10-resnet)\n",
    "7. [Generating Images using Generative Adversarial Networks](https://jovian.ai/aakashns/06b-anime-dcgan/)"
   ]
  },
  {
   "cell_type": "markdown",
   "id": "f4e86986",
   "metadata": {
    "id": "YL4niY96fTTV",
    "papermill": {
     "duration": 0.031724,
     "end_time": "2023-03-16T13:53:30.421257",
     "exception": false,
     "start_time": "2023-03-16T13:53:30.389533",
     "status": "completed"
    },
    "tags": []
   },
   "source": [
    "This tutorial covers the following topics:\n",
    "    \n",
    "* Working with images in PyTorch (using the MNIST dataset)\n",
    "* Splitting a dataset into training, validation, and test sets\n",
    "* Creating PyTorch models with custom logic by extending the `nn.Module` class\n",
    "* Interpreting model outputs as probabilities using Softmax and picking predicted labels\n",
    "* Picking a useful evaluation metric (accuracy) and loss function (cross-entropy) for classification problems\n",
    "* Setting up a training loop that also evaluates the model using the validation set\n",
    "* Testing the model manually on randomly picked examples \n",
    "* Saving and loading model checkpoints to avoid retraining from scratch\n",
    "\n"
   ]
  },
  {
   "cell_type": "markdown",
   "id": "8e7a2ec7",
   "metadata": {
    "id": "l8SHC9wafTTV",
    "papermill": {
     "duration": 0.031604,
     "end_time": "2023-03-16T13:53:30.484155",
     "exception": false,
     "start_time": "2023-03-16T13:53:30.452551",
     "status": "completed"
    },
    "tags": []
   },
   "source": [
    "### How to run the code\n",
    "\n",
    "This tutorial is an executable [Jupyter notebook](https://jupyter.org) hosted on [Jovian](https://www.jovian.ai). You can _run_ this tutorial and experiment with the code examples in a couple of ways: *using free online resources* (recommended) or *on your computer*.\n",
    "\n",
    "#### Option 1: Running using free online resources (1-click, recommended)\n",
    "\n",
    "The easiest way to start executing the code is to click the **Run** button at the top of this page and select **Run on Colab**. [Google Colab](https://colab.research.google.com) is a free online platform for running Jupyter notebooks using Google's cloud infrastructure. You can also select \"Run on Binder\" or \"Run on Kaggle\" if you face issues running the notebook on Google Colab.\n",
    "\n",
    "\n",
    "#### Option 2: Running on your computer locally\n",
    "\n",
    "To run the code on your computer locally, you'll need to set up [Python](https://www.python.org), download the notebook and install the required libraries. We recommend using the [Conda](https://docs.conda.io/projects/conda/en/latest/user-guide/install/) distribution of Python. Click the **Run** button at the top of this page, select the **Run Locally** option, and follow the instructions.\n",
    "\n",
    ">  **Jupyter Notebooks**: This tutorial is a [Jupyter notebook](https://jupyter.org) - a document made of _cells_. Each cell can contain code written in Python or explanations in plain English. You can execute code cells and view the results, e.g., numbers, messages, graphs, tables, files, etc., instantly within the notebook. Jupyter is a powerful platform for experimentation and analysis. Don't be afraid to mess around with the code & break things - you'll learn a lot by encountering and fixing errors. You can use the \"Kernel > Restart & Clear Output\" or \"Edit > Clear Outputs\" menu option to clear all outputs and start again from the top."
   ]
  },
  {
   "cell_type": "markdown",
   "id": "02fdb977",
   "metadata": {
    "id": "BlizBg8UfTTV",
    "papermill": {
     "duration": 0.030643,
     "end_time": "2023-03-16T13:53:30.547435",
     "exception": false,
     "start_time": "2023-03-16T13:53:30.516792",
     "status": "completed"
    },
    "tags": []
   },
   "source": [
    "## Working with Images\n",
    "\n",
    "In this tutorial, we'll use our existing knowledge of PyTorch and linear regression to solve a very different kind of problem: *image classification*. We'll use the famous [*MNIST Handwritten Digits Database*](http://yann.lecun.com/exdb/mnist/) as our training dataset. It consists of 28px by 28px grayscale images of handwritten digits (0 to 9) and labels for each image indicating which digit it represents. Here are some sample images from the dataset:\n",
    "\n",
    "![mnist-sample](https://i.imgur.com/CAYnuo1.jpg)"
   ]
  },
  {
   "cell_type": "markdown",
   "id": "c7079a3e",
   "metadata": {
    "id": "IArll2smfTTV",
    "papermill": {
     "duration": 0.03199,
     "end_time": "2023-03-16T13:53:30.611588",
     "exception": false,
     "start_time": "2023-03-16T13:53:30.579598",
     "status": "completed"
    },
    "tags": []
   },
   "source": [
    "We begin by installing and importing `torch` and `torchvision`. `torchvision` contains some utilities for working with image data. It also provides helper classes to download and import popular datasets like MNIST automatically"
   ]
  },
  {
   "cell_type": "code",
   "execution_count": 1,
   "id": "d17c3e43",
   "metadata": {
    "execution": {
     "iopub.execute_input": "2023-03-16T13:53:30.677009Z",
     "iopub.status.busy": "2023-03-16T13:53:30.676583Z",
     "iopub.status.idle": "2023-03-16T13:53:30.682956Z",
     "shell.execute_reply": "2023-03-16T13:53:30.681517Z"
    },
    "executionInfo": {
     "elapsed": 1534,
     "status": "ok",
     "timestamp": 1606577825606,
     "user": {
      "displayName": "Aakash N S",
      "photoUrl": "https://lh3.googleusercontent.com/a-/AOh14GiIWFHtan62vtW1gz2Bv2bxL3rppefcadxzEVxRKQ=s64",
      "userId": "03254185060287524023"
     },
     "user_tz": -330
    },
    "id": "y_D8CGr0fTTV",
    "papermill": {
     "duration": 0.044219,
     "end_time": "2023-03-16T13:53:30.687585",
     "exception": false,
     "start_time": "2023-03-16T13:53:30.643366",
     "status": "completed"
    },
    "tags": []
   },
   "outputs": [],
   "source": [
    "# Uncomment and run the appropriate command for your operating system, if required\n",
    "\n",
    "# Linux / Binder\n",
    "# !pip install numpy matplotlib torch==1.7.0+cpu torchvision==0.8.1+cpu torchaudio==0.7.0 -f https://download.pytorch.org/whl/torch_stable.html\n",
    "\n",
    "# Windows\n",
    "# !pip install numpy matplotlib torch==1.7.0+cpu torchvision==0.8.1+cpu torchaudio==0.7.0 -f https://download.pytorch.org/whl/torch_stable.html\n",
    "\n",
    "# MacOS\n",
    "# !pip install numpy matplotlib torch torchvision torchaudio"
   ]
  },
  {
   "cell_type": "code",
   "execution_count": 2,
   "id": "31e04b71",
   "metadata": {
    "execution": {
     "iopub.execute_input": "2023-03-16T13:53:30.752243Z",
     "iopub.status.busy": "2023-03-16T13:53:30.751788Z",
     "iopub.status.idle": "2023-03-16T13:53:33.868704Z",
     "shell.execute_reply": "2023-03-16T13:53:33.867291Z"
    },
    "executionInfo": {
     "elapsed": 4034,
     "status": "ok",
     "timestamp": 1606577857436,
     "user": {
      "displayName": "Aakash N S",
      "photoUrl": "https://lh3.googleusercontent.com/a-/AOh14GiIWFHtan62vtW1gz2Bv2bxL3rppefcadxzEVxRKQ=s64",
      "userId": "03254185060287524023"
     },
     "user_tz": -330
    },
    "id": "o_xViEWvfTTV",
    "papermill": {
     "duration": 3.152779,
     "end_time": "2023-03-16T13:53:33.871690",
     "exception": false,
     "start_time": "2023-03-16T13:53:30.718911",
     "status": "completed"
    },
    "tags": []
   },
   "outputs": [],
   "source": [
    "# Imports\n",
    "import torch\n",
    "import torchvision\n",
    "from torchvision.datasets import MNIST"
   ]
  },
  {
   "cell_type": "code",
   "execution_count": 3,
   "id": "02848989",
   "metadata": {
    "execution": {
     "iopub.execute_input": "2023-03-16T13:53:33.937814Z",
     "iopub.status.busy": "2023-03-16T13:53:33.937220Z",
     "iopub.status.idle": "2023-03-16T13:53:35.245765Z",
     "shell.execute_reply": "2023-03-16T13:53:35.244579Z"
    },
    "executionInfo": {
     "elapsed": 2911,
     "status": "ok",
     "timestamp": 1606577890091,
     "user": {
      "displayName": "Aakash N S",
      "photoUrl": "https://lh3.googleusercontent.com/a-/AOh14GiIWFHtan62vtW1gz2Bv2bxL3rppefcadxzEVxRKQ=s64",
      "userId": "03254185060287524023"
     },
     "user_tz": -330
    },
    "id": "q1Skz7dlfTTV",
    "outputId": "cfc70a7f-bbb0-4c05-e160-24c0f43bc0c7",
    "papermill": {
     "duration": 1.345175,
     "end_time": "2023-03-16T13:53:35.248857",
     "exception": false,
     "start_time": "2023-03-16T13:53:33.903682",
     "status": "completed"
    },
    "tags": []
   },
   "outputs": [
    {
     "name": "stdout",
     "output_type": "stream",
     "text": [
      "Downloading http://yann.lecun.com/exdb/mnist/train-images-idx3-ubyte.gz\n",
      "Downloading http://yann.lecun.com/exdb/mnist/train-images-idx3-ubyte.gz to data/MNIST/raw/train-images-idx3-ubyte.gz\n"
     ]
    },
    {
     "data": {
      "application/vnd.jupyter.widget-view+json": {
       "model_id": "79eccbea47cf4a8e95487ac9e77b6191",
       "version_major": 2,
       "version_minor": 0
      },
      "text/plain": [
       "  0%|          | 0/9912422 [00:00<?, ?it/s]"
      ]
     },
     "metadata": {},
     "output_type": "display_data"
    },
    {
     "name": "stdout",
     "output_type": "stream",
     "text": [
      "Extracting data/MNIST/raw/train-images-idx3-ubyte.gz to data/MNIST/raw\n",
      "\n",
      "Downloading http://yann.lecun.com/exdb/mnist/train-labels-idx1-ubyte.gz\n",
      "Downloading http://yann.lecun.com/exdb/mnist/train-labels-idx1-ubyte.gz to data/MNIST/raw/train-labels-idx1-ubyte.gz\n"
     ]
    },
    {
     "data": {
      "application/vnd.jupyter.widget-view+json": {
       "model_id": "78373923fe6d44498557586ce0a7b99d",
       "version_major": 2,
       "version_minor": 0
      },
      "text/plain": [
       "  0%|          | 0/28881 [00:00<?, ?it/s]"
      ]
     },
     "metadata": {},
     "output_type": "display_data"
    },
    {
     "name": "stdout",
     "output_type": "stream",
     "text": [
      "Extracting data/MNIST/raw/train-labels-idx1-ubyte.gz to data/MNIST/raw\n",
      "\n",
      "Downloading http://yann.lecun.com/exdb/mnist/t10k-images-idx3-ubyte.gz\n",
      "Downloading http://yann.lecun.com/exdb/mnist/t10k-images-idx3-ubyte.gz to data/MNIST/raw/t10k-images-idx3-ubyte.gz\n"
     ]
    },
    {
     "data": {
      "application/vnd.jupyter.widget-view+json": {
       "model_id": "10519d5719584db38a6a8f57caf75436",
       "version_major": 2,
       "version_minor": 0
      },
      "text/plain": [
       "  0%|          | 0/1648877 [00:00<?, ?it/s]"
      ]
     },
     "metadata": {},
     "output_type": "display_data"
    },
    {
     "name": "stdout",
     "output_type": "stream",
     "text": [
      "Extracting data/MNIST/raw/t10k-images-idx3-ubyte.gz to data/MNIST/raw\n",
      "\n",
      "Downloading http://yann.lecun.com/exdb/mnist/t10k-labels-idx1-ubyte.gz\n",
      "Downloading http://yann.lecun.com/exdb/mnist/t10k-labels-idx1-ubyte.gz to data/MNIST/raw/t10k-labels-idx1-ubyte.gz\n"
     ]
    },
    {
     "data": {
      "application/vnd.jupyter.widget-view+json": {
       "model_id": "c0c50fd30b2341c7bd3a1de3a5049e1b",
       "version_major": 2,
       "version_minor": 0
      },
      "text/plain": [
       "  0%|          | 0/4542 [00:00<?, ?it/s]"
      ]
     },
     "metadata": {},
     "output_type": "display_data"
    },
    {
     "name": "stdout",
     "output_type": "stream",
     "text": [
      "Extracting data/MNIST/raw/t10k-labels-idx1-ubyte.gz to data/MNIST/raw\n",
      "\n"
     ]
    }
   ],
   "source": [
    "# Download training dataset\n",
    "dataset = MNIST(root='data/', download=True)"
   ]
  },
  {
   "cell_type": "markdown",
   "id": "c19d4f39",
   "metadata": {
    "id": "Koi-fVbAfTTV",
    "papermill": {
     "duration": 0.032862,
     "end_time": "2023-03-16T13:53:35.316278",
     "exception": false,
     "start_time": "2023-03-16T13:53:35.283416",
     "status": "completed"
    },
    "tags": []
   },
   "source": [
    "When this statement is executed for the first time, it downloads the data to the `data/` directory next to the notebook and creates a PyTorch `Dataset`. On subsequent executions, the download is skipped as the data is already downloaded. Let's check the size of the dataset."
   ]
  },
  {
   "cell_type": "code",
   "execution_count": 4,
   "id": "1e11bf70",
   "metadata": {
    "execution": {
     "iopub.execute_input": "2023-03-16T13:53:35.384774Z",
     "iopub.status.busy": "2023-03-16T13:53:35.383979Z",
     "iopub.status.idle": "2023-03-16T13:53:35.393515Z",
     "shell.execute_reply": "2023-03-16T13:53:35.392070Z"
    },
    "executionInfo": {
     "elapsed": 843,
     "status": "ok",
     "timestamp": 1606577913840,
     "user": {
      "displayName": "Aakash N S",
      "photoUrl": "https://lh3.googleusercontent.com/a-/AOh14GiIWFHtan62vtW1gz2Bv2bxL3rppefcadxzEVxRKQ=s64",
      "userId": "03254185060287524023"
     },
     "user_tz": -330
    },
    "id": "W9mWyKqAfTTV",
    "outputId": "c3ad6519-90c4-4584-d314-805c68cf6a7a",
    "papermill": {
     "duration": 0.046877,
     "end_time": "2023-03-16T13:53:35.395996",
     "exception": false,
     "start_time": "2023-03-16T13:53:35.349119",
     "status": "completed"
    },
    "tags": []
   },
   "outputs": [
    {
     "data": {
      "text/plain": [
       "60000"
      ]
     },
     "execution_count": 4,
     "metadata": {},
     "output_type": "execute_result"
    }
   ],
   "source": [
    "len(dataset)"
   ]
  },
  {
   "cell_type": "markdown",
   "id": "7d9f0adf",
   "metadata": {
    "id": "6pRKB16NfTTW",
    "papermill": {
     "duration": 0.032097,
     "end_time": "2023-03-16T13:53:35.460212",
     "exception": false,
     "start_time": "2023-03-16T13:53:35.428115",
     "status": "completed"
    },
    "tags": []
   },
   "source": [
    "The dataset has 60,000 images that we'll use to train the model. There is also an additional test set of 10,000 images used for evaluating models and reporting metrics in papers and reports. We can create the test dataset using the `MNIST` class by passing `train=False` to the constructor."
   ]
  },
  {
   "cell_type": "code",
   "execution_count": 5,
   "id": "45f19d86",
   "metadata": {
    "execution": {
     "iopub.execute_input": "2023-03-16T13:53:35.528182Z",
     "iopub.status.busy": "2023-03-16T13:53:35.527438Z",
     "iopub.status.idle": "2023-03-16T13:53:35.546760Z",
     "shell.execute_reply": "2023-03-16T13:53:35.545389Z"
    },
    "executionInfo": {
     "elapsed": 881,
     "status": "ok",
     "timestamp": 1606577951429,
     "user": {
      "displayName": "Aakash N S",
      "photoUrl": "https://lh3.googleusercontent.com/a-/AOh14GiIWFHtan62vtW1gz2Bv2bxL3rppefcadxzEVxRKQ=s64",
      "userId": "03254185060287524023"
     },
     "user_tz": -330
    },
    "id": "zLqZQOlWfTTW",
    "outputId": "858232eb-e985-45ea-dff9-261c6e17567e",
    "papermill": {
     "duration": 0.056761,
     "end_time": "2023-03-16T13:53:35.549429",
     "exception": false,
     "start_time": "2023-03-16T13:53:35.492668",
     "status": "completed"
    },
    "tags": []
   },
   "outputs": [
    {
     "data": {
      "text/plain": [
       "10000"
      ]
     },
     "execution_count": 5,
     "metadata": {},
     "output_type": "execute_result"
    }
   ],
   "source": [
    "test_dataset = MNIST(root='data/', train=False)\n",
    "len(test_dataset)"
   ]
  },
  {
   "cell_type": "markdown",
   "id": "de11fa4d",
   "metadata": {
    "id": "bgJru-f7fTTW",
    "papermill": {
     "duration": 0.032956,
     "end_time": "2023-03-16T13:53:35.616651",
     "exception": false,
     "start_time": "2023-03-16T13:53:35.583695",
     "status": "completed"
    },
    "tags": []
   },
   "source": [
    "Let's look at a sample element from the training dataset."
   ]
  },
  {
   "cell_type": "code",
   "execution_count": 6,
   "id": "309d3201",
   "metadata": {
    "execution": {
     "iopub.execute_input": "2023-03-16T13:53:35.685339Z",
     "iopub.status.busy": "2023-03-16T13:53:35.684882Z",
     "iopub.status.idle": "2023-03-16T13:53:35.712000Z",
     "shell.execute_reply": "2023-03-16T13:53:35.710463Z"
    },
    "executionInfo": {
     "elapsed": 748,
     "status": "ok",
     "timestamp": 1606577960430,
     "user": {
      "displayName": "Aakash N S",
      "photoUrl": "https://lh3.googleusercontent.com/a-/AOh14GiIWFHtan62vtW1gz2Bv2bxL3rppefcadxzEVxRKQ=s64",
      "userId": "03254185060287524023"
     },
     "user_tz": -330
    },
    "id": "4ZmSZeFGfTTW",
    "outputId": "f38133b3-f015-4ab9-9773-3d196e17f9a1",
    "papermill": {
     "duration": 0.06501,
     "end_time": "2023-03-16T13:53:35.714640",
     "exception": false,
     "start_time": "2023-03-16T13:53:35.649630",
     "status": "completed"
    },
    "tags": []
   },
   "outputs": [
    {
     "data": {
      "text/plain": [
       "(<PIL.Image.Image image mode=L size=28x28>, 5)"
      ]
     },
     "execution_count": 6,
     "metadata": {},
     "output_type": "execute_result"
    }
   ],
   "source": [
    "dataset[0]"
   ]
  },
  {
   "cell_type": "markdown",
   "id": "243e69a8",
   "metadata": {
    "id": "2oBdGAc4fTTX",
    "papermill": {
     "duration": 0.034135,
     "end_time": "2023-03-16T13:53:35.781907",
     "exception": false,
     "start_time": "2023-03-16T13:53:35.747772",
     "status": "completed"
    },
    "tags": []
   },
   "source": [
    "It's a pair, consisting of a 28x28px image and a label. The image is an object of the class `PIL.Image.Image`, which is a part of the Python imaging library [Pillow](https://pillow.readthedocs.io/en/stable/). We can view the image within Jupyter using [`matplotlib`](https://matplotlib.org/), the de-facto plotting and graphing library for data science in Python."
   ]
  },
  {
   "cell_type": "code",
   "execution_count": 7,
   "id": "73f4a6ba",
   "metadata": {
    "execution": {
     "iopub.execute_input": "2023-03-16T13:53:35.853125Z",
     "iopub.status.busy": "2023-03-16T13:53:35.852417Z",
     "iopub.status.idle": "2023-03-16T13:53:35.859713Z",
     "shell.execute_reply": "2023-03-16T13:53:35.858729Z"
    },
    "executionInfo": {
     "elapsed": 769,
     "status": "ok",
     "timestamp": 1606578019026,
     "user": {
      "displayName": "Aakash N S",
      "photoUrl": "https://lh3.googleusercontent.com/a-/AOh14GiIWFHtan62vtW1gz2Bv2bxL3rppefcadxzEVxRKQ=s64",
      "userId": "03254185060287524023"
     },
     "user_tz": -330
    },
    "id": "edyBIgXPfTTX",
    "papermill": {
     "duration": 0.045726,
     "end_time": "2023-03-16T13:53:35.862381",
     "exception": false,
     "start_time": "2023-03-16T13:53:35.816655",
     "status": "completed"
    },
    "tags": []
   },
   "outputs": [],
   "source": [
    "import matplotlib.pyplot as plt\n",
    "%matplotlib inline"
   ]
  },
  {
   "cell_type": "markdown",
   "id": "8dd852d1",
   "metadata": {
    "id": "TSVQL5vJfTTX",
    "papermill": {
     "duration": 0.03244,
     "end_time": "2023-03-16T13:53:35.927320",
     "exception": false,
     "start_time": "2023-03-16T13:53:35.894880",
     "status": "completed"
    },
    "tags": []
   },
   "source": [
    "The statement `%matplotlib inline` indicates to Jupyter that we want to plot the graphs within the notebook. Without this line, Jupyter will show the image in a popup. Statements starting with `%` are called magic commands and are used to configure the behavior of Jupyter itself. You can find a full list of magic commands here: https://ipython.readthedocs.io/en/stable/interactive/magics.html .\n",
    "\n",
    "Let's look at a couple of images from the dataset."
   ]
  },
  {
   "cell_type": "code",
   "execution_count": 8,
   "id": "c61a744b",
   "metadata": {
    "execution": {
     "iopub.execute_input": "2023-03-16T13:53:35.994169Z",
     "iopub.status.busy": "2023-03-16T13:53:35.993682Z",
     "iopub.status.idle": "2023-03-16T13:53:36.270832Z",
     "shell.execute_reply": "2023-03-16T13:53:36.269294Z"
    },
    "executionInfo": {
     "elapsed": 764,
     "status": "ok",
     "timestamp": 1606578085723,
     "user": {
      "displayName": "Aakash N S",
      "photoUrl": "https://lh3.googleusercontent.com/a-/AOh14GiIWFHtan62vtW1gz2Bv2bxL3rppefcadxzEVxRKQ=s64",
      "userId": "03254185060287524023"
     },
     "user_tz": -330
    },
    "id": "3cxwpTQLfTTX",
    "outputId": "0e67e177-1d1e-489e-f45e-3353d7960076",
    "papermill": {
     "duration": 0.314645,
     "end_time": "2023-03-16T13:53:36.274135",
     "exception": false,
     "start_time": "2023-03-16T13:53:35.959490",
     "status": "completed"
    },
    "tags": []
   },
   "outputs": [
    {
     "name": "stdout",
     "output_type": "stream",
     "text": [
      "Label: 5\n"
     ]
    },
    {
     "data": {
      "image/png": "[encoded data removed]",
      "text/plain": [
       "<Figure size 640x480 with 1 Axes>"
      ]
     },
     "metadata": {},
     "output_type": "display_data"
    }
   ],
   "source": [
    "image, label = dataset[0]\n",
    "plt.imshow(image, cmap='gray')\n",
    "print('Label:', label)"
   ]
  },
  {
   "cell_type": "code",
   "execution_count": 9,
   "id": "2f1cca9e",
   "metadata": {
    "execution": {
     "iopub.execute_input": "2023-03-16T13:53:36.342138Z",
     "iopub.status.busy": "2023-03-16T13:53:36.341385Z",
     "iopub.status.idle": "2023-03-16T13:53:36.576661Z",
     "shell.execute_reply": "2023-03-16T13:53:36.574863Z"
    },
    "executionInfo": {
     "elapsed": 798,
     "status": "ok",
     "timestamp": 1606578094615,
     "user": {
      "displayName": "Aakash N S",
      "photoUrl": "https://lh3.googleusercontent.com/a-/AOh14GiIWFHtan62vtW1gz2Bv2bxL3rppefcadxzEVxRKQ=s64",
      "userId": "03254185060287524023"
     },
     "user_tz": -330
    },
    "id": "35ELPbM7fTTX",
    "outputId": "0bfafb5a-46c1-465d-aeff-b7ee7ff601bc",
    "papermill": {
     "duration": 0.272423,
     "end_time": "2023-03-16T13:53:36.579615",
     "exception": false,
     "start_time": "2023-03-16T13:53:36.307192",
     "status": "completed"
    },
    "tags": []
   },
   "outputs": [
    {
     "name": "stdout",
     "output_type": "stream",
     "text": [
      "Label: 3\n"
     ]
    },
    {
     "data": {
      "image/png": "[encoded data removed]",
      "text/plain": [
       "<Figure size 640x480 with 1 Axes>"
      ]
     },
     "metadata": {},
     "output_type": "display_data"
    }
   ],
   "source": [
    "image, label = dataset[10]\n",
    "plt.imshow(image, cmap='gray')\n",
    "print('Label:', label)"
   ]
  },
  {
   "cell_type": "markdown",
   "id": "8141f081",
   "metadata": {
    "id": "5vO2Gh9RfTTX",
    "papermill": {
     "duration": 0.032868,
     "end_time": "2023-03-16T13:53:36.645560",
     "exception": false,
     "start_time": "2023-03-16T13:53:36.612692",
     "status": "completed"
    },
    "tags": []
   },
   "source": [
    "It's evident that these images are relatively small in size, and recognizing the digits can sometimes be challenging even for the human eye. While it's useful to look at these images, there's just one problem here: PyTorch doesn't know how to work with images. We need to convert the images into tensors. We can do this by specifying a transform while creating our dataset."
   ]
  },
  {
   "cell_type": "code",
   "execution_count": 10,
   "id": "dc44083d",
   "metadata": {
    "execution": {
     "iopub.execute_input": "2023-03-16T13:53:36.715239Z",
     "iopub.status.busy": "2023-03-16T13:53:36.714683Z",
     "iopub.status.idle": "2023-03-16T13:53:36.720412Z",
     "shell.execute_reply": "2023-03-16T13:53:36.719385Z"
    },
    "executionInfo": {
     "elapsed": 757,
     "status": "ok",
     "timestamp": 1606578158015,
     "user": {
      "displayName": "Aakash N S",
      "photoUrl": "https://lh3.googleusercontent.com/a-/AOh14GiIWFHtan62vtW1gz2Bv2bxL3rppefcadxzEVxRKQ=s64",
      "userId": "03254185060287524023"
     },
     "user_tz": -330
    },
    "id": "FBnad_UDfTTX",
    "papermill": {
     "duration": 0.043853,
     "end_time": "2023-03-16T13:53:36.722817",
     "exception": false,
     "start_time": "2023-03-16T13:53:36.678964",
     "status": "completed"
    },
    "tags": []
   },
   "outputs": [],
   "source": [
    "import torchvision.transforms as transforms"
   ]
  },
  {
   "cell_type": "markdown",
   "id": "18bff393",
   "metadata": {
    "id": "084T0emtfTTX",
    "papermill": {
     "duration": 0.034082,
     "end_time": "2023-03-16T13:53:36.790145",
     "exception": false,
     "start_time": "2023-03-16T13:53:36.756063",
     "status": "completed"
    },
    "tags": []
   },
   "source": [
    "PyTorch datasets allow us to specify one or more transformation functions that are applied to the images as they are loaded. The `torchvision.transforms` module contains many such predefined functions. We'll use the `ToTensor` transform to convert images into PyTorch tensors."
   ]
  },
  {
   "cell_type": "code",
   "execution_count": 11,
   "id": "c9f3b9c6",
   "metadata": {
    "execution": {
     "iopub.execute_input": "2023-03-16T13:53:36.861270Z",
     "iopub.status.busy": "2023-03-16T13:53:36.859906Z",
     "iopub.status.idle": "2023-03-16T13:53:36.951689Z",
     "shell.execute_reply": "2023-03-16T13:53:36.950561Z"
    },
    "executionInfo": {
     "elapsed": 927,
     "status": "ok",
     "timestamp": 1606578184520,
     "user": {
      "displayName": "Aakash N S",
      "photoUrl": "https://lh3.googleusercontent.com/a-/AOh14GiIWFHtan62vtW1gz2Bv2bxL3rppefcadxzEVxRKQ=s64",
      "userId": "03254185060287524023"
     },
     "user_tz": -330
    },
    "id": "hYvBQ3LzfTTX",
    "papermill": {
     "duration": 0.132588,
     "end_time": "2023-03-16T13:53:36.956562",
     "exception": false,
     "start_time": "2023-03-16T13:53:36.823974",
     "status": "completed"
    },
    "tags": []
   },
   "outputs": [],
   "source": [
    "# MNIST dataset (images and labels)\n",
    "dataset = MNIST(root='data/', \n",
    "                train=True,\n",
    "                transform=transforms.ToTensor())"
   ]
  },
  {
   "cell_type": "code",
   "execution_count": 12,
   "id": "6de52e0d",
   "metadata": {
    "execution": {
     "iopub.execute_input": "2023-03-16T13:53:37.027915Z",
     "iopub.status.busy": "2023-03-16T13:53:37.026437Z",
     "iopub.status.idle": "2023-03-16T13:53:37.049411Z",
     "shell.execute_reply": "2023-03-16T13:53:37.047662Z"
    },
    "executionInfo": {
     "elapsed": 781,
     "status": "ok",
     "timestamp": 1606578201993,
     "user": {
      "displayName": "Aakash N S",
      "photoUrl": "https://lh3.googleusercontent.com/a-/AOh14GiIWFHtan62vtW1gz2Bv2bxL3rppefcadxzEVxRKQ=s64",
      "userId": "03254185060287524023"
     },
     "user_tz": -330
    },
    "id": "nCZ4h7jMfTTX",
    "outputId": "d182f619-8e57-4864-ec67-8f2b08c78fc7",
    "papermill": {
     "duration": 0.062136,
     "end_time": "2023-03-16T13:53:37.052557",
     "exception": false,
     "start_time": "2023-03-16T13:53:36.990421",
     "status": "completed"
    },
    "tags": []
   },
   "outputs": [
    {
     "name": "stdout",
     "output_type": "stream",
     "text": [
      "torch.Size([1, 28, 28]) 5\n"
     ]
    }
   ],
   "source": [
    "img_tensor, label = dataset[0]\n",
    "print(img_tensor.shape, label)"
   ]
  },
  {
   "cell_type": "markdown",
   "id": "c61db290",
   "metadata": {
    "id": "Io317DfSfTTX",
    "papermill": {
     "duration": 0.033021,
     "end_time": "2023-03-16T13:53:37.119484",
     "exception": false,
     "start_time": "2023-03-16T13:53:37.086463",
     "status": "completed"
    },
    "tags": []
   },
   "source": [
    "The image is now converted to a 1x28x28 tensor. The first dimension tracks color channels. The second and third dimensions represent pixels along the height and width of the image, respectively. Since images in the MNIST dataset are grayscale, there's just one channel. Other datasets have images with color, in which case there are three channels: red, green, and blue (RGB). \n",
    "\n",
    "Let's look at some sample values inside the tensor."
   ]
  },
  {
   "cell_type": "code",
   "execution_count": 13,
   "id": "8c805787",
   "metadata": {
    "execution": {
     "iopub.execute_input": "2023-03-16T13:53:37.190041Z",
     "iopub.status.busy": "2023-03-16T13:53:37.189184Z",
     "iopub.status.idle": "2023-03-16T13:53:37.241902Z",
     "shell.execute_reply": "2023-03-16T13:53:37.239927Z"
    },
    "executionInfo": {
     "elapsed": 792,
     "status": "ok",
     "timestamp": 1606578295334,
     "user": {
      "displayName": "Aakash N S",
      "photoUrl": "https://lh3.googleusercontent.com/a-/AOh14GiIWFHtan62vtW1gz2Bv2bxL3rppefcadxzEVxRKQ=s64",
      "userId": "03254185060287524023"
     },
     "user_tz": -330
    },
    "id": "prZFgdtefTTX",
    "outputId": "835d4232-380d-456a-fafd-8f8474766ba0",
    "papermill": {
     "duration": 0.091169,
     "end_time": "2023-03-16T13:53:37.244777",
     "exception": false,
     "start_time": "2023-03-16T13:53:37.153608",
     "status": "completed"
    },
    "tags": []
   },
   "outputs": [
    {
     "name": "stdout",
     "output_type": "stream",
     "text": [
      "tensor([[0.0039, 0.6039, 0.9922, 0.3529, 0.0000],\n",
      "        [0.0000, 0.5451, 0.9922, 0.7451, 0.0078],\n",
      "        [0.0000, 0.0431, 0.7451, 0.9922, 0.2745],\n",
      "        [0.0000, 0.0000, 0.1373, 0.9451, 0.8824],\n",
      "        [0.0000, 0.0000, 0.0000, 0.3176, 0.9412]])\n",
      "tensor(1.) tensor(0.)\n"
     ]
    }
   ],
   "source": [
    "print(img_tensor[0,10:15,10:15])\n",
    "print(torch.max(img_tensor), torch.min(img_tensor))"
   ]
  },
  {
   "cell_type": "markdown",
   "id": "a3fdced6",
   "metadata": {
    "id": "_2HjQ5P5fTTX",
    "papermill": {
     "duration": 0.033511,
     "end_time": "2023-03-16T13:53:37.312056",
     "exception": false,
     "start_time": "2023-03-16T13:53:37.278545",
     "status": "completed"
    },
    "tags": []
   },
   "source": [
    "The values range from 0 to 1, with `0` representing black, `1` white, and the values in between different shades of grey. We can also plot the tensor as an image using `plt.imshow`."
   ]
  },
  {
   "cell_type": "code",
   "execution_count": 14,
   "id": "f58ab170",
   "metadata": {
    "execution": {
     "iopub.execute_input": "2023-03-16T13:53:37.382294Z",
     "iopub.status.busy": "2023-03-16T13:53:37.381464Z",
     "iopub.status.idle": "2023-03-16T13:53:37.601601Z",
     "shell.execute_reply": "2023-03-16T13:53:37.600546Z"
    },
    "executionInfo": {
     "elapsed": 828,
     "status": "ok",
     "timestamp": 1606578335519,
     "user": {
      "displayName": "Aakash N S",
      "photoUrl": "https://lh3.googleusercontent.com/a-/AOh14GiIWFHtan62vtW1gz2Bv2bxL3rppefcadxzEVxRKQ=s64",
      "userId": "03254185060287524023"
     },
     "user_tz": -330
    },
    "id": "Fw-NvsqpfTTX",
    "outputId": "5b128f82-14dc-467b-c704-a2795dce6c72",
    "papermill": {
     "duration": 0.257933,
     "end_time": "2023-03-16T13:53:37.604528",
     "exception": false,
     "start_time": "2023-03-16T13:53:37.346595",
     "status": "completed"
    },
    "tags": []
   },
   "outputs": [
    {
     "data": {
      "image/png": "[encoded data removed]",
      "text/plain": [
       "<Figure size 640x480 with 1 Axes>"
      ]
     },
     "metadata": {},
     "output_type": "display_data"
    }
   ],
   "source": [
    "# Plot the image by passing in the 28x28 matrix\n",
    "plt.imshow(img_tensor[0,10:15,10:15], cmap='gray');"
   ]
  },
  {
   "cell_type": "markdown",
   "id": "a6d03b5f",
   "metadata": {
    "id": "WudqBr3pfTTX",
    "papermill": {
     "duration": 0.03747,
     "end_time": "2023-03-16T13:53:37.679482",
     "exception": false,
     "start_time": "2023-03-16T13:53:37.642012",
     "status": "completed"
    },
    "tags": []
   },
   "source": [
    "Note that we need to pass just the 28x28 matrix to `plt.imshow`, without a channel dimension. We also pass a color map (`cmap=gray`) to indicate that we want to see a grayscale image."
   ]
  },
  {
   "cell_type": "markdown",
   "id": "6742e7e9",
   "metadata": {
    "id": "qSKTZ8aifTTX",
    "papermill": {
     "duration": 0.038155,
     "end_time": "2023-03-16T13:53:37.754885",
     "exception": false,
     "start_time": "2023-03-16T13:53:37.716730",
     "status": "completed"
    },
    "tags": []
   },
   "source": [
    "## Training and Validation Datasets\n",
    "\n",
    "While building real-world machine learning models, it is quite common to split the dataset into three parts:\n",
    "\n",
    "1. **Training set** - used to train the model, i.e., compute the loss and adjust the model's weights using gradient descent.\n",
    "2. **Validation set** - used to evaluate the model during training, adjust hyperparameters (learning rate, etc.), and pick the best version of the model.\n",
    "3. **Test set** - used to compare different models or approaches and report the model's final accuracy.\n",
    "\n",
    "In the MNIST dataset, there are 60,000 training images and 10,000 test images. The test set is standardized so that different researchers can report their models' results against the same collection of images. \n",
    "\n",
    "Since there's no predefined validation set, we must manually split the 60,000 images into training and validation datasets. Let's set aside 10,000 randomly chosen images for validation. We can do this using the `random_spilt` method from PyTorch."
   ]
  },
  {
   "cell_type": "code",
   "execution_count": 15,
   "id": "d41c3c22",
   "metadata": {
    "execution": {
     "iopub.execute_input": "2023-03-16T13:53:37.828305Z",
     "iopub.status.busy": "2023-03-16T13:53:37.827534Z",
     "iopub.status.idle": "2023-03-16T13:53:37.845070Z",
     "shell.execute_reply": "2023-03-16T13:53:37.843926Z"
    },
    "executionInfo": {
     "elapsed": 802,
     "status": "ok",
     "timestamp": 1606578530215,
     "user": {
      "displayName": "Aakash N S",
      "photoUrl": "https://lh3.googleusercontent.com/a-/AOh14GiIWFHtan62vtW1gz2Bv2bxL3rppefcadxzEVxRKQ=s64",
      "userId": "03254185060287524023"
     },
     "user_tz": -330
    },
    "id": "1dcE0OPBfTTX",
    "outputId": "be74ca6a-d40e-4ccf-cc24-ea6231a6e097",
    "papermill": {
     "duration": 0.057157,
     "end_time": "2023-03-16T13:53:37.847953",
     "exception": false,
     "start_time": "2023-03-16T13:53:37.790796",
     "status": "completed"
    },
    "tags": []
   },
   "outputs": [
    {
     "data": {
      "text/plain": [
       "(50000, 10000)"
      ]
     },
     "execution_count": 15,
     "metadata": {},
     "output_type": "execute_result"
    }
   ],
   "source": [
    "from torch.utils.data import random_split\n",
    "\n",
    "train_ds, val_ds = random_split(dataset, [50000, 10000])\n",
    "len(train_ds), len(val_ds)"
   ]
  },
  {
   "cell_type": "markdown",
   "id": "e40bddab",
   "metadata": {
    "id": "CACcvMnZfTTX",
    "papermill": {
     "duration": 0.033182,
     "end_time": "2023-03-16T13:53:37.915681",
     "exception": false,
     "start_time": "2023-03-16T13:53:37.882499",
     "status": "completed"
    },
    "tags": []
   },
   "source": [
    "It's essential to choose a random sample for creating a validation set. Training data is often sorted by the target labels, i.e., images of 0s, followed by 1s, followed by 2s, etc. If we create a validation set using the last 20% of images, it would only consist of 8s and 9s. In contrast, the training set would contain no 8s or 9s. Such a training-validation would make it impossible to train a useful model.\n",
    "\n",
    "We can now create data loaders to help us load the data in batches. We'll use a batch size of 128.\n",
    "\n",
    "\n"
   ]
  },
  {
   "cell_type": "code",
   "execution_count": 16,
   "id": "720d17fe",
   "metadata": {
    "execution": {
     "iopub.execute_input": "2023-03-16T13:53:37.987138Z",
     "iopub.status.busy": "2023-03-16T13:53:37.986201Z",
     "iopub.status.idle": "2023-03-16T13:53:37.992248Z",
     "shell.execute_reply": "2023-03-16T13:53:37.991145Z"
    },
    "executionInfo": {
     "elapsed": 846,
     "status": "ok",
     "timestamp": 1606578689940,
     "user": {
      "displayName": "Aakash N S",
      "photoUrl": "https://lh3.googleusercontent.com/a-/AOh14GiIWFHtan62vtW1gz2Bv2bxL3rppefcadxzEVxRKQ=s64",
      "userId": "03254185060287524023"
     },
     "user_tz": -330
    },
    "id": "pD_oD7BTfTTX",
    "papermill": {
     "duration": 0.04507,
     "end_time": "2023-03-16T13:53:37.994945",
     "exception": false,
     "start_time": "2023-03-16T13:53:37.949875",
     "status": "completed"
    },
    "tags": []
   },
   "outputs": [],
   "source": [
    "from torch.utils.data import DataLoader\n",
    "\n",
    "batch_size = 128\n",
    "\n",
    "train_loader = DataLoader(train_ds, batch_size, shuffle=True)\n",
    "val_loader = DataLoader(val_ds, batch_size)"
   ]
  },
  {
   "cell_type": "markdown",
   "id": "1315f4b3",
   "metadata": {
    "id": "NCtbVhkOfTTX",
    "papermill": {
     "duration": 0.033697,
     "end_time": "2023-03-16T13:53:38.062752",
     "exception": false,
     "start_time": "2023-03-16T13:53:38.029055",
     "status": "completed"
    },
    "tags": []
   },
   "source": [
    "We set `shuffle=True` for the training data loader to ensure that the batches generated in each epoch are different. This randomization helps generalize & speed up the training process. On the other hand, since the validation data loader is used only for evaluating the model, there is no need to shuffle the images. \n"
   ]
  },
  {
   "cell_type": "markdown",
   "id": "36f8a79f",
   "metadata": {
    "id": "HEyJshGxfTTY",
    "papermill": {
     "duration": 0.033597,
     "end_time": "2023-03-16T13:53:38.131266",
     "exception": false,
     "start_time": "2023-03-16T13:53:38.097669",
     "status": "completed"
    },
    "tags": []
   },
   "source": [
    "### Save and upload your notebook\n",
    "\n",
    "Whether you're running this Jupyter notebook online or on your computer, it's essential to save your work from time to time. You can continue working on a saved notebook later or share it with friends and colleagues to let them execute your code. [Jovian](https://jovian.ai/platform-features) offers an easy way of saving and sharing your Jupyter notebooks online."
   ]
  },
  {
   "cell_type": "code",
   "execution_count": 17,
   "id": "93337c48",
   "metadata": {
    "execution": {
     "iopub.execute_input": "2023-03-16T13:53:38.202096Z",
     "iopub.status.busy": "2023-03-16T13:53:38.201241Z",
     "iopub.status.idle": "2023-03-16T13:53:53.308508Z",
     "shell.execute_reply": "2023-03-16T13:53:53.306856Z"
    },
    "executionInfo": {
     "elapsed": 3385,
     "status": "ok",
     "timestamp": 1606578705431,
     "user": {
      "displayName": "Aakash N S",
      "photoUrl": "https://lh3.googleusercontent.com/a-/AOh14GiIWFHtan62vtW1gz2Bv2bxL3rppefcadxzEVxRKQ=s64",
      "userId": "03254185060287524023"
     },
     "user_tz": -330
    },
    "id": "QWDMN_nsfTTY",
    "papermill": {
     "duration": 15.146796,
     "end_time": "2023-03-16T13:53:53.311881",
     "exception": false,
     "start_time": "2023-03-16T13:53:38.165085",
     "status": "completed"
    },
    "tags": []
   },
   "outputs": [
    {
     "name": "stdout",
     "output_type": "stream",
     "text": [
      "\u001b[33mWARNING: Running pip as the 'root' user can result in broken permissions and conflicting behaviour with the system package manager. It is recommended to use a virtual environment instead: https://pip.pypa.io/warnings/venv\u001b[0m\u001b[33m\r\n",
      "\u001b[0m"
     ]
    }
   ],
   "source": [
    "# Install the library\n",
    "!pip install jovian --upgrade --quiet"
   ]
  },
  {
   "cell_type": "markdown",
   "id": "cc976f11",
   "metadata": {
    "id": "rUFBNaPFfTTY",
    "papermill": {
     "duration": 0.03454,
     "end_time": "2023-03-16T13:53:53.380542",
     "exception": false,
     "start_time": "2023-03-16T13:53:53.346002",
     "status": "completed"
    },
    "tags": []
   },
   "source": [
    "`jovian.commit` uploads the notebook to your Jovian account, captures the Python environment, and creates a shareable link for your notebook, as shown above. You can use this link to share your work and let anyone (including you) run your notebooks and reproduce your work."
   ]
  },
  {
   "cell_type": "markdown",
   "id": "4489dd41",
   "metadata": {
    "id": "Fy-lajKQfTTY",
    "papermill": {
     "duration": 0.033699,
     "end_time": "2023-03-16T13:53:53.448609",
     "exception": false,
     "start_time": "2023-03-16T13:53:53.414910",
     "status": "completed"
    },
    "tags": []
   },
   "source": [
    "## Model\n",
    "\n",
    "Now that we have prepared our data loaders, we can define our model.\n",
    "\n",
    "* A **logistic regression** model is almost identical to a linear regression model. It contains weights and bias matrices, and the output is obtained using simple matrix operations (`pred = x @ w.t() + b`). \n",
    "\n",
    "* As we did with linear regression, we can use `nn.Linear` to create the model instead of manually creating and initializing the matrices.\n",
    "\n",
    "* Since `nn.Linear` expects each training example to be a vector, each `1x28x28` image tensor is _flattened_ into a vector of size 784 `(28*28)` before being passed into the model. \n",
    "\n",
    "* The output for each image is a vector of size 10, with each element signifying the probability of a particular target label (i.e., 0 to 9). The predicted label for an image is simply the one with the highest probability."
   ]
  },
  {
   "cell_type": "code",
   "execution_count": 18,
   "id": "9ccf44b8",
   "metadata": {
    "execution": {
     "iopub.execute_input": "2023-03-16T13:53:53.519481Z",
     "iopub.status.busy": "2023-03-16T13:53:53.518580Z",
     "iopub.status.idle": "2023-03-16T13:53:53.530647Z",
     "shell.execute_reply": "2023-03-16T13:53:53.529310Z"
    },
    "executionInfo": {
     "elapsed": 1078,
     "status": "ok",
     "timestamp": 1606579070048,
     "user": {
      "displayName": "Aakash N S",
      "photoUrl": "https://lh3.googleusercontent.com/a-/AOh14GiIWFHtan62vtW1gz2Bv2bxL3rppefcadxzEVxRKQ=s64",
      "userId": "03254185060287524023"
     },
     "user_tz": -330
    },
    "id": "zzVbD7pifTTY",
    "papermill": {
     "duration": 0.051202,
     "end_time": "2023-03-16T13:53:53.533634",
     "exception": false,
     "start_time": "2023-03-16T13:53:53.482432",
     "status": "completed"
    },
    "tags": []
   },
   "outputs": [],
   "source": [
    "import torch.nn as nn\n",
    "\n",
    "input_size = 28\n",
    "num_classes = 10\n",
    "\n",
    "# Logistic regression model\n",
    "model = nn.Linear(input_size, num_classes)"
   ]
  },
  {
   "cell_type": "markdown",
   "id": "d44f2bcb",
   "metadata": {
    "id": "2ilamccMfTTY",
    "papermill": {
     "duration": 0.033746,
     "end_time": "2023-03-16T13:53:53.603235",
     "exception": false,
     "start_time": "2023-03-16T13:53:53.569489",
     "status": "completed"
    },
    "tags": []
   },
   "source": [
    "Of course, this model is a lot larger than our previous model in terms of the number of parameters. Let's take a look at the weights and biases."
   ]
  },
  {
   "cell_type": "code",
   "execution_count": 19,
   "id": "b69870fb",
   "metadata": {
    "execution": {
     "iopub.execute_input": "2023-03-16T13:53:53.674341Z",
     "iopub.status.busy": "2023-03-16T13:53:53.673757Z",
     "iopub.status.idle": "2023-03-16T13:53:53.686538Z",
     "shell.execute_reply": "2023-03-16T13:53:53.685132Z"
    },
    "executionInfo": {
     "elapsed": 765,
     "status": "ok",
     "timestamp": 1606579085171,
     "user": {
      "displayName": "Aakash N S",
      "photoUrl": "https://lh3.googleusercontent.com/a-/AOh14GiIWFHtan62vtW1gz2Bv2bxL3rppefcadxzEVxRKQ=s64",
      "userId": "03254185060287524023"
     },
     "user_tz": -330
    },
    "id": "HAj8gVdUfTTY",
    "outputId": "3569f384-390a-4555-949f-a85b79a22ed0",
    "papermill": {
     "duration": 0.052305,
     "end_time": "2023-03-16T13:53:53.689549",
     "exception": false,
     "start_time": "2023-03-16T13:53:53.637244",
     "status": "completed"
    },
    "tags": []
   },
   "outputs": [
    {
     "name": "stdout",
     "output_type": "stream",
     "text": [
      "torch.Size([10, 28])\n"
     ]
    },
    {
     "data": {
      "text/plain": [
       "Parameter containing:\n",
       "tensor([[ 0.0226, -0.1523,  0.1383,  0.1820,  0.0333,  0.0879,  0.1528,  0.1551,\n",
       "          0.0256,  0.0319,  0.1850,  0.1282,  0.1544,  0.1585, -0.0886, -0.1048,\n",
       "         -0.0982, -0.1612, -0.0638, -0.1680, -0.0431, -0.0520, -0.1833,  0.0572,\n",
       "         -0.1032, -0.1802, -0.0771, -0.1172],\n",
       "        [-0.1260,  0.1102,  0.0879, -0.1455, -0.0946,  0.1407,  0.1191, -0.1206,\n",
       "          0.0479,  0.0486, -0.1040, -0.1156,  0.0064, -0.1123,  0.1499,  0.1622,\n",
       "         -0.0092, -0.0825,  0.1753, -0.0920, -0.1181,  0.1655, -0.1129, -0.1795,\n",
       "         -0.0662,  0.0067, -0.1577, -0.1888],\n",
       "        [-0.0482,  0.0562,  0.1356,  0.0041,  0.0254,  0.0304, -0.1482, -0.1352,\n",
       "          0.0604,  0.1887,  0.1333,  0.1144, -0.0069,  0.1243, -0.0983,  0.0252,\n",
       "          0.0395,  0.0942, -0.1203,  0.1592, -0.0567,  0.0438, -0.0606, -0.1656,\n",
       "          0.0690, -0.1161,  0.0049,  0.0542],\n",
       "        [ 0.0069, -0.1618, -0.1088, -0.1718,  0.0207,  0.0813,  0.1046, -0.1850,\n",
       "         -0.1316,  0.0415, -0.0803, -0.0805,  0.1331,  0.1062,  0.1580, -0.1706,\n",
       "          0.1258,  0.1702, -0.1811, -0.1515, -0.1037,  0.1675, -0.1024,  0.0887,\n",
       "          0.1201,  0.1118, -0.0897,  0.0281],\n",
       "        [-0.0863,  0.1096,  0.0122,  0.0109, -0.1084,  0.0031, -0.1025, -0.0272,\n",
       "          0.1159, -0.1228, -0.1146, -0.0355, -0.0864, -0.1733,  0.1516,  0.0470,\n",
       "         -0.0884,  0.1862, -0.1080,  0.1733, -0.1551, -0.1237,  0.0609,  0.1873,\n",
       "          0.1575, -0.1263, -0.1463,  0.1817],\n",
       "        [ 0.0155,  0.0215,  0.0768, -0.1700, -0.1689,  0.0299,  0.1213,  0.0168,\n",
       "          0.0255, -0.0745,  0.1652,  0.1119,  0.0797, -0.0924,  0.0477,  0.1125,\n",
       "          0.0571,  0.0115,  0.0797, -0.0705,  0.1550,  0.0305, -0.1725,  0.1143,\n",
       "         -0.0565, -0.0099,  0.0780, -0.1435],\n",
       "        [-0.0140, -0.0464, -0.1428,  0.0132,  0.1832, -0.0012,  0.1642, -0.0434,\n",
       "          0.0205,  0.0881,  0.0284,  0.0066,  0.0745, -0.1297, -0.0498,  0.0445,\n",
       "         -0.1742, -0.0018,  0.0807,  0.1525, -0.1049, -0.0562,  0.0913, -0.0926,\n",
       "          0.1453,  0.1518,  0.0228,  0.0412],\n",
       "        [-0.0248,  0.1178,  0.1267, -0.0993,  0.0217,  0.0222,  0.0618,  0.1878,\n",
       "         -0.1075,  0.1495,  0.0246, -0.0794,  0.0941,  0.1496, -0.1405, -0.0857,\n",
       "          0.1763,  0.1361,  0.0281,  0.1214, -0.0178, -0.0486, -0.0389,  0.1866,\n",
       "         -0.0798, -0.1108, -0.1016, -0.1622],\n",
       "        [-0.1855,  0.1742, -0.0213, -0.1714, -0.0314, -0.0825, -0.0522,  0.1324,\n",
       "         -0.0221, -0.0280, -0.1318,  0.0977,  0.0632,  0.1688,  0.0732, -0.0818,\n",
       "         -0.1718,  0.0099, -0.1829, -0.0820,  0.0034,  0.0993,  0.0800,  0.1282,\n",
       "         -0.0303, -0.0578,  0.0444,  0.1590],\n",
       "        [-0.1577,  0.1691, -0.0169,  0.0676,  0.0022, -0.0003, -0.0520, -0.1592,\n",
       "          0.1038,  0.1846, -0.0347,  0.1001, -0.0092,  0.1338, -0.0709, -0.0408,\n",
       "          0.0385, -0.0399, -0.1768, -0.1329,  0.1713, -0.0435, -0.0381, -0.1436,\n",
       "         -0.0160, -0.1124,  0.1648, -0.0412]], requires_grad=True)"
      ]
     },
     "execution_count": 19,
     "metadata": {},
     "output_type": "execute_result"
    }
   ],
   "source": [
    "print(model.weight.shape)\n",
    "model.weight"
   ]
  },
  {
   "cell_type": "code",
   "execution_count": 20,
   "id": "5d0d3dc5",
   "metadata": {
    "execution": {
     "iopub.execute_input": "2023-03-16T13:53:53.761793Z",
     "iopub.status.busy": "2023-03-16T13:53:53.760878Z",
     "iopub.status.idle": "2023-03-16T13:53:53.772086Z",
     "shell.execute_reply": "2023-03-16T13:53:53.770268Z"
    },
    "executionInfo": {
     "elapsed": 1187,
     "status": "ok",
     "timestamp": 1606579093000,
     "user": {
      "displayName": "Aakash N S",
      "photoUrl": "https://lh3.googleusercontent.com/a-/AOh14GiIWFHtan62vtW1gz2Bv2bxL3rppefcadxzEVxRKQ=s64",
      "userId": "03254185060287524023"
     },
     "user_tz": -330
    },
    "id": "fRnviQ34fTTY",
    "outputId": "25bf0abf-427c-4079-8cc2-0d03eb6af0b2",
    "papermill": {
     "duration": 0.05103,
     "end_time": "2023-03-16T13:53:53.775681",
     "exception": false,
     "start_time": "2023-03-16T13:53:53.724651",
     "status": "completed"
    },
    "tags": []
   },
   "outputs": [
    {
     "name": "stdout",
     "output_type": "stream",
     "text": [
      "torch.Size([10])\n"
     ]
    },
    {
     "data": {
      "text/plain": [
       "Parameter containing:\n",
       "tensor([-0.1390, -0.1043,  0.0604,  0.1485, -0.1672,  0.0040,  0.0863, -0.0267,\n",
       "        -0.1256,  0.0358], requires_grad=True)"
      ]
     },
     "execution_count": 20,
     "metadata": {},
     "output_type": "execute_result"
    }
   ],
   "source": [
    "print(model.bias.shape)\n",
    "model.bias"
   ]
  },
  {
   "cell_type": "markdown",
   "id": "ba917bc5",
   "metadata": {
    "id": "Is6yNefafTTY",
    "papermill": {
     "duration": 0.03522,
     "end_time": "2023-03-16T13:53:53.846204",
     "exception": false,
     "start_time": "2023-03-16T13:53:53.810984",
     "status": "completed"
    },
    "tags": []
   },
   "source": [
    "Although there are a total of 7850 parameters here, conceptually, nothing has changed so far. Let's try and generate some outputs using our model. We'll take the first batch of 100 images from our dataset and pass them into our model."
   ]
  },
  {
   "cell_type": "code",
   "execution_count": 21,
   "id": "dbd5483a",
   "metadata": {
    "execution": {
     "iopub.execute_input": "2023-03-16T13:53:53.918429Z",
     "iopub.status.busy": "2023-03-16T13:53:53.917237Z",
     "iopub.status.idle": "2023-03-16T13:53:53.983449Z",
     "shell.execute_reply": "2023-03-16T13:53:53.981254Z"
    },
    "executionInfo": {
     "elapsed": 645,
     "status": "error",
     "timestamp": 1606579153232,
     "user": {
      "displayName": "Aakash N S",
      "photoUrl": "https://lh3.googleusercontent.com/a-/AOh14GiIWFHtan62vtW1gz2Bv2bxL3rppefcadxzEVxRKQ=s64",
      "userId": "03254185060287524023"
     },
     "user_tz": -330
    },
    "id": "qIuxYOy3fTTY",
    "outputId": "a58c1ab0-bddb-456a-d9a4-d27d9b6d8332",
    "papermill": {
     "duration": 0.104971,
     "end_time": "2023-03-16T13:53:53.986704",
     "exception": false,
     "start_time": "2023-03-16T13:53:53.881733",
     "status": "completed"
    },
    "tags": []
   },
   "outputs": [
    {
     "name": "stdout",
     "output_type": "stream",
     "text": [
      "tensor([8, 0, 2, 7, 2, 3, 4, 8, 8, 6, 5, 4, 6, 9, 6, 7, 1, 7, 1, 9, 1, 8, 0, 9,\n",
      "        6, 0, 0, 6, 8, 7, 1, 1, 3, 6, 8, 3, 6, 9, 8, 0, 9, 4, 6, 3, 5, 1, 8, 2,\n",
      "        1, 4, 8, 8, 2, 5, 7, 1, 5, 3, 8, 3, 9, 5, 8, 9, 7, 2, 8, 2, 2, 8, 2, 8,\n",
      "        8, 3, 2, 1, 1, 9, 2, 7, 7, 3, 1, 9, 6, 6, 1, 7, 7, 8, 1, 7, 7, 0, 1, 2,\n",
      "        9, 9, 2, 3, 3, 7, 1, 6, 8, 8, 4, 9, 2, 3, 8, 8, 8, 0, 5, 6, 5, 7, 0, 7,\n",
      "        4, 7, 3, 9, 1, 6, 2, 9])\n",
      "torch.Size([128, 1, 28, 28])\n",
      "tensor([[[[-0.1390, -0.1043,  0.0604,  ..., -0.0267, -0.1256,  0.0358],\n",
      "          [-0.1390, -0.1043,  0.0604,  ..., -0.0267, -0.1256,  0.0358],\n",
      "          [-0.1390, -0.1043,  0.0604,  ..., -0.0267, -0.1256,  0.0358],\n",
      "          ...,\n",
      "          [-0.1390, -0.1043,  0.0604,  ..., -0.0267, -0.1256,  0.0358],\n",
      "          [-0.1390, -0.1043,  0.0604,  ..., -0.0267, -0.1256,  0.0358],\n",
      "          [-0.1390, -0.1043,  0.0604,  ..., -0.0267, -0.1256,  0.0358]]],\n",
      "\n",
      "\n",
      "        [[[-0.1390, -0.1043,  0.0604,  ..., -0.0267, -0.1256,  0.0358],\n",
      "          [-0.1390, -0.1043,  0.0604,  ..., -0.0267, -0.1256,  0.0358],\n",
      "          [-0.1390, -0.1043,  0.0604,  ..., -0.0267, -0.1256,  0.0358],\n",
      "          ...,\n",
      "          [-0.1390, -0.1043,  0.0604,  ..., -0.0267, -0.1256,  0.0358],\n",
      "          [-0.1390, -0.1043,  0.0604,  ..., -0.0267, -0.1256,  0.0358],\n",
      "          [-0.1390, -0.1043,  0.0604,  ..., -0.0267, -0.1256,  0.0358]]],\n",
      "\n",
      "\n",
      "        [[[-0.1390, -0.1043,  0.0604,  ..., -0.0267, -0.1256,  0.0358],\n",
      "          [-0.1390, -0.1043,  0.0604,  ..., -0.0267, -0.1256,  0.0358],\n",
      "          [-0.1390, -0.1043,  0.0604,  ..., -0.0267, -0.1256,  0.0358],\n",
      "          ...,\n",
      "          [-0.1390, -0.1043,  0.0604,  ..., -0.0267, -0.1256,  0.0358],\n",
      "          [-0.1390, -0.1043,  0.0604,  ..., -0.0267, -0.1256,  0.0358],\n",
      "          [-0.1390, -0.1043,  0.0604,  ..., -0.0267, -0.1256,  0.0358]]],\n",
      "\n",
      "\n",
      "        ...,\n",
      "\n",
      "\n",
      "        [[[-0.1390, -0.1043,  0.0604,  ..., -0.0267, -0.1256,  0.0358],\n",
      "          [-0.1390, -0.1043,  0.0604,  ..., -0.0267, -0.1256,  0.0358],\n",
      "          [-0.3504, -0.1808,  0.1484,  ...,  0.0977, -0.2764, -0.0898],\n",
      "          ...,\n",
      "          [-0.1390, -0.1043,  0.0604,  ..., -0.0267, -0.1256,  0.0358],\n",
      "          [-0.1390, -0.1043,  0.0604,  ..., -0.0267, -0.1256,  0.0358],\n",
      "          [-0.1390, -0.1043,  0.0604,  ..., -0.0267, -0.1256,  0.0358]]],\n",
      "\n",
      "\n",
      "        [[[-0.1390, -0.1043,  0.0604,  ..., -0.0267, -0.1256,  0.0358],\n",
      "          [-0.1390, -0.1043,  0.0604,  ..., -0.0267, -0.1256,  0.0358],\n",
      "          [-0.1390, -0.1043,  0.0604,  ..., -0.0267, -0.1256,  0.0358],\n",
      "          ...,\n",
      "          [-0.1390, -0.1043,  0.0604,  ..., -0.0267, -0.1256,  0.0358],\n",
      "          [-0.1390, -0.1043,  0.0604,  ..., -0.0267, -0.1256,  0.0358],\n",
      "          [-0.1390, -0.1043,  0.0604,  ..., -0.0267, -0.1256,  0.0358]]],\n",
      "\n",
      "\n",
      "        [[[-0.1390, -0.1043,  0.0604,  ..., -0.0267, -0.1256,  0.0358],\n",
      "          [-0.1390, -0.1043,  0.0604,  ..., -0.0267, -0.1256,  0.0358],\n",
      "          [-0.1390, -0.1043,  0.0604,  ..., -0.0267, -0.1256,  0.0358],\n",
      "          ...,\n",
      "          [-0.4014, -0.0813,  0.1601,  ...,  0.2031, -0.3346, -0.0010],\n",
      "          [-0.1390, -0.1043,  0.0604,  ..., -0.0267, -0.1256,  0.0358],\n",
      "          [-0.1390, -0.1043,  0.0604,  ..., -0.0267, -0.1256,  0.0358]]]],\n",
      "       grad_fn=<AddBackward0>)\n"
     ]
    }
   ],
   "source": [
    "for images, labels in train_loader:\n",
    "    print(labels)\n",
    "    print(images.shape)\n",
    "    outputs = model(images)\n",
    "    print(outputs)\n",
    "    break"
   ]
  },
  {
   "cell_type": "code",
   "execution_count": 22,
   "id": "82dc448a",
   "metadata": {
    "execution": {
     "iopub.execute_input": "2023-03-16T13:53:54.059002Z",
     "iopub.status.busy": "2023-03-16T13:53:54.058143Z",
     "iopub.status.idle": "2023-03-16T13:53:54.067065Z",
     "shell.execute_reply": "2023-03-16T13:53:54.065670Z"
    },
    "executionInfo": {
     "elapsed": 1092,
     "status": "ok",
     "timestamp": 1606579210707,
     "user": {
      "displayName": "Aakash N S",
      "photoUrl": "https://lh3.googleusercontent.com/a-/AOh14GiIWFHtan62vtW1gz2Bv2bxL3rppefcadxzEVxRKQ=s64",
      "userId": "03254185060287524023"
     },
     "user_tz": -330
    },
    "id": "9m-JsBr6lSO8",
    "outputId": "fe780b2f-efd3-48cf-b8c9-8beb6a6e2a25",
    "papermill": {
     "duration": 0.048522,
     "end_time": "2023-03-16T13:53:54.070196",
     "exception": false,
     "start_time": "2023-03-16T13:53:54.021674",
     "status": "completed"
    },
    "tags": []
   },
   "outputs": [
    {
     "data": {
      "text/plain": [
       "torch.Size([128, 1, 28, 28])"
      ]
     },
     "execution_count": 22,
     "metadata": {},
     "output_type": "execute_result"
    }
   ],
   "source": [
    "images.shape"
   ]
  },
  {
   "cell_type": "code",
   "execution_count": 23,
   "id": "1d4923cc",
   "metadata": {
    "execution": {
     "iopub.execute_input": "2023-03-16T13:53:54.144136Z",
     "iopub.status.busy": "2023-03-16T13:53:54.143654Z",
     "iopub.status.idle": "2023-03-16T13:53:54.152835Z",
     "shell.execute_reply": "2023-03-16T13:53:54.151115Z"
    },
    "executionInfo": {
     "elapsed": 940,
     "status": "ok",
     "timestamp": 1606579229874,
     "user": {
      "displayName": "Aakash N S",
      "photoUrl": "https://lh3.googleusercontent.com/a-/AOh14GiIWFHtan62vtW1gz2Bv2bxL3rppefcadxzEVxRKQ=s64",
      "userId": "03254185060287524023"
     },
     "user_tz": -330
    },
    "id": "X3_ktSR1lVJQ",
    "outputId": "910c18e6-102d-4175-fd56-0e20c7f57461",
    "papermill": {
     "duration": 0.049789,
     "end_time": "2023-03-16T13:53:54.155706",
     "exception": false,
     "start_time": "2023-03-16T13:53:54.105917",
     "status": "completed"
    },
    "tags": []
   },
   "outputs": [
    {
     "data": {
      "text/plain": [
       "torch.Size([128, 784])"
      ]
     },
     "execution_count": 23,
     "metadata": {},
     "output_type": "execute_result"
    }
   ],
   "source": [
    "images.reshape(128, 784).shape"
   ]
  },
  {
   "cell_type": "markdown",
   "id": "0ca1f9e0",
   "metadata": {
    "id": "-lT2ZhMjfTTY",
    "papermill": {
     "duration": 0.03598,
     "end_time": "2023-03-16T13:53:54.226622",
     "exception": false,
     "start_time": "2023-03-16T13:53:54.190642",
     "status": "completed"
    },
    "tags": []
   },
   "source": [
    "The code above leads to an error because our input data does not have the right shape. Our images are of the shape 1x28x28, but we need them to be vectors of size 784, i.e., we need to flatten them. We'll use the `.reshape` method of a tensor, which will allow us to efficiently 'view' each image as a flat vector without really creating a copy of the underlying data. To include this additional functionality within our model, we need to define a custom model by extending the `nn.Module` class from PyTorch. \n",
    "\n",
    "A class in Python provides a \"blueprint\" for creating objects. Let's look at an example of defining a new class in Python."
   ]
  },
  {
   "cell_type": "code",
   "execution_count": 24,
   "id": "1a2654bb",
   "metadata": {
    "execution": {
     "iopub.execute_input": "2023-03-16T13:53:54.297570Z",
     "iopub.status.busy": "2023-03-16T13:53:54.297114Z",
     "iopub.status.idle": "2023-03-16T13:53:54.304288Z",
     "shell.execute_reply": "2023-03-16T13:53:54.302524Z"
    },
    "executionInfo": {
     "elapsed": 919,
     "status": "ok",
     "timestamp": 1606579313914,
     "user": {
      "displayName": "Aakash N S",
      "photoUrl": "https://lh3.googleusercontent.com/a-/AOh14GiIWFHtan62vtW1gz2Bv2bxL3rppefcadxzEVxRKQ=s64",
      "userId": "03254185060287524023"
     },
     "user_tz": -330
    },
    "id": "6u8YjzDwfTTY",
    "papermill": {
     "duration": 0.04615,
     "end_time": "2023-03-16T13:53:54.307137",
     "exception": false,
     "start_time": "2023-03-16T13:53:54.260987",
     "status": "completed"
    },
    "tags": []
   },
   "outputs": [],
   "source": [
    "class Person:\n",
    "    # Class constructor\n",
    "    def __init__(self, name, age):\n",
    "        # Object properties\n",
    "        self.name = name\n",
    "        self.age = age\n",
    "    \n",
    "    # Method\n",
    "    def say_hello(self):\n",
    "        print(\"Hello my name is \" + self.name + \"!\")"
   ]
  },
  {
   "cell_type": "markdown",
   "id": "e15344cb",
   "metadata": {
    "id": "Z3IlFc_8fTTY",
    "papermill": {
     "duration": 0.034749,
     "end_time": "2023-03-16T13:53:54.376684",
     "exception": false,
     "start_time": "2023-03-16T13:53:54.341935",
     "status": "completed"
    },
    "tags": []
   },
   "source": [
    "Here's how we create or _instantiate_ an object of the class `Person`."
   ]
  },
  {
   "cell_type": "code",
   "execution_count": 25,
   "id": "38285cbe",
   "metadata": {
    "execution": {
     "iopub.execute_input": "2023-03-16T13:53:54.450918Z",
     "iopub.status.busy": "2023-03-16T13:53:54.450447Z",
     "iopub.status.idle": "2023-03-16T13:53:54.456264Z",
     "shell.execute_reply": "2023-03-16T13:53:54.454781Z"
    },
    "executionInfo": {
     "elapsed": 949,
     "status": "ok",
     "timestamp": 1606579315463,
     "user": {
      "displayName": "Aakash N S",
      "photoUrl": "https://lh3.googleusercontent.com/a-/AOh14GiIWFHtan62vtW1gz2Bv2bxL3rppefcadxzEVxRKQ=s64",
      "userId": "03254185060287524023"
     },
     "user_tz": -330
    },
    "id": "GTqhyYjifTTY",
    "papermill": {
     "duration": 0.046045,
     "end_time": "2023-03-16T13:53:54.459167",
     "exception": false,
     "start_time": "2023-03-16T13:53:54.413122",
     "status": "completed"
    },
    "tags": []
   },
   "outputs": [],
   "source": [
    "bob = Person(\"Bob\", 32)"
   ]
  },
  {
   "cell_type": "markdown",
   "id": "53164165",
   "metadata": {
    "id": "ihjFg-KOfTTY",
    "papermill": {
     "duration": 0.036551,
     "end_time": "2023-03-16T13:53:54.530511",
     "exception": false,
     "start_time": "2023-03-16T13:53:54.493960",
     "status": "completed"
    },
    "tags": []
   },
   "source": [
    "The object `bob` is an instance of the class `Person`. \n",
    "\n",
    "We can access the object's properties (also called attributes) or invoke its methods using the `.` notation."
   ]
  },
  {
   "cell_type": "code",
   "execution_count": 26,
   "id": "6f6cdcc9",
   "metadata": {
    "execution": {
     "iopub.execute_input": "2023-03-16T13:53:54.603579Z",
     "iopub.status.busy": "2023-03-16T13:53:54.603143Z",
     "iopub.status.idle": "2023-03-16T13:53:54.610561Z",
     "shell.execute_reply": "2023-03-16T13:53:54.609324Z"
    },
    "executionInfo": {
     "elapsed": 958,
     "status": "ok",
     "timestamp": 1606579330631,
     "user": {
      "displayName": "Aakash N S",
      "photoUrl": "https://lh3.googleusercontent.com/a-/AOh14GiIWFHtan62vtW1gz2Bv2bxL3rppefcadxzEVxRKQ=s64",
      "userId": "03254185060287524023"
     },
     "user_tz": -330
    },
    "id": "6vV3_NVyfTTY",
    "outputId": "f814a531-f116-4f2f-fdcb-7a5e2148e187",
    "papermill": {
     "duration": 0.046319,
     "end_time": "2023-03-16T13:53:54.613158",
     "exception": false,
     "start_time": "2023-03-16T13:53:54.566839",
     "status": "completed"
    },
    "tags": []
   },
   "outputs": [
    {
     "data": {
      "text/plain": [
       "('Bob', 32)"
      ]
     },
     "execution_count": 26,
     "metadata": {},
     "output_type": "execute_result"
    }
   ],
   "source": [
    "bob.name, bob.age"
   ]
  },
  {
   "cell_type": "code",
   "execution_count": 27,
   "id": "b2fe8812",
   "metadata": {
    "execution": {
     "iopub.execute_input": "2023-03-16T13:53:54.685372Z",
     "iopub.status.busy": "2023-03-16T13:53:54.684855Z",
     "iopub.status.idle": "2023-03-16T13:53:54.691669Z",
     "shell.execute_reply": "2023-03-16T13:53:54.690283Z"
    },
    "executionInfo": {
     "elapsed": 765,
     "status": "ok",
     "timestamp": 1606579340320,
     "user": {
      "displayName": "Aakash N S",
      "photoUrl": "https://lh3.googleusercontent.com/a-/AOh14GiIWFHtan62vtW1gz2Bv2bxL3rppefcadxzEVxRKQ=s64",
      "userId": "03254185060287524023"
     },
     "user_tz": -330
    },
    "id": "oMnNbsqWfTTY",
    "outputId": "33853fce-b97f-46c7-b1a8-a45a0d9a14b9",
    "papermill": {
     "duration": 0.046246,
     "end_time": "2023-03-16T13:53:54.694624",
     "exception": false,
     "start_time": "2023-03-16T13:53:54.648378",
     "status": "completed"
    },
    "tags": []
   },
   "outputs": [
    {
     "name": "stdout",
     "output_type": "stream",
     "text": [
      "Hello my name is Bob!\n"
     ]
    }
   ],
   "source": [
    "bob.say_hello()"
   ]
  },
  {
   "cell_type": "markdown",
   "id": "bae0e4c6",
   "metadata": {
    "id": "wrI894tlfTTY",
    "papermill": {
     "duration": 0.034693,
     "end_time": "2023-03-16T13:53:54.765120",
     "exception": false,
     "start_time": "2023-03-16T13:53:54.730427",
     "status": "completed"
    },
    "tags": []
   },
   "source": [
    "You can learn more about Python classes here: https://www.w3schools.com/python/python_classes.asp .\n",
    "\n",
    "Classes can also build upon or _extend_ the functionality of existing classes. Let's extend the `nn.Module` class from PyTorch to define a custom model."
   ]
  },
  {
   "cell_type": "code",
   "execution_count": 28,
   "id": "88684bb7",
   "metadata": {
    "execution": {
     "iopub.execute_input": "2023-03-16T13:53:54.837974Z",
     "iopub.status.busy": "2023-03-16T13:53:54.837559Z",
     "iopub.status.idle": "2023-03-16T13:53:54.845236Z",
     "shell.execute_reply": "2023-03-16T13:53:54.843913Z"
    },
    "executionInfo": {
     "elapsed": 1083,
     "status": "ok",
     "timestamp": 1606579733133,
     "user": {
      "displayName": "Aakash N S",
      "photoUrl": "https://lh3.googleusercontent.com/a-/AOh14GiIWFHtan62vtW1gz2Bv2bxL3rppefcadxzEVxRKQ=s64",
      "userId": "03254185060287524023"
     },
     "user_tz": -330
    },
    "id": "c2HWol7qfTTY",
    "papermill": {
     "duration": 0.048261,
     "end_time": "2023-03-16T13:53:54.847796",
     "exception": false,
     "start_time": "2023-03-16T13:53:54.799535",
     "status": "completed"
    },
    "tags": []
   },
   "outputs": [],
   "source": [
    "class MnistModel(nn.Module):\n",
    "    def __init__(\n",
    "        self,\n",
    "        input_size:int=784,\n",
    "    ):\n",
    "        super().__init__()\n",
    "        self.linear = nn.Linear(input_size, num_classes)\n",
    "        \n",
    "    def forward(self, xb):\n",
    "        xb = xb.reshape(-1, 784)\n",
    "        out = self.linear(xb)\n",
    "        return out\n",
    "    \n",
    "model = MnistModel()"
   ]
  },
  {
   "cell_type": "markdown",
   "id": "3ea63ac3",
   "metadata": {
    "id": "mZKn3GBFfTTY",
    "papermill": {
     "duration": 0.034479,
     "end_time": "2023-03-16T13:53:54.916907",
     "exception": false,
     "start_time": "2023-03-16T13:53:54.882428",
     "status": "completed"
    },
    "tags": []
   },
   "source": [
    "Inside the `__init__` constructor method, we instantiate the weights and biases using `nn.Linear`. And inside the `forward` method, which is invoked when we pass a batch of inputs to the model, we flatten the input tensor and pass it into `self.linear`.\n",
    "\n",
    "`xb.reshape(-1, 28*28)` indicates to PyTorch that we want a *view* of the `xb` tensor with two dimensions. The length along the 2nd dimension is 28\\*28 (i.e., 784). One argument to `.reshape` can be set to `-1` (in this case, the first dimension) to let PyTorch figure it out automatically based on the shape of the original tensor.\n",
    "\n",
    "Note that the model no longer has `.weight` and `.bias` attributes (as they are now inside the `.linear` attribute), but it does have a `.parameters` method that returns a list containing the weights and bias."
   ]
  },
  {
   "cell_type": "code",
   "execution_count": 29,
   "id": "52202c06",
   "metadata": {
    "execution": {
     "iopub.execute_input": "2023-03-16T13:53:54.989113Z",
     "iopub.status.busy": "2023-03-16T13:53:54.987712Z",
     "iopub.status.idle": "2023-03-16T13:53:54.995966Z",
     "shell.execute_reply": "2023-03-16T13:53:54.994760Z"
    },
    "executionInfo": {
     "elapsed": 887,
     "status": "ok",
     "timestamp": 1606579744253,
     "user": {
      "displayName": "Aakash N S",
      "photoUrl": "https://lh3.googleusercontent.com/a-/AOh14GiIWFHtan62vtW1gz2Bv2bxL3rppefcadxzEVxRKQ=s64",
      "userId": "03254185060287524023"
     },
     "user_tz": -330
    },
    "id": "voZF2M_3nVnI",
    "outputId": "1feeba1e-2ad7-4d32-9eb6-56e12f587a51",
    "papermill": {
     "duration": 0.046793,
     "end_time": "2023-03-16T13:53:54.998504",
     "exception": false,
     "start_time": "2023-03-16T13:53:54.951711",
     "status": "completed"
    },
    "tags": []
   },
   "outputs": [
    {
     "data": {
      "text/plain": [
       "Linear(in_features=784, out_features=10, bias=True)"
      ]
     },
     "execution_count": 29,
     "metadata": {},
     "output_type": "execute_result"
    }
   ],
   "source": [
    "model.linear"
   ]
  },
  {
   "cell_type": "code",
   "execution_count": 30,
   "id": "1ef3c1ba",
   "metadata": {
    "execution": {
     "iopub.execute_input": "2023-03-16T13:53:55.071554Z",
     "iopub.status.busy": "2023-03-16T13:53:55.071120Z",
     "iopub.status.idle": "2023-03-16T13:53:55.082735Z",
     "shell.execute_reply": "2023-03-16T13:53:55.081502Z"
    },
    "executionInfo": {
     "elapsed": 751,
     "status": "ok",
     "timestamp": 1606579783293,
     "user": {
      "displayName": "Aakash N S",
      "photoUrl": "https://lh3.googleusercontent.com/a-/AOh14GiIWFHtan62vtW1gz2Bv2bxL3rppefcadxzEVxRKQ=s64",
      "userId": "03254185060287524023"
     },
     "user_tz": -330
    },
    "id": "JciejPo9fTTY",
    "outputId": "c3ea0a15-d0bb-4d44-f755-1d1ad4fe50ff",
    "papermill": {
     "duration": 0.051546,
     "end_time": "2023-03-16T13:53:55.085557",
     "exception": false,
     "start_time": "2023-03-16T13:53:55.034011",
     "status": "completed"
    },
    "tags": []
   },
   "outputs": [
    {
     "name": "stdout",
     "output_type": "stream",
     "text": [
      "torch.Size([10, 784]) torch.Size([10])\n"
     ]
    },
    {
     "data": {
      "text/plain": [
       "[Parameter containing:\n",
       " tensor([[-3.2816e-02,  3.4153e-04,  2.1912e-02,  ..., -6.7497e-03,\n",
       "          -3.7064e-03,  1.6638e-02],\n",
       "         [-2.6780e-02, -1.6300e-02,  2.7805e-03,  ...,  2.8587e-02,\n",
       "           2.7588e-02,  2.3475e-02],\n",
       "         [ 4.9080e-05, -7.0231e-05,  1.2820e-02,  ...,  2.9600e-03,\n",
       "          -3.3596e-03,  1.7567e-02],\n",
       "         ...,\n",
       "         [ 5.6019e-03, -3.5222e-02, -2.4185e-02,  ...,  2.3188e-02,\n",
       "          -2.4327e-02,  2.7865e-02],\n",
       "         [ 3.1536e-02, -1.9635e-02, -1.3968e-02,  ..., -2.9142e-02,\n",
       "          -9.5534e-03,  1.3682e-02],\n",
       "         [ 6.5710e-03, -1.8821e-02,  3.0515e-02,  ..., -4.5735e-03,\n",
       "           2.6622e-02,  1.5401e-02]], requires_grad=True),\n",
       " Parameter containing:\n",
       " tensor([-0.0298, -0.0311, -0.0196,  0.0137, -0.0155, -0.0034,  0.0099, -0.0085,\n",
       "          0.0301,  0.0231], requires_grad=True)]"
      ]
     },
     "execution_count": 30,
     "metadata": {},
     "output_type": "execute_result"
    }
   ],
   "source": [
    "print(model.linear.weight.shape, model.linear.bias.shape)\n",
    "list(model.parameters())"
   ]
  },
  {
   "cell_type": "markdown",
   "id": "19ff0303",
   "metadata": {
    "id": "nGvgCQn2fTTY",
    "papermill": {
     "duration": 0.037176,
     "end_time": "2023-03-16T13:53:55.158617",
     "exception": false,
     "start_time": "2023-03-16T13:53:55.121441",
     "status": "completed"
    },
    "tags": []
   },
   "source": [
    "We can use our new custom model in the same way as before. Let's see if it works."
   ]
  },
  {
   "cell_type": "code",
   "execution_count": 31,
   "id": "47de6512",
   "metadata": {
    "execution": {
     "iopub.execute_input": "2023-03-16T13:53:55.231248Z",
     "iopub.status.busy": "2023-03-16T13:53:55.230804Z",
     "iopub.status.idle": "2023-03-16T13:53:55.273118Z",
     "shell.execute_reply": "2023-03-16T13:53:55.271541Z"
    },
    "executionInfo": {
     "elapsed": 962,
     "status": "ok",
     "timestamp": 1606579874350,
     "user": {
      "displayName": "Aakash N S",
      "photoUrl": "https://lh3.googleusercontent.com/a-/AOh14GiIWFHtan62vtW1gz2Bv2bxL3rppefcadxzEVxRKQ=s64",
      "userId": "03254185060287524023"
     },
     "user_tz": -330
    },
    "id": "HJ6FGOvYfTTZ",
    "outputId": "f016f9d4-ebba-401f-edff-e7b951f065eb",
    "papermill": {
     "duration": 0.082622,
     "end_time": "2023-03-16T13:53:55.276995",
     "exception": false,
     "start_time": "2023-03-16T13:53:55.194373",
     "status": "completed"
    },
    "tags": []
   },
   "outputs": [
    {
     "name": "stdout",
     "output_type": "stream",
     "text": [
      "torch.Size([128, 1, 28, 28])\n",
      "outputs.shape :  torch.Size([128, 10])\n",
      "Sample outputs :\n",
      " tensor([[-0.0258, -0.0575,  0.0016,  0.1916,  0.0232,  0.0696, -0.1329, -0.1015,\n",
      "          0.2228,  0.0768],\n",
      "        [-0.0705, -0.1532,  0.0805,  0.1247,  0.2598, -0.1003,  0.1054, -0.0370,\n",
      "          0.1318,  0.1975]])\n"
     ]
    }
   ],
   "source": [
    "for images, labels in train_loader:\n",
    "    print(images.shape)\n",
    "    outputs = model(images)\n",
    "    break\n",
    "\n",
    "print('outputs.shape : ', outputs.shape)\n",
    "print('Sample outputs :\\n', outputs[:2].data)"
   ]
  },
  {
   "cell_type": "markdown",
   "id": "5c74b194",
   "metadata": {
    "id": "9v407S1jfTTZ",
    "papermill": {
     "duration": 0.03477,
     "end_time": "2023-03-16T13:53:55.347035",
     "exception": false,
     "start_time": "2023-03-16T13:53:55.312265",
     "status": "completed"
    },
    "tags": []
   },
   "source": [
    "For each of the 100 input images, we get 10 outputs, one for each class. As discussed earlier, we'd like these outputs to represent probabilities. Each output row's elements must lie between 0 to 1 and add up to 1, which is not the case. \n",
    "\n",
    "To convert the output rows into probabilities, we use the softmax function, which has the following formula:\n",
    "\n",
    "![softmax](https://i.imgur.com/EAh9jLN.png)\n",
    "\n",
    "First, we replace each element `yi` in an output row by `e^yi`, making all the elements positive. \n",
    "\n",
    "![](https://www.montereyinstitute.org/courses/DevelopmentalMath/COURSE_TEXT2_RESOURCE/U18_L1_T1_text_final_6_files/image001.png)\n",
    "\n",
    "\n",
    "\n",
    "Then, we divide them by their sum to ensure that they add up to 1. The resulting vector can thus be interpreted as probabilities.\n",
    "\n",
    "While it's easy to implement the softmax function (you should try it!), we'll use the implementation that's provided within PyTorch because it works well with multidimensional tensors (a list of output rows in our case)."
   ]
  },
  {
   "cell_type": "code",
   "execution_count": 32,
   "id": "50542604",
   "metadata": {
    "execution": {
     "iopub.execute_input": "2023-03-16T13:53:55.420772Z",
     "iopub.status.busy": "2023-03-16T13:53:55.420326Z",
     "iopub.status.idle": "2023-03-16T13:53:55.425859Z",
     "shell.execute_reply": "2023-03-16T13:53:55.424442Z"
    },
    "executionInfo": {
     "elapsed": 781,
     "status": "ok",
     "timestamp": 1606580126906,
     "user": {
      "displayName": "Aakash N S",
      "photoUrl": "https://lh3.googleusercontent.com/a-/AOh14GiIWFHtan62vtW1gz2Bv2bxL3rppefcadxzEVxRKQ=s64",
      "userId": "03254185060287524023"
     },
     "user_tz": -330
    },
    "id": "Wc7d6WD0fTTZ",
    "papermill": {
     "duration": 0.045755,
     "end_time": "2023-03-16T13:53:55.428563",
     "exception": false,
     "start_time": "2023-03-16T13:53:55.382808",
     "status": "completed"
    },
    "tags": []
   },
   "outputs": [],
   "source": [
    "import torch.nn.functional as F"
   ]
  },
  {
   "cell_type": "markdown",
   "id": "b5feb6ef",
   "metadata": {
    "id": "FbYF4auWfTTZ",
    "papermill": {
     "duration": 0.035072,
     "end_time": "2023-03-16T13:53:55.499431",
     "exception": false,
     "start_time": "2023-03-16T13:53:55.464359",
     "status": "completed"
    },
    "tags": []
   },
   "source": [
    "The softmax function is included in the `torch.nn.functional` package and requires us to specify a dimension along which the function should be applied."
   ]
  },
  {
   "cell_type": "code",
   "execution_count": 33,
   "id": "02f9087d",
   "metadata": {
    "execution": {
     "iopub.execute_input": "2023-03-16T13:53:55.573746Z",
     "iopub.status.busy": "2023-03-16T13:53:55.573327Z",
     "iopub.status.idle": "2023-03-16T13:53:55.583642Z",
     "shell.execute_reply": "2023-03-16T13:53:55.581998Z"
    },
    "executionInfo": {
     "elapsed": 802,
     "status": "ok",
     "timestamp": 1606580142812,
     "user": {
      "displayName": "Aakash N S",
      "photoUrl": "https://lh3.googleusercontent.com/a-/AOh14GiIWFHtan62vtW1gz2Bv2bxL3rppefcadxzEVxRKQ=s64",
      "userId": "03254185060287524023"
     },
     "user_tz": -330
    },
    "id": "6xvjcBVTo14n",
    "outputId": "34f2c507-4278-4f76-91cf-9ef33073ee87",
    "papermill": {
     "duration": 0.050685,
     "end_time": "2023-03-16T13:53:55.586484",
     "exception": false,
     "start_time": "2023-03-16T13:53:55.535799",
     "status": "completed"
    },
    "tags": []
   },
   "outputs": [
    {
     "data": {
      "text/plain": [
       "tensor([[-0.0258, -0.0575,  0.0016,  0.1916,  0.0232,  0.0696, -0.1329, -0.1015,\n",
       "          0.2228,  0.0768],\n",
       "        [-0.0705, -0.1532,  0.0805,  0.1247,  0.2598, -0.1003,  0.1054, -0.0370,\n",
       "          0.1318,  0.1975]], grad_fn=<SliceBackward0>)"
      ]
     },
     "execution_count": 33,
     "metadata": {},
     "output_type": "execute_result"
    }
   ],
   "source": [
    "outputs[:2]"
   ]
  },
  {
   "cell_type": "code",
   "execution_count": 34,
   "id": "fee7b37d",
   "metadata": {
    "execution": {
     "iopub.execute_input": "2023-03-16T13:53:55.659417Z",
     "iopub.status.busy": "2023-03-16T13:53:55.658677Z",
     "iopub.status.idle": "2023-03-16T13:53:55.674109Z",
     "shell.execute_reply": "2023-03-16T13:53:55.672569Z"
    },
    "executionInfo": {
     "elapsed": 927,
     "status": "ok",
     "timestamp": 1606580181438,
     "user": {
      "displayName": "Aakash N S",
      "photoUrl": "https://lh3.googleusercontent.com/a-/AOh14GiIWFHtan62vtW1gz2Bv2bxL3rppefcadxzEVxRKQ=s64",
      "userId": "03254185060287524023"
     },
     "user_tz": -330
    },
    "id": "C3neZ1YGfTTZ",
    "outputId": "4e499c5c-6c61-40f0-f05b-6f8d46f0e61a",
    "papermill": {
     "duration": 0.05517,
     "end_time": "2023-03-16T13:53:55.677239",
     "exception": false,
     "start_time": "2023-03-16T13:53:55.622069",
     "status": "completed"
    },
    "tags": []
   },
   "outputs": [
    {
     "name": "stdout",
     "output_type": "stream",
     "text": [
      "Sample probabilities:\n",
      " tensor([[0.0943, 0.0913, 0.0969, 0.1172, 0.0990, 0.1037, 0.0847, 0.0874, 0.1209,\n",
      "         0.1045],\n",
      "        [0.0876, 0.0806, 0.1018, 0.1064, 0.1219, 0.0850, 0.1044, 0.0906, 0.1072,\n",
      "         0.1145]])\n",
      "Sum:  1.0\n"
     ]
    }
   ],
   "source": [
    "# Apply softmax for each output row\n",
    "probs = F.softmax(outputs, dim=1)\n",
    "\n",
    "# Look at sample probabilities\n",
    "print(\"Sample probabilities:\\n\", probs[:2].data)\n",
    "\n",
    "# Add up the probabilities of an output row\n",
    "print(\"Sum: \", torch.sum(probs[0]).item())"
   ]
  },
  {
   "cell_type": "markdown",
   "id": "e6462b77",
   "metadata": {
    "id": "k2cgqWGVfTTZ",
    "papermill": {
     "duration": 0.036451,
     "end_time": "2023-03-16T13:53:55.749918",
     "exception": false,
     "start_time": "2023-03-16T13:53:55.713467",
     "status": "completed"
    },
    "tags": []
   },
   "source": [
    "Finally, we can determine the predicted label for each image by simply choosing the index of the element with the highest probability in each output row. We can do this using `torch.max`, which returns each row's largest element and the corresponding index."
   ]
  },
  {
   "cell_type": "code",
   "execution_count": 35,
   "id": "6b0070f0",
   "metadata": {
    "execution": {
     "iopub.execute_input": "2023-03-16T13:53:55.823751Z",
     "iopub.status.busy": "2023-03-16T13:53:55.823293Z",
     "iopub.status.idle": "2023-03-16T13:53:55.838047Z",
     "shell.execute_reply": "2023-03-16T13:53:55.836804Z"
    },
    "executionInfo": {
     "elapsed": 1108,
     "status": "ok",
     "timestamp": 1606580284840,
     "user": {
      "displayName": "Aakash N S",
      "photoUrl": "https://lh3.googleusercontent.com/a-/AOh14GiIWFHtan62vtW1gz2Bv2bxL3rppefcadxzEVxRKQ=s64",
      "userId": "03254185060287524023"
     },
     "user_tz": -330
    },
    "id": "1o9a4hAufTTZ",
    "outputId": "ffe611f9-df20-4bbc-fb1c-6178faac90cc",
    "papermill": {
     "duration": 0.055634,
     "end_time": "2023-03-16T13:53:55.841449",
     "exception": false,
     "start_time": "2023-03-16T13:53:55.785815",
     "status": "completed"
    },
    "tags": []
   },
   "outputs": [
    {
     "name": "stdout",
     "output_type": "stream",
     "text": [
      "tensor([8, 4, 2, 9, 3, 7, 8, 8, 9, 6, 3, 4, 4, 9, 8, 8, 9, 6, 9, 8, 3, 6, 9, 9,\n",
      "        8, 7, 9, 7, 6, 9, 0, 4, 3, 4, 3, 4, 6, 2, 3, 6, 4, 9, 4, 5, 7, 4, 6, 7,\n",
      "        6, 6, 4, 6, 9, 6, 9, 5, 3, 3, 6, 5, 9, 9, 6, 4, 6, 4, 4, 9, 3, 0, 3, 7,\n",
      "        6, 9, 4, 6, 5, 5, 9, 4, 7, 4, 2, 9, 6, 9, 4, 6, 9, 9, 3, 9, 5, 6, 9, 2,\n",
      "        9, 3, 6, 3, 3, 4, 3, 7, 7, 6, 6, 9, 9, 7, 5, 9, 8, 9, 4, 4, 4, 9, 9, 7,\n",
      "        2, 7, 5, 8, 9, 7, 4, 4])\n",
      "tensor([0.1209, 0.1219, 0.1362, 0.1291, 0.1173, 0.1272, 0.1246, 0.1328, 0.1403,\n",
      "        0.1367, 0.1376, 0.1391, 0.1249, 0.1531, 0.1349, 0.1234, 0.1583, 0.1510,\n",
      "        0.1311, 0.1193, 0.1362, 0.1564, 0.1170, 0.1484, 0.1154, 0.1221, 0.1327,\n",
      "        0.1338, 0.1545, 0.1371, 0.1131, 0.1292, 0.1257, 0.1490, 0.1309, 0.1150,\n",
      "        0.1323, 0.1325, 0.1580, 0.1625, 0.1198, 0.1223, 0.1195, 0.1412, 0.1228,\n",
      "        0.1277, 0.1614, 0.1407, 0.1307, 0.1462, 0.1304, 0.1588, 0.1337, 0.1445,\n",
      "        0.1456, 0.1184, 0.1192, 0.1395, 0.1502, 0.1540, 0.1581, 0.1533, 0.1434,\n",
      "        0.1191, 0.1407, 0.1156, 0.1298, 0.1546, 0.1298, 0.1284, 0.1275, 0.1346,\n",
      "        0.1179, 0.1394, 0.1333, 0.1613, 0.1368, 0.1357, 0.1286, 0.1122, 0.1254,\n",
      "        0.1336, 0.1259, 0.1321, 0.1395, 0.1231, 0.1172, 0.1418, 0.1233, 0.1281,\n",
      "        0.1547, 0.1364, 0.1218, 0.1688, 0.1360, 0.1374, 0.1213, 0.1261, 0.1479,\n",
      "        0.1323, 0.1235, 0.1432, 0.1235, 0.1386, 0.1256, 0.1247, 0.1482, 0.1222,\n",
      "        0.1242, 0.1569, 0.1250, 0.1474, 0.1339, 0.1285, 0.1361, 0.1329, 0.1227,\n",
      "        0.1430, 0.1427, 0.1424, 0.1322, 0.1268, 0.1360, 0.1337, 0.1380, 0.1381,\n",
      "        0.1308, 0.1236], grad_fn=<MaxBackward0>)\n"
     ]
    }
   ],
   "source": [
    "max_probs, preds = torch.max(probs, dim=1)\n",
    "print(preds)\n",
    "print(max_probs)"
   ]
  },
  {
   "cell_type": "markdown",
   "id": "188fdc7d",
   "metadata": {
    "id": "IGvKME9WfTTZ",
    "papermill": {
     "duration": 0.035383,
     "end_time": "2023-03-16T13:53:55.912880",
     "exception": false,
     "start_time": "2023-03-16T13:53:55.877497",
     "status": "completed"
    },
    "tags": []
   },
   "source": [
    "The numbers printed above are the predicted labels for the first batch of training images. Let's compare them with the actual labels."
   ]
  },
  {
   "cell_type": "code",
   "execution_count": 36,
   "id": "e5c40487",
   "metadata": {
    "execution": {
     "iopub.execute_input": "2023-03-16T13:53:55.986360Z",
     "iopub.status.busy": "2023-03-16T13:53:55.985912Z",
     "iopub.status.idle": "2023-03-16T13:53:55.994676Z",
     "shell.execute_reply": "2023-03-16T13:53:55.993697Z"
    },
    "executionInfo": {
     "elapsed": 810,
     "status": "ok",
     "timestamp": 1606580329683,
     "user": {
      "displayName": "Aakash N S",
      "photoUrl": "https://lh3.googleusercontent.com/a-/AOh14GiIWFHtan62vtW1gz2Bv2bxL3rppefcadxzEVxRKQ=s64",
      "userId": "03254185060287524023"
     },
     "user_tz": -330
    },
    "id": "TsT85mhffTTZ",
    "outputId": "bc61f2f3-3213-4538-9733-579ac3cd8cef",
    "papermill": {
     "duration": 0.048372,
     "end_time": "2023-03-16T13:53:55.997042",
     "exception": false,
     "start_time": "2023-03-16T13:53:55.948670",
     "status": "completed"
    },
    "tags": []
   },
   "outputs": [
    {
     "data": {
      "text/plain": [
       "tensor([2, 8, 1, 5, 1, 4, 7, 5, 5, 2, 5, 7, 7, 3, 4, 7, 3, 0, 8, 9, 7, 2, 3, 5,\n",
       "        1, 7, 8, 7, 0, 7, 6, 9, 5, 8, 4, 1, 8, 1, 5, 0, 2, 3, 7, 9, 9, 6, 3, 7,\n",
       "        0, 0, 4, 0, 9, 0, 3, 6, 5, 9, 0, 6, 3, 9, 0, 0, 0, 2, 4, 5, 5, 6, 9, 7,\n",
       "        8, 9, 1, 5, 5, 5, 6, 1, 4, 1, 1, 8, 8, 5, 7, 2, 2, 2, 4, 3, 7, 0, 5, 6,\n",
       "        6, 9, 3, 4, 8, 6, 8, 7, 5, 2, 5, 5, 4, 7, 3, 9, 7, 6, 1, 2, 6, 5, 5, 7,\n",
       "        8, 6, 7, 8, 3, 7, 1, 8])"
      ]
     },
     "execution_count": 36,
     "metadata": {},
     "output_type": "execute_result"
    }
   ],
   "source": [
    "labels"
   ]
  },
  {
   "cell_type": "markdown",
   "id": "58877372",
   "metadata": {
    "id": "8AFZgI8SfTTZ",
    "papermill": {
     "duration": 0.035145,
     "end_time": "2023-03-16T13:53:56.068480",
     "exception": false,
     "start_time": "2023-03-16T13:53:56.033335",
     "status": "completed"
    },
    "tags": []
   },
   "source": [
    "Most of the predicted labels are different from the actual labels. That's because we have started with randomly initialized weights and biases. We need to train the model, i.e., adjust the weights using gradient descent to make better predictions."
   ]
  },
  {
   "cell_type": "markdown",
   "id": "31c7f6c3",
   "metadata": {
    "id": "FegT9vhlfTTZ",
    "papermill": {
     "duration": 0.035461,
     "end_time": "2023-03-16T13:53:56.139771",
     "exception": false,
     "start_time": "2023-03-16T13:53:56.104310",
     "status": "completed"
    },
    "tags": []
   },
   "source": [
    "## Evaluation Metric and Loss Function"
   ]
  },
  {
   "cell_type": "markdown",
   "id": "cea41269",
   "metadata": {
    "id": "MSiZ3KtqfTTZ",
    "papermill": {
     "duration": 0.035161,
     "end_time": "2023-03-16T13:53:56.210598",
     "exception": false,
     "start_time": "2023-03-16T13:53:56.175437",
     "status": "completed"
    },
    "tags": []
   },
   "source": [
    "Just as with linear regression, we need a way to evaluate how well our model is performing. A natural way to do this would be to find the percentage of labels that were predicted correctly, i.e,. the **accuracy** of the predictions. "
   ]
  },
  {
   "cell_type": "code",
   "execution_count": 37,
   "id": "edbfa374",
   "metadata": {
    "execution": {
     "iopub.execute_input": "2023-03-16T13:53:56.288792Z",
     "iopub.status.busy": "2023-03-16T13:53:56.287743Z",
     "iopub.status.idle": "2023-03-16T13:53:56.296038Z",
     "shell.execute_reply": "2023-03-16T13:53:56.295105Z"
    },
    "executionInfo": {
     "elapsed": 977,
     "status": "ok",
     "timestamp": 1606580407117,
     "user": {
      "displayName": "Aakash N S",
      "photoUrl": "https://lh3.googleusercontent.com/a-/AOh14GiIWFHtan62vtW1gz2Bv2bxL3rppefcadxzEVxRKQ=s64",
      "userId": "03254185060287524023"
     },
     "user_tz": -330
    },
    "id": "wG0IBPVMp3UE",
    "outputId": "ae1ba45f-bfc3-4e35-d4d4-0a0ecefdb919",
    "papermill": {
     "duration": 0.047728,
     "end_time": "2023-03-16T13:53:56.298424",
     "exception": false,
     "start_time": "2023-03-16T13:53:56.250696",
     "status": "completed"
    },
    "tags": []
   },
   "outputs": [
    {
     "data": {
      "text/plain": [
       "tensor([[-0.0258, -0.0575,  0.0016,  0.1916,  0.0232,  0.0696, -0.1329, -0.1015,\n",
       "          0.2228,  0.0768],\n",
       "        [-0.0705, -0.1532,  0.0805,  0.1247,  0.2598, -0.1003,  0.1054, -0.0370,\n",
       "          0.1318,  0.1975]], grad_fn=<SliceBackward0>)"
      ]
     },
     "execution_count": 37,
     "metadata": {},
     "output_type": "execute_result"
    }
   ],
   "source": [
    "outputs[:2]"
   ]
  },
  {
   "cell_type": "code",
   "execution_count": 38,
   "id": "1df94446",
   "metadata": {
    "execution": {
     "iopub.execute_input": "2023-03-16T13:53:56.371991Z",
     "iopub.status.busy": "2023-03-16T13:53:56.371581Z",
     "iopub.status.idle": "2023-03-16T13:53:56.380732Z",
     "shell.execute_reply": "2023-03-16T13:53:56.379572Z"
    },
    "executionInfo": {
     "elapsed": 721,
     "status": "ok",
     "timestamp": 1606580492350,
     "user": {
      "displayName": "Aakash N S",
      "photoUrl": "https://lh3.googleusercontent.com/a-/AOh14GiIWFHtan62vtW1gz2Bv2bxL3rppefcadxzEVxRKQ=s64",
      "userId": "03254185060287524023"
     },
     "user_tz": -330
    },
    "id": "hHgMnCL4qGDt",
    "outputId": "90f55abc-6496-46bf-faaf-edf7fe22fac8",
    "papermill": {
     "duration": 0.048609,
     "end_time": "2023-03-16T13:53:56.383168",
     "exception": false,
     "start_time": "2023-03-16T13:53:56.334559",
     "status": "completed"
    },
    "tags": []
   },
   "outputs": [
    {
     "data": {
      "text/plain": [
       "tensor(17)"
      ]
     },
     "execution_count": 38,
     "metadata": {},
     "output_type": "execute_result"
    }
   ],
   "source": [
    "torch.sum(preds == labels)"
   ]
  },
  {
   "cell_type": "code",
   "execution_count": 39,
   "id": "7bb93ae1",
   "metadata": {
    "execution": {
     "iopub.execute_input": "2023-03-16T13:53:56.456999Z",
     "iopub.status.busy": "2023-03-16T13:53:56.456190Z",
     "iopub.status.idle": "2023-03-16T13:53:56.462772Z",
     "shell.execute_reply": "2023-03-16T13:53:56.461565Z"
    },
    "executionInfo": {
     "elapsed": 967,
     "status": "ok",
     "timestamp": 1606580510348,
     "user": {
      "displayName": "Aakash N S",
      "photoUrl": "https://lh3.googleusercontent.com/a-/AOh14GiIWFHtan62vtW1gz2Bv2bxL3rppefcadxzEVxRKQ=s64",
      "userId": "03254185060287524023"
     },
     "user_tz": -330
    },
    "id": "11hDOTR1fTTZ",
    "papermill": {
     "duration": 0.046924,
     "end_time": "2023-03-16T13:53:56.465774",
     "exception": false,
     "start_time": "2023-03-16T13:53:56.418850",
     "status": "completed"
    },
    "tags": []
   },
   "outputs": [],
   "source": [
    "def accuracy(outputs, labels):\n",
    "    _, preds = torch.max(outputs, dim=1)\n",
    "    return torch.tensor(torch.sum(preds == labels).item() / len(preds))"
   ]
  },
  {
   "cell_type": "markdown",
   "id": "73f605ed",
   "metadata": {
    "id": "E258dVOUfTTZ",
    "papermill": {
     "duration": 0.035772,
     "end_time": "2023-03-16T13:53:56.537814",
     "exception": false,
     "start_time": "2023-03-16T13:53:56.502042",
     "status": "completed"
    },
    "tags": []
   },
   "source": [
    "The `==` operator performs an element-wise comparison of two tensors with the same shape and returns a tensor of the same shape, containing `True` for unequal elements and `False` for equal elements. Passing the result to `torch.sum` returns the number of labels that were predicted correctly. Finally, we divide by the total number of images to get the accuracy. \n",
    "\n",
    "Note that we don't need to apply softmax to the outputs since its results have the same relative order. This is because `e^x` is an increasing function, i.e., if `y1 > y2`, then `e^y1 > e^y2`. The same holds after averaging out the values to get the softmax.\n",
    "\n",
    "Let's calculate the accuracy of the current model on the first batch of data. "
   ]
  },
  {
   "cell_type": "code",
   "execution_count": 40,
   "id": "d0c15301",
   "metadata": {
    "execution": {
     "iopub.execute_input": "2023-03-16T13:53:56.615090Z",
     "iopub.status.busy": "2023-03-16T13:53:56.613705Z",
     "iopub.status.idle": "2023-03-16T13:53:56.622543Z",
     "shell.execute_reply": "2023-03-16T13:53:56.621135Z"
    },
    "executionInfo": {
     "elapsed": 1247,
     "status": "ok",
     "timestamp": 1606580523641,
     "user": {
      "displayName": "Aakash N S",
      "photoUrl": "https://lh3.googleusercontent.com/a-/AOh14GiIWFHtan62vtW1gz2Bv2bxL3rppefcadxzEVxRKQ=s64",
      "userId": "03254185060287524023"
     },
     "user_tz": -330
    },
    "id": "HwVAxpZXfTTZ",
    "outputId": "d7a56d59-a6b9-4209-c7f3-fba67d0b268c",
    "papermill": {
     "duration": 0.050555,
     "end_time": "2023-03-16T13:53:56.625210",
     "exception": false,
     "start_time": "2023-03-16T13:53:56.574655",
     "status": "completed"
    },
    "tags": []
   },
   "outputs": [
    {
     "data": {
      "text/plain": [
       "tensor(0.1328)"
      ]
     },
     "execution_count": 40,
     "metadata": {},
     "output_type": "execute_result"
    }
   ],
   "source": [
    "accuracy(outputs, labels)"
   ]
  },
  {
   "cell_type": "code",
   "execution_count": 41,
   "id": "7803fee4",
   "metadata": {
    "execution": {
     "iopub.execute_input": "2023-03-16T13:53:56.700363Z",
     "iopub.status.busy": "2023-03-16T13:53:56.699610Z",
     "iopub.status.idle": "2023-03-16T13:53:56.708717Z",
     "shell.execute_reply": "2023-03-16T13:53:56.707264Z"
    },
    "executionInfo": {
     "elapsed": 595,
     "status": "ok",
     "timestamp": 1606580756117,
     "user": {
      "displayName": "Aakash N S",
      "photoUrl": "https://lh3.googleusercontent.com/a-/AOh14GiIWFHtan62vtW1gz2Bv2bxL3rppefcadxzEVxRKQ=s64",
      "userId": "03254185060287524023"
     },
     "user_tz": -330
    },
    "id": "jEyaxGIBrNFm",
    "outputId": "2dab272b-2825-470a-91d6-30e39c5b1a43",
    "papermill": {
     "duration": 0.049791,
     "end_time": "2023-03-16T13:53:56.711716",
     "exception": false,
     "start_time": "2023-03-16T13:53:56.661925",
     "status": "completed"
    },
    "tags": []
   },
   "outputs": [
    {
     "data": {
      "text/plain": [
       "tensor([[0.0943, 0.0913, 0.0969,  ..., 0.0874, 0.1209, 0.1045],\n",
       "        [0.0876, 0.0806, 0.1018,  ..., 0.0906, 0.1072, 0.1145],\n",
       "        [0.0800, 0.0624, 0.1362,  ..., 0.1105, 0.1201, 0.1043],\n",
       "        ...,\n",
       "        [0.0767, 0.0986, 0.0725,  ..., 0.1381, 0.1144, 0.1090],\n",
       "        [0.0896, 0.0971, 0.1019,  ..., 0.1162, 0.1044, 0.0887],\n",
       "        [0.0802, 0.0631, 0.1052,  ..., 0.1229, 0.1080, 0.0975]],\n",
       "       grad_fn=<SoftmaxBackward0>)"
      ]
     },
     "execution_count": 41,
     "metadata": {},
     "output_type": "execute_result"
    }
   ],
   "source": [
    "probs"
   ]
  },
  {
   "cell_type": "markdown",
   "id": "900c418c",
   "metadata": {
    "id": "Te7ORtqVfTTZ",
    "papermill": {
     "duration": 0.036006,
     "end_time": "2023-03-16T13:53:56.784249",
     "exception": false,
     "start_time": "2023-03-16T13:53:56.748243",
     "status": "completed"
    },
    "tags": []
   },
   "source": [
    "Accuracy is an excellent way for us (humans) to evaluate the model. However, we can't use it as a loss function for optimizing our model using gradient descent for the following reasons:\n",
    "\n",
    "1. It's not a differentiable function. `torch.max` and `==` are both non-continuous and non-differentiable operations, so we can't use the accuracy for computing gradients w.r.t the weights and biases.\n",
    "\n",
    "2. It doesn't take into account the actual probabilities predicted by the model, so it can't provide sufficient feedback for incremental improvements. \n",
    "\n",
    "For these reasons, accuracy is often used as an **evaluation metric** for classification, but not as a loss function. A commonly used loss function for classification problems is the **cross-entropy**, which has the following formula:\n",
    "\n",
    "![cross-entropy](https://i.imgur.com/VDRDl1D.png)\n",
    "\n",
    "While it looks complicated, it's actually quite simple:\n",
    "\n",
    "* For each output row, pick the predicted probability for the correct label. E.g., if the predicted probabilities for an image are `[0.1, 0.3, 0.2, ...]` and the correct label is `1`, we pick the corresponding element `0.3` and ignore the rest.\n",
    "\n",
    "* Then, take the [logarithm](https://en.wikipedia.org/wiki/Logarithm) of the picked probability. If the probability is high, i.e., close to 1, then its logarithm is a very small negative value, close to 0. And if the probability is low (close to 0), then the logarithm is a very large negative value. We also multiply the result by -1, which results is a large postive value of the loss for poor predictions.\n",
    "\n",
    "![](https://www.intmath.com/blog/wp-content/images/2019/05/log10.png)\n",
    "\n",
    "* Finally, take the average of the cross entropy across all the output rows to get the overall loss for a batch of data.\n",
    "\n",
    "Unlike accuracy, cross-entropy is a continuous and differentiable function. It also provides useful feedback for incremental improvements in the model (a slightly higher probability for the correct label leads to a lower loss). These two factors make cross-entropy a better choice for the loss function.\n",
    "\n",
    "As you might expect, PyTorch provides an efficient and tensor-friendly implementation of cross-entropy as part of the `torch.nn.functional` package. Moreover, it also performs softmax internally, so we can directly pass in the model's outputs without converting them into probabilities."
   ]
  },
  {
   "cell_type": "code",
   "execution_count": 42,
   "id": "4d71263e",
   "metadata": {
    "execution": {
     "iopub.execute_input": "2023-03-16T13:53:56.859350Z",
     "iopub.status.busy": "2023-03-16T13:53:56.858628Z",
     "iopub.status.idle": "2023-03-16T13:53:56.867833Z",
     "shell.execute_reply": "2023-03-16T13:53:56.866335Z"
    },
    "executionInfo": {
     "elapsed": 920,
     "status": "ok",
     "timestamp": 1606580951226,
     "user": {
      "displayName": "Aakash N S",
      "photoUrl": "https://lh3.googleusercontent.com/a-/AOh14GiIWFHtan62vtW1gz2Bv2bxL3rppefcadxzEVxRKQ=s64",
      "userId": "03254185060287524023"
     },
     "user_tz": -330
    },
    "id": "AkkyxKR1r8nm",
    "outputId": "7e13a471-37df-4549-e02d-1a807971176d",
    "papermill": {
     "duration": 0.049446,
     "end_time": "2023-03-16T13:53:56.870383",
     "exception": false,
     "start_time": "2023-03-16T13:53:56.820937",
     "status": "completed"
    },
    "tags": []
   },
   "outputs": [
    {
     "data": {
      "text/plain": [
       "tensor([[-0.0258, -0.0575,  0.0016,  ..., -0.1015,  0.2228,  0.0768],\n",
       "        [-0.0705, -0.1532,  0.0805,  ..., -0.0370,  0.1318,  0.1975],\n",
       "        [-0.2017, -0.4507,  0.3305,  ...,  0.1212,  0.2040,  0.0635],\n",
       "        ...,\n",
       "        [-0.2893, -0.0376, -0.3456,  ...,  0.2990,  0.1112,  0.0625],\n",
       "        [-0.1051, -0.0242,  0.0241,  ...,  0.1557,  0.0487, -0.1147],\n",
       "        [-0.1547, -0.3931,  0.1177,  ...,  0.2731,  0.1435,  0.0411]],\n",
       "       grad_fn=<AddmmBackward0>)"
      ]
     },
     "execution_count": 42,
     "metadata": {},
     "output_type": "execute_result"
    }
   ],
   "source": [
    "outputs"
   ]
  },
  {
   "cell_type": "code",
   "execution_count": 43,
   "id": "5a01a8a5",
   "metadata": {
    "execution": {
     "iopub.execute_input": "2023-03-16T13:53:57.023553Z",
     "iopub.status.busy": "2023-03-16T13:53:57.022808Z",
     "iopub.status.idle": "2023-03-16T13:53:57.028121Z",
     "shell.execute_reply": "2023-03-16T13:53:57.027183Z"
    },
    "executionInfo": {
     "elapsed": 804,
     "status": "ok",
     "timestamp": 1606580980198,
     "user": {
      "displayName": "Aakash N S",
      "photoUrl": "https://lh3.googleusercontent.com/a-/AOh14GiIWFHtan62vtW1gz2Bv2bxL3rppefcadxzEVxRKQ=s64",
      "userId": "03254185060287524023"
     },
     "user_tz": -330
    },
    "id": "OqWUQpANfTTZ",
    "papermill": {
     "duration": 0.123714,
     "end_time": "2023-03-16T13:53:57.030643",
     "exception": false,
     "start_time": "2023-03-16T13:53:56.906929",
     "status": "completed"
    },
    "tags": []
   },
   "outputs": [],
   "source": [
    "loss_fn = F.cross_entropy"
   ]
  },
  {
   "cell_type": "code",
   "execution_count": 44,
   "id": "e60572e8",
   "metadata": {
    "execution": {
     "iopub.execute_input": "2023-03-16T13:53:57.107162Z",
     "iopub.status.busy": "2023-03-16T13:53:57.106431Z",
     "iopub.status.idle": "2023-03-16T13:53:57.119200Z",
     "shell.execute_reply": "2023-03-16T13:53:57.117597Z"
    },
    "executionInfo": {
     "elapsed": 1109,
     "status": "ok",
     "timestamp": 1606580980798,
     "user": {
      "displayName": "Aakash N S",
      "photoUrl": "https://lh3.googleusercontent.com/a-/AOh14GiIWFHtan62vtW1gz2Bv2bxL3rppefcadxzEVxRKQ=s64",
      "userId": "03254185060287524023"
     },
     "user_tz": -330
    },
    "id": "SuESG0hbfTTZ",
    "outputId": "10804014-e2d7-4b7c-c56d-b56761ffb464",
    "papermill": {
     "duration": 0.053886,
     "end_time": "2023-03-16T13:53:57.122106",
     "exception": false,
     "start_time": "2023-03-16T13:53:57.068220",
     "status": "completed"
    },
    "tags": []
   },
   "outputs": [
    {
     "name": "stdout",
     "output_type": "stream",
     "text": [
      "tensor(2.3075, grad_fn=<NllLossBackward0>)\n"
     ]
    }
   ],
   "source": [
    "# Loss for current batch of data\n",
    "loss = loss_fn(outputs, labels)\n",
    "print(loss)"
   ]
  },
  {
   "cell_type": "markdown",
   "id": "68abb5a5",
   "metadata": {
    "id": "wFOtpxUqfTTZ",
    "papermill": {
     "duration": 0.037483,
     "end_time": "2023-03-16T13:53:57.196866",
     "exception": false,
     "start_time": "2023-03-16T13:53:57.159383",
     "status": "completed"
    },
    "tags": []
   },
   "source": [
    "We know that cross-entropy is the negative logarithm of the predicted probability of the correct label averaged over all training samples. Therefore, one way to interpret the resulting number e.g. `2.23` is look at `e^-2.23` which is around `0.1` as the predicted probability of the correct label, on average. *The lower the loss, The better the model.*"
   ]
  },
  {
   "cell_type": "markdown",
   "id": "8ff0b138",
   "metadata": {
    "id": "hTgl76MgfTTZ",
    "papermill": {
     "duration": 0.036011,
     "end_time": "2023-03-16T13:53:57.269431",
     "exception": false,
     "start_time": "2023-03-16T13:53:57.233420",
     "status": "completed"
    },
    "tags": []
   },
   "source": [
    "## Training the model\n",
    "\n",
    "Now that we have defined the data loaders, model, loss function and optimizer, we are ready to train the model. The training process is identical to linear regression, with the addition of a \"validation phase\" to evaluate the model in each epoch. Here's what it looks like in pseudocode:\n",
    "\n",
    "```\n",
    "for epoch in range(num_epochs):\n",
    "    # Training phase\n",
    "    for batch in train_loader:\n",
    "        # Generate predictions\n",
    "        # Calculate loss\n",
    "        # Compute gradients\n",
    "        # Update weights\n",
    "        # Reset gradients\n",
    "    \n",
    "    # Validation phase\n",
    "    for batch in val_loader:\n",
    "        # Generate predictions\n",
    "        # Calculate loss\n",
    "        # Calculate metrics (accuracy etc.)\n",
    "    # Calculate average validation loss & metrics\n",
    "    \n",
    "    # Log epoch, loss & metrics for inspection\n",
    "```\n",
    "\n",
    "Some parts of the training loop are specific the specific problem we're solving (e.g. loss function, metrics etc.) whereas others are generic and can be applied to any deep learning problem. \n",
    "\n",
    "We'll include the problem-independent parts within a function called `fit`, which will be used to train the model. The problem-specific parts will be implemented by adding new methods to the `nn.Module` class.\n",
    "\n"
   ]
  },
  {
   "cell_type": "code",
   "execution_count": 45,
   "id": "24bd2c0f",
   "metadata": {
    "execution": {
     "iopub.execute_input": "2023-03-16T13:53:57.344695Z",
     "iopub.status.busy": "2023-03-16T13:53:57.344213Z",
     "iopub.status.idle": "2023-03-16T13:53:57.352610Z",
     "shell.execute_reply": "2023-03-16T13:53:57.351212Z"
    },
    "executionInfo": {
     "elapsed": 845,
     "status": "ok",
     "timestamp": 1606581529307,
     "user": {
      "displayName": "Aakash N S",
      "photoUrl": "https://lh3.googleusercontent.com/a-/AOh14GiIWFHtan62vtW1gz2Bv2bxL3rppefcadxzEVxRKQ=s64",
      "userId": "03254185060287524023"
     },
     "user_tz": -330
    },
    "id": "1cv7a7ukfTTZ",
    "papermill": {
     "duration": 0.04965,
     "end_time": "2023-03-16T13:53:57.355541",
     "exception": false,
     "start_time": "2023-03-16T13:53:57.305891",
     "status": "completed"
    },
    "tags": []
   },
   "outputs": [],
   "source": [
    "def fit(epochs, lr, model, train_loader, val_loader, opt_func=torch.optim.SGD):\n",
    "    optimizer = opt_func(model.parameters(), lr)\n",
    "    history = [] # for recording epoch-wise results\n",
    "    \n",
    "    for epoch in range(epochs):\n",
    "        \n",
    "        # Training Phase \n",
    "        for batch in train_loader:\n",
    "            loss = model.training_step(batch)\n",
    "            loss.backward()\n",
    "            optimizer.step()\n",
    "            optimizer.zero_grad()\n",
    "        \n",
    "        # Validation phase\n",
    "        result = evaluate(model, val_loader)\n",
    "        model.epoch_end(epoch, result)\n",
    "        history.append(result)\n",
    "\n",
    "    return history"
   ]
  },
  {
   "cell_type": "markdown",
   "id": "bf7d95d6",
   "metadata": {
    "id": "TAuhlro7fTTZ",
    "papermill": {
     "duration": 0.037335,
     "end_time": "2023-03-16T13:53:57.430876",
     "exception": false,
     "start_time": "2023-03-16T13:53:57.393541",
     "status": "completed"
    },
    "tags": []
   },
   "source": [
    "The `fit` function records the validation loss and metric from each epoch. It returns a history of the training, useful for debugging & visualization.\n",
    "\n",
    "Configurations like batch size, learning rate, etc. (called hyperparameters), need to picked in advance while training machine learning models. Choosing the right hyperparameters is critical for training a reasonably accurate model within a reasonable amount of time. It is an active area of research and experimentation in machine learning. Feel free to try different learning rates and see how it affects the training process.\n",
    "\n",
    "\n",
    "Let's define the `evaluate` function, used in the validation phase of `fit`."
   ]
  },
  {
   "cell_type": "code",
   "execution_count": 46,
   "id": "e0f6de51",
   "metadata": {
    "execution": {
     "iopub.execute_input": "2023-03-16T13:53:57.510135Z",
     "iopub.status.busy": "2023-03-16T13:53:57.508732Z",
     "iopub.status.idle": "2023-03-16T13:53:57.514944Z",
     "shell.execute_reply": "2023-03-16T13:53:57.513990Z"
    },
    "executionInfo": {
     "elapsed": 974,
     "status": "ok",
     "timestamp": 1606581638418,
     "user": {
      "displayName": "Aakash N S",
      "photoUrl": "https://lh3.googleusercontent.com/a-/AOh14GiIWFHtan62vtW1gz2Bv2bxL3rppefcadxzEVxRKQ=s64",
      "userId": "03254185060287524023"
     },
     "user_tz": -330
    },
    "id": "N064K5H9ujtQ",
    "papermill": {
     "duration": 0.047565,
     "end_time": "2023-03-16T13:53:57.517716",
     "exception": false,
     "start_time": "2023-03-16T13:53:57.470151",
     "status": "completed"
    },
    "tags": []
   },
   "outputs": [],
   "source": [
    "l1 = [1, 2, 3, 4, 5]"
   ]
  },
  {
   "cell_type": "code",
   "execution_count": 47,
   "id": "896442f7",
   "metadata": {
    "execution": {
     "iopub.execute_input": "2023-03-16T13:53:57.595252Z",
     "iopub.status.busy": "2023-03-16T13:53:57.594356Z",
     "iopub.status.idle": "2023-03-16T13:53:57.602473Z",
     "shell.execute_reply": "2023-03-16T13:53:57.601388Z"
    },
    "executionInfo": {
     "elapsed": 1036,
     "status": "ok",
     "timestamp": 1606581654744,
     "user": {
      "displayName": "Aakash N S",
      "photoUrl": "https://lh3.googleusercontent.com/a-/AOh14GiIWFHtan62vtW1gz2Bv2bxL3rppefcadxzEVxRKQ=s64",
      "userId": "03254185060287524023"
     },
     "user_tz": -330
    },
    "id": "5W8a_hmFujqa",
    "outputId": "ec0a2dfb-9b6a-48f7-86b3-5ee852af0072",
    "papermill": {
     "duration": 0.050835,
     "end_time": "2023-03-16T13:53:57.605098",
     "exception": false,
     "start_time": "2023-03-16T13:53:57.554263",
     "status": "completed"
    },
    "tags": []
   },
   "outputs": [
    {
     "data": {
      "text/plain": [
       "[2, 4, 6, 8, 10]"
      ]
     },
     "execution_count": 47,
     "metadata": {},
     "output_type": "execute_result"
    }
   ],
   "source": [
    "l2 = [x*2 for x in l1]\n",
    "l2"
   ]
  },
  {
   "cell_type": "code",
   "execution_count": 48,
   "id": "1cb8c22f",
   "metadata": {
    "execution": {
     "iopub.execute_input": "2023-03-16T13:53:57.684955Z",
     "iopub.status.busy": "2023-03-16T13:53:57.684103Z",
     "iopub.status.idle": "2023-03-16T13:53:57.690045Z",
     "shell.execute_reply": "2023-03-16T13:53:57.689163Z"
    },
    "executionInfo": {
     "elapsed": 943,
     "status": "ok",
     "timestamp": 1606581713680,
     "user": {
      "displayName": "Aakash N S",
      "photoUrl": "https://lh3.googleusercontent.com/a-/AOh14GiIWFHtan62vtW1gz2Bv2bxL3rppefcadxzEVxRKQ=s64",
      "userId": "03254185060287524023"
     },
     "user_tz": -330
    },
    "id": "wgWjXs5mfTTZ",
    "papermill": {
     "duration": 0.04931,
     "end_time": "2023-03-16T13:53:57.692788",
     "exception": false,
     "start_time": "2023-03-16T13:53:57.643478",
     "status": "completed"
    },
    "tags": []
   },
   "outputs": [],
   "source": [
    "def evaluate(model, val_loader):\n",
    "    outputs = [model.validation_step(batch) for batch in val_loader]\n",
    "    return model.validation_epoch_end(outputs)"
   ]
  },
  {
   "cell_type": "markdown",
   "id": "a0a2fd93",
   "metadata": {
    "id": "FdcKIXvMfTTZ",
    "papermill": {
     "duration": 0.036679,
     "end_time": "2023-03-16T13:53:57.766878",
     "exception": false,
     "start_time": "2023-03-16T13:53:57.730199",
     "status": "completed"
    },
    "tags": []
   },
   "source": [
    "\n",
    "Finally, let's redefine the `MnistModel` class to include additional methods `training_step`, `validation_step`, `validation_epoch_end`, and `epoch_end` used by `fit` and `evaluate`."
   ]
  },
  {
   "cell_type": "code",
   "execution_count": 49,
   "id": "e56a764c",
   "metadata": {
    "execution": {
     "iopub.execute_input": "2023-03-16T13:53:57.847420Z",
     "iopub.status.busy": "2023-03-16T13:53:57.846393Z",
     "iopub.status.idle": "2023-03-16T13:53:57.859683Z",
     "shell.execute_reply": "2023-03-16T13:53:57.858425Z"
    },
    "executionInfo": {
     "elapsed": 785,
     "status": "ok",
     "timestamp": 1606582144490,
     "user": {
      "displayName": "Aakash N S",
      "photoUrl": "https://lh3.googleusercontent.com/a-/AOh14GiIWFHtan62vtW1gz2Bv2bxL3rppefcadxzEVxRKQ=s64",
      "userId": "03254185060287524023"
     },
     "user_tz": -330
    },
    "id": "SbJN7ICGfTTZ",
    "papermill": {
     "duration": 0.057914,
     "end_time": "2023-03-16T13:53:57.862710",
     "exception": false,
     "start_time": "2023-03-16T13:53:57.804796",
     "status": "completed"
    },
    "tags": []
   },
   "outputs": [],
   "source": [
    "class MnistModel(nn.Module):\n",
    "    def __init__(\n",
    "        self,\n",
    "        input_size:int=784\n",
    "    ):\n",
    "        super().__init__()\n",
    "        self.linear = nn.Linear(input_size, num_classes)\n",
    "        \n",
    "    def forward(self, xb):\n",
    "        xb = xb.reshape(-1, 784)\n",
    "        out = self.linear(xb)\n",
    "        return out\n",
    "    \n",
    "    def training_step(self, batch):\n",
    "        images, labels = batch \n",
    "        out = self(images)                  # Generate predictions\n",
    "        loss = F.cross_entropy(out, labels) # Calculate loss\n",
    "        return loss\n",
    "    \n",
    "    def validation_step(self, batch):\n",
    "        images, labels = batch \n",
    "        out = self(images)                    # Generate predictions\n",
    "        loss = F.cross_entropy(out, labels)   # Calculate loss\n",
    "        acc = accuracy(out, labels)           # Calculate accuracy\n",
    "        return {'val_loss': loss, 'val_acc': acc}\n",
    "        \n",
    "    def validation_epoch_end(self, outputs):\n",
    "        batch_losses = [x['val_loss'] for x in outputs]\n",
    "        epoch_loss = torch.stack(batch_losses).mean()   # Combine losses\n",
    "        batch_accs = [x['val_acc'] for x in outputs]\n",
    "        epoch_acc = torch.stack(batch_accs).mean()      # Combine accuracies\n",
    "        return {'val_loss': epoch_loss.item(), 'val_acc': epoch_acc.item()}\n",
    "    \n",
    "    def epoch_end(self, epoch, result):\n",
    "        print(\"Epoch [{}], val_loss: {:.4f}, val_acc: {:.4f}\".format(epoch, result['val_loss'], result['val_acc']))\n",
    "    \n",
    "model = MnistModel()"
   ]
  },
  {
   "cell_type": "markdown",
   "id": "cddf6c59",
   "metadata": {
    "id": "Y-omw1RBfTTZ",
    "papermill": {
     "duration": 0.039794,
     "end_time": "2023-03-16T13:53:57.940183",
     "exception": false,
     "start_time": "2023-03-16T13:53:57.900389",
     "status": "completed"
    },
    "tags": []
   },
   "source": [
    "Before we train the model, let's see how the model performs on the validation set with the initial set of randomly initialized weights & biases.\n",
    "\n"
   ]
  },
  {
   "cell_type": "code",
   "execution_count": 50,
   "id": "e9ac0b81",
   "metadata": {
    "execution": {
     "iopub.execute_input": "2023-03-16T13:53:58.019067Z",
     "iopub.status.busy": "2023-03-16T13:53:58.017758Z",
     "iopub.status.idle": "2023-03-16T13:53:59.125506Z",
     "shell.execute_reply": "2023-03-16T13:53:59.124125Z"
    },
    "executionInfo": {
     "elapsed": 1817,
     "status": "ok",
     "timestamp": 1606582146179,
     "user": {
      "displayName": "Aakash N S",
      "photoUrl": "https://lh3.googleusercontent.com/a-/AOh14GiIWFHtan62vtW1gz2Bv2bxL3rppefcadxzEVxRKQ=s64",
      "userId": "03254185060287524023"
     },
     "user_tz": -330
    },
    "id": "tNUBy9qTfTTZ",
    "outputId": "774e8e20-68c2-4a30-ada9-4e0df23285ac",
    "papermill": {
     "duration": 1.149505,
     "end_time": "2023-03-16T13:53:59.128626",
     "exception": false,
     "start_time": "2023-03-16T13:53:57.979121",
     "status": "completed"
    },
    "tags": []
   },
   "outputs": [
    {
     "data": {
      "text/plain": [
       "{'val_loss': 2.293276071548462, 'val_acc': 0.13459256291389465}"
      ]
     },
     "execution_count": 50,
     "metadata": {},
     "output_type": "execute_result"
    }
   ],
   "source": [
    "result0 = evaluate(model, val_loader)\n",
    "result0"
   ]
  },
  {
   "cell_type": "markdown",
   "id": "f37e0ee8",
   "metadata": {
    "id": "KapQW0CDfTTZ",
    "papermill": {
     "duration": 0.039339,
     "end_time": "2023-03-16T13:53:59.204849",
     "exception": false,
     "start_time": "2023-03-16T13:53:59.165510",
     "status": "completed"
    },
    "tags": []
   },
   "source": [
    "The initial accuracy is around 10%, which one might expect from a randomly initialized model (since it has a 1 in 10 chance of getting a label right by guessing randomly).\n",
    "\n",
    "We are now ready to train the model. Let's train for five epochs and look at the results."
   ]
  },
  {
   "cell_type": "code",
   "execution_count": 51,
   "id": "bcd2cc61",
   "metadata": {
    "execution": {
     "iopub.execute_input": "2023-03-16T13:53:59.284040Z",
     "iopub.status.busy": "2023-03-16T13:53:59.283068Z",
     "iopub.status.idle": "2023-03-16T13:54:32.138321Z",
     "shell.execute_reply": "2023-03-16T13:54:32.136820Z"
    },
    "executionInfo": {
     "elapsed": 25282,
     "status": "ok",
     "timestamp": 1606582219804,
     "user": {
      "displayName": "Aakash N S",
      "photoUrl": "https://lh3.googleusercontent.com/a-/AOh14GiIWFHtan62vtW1gz2Bv2bxL3rppefcadxzEVxRKQ=s64",
      "userId": "03254185060287524023"
     },
     "user_tz": -330
    },
    "id": "MQRahsa6fTTZ",
    "outputId": "864bc5a4-c235-458c-e316-764cae8bb587",
    "papermill": {
     "duration": 32.933316,
     "end_time": "2023-03-16T13:54:32.175895",
     "exception": false,
     "start_time": "2023-03-16T13:53:59.242579",
     "status": "completed"
    },
    "tags": []
   },
   "outputs": [
    {
     "name": "stdout",
     "output_type": "stream",
     "text": [
      "Epoch [0], val_loss: 1.9309, val_acc: 0.6457\n",
      "Epoch [1], val_loss: 1.6644, val_acc: 0.7363\n",
      "Epoch [2], val_loss: 1.4655, val_acc: 0.7676\n",
      "Epoch [3], val_loss: 1.3152, val_acc: 0.7859\n",
      "Epoch [4], val_loss: 1.1996, val_acc: 0.7975\n"
     ]
    }
   ],
   "source": [
    "history1 = fit(5, 0.001, model, train_loader, val_loader)"
   ]
  },
  {
   "cell_type": "markdown",
   "id": "b4a11a41",
   "metadata": {
    "id": "5mcIbHuKfTTa",
    "papermill": {
     "duration": 0.037449,
     "end_time": "2023-03-16T13:54:32.250946",
     "exception": false,
     "start_time": "2023-03-16T13:54:32.213497",
     "status": "completed"
    },
    "tags": []
   },
   "source": [
    "That's a great result! With just 5 epochs of training, our model has reached an accuracy of over 80% on the validation set. Let's see if we can improve that by training for a few more epochs. Try changing the learning rates and number of epochs in each of the cells below."
   ]
  },
  {
   "cell_type": "code",
   "execution_count": 52,
   "id": "60749c4e",
   "metadata": {
    "execution": {
     "iopub.execute_input": "2023-03-16T13:54:32.327708Z",
     "iopub.status.busy": "2023-03-16T13:54:32.327095Z",
     "iopub.status.idle": "2023-03-16T13:55:05.068954Z",
     "shell.execute_reply": "2023-03-16T13:55:05.064327Z"
    },
    "executionInfo": {
     "elapsed": 48991,
     "status": "ok",
     "timestamp": 1606582243818,
     "user": {
      "displayName": "Aakash N S",
      "photoUrl": "https://lh3.googleusercontent.com/a-/AOh14GiIWFHtan62vtW1gz2Bv2bxL3rppefcadxzEVxRKQ=s64",
      "userId": "03254185060287524023"
     },
     "user_tz": -330
    },
    "id": "cJvMd9CufTTa",
    "outputId": "c15d370b-4d0b-4644-8ddb-965117f03ba8",
    "papermill": {
     "duration": 32.820381,
     "end_time": "2023-03-16T13:55:05.108642",
     "exception": false,
     "start_time": "2023-03-16T13:54:32.288261",
     "status": "completed"
    },
    "tags": []
   },
   "outputs": [
    {
     "name": "stdout",
     "output_type": "stream",
     "text": [
      "Epoch [0], val_loss: 1.1086, val_acc: 0.8080\n",
      "Epoch [1], val_loss: 1.0356, val_acc: 0.8163\n",
      "Epoch [2], val_loss: 0.9757, val_acc: 0.8226\n",
      "Epoch [3], val_loss: 0.9258, val_acc: 0.8285\n",
      "Epoch [4], val_loss: 0.8835, val_acc: 0.8352\n"
     ]
    }
   ],
   "source": [
    "history2 = fit(5, 0.001, model, train_loader, val_loader)"
   ]
  },
  {
   "cell_type": "code",
   "execution_count": 53,
   "id": "b5aa3d0a",
   "metadata": {
    "execution": {
     "iopub.execute_input": "2023-03-16T13:55:05.187881Z",
     "iopub.status.busy": "2023-03-16T13:55:05.187443Z",
     "iopub.status.idle": "2023-03-16T13:55:37.882783Z",
     "shell.execute_reply": "2023-03-16T13:55:37.881436Z"
    },
    "executionInfo": {
     "elapsed": 72873,
     "status": "ok",
     "timestamp": 1606582267867,
     "user": {
      "displayName": "Aakash N S",
      "photoUrl": "https://lh3.googleusercontent.com/a-/AOh14GiIWFHtan62vtW1gz2Bv2bxL3rppefcadxzEVxRKQ=s64",
      "userId": "03254185060287524023"
     },
     "user_tz": -330
    },
    "id": "hON9V8GBfTTa",
    "outputId": "08129337-153d-4eaa-eb13-1ee86089d60f",
    "papermill": {
     "duration": 32.777677,
     "end_time": "2023-03-16T13:55:37.925212",
     "exception": false,
     "start_time": "2023-03-16T13:55:05.147535",
     "status": "completed"
    },
    "tags": []
   },
   "outputs": [
    {
     "name": "stdout",
     "output_type": "stream",
     "text": [
      "Epoch [0], val_loss: 0.8473, val_acc: 0.8383\n",
      "Epoch [1], val_loss: 0.8159, val_acc: 0.8426\n",
      "Epoch [2], val_loss: 0.7883, val_acc: 0.8446\n",
      "Epoch [3], val_loss: 0.7640, val_acc: 0.8482\n",
      "Epoch [4], val_loss: 0.7423, val_acc: 0.8500\n"
     ]
    }
   ],
   "source": [
    "history3 = fit(5, 0.001, model, train_loader, val_loader)"
   ]
  },
  {
   "cell_type": "code",
   "execution_count": 54,
   "id": "c551a5b0",
   "metadata": {
    "execution": {
     "iopub.execute_input": "2023-03-16T13:55:38.004326Z",
     "iopub.status.busy": "2023-03-16T13:55:38.003616Z",
     "iopub.status.idle": "2023-03-16T13:56:10.478104Z",
     "shell.execute_reply": "2023-03-16T13:56:10.477080Z"
    },
    "executionInfo": {
     "elapsed": 96447,
     "status": "ok",
     "timestamp": 1606582291889,
     "user": {
      "displayName": "Aakash N S",
      "photoUrl": "https://lh3.googleusercontent.com/a-/AOh14GiIWFHtan62vtW1gz2Bv2bxL3rppefcadxzEVxRKQ=s64",
      "userId": "03254185060287524023"
     },
     "user_tz": -330
    },
    "id": "V5ALmwZjfTTa",
    "outputId": "340bd5b7-e290-4cbe-9a62-f5901f09bf63",
    "papermill": {
     "duration": 32.556982,
     "end_time": "2023-03-16T13:56:10.520536",
     "exception": false,
     "start_time": "2023-03-16T13:55:37.963554",
     "status": "completed"
    },
    "tags": []
   },
   "outputs": [
    {
     "name": "stdout",
     "output_type": "stream",
     "text": [
      "Epoch [0], val_loss: 0.7228, val_acc: 0.8515\n",
      "Epoch [1], val_loss: 0.7052, val_acc: 0.8529\n",
      "Epoch [2], val_loss: 0.6892, val_acc: 0.8549\n",
      "Epoch [3], val_loss: 0.6746, val_acc: 0.8568\n",
      "Epoch [4], val_loss: 0.6612, val_acc: 0.8580\n"
     ]
    }
   ],
   "source": [
    "history4 = fit(5, 0.001, model, train_loader, val_loader)"
   ]
  },
  {
   "cell_type": "markdown",
   "id": "6a91b0a8",
   "metadata": {
    "id": "sCm1903IfTTa",
    "papermill": {
     "duration": 0.038381,
     "end_time": "2023-03-16T13:56:10.597294",
     "exception": false,
     "start_time": "2023-03-16T13:56:10.558913",
     "status": "completed"
    },
    "tags": []
   },
   "source": [
    "While the accuracy does continue to increase as we train for more epochs, the improvements get smaller with every epoch. Let's visualize this using a line graph."
   ]
  },
  {
   "cell_type": "code",
   "execution_count": 55,
   "id": "4a336763",
   "metadata": {
    "execution": {
     "iopub.execute_input": "2023-03-16T13:56:10.676846Z",
     "iopub.status.busy": "2023-03-16T13:56:10.675453Z",
     "iopub.status.idle": "2023-03-16T13:56:10.950001Z",
     "shell.execute_reply": "2023-03-16T13:56:10.948516Z"
    },
    "executionInfo": {
     "elapsed": 825,
     "status": "ok",
     "timestamp": 1606582484777,
     "user": {
      "displayName": "Aakash N S",
      "photoUrl": "https://lh3.googleusercontent.com/a-/AOh14GiIWFHtan62vtW1gz2Bv2bxL3rppefcadxzEVxRKQ=s64",
      "userId": "03254185060287524023"
     },
     "user_tz": -330
    },
    "id": "swNRQSa0fTTa",
    "outputId": "fa726f42-fc0a-4a74-e660-e105192777b4",
    "papermill": {
     "duration": 0.317665,
     "end_time": "2023-03-16T13:56:10.953261",
     "exception": false,
     "start_time": "2023-03-16T13:56:10.635596",
     "status": "completed"
    },
    "tags": []
   },
   "outputs": [
    {
     "data": {
      "image/png": "[encoded data removed]",
      "text/plain": [
       "<Figure size 640x480 with 1 Axes>"
      ]
     },
     "metadata": {},
     "output_type": "display_data"
    }
   ],
   "source": [
    "history = [result0] + history1 + history2 + history3 + history4\n",
    "accuracies = [result['val_acc'] for result in history]\n",
    "plt.plot(accuracies, '-x')\n",
    "plt.xlabel('epoch')\n",
    "plt.ylabel('accuracy')\n",
    "plt.title('Accuracy vs. No. of epochs');"
   ]
  },
  {
   "cell_type": "markdown",
   "id": "9f9f9355",
   "metadata": {
    "id": "G-a7zRGxfTTa",
    "papermill": {
     "duration": 0.039212,
     "end_time": "2023-03-16T13:56:11.032494",
     "exception": false,
     "start_time": "2023-03-16T13:56:10.993282",
     "status": "completed"
    },
    "tags": []
   },
   "source": [
    "It's quite clear from the above picture that the model probably won't cross the accuracy threshold of 90% even after training for a very long time. One possible reason for this is that the learning rate might be too high. The model's parameters may be \"bouncing\" around the optimal set of parameters for the lowest loss. You can try reducing the learning rate and training for a few more epochs to see if it helps.\n",
    "\n",
    "The more likely reason that **the model just isn't powerful enough**. If you remember our initial hypothesis, we have assumed that the output (in this case the class probabilities) is a **linear function** of the input (pixel intensities), obtained by perfoming a matrix multiplication with the weights matrix and adding the bias. This is a fairly weak assumption, as there may not actually exist a linear relationship between the pixel intensities in an image and the digit it represents. While it works reasonably well for a simple dataset like MNIST (getting us to 85% accuracy), we need more sophisticated models that can capture non-linear relationships between image pixels and labels for complex tasks like recognizing everyday objects, animals etc. \n",
    "\n",
    "Let's save our work using `jovian.commit`. Along with the notebook, we can also record some metrics from our training."
   ]
  },
  {
   "cell_type": "markdown",
   "id": "5a57fb2e",
   "metadata": {
    "id": "_qUQKIJefTTa",
    "papermill": {
     "duration": 0.03976,
     "end_time": "2023-03-16T13:56:11.111522",
     "exception": false,
     "start_time": "2023-03-16T13:56:11.071762",
     "status": "completed"
    },
    "tags": []
   },
   "source": [
    "While we have been tracking the overall accuracy of a model so far, it's also a good idea to look at model's results on some sample images. Let's test out our model with some images from the predefined test dataset of 10000 images. We begin by recreating the test dataset with the `ToTensor` transform."
   ]
  },
  {
   "cell_type": "code",
   "execution_count": 56,
   "id": "f185b838",
   "metadata": {
    "execution": {
     "iopub.execute_input": "2023-03-16T13:56:11.193196Z",
     "iopub.status.busy": "2023-03-16T13:56:11.192478Z",
     "iopub.status.idle": "2023-03-16T13:56:11.202449Z",
     "shell.execute_reply": "2023-03-16T13:56:11.201423Z"
    },
    "executionInfo": {
     "elapsed": 784,
     "status": "ok",
     "timestamp": 1606582915241,
     "user": {
      "displayName": "Aakash N S",
      "photoUrl": "https://lh3.googleusercontent.com/a-/AOh14GiIWFHtan62vtW1gz2Bv2bxL3rppefcadxzEVxRKQ=s64",
      "userId": "03254185060287524023"
     },
     "user_tz": -330
    },
    "id": "KqcHUQK3fTTa",
    "papermill": {
     "duration": 0.054788,
     "end_time": "2023-03-16T13:56:11.205261",
     "exception": false,
     "start_time": "2023-03-16T13:56:11.150473",
     "status": "completed"
    },
    "tags": []
   },
   "outputs": [],
   "source": [
    "# Define test dataset\n",
    "test_dataset = MNIST(root='data/', \n",
    "                     train=False,\n",
    "                     transform=transforms.ToTensor())"
   ]
  },
  {
   "cell_type": "markdown",
   "id": "2130d44b",
   "metadata": {
    "id": "Sw9J_viefTTa",
    "papermill": {
     "duration": 0.039382,
     "end_time": "2023-03-16T13:56:11.284387",
     "exception": false,
     "start_time": "2023-03-16T13:56:11.245005",
     "status": "completed"
    },
    "tags": []
   },
   "source": [
    "Here's a sample image from the dataset."
   ]
  },
  {
   "cell_type": "code",
   "execution_count": 57,
   "id": "a6e7bd99",
   "metadata": {
    "execution": {
     "iopub.execute_input": "2023-03-16T13:56:11.363722Z",
     "iopub.status.busy": "2023-03-16T13:56:11.363290Z",
     "iopub.status.idle": "2023-03-16T13:56:11.605903Z",
     "shell.execute_reply": "2023-03-16T13:56:11.604220Z"
    },
    "executionInfo": {
     "elapsed": 784,
     "status": "ok",
     "timestamp": 1606582938197,
     "user": {
      "displayName": "Aakash N S",
      "photoUrl": "https://lh3.googleusercontent.com/a-/AOh14GiIWFHtan62vtW1gz2Bv2bxL3rppefcadxzEVxRKQ=s64",
      "userId": "03254185060287524023"
     },
     "user_tz": -330
    },
    "id": "yzEdFHq6fTTa",
    "outputId": "4e0faa6b-789f-46c4-9c25-27441665844c",
    "papermill": {
     "duration": 0.287294,
     "end_time": "2023-03-16T13:56:11.610125",
     "exception": false,
     "start_time": "2023-03-16T13:56:11.322831",
     "status": "completed"
    },
    "tags": []
   },
   "outputs": [
    {
     "name": "stdout",
     "output_type": "stream",
     "text": [
      "Shape: torch.Size([1, 28, 28])\n",
      "Label: 7\n"
     ]
    },
    {
     "data": {
      "image/png": "[encoded data removed]",
      "text/plain": [
       "<Figure size 640x480 with 1 Axes>"
      ]
     },
     "metadata": {},
     "output_type": "display_data"
    }
   ],
   "source": [
    "img, label = test_dataset[0]\n",
    "plt.imshow(img[0], cmap='gray')\n",
    "print('Shape:', img.shape)\n",
    "print('Label:', label)"
   ]
  },
  {
   "cell_type": "markdown",
   "id": "e8f1889e",
   "metadata": {
    "id": "QgwbsDUjfTTa",
    "papermill": {
     "duration": 0.041415,
     "end_time": "2023-03-16T13:56:11.696773",
     "exception": false,
     "start_time": "2023-03-16T13:56:11.655358",
     "status": "completed"
    },
    "tags": []
   },
   "source": [
    "Let's define a helper function `predict_image`, which returns the predicted label for a single image tensor."
   ]
  },
  {
   "cell_type": "code",
   "execution_count": 58,
   "id": "1eb49255",
   "metadata": {
    "execution": {
     "iopub.execute_input": "2023-03-16T13:56:11.780530Z",
     "iopub.status.busy": "2023-03-16T13:56:11.779257Z",
     "iopub.status.idle": "2023-03-16T13:56:11.786617Z",
     "shell.execute_reply": "2023-03-16T13:56:11.785495Z"
    },
    "executionInfo": {
     "elapsed": 802,
     "status": "ok",
     "timestamp": 1606583060675,
     "user": {
      "displayName": "Aakash N S",
      "photoUrl": "https://lh3.googleusercontent.com/a-/AOh14GiIWFHtan62vtW1gz2Bv2bxL3rppefcadxzEVxRKQ=s64",
      "userId": "03254185060287524023"
     },
     "user_tz": -330
    },
    "id": "9FfeYQaOfTTa",
    "papermill": {
     "duration": 0.051518,
     "end_time": "2023-03-16T13:56:11.789473",
     "exception": false,
     "start_time": "2023-03-16T13:56:11.737955",
     "status": "completed"
    },
    "tags": []
   },
   "outputs": [],
   "source": [
    "def predict_image(img, model):\n",
    "    xb = img.unsqueeze(0)\n",
    "    yb = model(xb)\n",
    "    _, preds = torch.max(yb, dim=1)\n",
    "    return preds[0].item()"
   ]
  },
  {
   "cell_type": "markdown",
   "id": "7a3081d3",
   "metadata": {
    "id": "9ppgosBYfTTa",
    "papermill": {
     "duration": 0.038496,
     "end_time": "2023-03-16T13:56:11.866685",
     "exception": false,
     "start_time": "2023-03-16T13:56:11.828189",
     "status": "completed"
    },
    "tags": []
   },
   "source": [
    "`img.unsqueeze` simply adds another dimension at the begining of the 1x28x28 tensor, making it a 1x1x28x28 tensor, which the model views as a batch containing a single image.\n",
    "\n",
    "Let's try it out with a few images."
   ]
  },
  {
   "cell_type": "code",
   "execution_count": 59,
   "id": "de9beec1",
   "metadata": {
    "execution": {
     "iopub.execute_input": "2023-03-16T13:56:11.948073Z",
     "iopub.status.busy": "2023-03-16T13:56:11.946764Z",
     "iopub.status.idle": "2023-03-16T13:56:12.184674Z",
     "shell.execute_reply": "2023-03-16T13:56:12.183122Z"
    },
    "executionInfo": {
     "elapsed": 762,
     "status": "ok",
     "timestamp": 1606583096435,
     "user": {
      "displayName": "Aakash N S",
      "photoUrl": "https://lh3.googleusercontent.com/a-/AOh14GiIWFHtan62vtW1gz2Bv2bxL3rppefcadxzEVxRKQ=s64",
      "userId": "03254185060287524023"
     },
     "user_tz": -330
    },
    "id": "sPNcp52ifTTa",
    "outputId": "3f209ee0-d70e-4631-bc01-bf67165a8347",
    "papermill": {
     "duration": 0.28177,
     "end_time": "2023-03-16T13:56:12.187617",
     "exception": false,
     "start_time": "2023-03-16T13:56:11.905847",
     "status": "completed"
    },
    "tags": []
   },
   "outputs": [
    {
     "name": "stdout",
     "output_type": "stream",
     "text": [
      "Label: 7 , Predicted: 7\n"
     ]
    },
    {
     "data": {
      "image/png": "[encoded data removed]",
      "text/plain": [
       "<Figure size 640x480 with 1 Axes>"
      ]
     },
     "metadata": {},
     "output_type": "display_data"
    }
   ],
   "source": [
    "img, label = test_dataset[0]\n",
    "plt.imshow(img[0], cmap='gray')\n",
    "print('Label:', label, ', Predicted:', predict_image(img, model))"
   ]
  },
  {
   "cell_type": "code",
   "execution_count": 60,
   "id": "5818a428",
   "metadata": {
    "execution": {
     "iopub.execute_input": "2023-03-16T13:56:12.271931Z",
     "iopub.status.busy": "2023-03-16T13:56:12.271496Z",
     "iopub.status.idle": "2023-03-16T13:56:12.505854Z",
     "shell.execute_reply": "2023-03-16T13:56:12.504381Z"
    },
    "executionInfo": {
     "elapsed": 740,
     "status": "ok",
     "timestamp": 1606583105128,
     "user": {
      "displayName": "Aakash N S",
      "photoUrl": "https://lh3.googleusercontent.com/a-/AOh14GiIWFHtan62vtW1gz2Bv2bxL3rppefcadxzEVxRKQ=s64",
      "userId": "03254185060287524023"
     },
     "user_tz": -330
    },
    "id": "Nrj-w1COfTTa",
    "outputId": "63571287-3d8e-430f-c146-38167c355d2d",
    "papermill": {
     "duration": 0.278465,
     "end_time": "2023-03-16T13:56:12.508750",
     "exception": false,
     "start_time": "2023-03-16T13:56:12.230285",
     "status": "completed"
    },
    "tags": []
   },
   "outputs": [
    {
     "name": "stdout",
     "output_type": "stream",
     "text": [
      "Label: 0 , Predicted: 0\n"
     ]
    },
    {
     "data": {
      "image/png": "[encoded data removed]",
      "text/plain": [
       "<Figure size 640x480 with 1 Axes>"
      ]
     },
     "metadata": {},
     "output_type": "display_data"
    }
   ],
   "source": [
    "img, label = test_dataset[10]\n",
    "plt.imshow(img[0], cmap='gray')\n",
    "print('Label:', label, ', Predicted:', predict_image(img, model))"
   ]
  },
  {
   "cell_type": "code",
   "execution_count": 61,
   "id": "09821f32",
   "metadata": {
    "execution": {
     "iopub.execute_input": "2023-03-16T13:56:12.595856Z",
     "iopub.status.busy": "2023-03-16T13:56:12.595294Z",
     "iopub.status.idle": "2023-03-16T13:56:12.834791Z",
     "shell.execute_reply": "2023-03-16T13:56:12.833809Z"
    },
    "executionInfo": {
     "elapsed": 751,
     "status": "ok",
     "timestamp": 1606583112083,
     "user": {
      "displayName": "Aakash N S",
      "photoUrl": "https://lh3.googleusercontent.com/a-/AOh14GiIWFHtan62vtW1gz2Bv2bxL3rppefcadxzEVxRKQ=s64",
      "userId": "03254185060287524023"
     },
     "user_tz": -330
    },
    "id": "EPrF7gB4fTTb",
    "outputId": "f315cb3c-7eb9-47aa-95ee-c4e917f28bda",
    "papermill": {
     "duration": 0.288664,
     "end_time": "2023-03-16T13:56:12.837824",
     "exception": false,
     "start_time": "2023-03-16T13:56:12.549160",
     "status": "completed"
    },
    "tags": []
   },
   "outputs": [
    {
     "name": "stdout",
     "output_type": "stream",
     "text": [
      "Label: 9 , Predicted: 9\n"
     ]
    },
    {
     "data": {
      "image/png": "[encoded data removed]",
      "text/plain": [
       "<Figure size 640x480 with 1 Axes>"
      ]
     },
     "metadata": {},
     "output_type": "display_data"
    }
   ],
   "source": [
    "img, label = test_dataset[193]\n",
    "plt.imshow(img[0], cmap='gray')\n",
    "print('Label:', label, ', Predicted:', predict_image(img, model))"
   ]
  },
  {
   "cell_type": "code",
   "execution_count": 62,
   "id": "9c72e2ea",
   "metadata": {
    "execution": {
     "iopub.execute_input": "2023-03-16T13:56:12.920969Z",
     "iopub.status.busy": "2023-03-16T13:56:12.920132Z",
     "iopub.status.idle": "2023-03-16T13:56:13.160557Z",
     "shell.execute_reply": "2023-03-16T13:56:13.159164Z"
    },
    "executionInfo": {
     "elapsed": 790,
     "status": "ok",
     "timestamp": 1606583155559,
     "user": {
      "displayName": "Aakash N S",
      "photoUrl": "https://lh3.googleusercontent.com/a-/AOh14GiIWFHtan62vtW1gz2Bv2bxL3rppefcadxzEVxRKQ=s64",
      "userId": "03254185060287524023"
     },
     "user_tz": -330
    },
    "id": "eetYJdoFfTTb",
    "outputId": "da8c6613-355a-4479-cb49-574236d2de5c",
    "papermill": {
     "duration": 0.285111,
     "end_time": "2023-03-16T13:56:13.163526",
     "exception": false,
     "start_time": "2023-03-16T13:56:12.878415",
     "status": "completed"
    },
    "tags": []
   },
   "outputs": [
    {
     "name": "stdout",
     "output_type": "stream",
     "text": [
      "Label: 2 , Predicted: 8\n"
     ]
    },
    {
     "data": {
      "image/png": "[encoded data removed]",
      "text/plain": [
       "<Figure size 640x480 with 1 Axes>"
      ]
     },
     "metadata": {},
     "output_type": "display_data"
    }
   ],
   "source": [
    "img, label = test_dataset[1839]\n",
    "plt.imshow(img[0], cmap='gray')\n",
    "print('Label:', label, ', Predicted:', predict_image(img, model))"
   ]
  },
  {
   "cell_type": "markdown",
   "id": "9f732db3",
   "metadata": {
    "id": "jQ6Wsk4TfTTb",
    "papermill": {
     "duration": 0.046961,
     "end_time": "2023-03-16T13:56:13.250625",
     "exception": false,
     "start_time": "2023-03-16T13:56:13.203664",
     "status": "completed"
    },
    "tags": []
   },
   "source": [
    "Identifying where our model performs poorly can help us improve the model, by collecting more training data, increasing/decreasing the complexity of the model, and changing the hypeparameters.\n",
    "\n",
    "As a final step, let's also look at the overall loss and accuracy of the model on the test set."
   ]
  },
  {
   "cell_type": "code",
   "execution_count": 63,
   "id": "563779f0",
   "metadata": {
    "execution": {
     "iopub.execute_input": "2023-03-16T13:56:13.355625Z",
     "iopub.status.busy": "2023-03-16T13:56:13.354803Z",
     "iopub.status.idle": "2023-03-16T13:56:14.372588Z",
     "shell.execute_reply": "2023-03-16T13:56:14.371385Z"
    },
    "executionInfo": {
     "elapsed": 1572,
     "status": "ok",
     "timestamp": 1606583301081,
     "user": {
      "displayName": "Aakash N S",
      "photoUrl": "https://lh3.googleusercontent.com/a-/AOh14GiIWFHtan62vtW1gz2Bv2bxL3rppefcadxzEVxRKQ=s64",
      "userId": "03254185060287524023"
     },
     "user_tz": -330
    },
    "id": "6bdjaeG-fTTb",
    "outputId": "c4479ab7-ee92-46d4-ac0d-9217d6873f43",
    "papermill": {
     "duration": 1.064991,
     "end_time": "2023-03-16T13:56:14.375546",
     "exception": false,
     "start_time": "2023-03-16T13:56:13.310555",
     "status": "completed"
    },
    "tags": []
   },
   "outputs": [
    {
     "data": {
      "text/plain": [
       "{'val_loss': 0.6418145298957825, 'val_acc': 0.861328125}"
      ]
     },
     "execution_count": 63,
     "metadata": {},
     "output_type": "execute_result"
    }
   ],
   "source": [
    "test_loader = DataLoader(test_dataset, batch_size=256)\n",
    "result = evaluate(model, test_loader)\n",
    "result"
   ]
  },
  {
   "cell_type": "markdown",
   "id": "58f56663",
   "metadata": {
    "id": "pfe2IzF3fTTb",
    "papermill": {
     "duration": 0.040258,
     "end_time": "2023-03-16T13:56:14.459541",
     "exception": false,
     "start_time": "2023-03-16T13:56:14.419283",
     "status": "completed"
    },
    "tags": []
   },
   "source": [
    "We expect this to be similar to the accuracy/loss on the validation set. If not, we might need a better validation set that has similar data and distribution as the test set (which often comes from real world data)."
   ]
  },
  {
   "cell_type": "markdown",
   "id": "2fd6aead",
   "metadata": {
    "id": "TqC3HEZJfTTb",
    "papermill": {
     "duration": 0.042425,
     "end_time": "2023-03-16T13:56:14.544077",
     "exception": false,
     "start_time": "2023-03-16T13:56:14.501652",
     "status": "completed"
    },
    "tags": []
   },
   "source": [
    "## Saving and loading the model"
   ]
  },
  {
   "cell_type": "markdown",
   "id": "3b1abf55",
   "metadata": {
    "id": "KyE7vx_zfTTb",
    "papermill": {
     "duration": 0.044463,
     "end_time": "2023-03-16T13:56:14.631453",
     "exception": false,
     "start_time": "2023-03-16T13:56:14.586990",
     "status": "completed"
    },
    "tags": []
   },
   "source": [
    "Since we've trained our model for a long time and achieved a resonable accuracy, it would be a good idea to save the weights and bias matrices to disk, so that we can reuse the model later and avoid retraining from scratch. Here's how you can save the model."
   ]
  },
  {
   "cell_type": "code",
   "execution_count": 64,
   "id": "f8c6d7a4",
   "metadata": {
    "execution": {
     "iopub.execute_input": "2023-03-16T13:56:14.717188Z",
     "iopub.status.busy": "2023-03-16T13:56:14.716732Z",
     "iopub.status.idle": "2023-03-16T13:56:14.723726Z",
     "shell.execute_reply": "2023-03-16T13:56:14.722525Z"
    },
    "executionInfo": {
     "elapsed": 796,
     "status": "ok",
     "timestamp": 1606583486154,
     "user": {
      "displayName": "Aakash N S",
      "photoUrl": "https://lh3.googleusercontent.com/a-/AOh14GiIWFHtan62vtW1gz2Bv2bxL3rppefcadxzEVxRKQ=s64",
      "userId": "03254185060287524023"
     },
     "user_tz": -330
    },
    "id": "xESC-106fTTb",
    "papermill": {
     "duration": 0.053211,
     "end_time": "2023-03-16T13:56:14.726512",
     "exception": false,
     "start_time": "2023-03-16T13:56:14.673301",
     "status": "completed"
    },
    "tags": []
   },
   "outputs": [],
   "source": [
    "torch.save(model.state_dict(), 'mnist-logistic.pth')"
   ]
  },
  {
   "cell_type": "markdown",
   "id": "19596675",
   "metadata": {
    "id": "CAHSyFLPfTTb",
    "papermill": {
     "duration": 0.041133,
     "end_time": "2023-03-16T13:56:14.809280",
     "exception": false,
     "start_time": "2023-03-16T13:56:14.768147",
     "status": "completed"
    },
    "tags": []
   },
   "source": [
    "The `.state_dict` method returns an `OrderedDict` containing all the weights and bias matrices mapped to the right attributes of the model."
   ]
  },
  {
   "cell_type": "code",
   "execution_count": 65,
   "id": "11b4cb30",
   "metadata": {
    "execution": {
     "iopub.execute_input": "2023-03-16T13:56:14.893105Z",
     "iopub.status.busy": "2023-03-16T13:56:14.892392Z",
     "iopub.status.idle": "2023-03-16T13:56:14.902461Z",
     "shell.execute_reply": "2023-03-16T13:56:14.901090Z"
    },
    "executionInfo": {
     "elapsed": 781,
     "status": "ok",
     "timestamp": 1606583449734,
     "user": {
      "displayName": "Aakash N S",
      "photoUrl": "https://lh3.googleusercontent.com/a-/AOh14GiIWFHtan62vtW1gz2Bv2bxL3rppefcadxzEVxRKQ=s64",
      "userId": "03254185060287524023"
     },
     "user_tz": -330
    },
    "id": "elbp48SCfTTb",
    "outputId": "84f92a49-910c-4466-8b96-ab267026f3ac",
    "papermill": {
     "duration": 0.055025,
     "end_time": "2023-03-16T13:56:14.904930",
     "exception": false,
     "start_time": "2023-03-16T13:56:14.849905",
     "status": "completed"
    },
    "tags": []
   },
   "outputs": [
    {
     "data": {
      "text/plain": [
       "OrderedDict([('linear.weight',\n",
       "              tensor([[-0.0106, -0.0324, -0.0342,  ...,  0.0122, -0.0183, -0.0261],\n",
       "                      [-0.0110,  0.0187,  0.0089,  ..., -0.0037,  0.0281, -0.0048],\n",
       "                      [-0.0160,  0.0253, -0.0291,  ..., -0.0133,  0.0066, -0.0048],\n",
       "                      ...,\n",
       "                      [-0.0155, -0.0309, -0.0312,  ..., -0.0089, -0.0333, -0.0162],\n",
       "                      [ 0.0208, -0.0229, -0.0066,  ...,  0.0340, -0.0111, -0.0042],\n",
       "                      [ 0.0291, -0.0144, -0.0004,  ...,  0.0116, -0.0009,  0.0282]])),\n",
       "             ('linear.bias',\n",
       "              tensor([-0.0659,  0.0668, -0.0101, -0.0053,  0.0121,  0.0413, -0.0369,  0.0320,\n",
       "                      -0.0913, -0.0452]))])"
      ]
     },
     "execution_count": 65,
     "metadata": {},
     "output_type": "execute_result"
    }
   ],
   "source": [
    "model.state_dict()"
   ]
  },
  {
   "cell_type": "markdown",
   "id": "9d2962ba",
   "metadata": {
    "id": "Qc9kRTDpfTTb",
    "papermill": {
     "duration": 0.039745,
     "end_time": "2023-03-16T13:56:14.984651",
     "exception": false,
     "start_time": "2023-03-16T13:56:14.944906",
     "status": "completed"
    },
    "tags": []
   },
   "source": [
    "To load the model weights, we can instante a new object of the class `MnistModel`, and use the `.load_state_dict` method."
   ]
  },
  {
   "cell_type": "code",
   "execution_count": 66,
   "id": "ece46c45",
   "metadata": {
    "execution": {
     "iopub.execute_input": "2023-03-16T13:56:15.069598Z",
     "iopub.status.busy": "2023-03-16T13:56:15.068172Z",
     "iopub.status.idle": "2023-03-16T13:56:15.074691Z",
     "shell.execute_reply": "2023-03-16T13:56:15.073631Z"
    },
    "executionInfo": {
     "elapsed": 845,
     "status": "ok",
     "timestamp": 1606583501874,
     "user": {
      "displayName": "Aakash N S",
      "photoUrl": "https://lh3.googleusercontent.com/a-/AOh14GiIWFHtan62vtW1gz2Bv2bxL3rppefcadxzEVxRKQ=s64",
      "userId": "03254185060287524023"
     },
     "user_tz": -330
    },
    "id": "OO666r7_1rbW",
    "papermill": {
     "duration": 0.051462,
     "end_time": "2023-03-16T13:56:15.077409",
     "exception": false,
     "start_time": "2023-03-16T13:56:15.025947",
     "status": "completed"
    },
    "tags": []
   },
   "outputs": [],
   "source": [
    "model2 = MnistModel()"
   ]
  },
  {
   "cell_type": "code",
   "execution_count": 67,
   "id": "b10d51ad",
   "metadata": {
    "execution": {
     "iopub.execute_input": "2023-03-16T13:56:15.160281Z",
     "iopub.status.busy": "2023-03-16T13:56:15.159556Z",
     "iopub.status.idle": "2023-03-16T13:56:15.169143Z",
     "shell.execute_reply": "2023-03-16T13:56:15.167775Z"
    },
    "executionInfo": {
     "elapsed": 776,
     "status": "ok",
     "timestamp": 1606583510607,
     "user": {
      "displayName": "Aakash N S",
      "photoUrl": "https://lh3.googleusercontent.com/a-/AOh14GiIWFHtan62vtW1gz2Bv2bxL3rppefcadxzEVxRKQ=s64",
      "userId": "03254185060287524023"
     },
     "user_tz": -330
    },
    "id": "aUvYwe4Q1six",
    "outputId": "63adc692-57b8-458d-a926-dc969bf491db",
    "papermill": {
     "duration": 0.0543,
     "end_time": "2023-03-16T13:56:15.171717",
     "exception": false,
     "start_time": "2023-03-16T13:56:15.117417",
     "status": "completed"
    },
    "tags": []
   },
   "outputs": [
    {
     "data": {
      "text/plain": [
       "OrderedDict([('linear.weight',\n",
       "              tensor([[ 0.0252,  0.0198, -0.0142,  ...,  0.0126, -0.0220,  0.0046],\n",
       "                      [ 0.0076, -0.0121,  0.0197,  ...,  0.0255, -0.0311, -0.0198],\n",
       "                      [ 0.0008,  0.0327, -0.0347,  ..., -0.0298, -0.0264,  0.0036],\n",
       "                      ...,\n",
       "                      [-0.0234,  0.0335, -0.0215,  ...,  0.0129, -0.0268,  0.0048],\n",
       "                      [-0.0199, -0.0130,  0.0175,  ..., -0.0249, -0.0204,  0.0217],\n",
       "                      [ 0.0279, -0.0298, -0.0329,  ...,  0.0044,  0.0355, -0.0155]])),\n",
       "             ('linear.bias',\n",
       "              tensor([-0.0187, -0.0139, -0.0039,  0.0086, -0.0273, -0.0226, -0.0044, -0.0047,\n",
       "                       0.0198, -0.0003]))])"
      ]
     },
     "execution_count": 67,
     "metadata": {},
     "output_type": "execute_result"
    }
   ],
   "source": [
    "model2.state_dict()"
   ]
  },
  {
   "cell_type": "code",
   "execution_count": 68,
   "id": "b890c385",
   "metadata": {
    "execution": {
     "iopub.execute_input": "2023-03-16T13:56:15.257220Z",
     "iopub.status.busy": "2023-03-16T13:56:15.255793Z",
     "iopub.status.idle": "2023-03-16T13:56:16.350225Z",
     "shell.execute_reply": "2023-03-16T13:56:16.348534Z"
    },
    "executionInfo": {
     "elapsed": 1715,
     "status": "ok",
     "timestamp": 1606583526111,
     "user": {
      "displayName": "Aakash N S",
      "photoUrl": "https://lh3.googleusercontent.com/a-/AOh14GiIWFHtan62vtW1gz2Bv2bxL3rppefcadxzEVxRKQ=s64",
      "userId": "03254185060287524023"
     },
     "user_tz": -330
    },
    "id": "gHac9s6e1vyS",
    "outputId": "bd0ef06a-ded0-4d91-c0a1-620b310bc89e",
    "papermill": {
     "duration": 1.139337,
     "end_time": "2023-03-16T13:56:16.353032",
     "exception": false,
     "start_time": "2023-03-16T13:56:15.213695",
     "status": "completed"
    },
    "tags": []
   },
   "outputs": [
    {
     "data": {
      "text/plain": [
       "{'val_loss': 2.305530548095703, 'val_acc': 0.13593749701976776}"
      ]
     },
     "execution_count": 68,
     "metadata": {},
     "output_type": "execute_result"
    }
   ],
   "source": [
    "evaluate(model2, test_loader)"
   ]
  },
  {
   "cell_type": "code",
   "execution_count": 69,
   "id": "55277881",
   "metadata": {
    "execution": {
     "iopub.execute_input": "2023-03-16T13:56:16.438370Z",
     "iopub.status.busy": "2023-03-16T13:56:16.437598Z",
     "iopub.status.idle": "2023-03-16T13:56:16.449767Z",
     "shell.execute_reply": "2023-03-16T13:56:16.448390Z"
    },
    "executionInfo": {
     "elapsed": 751,
     "status": "ok",
     "timestamp": 1606583546422,
     "user": {
      "displayName": "Aakash N S",
      "photoUrl": "https://lh3.googleusercontent.com/a-/AOh14GiIWFHtan62vtW1gz2Bv2bxL3rppefcadxzEVxRKQ=s64",
      "userId": "03254185060287524023"
     },
     "user_tz": -330
    },
    "id": "bvR1g8ggfTTb",
    "outputId": "2cb76bb5-b26a-472c-d2b3-3f872ebb8c7a",
    "papermill": {
     "duration": 0.058217,
     "end_time": "2023-03-16T13:56:16.452473",
     "exception": false,
     "start_time": "2023-03-16T13:56:16.394256",
     "status": "completed"
    },
    "tags": []
   },
   "outputs": [
    {
     "data": {
      "text/plain": [
       "OrderedDict([('linear.weight',\n",
       "              tensor([[-0.0106, -0.0324, -0.0342,  ...,  0.0122, -0.0183, -0.0261],\n",
       "                      [-0.0110,  0.0187,  0.0089,  ..., -0.0037,  0.0281, -0.0048],\n",
       "                      [-0.0160,  0.0253, -0.0291,  ..., -0.0133,  0.0066, -0.0048],\n",
       "                      ...,\n",
       "                      [-0.0155, -0.0309, -0.0312,  ..., -0.0089, -0.0333, -0.0162],\n",
       "                      [ 0.0208, -0.0229, -0.0066,  ...,  0.0340, -0.0111, -0.0042],\n",
       "                      [ 0.0291, -0.0144, -0.0004,  ...,  0.0116, -0.0009,  0.0282]])),\n",
       "             ('linear.bias',\n",
       "              tensor([-0.0659,  0.0668, -0.0101, -0.0053,  0.0121,  0.0413, -0.0369,  0.0320,\n",
       "                      -0.0913, -0.0452]))])"
      ]
     },
     "execution_count": 69,
     "metadata": {},
     "output_type": "execute_result"
    }
   ],
   "source": [
    "model2.load_state_dict(torch.load('mnist-logistic.pth'))\n",
    "model2.state_dict()"
   ]
  },
  {
   "cell_type": "markdown",
   "id": "d78ee9d8",
   "metadata": {
    "id": "zhjBm4BMfTTb",
    "papermill": {
     "duration": 0.041267,
     "end_time": "2023-03-16T13:56:16.534999",
     "exception": false,
     "start_time": "2023-03-16T13:56:16.493732",
     "status": "completed"
    },
    "tags": []
   },
   "source": [
    "Just as a sanity check, let's verify that this model has the same loss and accuracy on the test set as before."
   ]
  },
  {
   "cell_type": "code",
   "execution_count": 70,
   "id": "e822664e",
   "metadata": {
    "execution": {
     "iopub.execute_input": "2023-03-16T13:56:16.621512Z",
     "iopub.status.busy": "2023-03-16T13:56:16.620224Z",
     "iopub.status.idle": "2023-03-16T13:56:17.634275Z",
     "shell.execute_reply": "2023-03-16T13:56:17.633159Z"
    },
    "executionInfo": {
     "elapsed": 1668,
     "status": "ok",
     "timestamp": 1606583555728,
     "user": {
      "displayName": "Aakash N S",
      "photoUrl": "https://lh3.googleusercontent.com/a-/AOh14GiIWFHtan62vtW1gz2Bv2bxL3rppefcadxzEVxRKQ=s64",
      "userId": "03254185060287524023"
     },
     "user_tz": -330
    },
    "id": "UynZ4aSLfTTb",
    "outputId": "ed0184c3-6239-4610-b707-09b2e4cbd49d",
    "papermill": {
     "duration": 1.06052,
     "end_time": "2023-03-16T13:56:17.637780",
     "exception": false,
     "start_time": "2023-03-16T13:56:16.577260",
     "status": "completed"
    },
    "tags": []
   },
   "outputs": [
    {
     "data": {
      "text/plain": [
       "{'val_loss': 0.6418145298957825, 'val_acc': 0.861328125}"
      ]
     },
     "execution_count": 70,
     "metadata": {},
     "output_type": "execute_result"
    }
   ],
   "source": [
    "test_loader = DataLoader(test_dataset, batch_size=256)\n",
    "result = evaluate(model2, test_loader)\n",
    "result"
   ]
  },
  {
   "cell_type": "markdown",
   "id": "e0f6f723",
   "metadata": {
    "id": "BRMNaQUWfTTb",
    "papermill": {
     "duration": 0.041287,
     "end_time": "2023-03-16T13:56:17.720531",
     "exception": false,
     "start_time": "2023-03-16T13:56:17.679244",
     "status": "completed"
    },
    "tags": []
   },
   "source": [
    "As a final step, we can save and commit our work using the `jovian` library. Along with the notebook, we can also attach the weights of our trained model, so that we can use it later."
   ]
  },
  {
   "cell_type": "markdown",
   "id": "a69a7cd4",
   "metadata": {
    "id": "r1F3EHgSfTTb",
    "papermill": {
     "duration": 0.041241,
     "end_time": "2023-03-16T13:56:17.803630",
     "exception": false,
     "start_time": "2023-03-16T13:56:17.762389",
     "status": "completed"
    },
    "tags": []
   },
   "source": [
    "## Exercises\n",
    "\n",
    "Try out the following exercises to apply the concepts and techniques you have learned so far:\n",
    "\n",
    "* Coding exercises on end-to-end model training: https://jovian.ai/aakashns/02-insurance-linear-regression\n",
    "* Starter notebook for logistic regression projects: https://jovian.ai/aakashns/mnist-logistic-minimal\n",
    "* Starter notebook for linear regression projects: https://jovian.ai/aakashns/housing-linear-minimal\n",
    "\n",
    "Training great machine learning models within a short time takes practice and experience. Try experimenting with different datasets, models and hyperparameters, it's the best way to acquire this skill."
   ]
  },
  {
   "cell_type": "markdown",
   "id": "4579957c",
   "metadata": {
    "id": "_Q8EnndBfTTb",
    "papermill": {
     "duration": 0.040511,
     "end_time": "2023-03-16T13:56:17.885271",
     "exception": false,
     "start_time": "2023-03-16T13:56:17.844760",
     "status": "completed"
    },
    "tags": []
   },
   "source": [
    "## Summary and Further Reading\n",
    "\n",
    "We've created a fairly sophisticated training and evaluation pipeline in this tutorial. Here's a list of the topics we've covered:\n",
    "\n",
    "* Working with images in PyTorch (using the MNIST dataset)\n",
    "* Splitting a dataset into training, validation and test sets\n",
    "* Creating PyTorch models with custom logic by extending the `nn.Module` class\n",
    "* Interpreting model ouputs as probabilities using softmax, and picking predicted labels\n",
    "* Picking a good evaluation metric (accuracy) and loss function (cross entropy) for classification problems\n",
    "* Setting up a training loop that also evaluates the model using the validation set\n",
    "* Testing the model manually on randomly picked examples \n",
    "* Saving and loading model checkpoints to avoid retraining from scratch\n",
    "\n",
    "There's a lot of scope to experiment here, and I encourage you to use the interactive nature of Jupyter to play around with the various parameters. Here are a few ideas:\n",
    "\n",
    "* Try making the validation set smaller or larger, and see how it affects the model.\n",
    "* Try changing the learning rate and see if you can achieve the same accuracy in fewer epochs.\n",
    "* Try changing the batch size. What happens if you use too high a batch size, or too low?\n",
    "* Modify the `fit` function to also track the overall loss and accuracy on the training set, and see how it compares with the validation loss/accuracy. Can you explain why it's lower/higher?\n",
    "* Train with a small subset of the data, and see if you can reach a similar level of accuracy.\n",
    "* Try building a model for a different dataset, such as the [CIFAR10 or CIFAR100 datasets](https://www.cs.toronto.edu/~kriz/cifar.html).\n",
    "\n",
    "Here are some references for further reading:\n",
    "* For a more mathematical treatment, see the popular [Machine Learning](https://www.coursera.org/lecture/machine-learning/classification-wlPeP) course on Coursera. Most of the images used in this tutorial series have been taken from this course.\n",
    "* The training loop defined in this notebook was inspired from [FastAI development notebooks](https://github.com/fastai/fastai_docs/blob/master/dev_nb/001a_nn_basics.ipynb) which contain a wealth of other useful stuff if you can read and understand the code.\n",
    "* For a deep dive into softmax and cross entropy, see [this blog post on DeepNotes](https://deepnotes.io/softmax-crossentropy).\n",
    "\n",
    "\n",
    "With this we complete our discussion of logistic regression, and we're ready to move on to the next topic: [Training Deep Neural Networks on a GPU](https://jovian.ai/aakashns/04-feedforward-nn)!"
   ]
  }
 ],
 "metadata": {
  "kernelspec": {
   "display_name": "Python 3",
   "language": "python",
   "name": "python3"
  },
  "language_info": {
   "codemirror_mode": {
    "name": "ipython",
    "version": 3
   },
   "file_extension": ".py",
   "mimetype": "text/x-python",
   "name": "python",
   "nbconvert_exporter": "python",
   "pygments_lexer": "ipython3",
   "version": "3.7.12"
  },
  "papermill": {
   "default_parameters": {},
   "duration": 180.555719,
   "end_time": "2023-03-16T13:56:19.154379",
   "environment_variables": {},
   "exception": null,
   "input_path": "__notebook__.ipynb",
   "output_path": "__notebook__.ipynb",
   "parameters": {},
   "start_time": "2023-03-16T13:53:18.598660",
   "version": "2.4.0"
  },
  "widgets": {
   "application/vnd.jupyter.widget-state+json": {
    "state": {
     "011ff75244464b7c8a20099478a3c8b0": {
      "model_module": "@jupyter-widgets/base",
      "model_module_version": "1.2.0",
      "model_name": "LayoutModel",
      "state": {
       "_model_module": "@jupyter-widgets/base",
       "_model_module_version": "1.2.0",
       "_model_name": "LayoutModel",
       "_view_count": null,
       "_view_module": "@jupyter-widgets/base",
       "_view_module_version": "1.2.0",
       "_view_name": "LayoutView",
       "align_content": null,
       "align_items": null,
       "align_self": null,
       "border": null,
       "bottom": null,
       "display": null,
       "flex": null,
       "flex_flow": null,
       "grid_area": null,
       "grid_auto_columns": null,
       "grid_auto_flow": null,
       "grid_auto_rows": null,
       "grid_column": null,
       "grid_gap": null,
       "grid_row": null,
       "grid_template_areas": null,
       "grid_template_columns": null,
       "grid_template_rows": null,
       "height": null,
       "justify_content": null,
       "justify_items": null,
       "left": null,
       "margin": null,
       "max_height": null,
       "max_width": null,
       "min_height": null,
       "min_width": null,
       "object_fit": null,
       "object_position": null,
       "order": null,
       "overflow": null,
       "overflow_x": null,
       "overflow_y": null,
       "padding": null,
       "right": null,
       "top": null,
       "visibility": null,
       "width": null
      }
     },
     "0e7c6851316b400fa8078f6dfd58e6f0": {
      "model_module": "@jupyter-widgets/controls",
      "model_module_version": "1.5.0",
      "model_name": "HTMLModel",
      "state": {
       "_dom_classes": [],
       "_model_module": "@jupyter-widgets/controls",
       "_model_module_version": "1.5.0",
       "_model_name": "HTMLModel",
       "_view_count": null,
       "_view_module": "@jupyter-widgets/controls",
       "_view_module_version": "1.5.0",
       "_view_name": "HTMLView",
       "description": "",
       "description_tooltip": null,
       "layout": "IPY_MODEL_7b66c0567e6f4b49ae2254c9e4a37263",
       "placeholder": "​",
       "style": "IPY_MODEL_d68bc83859554c7c94870ff4f11daf65",
       "value": "100%"
      }
     },
     "10519d5719584db38a6a8f57caf75436": {
      "model_module": "@jupyter-widgets/controls",
      "model_module_version": "1.5.0",
      "model_name": "HBoxModel",
      "state": {
       "_dom_classes": [],
       "_model_module": "@jupyter-widgets/controls",
       "_model_module_version": "1.5.0",
       "_model_name": "HBoxModel",
       "_view_count": null,
       "_view_module": "@jupyter-widgets/controls",
       "_view_module_version": "1.5.0",
       "_view_name": "HBoxView",
       "box_style": "",
       "children": [
        "IPY_MODEL_ef9dc338236646678d90fb55900f8ae9",
        "IPY_MODEL_bb63efd4c8ed4d54b205328c4e082505",
        "IPY_MODEL_c6d7294179e94c4bab6a973f945ebc55"
       ],
       "layout": "IPY_MODEL_cec8d6468e4a4814a9c5720c24ea650d"
      }
     },
     "12759efa3b9849b0a30c11f679509f3a": {
      "model_module": "@jupyter-widgets/base",
      "model_module_version": "1.2.0",
      "model_name": "LayoutModel",
      "state": {
       "_model_module": "@jupyter-widgets/base",
       "_model_module_version": "1.2.0",
       "_model_name": "LayoutModel",
       "_view_count": null,
       "_view_module": "@jupyter-widgets/base",
       "_view_module_version": "1.2.0",
       "_view_name": "LayoutView",
       "align_content": null,
       "align_items": null,
       "align_self": null,
       "border": null,
       "bottom": null,
       "display": null,
       "flex": null,
       "flex_flow": null,
       "grid_area": null,
       "grid_auto_columns": null,
       "grid_auto_flow": null,
       "grid_auto_rows": null,
       "grid_column": null,
       "grid_gap": null,
       "grid_row": null,
       "grid_template_areas": null,
       "grid_template_columns": null,
       "grid_template_rows": null,
       "height": null,
       "justify_content": null,
       "justify_items": null,
       "left": null,
       "margin": null,
       "max_height": null,
       "max_width": null,
       "min_height": null,
       "min_width": null,
       "object_fit": null,
       "object_position": null,
       "order": null,
       "overflow": null,
       "overflow_x": null,
       "overflow_y": null,
       "padding": null,
       "right": null,
       "top": null,
       "visibility": null,
       "width": null
      }
     },
     "152cc353891d4e2f8d6ddf9a7431ed9d": {
      "model_module": "@jupyter-widgets/controls",
      "model_module_version": "1.5.0",
      "model_name": "HTMLModel",
      "state": {
       "_dom_classes": [],
       "_model_module": "@jupyter-widgets/controls",
       "_model_module_version": "1.5.0",
       "_model_name": "HTMLModel",
       "_view_count": null,
       "_view_module": "@jupyter-widgets/controls",
       "_view_module_version": "1.5.0",
       "_view_name": "HTMLView",
       "description": "",
       "description_tooltip": null,
       "layout": "IPY_MODEL_df9a7dae29034449834c46174a84b60e",
       "placeholder": "​",
       "style": "IPY_MODEL_fe33d8919e244564a0d07c0233ec473d",
       "value": " 9912422/9912422 [00:00&lt;00:00, 104639051.77it/s]"
      }
     },
     "33fbb0a1f8d841f999332160709c776f": {
      "model_module": "@jupyter-widgets/controls",
      "model_module_version": "1.5.0",
      "model_name": "DescriptionStyleModel",
      "state": {
       "_model_module": "@jupyter-widgets/controls",
       "_model_module_version": "1.5.0",
       "_model_name": "DescriptionStyleModel",
       "_view_count": null,
       "_view_module": "@jupyter-widgets/base",
       "_view_module_version": "1.2.0",
       "_view_name": "StyleView",
       "description_width": ""
      }
     },
     "3a5d6c96f333454cba001ed65414a841": {
      "model_module": "@jupyter-widgets/controls",
      "model_module_version": "1.5.0",
      "model_name": "FloatProgressModel",
      "state": {
       "_dom_classes": [],
       "_model_module": "@jupyter-widgets/controls",
       "_model_module_version": "1.5.0",
       "_model_name": "FloatProgressModel",
       "_view_count": null,
       "_view_module": "@jupyter-widgets/controls",
       "_view_module_version": "1.5.0",
       "_view_name": "ProgressView",
       "bar_style": "success",
       "description": "",
       "description_tooltip": null,
       "layout": "IPY_MODEL_d76f120cad5a45858522c3b315d92f81",
       "max": 28881.0,
       "min": 0.0,
       "orientation": "horizontal",
       "style": "IPY_MODEL_44af1fc6eb66432086c2eedc6dfee753",
       "value": 28881.0
      }
     },
     "44af1fc6eb66432086c2eedc6dfee753": {
      "model_module": "@jupyter-widgets/controls",
      "model_module_version": "1.5.0",
      "model_name": "ProgressStyleModel",
      "state": {
       "_model_module": "@jupyter-widgets/controls",
       "_model_module_version": "1.5.0",
       "_model_name": "ProgressStyleModel",
       "_view_count": null,
       "_view_module": "@jupyter-widgets/base",
       "_view_module_version": "1.2.0",
       "_view_name": "StyleView",
       "bar_color": null,
       "description_width": ""
      }
     },
     "4aa934ac79e6404f9c8e4d57e49056bb": {
      "model_module": "@jupyter-widgets/controls",
      "model_module_version": "1.5.0",
      "model_name": "HTMLModel",
      "state": {
       "_dom_classes": [],
       "_model_module": "@jupyter-widgets/controls",
       "_model_module_version": "1.5.0",
       "_model_name": "HTMLModel",
       "_view_count": null,
       "_view_module": "@jupyter-widgets/controls",
       "_view_module_version": "1.5.0",
       "_view_name": "HTMLView",
       "description": "",
       "description_tooltip": null,
       "layout": "IPY_MODEL_12759efa3b9849b0a30c11f679509f3a",
       "placeholder": "​",
       "style": "IPY_MODEL_531f116c1f1e4959a76b986860d7436d",
       "value": " 28881/28881 [00:00&lt;00:00, 1952541.81it/s]"
      }
     },
     "4b9269d3de9d478f8449592b3e8be39f": {
      "model_module": "@jupyter-widgets/base",
      "model_module_version": "1.2.0",
      "model_name": "LayoutModel",
      "state": {
       "_model_module": "@jupyter-widgets/base",
       "_model_module_version": "1.2.0",
       "_model_name": "LayoutModel",
       "_view_count": null,
       "_view_module": "@jupyter-widgets/base",
       "_view_module_version": "1.2.0",
       "_view_name": "LayoutView",
       "align_content": null,
       "align_items": null,
       "align_self": null,
       "border": null,
       "bottom": null,
       "display": null,
       "flex": null,
       "flex_flow": null,
       "grid_area": null,
       "grid_auto_columns": null,
       "grid_auto_flow": null,
       "grid_auto_rows": null,
       "grid_column": null,
       "grid_gap": null,
       "grid_row": null,
       "grid_template_areas": null,
       "grid_template_columns": null,
       "grid_template_rows": null,
       "height": null,
       "justify_content": null,
       "justify_items": null,
       "left": null,
       "margin": null,
       "max_height": null,
       "max_width": null,
       "min_height": null,
       "min_width": null,
       "object_fit": null,
       "object_position": null,
       "order": null,
       "overflow": null,
       "overflow_x": null,
       "overflow_y": null,
       "padding": null,
       "right": null,
       "top": null,
       "visibility": null,
       "width": null
      }
     },
     "4e2025fcf4d4482aa2dde14acea57281": {
      "model_module": "@jupyter-widgets/controls",
      "model_module_version": "1.5.0",
      "model_name": "HTMLModel",
      "state": {
       "_dom_classes": [],
       "_model_module": "@jupyter-widgets/controls",
       "_model_module_version": "1.5.0",
       "_model_name": "HTMLModel",
       "_view_count": null,
       "_view_module": "@jupyter-widgets/controls",
       "_view_module_version": "1.5.0",
       "_view_name": "HTMLView",
       "description": "",
       "description_tooltip": null,
       "layout": "IPY_MODEL_011ff75244464b7c8a20099478a3c8b0",
       "placeholder": "​",
       "style": "IPY_MODEL_897b7bf1cd32491c8cb0aab2f869d95c",
       "value": "100%"
      }
     },
     "531f116c1f1e4959a76b986860d7436d": {
      "model_module": "@jupyter-widgets/controls",
      "model_module_version": "1.5.0",
      "model_name": "DescriptionStyleModel",
      "state": {
       "_model_module": "@jupyter-widgets/controls",
       "_model_module_version": "1.5.0",
       "_model_name": "DescriptionStyleModel",
       "_view_count": null,
       "_view_module": "@jupyter-widgets/base",
       "_view_module_version": "1.2.0",
       "_view_name": "StyleView",
       "description_width": ""
      }
     },
     "5813e6fffbfe47aaab72f84b4ab72672": {
      "model_module": "@jupyter-widgets/base",
      "model_module_version": "1.2.0",
      "model_name": "LayoutModel",
      "state": {
       "_model_module": "@jupyter-widgets/base",
       "_model_module_version": "1.2.0",
       "_model_name": "LayoutModel",
       "_view_count": null,
       "_view_module": "@jupyter-widgets/base",
       "_view_module_version": "1.2.0",
       "_view_name": "LayoutView",
       "align_content": null,
       "align_items": null,
       "align_self": null,
       "border": null,
       "bottom": null,
       "display": null,
       "flex": null,
       "flex_flow": null,
       "grid_area": null,
       "grid_auto_columns": null,
       "grid_auto_flow": null,
       "grid_auto_rows": null,
       "grid_column": null,
       "grid_gap": null,
       "grid_row": null,
       "grid_template_areas": null,
       "grid_template_columns": null,
       "grid_template_rows": null,
       "height": null,
       "justify_content": null,
       "justify_items": null,
       "left": null,
       "margin": null,
       "max_height": null,
       "max_width": null,
       "min_height": null,
       "min_width": null,
       "object_fit": null,
       "object_position": null,
       "order": null,
       "overflow": null,
       "overflow_x": null,
       "overflow_y": null,
       "padding": null,
       "right": null,
       "top": null,
       "visibility": null,
       "width": null
      }
     },
     "7268d6834afe416aa400bcf2ac029689": {
      "model_module": "@jupyter-widgets/base",
      "model_module_version": "1.2.0",
      "model_name": "LayoutModel",
      "state": {
       "_model_module": "@jupyter-widgets/base",
       "_model_module_version": "1.2.0",
       "_model_name": "LayoutModel",
       "_view_count": null,
       "_view_module": "@jupyter-widgets/base",
       "_view_module_version": "1.2.0",
       "_view_name": "LayoutView",
       "align_content": null,
       "align_items": null,
       "align_self": null,
       "border": null,
       "bottom": null,
       "display": null,
       "flex": null,
       "flex_flow": null,
       "grid_area": null,
       "grid_auto_columns": null,
       "grid_auto_flow": null,
       "grid_auto_rows": null,
       "grid_column": null,
       "grid_gap": null,
       "grid_row": null,
       "grid_template_areas": null,
       "grid_template_columns": null,
       "grid_template_rows": null,
       "height": null,
       "justify_content": null,
       "justify_items": null,
       "left": null,
       "margin": null,
       "max_height": null,
       "max_width": null,
       "min_height": null,
       "min_width": null,
       "object_fit": null,
       "object_position": null,
       "order": null,
       "overflow": null,
       "overflow_x": null,
       "overflow_y": null,
       "padding": null,
       "right": null,
       "top": null,
       "visibility": null,
       "width": null
      }
     },
     "76b5e696b35c4bb88c85f857b519d550": {
      "model_module": "@jupyter-widgets/controls",
      "model_module_version": "1.5.0",
      "model_name": "DescriptionStyleModel",
      "state": {
       "_model_module": "@jupyter-widgets/controls",
       "_model_module_version": "1.5.0",
       "_model_name": "DescriptionStyleModel",
       "_view_count": null,
       "_view_module": "@jupyter-widgets/base",
       "_view_module_version": "1.2.0",
       "_view_name": "StyleView",
       "description_width": ""
      }
     },
     "78373923fe6d44498557586ce0a7b99d": {
      "model_module": "@jupyter-widgets/controls",
      "model_module_version": "1.5.0",
      "model_name": "HBoxModel",
      "state": {
       "_dom_classes": [],
       "_model_module": "@jupyter-widgets/controls",
       "_model_module_version": "1.5.0",
       "_model_name": "HBoxModel",
       "_view_count": null,
       "_view_module": "@jupyter-widgets/controls",
       "_view_module_version": "1.5.0",
       "_view_name": "HBoxView",
       "box_style": "",
       "children": [
        "IPY_MODEL_b808543bd3a942d4a4d9e002b47ffa91",
        "IPY_MODEL_3a5d6c96f333454cba001ed65414a841",
        "IPY_MODEL_4aa934ac79e6404f9c8e4d57e49056bb"
       ],
       "layout": "IPY_MODEL_4b9269d3de9d478f8449592b3e8be39f"
      }
     },
     "79eccbea47cf4a8e95487ac9e77b6191": {
      "model_module": "@jupyter-widgets/controls",
      "model_module_version": "1.5.0",
      "model_name": "HBoxModel",
      "state": {
       "_dom_classes": [],
       "_model_module": "@jupyter-widgets/controls",
       "_model_module_version": "1.5.0",
       "_model_name": "HBoxModel",
       "_view_count": null,
       "_view_module": "@jupyter-widgets/controls",
       "_view_module_version": "1.5.0",
       "_view_name": "HBoxView",
       "box_style": "",
       "children": [
        "IPY_MODEL_4e2025fcf4d4482aa2dde14acea57281",
        "IPY_MODEL_dc7f0aa2eabf4853965858121afb9e9b",
        "IPY_MODEL_152cc353891d4e2f8d6ddf9a7431ed9d"
       ],
       "layout": "IPY_MODEL_5813e6fffbfe47aaab72f84b4ab72672"
      }
     },
     "7b66c0567e6f4b49ae2254c9e4a37263": {
      "model_module": "@jupyter-widgets/base",
      "model_module_version": "1.2.0",
      "model_name": "LayoutModel",
      "state": {
       "_model_module": "@jupyter-widgets/base",
       "_model_module_version": "1.2.0",
       "_model_name": "LayoutModel",
       "_view_count": null,
       "_view_module": "@jupyter-widgets/base",
       "_view_module_version": "1.2.0",
       "_view_name": "LayoutView",
       "align_content": null,
       "align_items": null,
       "align_self": null,
       "border": null,
       "bottom": null,
       "display": null,
       "flex": null,
       "flex_flow": null,
       "grid_area": null,
       "grid_auto_columns": null,
       "grid_auto_flow": null,
       "grid_auto_rows": null,
       "grid_column": null,
       "grid_gap": null,
       "grid_row": null,
       "grid_template_areas": null,
       "grid_template_columns": null,
       "grid_template_rows": null,
       "height": null,
       "justify_content": null,
       "justify_items": null,
       "left": null,
       "margin": null,
       "max_height": null,
       "max_width": null,
       "min_height": null,
       "min_width": null,
       "object_fit": null,
       "object_position": null,
       "order": null,
       "overflow": null,
       "overflow_x": null,
       "overflow_y": null,
       "padding": null,
       "right": null,
       "top": null,
       "visibility": null,
       "width": null
      }
     },
     "82169f9e082741e4bdcd5059d51637bb": {
      "model_module": "@jupyter-widgets/controls",
      "model_module_version": "1.5.0",
      "model_name": "HTMLModel",
      "state": {
       "_dom_classes": [],
       "_model_module": "@jupyter-widgets/controls",
       "_model_module_version": "1.5.0",
       "_model_name": "HTMLModel",
       "_view_count": null,
       "_view_module": "@jupyter-widgets/controls",
       "_view_module_version": "1.5.0",
       "_view_name": "HTMLView",
       "description": "",
       "description_tooltip": null,
       "layout": "IPY_MODEL_a8682ed9bc5a4b96b7f1e3b30beca472",
       "placeholder": "​",
       "style": "IPY_MODEL_d6af4f666472482fbdb3b37823b41d9d",
       "value": " 4542/4542 [00:00&lt;00:00, 306826.15it/s]"
      }
     },
     "897b7bf1cd32491c8cb0aab2f869d95c": {
      "model_module": "@jupyter-widgets/controls",
      "model_module_version": "1.5.0",
      "model_name": "DescriptionStyleModel",
      "state": {
       "_model_module": "@jupyter-widgets/controls",
       "_model_module_version": "1.5.0",
       "_model_name": "DescriptionStyleModel",
       "_view_count": null,
       "_view_module": "@jupyter-widgets/base",
       "_view_module_version": "1.2.0",
       "_view_name": "StyleView",
       "description_width": ""
      }
     },
     "90fcf1764ba64d029265ba7b619c3a63": {
      "model_module": "@jupyter-widgets/base",
      "model_module_version": "1.2.0",
      "model_name": "LayoutModel",
      "state": {
       "_model_module": "@jupyter-widgets/base",
       "_model_module_version": "1.2.0",
       "_model_name": "LayoutModel",
       "_view_count": null,
       "_view_module": "@jupyter-widgets/base",
       "_view_module_version": "1.2.0",
       "_view_name": "LayoutView",
       "align_content": null,
       "align_items": null,
       "align_self": null,
       "border": null,
       "bottom": null,
       "display": null,
       "flex": null,
       "flex_flow": null,
       "grid_area": null,
       "grid_auto_columns": null,
       "grid_auto_flow": null,
       "grid_auto_rows": null,
       "grid_column": null,
       "grid_gap": null,
       "grid_row": null,
       "grid_template_areas": null,
       "grid_template_columns": null,
       "grid_template_rows": null,
       "height": null,
       "justify_content": null,
       "justify_items": null,
       "left": null,
       "margin": null,
       "max_height": null,
       "max_width": null,
       "min_height": null,
       "min_width": null,
       "object_fit": null,
       "object_position": null,
       "order": null,
       "overflow": null,
       "overflow_x": null,
       "overflow_y": null,
       "padding": null,
       "right": null,
       "top": null,
       "visibility": null,
       "width": null
      }
     },
     "9e6ffe986e174bd4b6fae34e04fcd6b8": {
      "model_module": "@jupyter-widgets/base",
      "model_module_version": "1.2.0",
      "model_name": "LayoutModel",
      "state": {
       "_model_module": "@jupyter-widgets/base",
       "_model_module_version": "1.2.0",
       "_model_name": "LayoutModel",
       "_view_count": null,
       "_view_module": "@jupyter-widgets/base",
       "_view_module_version": "1.2.0",
       "_view_name": "LayoutView",
       "align_content": null,
       "align_items": null,
       "align_self": null,
       "border": null,
       "bottom": null,
       "display": null,
       "flex": null,
       "flex_flow": null,
       "grid_area": null,
       "grid_auto_columns": null,
       "grid_auto_flow": null,
       "grid_auto_rows": null,
       "grid_column": null,
       "grid_gap": null,
       "grid_row": null,
       "grid_template_areas": null,
       "grid_template_columns": null,
       "grid_template_rows": null,
       "height": null,
       "justify_content": null,
       "justify_items": null,
       "left": null,
       "margin": null,
       "max_height": null,
       "max_width": null,
       "min_height": null,
       "min_width": null,
       "object_fit": null,
       "object_position": null,
       "order": null,
       "overflow": null,
       "overflow_x": null,
       "overflow_y": null,
       "padding": null,
       "right": null,
       "top": null,
       "visibility": null,
       "width": null
      }
     },
     "a3d6ccf881d1400baf90c30d515fac8c": {
      "model_module": "@jupyter-widgets/controls",
      "model_module_version": "1.5.0",
      "model_name": "ProgressStyleModel",
      "state": {
       "_model_module": "@jupyter-widgets/controls",
       "_model_module_version": "1.5.0",
       "_model_name": "ProgressStyleModel",
       "_view_count": null,
       "_view_module": "@jupyter-widgets/base",
       "_view_module_version": "1.2.0",
       "_view_name": "StyleView",
       "bar_color": null,
       "description_width": ""
      }
     },
     "a8682ed9bc5a4b96b7f1e3b30beca472": {
      "model_module": "@jupyter-widgets/base",
      "model_module_version": "1.2.0",
      "model_name": "LayoutModel",
      "state": {
       "_model_module": "@jupyter-widgets/base",
       "_model_module_version": "1.2.0",
       "_model_name": "LayoutModel",
       "_view_count": null,
       "_view_module": "@jupyter-widgets/base",
       "_view_module_version": "1.2.0",
       "_view_name": "LayoutView",
       "align_content": null,
       "align_items": null,
       "align_self": null,
       "border": null,
       "bottom": null,
       "display": null,
       "flex": null,
       "flex_flow": null,
       "grid_area": null,
       "grid_auto_columns": null,
       "grid_auto_flow": null,
       "grid_auto_rows": null,
       "grid_column": null,
       "grid_gap": null,
       "grid_row": null,
       "grid_template_areas": null,
       "grid_template_columns": null,
       "grid_template_rows": null,
       "height": null,
       "justify_content": null,
       "justify_items": null,
       "left": null,
       "margin": null,
       "max_height": null,
       "max_width": null,
       "min_height": null,
       "min_width": null,
       "object_fit": null,
       "object_position": null,
       "order": null,
       "overflow": null,
       "overflow_x": null,
       "overflow_y": null,
       "padding": null,
       "right": null,
       "top": null,
       "visibility": null,
       "width": null
      }
     },
     "aa969f55594c42a6be0ec4ae0bfafad5": {
      "model_module": "@jupyter-widgets/controls",
      "model_module_version": "1.5.0",
      "model_name": "ProgressStyleModel",
      "state": {
       "_model_module": "@jupyter-widgets/controls",
       "_model_module_version": "1.5.0",
       "_model_name": "ProgressStyleModel",
       "_view_count": null,
       "_view_module": "@jupyter-widgets/base",
       "_view_module_version": "1.2.0",
       "_view_name": "StyleView",
       "bar_color": null,
       "description_width": ""
      }
     },
     "b808543bd3a942d4a4d9e002b47ffa91": {
      "model_module": "@jupyter-widgets/controls",
      "model_module_version": "1.5.0",
      "model_name": "HTMLModel",
      "state": {
       "_dom_classes": [],
       "_model_module": "@jupyter-widgets/controls",
       "_model_module_version": "1.5.0",
       "_model_name": "HTMLModel",
       "_view_count": null,
       "_view_module": "@jupyter-widgets/controls",
       "_view_module_version": "1.5.0",
       "_view_name": "HTMLView",
       "description": "",
       "description_tooltip": null,
       "layout": "IPY_MODEL_9e6ffe986e174bd4b6fae34e04fcd6b8",
       "placeholder": "​",
       "style": "IPY_MODEL_76b5e696b35c4bb88c85f857b519d550",
       "value": "100%"
      }
     },
     "bb63efd4c8ed4d54b205328c4e082505": {
      "model_module": "@jupyter-widgets/controls",
      "model_module_version": "1.5.0",
      "model_name": "FloatProgressModel",
      "state": {
       "_dom_classes": [],
       "_model_module": "@jupyter-widgets/controls",
       "_model_module_version": "1.5.0",
       "_model_name": "FloatProgressModel",
       "_view_count": null,
       "_view_module": "@jupyter-widgets/controls",
       "_view_module_version": "1.5.0",
       "_view_name": "ProgressView",
       "bar_style": "success",
       "description": "",
       "description_tooltip": null,
       "layout": "IPY_MODEL_90fcf1764ba64d029265ba7b619c3a63",
       "max": 1648877.0,
       "min": 0.0,
       "orientation": "horizontal",
       "style": "IPY_MODEL_a3d6ccf881d1400baf90c30d515fac8c",
       "value": 1648877.0
      }
     },
     "bf8cfa1341b64589905ffbee99f2693e": {
      "model_module": "@jupyter-widgets/controls",
      "model_module_version": "1.5.0",
      "model_name": "DescriptionStyleModel",
      "state": {
       "_model_module": "@jupyter-widgets/controls",
       "_model_module_version": "1.5.0",
       "_model_name": "DescriptionStyleModel",
       "_view_count": null,
       "_view_module": "@jupyter-widgets/base",
       "_view_module_version": "1.2.0",
       "_view_name": "StyleView",
       "description_width": ""
      }
     },
     "c0c50fd30b2341c7bd3a1de3a5049e1b": {
      "model_module": "@jupyter-widgets/controls",
      "model_module_version": "1.5.0",
      "model_name": "HBoxModel",
      "state": {
       "_dom_classes": [],
       "_model_module": "@jupyter-widgets/controls",
       "_model_module_version": "1.5.0",
       "_model_name": "HBoxModel",
       "_view_count": null,
       "_view_module": "@jupyter-widgets/controls",
       "_view_module_version": "1.5.0",
       "_view_name": "HBoxView",
       "box_style": "",
       "children": [
        "IPY_MODEL_0e7c6851316b400fa8078f6dfd58e6f0",
        "IPY_MODEL_ff6abfb447af41fba31b59a5abd27d64",
        "IPY_MODEL_82169f9e082741e4bdcd5059d51637bb"
       ],
       "layout": "IPY_MODEL_dbe210ef59084d7bb84b672e0764605a"
      }
     },
     "c6d7294179e94c4bab6a973f945ebc55": {
      "model_module": "@jupyter-widgets/controls",
      "model_module_version": "1.5.0",
      "model_name": "HTMLModel",
      "state": {
       "_dom_classes": [],
       "_model_module": "@jupyter-widgets/controls",
       "_model_module_version": "1.5.0",
       "_model_name": "HTMLModel",
       "_view_count": null,
       "_view_module": "@jupyter-widgets/controls",
       "_view_module_version": "1.5.0",
       "_view_name": "HTMLView",
       "description": "",
       "description_tooltip": null,
       "layout": "IPY_MODEL_c9813566a75740f99bb91ea53a116ece",
       "placeholder": "​",
       "style": "IPY_MODEL_33fbb0a1f8d841f999332160709c776f",
       "value": " 1648877/1648877 [00:00&lt;00:00, 30774908.87it/s]"
      }
     },
     "c9813566a75740f99bb91ea53a116ece": {
      "model_module": "@jupyter-widgets/base",
      "model_module_version": "1.2.0",
      "model_name": "LayoutModel",
      "state": {
       "_model_module": "@jupyter-widgets/base",
       "_model_module_version": "1.2.0",
       "_model_name": "LayoutModel",
       "_view_count": null,
       "_view_module": "@jupyter-widgets/base",
       "_view_module_version": "1.2.0",
       "_view_name": "LayoutView",
       "align_content": null,
       "align_items": null,
       "align_self": null,
       "border": null,
       "bottom": null,
       "display": null,
       "flex": null,
       "flex_flow": null,
       "grid_area": null,
       "grid_auto_columns": null,
       "grid_auto_flow": null,
       "grid_auto_rows": null,
       "grid_column": null,
       "grid_gap": null,
       "grid_row": null,
       "grid_template_areas": null,
       "grid_template_columns": null,
       "grid_template_rows": null,
       "height": null,
       "justify_content": null,
       "justify_items": null,
       "left": null,
       "margin": null,
       "max_height": null,
       "max_width": null,
       "min_height": null,
       "min_width": null,
       "object_fit": null,
       "object_position": null,
       "order": null,
       "overflow": null,
       "overflow_x": null,
       "overflow_y": null,
       "padding": null,
       "right": null,
       "top": null,
       "visibility": null,
       "width": null
      }
     },
     "cec8d6468e4a4814a9c5720c24ea650d": {
      "model_module": "@jupyter-widgets/base",
      "model_module_version": "1.2.0",
      "model_name": "LayoutModel",
      "state": {
       "_model_module": "@jupyter-widgets/base",
       "_model_module_version": "1.2.0",
       "_model_name": "LayoutModel",
       "_view_count": null,
       "_view_module": "@jupyter-widgets/base",
       "_view_module_version": "1.2.0",
       "_view_name": "LayoutView",
       "align_content": null,
       "align_items": null,
       "align_self": null,
       "border": null,
       "bottom": null,
       "display": null,
       "flex": null,
       "flex_flow": null,
       "grid_area": null,
       "grid_auto_columns": null,
       "grid_auto_flow": null,
       "grid_auto_rows": null,
       "grid_column": null,
       "grid_gap": null,
       "grid_row": null,
       "grid_template_areas": null,
       "grid_template_columns": null,
       "grid_template_rows": null,
       "height": null,
       "justify_content": null,
       "justify_items": null,
       "left": null,
       "margin": null,
       "max_height": null,
       "max_width": null,
       "min_height": null,
       "min_width": null,
       "object_fit": null,
       "object_position": null,
       "order": null,
       "overflow": null,
       "overflow_x": null,
       "overflow_y": null,
       "padding": null,
       "right": null,
       "top": null,
       "visibility": null,
       "width": null
      }
     },
     "d63b9352cacb459c9acd8609e7de620d": {
      "model_module": "@jupyter-widgets/controls",
      "model_module_version": "1.5.0",
      "model_name": "ProgressStyleModel",
      "state": {
       "_model_module": "@jupyter-widgets/controls",
       "_model_module_version": "1.5.0",
       "_model_name": "ProgressStyleModel",
       "_view_count": null,
       "_view_module": "@jupyter-widgets/base",
       "_view_module_version": "1.2.0",
       "_view_name": "StyleView",
       "bar_color": null,
       "description_width": ""
      }
     },
     "d68bc83859554c7c94870ff4f11daf65": {
      "model_module": "@jupyter-widgets/controls",
      "model_module_version": "1.5.0",
      "model_name": "DescriptionStyleModel",
      "state": {
       "_model_module": "@jupyter-widgets/controls",
       "_model_module_version": "1.5.0",
       "_model_name": "DescriptionStyleModel",
       "_view_count": null,
       "_view_module": "@jupyter-widgets/base",
       "_view_module_version": "1.2.0",
       "_view_name": "StyleView",
       "description_width": ""
      }
     },
     "d6af4f666472482fbdb3b37823b41d9d": {
      "model_module": "@jupyter-widgets/controls",
      "model_module_version": "1.5.0",
      "model_name": "DescriptionStyleModel",
      "state": {
       "_model_module": "@jupyter-widgets/controls",
       "_model_module_version": "1.5.0",
       "_model_name": "DescriptionStyleModel",
       "_view_count": null,
       "_view_module": "@jupyter-widgets/base",
       "_view_module_version": "1.2.0",
       "_view_name": "StyleView",
       "description_width": ""
      }
     },
     "d76f120cad5a45858522c3b315d92f81": {
      "model_module": "@jupyter-widgets/base",
      "model_module_version": "1.2.0",
      "model_name": "LayoutModel",
      "state": {
       "_model_module": "@jupyter-widgets/base",
       "_model_module_version": "1.2.0",
       "_model_name": "LayoutModel",
       "_view_count": null,
       "_view_module": "@jupyter-widgets/base",
       "_view_module_version": "1.2.0",
       "_view_name": "LayoutView",
       "align_content": null,
       "align_items": null,
       "align_self": null,
       "border": null,
       "bottom": null,
       "display": null,
       "flex": null,
       "flex_flow": null,
       "grid_area": null,
       "grid_auto_columns": null,
       "grid_auto_flow": null,
       "grid_auto_rows": null,
       "grid_column": null,
       "grid_gap": null,
       "grid_row": null,
       "grid_template_areas": null,
       "grid_template_columns": null,
       "grid_template_rows": null,
       "height": null,
       "justify_content": null,
       "justify_items": null,
       "left": null,
       "margin": null,
       "max_height": null,
       "max_width": null,
       "min_height": null,
       "min_width": null,
       "object_fit": null,
       "object_position": null,
       "order": null,
       "overflow": null,
       "overflow_x": null,
       "overflow_y": null,
       "padding": null,
       "right": null,
       "top": null,
       "visibility": null,
       "width": null
      }
     },
     "dbe210ef59084d7bb84b672e0764605a": {
      "model_module": "@jupyter-widgets/base",
      "model_module_version": "1.2.0",
      "model_name": "LayoutModel",
      "state": {
       "_model_module": "@jupyter-widgets/base",
       "_model_module_version": "1.2.0",
       "_model_name": "LayoutModel",
       "_view_count": null,
       "_view_module": "@jupyter-widgets/base",
       "_view_module_version": "1.2.0",
       "_view_name": "LayoutView",
       "align_content": null,
       "align_items": null,
       "align_self": null,
       "border": null,
       "bottom": null,
       "display": null,
       "flex": null,
       "flex_flow": null,
       "grid_area": null,
       "grid_auto_columns": null,
       "grid_auto_flow": null,
       "grid_auto_rows": null,
       "grid_column": null,
       "grid_gap": null,
       "grid_row": null,
       "grid_template_areas": null,
       "grid_template_columns": null,
       "grid_template_rows": null,
       "height": null,
       "justify_content": null,
       "justify_items": null,
       "left": null,
       "margin": null,
       "max_height": null,
       "max_width": null,
       "min_height": null,
       "min_width": null,
       "object_fit": null,
       "object_position": null,
       "order": null,
       "overflow": null,
       "overflow_x": null,
       "overflow_y": null,
       "padding": null,
       "right": null,
       "top": null,
       "visibility": null,
       "width": null
      }
     },
     "dc7f0aa2eabf4853965858121afb9e9b": {
      "model_module": "@jupyter-widgets/controls",
      "model_module_version": "1.5.0",
      "model_name": "FloatProgressModel",
      "state": {
       "_dom_classes": [],
       "_model_module": "@jupyter-widgets/controls",
       "_model_module_version": "1.5.0",
       "_model_name": "FloatProgressModel",
       "_view_count": null,
       "_view_module": "@jupyter-widgets/controls",
       "_view_module_version": "1.5.0",
       "_view_name": "ProgressView",
       "bar_style": "success",
       "description": "",
       "description_tooltip": null,
       "layout": "IPY_MODEL_7268d6834afe416aa400bcf2ac029689",
       "max": 9912422.0,
       "min": 0.0,
       "orientation": "horizontal",
       "style": "IPY_MODEL_aa969f55594c42a6be0ec4ae0bfafad5",
       "value": 9912422.0
      }
     },
     "df9a7dae29034449834c46174a84b60e": {
      "model_module": "@jupyter-widgets/base",
      "model_module_version": "1.2.0",
      "model_name": "LayoutModel",
      "state": {
       "_model_module": "@jupyter-widgets/base",
       "_model_module_version": "1.2.0",
       "_model_name": "LayoutModel",
       "_view_count": null,
       "_view_module": "@jupyter-widgets/base",
       "_view_module_version": "1.2.0",
       "_view_name": "LayoutView",
       "align_content": null,
       "align_items": null,
       "align_self": null,
       "border": null,
       "bottom": null,
       "display": null,
       "flex": null,
       "flex_flow": null,
       "grid_area": null,
       "grid_auto_columns": null,
       "grid_auto_flow": null,
       "grid_auto_rows": null,
       "grid_column": null,
       "grid_gap": null,
       "grid_row": null,
       "grid_template_areas": null,
       "grid_template_columns": null,
       "grid_template_rows": null,
       "height": null,
       "justify_content": null,
       "justify_items": null,
       "left": null,
       "margin": null,
       "max_height": null,
       "max_width": null,
       "min_height": null,
       "min_width": null,
       "object_fit": null,
       "object_position": null,
       "order": null,
       "overflow": null,
       "overflow_x": null,
       "overflow_y": null,
       "padding": null,
       "right": null,
       "top": null,
       "visibility": null,
       "width": null
      }
     },
     "e2a73bce766b4eb9b6f4347612e6b0a5": {
      "model_module": "@jupyter-widgets/base",
      "model_module_version": "1.2.0",
      "model_name": "LayoutModel",
      "state": {
       "_model_module": "@jupyter-widgets/base",
       "_model_module_version": "1.2.0",
       "_model_name": "LayoutModel",
       "_view_count": null,
       "_view_module": "@jupyter-widgets/base",
       "_view_module_version": "1.2.0",
       "_view_name": "LayoutView",
       "align_content": null,
       "align_items": null,
       "align_self": null,
       "border": null,
       "bottom": null,
       "display": null,
       "flex": null,
       "flex_flow": null,
       "grid_area": null,
       "grid_auto_columns": null,
       "grid_auto_flow": null,
       "grid_auto_rows": null,
       "grid_column": null,
       "grid_gap": null,
       "grid_row": null,
       "grid_template_areas": null,
       "grid_template_columns": null,
       "grid_template_rows": null,
       "height": null,
       "justify_content": null,
       "justify_items": null,
       "left": null,
       "margin": null,
       "max_height": null,
       "max_width": null,
       "min_height": null,
       "min_width": null,
       "object_fit": null,
       "object_position": null,
       "order": null,
       "overflow": null,
       "overflow_x": null,
       "overflow_y": null,
       "padding": null,
       "right": null,
       "top": null,
       "visibility": null,
       "width": null
      }
     },
     "ef9dc338236646678d90fb55900f8ae9": {
      "model_module": "@jupyter-widgets/controls",
      "model_module_version": "1.5.0",
      "model_name": "HTMLModel",
      "state": {
       "_dom_classes": [],
       "_model_module": "@jupyter-widgets/controls",
       "_model_module_version": "1.5.0",
       "_model_name": "HTMLModel",
       "_view_count": null,
       "_view_module": "@jupyter-widgets/controls",
       "_view_module_version": "1.5.0",
       "_view_name": "HTMLView",
       "description": "",
       "description_tooltip": null,
       "layout": "IPY_MODEL_e2a73bce766b4eb9b6f4347612e6b0a5",
       "placeholder": "​",
       "style": "IPY_MODEL_bf8cfa1341b64589905ffbee99f2693e",
       "value": "100%"
      }
     },
     "f19a1661f10a40eeb740ef0a94182799": {
      "model_module": "@jupyter-widgets/base",
      "model_module_version": "1.2.0",
      "model_name": "LayoutModel",
      "state": {
       "_model_module": "@jupyter-widgets/base",
       "_model_module_version": "1.2.0",
       "_model_name": "LayoutModel",
       "_view_count": null,
       "_view_module": "@jupyter-widgets/base",
       "_view_module_version": "1.2.0",
       "_view_name": "LayoutView",
       "align_content": null,
       "align_items": null,
       "align_self": null,
       "border": null,
       "bottom": null,
       "display": null,
       "flex": null,
       "flex_flow": null,
       "grid_area": null,
       "grid_auto_columns": null,
       "grid_auto_flow": null,
       "grid_auto_rows": null,
       "grid_column": null,
       "grid_gap": null,
       "grid_row": null,
       "grid_template_areas": null,
       "grid_template_columns": null,
       "grid_template_rows": null,
       "height": null,
       "justify_content": null,
       "justify_items": null,
       "left": null,
       "margin": null,
       "max_height": null,
       "max_width": null,
       "min_height": null,
       "min_width": null,
       "object_fit": null,
       "object_position": null,
       "order": null,
       "overflow": null,
       "overflow_x": null,
       "overflow_y": null,
       "padding": null,
       "right": null,
       "top": null,
       "visibility": null,
       "width": null
      }
     },
     "fe33d8919e244564a0d07c0233ec473d": {
      "model_module": "@jupyter-widgets/controls",
      "model_module_version": "1.5.0",
      "model_name": "DescriptionStyleModel",
      "state": {
       "_model_module": "@jupyter-widgets/controls",
       "_model_module_version": "1.5.0",
       "_model_name": "DescriptionStyleModel",
       "_view_count": null,
       "_view_module": "@jupyter-widgets/base",
       "_view_module_version": "1.2.0",
       "_view_name": "StyleView",
       "description_width": ""
      }
     },
     "ff6abfb447af41fba31b59a5abd27d64": {
      "model_module": "@jupyter-widgets/controls",
      "model_module_version": "1.5.0",
      "model_name": "FloatProgressModel",
      "state": {
       "_dom_classes": [],
       "_model_module": "@jupyter-widgets/controls",
       "_model_module_version": "1.5.0",
       "_model_name": "FloatProgressModel",
       "_view_count": null,
       "_view_module": "@jupyter-widgets/controls",
       "_view_module_version": "1.5.0",
       "_view_name": "ProgressView",
       "bar_style": "success",
       "description": "",
       "description_tooltip": null,
       "layout": "IPY_MODEL_f19a1661f10a40eeb740ef0a94182799",
       "max": 4542.0,
       "min": 0.0,
       "orientation": "horizontal",
       "style": "IPY_MODEL_d63b9352cacb459c9acd8609e7de620d",
       "value": 4542.0
      }
     }
    },
    "version_major": 2,
    "version_minor": 0
   }
  }
 },
 "nbformat": 4,
 "nbformat_minor": 5
}
