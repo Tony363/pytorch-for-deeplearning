{
 "cells": [
  {
   "cell_type": "code",
   "execution_count": 1,
   "id": "9c5912e2",
   "metadata": {
    "execution": {
     "iopub.execute_input": "2023-03-12T22:20:29.055762Z",
     "iopub.status.busy": "2023-03-12T22:20:29.055074Z",
     "iopub.status.idle": "2023-03-12T22:20:41.896258Z",
     "shell.execute_reply": "2023-03-12T22:20:41.895076Z"
    },
    "papermill": {
     "duration": 12.855701,
     "end_time": "2023-03-12T22:20:41.899073",
     "exception": false,
     "start_time": "2023-03-12T22:20:29.043372",
     "status": "completed"
    },
    "tags": []
   },
   "outputs": [
    {
     "name": "stdout",
     "output_type": "stream",
     "text": [
      "Collecting jovian\r\n",
      "  Downloading jovian-0.2.47-py2.py3-none-any.whl (68 kB)\r\n",
      "\u001b[2K     \u001b[90m━━━━━━━━━━━━━━━━━━━━━━━━━━━━━━━━━━━━━━━━\u001b[0m \u001b[32m68.6/68.6 kB\u001b[0m \u001b[31m2.6 MB/s\u001b[0m eta \u001b[36m0:00:00\u001b[0m\r\n",
      "\u001b[?25hRequirement already satisfied: pyyaml in /opt/conda/lib/python3.7/site-packages (from jovian) (6.0)\r\n",
      "Requirement already satisfied: click in /opt/conda/lib/python3.7/site-packages (from jovian) (8.1.3)\r\n",
      "Requirement already satisfied: requests in /opt/conda/lib/python3.7/site-packages (from jovian) (2.28.2)\r\n",
      "Collecting uuid\r\n",
      "  Downloading uuid-1.30.tar.gz (5.8 kB)\r\n",
      "  Preparing metadata (setup.py) ... \u001b[?25l-\b \bdone\r\n",
      "\u001b[?25hRequirement already satisfied: importlib-metadata in /opt/conda/lib/python3.7/site-packages (from click->jovian) (4.11.4)\r\n",
      "Requirement already satisfied: urllib3<1.27,>=1.21.1 in /opt/conda/lib/python3.7/site-packages (from requests->jovian) (1.26.14)\r\n",
      "Requirement already satisfied: charset-normalizer<4,>=2 in /opt/conda/lib/python3.7/site-packages (from requests->jovian) (2.1.1)\r\n",
      "Requirement already satisfied: idna<4,>=2.5 in /opt/conda/lib/python3.7/site-packages (from requests->jovian) (3.4)\r\n",
      "Requirement already satisfied: certifi>=2017.4.17 in /opt/conda/lib/python3.7/site-packages (from requests->jovian) (2022.12.7)\r\n",
      "Requirement already satisfied: zipp>=0.5 in /opt/conda/lib/python3.7/site-packages (from importlib-metadata->click->jovian) (3.11.0)\r\n",
      "Requirement already satisfied: typing-extensions>=3.6.4 in /opt/conda/lib/python3.7/site-packages (from importlib-metadata->click->jovian) (4.4.0)\r\n",
      "Building wheels for collected packages: uuid\r\n",
      "  Building wheel for uuid (setup.py) ... \u001b[?25l-\b \b\\\b \bdone\r\n",
      "\u001b[?25h  Created wheel for uuid: filename=uuid-1.30-py3-none-any.whl size=6502 sha256=52866f79ca3d3893de28c917650375601814dcf213703697584d1e7614b4435b\r\n",
      "  Stored in directory: /root/.cache/pip/wheels/1a/86/1f/b98f65eac15e944d5d4d6fafc87e4319d5f01ea5d4c57c3da7\r\n",
      "Successfully built uuid\r\n",
      "Installing collected packages: uuid, jovian\r\n",
      "Successfully installed jovian-0.2.47 uuid-1.30\r\n",
      "\u001b[33mWARNING: Running pip as the 'root' user can result in broken permissions and conflicting behaviour with the system package manager. It is recommended to use a virtual environment instead: https://pip.pypa.io/warnings/venv\u001b[0m\u001b[33m\r\n",
      "\u001b[0m"
     ]
    }
   ],
   "source": [
    "!pip install jovian --upgrade"
   ]
  },
  {
   "cell_type": "code",
   "execution_count": 2,
   "id": "e118319f",
   "metadata": {
    "execution": {
     "iopub.execute_input": "2023-03-12T22:20:41.922802Z",
     "iopub.status.busy": "2023-03-12T22:20:41.922433Z",
     "iopub.status.idle": "2023-03-12T22:20:43.096433Z",
     "shell.execute_reply": "2023-03-12T22:20:43.094240Z"
    },
    "id": "F-N_nlI0TJ0i",
    "outputId": "7f8f192f-f9a1-4d77-b98e-4ecdd4a61440",
    "papermill": {
     "duration": 1.188433,
     "end_time": "2023-03-12T22:20:43.098997",
     "exception": false,
     "start_time": "2023-03-12T22:20:41.910564",
     "status": "completed"
    },
    "tags": []
   },
   "outputs": [
    {
     "data": {
      "application/javascript": [
       "if (window.IPython && IPython.notebook.kernel) IPython.notebook.kernel.execute('jovian.utils.jupyter.get_notebook_name_saved = lambda: \"' + IPython.notebook.notebook_name + '\"')"
      ],
      "text/plain": [
       "<IPython.core.display.Javascript object>"
      ]
     },
     "metadata": {},
     "output_type": "display_data"
    },
    {
     "data": {
      "application/javascript": [
       "window.require && require([\"base/js/namespace\"],function(Jupyter){Jupyter.notebook.save_checkpoint()})"
      ],
      "text/plain": [
       "<IPython.core.display.Javascript object>"
      ]
     },
     "metadata": {},
     "output_type": "display_data"
    },
    {
     "data": {
      "application/javascript": [
       "if (window.IPython && IPython.notebook.kernel) IPython.notebook.kernel.execute('jovian.utils.jupyter.get_notebook_name_saved = lambda: \"' + IPython.notebook.notebook_name + '\"')"
      ],
      "text/plain": [
       "<IPython.core.display.Javascript object>"
      ]
     },
     "metadata": {},
     "output_type": "display_data"
    },
    {
     "name": "stderr",
     "output_type": "stream",
     "text": [
      "\u001b[31m[jovian] Error: Failed to read the Jupyter notebook. Please re-run this cell to try again. If the issue persists, provide the \"filename\" argument to \"jovian.commit\" e.g. \"jovian.commit(filename='my-notebook.ipynb')\"\u001b[0m\n"
     ]
    }
   ],
   "source": [
    "import jovian\n",
    "\n",
    "jovian.commit()"
   ]
  },
  {
   "cell_type": "markdown",
   "id": "d401bee2",
   "metadata": {
    "id": "wGdTfyfrTEG0",
    "papermill": {
     "duration": 0.009803,
     "end_time": "2023-03-12T22:20:43.119051",
     "exception": false,
     "start_time": "2023-03-12T22:20:43.109248",
     "status": "completed"
    },
    "tags": []
   },
   "source": [
    "# PyTorch Basics: Tensors & Gradients\n",
    "\n",
    "#### *Part 1 of \"Pytorch: Zero to GANs\"*\n",
    "\n",
    "*This post is the first in a series of tutorials on building deep learning models with PyTorch, an open source neural networks library developed and maintained by Facebook. Check out the full series:*\n",
    "\n",
    "1. [PyTorch Basics: Tensors & Gradients](https://jovian.ml/aakashns/01-pytorch-basics)\n",
    "2. [Linear Regression & Gradient Descent](https://jovian.ml/aakashns/02-linear-regression)\n",
    "3. [Image Classfication using Logistic Regression](https://jovian.ml/aakashns/03-logistic-regression) \n",
    "4. [Training Deep Neural Networks on a GPU](https://jovian.ml/aakashns/04-feedforward-nn)\n",
    "5. [Image Classification using Convolutional Neural Networks](https://jovian.ml/aakashns/05-cifar10-cnn)\n",
    "6. [Data Augmentation, Regularization and ResNets](https://jovian.ml/aakashns/05b-cifar10-resnet)\n",
    "7. [Generating Images using Generative Adverserial Networks](https://jovian.ml/aakashns/06-mnist-gan)\n",
    "\n",
    "This series attempts to make PyTorch a bit more approachable for people starting out with deep learning and neural networks. In this notebook, we’ll cover the basic building blocks of PyTorch models: tensors and gradients."
   ]
  },
  {
   "cell_type": "markdown",
   "id": "d5732b34",
   "metadata": {
    "id": "qQn7IgfGTEG2",
    "papermill": {
     "duration": 0.011201,
     "end_time": "2023-03-12T22:20:43.140882",
     "exception": false,
     "start_time": "2023-03-12T22:20:43.129681",
     "status": "completed"
    },
    "tags": []
   },
   "source": [
    "## System setup\n",
    "\n",
    "This tutorial takes a code-first approach towards learning PyTorch, and you should try to follow along by running and experimenting with the code yourself. The easiest way to start executing this notebook is to click the **\"Run\"** button at the top of this page, and select **\"Run on Binder\"**. This will run the notebook on [mybinder.org](https://mybinder.org), a free online service for running Jupyter notebooks.\n",
    "\n",
    "**NOTE**: *If you're running this notebook on Binder, please skip ahead to the next section.*\n",
    "\n",
    "### Running on your computer locally\n",
    "\n",
    "We'll use the [Anaconda distribution](https://www.anaconda.com/distribution/) of Python to install libraries and manage virtual environments. For interactive coding and experimentation, we'll use [Jupyter notebooks](https://jupyter.org/). All the tutorials in this series are available as Jupyter notebooks hosted on [Jovian.ml](https://www.jovian.ml): a sharing and collaboration platform for Jupyter notebooks & machine learning experiments.\n",
    "\n",
    "Jovian.ml makes it easy to share Jupyter notebooks on the cloud by running a single command directly within Jupyter. It also captures the Python environment and libraries required to run your notebook, so anyone (including you) can reproduce your work.\n",
    "\n",
    "Here's what you need to do to get started:\n",
    "\n",
    "1. Install Anaconda by following the [instructions given here](https://conda.io/projects/conda/en/latest/user-guide/install/index.html). You might also need to add Anaconda binaries to your system PATH to be able to run the `conda` command line tool.\n",
    "\n",
    "\n",
    "2. Install the `jovian` Python library by the running the following command (without the `$`) on your Mac/Linux terminal or Windows command prompt:\n",
    "\n",
    "```\n",
    "$ pip install jovian --upgrade\n",
    "```\n",
    "\n",
    "3. Download the notebook for this tutorial using the `jovian clone` command:\n",
    "\n",
    "```\n",
    "$ jovian clone aakashns/01-pytorch-basics\n",
    "```\n",
    "\n",
    "(You can copy this command to clipboard by clicking the 'Clone' button at the top of this page on Jovian.ml)\n",
    "\n",
    "Running the clone command creates a directory `01-pytorch-basics` containing a Jupyter notebook and an Anaconda environment file.\n",
    "\n",
    "```\n",
    "$ ls 01-pytorch-basics\n",
    "01-pytorch-basics.ipynb  environment.yml\n",
    "```\n",
    "\n",
    "4. Now we can enter the directory and install the required Python libraries (Jupyter, PyTorch etc.) with a single command using `jovian`:\n",
    "\n",
    "```\n",
    "$ cd 01-pytorch-basics\n",
    "$ jovian install\n",
    "```\n",
    "\n",
    "`jovian install` reads the `environment.yml` file, identifies the right dependencies for your operating system, creates a virtual environment with the given name (`01-pytorch-basics` by default) and installs all the required libraries inside the environment, to avoid modifying your system-wide installation of Python. It uses `conda` internally. If you face issues with `jovian install`, try running `conda env update` instead.\n",
    "\n",
    "5. We can activate the virtual environment by running\n",
    "\n",
    "```\n",
    "$ conda activate 01-pytorch-basics\n",
    "```\n",
    "\n",
    "For older installations of `conda`, you might need to run the command: `source activate 01-pytorch-basics`.\n",
    "\n",
    "6. Once the virtual environment is active, we can start Jupyter by running\n",
    "\n",
    "```\n",
    "$ jupyter notebook\n",
    "```\n",
    "\n",
    "7. You can now access Jupyter's web interface by clicking the link that shows up on the terminal or by visiting http://localhost:8888 on your browser. At this point, you can click on the notebook `01-pytorch-basics.ipynb` to open it and run the code. If you want to type out the code yourself, you can also create a new notebook using the 'New' button."
   ]
  },
  {
   "cell_type": "markdown",
   "id": "baeb72e0",
   "metadata": {
    "id": "Gii0hJK4TEG3",
    "papermill": {
     "duration": 0.009357,
     "end_time": "2023-03-12T22:20:43.160375",
     "exception": false,
     "start_time": "2023-03-12T22:20:43.151018",
     "status": "completed"
    },
    "tags": []
   },
   "source": [
    "We begin by importing PyTorch:"
   ]
  },
  {
   "cell_type": "code",
   "execution_count": 3,
   "id": "ec0384c6",
   "metadata": {
    "execution": {
     "iopub.execute_input": "2023-03-12T22:20:43.182134Z",
     "iopub.status.busy": "2023-03-12T22:20:43.181251Z",
     "iopub.status.idle": "2023-03-12T22:20:43.186383Z",
     "shell.execute_reply": "2023-03-12T22:20:43.185058Z"
    },
    "id": "uC494CffTEG4",
    "papermill": {
     "duration": 0.019404,
     "end_time": "2023-03-12T22:20:43.189216",
     "exception": false,
     "start_time": "2023-03-12T22:20:43.169812",
     "status": "completed"
    },
    "tags": []
   },
   "outputs": [],
   "source": [
    "# Uncomment the command below if PyTorch is not installed\n",
    "# !conda install pytorch cpuonly -c pytorch -y"
   ]
  },
  {
   "cell_type": "code",
   "execution_count": 4,
   "id": "873a07bb",
   "metadata": {
    "execution": {
     "iopub.execute_input": "2023-03-12T22:20:43.212056Z",
     "iopub.status.busy": "2023-03-12T22:20:43.211698Z",
     "iopub.status.idle": "2023-03-12T22:20:46.178105Z",
     "shell.execute_reply": "2023-03-12T22:20:46.177325Z"
    },
    "id": "hXMCJplpTEG4",
    "papermill": {
     "duration": 2.980998,
     "end_time": "2023-03-12T22:20:46.180604",
     "exception": false,
     "start_time": "2023-03-12T22:20:43.199606",
     "status": "completed"
    },
    "tags": []
   },
   "outputs": [],
   "source": [
    "import torch"
   ]
  },
  {
   "cell_type": "markdown",
   "id": "30a54559",
   "metadata": {
    "id": "-sWGfix7TEG5",
    "papermill": {
     "duration": 0.010142,
     "end_time": "2023-03-12T22:20:46.200929",
     "exception": false,
     "start_time": "2023-03-12T22:20:46.190787",
     "status": "completed"
    },
    "tags": []
   },
   "source": [
    "## Tensors\n",
    "\n",
    "At its core, PyTorch is a library for processing tensors. A tensor is a number, vector, matrix or any n-dimensional array. Let's create a tensor with a single number:"
   ]
  },
  {
   "cell_type": "code",
   "execution_count": 5,
   "id": "a26539a9",
   "metadata": {
    "execution": {
     "iopub.execute_input": "2023-03-12T22:20:46.223324Z",
     "iopub.status.busy": "2023-03-12T22:20:46.222745Z",
     "iopub.status.idle": "2023-03-12T22:20:46.348174Z",
     "shell.execute_reply": "2023-03-12T22:20:46.346812Z"
    },
    "id": "xFb92nhzTEG5",
    "outputId": "1eb0f917-09a9-4a17-d7b1-31d2dd234b53",
    "papermill": {
     "duration": 0.139318,
     "end_time": "2023-03-12T22:20:46.350508",
     "exception": false,
     "start_time": "2023-03-12T22:20:46.211190",
     "status": "completed"
    },
    "tags": []
   },
   "outputs": [
    {
     "data": {
      "text/plain": [
       "tensor(4.)"
      ]
     },
     "execution_count": 5,
     "metadata": {},
     "output_type": "execute_result"
    }
   ],
   "source": [
    "# Number\n",
    "t1 = torch.tensor(4.)\n",
    "t1"
   ]
  },
  {
   "cell_type": "markdown",
   "id": "6a4c4929",
   "metadata": {
    "id": "RLy-dGxrTEG6",
    "papermill": {
     "duration": 0.010847,
     "end_time": "2023-03-12T22:20:46.371551",
     "exception": false,
     "start_time": "2023-03-12T22:20:46.360704",
     "status": "completed"
    },
    "tags": []
   },
   "source": [
    "`4.` is a shorthand for `4.0`. It is used to indicate to Python (and PyTorch) that you want to create a floating point number. We can verify this by checking the `dtype` attribute of our tensor:"
   ]
  },
  {
   "cell_type": "code",
   "execution_count": 6,
   "id": "057af830",
   "metadata": {
    "execution": {
     "iopub.execute_input": "2023-03-12T22:20:46.395844Z",
     "iopub.status.busy": "2023-03-12T22:20:46.395172Z",
     "iopub.status.idle": "2023-03-12T22:20:46.401155Z",
     "shell.execute_reply": "2023-03-12T22:20:46.400430Z"
    },
    "id": "SjkM0FKmTEG7",
    "outputId": "e8c701a4-34be-4b58-861b-a58c46a6e611",
    "papermill": {
     "duration": 0.019638,
     "end_time": "2023-03-12T22:20:46.403014",
     "exception": false,
     "start_time": "2023-03-12T22:20:46.383376",
     "status": "completed"
    },
    "tags": []
   },
   "outputs": [
    {
     "data": {
      "text/plain": [
       "torch.float32"
      ]
     },
     "execution_count": 6,
     "metadata": {},
     "output_type": "execute_result"
    }
   ],
   "source": [
    "t1.dtype"
   ]
  },
  {
   "cell_type": "markdown",
   "id": "7b6adf55",
   "metadata": {
    "id": "BkO0co7pTEG7",
    "papermill": {
     "duration": 0.010168,
     "end_time": "2023-03-12T22:20:46.423160",
     "exception": false,
     "start_time": "2023-03-12T22:20:46.412992",
     "status": "completed"
    },
    "tags": []
   },
   "source": [
    "Let's try creating slightly more complex tensors:"
   ]
  },
  {
   "cell_type": "code",
   "execution_count": 7,
   "id": "c27d6bb8",
   "metadata": {
    "execution": {
     "iopub.execute_input": "2023-03-12T22:20:46.445622Z",
     "iopub.status.busy": "2023-03-12T22:20:46.444811Z",
     "iopub.status.idle": "2023-03-12T22:20:46.452141Z",
     "shell.execute_reply": "2023-03-12T22:20:46.450846Z"
    },
    "id": "TLhYaVJNTEG8",
    "outputId": "750b3c48-5b7e-4671-b79a-865b659650a1",
    "papermill": {
     "duration": 0.020479,
     "end_time": "2023-03-12T22:20:46.453966",
     "exception": false,
     "start_time": "2023-03-12T22:20:46.433487",
     "status": "completed"
    },
    "tags": []
   },
   "outputs": [
    {
     "data": {
      "text/plain": [
       "tensor([1., 2., 3., 4.])"
      ]
     },
     "execution_count": 7,
     "metadata": {},
     "output_type": "execute_result"
    }
   ],
   "source": [
    "# Vector\n",
    "t2 = torch.tensor([1., 2, 3, 4])\n",
    "t2"
   ]
  },
  {
   "cell_type": "code",
   "execution_count": 8,
   "id": "85bc65e0",
   "metadata": {
    "execution": {
     "iopub.execute_input": "2023-03-12T22:20:46.476114Z",
     "iopub.status.busy": "2023-03-12T22:20:46.475788Z",
     "iopub.status.idle": "2023-03-12T22:20:46.485082Z",
     "shell.execute_reply": "2023-03-12T22:20:46.483378Z"
    },
    "id": "uowwAHICTEG8",
    "outputId": "0a4a4ca7-7536-4d70-efc5-e5b210022784",
    "papermill": {
     "duration": 0.023833,
     "end_time": "2023-03-12T22:20:46.487898",
     "exception": false,
     "start_time": "2023-03-12T22:20:46.464065",
     "status": "completed"
    },
    "tags": []
   },
   "outputs": [
    {
     "data": {
      "text/plain": [
       "tensor([[ 5.,  6.],\n",
       "        [ 7.,  8.],\n",
       "        [ 9., 10.]])"
      ]
     },
     "execution_count": 8,
     "metadata": {},
     "output_type": "execute_result"
    }
   ],
   "source": [
    "# Matrix\n",
    "t3 = torch.tensor([[5., 6], \n",
    "                   [7, 8], \n",
    "                   [9, 10]])\n",
    "t3"
   ]
  },
  {
   "cell_type": "code",
   "execution_count": 9,
   "id": "7e91d31f",
   "metadata": {
    "execution": {
     "iopub.execute_input": "2023-03-12T22:20:46.510704Z",
     "iopub.status.busy": "2023-03-12T22:20:46.510362Z",
     "iopub.status.idle": "2023-03-12T22:20:46.519335Z",
     "shell.execute_reply": "2023-03-12T22:20:46.518610Z"
    },
    "id": "rRwiw-GXTEG9",
    "outputId": "8605866b-5f81-49d5-8958-7997509c2317",
    "papermill": {
     "duration": 0.023118,
     "end_time": "2023-03-12T22:20:46.521214",
     "exception": false,
     "start_time": "2023-03-12T22:20:46.498096",
     "status": "completed"
    },
    "tags": []
   },
   "outputs": [
    {
     "data": {
      "text/plain": [
       "tensor([[[11., 12., 13.],\n",
       "         [13., 14., 15.]],\n",
       "\n",
       "        [[15., 16., 17.],\n",
       "         [17., 18., 19.]]])"
      ]
     },
     "execution_count": 9,
     "metadata": {},
     "output_type": "execute_result"
    }
   ],
   "source": [
    "# 3-dimensional array\n",
    "t4 = torch.tensor([\n",
    "    [[11, 12, 13], \n",
    "     [13, 14, 15]], \n",
    "    [[15, 16, 17], \n",
    "     [17, 18, 19.]]])\n",
    "t4"
   ]
  },
  {
   "cell_type": "markdown",
   "id": "9c4530eb",
   "metadata": {
    "id": "hDATtrwUTEG9",
    "papermill": {
     "duration": 0.010104,
     "end_time": "2023-03-12T22:20:46.541358",
     "exception": false,
     "start_time": "2023-03-12T22:20:46.531254",
     "status": "completed"
    },
    "tags": []
   },
   "source": [
    "Tensors can have any number of dimensions, and different lengths along each dimension. We can inspect the length along each dimension using the `.shape` property of a tensor."
   ]
  },
  {
   "cell_type": "code",
   "execution_count": 10,
   "id": "1a016efe",
   "metadata": {
    "execution": {
     "iopub.execute_input": "2023-03-12T22:20:46.564119Z",
     "iopub.status.busy": "2023-03-12T22:20:46.562456Z",
     "iopub.status.idle": "2023-03-12T22:20:46.572436Z",
     "shell.execute_reply": "2023-03-12T22:20:46.571322Z"
    },
    "id": "eLJHg2PvTEG9",
    "outputId": "e8a1c0ef-ffe9-49d3-ed8b-e3ff6078576a",
    "papermill": {
     "duration": 0.024449,
     "end_time": "2023-03-12T22:20:46.575611",
     "exception": false,
     "start_time": "2023-03-12T22:20:46.551162",
     "status": "completed"
    },
    "tags": []
   },
   "outputs": [
    {
     "name": "stdout",
     "output_type": "stream",
     "text": [
      "tensor(4.)\n"
     ]
    },
    {
     "data": {
      "text/plain": [
       "torch.Size([])"
      ]
     },
     "execution_count": 10,
     "metadata": {},
     "output_type": "execute_result"
    }
   ],
   "source": [
    "print(t1)\n",
    "t1.shape"
   ]
  },
  {
   "cell_type": "code",
   "execution_count": 11,
   "id": "2e700337",
   "metadata": {
    "execution": {
     "iopub.execute_input": "2023-03-12T22:20:46.600577Z",
     "iopub.status.busy": "2023-03-12T22:20:46.600184Z",
     "iopub.status.idle": "2023-03-12T22:20:46.609040Z",
     "shell.execute_reply": "2023-03-12T22:20:46.607175Z"
    },
    "id": "PbBW7GgRTEG-",
    "outputId": "c71f3748-e359-427b-b36c-4172155efe4d",
    "papermill": {
     "duration": 0.024635,
     "end_time": "2023-03-12T22:20:46.611787",
     "exception": false,
     "start_time": "2023-03-12T22:20:46.587152",
     "status": "completed"
    },
    "tags": []
   },
   "outputs": [
    {
     "name": "stdout",
     "output_type": "stream",
     "text": [
      "tensor([1., 2., 3., 4.])\n"
     ]
    },
    {
     "data": {
      "text/plain": [
       "torch.Size([4])"
      ]
     },
     "execution_count": 11,
     "metadata": {},
     "output_type": "execute_result"
    }
   ],
   "source": [
    "print(t2)\n",
    "t2.shape"
   ]
  },
  {
   "cell_type": "code",
   "execution_count": 12,
   "id": "5ebba437",
   "metadata": {
    "execution": {
     "iopub.execute_input": "2023-03-12T22:20:46.639120Z",
     "iopub.status.busy": "2023-03-12T22:20:46.636986Z",
     "iopub.status.idle": "2023-03-12T22:20:46.646985Z",
     "shell.execute_reply": "2023-03-12T22:20:46.646439Z"
    },
    "id": "BzOdDuwFTEG-",
    "outputId": "1ced7e59-2a6a-4716-eb76-275c338783b0",
    "papermill": {
     "duration": 0.025518,
     "end_time": "2023-03-12T22:20:46.648635",
     "exception": false,
     "start_time": "2023-03-12T22:20:46.623117",
     "status": "completed"
    },
    "tags": []
   },
   "outputs": [
    {
     "name": "stdout",
     "output_type": "stream",
     "text": [
      "tensor([[ 5.,  6.],\n",
      "        [ 7.,  8.],\n",
      "        [ 9., 10.]])\n"
     ]
    },
    {
     "data": {
      "text/plain": [
       "torch.Size([3, 2])"
      ]
     },
     "execution_count": 12,
     "metadata": {},
     "output_type": "execute_result"
    }
   ],
   "source": [
    "print(t3)\n",
    "t3.shape"
   ]
  },
  {
   "cell_type": "code",
   "execution_count": 13,
   "id": "72ff705a",
   "metadata": {
    "execution": {
     "iopub.execute_input": "2023-03-12T22:20:46.672426Z",
     "iopub.status.busy": "2023-03-12T22:20:46.672074Z",
     "iopub.status.idle": "2023-03-12T22:20:46.679749Z",
     "shell.execute_reply": "2023-03-12T22:20:46.678699Z"
    },
    "id": "y92zthrhTEG-",
    "outputId": "2087b0c4-b10e-4afa-80b6-adc2bfd25a5a",
    "papermill": {
     "duration": 0.022461,
     "end_time": "2023-03-12T22:20:46.681926",
     "exception": false,
     "start_time": "2023-03-12T22:20:46.659465",
     "status": "completed"
    },
    "tags": []
   },
   "outputs": [
    {
     "name": "stdout",
     "output_type": "stream",
     "text": [
      "tensor([[[11., 12., 13.],\n",
      "         [13., 14., 15.]],\n",
      "\n",
      "        [[15., 16., 17.],\n",
      "         [17., 18., 19.]]])\n"
     ]
    },
    {
     "data": {
      "text/plain": [
       "torch.Size([2, 2, 3])"
      ]
     },
     "execution_count": 13,
     "metadata": {},
     "output_type": "execute_result"
    }
   ],
   "source": [
    "print(t4)\n",
    "t4.shape"
   ]
  },
  {
   "cell_type": "markdown",
   "id": "a642507d",
   "metadata": {
    "id": "mCjDUJy6TEG_",
    "papermill": {
     "duration": 0.011429,
     "end_time": "2023-03-12T22:20:46.705872",
     "exception": false,
     "start_time": "2023-03-12T22:20:46.694443",
     "status": "completed"
    },
    "tags": []
   },
   "source": [
    "## Tensor operations and gradients\n",
    "\n",
    "We can combine tensors with the usual arithmetic operations. Let's look an example:"
   ]
  },
  {
   "cell_type": "code",
   "execution_count": 14,
   "id": "1e6388f3",
   "metadata": {
    "execution": {
     "iopub.execute_input": "2023-03-12T22:20:46.729852Z",
     "iopub.status.busy": "2023-03-12T22:20:46.729529Z",
     "iopub.status.idle": "2023-03-12T22:20:46.740256Z",
     "shell.execute_reply": "2023-03-12T22:20:46.738684Z"
    },
    "id": "c_JEc4PyTEG_",
    "outputId": "1436290c-5374-461f-ca9c-c86dffcf4b6f",
    "papermill": {
     "duration": 0.026053,
     "end_time": "2023-03-12T22:20:46.743003",
     "exception": false,
     "start_time": "2023-03-12T22:20:46.716950",
     "status": "completed"
    },
    "tags": []
   },
   "outputs": [
    {
     "data": {
      "text/plain": [
       "(tensor(3., requires_grad=True),\n",
       " tensor(4., requires_grad=True),\n",
       " tensor(5., requires_grad=True))"
      ]
     },
     "execution_count": 14,
     "metadata": {},
     "output_type": "execute_result"
    }
   ],
   "source": [
    "# Create tensors.\n",
    "x = torch.tensor(3.,requires_grad=True)\n",
    "w = torch.tensor(4., requires_grad=True)\n",
    "b = torch.tensor(5., requires_grad=True)\n",
    "x, w, b"
   ]
  },
  {
   "cell_type": "markdown",
   "id": "72acf538",
   "metadata": {
    "id": "uUzDYoZmTEG_",
    "papermill": {
     "duration": 0.01087,
     "end_time": "2023-03-12T22:20:46.765408",
     "exception": false,
     "start_time": "2023-03-12T22:20:46.754538",
     "status": "completed"
    },
    "tags": []
   },
   "source": [
    "We've created 3 tensors `x`, `w` and `b`, all numbers. `w` and `b` have an additional parameter `requires_grad` set to `True`. We'll see what it does in just a moment. \n",
    "\n",
    "Let's create a new tensor `y` by combining these tensors:"
   ]
  },
  {
   "cell_type": "code",
   "execution_count": 15,
   "id": "9d2a60d6",
   "metadata": {
    "execution": {
     "iopub.execute_input": "2023-03-12T22:20:46.789629Z",
     "iopub.status.busy": "2023-03-12T22:20:46.789302Z",
     "iopub.status.idle": "2023-03-12T22:20:46.805016Z",
     "shell.execute_reply": "2023-03-12T22:20:46.802875Z"
    },
    "id": "KhIQ0WN9TEG_",
    "outputId": "ed2b49fe-1005-48fd-a72c-e72c8db3fe5b",
    "papermill": {
     "duration": 0.031087,
     "end_time": "2023-03-12T22:20:46.807917",
     "exception": false,
     "start_time": "2023-03-12T22:20:46.776830",
     "status": "completed"
    },
    "tags": []
   },
   "outputs": [
    {
     "data": {
      "text/plain": [
       "tensor(17., grad_fn=<AddBackward0>)"
      ]
     },
     "execution_count": 15,
     "metadata": {},
     "output_type": "execute_result"
    }
   ],
   "source": [
    "# Arithmetic operations\n",
    "y = w * x + b\n",
    "y"
   ]
  },
  {
   "cell_type": "markdown",
   "id": "199db908",
   "metadata": {
    "id": "wOVOY-83TEHA",
    "papermill": {
     "duration": 0.010625,
     "end_time": "2023-03-12T22:20:46.830357",
     "exception": false,
     "start_time": "2023-03-12T22:20:46.819732",
     "status": "completed"
    },
    "tags": []
   },
   "source": [
    "As expected, `y` is a tensor with the value `3 * 4 + 5 = 17`. What makes PyTorch special is that we can automatically compute the derivative of `y` w.r.t. the tensors that have `requires_grad` set to `True` i.e. w and b. To compute the derivatives, we can call the `.backward` method on our result `y`."
   ]
  },
  {
   "cell_type": "code",
   "execution_count": 16,
   "id": "4afaff4a",
   "metadata": {
    "execution": {
     "iopub.execute_input": "2023-03-12T22:20:46.854385Z",
     "iopub.status.busy": "2023-03-12T22:20:46.854007Z",
     "iopub.status.idle": "2023-03-12T22:20:46.868455Z",
     "shell.execute_reply": "2023-03-12T22:20:46.866862Z"
    },
    "id": "1VMX__c3TEHA",
    "papermill": {
     "duration": 0.029406,
     "end_time": "2023-03-12T22:20:46.870925",
     "exception": false,
     "start_time": "2023-03-12T22:20:46.841519",
     "status": "completed"
    },
    "tags": []
   },
   "outputs": [],
   "source": [
    "# Compute derivatives\n",
    "y.backward()"
   ]
  },
  {
   "cell_type": "markdown",
   "id": "814d9492",
   "metadata": {
    "id": "SBT3nA0aTEHA",
    "papermill": {
     "duration": 0.010983,
     "end_time": "2023-03-12T22:20:46.893743",
     "exception": false,
     "start_time": "2023-03-12T22:20:46.882760",
     "status": "completed"
    },
    "tags": []
   },
   "source": [
    "The derivates of `y` w.r.t the input tensors are stored in the `.grad` property of the respective tensors."
   ]
  },
  {
   "cell_type": "code",
   "execution_count": 17,
   "id": "1fcea482",
   "metadata": {
    "execution": {
     "iopub.execute_input": "2023-03-12T22:20:46.919483Z",
     "iopub.status.busy": "2023-03-12T22:20:46.919089Z",
     "iopub.status.idle": "2023-03-12T22:20:46.928017Z",
     "shell.execute_reply": "2023-03-12T22:20:46.925710Z"
    },
    "id": "dRitjefXTEHA",
    "outputId": "7f90ddad-2110-4469-b448-e651a9f81ed6",
    "papermill": {
     "duration": 0.025473,
     "end_time": "2023-03-12T22:20:46.930988",
     "exception": false,
     "start_time": "2023-03-12T22:20:46.905515",
     "status": "completed"
    },
    "tags": []
   },
   "outputs": [
    {
     "name": "stdout",
     "output_type": "stream",
     "text": [
      "dy/dx: tensor(4.)\n",
      "dy/dw: tensor(3.)\n",
      "dy/db: tensor(1.)\n"
     ]
    }
   ],
   "source": [
    "# Display gradients\n",
    "print('dy/dx:', x.grad)\n",
    "print('dy/dw:', w.grad)\n",
    "print('dy/db:', b.grad)"
   ]
  },
  {
   "cell_type": "markdown",
   "id": "15a40de7",
   "metadata": {
    "id": "Dln-FLhvTEHB",
    "papermill": {
     "duration": 0.010626,
     "end_time": "2023-03-12T22:20:46.953534",
     "exception": false,
     "start_time": "2023-03-12T22:20:46.942908",
     "status": "completed"
    },
    "tags": []
   },
   "source": [
    "As expected, `dy/dw` has the same value as `x` i.e. `3`, and `dy/db` has the value `1`. Note that `x.grad` is `None`, because `x` doesn't have `requires_grad` set to `True`. \n",
    "\n",
    "The \"grad\" in `w.grad` stands for gradient, which is another term for derivative, used mainly when dealing with matrices. "
   ]
  },
  {
   "cell_type": "markdown",
   "id": "22b26f8f",
   "metadata": {
    "id": "kQbO17UhTEHB",
    "papermill": {
     "duration": 0.010453,
     "end_time": "2023-03-12T22:20:46.974872",
     "exception": false,
     "start_time": "2023-03-12T22:20:46.964419",
     "status": "completed"
    },
    "tags": []
   },
   "source": [
    "## Interoperability with Numpy\n",
    "\n",
    "[Numpy](http://www.numpy.org/) is a popular open source library used for mathematical and scientific computing in Python. It enables efficient operations on large multi-dimensional arrays, and has a large ecosystem of supporting libraries:\n",
    "\n",
    "* [Matplotlib](https://matplotlib.org/) for plotting and visualization\n",
    "* [OpenCV](https://opencv.org/) for image and video processing\n",
    "* [Pandas](https://pandas.pydata.org/) for file I/O and data analysis\n",
    "\n",
    "Instead of reinventing the wheel, PyTorch interoperates really well with Numpy to leverage its existing ecosystem of tools and libraries."
   ]
  },
  {
   "cell_type": "markdown",
   "id": "f8cfa649",
   "metadata": {
    "id": "Pcr_GKBhTEHB",
    "papermill": {
     "duration": 0.010585,
     "end_time": "2023-03-12T22:20:46.996654",
     "exception": false,
     "start_time": "2023-03-12T22:20:46.986069",
     "status": "completed"
    },
    "tags": []
   },
   "source": [
    "Here's how we create an array in Numpy:"
   ]
  },
  {
   "cell_type": "code",
   "execution_count": 18,
   "id": "e62fa64a",
   "metadata": {
    "execution": {
     "iopub.execute_input": "2023-03-12T22:20:47.020039Z",
     "iopub.status.busy": "2023-03-12T22:20:47.019287Z",
     "iopub.status.idle": "2023-03-12T22:20:47.026718Z",
     "shell.execute_reply": "2023-03-12T22:20:47.025766Z"
    },
    "id": "c9J_m7YSTEHB",
    "outputId": "418dff47-865d-4744-9966-1d735d4e03b5",
    "papermill": {
     "duration": 0.021474,
     "end_time": "2023-03-12T22:20:47.028701",
     "exception": false,
     "start_time": "2023-03-12T22:20:47.007227",
     "status": "completed"
    },
    "tags": []
   },
   "outputs": [
    {
     "data": {
      "text/plain": [
       "array([[1., 2.],\n",
       "       [3., 4.]])"
      ]
     },
     "execution_count": 18,
     "metadata": {},
     "output_type": "execute_result"
    }
   ],
   "source": [
    "import numpy as np\n",
    "\n",
    "x = np.array([[1, 2], [3, 4.]])\n",
    "x"
   ]
  },
  {
   "cell_type": "markdown",
   "id": "0e64ec8c",
   "metadata": {
    "id": "sczyTIIZTEHB",
    "papermill": {
     "duration": 0.011293,
     "end_time": "2023-03-12T22:20:47.051470",
     "exception": false,
     "start_time": "2023-03-12T22:20:47.040177",
     "status": "completed"
    },
    "tags": []
   },
   "source": [
    "We can convert a Numpy array to a PyTorch tensor using `torch.from_numpy`."
   ]
  },
  {
   "cell_type": "code",
   "execution_count": 19,
   "id": "a6d4bcb2",
   "metadata": {
    "execution": {
     "iopub.execute_input": "2023-03-12T22:20:47.077718Z",
     "iopub.status.busy": "2023-03-12T22:20:47.077300Z",
     "iopub.status.idle": "2023-03-12T22:20:47.086714Z",
     "shell.execute_reply": "2023-03-12T22:20:47.085348Z"
    },
    "id": "DzxXDQbrTEHC",
    "outputId": "b7f3e253-6d78-40b2-cfd9-5da2f84cdddd",
    "papermill": {
     "duration": 0.026019,
     "end_time": "2023-03-12T22:20:47.089420",
     "exception": false,
     "start_time": "2023-03-12T22:20:47.063401",
     "status": "completed"
    },
    "tags": []
   },
   "outputs": [
    {
     "data": {
      "text/plain": [
       "tensor([[1., 2.],\n",
       "        [3., 4.]], dtype=torch.float64)"
      ]
     },
     "execution_count": 19,
     "metadata": {},
     "output_type": "execute_result"
    }
   ],
   "source": [
    "# Convert the numpy array to a torch tensor.\n",
    "y = torch.from_numpy(x)\n",
    "y"
   ]
  },
  {
   "cell_type": "markdown",
   "id": "5e7b6d3e",
   "metadata": {
    "id": "HGPtVOmzTEHC",
    "papermill": {
     "duration": 0.011461,
     "end_time": "2023-03-12T22:20:47.113107",
     "exception": false,
     "start_time": "2023-03-12T22:20:47.101646",
     "status": "completed"
    },
    "tags": []
   },
   "source": [
    "Let's verify that the numpy array and torch tensor have similar data types."
   ]
  },
  {
   "cell_type": "code",
   "execution_count": 20,
   "id": "2a3a2467",
   "metadata": {
    "execution": {
     "iopub.execute_input": "2023-03-12T22:20:47.138590Z",
     "iopub.status.busy": "2023-03-12T22:20:47.138206Z",
     "iopub.status.idle": "2023-03-12T22:20:47.146764Z",
     "shell.execute_reply": "2023-03-12T22:20:47.145117Z"
    },
    "id": "LJ1fnWCnTEHC",
    "outputId": "4504bc66-50fb-492c-d065-30d8bd0bea40",
    "papermill": {
     "duration": 0.023824,
     "end_time": "2023-03-12T22:20:47.148780",
     "exception": false,
     "start_time": "2023-03-12T22:20:47.124956",
     "status": "completed"
    },
    "tags": []
   },
   "outputs": [
    {
     "data": {
      "text/plain": [
       "(dtype('float64'), torch.float64)"
      ]
     },
     "execution_count": 20,
     "metadata": {},
     "output_type": "execute_result"
    }
   ],
   "source": [
    "x.dtype, y.dtype"
   ]
  },
  {
   "cell_type": "markdown",
   "id": "ffa54ba4",
   "metadata": {
    "id": "eXQaD3_5TEHC",
    "papermill": {
     "duration": 0.011835,
     "end_time": "2023-03-12T22:20:47.172647",
     "exception": false,
     "start_time": "2023-03-12T22:20:47.160812",
     "status": "completed"
    },
    "tags": []
   },
   "source": [
    "We can convert a PyTorch tensor to a Numpy array using the `.numpy` method of a tensor."
   ]
  },
  {
   "cell_type": "code",
   "execution_count": 21,
   "id": "2abf7a0c",
   "metadata": {
    "execution": {
     "iopub.execute_input": "2023-03-12T22:20:47.199966Z",
     "iopub.status.busy": "2023-03-12T22:20:47.199644Z",
     "iopub.status.idle": "2023-03-12T22:20:47.206586Z",
     "shell.execute_reply": "2023-03-12T22:20:47.205065Z"
    },
    "id": "7c30yElaTEHC",
    "outputId": "cf5607b5-3c6d-4156-8f59-617a102e7e03",
    "papermill": {
     "duration": 0.023807,
     "end_time": "2023-03-12T22:20:47.209165",
     "exception": false,
     "start_time": "2023-03-12T22:20:47.185358",
     "status": "completed"
    },
    "tags": []
   },
   "outputs": [
    {
     "data": {
      "text/plain": [
       "array([[1., 2.],\n",
       "       [3., 4.]])"
      ]
     },
     "execution_count": 21,
     "metadata": {},
     "output_type": "execute_result"
    }
   ],
   "source": [
    "# Convert a torch tensor to a numpy array\n",
    "z = y.numpy()\n",
    "z"
   ]
  },
  {
   "cell_type": "markdown",
   "id": "abe6f53a",
   "metadata": {
    "id": "Babr-1DvTEHC",
    "papermill": {
     "duration": 0.011516,
     "end_time": "2023-03-12T22:20:47.233593",
     "exception": false,
     "start_time": "2023-03-12T22:20:47.222077",
     "status": "completed"
    },
    "tags": []
   },
   "source": [
    "The interoperability between PyTorch and Numpy is really important because most datasets you'll work with will likely be read and preprocessed as Numpy arrays."
   ]
  },
  {
   "cell_type": "markdown",
   "id": "93260cae",
   "metadata": {
    "id": "0p0XdV0pTEHD",
    "papermill": {
     "duration": 0.012594,
     "end_time": "2023-03-12T22:20:47.258052",
     "exception": false,
     "start_time": "2023-03-12T22:20:47.245458",
     "status": "completed"
    },
    "tags": []
   },
   "source": [
    "## Commit and upload the notebook\n",
    "\n",
    "As a final step, we can save and commit out work using the `jovian` library."
   ]
  },
  {
   "cell_type": "code",
   "execution_count": 22,
   "id": "57f116ac",
   "metadata": {
    "execution": {
     "iopub.execute_input": "2023-03-12T22:20:47.284306Z",
     "iopub.status.busy": "2023-03-12T22:20:47.283552Z",
     "iopub.status.idle": "2023-03-12T22:20:57.267986Z",
     "shell.execute_reply": "2023-03-12T22:20:57.266068Z"
    },
    "id": "ui5xp8PKTEHD",
    "papermill": {
     "duration": 10.000747,
     "end_time": "2023-03-12T22:20:57.271183",
     "exception": false,
     "start_time": "2023-03-12T22:20:47.270436",
     "status": "completed"
    },
    "tags": []
   },
   "outputs": [
    {
     "name": "stdout",
     "output_type": "stream",
     "text": [
      "\u001b[33mWARNING: Running pip as the 'root' user can result in broken permissions and conflicting behaviour with the system package manager. It is recommended to use a virtual environment instead: https://pip.pypa.io/warnings/venv\u001b[0m\u001b[33m\r\n",
      "\u001b[0m"
     ]
    }
   ],
   "source": [
    "!pip install jovian --upgrade --quiet"
   ]
  },
  {
   "cell_type": "code",
   "execution_count": 23,
   "id": "3e5c5a45",
   "metadata": {
    "execution": {
     "iopub.execute_input": "2023-03-12T22:20:57.298723Z",
     "iopub.status.busy": "2023-03-12T22:20:57.298342Z",
     "iopub.status.idle": "2023-03-12T22:20:57.304107Z",
     "shell.execute_reply": "2023-03-12T22:20:57.302435Z"
    },
    "id": "bnLDgp9lTEHD",
    "papermill": {
     "duration": 0.023541,
     "end_time": "2023-03-12T22:20:57.307169",
     "exception": false,
     "start_time": "2023-03-12T22:20:57.283628",
     "status": "completed"
    },
    "tags": []
   },
   "outputs": [],
   "source": [
    "import jovian"
   ]
  },
  {
   "cell_type": "code",
   "execution_count": 24,
   "id": "5b20f924",
   "metadata": {
    "execution": {
     "iopub.execute_input": "2023-03-12T22:20:57.334519Z",
     "iopub.status.busy": "2023-03-12T22:20:57.333932Z",
     "iopub.status.idle": "2023-03-12T22:20:58.347440Z",
     "shell.execute_reply": "2023-03-12T22:20:58.346301Z"
    },
    "id": "XG9fvndVTEHD",
    "outputId": "fc519d9b-7154-403d-a281-2b1becee83de",
    "papermill": {
     "duration": 1.029603,
     "end_time": "2023-03-12T22:20:58.349317",
     "exception": false,
     "start_time": "2023-03-12T22:20:57.319714",
     "status": "completed"
    },
    "tags": []
   },
   "outputs": [
    {
     "data": {
      "application/javascript": [
       "window.require && require([\"base/js/namespace\"],function(Jupyter){Jupyter.notebook.save_checkpoint()})"
      ],
      "text/plain": [
       "<IPython.core.display.Javascript object>"
      ]
     },
     "metadata": {},
     "output_type": "display_data"
    },
    {
     "data": {
      "application/javascript": [
       "if (window.IPython && IPython.notebook.kernel) IPython.notebook.kernel.execute('jovian.utils.jupyter.get_notebook_name_saved = lambda: \"' + IPython.notebook.notebook_name + '\"')"
      ],
      "text/plain": [
       "<IPython.core.display.Javascript object>"
      ]
     },
     "metadata": {},
     "output_type": "display_data"
    },
    {
     "name": "stderr",
     "output_type": "stream",
     "text": [
      "\u001b[31m[jovian] Error: Failed to read the Jupyter notebook. Please re-run this cell to try again. If the issue persists, provide the \"filename\" argument to \"jovian.commit\" e.g. \"jovian.commit(filename='my-notebook.ipynb')\"\u001b[0m\n"
     ]
    }
   ],
   "source": [
    "jovian.commit()"
   ]
  },
  {
   "cell_type": "markdown",
   "id": "326b0078",
   "metadata": {
    "id": "EQsceEb1TEHD",
    "papermill": {
     "duration": 0.011755,
     "end_time": "2023-03-12T22:20:58.372782",
     "exception": false,
     "start_time": "2023-03-12T22:20:58.361027",
     "status": "completed"
    },
    "tags": []
   },
   "source": [
    "`jovian.commit` uploads the notebook to your [Jovian.ml](https://www.jovian.ml) account, captures the Python environment and creates a sharable link for your notebook as shown above. You can use this link to share your work and let anyone reproduce it easily with the `jovian clone` command. Jovian also includes a powerful commenting interface, so you (and others) can discuss & comment on specific parts of your notebook:\n",
    "\n",
    "![commenting on jovian](https://cdn-images-1.medium.com/max/1600/1*b4snnr_5Ve5Nyq60iDtuuw.png)"
   ]
  },
  {
   "cell_type": "markdown",
   "id": "4c6e076d",
   "metadata": {
    "id": "reguFMcOTEHD",
    "papermill": {
     "duration": 0.01162,
     "end_time": "2023-03-12T22:20:58.396499",
     "exception": false,
     "start_time": "2023-03-12T22:20:58.384879",
     "status": "completed"
    },
    "tags": []
   },
   "source": [
    "## Further Reading\n",
    "\n",
    "Tensors in PyTorch support a variety of operations, and what we've covered here is by no means exhaustive. You can learn more about tensors and tensor operations here: https://pytorch.org/docs/stable/tensors.html\n",
    "\n",
    "You can take advantage of the interactive Jupyter environment to experiment with tensors and try different combinations of operations discussed above. Here are some things to try out:\n",
    "\n",
    "1. What if one or more `x`, `w` or `b` were matrices, instead of numbers, in the above example? What would the result `y` and the gradients `w.grad` and `b.grad` look like in this case?\n",
    "\n",
    "2. What if `y` was a matrix created using `torch.tensor`, with each element of the matrix expressed as a combination of numeric tensors `x`, `w` and `b`?\n",
    "\n",
    "3. What if we had a chain of operations instead of just one i.e. `y = x * w + b`, `z = l * y + m`, `w = c * z + d` and so on? What would calling `w.grad` do?\n",
    "\n",
    "If you're interested, you can learn more about matrix derivates on Wikipedia (although it's not necessary for following along with this series of tutorials): https://en.wikipedia.org/wiki/Matrix_calculus#Derivatives_with_matrices "
   ]
  },
  {
   "cell_type": "markdown",
   "id": "cf0a1c9a",
   "metadata": {
    "id": "yXrOl1nmTEHE",
    "papermill": {
     "duration": 0.011556,
     "end_time": "2023-03-12T22:20:58.419818",
     "exception": false,
     "start_time": "2023-03-12T22:20:58.408262",
     "status": "completed"
    },
    "tags": []
   },
   "source": [
    "With this, we complete our discussion of tensors and gradients in PyTorch, and we're ready to move on to the next topic: *Linear regression*.\n",
    "\n",
    "## Credits\n",
    "\n",
    "The material in this series is heavily inspired by the following resources:\n",
    "\n",
    "1. [PyTorch Tutorial for Deep Learning Researchers](https://github.com/yunjey/pytorch-tutorial) by Yunjey Choi: \n",
    "\n",
    "2. [FastAI development notebooks](https://github.com/fastai/fastai_docs/tree/master/dev_nb) by Jeremy Howard: \n"
   ]
  }
 ],
 "metadata": {
  "kernelspec": {
   "display_name": "Python 3",
   "language": "python",
   "name": "python3"
  },
  "language_info": {
   "codemirror_mode": {
    "name": "ipython",
    "version": 3
   },
   "file_extension": ".py",
   "mimetype": "text/x-python",
   "name": "python",
   "nbconvert_exporter": "python",
   "pygments_lexer": "ipython3",
   "version": "3.7.12"
  },
  "papermill": {
   "default_parameters": {},
   "duration": 40.551392,
   "end_time": "2023-03-12T22:20:59.557942",
   "environment_variables": {},
   "exception": null,
   "input_path": "__notebook__.ipynb",
   "output_path": "__notebook__.ipynb",
   "parameters": {},
   "start_time": "2023-03-12T22:20:19.006550",
   "version": "2.4.0"
  }
 },
 "nbformat": 4,
 "nbformat_minor": 5
}
