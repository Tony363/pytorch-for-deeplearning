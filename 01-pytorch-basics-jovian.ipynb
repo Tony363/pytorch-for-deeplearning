{
 "cells": [
  {
   "cell_type": "code",
   "execution_count": 1,
   "id": "03083234",
   "metadata": {
    "execution": {
     "iopub.execute_input": "2023-03-12T22:51:58.878018Z",
     "iopub.status.busy": "2023-03-12T22:51:58.877352Z",
     "iopub.status.idle": "2023-03-12T22:52:13.842605Z",
     "shell.execute_reply": "2023-03-12T22:52:13.840771Z"
    },
    "papermill": {
     "duration": 14.985251,
     "end_time": "2023-03-12T22:52:13.845967",
     "exception": false,
     "start_time": "2023-03-12T22:51:58.860716",
     "status": "completed"
    },
    "tags": []
   },
   "outputs": [
    {
     "name": "stdout",
     "output_type": "stream",
     "text": [
      "Collecting jovian\r\n",
      "  Downloading jovian-0.2.47-py2.py3-none-any.whl (68 kB)\r\n",
      "\u001b[2K     \u001b[90m━━━━━━━━━━━━━━━━━━━━━━━━━━━━━━━━━━━━━━━━\u001b[0m \u001b[32m68.6/68.6 kB\u001b[0m \u001b[31m2.4 MB/s\u001b[0m eta \u001b[36m0:00:00\u001b[0m\r\n",
      "\u001b[?25hCollecting uuid\r\n",
      "  Downloading uuid-1.30.tar.gz (5.8 kB)\r\n",
      "  Preparing metadata (setup.py) ... \u001b[?25l-\b \bdone\r\n",
      "\u001b[?25hRequirement already satisfied: requests in /opt/conda/lib/python3.7/site-packages (from jovian) (2.28.2)\r\n",
      "Requirement already satisfied: click in /opt/conda/lib/python3.7/site-packages (from jovian) (8.1.3)\r\n",
      "Requirement already satisfied: pyyaml in /opt/conda/lib/python3.7/site-packages (from jovian) (6.0)\r\n",
      "Requirement already satisfied: importlib-metadata in /opt/conda/lib/python3.7/site-packages (from click->jovian) (4.11.4)\r\n",
      "Requirement already satisfied: charset-normalizer<4,>=2 in /opt/conda/lib/python3.7/site-packages (from requests->jovian) (2.1.1)\r\n",
      "Requirement already satisfied: certifi>=2017.4.17 in /opt/conda/lib/python3.7/site-packages (from requests->jovian) (2022.12.7)\r\n",
      "Requirement already satisfied: urllib3<1.27,>=1.21.1 in /opt/conda/lib/python3.7/site-packages (from requests->jovian) (1.26.14)\r\n",
      "Requirement already satisfied: idna<4,>=2.5 in /opt/conda/lib/python3.7/site-packages (from requests->jovian) (3.4)\r\n",
      "Requirement already satisfied: zipp>=0.5 in /opt/conda/lib/python3.7/site-packages (from importlib-metadata->click->jovian) (3.11.0)\r\n",
      "Requirement already satisfied: typing-extensions>=3.6.4 in /opt/conda/lib/python3.7/site-packages (from importlib-metadata->click->jovian) (4.4.0)\r\n",
      "Building wheels for collected packages: uuid\r\n",
      "  Building wheel for uuid (setup.py) ... \u001b[?25l-\b \b\\\b \bdone\r\n",
      "\u001b[?25h  Created wheel for uuid: filename=uuid-1.30-py3-none-any.whl size=6502 sha256=9b449e6367ac87414812ec8fc03b62ab303a8807f2690bf1b3a50846d71284c7\r\n",
      "  Stored in directory: /root/.cache/pip/wheels/1a/86/1f/b98f65eac15e944d5d4d6fafc87e4319d5f01ea5d4c57c3da7\r\n",
      "Successfully built uuid\r\n",
      "Installing collected packages: uuid, jovian\r\n",
      "Successfully installed jovian-0.2.47 uuid-1.30\r\n",
      "\u001b[33mWARNING: Running pip as the 'root' user can result in broken permissions and conflicting behaviour with the system package manager. It is recommended to use a virtual environment instead: https://pip.pypa.io/warnings/venv\u001b[0m\u001b[33m\r\n",
      "\u001b[0m"
     ]
    }
   ],
   "source": [
    "!pip install jovian --upgrade"
   ]
  },
  {
   "cell_type": "code",
   "execution_count": 2,
   "id": "6426ada6",
   "metadata": {
    "execution": {
     "iopub.execute_input": "2023-03-12T22:52:13.873674Z",
     "iopub.status.busy": "2023-03-12T22:52:13.873142Z",
     "iopub.status.idle": "2023-03-12T22:52:15.059447Z",
     "shell.execute_reply": "2023-03-12T22:52:15.057908Z"
    },
    "id": "F-N_nlI0TJ0i",
    "outputId": "7f8f192f-f9a1-4d77-b98e-4ecdd4a61440",
    "papermill": {
     "duration": 1.204147,
     "end_time": "2023-03-12T22:52:15.062818",
     "exception": false,
     "start_time": "2023-03-12T22:52:13.858671",
     "status": "completed"
    },
    "tags": []
   },
   "outputs": [
    {
     "data": {
      "application/javascript": [
       "if (window.IPython && IPython.notebook.kernel) IPython.notebook.kernel.execute('jovian.utils.jupyter.get_notebook_name_saved = lambda: \"' + IPython.notebook.notebook_name + '\"')"
      ],
      "text/plain": [
       "<IPython.core.display.Javascript object>"
      ]
     },
     "metadata": {},
     "output_type": "display_data"
    },
    {
     "data": {
      "application/javascript": [
       "window.require && require([\"base/js/namespace\"],function(Jupyter){Jupyter.notebook.save_checkpoint()})"
      ],
      "text/plain": [
       "<IPython.core.display.Javascript object>"
      ]
     },
     "metadata": {},
     "output_type": "display_data"
    },
    {
     "data": {
      "application/javascript": [
       "if (window.IPython && IPython.notebook.kernel) IPython.notebook.kernel.execute('jovian.utils.jupyter.get_notebook_name_saved = lambda: \"' + IPython.notebook.notebook_name + '\"')"
      ],
      "text/plain": [
       "<IPython.core.display.Javascript object>"
      ]
     },
     "metadata": {},
     "output_type": "display_data"
    },
    {
     "name": "stderr",
     "output_type": "stream",
     "text": [
      "\u001b[31m[jovian] Error: Failed to read the Jupyter notebook. Please re-run this cell to try again. If the issue persists, provide the \"filename\" argument to \"jovian.commit\" e.g. \"jovian.commit(filename='my-notebook.ipynb')\"\u001b[0m\n"
     ]
    }
   ],
   "source": [
    "import jovian\n",
    "\n",
    "jovian.commit()"
   ]
  },
  {
   "cell_type": "markdown",
   "id": "3d563e43",
   "metadata": {
    "id": "wGdTfyfrTEG0",
    "papermill": {
     "duration": 0.012619,
     "end_time": "2023-03-12T22:52:15.089332",
     "exception": false,
     "start_time": "2023-03-12T22:52:15.076713",
     "status": "completed"
    },
    "tags": []
   },
   "source": [
    "# PyTorch Basics: Tensors & Gradients\n",
    "\n",
    "#### *Part 1 of \"Pytorch: Zero to GANs\"*\n",
    "\n",
    "*This post is the first in a series of tutorials on building deep learning models with PyTorch, an open source neural networks library developed and maintained by Facebook. Check out the full series:*\n",
    "\n",
    "1. [PyTorch Basics: Tensors & Gradients](https://jovian.ml/aakashns/01-pytorch-basics)\n",
    "2. [Linear Regression & Gradient Descent](https://jovian.ml/aakashns/02-linear-regression)\n",
    "3. [Image Classfication using Logistic Regression](https://jovian.ml/aakashns/03-logistic-regression) \n",
    "4. [Training Deep Neural Networks on a GPU](https://jovian.ml/aakashns/04-feedforward-nn)\n",
    "5. [Image Classification using Convolutional Neural Networks](https://jovian.ml/aakashns/05-cifar10-cnn)\n",
    "6. [Data Augmentation, Regularization and ResNets](https://jovian.ml/aakashns/05b-cifar10-resnet)\n",
    "7. [Generating Images using Generative Adverserial Networks](https://jovian.ml/aakashns/06-mnist-gan)\n",
    "\n",
    "This series attempts to make PyTorch a bit more approachable for people starting out with deep learning and neural networks. In this notebook, we’ll cover the basic building blocks of PyTorch models: tensors and gradients."
   ]
  },
  {
   "cell_type": "markdown",
   "id": "b7d6219d",
   "metadata": {
    "id": "qQn7IgfGTEG2",
    "papermill": {
     "duration": 0.013397,
     "end_time": "2023-03-12T22:52:15.117750",
     "exception": false,
     "start_time": "2023-03-12T22:52:15.104353",
     "status": "completed"
    },
    "tags": []
   },
   "source": [
    "## System setup\n",
    "\n",
    "This tutorial takes a code-first approach towards learning PyTorch, and you should try to follow along by running and experimenting with the code yourself. The easiest way to start executing this notebook is to click the **\"Run\"** button at the top of this page, and select **\"Run on Binder\"**. This will run the notebook on [mybinder.org](https://mybinder.org), a free online service for running Jupyter notebooks.\n",
    "\n",
    "**NOTE**: *If you're running this notebook on Binder, please skip ahead to the next section.*\n",
    "\n",
    "### Running on your computer locally\n",
    "\n",
    "We'll use the [Anaconda distribution](https://www.anaconda.com/distribution/) of Python to install libraries and manage virtual environments. For interactive coding and experimentation, we'll use [Jupyter notebooks](https://jupyter.org/). All the tutorials in this series are available as Jupyter notebooks hosted on [Jovian.ml](https://www.jovian.ml): a sharing and collaboration platform for Jupyter notebooks & machine learning experiments.\n",
    "\n",
    "Jovian.ml makes it easy to share Jupyter notebooks on the cloud by running a single command directly within Jupyter. It also captures the Python environment and libraries required to run your notebook, so anyone (including you) can reproduce your work.\n",
    "\n",
    "Here's what you need to do to get started:\n",
    "\n",
    "1. Install Anaconda by following the [instructions given here](https://conda.io/projects/conda/en/latest/user-guide/install/index.html). You might also need to add Anaconda binaries to your system PATH to be able to run the `conda` command line tool.\n",
    "\n",
    "\n",
    "2. Install the `jovian` Python library by the running the following command (without the `$`) on your Mac/Linux terminal or Windows command prompt:\n",
    "\n",
    "```\n",
    "$ pip install jovian --upgrade\n",
    "```\n",
    "\n",
    "3. Download the notebook for this tutorial using the `jovian clone` command:\n",
    "\n",
    "```\n",
    "$ jovian clone aakashns/01-pytorch-basics\n",
    "```\n",
    "\n",
    "(You can copy this command to clipboard by clicking the 'Clone' button at the top of this page on Jovian.ml)\n",
    "\n",
    "Running the clone command creates a directory `01-pytorch-basics` containing a Jupyter notebook and an Anaconda environment file.\n",
    "\n",
    "```\n",
    "$ ls 01-pytorch-basics\n",
    "01-pytorch-basics.ipynb  environment.yml\n",
    "```\n",
    "\n",
    "4. Now we can enter the directory and install the required Python libraries (Jupyter, PyTorch etc.) with a single command using `jovian`:\n",
    "\n",
    "```\n",
    "$ cd 01-pytorch-basics\n",
    "$ jovian install\n",
    "```\n",
    "\n",
    "`jovian install` reads the `environment.yml` file, identifies the right dependencies for your operating system, creates a virtual environment with the given name (`01-pytorch-basics` by default) and installs all the required libraries inside the environment, to avoid modifying your system-wide installation of Python. It uses `conda` internally. If you face issues with `jovian install`, try running `conda env update` instead.\n",
    "\n",
    "5. We can activate the virtual environment by running\n",
    "\n",
    "```\n",
    "$ conda activate 01-pytorch-basics\n",
    "```\n",
    "\n",
    "For older installations of `conda`, you might need to run the command: `source activate 01-pytorch-basics`.\n",
    "\n",
    "6. Once the virtual environment is active, we can start Jupyter by running\n",
    "\n",
    "```\n",
    "$ jupyter notebook\n",
    "```\n",
    "\n",
    "7. You can now access Jupyter's web interface by clicking the link that shows up on the terminal or by visiting http://localhost:8888 on your browser. At this point, you can click on the notebook `01-pytorch-basics.ipynb` to open it and run the code. If you want to type out the code yourself, you can also create a new notebook using the 'New' button."
   ]
  },
  {
   "cell_type": "markdown",
   "id": "75608dd3",
   "metadata": {
    "id": "Gii0hJK4TEG3",
    "papermill": {
     "duration": 0.012604,
     "end_time": "2023-03-12T22:52:15.143344",
     "exception": false,
     "start_time": "2023-03-12T22:52:15.130740",
     "status": "completed"
    },
    "tags": []
   },
   "source": [
    "We begin by importing PyTorch:"
   ]
  },
  {
   "cell_type": "code",
   "execution_count": 3,
   "id": "526b6ec4",
   "metadata": {
    "execution": {
     "iopub.execute_input": "2023-03-12T22:52:15.171657Z",
     "iopub.status.busy": "2023-03-12T22:52:15.171197Z",
     "iopub.status.idle": "2023-03-12T22:52:15.177013Z",
     "shell.execute_reply": "2023-03-12T22:52:15.175341Z"
    },
    "id": "uC494CffTEG4",
    "papermill": {
     "duration": 0.023525,
     "end_time": "2023-03-12T22:52:15.179681",
     "exception": false,
     "start_time": "2023-03-12T22:52:15.156156",
     "status": "completed"
    },
    "tags": []
   },
   "outputs": [],
   "source": [
    "# Uncomment the command below if PyTorch is not installed\n",
    "# !conda install pytorch cpuonly -c pytorch -y"
   ]
  },
  {
   "cell_type": "code",
   "execution_count": 4,
   "id": "0c697cfb",
   "metadata": {
    "execution": {
     "iopub.execute_input": "2023-03-12T22:52:15.207675Z",
     "iopub.status.busy": "2023-03-12T22:52:15.207236Z",
     "iopub.status.idle": "2023-03-12T22:52:18.287434Z",
     "shell.execute_reply": "2023-03-12T22:52:18.285929Z"
    },
    "id": "hXMCJplpTEG4",
    "papermill": {
     "duration": 3.098428,
     "end_time": "2023-03-12T22:52:18.291088",
     "exception": false,
     "start_time": "2023-03-12T22:52:15.192660",
     "status": "completed"
    },
    "tags": []
   },
   "outputs": [],
   "source": [
    "import torch"
   ]
  },
  {
   "cell_type": "markdown",
   "id": "dbbffc35",
   "metadata": {
    "id": "-sWGfix7TEG5",
    "papermill": {
     "duration": 0.012542,
     "end_time": "2023-03-12T22:52:18.316901",
     "exception": false,
     "start_time": "2023-03-12T22:52:18.304359",
     "status": "completed"
    },
    "tags": []
   },
   "source": [
    "## Tensors\n",
    "\n",
    "At its core, PyTorch is a library for processing tensors. A tensor is a number, vector, matrix or any n-dimensional array. Let's create a tensor with a single number:"
   ]
  },
  {
   "cell_type": "code",
   "execution_count": 5,
   "id": "73f62075",
   "metadata": {
    "execution": {
     "iopub.execute_input": "2023-03-12T22:52:18.346637Z",
     "iopub.status.busy": "2023-03-12T22:52:18.345863Z",
     "iopub.status.idle": "2023-03-12T22:52:18.453926Z",
     "shell.execute_reply": "2023-03-12T22:52:18.452300Z"
    },
    "id": "xFb92nhzTEG5",
    "outputId": "1eb0f917-09a9-4a17-d7b1-31d2dd234b53",
    "papermill": {
     "duration": 0.12684,
     "end_time": "2023-03-12T22:52:18.456923",
     "exception": false,
     "start_time": "2023-03-12T22:52:18.330083",
     "status": "completed"
    },
    "tags": []
   },
   "outputs": [
    {
     "data": {
      "text/plain": [
       "tensor(4.)"
      ]
     },
     "execution_count": 5,
     "metadata": {},
     "output_type": "execute_result"
    }
   ],
   "source": [
    "# Number\n",
    "t1 = torch.tensor(4.)\n",
    "t1"
   ]
  },
  {
   "cell_type": "markdown",
   "id": "5673aa8c",
   "metadata": {
    "id": "RLy-dGxrTEG6",
    "papermill": {
     "duration": 0.012553,
     "end_time": "2023-03-12T22:52:18.482596",
     "exception": false,
     "start_time": "2023-03-12T22:52:18.470043",
     "status": "completed"
    },
    "tags": []
   },
   "source": [
    "`4.` is a shorthand for `4.0`. It is used to indicate to Python (and PyTorch) that you want to create a floating point number. We can verify this by checking the `dtype` attribute of our tensor:"
   ]
  },
  {
   "cell_type": "code",
   "execution_count": 6,
   "id": "fe6cc1e8",
   "metadata": {
    "execution": {
     "iopub.execute_input": "2023-03-12T22:52:18.511888Z",
     "iopub.status.busy": "2023-03-12T22:52:18.511409Z",
     "iopub.status.idle": "2023-03-12T22:52:18.519371Z",
     "shell.execute_reply": "2023-03-12T22:52:18.518046Z"
    },
    "id": "SjkM0FKmTEG7",
    "outputId": "e8c701a4-34be-4b58-861b-a58c46a6e611",
    "papermill": {
     "duration": 0.026026,
     "end_time": "2023-03-12T22:52:18.521751",
     "exception": false,
     "start_time": "2023-03-12T22:52:18.495725",
     "status": "completed"
    },
    "tags": []
   },
   "outputs": [
    {
     "data": {
      "text/plain": [
       "torch.float32"
      ]
     },
     "execution_count": 6,
     "metadata": {},
     "output_type": "execute_result"
    }
   ],
   "source": [
    "t1.dtype"
   ]
  },
  {
   "cell_type": "markdown",
   "id": "d492e510",
   "metadata": {
    "id": "BkO0co7pTEG7",
    "papermill": {
     "duration": 0.012712,
     "end_time": "2023-03-12T22:52:18.547237",
     "exception": false,
     "start_time": "2023-03-12T22:52:18.534525",
     "status": "completed"
    },
    "tags": []
   },
   "source": [
    "Let's try creating slightly more complex tensors:"
   ]
  },
  {
   "cell_type": "code",
   "execution_count": 7,
   "id": "39e235b3",
   "metadata": {
    "execution": {
     "iopub.execute_input": "2023-03-12T22:52:18.575583Z",
     "iopub.status.busy": "2023-03-12T22:52:18.574879Z",
     "iopub.status.idle": "2023-03-12T22:52:18.583354Z",
     "shell.execute_reply": "2023-03-12T22:52:18.582159Z"
    },
    "id": "TLhYaVJNTEG8",
    "outputId": "750b3c48-5b7e-4671-b79a-865b659650a1",
    "papermill": {
     "duration": 0.025331,
     "end_time": "2023-03-12T22:52:18.585695",
     "exception": false,
     "start_time": "2023-03-12T22:52:18.560364",
     "status": "completed"
    },
    "tags": []
   },
   "outputs": [
    {
     "data": {
      "text/plain": [
       "tensor([1., 2., 3., 4.])"
      ]
     },
     "execution_count": 7,
     "metadata": {},
     "output_type": "execute_result"
    }
   ],
   "source": [
    "# Vector\n",
    "t2 = torch.tensor([1., 2, 3, 4])\n",
    "t2"
   ]
  },
  {
   "cell_type": "code",
   "execution_count": 8,
   "id": "8f286e41",
   "metadata": {
    "execution": {
     "iopub.execute_input": "2023-03-12T22:52:18.614394Z",
     "iopub.status.busy": "2023-03-12T22:52:18.613409Z",
     "iopub.status.idle": "2023-03-12T22:52:18.622934Z",
     "shell.execute_reply": "2023-03-12T22:52:18.621733Z"
    },
    "id": "uowwAHICTEG8",
    "outputId": "0a4a4ca7-7536-4d70-efc5-e5b210022784",
    "papermill": {
     "duration": 0.027067,
     "end_time": "2023-03-12T22:52:18.625514",
     "exception": false,
     "start_time": "2023-03-12T22:52:18.598447",
     "status": "completed"
    },
    "tags": []
   },
   "outputs": [
    {
     "data": {
      "text/plain": [
       "tensor([[ 5.,  6.],\n",
       "        [ 7.,  8.],\n",
       "        [ 9., 10.]])"
      ]
     },
     "execution_count": 8,
     "metadata": {},
     "output_type": "execute_result"
    }
   ],
   "source": [
    "# Matrix\n",
    "t3 = torch.tensor([[5., 6], \n",
    "                   [7, 8], \n",
    "                   [9, 10]])\n",
    "t3"
   ]
  },
  {
   "cell_type": "code",
   "execution_count": 9,
   "id": "887739c6",
   "metadata": {
    "execution": {
     "iopub.execute_input": "2023-03-12T22:52:18.653778Z",
     "iopub.status.busy": "2023-03-12T22:52:18.653129Z",
     "iopub.status.idle": "2023-03-12T22:52:18.663148Z",
     "shell.execute_reply": "2023-03-12T22:52:18.661637Z"
    },
    "id": "rRwiw-GXTEG9",
    "outputId": "8605866b-5f81-49d5-8958-7997509c2317",
    "papermill": {
     "duration": 0.026994,
     "end_time": "2023-03-12T22:52:18.665464",
     "exception": false,
     "start_time": "2023-03-12T22:52:18.638470",
     "status": "completed"
    },
    "tags": []
   },
   "outputs": [
    {
     "data": {
      "text/plain": [
       "tensor([[[11., 12., 13.],\n",
       "         [13., 14., 15.]],\n",
       "\n",
       "        [[15., 16., 17.],\n",
       "         [17., 18., 19.]]])"
      ]
     },
     "execution_count": 9,
     "metadata": {},
     "output_type": "execute_result"
    }
   ],
   "source": [
    "# 3-dimensional array\n",
    "t4 = torch.tensor([\n",
    "    [[11, 12, 13], \n",
    "     [13, 14, 15]], \n",
    "    [[15, 16, 17], \n",
    "     [17, 18, 19.]]])\n",
    "t4"
   ]
  },
  {
   "cell_type": "markdown",
   "id": "5214ce1a",
   "metadata": {
    "id": "hDATtrwUTEG9",
    "papermill": {
     "duration": 0.013631,
     "end_time": "2023-03-12T22:52:18.692224",
     "exception": false,
     "start_time": "2023-03-12T22:52:18.678593",
     "status": "completed"
    },
    "tags": []
   },
   "source": [
    "Tensors can have any number of dimensions, and different lengths along each dimension. We can inspect the length along each dimension using the `.shape` property of a tensor."
   ]
  },
  {
   "cell_type": "code",
   "execution_count": 10,
   "id": "6ed03f7f",
   "metadata": {
    "execution": {
     "iopub.execute_input": "2023-03-12T22:52:18.723588Z",
     "iopub.status.busy": "2023-03-12T22:52:18.722287Z",
     "iopub.status.idle": "2023-03-12T22:52:18.731409Z",
     "shell.execute_reply": "2023-03-12T22:52:18.729920Z"
    },
    "id": "eLJHg2PvTEG9",
    "outputId": "e8a1c0ef-ffe9-49d3-ed8b-e3ff6078576a",
    "papermill": {
     "duration": 0.029004,
     "end_time": "2023-03-12T22:52:18.734657",
     "exception": false,
     "start_time": "2023-03-12T22:52:18.705653",
     "status": "completed"
    },
    "tags": []
   },
   "outputs": [
    {
     "name": "stdout",
     "output_type": "stream",
     "text": [
      "tensor(4.)\n"
     ]
    },
    {
     "data": {
      "text/plain": [
       "torch.Size([])"
      ]
     },
     "execution_count": 10,
     "metadata": {},
     "output_type": "execute_result"
    }
   ],
   "source": [
    "print(t1)\n",
    "t1.shape"
   ]
  },
  {
   "cell_type": "code",
   "execution_count": 11,
   "id": "e761c4ab",
   "metadata": {
    "execution": {
     "iopub.execute_input": "2023-03-12T22:52:18.766169Z",
     "iopub.status.busy": "2023-03-12T22:52:18.764433Z",
     "iopub.status.idle": "2023-03-12T22:52:18.775429Z",
     "shell.execute_reply": "2023-03-12T22:52:18.773524Z"
    },
    "id": "PbBW7GgRTEG-",
    "outputId": "c71f3748-e359-427b-b36c-4172155efe4d",
    "papermill": {
     "duration": 0.030386,
     "end_time": "2023-03-12T22:52:18.778629",
     "exception": false,
     "start_time": "2023-03-12T22:52:18.748243",
     "status": "completed"
    },
    "tags": []
   },
   "outputs": [
    {
     "name": "stdout",
     "output_type": "stream",
     "text": [
      "tensor([1., 2., 3., 4.])\n"
     ]
    },
    {
     "data": {
      "text/plain": [
       "torch.Size([4])"
      ]
     },
     "execution_count": 11,
     "metadata": {},
     "output_type": "execute_result"
    }
   ],
   "source": [
    "print(t2)\n",
    "t2.shape"
   ]
  },
  {
   "cell_type": "code",
   "execution_count": 12,
   "id": "29bc959a",
   "metadata": {
    "execution": {
     "iopub.execute_input": "2023-03-12T22:52:18.808924Z",
     "iopub.status.busy": "2023-03-12T22:52:18.808460Z",
     "iopub.status.idle": "2023-03-12T22:52:18.819914Z",
     "shell.execute_reply": "2023-03-12T22:52:18.818603Z"
    },
    "id": "BzOdDuwFTEG-",
    "outputId": "1ced7e59-2a6a-4716-eb76-275c338783b0",
    "papermill": {
     "duration": 0.030345,
     "end_time": "2023-03-12T22:52:18.823092",
     "exception": false,
     "start_time": "2023-03-12T22:52:18.792747",
     "status": "completed"
    },
    "tags": []
   },
   "outputs": [
    {
     "name": "stdout",
     "output_type": "stream",
     "text": [
      "tensor([[ 5.,  6.],\n",
      "        [ 7.,  8.],\n",
      "        [ 9., 10.]])\n"
     ]
    },
    {
     "data": {
      "text/plain": [
       "torch.Size([3, 2])"
      ]
     },
     "execution_count": 12,
     "metadata": {},
     "output_type": "execute_result"
    }
   ],
   "source": [
    "print(t3)\n",
    "t3.shape"
   ]
  },
  {
   "cell_type": "code",
   "execution_count": 13,
   "id": "d48adbc3",
   "metadata": {
    "execution": {
     "iopub.execute_input": "2023-03-12T22:52:18.853883Z",
     "iopub.status.busy": "2023-03-12T22:52:18.853429Z",
     "iopub.status.idle": "2023-03-12T22:52:18.865452Z",
     "shell.execute_reply": "2023-03-12T22:52:18.863666Z"
    },
    "id": "y92zthrhTEG-",
    "outputId": "2087b0c4-b10e-4afa-80b6-adc2bfd25a5a",
    "papermill": {
     "duration": 0.030438,
     "end_time": "2023-03-12T22:52:18.868225",
     "exception": false,
     "start_time": "2023-03-12T22:52:18.837787",
     "status": "completed"
    },
    "tags": []
   },
   "outputs": [
    {
     "name": "stdout",
     "output_type": "stream",
     "text": [
      "tensor([[[11., 12., 13.],\n",
      "         [13., 14., 15.]],\n",
      "\n",
      "        [[15., 16., 17.],\n",
      "         [17., 18., 19.]]])\n"
     ]
    },
    {
     "data": {
      "text/plain": [
       "torch.Size([2, 2, 3])"
      ]
     },
     "execution_count": 13,
     "metadata": {},
     "output_type": "execute_result"
    }
   ],
   "source": [
    "print(t4)\n",
    "t4.shape"
   ]
  },
  {
   "cell_type": "markdown",
   "id": "e24b1a1b",
   "metadata": {
    "id": "mCjDUJy6TEG_",
    "papermill": {
     "duration": 0.013701,
     "end_time": "2023-03-12T22:52:18.896308",
     "exception": false,
     "start_time": "2023-03-12T22:52:18.882607",
     "status": "completed"
    },
    "tags": []
   },
   "source": [
    "## Tensor operations and gradients\n",
    "\n",
    "We can combine tensors with the usual arithmetic operations. Let's look an example:"
   ]
  },
  {
   "cell_type": "code",
   "execution_count": 14,
   "id": "6c06d5d7",
   "metadata": {
    "execution": {
     "iopub.execute_input": "2023-03-12T22:52:18.926415Z",
     "iopub.status.busy": "2023-03-12T22:52:18.925907Z",
     "iopub.status.idle": "2023-03-12T22:52:18.936573Z",
     "shell.execute_reply": "2023-03-12T22:52:18.935520Z"
    },
    "id": "c_JEc4PyTEG_",
    "outputId": "1436290c-5374-461f-ca9c-c86dffcf4b6f",
    "papermill": {
     "duration": 0.028985,
     "end_time": "2023-03-12T22:52:18.939133",
     "exception": false,
     "start_time": "2023-03-12T22:52:18.910148",
     "status": "completed"
    },
    "tags": []
   },
   "outputs": [
    {
     "data": {
      "text/plain": [
       "(tensor(3., requires_grad=True),\n",
       " tensor(4., requires_grad=True),\n",
       " tensor(5., requires_grad=True))"
      ]
     },
     "execution_count": 14,
     "metadata": {},
     "output_type": "execute_result"
    }
   ],
   "source": [
    "# Create tensors.\n",
    "x = torch.tensor(3.,requires_grad=True)\n",
    "w = torch.tensor(4., requires_grad=True)\n",
    "b = torch.tensor(5., requires_grad=True)\n",
    "x, w, b"
   ]
  },
  {
   "cell_type": "markdown",
   "id": "b55430bf",
   "metadata": {
    "id": "uUzDYoZmTEG_",
    "papermill": {
     "duration": 0.014076,
     "end_time": "2023-03-12T22:52:18.967249",
     "exception": false,
     "start_time": "2023-03-12T22:52:18.953173",
     "status": "completed"
    },
    "tags": []
   },
   "source": [
    "We've created 3 tensors `x`, `w` and `b`, all numbers. `w` and `b` have an additional parameter `requires_grad` set to `True`. We'll see what it does in just a moment. \n",
    "\n",
    "Let's create a new tensor `y` by combining these tensors:"
   ]
  },
  {
   "cell_type": "code",
   "execution_count": 15,
   "id": "c293bb5e",
   "metadata": {
    "execution": {
     "iopub.execute_input": "2023-03-12T22:52:18.997853Z",
     "iopub.status.busy": "2023-03-12T22:52:18.997326Z",
     "iopub.status.idle": "2023-03-12T22:52:19.012381Z",
     "shell.execute_reply": "2023-03-12T22:52:19.011264Z"
    },
    "id": "KhIQ0WN9TEG_",
    "outputId": "ed2b49fe-1005-48fd-a72c-e72c8db3fe5b",
    "papermill": {
     "duration": 0.03372,
     "end_time": "2023-03-12T22:52:19.014997",
     "exception": false,
     "start_time": "2023-03-12T22:52:18.981277",
     "status": "completed"
    },
    "tags": []
   },
   "outputs": [
    {
     "data": {
      "text/plain": [
       "tensor(17., grad_fn=<AddBackward0>)"
      ]
     },
     "execution_count": 15,
     "metadata": {},
     "output_type": "execute_result"
    }
   ],
   "source": [
    "# Arithmetic operations\n",
    "y = w * x + b\n",
    "y"
   ]
  },
  {
   "cell_type": "markdown",
   "id": "67ecf3c2",
   "metadata": {
    "id": "wOVOY-83TEHA",
    "papermill": {
     "duration": 0.014564,
     "end_time": "2023-03-12T22:52:19.044387",
     "exception": false,
     "start_time": "2023-03-12T22:52:19.029823",
     "status": "completed"
    },
    "tags": []
   },
   "source": [
    "As expected, `y` is a tensor with the value `3 * 4 + 5 = 17`. What makes PyTorch special is that we can automatically compute the derivative of `y` w.r.t. the tensors that have `requires_grad` set to `True` i.e. w and b. To compute the derivatives, we can call the `.backward` method on our result `y`."
   ]
  },
  {
   "cell_type": "code",
   "execution_count": 16,
   "id": "bb809321",
   "metadata": {
    "execution": {
     "iopub.execute_input": "2023-03-12T22:52:19.076071Z",
     "iopub.status.busy": "2023-03-12T22:52:19.075569Z",
     "iopub.status.idle": "2023-03-12T22:52:19.089447Z",
     "shell.execute_reply": "2023-03-12T22:52:19.088242Z"
    },
    "id": "1VMX__c3TEHA",
    "papermill": {
     "duration": 0.033608,
     "end_time": "2023-03-12T22:52:19.092495",
     "exception": false,
     "start_time": "2023-03-12T22:52:19.058887",
     "status": "completed"
    },
    "tags": []
   },
   "outputs": [],
   "source": [
    "# Compute derivatives\n",
    "y.backward()"
   ]
  },
  {
   "cell_type": "markdown",
   "id": "771e625d",
   "metadata": {
    "id": "SBT3nA0aTEHA",
    "papermill": {
     "duration": 0.013921,
     "end_time": "2023-03-12T22:52:19.121106",
     "exception": false,
     "start_time": "2023-03-12T22:52:19.107185",
     "status": "completed"
    },
    "tags": []
   },
   "source": [
    "The derivates of `y` w.r.t the input tensors are stored in the `.grad` property of the respective tensors."
   ]
  },
  {
   "cell_type": "code",
   "execution_count": 17,
   "id": "0894f2a8",
   "metadata": {
    "execution": {
     "iopub.execute_input": "2023-03-12T22:52:19.152352Z",
     "iopub.status.busy": "2023-03-12T22:52:19.151899Z",
     "iopub.status.idle": "2023-03-12T22:52:19.160746Z",
     "shell.execute_reply": "2023-03-12T22:52:19.159063Z"
    },
    "id": "dRitjefXTEHA",
    "outputId": "7f90ddad-2110-4469-b448-e651a9f81ed6",
    "papermill": {
     "duration": 0.028471,
     "end_time": "2023-03-12T22:52:19.164070",
     "exception": false,
     "start_time": "2023-03-12T22:52:19.135599",
     "status": "completed"
    },
    "tags": []
   },
   "outputs": [
    {
     "name": "stdout",
     "output_type": "stream",
     "text": [
      "dy/dx: tensor(4.)\n",
      "dy/dw: tensor(3.)\n",
      "dy/db: tensor(1.)\n"
     ]
    }
   ],
   "source": [
    "# Display gradients\n",
    "print('dy/dx:', x.grad)\n",
    "print('dy/dw:', w.grad)\n",
    "print('dy/db:', b.grad)"
   ]
  },
  {
   "cell_type": "markdown",
   "id": "0501b84e",
   "metadata": {
    "id": "Dln-FLhvTEHB",
    "papermill": {
     "duration": 0.014331,
     "end_time": "2023-03-12T22:52:19.193157",
     "exception": false,
     "start_time": "2023-03-12T22:52:19.178826",
     "status": "completed"
    },
    "tags": []
   },
   "source": [
    "As expected, `dy/dw` has the same value as `x` i.e. `3`, and `dy/db` has the value `1`. Note that `x.grad` is `None`, because `x` doesn't have `requires_grad` set to `True`. \n",
    "\n",
    "The \"grad\" in `w.grad` stands for gradient, which is another term for derivative, used mainly when dealing with matrices. "
   ]
  },
  {
   "cell_type": "markdown",
   "id": "9c6f2794",
   "metadata": {
    "id": "kQbO17UhTEHB",
    "papermill": {
     "duration": 0.016421,
     "end_time": "2023-03-12T22:52:19.223831",
     "exception": false,
     "start_time": "2023-03-12T22:52:19.207410",
     "status": "completed"
    },
    "tags": []
   },
   "source": [
    "## Interoperability with Numpy\n",
    "\n",
    "[Numpy](http://www.numpy.org/) is a popular open source library used for mathematical and scientific computing in Python. It enables efficient operations on large multi-dimensional arrays, and has a large ecosystem of supporting libraries:\n",
    "\n",
    "* [Matplotlib](https://matplotlib.org/) for plotting and visualization\n",
    "* [OpenCV](https://opencv.org/) for image and video processing\n",
    "* [Pandas](https://pandas.pydata.org/) for file I/O and data analysis\n",
    "\n",
    "Instead of reinventing the wheel, PyTorch interoperates really well with Numpy to leverage its existing ecosystem of tools and libraries."
   ]
  },
  {
   "cell_type": "markdown",
   "id": "6a91d2a0",
   "metadata": {
    "id": "Pcr_GKBhTEHB",
    "papermill": {
     "duration": 0.014489,
     "end_time": "2023-03-12T22:52:19.252803",
     "exception": false,
     "start_time": "2023-03-12T22:52:19.238314",
     "status": "completed"
    },
    "tags": []
   },
   "source": [
    "Here's how we create an array in Numpy:"
   ]
  },
  {
   "cell_type": "code",
   "execution_count": 18,
   "id": "7b259510",
   "metadata": {
    "execution": {
     "iopub.execute_input": "2023-03-12T22:52:19.282830Z",
     "iopub.status.busy": "2023-03-12T22:52:19.282440Z",
     "iopub.status.idle": "2023-03-12T22:52:19.290717Z",
     "shell.execute_reply": "2023-03-12T22:52:19.289453Z"
    },
    "id": "c9J_m7YSTEHB",
    "outputId": "418dff47-865d-4744-9966-1d735d4e03b5",
    "papermill": {
     "duration": 0.026199,
     "end_time": "2023-03-12T22:52:19.293089",
     "exception": false,
     "start_time": "2023-03-12T22:52:19.266890",
     "status": "completed"
    },
    "tags": []
   },
   "outputs": [
    {
     "data": {
      "text/plain": [
       "array([[1., 2.],\n",
       "       [3., 4.]])"
      ]
     },
     "execution_count": 18,
     "metadata": {},
     "output_type": "execute_result"
    }
   ],
   "source": [
    "import numpy as np\n",
    "\n",
    "x = np.array([[1, 2], [3, 4.]])\n",
    "x"
   ]
  },
  {
   "cell_type": "markdown",
   "id": "5d365798",
   "metadata": {
    "id": "sczyTIIZTEHB",
    "papermill": {
     "duration": 0.014064,
     "end_time": "2023-03-12T22:52:19.322260",
     "exception": false,
     "start_time": "2023-03-12T22:52:19.308196",
     "status": "completed"
    },
    "tags": []
   },
   "source": [
    "We can convert a Numpy array to a PyTorch tensor using `torch.from_numpy`."
   ]
  },
  {
   "cell_type": "code",
   "execution_count": 19,
   "id": "26e60e87",
   "metadata": {
    "execution": {
     "iopub.execute_input": "2023-03-12T22:52:19.353320Z",
     "iopub.status.busy": "2023-03-12T22:52:19.352826Z",
     "iopub.status.idle": "2023-03-12T22:52:19.362292Z",
     "shell.execute_reply": "2023-03-12T22:52:19.361057Z"
    },
    "id": "DzxXDQbrTEHC",
    "outputId": "b7f3e253-6d78-40b2-cfd9-5da2f84cdddd",
    "papermill": {
     "duration": 0.02821,
     "end_time": "2023-03-12T22:52:19.364799",
     "exception": false,
     "start_time": "2023-03-12T22:52:19.336589",
     "status": "completed"
    },
    "tags": []
   },
   "outputs": [
    {
     "data": {
      "text/plain": [
       "tensor([[1., 2.],\n",
       "        [3., 4.]], dtype=torch.float64)"
      ]
     },
     "execution_count": 19,
     "metadata": {},
     "output_type": "execute_result"
    }
   ],
   "source": [
    "# Convert the numpy array to a torch tensor.\n",
    "y = torch.from_numpy(x)\n",
    "y"
   ]
  },
  {
   "cell_type": "markdown",
   "id": "fb5f1815",
   "metadata": {
    "id": "HGPtVOmzTEHC",
    "papermill": {
     "duration": 0.014592,
     "end_time": "2023-03-12T22:52:19.394928",
     "exception": false,
     "start_time": "2023-03-12T22:52:19.380336",
     "status": "completed"
    },
    "tags": []
   },
   "source": [
    "Let's verify that the numpy array and torch tensor have similar data types."
   ]
  },
  {
   "cell_type": "code",
   "execution_count": 20,
   "id": "da08f1d3",
   "metadata": {
    "execution": {
     "iopub.execute_input": "2023-03-12T22:52:19.428159Z",
     "iopub.status.busy": "2023-03-12T22:52:19.427666Z",
     "iopub.status.idle": "2023-03-12T22:52:19.435374Z",
     "shell.execute_reply": "2023-03-12T22:52:19.434028Z"
    },
    "id": "LJ1fnWCnTEHC",
    "outputId": "4504bc66-50fb-492c-d065-30d8bd0bea40",
    "papermill": {
     "duration": 0.027217,
     "end_time": "2023-03-12T22:52:19.437839",
     "exception": false,
     "start_time": "2023-03-12T22:52:19.410622",
     "status": "completed"
    },
    "tags": []
   },
   "outputs": [
    {
     "data": {
      "text/plain": [
       "(dtype('float64'), torch.float64)"
      ]
     },
     "execution_count": 20,
     "metadata": {},
     "output_type": "execute_result"
    }
   ],
   "source": [
    "x.dtype, y.dtype"
   ]
  },
  {
   "cell_type": "markdown",
   "id": "092252f9",
   "metadata": {
    "id": "eXQaD3_5TEHC",
    "papermill": {
     "duration": 0.015334,
     "end_time": "2023-03-12T22:52:19.468722",
     "exception": false,
     "start_time": "2023-03-12T22:52:19.453388",
     "status": "completed"
    },
    "tags": []
   },
   "source": [
    "We can convert a PyTorch tensor to a Numpy array using the `.numpy` method of a tensor."
   ]
  },
  {
   "cell_type": "code",
   "execution_count": 21,
   "id": "a0bb4917",
   "metadata": {
    "execution": {
     "iopub.execute_input": "2023-03-12T22:52:19.500700Z",
     "iopub.status.busy": "2023-03-12T22:52:19.500269Z",
     "iopub.status.idle": "2023-03-12T22:52:19.508343Z",
     "shell.execute_reply": "2023-03-12T22:52:19.507086Z"
    },
    "id": "7c30yElaTEHC",
    "outputId": "cf5607b5-3c6d-4156-8f59-617a102e7e03",
    "papermill": {
     "duration": 0.027897,
     "end_time": "2023-03-12T22:52:19.511398",
     "exception": false,
     "start_time": "2023-03-12T22:52:19.483501",
     "status": "completed"
    },
    "tags": []
   },
   "outputs": [
    {
     "data": {
      "text/plain": [
       "array([[1., 2.],\n",
       "       [3., 4.]])"
      ]
     },
     "execution_count": 21,
     "metadata": {},
     "output_type": "execute_result"
    }
   ],
   "source": [
    "# Convert a torch tensor to a numpy array\n",
    "z = y.numpy()\n",
    "z"
   ]
  },
  {
   "cell_type": "markdown",
   "id": "0a7582cf",
   "metadata": {
    "id": "Babr-1DvTEHC",
    "papermill": {
     "duration": 0.014595,
     "end_time": "2023-03-12T22:52:19.540960",
     "exception": false,
     "start_time": "2023-03-12T22:52:19.526365",
     "status": "completed"
    },
    "tags": []
   },
   "source": [
    "The interoperability between PyTorch and Numpy is really important because most datasets you'll work with will likely be read and preprocessed as Numpy arrays."
   ]
  },
  {
   "cell_type": "markdown",
   "id": "3dec5e9e",
   "metadata": {
    "id": "0p0XdV0pTEHD",
    "papermill": {
     "duration": 0.015122,
     "end_time": "2023-03-12T22:52:19.572258",
     "exception": false,
     "start_time": "2023-03-12T22:52:19.557136",
     "status": "completed"
    },
    "tags": []
   },
   "source": [
    "## Commit and upload the notebook\n",
    "\n",
    "As a final step, we can save and commit out work using the `jovian` library."
   ]
  },
  {
   "cell_type": "code",
   "execution_count": 22,
   "id": "cbbe6094",
   "metadata": {
    "execution": {
     "iopub.execute_input": "2023-03-12T22:52:19.605286Z",
     "iopub.status.busy": "2023-03-12T22:52:19.604836Z",
     "iopub.status.idle": "2023-03-12T22:52:31.818970Z",
     "shell.execute_reply": "2023-03-12T22:52:31.817580Z"
    },
    "id": "ui5xp8PKTEHD",
    "papermill": {
     "duration": 12.234908,
     "end_time": "2023-03-12T22:52:31.822318",
     "exception": false,
     "start_time": "2023-03-12T22:52:19.587410",
     "status": "completed"
    },
    "tags": []
   },
   "outputs": [
    {
     "name": "stdout",
     "output_type": "stream",
     "text": [
      "\u001b[33mWARNING: Running pip as the 'root' user can result in broken permissions and conflicting behaviour with the system package manager. It is recommended to use a virtual environment instead: https://pip.pypa.io/warnings/venv\u001b[0m\u001b[33m\r\n",
      "\u001b[0m"
     ]
    }
   ],
   "source": [
    "!pip install jovian --upgrade --quiet"
   ]
  },
  {
   "cell_type": "code",
   "execution_count": 23,
   "id": "29b732ba",
   "metadata": {
    "execution": {
     "iopub.execute_input": "2023-03-12T22:52:31.854907Z",
     "iopub.status.busy": "2023-03-12T22:52:31.854463Z",
     "iopub.status.idle": "2023-03-12T22:52:31.860332Z",
     "shell.execute_reply": "2023-03-12T22:52:31.858827Z"
    },
    "id": "bnLDgp9lTEHD",
    "papermill": {
     "duration": 0.025294,
     "end_time": "2023-03-12T22:52:31.862839",
     "exception": false,
     "start_time": "2023-03-12T22:52:31.837545",
     "status": "completed"
    },
    "tags": []
   },
   "outputs": [],
   "source": [
    "import jovian"
   ]
  },
  {
   "cell_type": "code",
   "execution_count": 24,
   "id": "eb174905",
   "metadata": {
    "execution": {
     "iopub.execute_input": "2023-03-12T22:52:31.895750Z",
     "iopub.status.busy": "2023-03-12T22:52:31.895269Z",
     "iopub.status.idle": "2023-03-12T22:52:32.911703Z",
     "shell.execute_reply": "2023-03-12T22:52:32.909252Z"
    },
    "id": "XG9fvndVTEHD",
    "outputId": "fc519d9b-7154-403d-a281-2b1becee83de",
    "papermill": {
     "duration": 1.036824,
     "end_time": "2023-03-12T22:52:32.915233",
     "exception": false,
     "start_time": "2023-03-12T22:52:31.878409",
     "status": "completed"
    },
    "tags": []
   },
   "outputs": [
    {
     "data": {
      "application/javascript": [
       "window.require && require([\"base/js/namespace\"],function(Jupyter){Jupyter.notebook.save_checkpoint()})"
      ],
      "text/plain": [
       "<IPython.core.display.Javascript object>"
      ]
     },
     "metadata": {},
     "output_type": "display_data"
    },
    {
     "data": {
      "application/javascript": [
       "if (window.IPython && IPython.notebook.kernel) IPython.notebook.kernel.execute('jovian.utils.jupyter.get_notebook_name_saved = lambda: \"' + IPython.notebook.notebook_name + '\"')"
      ],
      "text/plain": [
       "<IPython.core.display.Javascript object>"
      ]
     },
     "metadata": {},
     "output_type": "display_data"
    },
    {
     "name": "stderr",
     "output_type": "stream",
     "text": [
      "\u001b[31m[jovian] Error: Failed to read the Jupyter notebook. Please re-run this cell to try again. If the issue persists, provide the \"filename\" argument to \"jovian.commit\" e.g. \"jovian.commit(filename='my-notebook.ipynb')\"\u001b[0m\n"
     ]
    }
   ],
   "source": [
    "jovian.commit()"
   ]
  },
  {
   "cell_type": "markdown",
   "id": "7be462e8",
   "metadata": {
    "id": "EQsceEb1TEHD",
    "papermill": {
     "duration": 0.014839,
     "end_time": "2023-03-12T22:52:32.945405",
     "exception": false,
     "start_time": "2023-03-12T22:52:32.930566",
     "status": "completed"
    },
    "tags": []
   },
   "source": [
    "`jovian.commit` uploads the notebook to your [Jovian.ml](https://www.jovian.ml) account, captures the Python environment and creates a sharable link for your notebook as shown above. You can use this link to share your work and let anyone reproduce it easily with the `jovian clone` command. Jovian also includes a powerful commenting interface, so you (and others) can discuss & comment on specific parts of your notebook:\n",
    "\n",
    "![commenting on jovian](https://cdn-images-1.medium.com/max/1600/1*b4snnr_5Ve5Nyq60iDtuuw.png)"
   ]
  },
  {
   "cell_type": "markdown",
   "id": "cd7a580d",
   "metadata": {
    "id": "reguFMcOTEHD",
    "papermill": {
     "duration": 0.014445,
     "end_time": "2023-03-12T22:52:32.975288",
     "exception": false,
     "start_time": "2023-03-12T22:52:32.960843",
     "status": "completed"
    },
    "tags": []
   },
   "source": [
    "## Further Reading\n",
    "\n",
    "Tensors in PyTorch support a variety of operations, and what we've covered here is by no means exhaustive. You can learn more about tensors and tensor operations here: https://pytorch.org/docs/stable/tensors.html\n",
    "\n",
    "You can take advantage of the interactive Jupyter environment to experiment with tensors and try different combinations of operations discussed above. Here are some things to try out:\n",
    "\n",
    "1. What if one or more `x`, `w` or `b` were matrices, instead of numbers, in the above example? What would the result `y` and the gradients `w.grad` and `b.grad` look like in this case?\n",
    "\n",
    "2. What if `y` was a matrix created using `torch.tensor`, with each element of the matrix expressed as a combination of numeric tensors `x`, `w` and `b`?\n",
    "\n",
    "3. What if we had a chain of operations instead of just one i.e. `y = x * w + b`, `z = l * y + m`, `w = c * z + d` and so on? What would calling `w.grad` do?\n",
    "\n",
    "If you're interested, you can learn more about matrix derivates on Wikipedia (although it's not necessary for following along with this series of tutorials): https://en.wikipedia.org/wiki/Matrix_calculus#Derivatives_with_matrices "
   ]
  },
  {
   "cell_type": "markdown",
   "id": "919dec02",
   "metadata": {
    "papermill": {
     "duration": 0.014347,
     "end_time": "2023-03-12T22:52:33.004501",
     "exception": false,
     "start_time": "2023-03-12T22:52:32.990154",
     "status": "completed"
    },
    "tags": []
   },
   "source": [
    "### What if one or more x, w or b were matrices, instead of numbers, in the above example? What would the result y and the gradients w.grad and b.grad look like in this case?"
   ]
  },
  {
   "cell_type": "code",
   "execution_count": 25,
   "id": "f3f7924b",
   "metadata": {
    "execution": {
     "iopub.execute_input": "2023-03-12T22:52:33.036409Z",
     "iopub.status.busy": "2023-03-12T22:52:33.035886Z",
     "iopub.status.idle": "2023-03-12T22:52:33.053269Z",
     "shell.execute_reply": "2023-03-12T22:52:33.051852Z"
    },
    "papermill": {
     "duration": 0.037072,
     "end_time": "2023-03-12T22:52:33.056362",
     "exception": false,
     "start_time": "2023-03-12T22:52:33.019290",
     "status": "completed"
    },
    "tags": []
   },
   "outputs": [
    {
     "data": {
      "text/plain": [
       "tensor([[ 2.7639, -1.1563],\n",
       "        [ 0.3402,  0.6734],\n",
       "        [ 0.0443,  0.1621]], grad_fn=<AddBackward0>)"
      ]
     },
     "execution_count": 25,
     "metadata": {},
     "output_type": "execute_result"
    }
   ],
   "source": [
    "x,w,b = torch.randn(size=(3,2),requires_grad=True),\\\n",
    "            torch.randn(size=(3,2),requires_grad=True),\\\n",
    "                torch.randn(size=(3,2),requires_grad=True)\n",
    "y = x*w + b\n",
    "y"
   ]
  },
  {
   "cell_type": "code",
   "execution_count": 26,
   "id": "3ddaecfd",
   "metadata": {
    "execution": {
     "iopub.execute_input": "2023-03-12T22:52:33.090617Z",
     "iopub.status.busy": "2023-03-12T22:52:33.089586Z",
     "iopub.status.idle": "2023-03-12T22:52:33.108285Z",
     "shell.execute_reply": "2023-03-12T22:52:33.106516Z"
    },
    "papermill": {
     "duration": 0.040284,
     "end_time": "2023-03-12T22:52:33.112351",
     "exception": false,
     "start_time": "2023-03-12T22:52:33.072067",
     "status": "completed"
    },
    "tags": []
   },
   "outputs": [
    {
     "name": "stdout",
     "output_type": "stream",
     "text": [
      "dx/dw tensor([[ 2.4921, -1.3426],\n",
      "        [-0.7898,  1.3057],\n",
      "        [ 1.1754,  0.1436]])\n",
      "dx/db tensor([[1., 1.],\n",
      "        [1., 1.],\n",
      "        [1., 1.]])\n"
     ]
    }
   ],
   "source": [
    "y.backward(gradient=torch.Tensor([[1,1],[1,1],[1,1]]))\n",
    "print('dx/dw',w.grad)\n",
    "print('dx/db',b.grad)"
   ]
  },
  {
   "cell_type": "markdown",
   "id": "7905f1ab",
   "metadata": {
    "papermill": {
     "duration": 0.014686,
     "end_time": "2023-03-12T22:52:33.142757",
     "exception": false,
     "start_time": "2023-03-12T22:52:33.128071",
     "status": "completed"
    },
    "tags": []
   },
   "source": [
    "### What if y was a matrix created using torch.tensor, with each element of the matrix expressed as a combination of numeric tensors x, w and b?"
   ]
  },
  {
   "cell_type": "code",
   "execution_count": 27,
   "id": "7495e7d4",
   "metadata": {
    "execution": {
     "iopub.execute_input": "2023-03-12T22:52:33.176165Z",
     "iopub.status.busy": "2023-03-12T22:52:33.175452Z",
     "iopub.status.idle": "2023-03-12T22:52:33.196283Z",
     "shell.execute_reply": "2023-03-12T22:52:33.194872Z"
    },
    "papermill": {
     "duration": 0.040238,
     "end_time": "2023-03-12T22:52:33.198774",
     "exception": false,
     "start_time": "2023-03-12T22:52:33.158536",
     "status": "completed"
    },
    "tags": []
   },
   "outputs": [
    {
     "data": {
      "text/plain": [
       "tensor([[-2.1674, -1.4532],\n",
       "        [ 0.9231, -0.2114],\n",
       "        [-0.8137, -1.2786]], grad_fn=<MmBackward0>)"
      ]
     },
     "execution_count": 27,
     "metadata": {},
     "output_type": "execute_result"
    }
   ],
   "source": [
    "y = x @ w.T @ b\n",
    "y"
   ]
  },
  {
   "cell_type": "code",
   "execution_count": 28,
   "id": "ecf4367e",
   "metadata": {
    "execution": {
     "iopub.execute_input": "2023-03-12T22:52:33.233656Z",
     "iopub.status.busy": "2023-03-12T22:52:33.232315Z",
     "iopub.status.idle": "2023-03-12T22:52:33.246301Z",
     "shell.execute_reply": "2023-03-12T22:52:33.244679Z"
    },
    "papermill": {
     "duration": 0.034549,
     "end_time": "2023-03-12T22:52:33.249662",
     "exception": false,
     "start_time": "2023-03-12T22:52:33.215113",
     "status": "completed"
    },
    "tags": []
   },
   "outputs": [
    {
     "name": "stdout",
     "output_type": "stream",
     "text": [
      "dx/dw tensor([[-1.2502, -1.4814],\n",
      "        [-0.2553,  1.3255],\n",
      "        [ 1.6259,  0.1604]])\n",
      "dx/db tensor([[4.7869, 4.7869],\n",
      "        [0.1667, 0.1667],\n",
      "        [1.5005, 1.5005]])\n"
     ]
    }
   ],
   "source": [
    "y.backward(gradient=torch.Tensor([[1,1],[1,1],[1,1]]))\n",
    "print('dx/dw',w.grad)\n",
    "print('dx/db',b.grad)"
   ]
  },
  {
   "cell_type": "markdown",
   "id": "9fc1300c",
   "metadata": {
    "papermill": {
     "duration": 0.015228,
     "end_time": "2023-03-12T22:52:33.281019",
     "exception": false,
     "start_time": "2023-03-12T22:52:33.265791",
     "status": "completed"
    },
    "tags": []
   },
   "source": [
    "### What if we had a chain of operations instead of just one i.e. y = x * w + b, z = l * y + m, w = c * z + d and so on? What would calling w.grad do?"
   ]
  },
  {
   "cell_type": "code",
   "execution_count": 29,
   "id": "d6fd6c1d",
   "metadata": {
    "execution": {
     "iopub.execute_input": "2023-03-12T22:52:33.314711Z",
     "iopub.status.busy": "2023-03-12T22:52:33.314261Z",
     "iopub.status.idle": "2023-03-12T22:52:33.325388Z",
     "shell.execute_reply": "2023-03-12T22:52:33.323658Z"
    },
    "papermill": {
     "duration": 0.032702,
     "end_time": "2023-03-12T22:52:33.329349",
     "exception": false,
     "start_time": "2023-03-12T22:52:33.296647",
     "status": "completed"
    },
    "tags": []
   },
   "outputs": [
    {
     "name": "stdout",
     "output_type": "stream",
     "text": [
      "dx/dw None\n"
     ]
    },
    {
     "name": "stderr",
     "output_type": "stream",
     "text": [
      "/opt/conda/lib/python3.7/site-packages/ipykernel_launcher.py:10: UserWarning: The .grad attribute of a Tensor that is not a leaf Tensor is being accessed. Its .grad attribute won't be populated during autograd.backward(). If you indeed want the .grad field to be populated for a non-leaf Tensor, use .retain_grad() on the non-leaf Tensor. If you access the non-leaf Tensor by mistake, make sure you access the leaf Tensor instead. See github.com/pytorch/pytorch/pull/30531 for more informations. (Triggered internally at aten/src/ATen/core/TensorBody.h:480.)\n",
      "  # Remove the CWD from sys.path while we load stuff.\n"
     ]
    }
   ],
   "source": [
    "l,m,c,d = torch.randn(size=(3,2),requires_grad=True),\\\n",
    "            torch.randn(size=(3,2),requires_grad=True),\\\n",
    "                torch.randn(size=(3,2),requires_grad=True),\\\n",
    "                    torch.randn(size=(3,2),requires_grad=True)\n",
    "\n",
    "y = x*m + b\n",
    "z = l*y + m\n",
    "w = c*z + d\n",
    "w.backward(gradient=torch.Tensor([[1,1],[1,1],[1,1]]))\n",
    "print('dx/dw',w.grad)\n"
   ]
  },
  {
   "cell_type": "markdown",
   "id": "a8a9c393",
   "metadata": {
    "id": "yXrOl1nmTEHE",
    "papermill": {
     "duration": 0.015866,
     "end_time": "2023-03-12T22:52:33.361745",
     "exception": false,
     "start_time": "2023-03-12T22:52:33.345879",
     "status": "completed"
    },
    "tags": []
   },
   "source": [
    "With this, we complete our discussion of tensors and gradients in PyTorch, and we're ready to move on to the next topic: *Linear regression*.\n",
    "\n",
    "## Credits\n",
    "\n",
    "The material in this series is heavily inspired by the following resources:\n",
    "\n",
    "1. [PyTorch Tutorial for Deep Learning Researchers](https://github.com/yunjey/pytorch-tutorial) by Yunjey Choi: \n",
    "\n",
    "2. [FastAI development notebooks](https://github.com/fastai/fastai_docs/tree/master/dev_nb) by Jeremy Howard: \n"
   ]
  }
 ],
 "metadata": {
  "kernelspec": {
   "display_name": "Python 3",
   "language": "python",
   "name": "python3"
  },
  "language_info": {
   "codemirror_mode": {
    "name": "ipython",
    "version": 3
   },
   "file_extension": ".py",
   "mimetype": "text/x-python",
   "name": "python",
   "nbconvert_exporter": "python",
   "pygments_lexer": "ipython3",
   "version": "3.7.12"
  },
  "papermill": {
   "default_parameters": {},
   "duration": 46.957821,
   "end_time": "2023-03-12T22:52:34.504830",
   "environment_variables": {},
   "exception": null,
   "input_path": "__notebook__.ipynb",
   "output_path": "__notebook__.ipynb",
   "parameters": {},
   "start_time": "2023-03-12T22:51:47.547009",
   "version": "2.4.0"
  }
 },
 "nbformat": 4,
 "nbformat_minor": 5
}
