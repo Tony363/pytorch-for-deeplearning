{
 "cells": [
  {
   "cell_type": "markdown",
   "id": "4281849c",
   "metadata": {
    "id": "x0sQkmyWpeT4",
    "papermill": {
     "duration": 0.021995,
     "end_time": "2023-03-16T13:59:37.223348",
     "exception": false,
     "start_time": "2023-03-16T13:59:37.201353",
     "status": "completed"
    },
    "tags": []
   },
   "source": [
    "# Training Deep Neural Networks on a GPU with PyTorch\n",
    "\n",
    "### Part 4 of \"Deep Learning with Pytorch: Zero to GANs\"\n",
    "\n",
    "This tutorial series is a hands-on beginner-friendly introduction to deep learning using [PyTorch](https://pytorch.org), an open-source neural networks library. These tutorials take a practical and coding-focused approach. The best way to learn the material is to execute the code and experiment with it yourself. Check out the full series here:\n",
    "\n",
    "1. [PyTorch Basics: Tensors & Gradients](https://jovian.ai/aakashns/01-pytorch-basics)\n",
    "2. [Gradient Descent & Linear Regression](https://jovian.ai/aakashns/02-linear-regression)\n",
    "3. [Working with Images & Logistic Regression](https://jovian.ai/aakashns/03-logistic-regression) \n",
    "4. [Training Deep Neural Networks on a GPU](https://jovian.ai/aakashns/04-feedforward-nn)\n",
    "5. [Image Classification using Convolutional Neural Networks](https://jovian.ai/aakashns/05-cifar10-cnn)\n",
    "6. [Data Augmentation, Regularization and ResNets](https://jovian.ai/aakashns/05b-cifar10-resnet)\n",
    "7. [Generating Images using Generative Adversarial Networks](https://jovian.ai/aakashns/06b-anime-dcgan/)\n"
   ]
  },
  {
   "cell_type": "markdown",
   "id": "571f0790",
   "metadata": {
    "id": "zRMQYXirpeT5",
    "papermill": {
     "duration": 0.019517,
     "end_time": "2023-03-16T13:59:37.264417",
     "exception": false,
     "start_time": "2023-03-16T13:59:37.244900",
     "status": "completed"
    },
    "tags": []
   },
   "source": [
    " This tutorial covers the following topics:\n",
    " \n",
    " * Creating a deep neural network with hidden layers\n",
    " * Using a non-linear activation function\n",
    " * Using a GPU (when available) to speed up training\n",
    " * Experimenting with hyperparameters to improve the model"
   ]
  },
  {
   "cell_type": "markdown",
   "id": "0d07fac8",
   "metadata": {
    "id": "-JI69VLFpeT5",
    "papermill": {
     "duration": 0.019392,
     "end_time": "2023-03-16T13:59:37.303741",
     "exception": false,
     "start_time": "2023-03-16T13:59:37.284349",
     "status": "completed"
    },
    "tags": []
   },
   "source": [
    "### How to run the code\n",
    "\n",
    "This tutorial is an executable [Jupyter notebook](https://jupyter.org) hosted on [Jovian](https://www.jovian.ai). You can _run_ this tutorial and experiment with the code examples in a couple of ways: *using free online resources* (recommended) or *on your computer*.\n",
    "\n",
    "#### Option 1: Running using free online resources (1-click, recommended)\n",
    "\n",
    "The easiest way to start executing the code is to click the **Run** button at the top of this page and select **Run on Colab**. [Google Colab](https://colab.research.google.com) is a free online platform for running Jupyter notebooks using Google's cloud infrastructure. You can also select \"Run on Binder\" or \"Run on Kaggle\" if you face issues running the notebook on Google Colab. \n",
    "\n",
    "\n",
    "#### Option 2: Running on your computer locally\n",
    "\n",
    "To run the code on your computer locally, you'll need to set up [Python](https://www.python.org), download the notebook and install the required libraries. We recommend using the [Conda](https://docs.conda.io/projects/conda/en/latest/user-guide/install/) distribution of Python. Click the **Run** button at the top of this page, select the **Run Locally** option, and follow the instructions.\n",
    "\n",
    ">  **Jupyter Notebooks**: This tutorial is a [Jupyter notebook](https://jupyter.org) - a document made of _cells_. Each cell can contain code written in Python or explanations in plain English. You can execute code cells and view the results, e.g., numbers, messages, graphs, tables, files, etc., instantly within the notebook. Jupyter is a powerful platform for experimentation and analysis. Don't be afraid to mess around with the code & break things - you'll learn a lot by encountering and fixing errors. You can use the \"Kernel > Restart & Clear Output\" or \"Edit > Clear Outputs\" menu option to clear all outputs and start again from the top."
   ]
  },
  {
   "cell_type": "markdown",
   "id": "a1ac04ca",
   "metadata": {
    "id": "wdphVwCopeT5",
    "papermill": {
     "duration": 0.019952,
     "end_time": "2023-03-16T13:59:37.343413",
     "exception": false,
     "start_time": "2023-03-16T13:59:37.323461",
     "status": "completed"
    },
    "tags": []
   },
   "source": [
    "### Using a GPU for faster training\n",
    "\n",
    "You can use a [Graphics Processing Unit](https://en.wikipedia.org/wiki/Graphics_processing_unit) (GPU) to train your models faster if your execution platform is connected to a GPU manufactured by NVIDIA. Follow these instructions to use a GPU on the platform of your choice:\n",
    "\n",
    "* _Google Colab_: Use the menu option \"Runtime > Change Runtime Type\" and select \"GPU\" from the \"Hardware Accelerator\" dropdown.\n",
    "* _Kaggle_: In the \"Settings\" section of the sidebar, select \"GPU\" from the \"Accelerator\" dropdown. Use the button on the top-right to open the sidebar.\n",
    "* _Binder_: Notebooks running on Binder cannot use a GPU, as the machines powering Binder aren't connected to any GPUs.\n",
    "* _Linux_: If your laptop/desktop has an NVIDIA GPU (graphics card), make sure you have installed the [NVIDIA CUDA drivers](https://docs.nvidia.com/cuda/cuda-installation-guide-linux/index.html).\n",
    "* _Windows_: If your laptop/desktop has an NVIDIA GPU (graphics card), make sure you have installed the [NVIDIA CUDA drivers](https://docs.nvidia.com/cuda/cuda-installation-guide-microsoft-windows/index.html).\n",
    "* _macOS_: macOS is not compatible with NVIDIA GPUs\n",
    "\n",
    "\n",
    "If you do not have access to a GPU or aren't sure what it is, don't worry, you can execute all the code in this tutorial just fine without a GPU."
   ]
  },
  {
   "cell_type": "markdown",
   "id": "3f607db6",
   "metadata": {
    "id": "h1N-aPtrpeT5",
    "papermill": {
     "duration": 0.02208,
     "end_time": "2023-03-16T13:59:37.385415",
     "exception": false,
     "start_time": "2023-03-16T13:59:37.363335",
     "status": "completed"
    },
    "tags": []
   },
   "source": [
    "## Preparing the Data\n",
    "\n",
    "In [the previous tutorial](https://jovian.ai/aakashns/03-logistic-regression), we trained a logistic regression model to identify handwritten digits from the MNIST dataset with an accuracy of around 86%. The dataset consists of 28px by 28px grayscale images of handwritten digits (0 to 9) and labels for each image indicating which digit it represents. Here are some sample images from the dataset:\n",
    "\n",
    "![mnist-sample](https://i.imgur.com/CAYnuo1.jpg)\n",
    "\n",
    "We noticed that it's quite challenging to improve the accuracy of a logistic regression model beyond 87%, since the model assumes a linear relationship between pixel intensities and image labels. In this post, we'll try to improve upon it  using a *feed-forward neural network* which can capture non-linear relationships between inputs and targets.\n",
    "\n",
    "Let's begin by installing and importing the required modules and classes from `torch`, `torchvision`, `numpy`, and `matplotlib`."
   ]
  },
  {
   "cell_type": "code",
   "execution_count": 1,
   "id": "991648f6",
   "metadata": {
    "execution": {
     "iopub.execute_input": "2023-03-16T13:59:37.426670Z",
     "iopub.status.busy": "2023-03-16T13:59:37.426191Z",
     "iopub.status.idle": "2023-03-16T13:59:37.432244Z",
     "shell.execute_reply": "2023-03-16T13:59:37.431218Z"
    },
    "id": "28gVv8fbpeT5",
    "papermill": {
     "duration": 0.029743,
     "end_time": "2023-03-16T13:59:37.435075",
     "exception": false,
     "start_time": "2023-03-16T13:59:37.405332",
     "status": "completed"
    },
    "tags": []
   },
   "outputs": [],
   "source": [
    "# Uncomment and run the appropriate command for your operating system, if required\n",
    "\n",
    "# Linux / Binder\n",
    "# !pip install numpy matplotlib torch==1.7.0+cpu torchvision==0.8.1+cpu torchaudio==0.7.0 -f https://download.pytorch.org/whl/torch_stable.html\n",
    "\n",
    "# Windows\n",
    "# !pip install numpy matplotlib torch==1.7.0+cpu torchvision==0.8.1+cpu torchaudio==0.7.0 -f https://download.pytorch.org/whl/torch_stable.html\n",
    "\n",
    "# MacOS\n",
    "# !pip install numpy matplotlib torch torchvision torchaudio"
   ]
  },
  {
   "cell_type": "code",
   "execution_count": 2,
   "id": "fb3682fa",
   "metadata": {
    "execution": {
     "iopub.execute_input": "2023-03-16T13:59:37.476601Z",
     "iopub.status.busy": "2023-03-16T13:59:37.475992Z",
     "iopub.status.idle": "2023-03-16T13:59:40.648728Z",
     "shell.execute_reply": "2023-03-16T13:59:40.647641Z"
    },
    "executionInfo": {
     "elapsed": 4434,
     "status": "ok",
     "timestamp": 1607146642164,
     "user": {
      "displayName": "Aakash N S",
      "photoUrl": "https://lh3.googleusercontent.com/a-/AOh14GiIWFHtan62vtW1gz2Bv2bxL3rppefcadxzEVxRKQ=s64",
      "userId": "03254185060287524023"
     },
     "user_tz": -330
    },
    "id": "WapU423CpeT5",
    "papermill": {
     "duration": 3.196484,
     "end_time": "2023-03-16T13:59:40.651572",
     "exception": false,
     "start_time": "2023-03-16T13:59:37.455088",
     "status": "completed"
    },
    "tags": []
   },
   "outputs": [],
   "source": [
    "import torch\n",
    "import torchvision\n",
    "import numpy as np\n",
    "import matplotlib\n",
    "import matplotlib.pyplot as plt\n",
    "import torch.nn as nn\n",
    "import torch.nn.functional as F\n",
    "from torchvision.datasets import MNIST\n",
    "from torchvision.transforms import ToTensor\n",
    "from torchvision.utils import make_grid\n",
    "from torch.utils.data.dataloader import DataLoader\n",
    "from torch.utils.data import random_split\n",
    "%matplotlib inline\n",
    "\n",
    "# Use a white background for matplotlib figures\n",
    "matplotlib.rcParams['figure.facecolor'] = '#ffffff'"
   ]
  },
  {
   "cell_type": "markdown",
   "id": "40b802cf",
   "metadata": {
    "id": "wa8Y7hGhpeT5",
    "papermill": {
     "duration": 0.019669,
     "end_time": "2023-03-16T13:59:40.691663",
     "exception": false,
     "start_time": "2023-03-16T13:59:40.671994",
     "status": "completed"
    },
    "tags": []
   },
   "source": [
    "We can download the data and create a PyTorch dataset using the `MNIST` class from `torchvision.datasets`. "
   ]
  },
  {
   "cell_type": "code",
   "execution_count": 3,
   "id": "1e5bcf98",
   "metadata": {
    "execution": {
     "iopub.execute_input": "2023-03-16T13:59:40.735623Z",
     "iopub.status.busy": "2023-03-16T13:59:40.734536Z",
     "iopub.status.idle": "2023-03-16T13:59:41.861460Z",
     "shell.execute_reply": "2023-03-16T13:59:41.860488Z"
    },
    "executionInfo": {
     "elapsed": 2067,
     "status": "ok",
     "timestamp": 1607146682665,
     "user": {
      "displayName": "Aakash N S",
      "photoUrl": "https://lh3.googleusercontent.com/a-/AOh14GiIWFHtan62vtW1gz2Bv2bxL3rppefcadxzEVxRKQ=s64",
      "userId": "03254185060287524023"
     },
     "user_tz": -330
    },
    "id": "CCfhGj-IpeT5",
    "outputId": "63e6de52-71b0-4813-d90c-ed19eb0a47fd",
    "papermill": {
     "duration": 1.151614,
     "end_time": "2023-03-16T13:59:41.863742",
     "exception": false,
     "start_time": "2023-03-16T13:59:40.712128",
     "status": "completed"
    },
    "tags": []
   },
   "outputs": [
    {
     "name": "stdout",
     "output_type": "stream",
     "text": [
      "Downloading http://yann.lecun.com/exdb/mnist/train-images-idx3-ubyte.gz\n",
      "Downloading http://yann.lecun.com/exdb/mnist/train-images-idx3-ubyte.gz to data/MNIST/raw/train-images-idx3-ubyte.gz\n"
     ]
    },
    {
     "data": {
      "application/vnd.jupyter.widget-view+json": {
       "model_id": "5a85c85b3f604fda899ebe34b188d487",
       "version_major": 2,
       "version_minor": 0
      },
      "text/plain": [
       "  0%|          | 0/9912422 [00:00<?, ?it/s]"
      ]
     },
     "metadata": {},
     "output_type": "display_data"
    },
    {
     "name": "stdout",
     "output_type": "stream",
     "text": [
      "Extracting data/MNIST/raw/train-images-idx3-ubyte.gz to data/MNIST/raw\n",
      "\n",
      "Downloading http://yann.lecun.com/exdb/mnist/train-labels-idx1-ubyte.gz\n",
      "Downloading http://yann.lecun.com/exdb/mnist/train-labels-idx1-ubyte.gz to data/MNIST/raw/train-labels-idx1-ubyte.gz\n"
     ]
    },
    {
     "data": {
      "application/vnd.jupyter.widget-view+json": {
       "model_id": "26e31a70c91049bc997b649d03bfa186",
       "version_major": 2,
       "version_minor": 0
      },
      "text/plain": [
       "  0%|          | 0/28881 [00:00<?, ?it/s]"
      ]
     },
     "metadata": {},
     "output_type": "display_data"
    },
    {
     "name": "stdout",
     "output_type": "stream",
     "text": [
      "Extracting data/MNIST/raw/train-labels-idx1-ubyte.gz to data/MNIST/raw\n",
      "\n",
      "Downloading http://yann.lecun.com/exdb/mnist/t10k-images-idx3-ubyte.gz\n",
      "Downloading http://yann.lecun.com/exdb/mnist/t10k-images-idx3-ubyte.gz to data/MNIST/raw/t10k-images-idx3-ubyte.gz\n"
     ]
    },
    {
     "data": {
      "application/vnd.jupyter.widget-view+json": {
       "model_id": "59403cf2bba64710b4c2c17b5877b1fb",
       "version_major": 2,
       "version_minor": 0
      },
      "text/plain": [
       "  0%|          | 0/1648877 [00:00<?, ?it/s]"
      ]
     },
     "metadata": {},
     "output_type": "display_data"
    },
    {
     "name": "stdout",
     "output_type": "stream",
     "text": [
      "Extracting data/MNIST/raw/t10k-images-idx3-ubyte.gz to data/MNIST/raw\n",
      "\n",
      "Downloading http://yann.lecun.com/exdb/mnist/t10k-labels-idx1-ubyte.gz\n",
      "Downloading http://yann.lecun.com/exdb/mnist/t10k-labels-idx1-ubyte.gz to data/MNIST/raw/t10k-labels-idx1-ubyte.gz\n"
     ]
    },
    {
     "data": {
      "application/vnd.jupyter.widget-view+json": {
       "model_id": "00b5762d7dd14db18410beda153ff74b",
       "version_major": 2,
       "version_minor": 0
      },
      "text/plain": [
       "  0%|          | 0/4542 [00:00<?, ?it/s]"
      ]
     },
     "metadata": {},
     "output_type": "display_data"
    },
    {
     "name": "stdout",
     "output_type": "stream",
     "text": [
      "Extracting data/MNIST/raw/t10k-labels-idx1-ubyte.gz to data/MNIST/raw\n",
      "\n"
     ]
    }
   ],
   "source": [
    "dataset = MNIST(root='data/', download=True, transform=ToTensor())"
   ]
  },
  {
   "cell_type": "markdown",
   "id": "1d212e2d",
   "metadata": {
    "papermill": {
     "duration": 0.020336,
     "end_time": "2023-03-16T13:59:41.905133",
     "exception": false,
     "start_time": "2023-03-16T13:59:41.884797",
     "status": "completed"
    },
    "tags": []
   },
   "source": [
    "Let's look at a couple of images from the dataset. The images are converted to PyTorch tensors with the shape `1x28x28` (the dimensions represent color channels, width and height). We can use `plt.imshow` to display the images. However, `plt.imshow` expects channels to be last dimension in an image tensor, so we use the `permute` method to reorder the dimensions of the image."
   ]
  },
  {
   "cell_type": "code",
   "execution_count": 4,
   "id": "39d4fdb6",
   "metadata": {
    "execution": {
     "iopub.execute_input": "2023-03-16T13:59:41.948975Z",
     "iopub.status.busy": "2023-03-16T13:59:41.947290Z",
     "iopub.status.idle": "2023-03-16T13:59:42.218128Z",
     "shell.execute_reply": "2023-03-16T13:59:42.217191Z"
    },
    "papermill": {
     "duration": 0.294693,
     "end_time": "2023-03-16T13:59:42.220323",
     "exception": false,
     "start_time": "2023-03-16T13:59:41.925630",
     "status": "completed"
    },
    "tags": []
   },
   "outputs": [
    {
     "name": "stdout",
     "output_type": "stream",
     "text": [
      "image.shape: torch.Size([1, 28, 28])\n",
      "Label: 5\n"
     ]
    },
    {
     "data": {
      "image/png": "[encoded data removed]",
      "text/plain": [
       "<Figure size 640x480 with 1 Axes>"
      ]
     },
     "metadata": {},
     "output_type": "display_data"
    }
   ],
   "source": [
    "image, label = dataset[0]\n",
    "print('image.shape:', image.shape)\n",
    "plt.imshow(image.permute(1, 2, 0), cmap='gray')\n",
    "print('Label:', label)"
   ]
  },
  {
   "cell_type": "code",
   "execution_count": 5,
   "id": "04e09dc7",
   "metadata": {
    "execution": {
     "iopub.execute_input": "2023-03-16T13:59:42.266206Z",
     "iopub.status.busy": "2023-03-16T13:59:42.265900Z",
     "iopub.status.idle": "2023-03-16T13:59:42.476154Z",
     "shell.execute_reply": "2023-03-16T13:59:42.474702Z"
    },
    "papermill": {
     "duration": 0.236229,
     "end_time": "2023-03-16T13:59:42.478857",
     "exception": false,
     "start_time": "2023-03-16T13:59:42.242628",
     "status": "completed"
    },
    "tags": []
   },
   "outputs": [
    {
     "name": "stdout",
     "output_type": "stream",
     "text": [
      "image.shape: torch.Size([1, 28, 28])\n",
      "Label: 5\n"
     ]
    },
    {
     "data": {
      "image/png": "[encoded data removed]",
      "text/plain": [
       "<Figure size 640x480 with 1 Axes>"
      ]
     },
     "metadata": {},
     "output_type": "display_data"
    }
   ],
   "source": [
    "image, label = dataset[0]\n",
    "print('image.shape:', image.shape)\n",
    "plt.imshow(image.permute(1, 2, 0), cmap='gray')\n",
    "print('Label:', label)"
   ]
  },
  {
   "cell_type": "markdown",
   "id": "db129cd6",
   "metadata": {
    "id": "4vjwsyaDpeT5",
    "papermill": {
     "duration": 0.021071,
     "end_time": "2023-03-16T13:59:42.521631",
     "exception": false,
     "start_time": "2023-03-16T13:59:42.500560",
     "status": "completed"
    },
    "tags": []
   },
   "source": [
    "Next, let's use the `random_split` helper function to set aside 10000 images for our validation set."
   ]
  },
  {
   "cell_type": "code",
   "execution_count": 6,
   "id": "96b3c8ce",
   "metadata": {
    "execution": {
     "iopub.execute_input": "2023-03-16T13:59:42.565564Z",
     "iopub.status.busy": "2023-03-16T13:59:42.564605Z",
     "iopub.status.idle": "2023-03-16T13:59:42.585037Z",
     "shell.execute_reply": "2023-03-16T13:59:42.583981Z"
    },
    "executionInfo": {
     "elapsed": 886,
     "status": "ok",
     "timestamp": 1607146716183,
     "user": {
      "displayName": "Aakash N S",
      "photoUrl": "https://lh3.googleusercontent.com/a-/AOh14GiIWFHtan62vtW1gz2Bv2bxL3rppefcadxzEVxRKQ=s64",
      "userId": "03254185060287524023"
     },
     "user_tz": -330
    },
    "id": "Cgek18qlpeT5",
    "outputId": "1329f74b-2817-4019-f379-8d807c6413ff",
    "papermill": {
     "duration": 0.044555,
     "end_time": "2023-03-16T13:59:42.587127",
     "exception": false,
     "start_time": "2023-03-16T13:59:42.542572",
     "status": "completed"
    },
    "tags": []
   },
   "outputs": [
    {
     "data": {
      "text/plain": [
       "(50000, 10000)"
      ]
     },
     "execution_count": 6,
     "metadata": {},
     "output_type": "execute_result"
    }
   ],
   "source": [
    "val_size = 10000\n",
    "train_size = len(dataset) - val_size\n",
    "\n",
    "train_ds, val_ds = random_split(dataset, [train_size, val_size])\n",
    "len(train_ds), len(val_ds)"
   ]
  },
  {
   "cell_type": "markdown",
   "id": "a21f4671",
   "metadata": {
    "id": "PxB8SiaYpeT6",
    "papermill": {
     "duration": 0.021206,
     "end_time": "2023-03-16T13:59:42.629437",
     "exception": false,
     "start_time": "2023-03-16T13:59:42.608231",
     "status": "completed"
    },
    "tags": []
   },
   "source": [
    "We can now create PyTorch data loaders for training and validation."
   ]
  },
  {
   "cell_type": "code",
   "execution_count": 7,
   "id": "90d08f5c",
   "metadata": {
    "execution": {
     "iopub.execute_input": "2023-03-16T13:59:42.673211Z",
     "iopub.status.busy": "2023-03-16T13:59:42.672921Z",
     "iopub.status.idle": "2023-03-16T13:59:42.677252Z",
     "shell.execute_reply": "2023-03-16T13:59:42.676253Z"
    },
    "executionInfo": {
     "elapsed": 701,
     "status": "ok",
     "timestamp": 1607146808348,
     "user": {
      "displayName": "Aakash N S",
      "photoUrl": "https://lh3.googleusercontent.com/a-/AOh14GiIWFHtan62vtW1gz2Bv2bxL3rppefcadxzEVxRKQ=s64",
      "userId": "03254185060287524023"
     },
     "user_tz": -330
    },
    "id": "cK_hoRYSpeT6",
    "papermill": {
     "duration": 0.028589,
     "end_time": "2023-03-16T13:59:42.679254",
     "exception": false,
     "start_time": "2023-03-16T13:59:42.650665",
     "status": "completed"
    },
    "tags": []
   },
   "outputs": [],
   "source": [
    "batch_size=128"
   ]
  },
  {
   "cell_type": "code",
   "execution_count": 8,
   "id": "e06ceae8",
   "metadata": {
    "execution": {
     "iopub.execute_input": "2023-03-16T13:59:42.723761Z",
     "iopub.status.busy": "2023-03-16T13:59:42.723181Z",
     "iopub.status.idle": "2023-03-16T13:59:42.732218Z",
     "shell.execute_reply": "2023-03-16T13:59:42.730691Z"
    },
    "executionInfo": {
     "elapsed": 1224,
     "status": "ok",
     "timestamp": 1607146809342,
     "user": {
      "displayName": "Aakash N S",
      "photoUrl": "https://lh3.googleusercontent.com/a-/AOh14GiIWFHtan62vtW1gz2Bv2bxL3rppefcadxzEVxRKQ=s64",
      "userId": "03254185060287524023"
     },
     "user_tz": -330
    },
    "id": "iShTOn-vpeT6",
    "papermill": {
     "duration": 0.034108,
     "end_time": "2023-03-16T13:59:42.734329",
     "exception": false,
     "start_time": "2023-03-16T13:59:42.700221",
     "status": "completed"
    },
    "tags": []
   },
   "outputs": [
    {
     "name": "stderr",
     "output_type": "stream",
     "text": [
      "/opt/conda/lib/python3.7/site-packages/torch/utils/data/dataloader.py:557: UserWarning: This DataLoader will create 4 worker processes in total. Our suggested max number of worker in current system is 2, which is smaller than what this DataLoader is going to create. Please be aware that excessive worker creation might get DataLoader running slow or even freeze, lower the worker number to avoid potential slowness/freeze if necessary.\n",
      "  cpuset_checked))\n"
     ]
    }
   ],
   "source": [
    "train_loader = DataLoader(train_ds, batch_size, shuffle=True, num_workers=4, pin_memory=True)\n",
    "val_loader = DataLoader(val_ds, batch_size*2, num_workers=4, pin_memory=True)"
   ]
  },
  {
   "cell_type": "markdown",
   "id": "c08911ef",
   "metadata": {
    "id": "fjucG3lnpeT6",
    "papermill": {
     "duration": 0.0234,
     "end_time": "2023-03-16T13:59:42.779151",
     "exception": false,
     "start_time": "2023-03-16T13:59:42.755751",
     "status": "completed"
    },
    "tags": []
   },
   "source": [
    "Can you figure out the purpose of the arguments `num_workers` and `pin_memory`? Try looking into the documentation: https://pytorch.org/docs/stable/data.html .\n",
    "\n",
    "Let's visualize a batch of data in a grid using the `make_grid` function from `torchvision`. We'll also use the `.permute` method on the tensor to move the channels to the last dimension, as expected by `matplotlib`."
   ]
  },
  {
   "cell_type": "code",
   "execution_count": 9,
   "id": "6a8c0e94",
   "metadata": {
    "execution": {
     "iopub.execute_input": "2023-03-16T13:59:42.829893Z",
     "iopub.status.busy": "2023-03-16T13:59:42.829033Z",
     "iopub.status.idle": "2023-03-16T13:59:46.987245Z",
     "shell.execute_reply": "2023-03-16T13:59:46.986169Z"
    },
    "executionInfo": {
     "elapsed": 12686,
     "status": "ok",
     "timestamp": 1607146864385,
     "user": {
      "displayName": "Aakash N S",
      "photoUrl": "https://lh3.googleusercontent.com/a-/AOh14GiIWFHtan62vtW1gz2Bv2bxL3rppefcadxzEVxRKQ=s64",
      "userId": "03254185060287524023"
     },
     "user_tz": -330
    },
    "id": "YshQj9srpeT6",
    "outputId": "ed518cb0-d7c8-4f03-d3b8-5f411fd3db3c",
    "papermill": {
     "duration": 4.186459,
     "end_time": "2023-03-16T13:59:46.992996",
     "exception": false,
     "start_time": "2023-03-16T13:59:42.806537",
     "status": "completed"
    },
    "tags": []
   },
   "outputs": [
    {
     "name": "stdout",
     "output_type": "stream",
     "text": [
      "images.shape: torch.Size([128, 1, 28, 28])\n"
     ]
    },
    {
     "data": {
      "image/png": "[encoded data removed]",
      "text/plain": [
       "<Figure size 1600x800 with 1 Axes>"
      ]
     },
     "metadata": {},
     "output_type": "display_data"
    }
   ],
   "source": [
    "for images, _ in train_loader:\n",
    "    print('images.shape:', images.shape)\n",
    "    plt.figure(figsize=(16,8))\n",
    "    plt.axis('off')\n",
    "    plt.imshow(make_grid(images, nrow=16).permute((1, 2, 0)))\n",
    "    break"
   ]
  },
  {
   "cell_type": "markdown",
   "id": "e8e7c7e5",
   "metadata": {
    "id": "OKEjn2zvpeT6",
    "papermill": {
     "duration": 0.02591,
     "end_time": "2023-03-16T13:59:47.045274",
     "exception": false,
     "start_time": "2023-03-16T13:59:47.019364",
     "status": "completed"
    },
    "tags": []
   },
   "source": [
    "## Hidden Layers, Activation Functions and Non-Linearity\n",
    "\n",
    "We'll create a neural network with two layers: a _hidden layer_ and an _output layer_. Additionally, we'll use an _activation function_ between the two layers. Let's look at a step-by-step example to learn how hidden layers and activation functions can help capture non-linear relationships between inputs and outputs.\n",
    "\n",
    "First, let's create a batch of inputs tensors. We'll flatten the `1x28x28` images into vectors of size `784`, so they can be passed into an `nn.Linear` object."
   ]
  },
  {
   "cell_type": "code",
   "execution_count": 10,
   "id": "f62f2f47",
   "metadata": {
    "execution": {
     "iopub.execute_input": "2023-03-16T13:59:47.099611Z",
     "iopub.status.busy": "2023-03-16T13:59:47.099276Z",
     "iopub.status.idle": "2023-03-16T13:59:47.367506Z",
     "shell.execute_reply": "2023-03-16T13:59:47.366005Z"
    },
    "executionInfo": {
     "elapsed": 869,
     "status": "ok",
     "timestamp": 1607147121851,
     "user": {
      "displayName": "Aakash N S",
      "photoUrl": "https://lh3.googleusercontent.com/a-/AOh14GiIWFHtan62vtW1gz2Bv2bxL3rppefcadxzEVxRKQ=s64",
      "userId": "03254185060287524023"
     },
     "user_tz": -330
    },
    "id": "B5iPCdqEpeT6",
    "outputId": "4919e133-729f-4b18-a885-ee62c26cdac3",
    "papermill": {
     "duration": 0.298622,
     "end_time": "2023-03-16T13:59:47.370611",
     "exception": false,
     "start_time": "2023-03-16T13:59:47.071989",
     "status": "completed"
    },
    "tags": []
   },
   "outputs": [
    {
     "name": "stdout",
     "output_type": "stream",
     "text": [
      "images.shape: torch.Size([128, 1, 28, 28])\n",
      "inputs.shape: torch.Size([128, 784])\n"
     ]
    }
   ],
   "source": [
    "for images, labels in train_loader:\n",
    "    print('images.shape:', images.shape)\n",
    "    inputs = images.reshape(-1, 784)\n",
    "    print('inputs.shape:', inputs.shape)\n",
    "    break"
   ]
  },
  {
   "cell_type": "markdown",
   "id": "9f3b9c0d",
   "metadata": {
    "id": "mF__u2QfpeT6",
    "papermill": {
     "duration": 0.026223,
     "end_time": "2023-03-16T13:59:47.423358",
     "exception": false,
     "start_time": "2023-03-16T13:59:47.397135",
     "status": "completed"
    },
    "tags": []
   },
   "source": [
    "Next, let's create a `nn.Linear` object, which will serve as our _hidden_ layer. We'll set the size of the output from the hidden layer to 32. This number can be increased or decreased to change the _learning capacity_ of the model."
   ]
  },
  {
   "cell_type": "code",
   "execution_count": 11,
   "id": "d16ea448",
   "metadata": {
    "execution": {
     "iopub.execute_input": "2023-03-16T13:59:47.474926Z",
     "iopub.status.busy": "2023-03-16T13:59:47.474564Z",
     "iopub.status.idle": "2023-03-16T13:59:47.479643Z",
     "shell.execute_reply": "2023-03-16T13:59:47.478611Z"
    },
    "executionInfo": {
     "elapsed": 1138,
     "status": "ok",
     "timestamp": 1607147167079,
     "user": {
      "displayName": "Aakash N S",
      "photoUrl": "https://lh3.googleusercontent.com/a-/AOh14GiIWFHtan62vtW1gz2Bv2bxL3rppefcadxzEVxRKQ=s64",
      "userId": "03254185060287524023"
     },
     "user_tz": -330
    },
    "id": "6zXN1c4PpeT6",
    "papermill": {
     "duration": 0.033495,
     "end_time": "2023-03-16T13:59:47.481856",
     "exception": false,
     "start_time": "2023-03-16T13:59:47.448361",
     "status": "completed"
    },
    "tags": []
   },
   "outputs": [],
   "source": [
    "input_size = inputs.shape[-1]\n",
    "hidden_size = 32"
   ]
  },
  {
   "cell_type": "code",
   "execution_count": 12,
   "id": "53e8c226",
   "metadata": {
    "execution": {
     "iopub.execute_input": "2023-03-16T13:59:47.534934Z",
     "iopub.status.busy": "2023-03-16T13:59:47.533983Z",
     "iopub.status.idle": "2023-03-16T13:59:47.542344Z",
     "shell.execute_reply": "2023-03-16T13:59:47.541446Z"
    },
    "executionInfo": {
     "elapsed": 1145,
     "status": "ok",
     "timestamp": 1607147168826,
     "user": {
      "displayName": "Aakash N S",
      "photoUrl": "https://lh3.googleusercontent.com/a-/AOh14GiIWFHtan62vtW1gz2Bv2bxL3rppefcadxzEVxRKQ=s64",
      "userId": "03254185060287524023"
     },
     "user_tz": -330
    },
    "id": "oOAh7CLZpeT7",
    "papermill": {
     "duration": 0.036868,
     "end_time": "2023-03-16T13:59:47.544479",
     "exception": false,
     "start_time": "2023-03-16T13:59:47.507611",
     "status": "completed"
    },
    "tags": []
   },
   "outputs": [],
   "source": [
    "layer1 = nn.Linear(input_size, hidden_size)"
   ]
  },
  {
   "cell_type": "markdown",
   "id": "a4a78cc5",
   "metadata": {
    "id": "YzqPBDuypeT7",
    "papermill": {
     "duration": 0.02497,
     "end_time": "2023-03-16T13:59:47.594327",
     "exception": false,
     "start_time": "2023-03-16T13:59:47.569357",
     "status": "completed"
    },
    "tags": []
   },
   "source": [
    "We can now compute intermediate outputs for the batch of images by passing `inputs` through `layer1`."
   ]
  },
  {
   "cell_type": "code",
   "execution_count": 13,
   "id": "f19e6957",
   "metadata": {
    "execution": {
     "iopub.execute_input": "2023-03-16T13:59:47.647087Z",
     "iopub.status.busy": "2023-03-16T13:59:47.646052Z",
     "iopub.status.idle": "2023-03-16T13:59:47.653214Z",
     "shell.execute_reply": "2023-03-16T13:59:47.652140Z"
    },
    "executionInfo": {
     "elapsed": 1099,
     "status": "ok",
     "timestamp": 1607147207537,
     "user": {
      "displayName": "Aakash N S",
      "photoUrl": "https://lh3.googleusercontent.com/a-/AOh14GiIWFHtan62vtW1gz2Bv2bxL3rppefcadxzEVxRKQ=s64",
      "userId": "03254185060287524023"
     },
     "user_tz": -330
    },
    "id": "zd0YcDIlcCKb",
    "outputId": "07b3d397-8a89-47fd-f50f-1116ae3a1f53",
    "papermill": {
     "duration": 0.035715,
     "end_time": "2023-03-16T13:59:47.655321",
     "exception": false,
     "start_time": "2023-03-16T13:59:47.619606",
     "status": "completed"
    },
    "tags": []
   },
   "outputs": [
    {
     "data": {
      "text/plain": [
       "torch.Size([128, 784])"
      ]
     },
     "execution_count": 13,
     "metadata": {},
     "output_type": "execute_result"
    }
   ],
   "source": [
    "inputs.shape"
   ]
  },
  {
   "cell_type": "code",
   "execution_count": 14,
   "id": "1f89fd3c",
   "metadata": {
    "execution": {
     "iopub.execute_input": "2023-03-16T13:59:47.708183Z",
     "iopub.status.busy": "2023-03-16T13:59:47.707112Z",
     "iopub.status.idle": "2023-03-16T13:59:47.775029Z",
     "shell.execute_reply": "2023-03-16T13:59:47.773894Z"
    },
    "executionInfo": {
     "elapsed": 859,
     "status": "ok",
     "timestamp": 1607147191226,
     "user": {
      "displayName": "Aakash N S",
      "photoUrl": "https://lh3.googleusercontent.com/a-/AOh14GiIWFHtan62vtW1gz2Bv2bxL3rppefcadxzEVxRKQ=s64",
      "userId": "03254185060287524023"
     },
     "user_tz": -330
    },
    "id": "pD_FPxeipeT7",
    "outputId": "37f552e1-ac92-4e02-e948-2660b7b6fb43",
    "papermill": {
     "duration": 0.097502,
     "end_time": "2023-03-16T13:59:47.777804",
     "exception": false,
     "start_time": "2023-03-16T13:59:47.680302",
     "status": "completed"
    },
    "tags": []
   },
   "outputs": [
    {
     "name": "stdout",
     "output_type": "stream",
     "text": [
      "layer1_outputs.shape: torch.Size([128, 32])\n"
     ]
    }
   ],
   "source": [
    "layer1_outputs = layer1(inputs)\n",
    "print('layer1_outputs.shape:', layer1_outputs.shape)"
   ]
  },
  {
   "cell_type": "markdown",
   "id": "a8de4f0f",
   "metadata": {
    "id": "PK-eA2QTpeT7",
    "papermill": {
     "duration": 0.024844,
     "end_time": "2023-03-16T13:59:47.828478",
     "exception": false,
     "start_time": "2023-03-16T13:59:47.803634",
     "status": "completed"
    },
    "tags": []
   },
   "source": [
    "The image vectors of size `784` are transformed into intermediate output vectors of length `32` by performing a matrix multiplication of `inputs` matrix with the transposed weights matrix of `layer1` and adding the bias. We can verify this using `torch.allclose`. For a more detailed explanation, review the tutorial on [linear regression](https://jovian.ai/aakashns/02-linear-regression)."
   ]
  },
  {
   "cell_type": "code",
   "execution_count": 15,
   "id": "be66132a",
   "metadata": {
    "execution": {
     "iopub.execute_input": "2023-03-16T13:59:47.880285Z",
     "iopub.status.busy": "2023-03-16T13:59:47.879753Z",
     "iopub.status.idle": "2023-03-16T13:59:47.896760Z",
     "shell.execute_reply": "2023-03-16T13:59:47.895784Z"
    },
    "executionInfo": {
     "elapsed": 874,
     "status": "ok",
     "timestamp": 1607147293249,
     "user": {
      "displayName": "Aakash N S",
      "photoUrl": "https://lh3.googleusercontent.com/a-/AOh14GiIWFHtan62vtW1gz2Bv2bxL3rppefcadxzEVxRKQ=s64",
      "userId": "03254185060287524023"
     },
     "user_tz": -330
    },
    "id": "0dEnp5VjpeT7",
    "outputId": "4bc3fbac-1947-4bf3-abdb-37ba5a21b257",
    "papermill": {
     "duration": 0.045415,
     "end_time": "2023-03-16T13:59:47.898828",
     "exception": false,
     "start_time": "2023-03-16T13:59:47.853413",
     "status": "completed"
    },
    "tags": []
   },
   "outputs": [
    {
     "data": {
      "text/plain": [
       "torch.Size([128, 32])"
      ]
     },
     "execution_count": 15,
     "metadata": {},
     "output_type": "execute_result"
    }
   ],
   "source": [
    "layer1_outputs_direct = inputs @ layer1.weight.t() + layer1.bias\n",
    "layer1_outputs_direct.shape"
   ]
  },
  {
   "cell_type": "code",
   "execution_count": 16,
   "id": "bfb9cf54",
   "metadata": {
    "execution": {
     "iopub.execute_input": "2023-03-16T13:59:47.951892Z",
     "iopub.status.busy": "2023-03-16T13:59:47.950949Z",
     "iopub.status.idle": "2023-03-16T13:59:47.974013Z",
     "shell.execute_reply": "2023-03-16T13:59:47.972995Z"
    },
    "papermill": {
     "duration": 0.052092,
     "end_time": "2023-03-16T13:59:47.976163",
     "exception": false,
     "start_time": "2023-03-16T13:59:47.924071",
     "status": "completed"
    },
    "tags": []
   },
   "outputs": [
    {
     "data": {
      "text/plain": [
       "True"
      ]
     },
     "execution_count": 16,
     "metadata": {},
     "output_type": "execute_result"
    }
   ],
   "source": [
    "torch.allclose(layer1_outputs, layer1_outputs_direct, 1e-3)"
   ]
  },
  {
   "cell_type": "markdown",
   "id": "76b44d6d",
   "metadata": {
    "id": "MW9IXDPtpeT7",
    "papermill": {
     "duration": 0.025004,
     "end_time": "2023-03-16T13:59:48.026440",
     "exception": false,
     "start_time": "2023-03-16T13:59:48.001436",
     "status": "completed"
    },
    "tags": []
   },
   "source": [
    "Thus, `layer1_outputs` and `inputs` have a linear relationship, i.e., each element of `layer_outputs` is a weighted sum of elements from `inputs`. Thus, even as we train the model and modify the weights, `layer1` can only capture linear relationships between `inputs` and `outputs`.\n",
    "\n",
    "<img src=\"https://i.imgur.com/inXsLuq.png\" width=\"360\">\n"
   ]
  },
  {
   "cell_type": "markdown",
   "id": "ad60f7fb",
   "metadata": {
    "papermill": {
     "duration": 0.025104,
     "end_time": "2023-03-16T13:59:48.076698",
     "exception": false,
     "start_time": "2023-03-16T13:59:48.051594",
     "status": "completed"
    },
    "tags": []
   },
   "source": [
    "Next, we'll use the Rectified Linear Unit (ReLU) function as the activation function for the outputs. It has the formula `relu(x) = max(0,x)` i.e. it simply replaces negative values in a given tensor with the value 0. ReLU is a non-linear function, as seen here visually:\n",
    "\n",
    "<img src=\"https://i.imgur.com/yijV4xF.png\" width=\"420\">\n",
    "\n",
    "We can use the `F.relu` method to apply ReLU to the elements of a tensor."
   ]
  },
  {
   "cell_type": "code",
   "execution_count": 17,
   "id": "822a0a94",
   "metadata": {
    "execution": {
     "iopub.execute_input": "2023-03-16T13:59:48.129298Z",
     "iopub.status.busy": "2023-03-16T13:59:48.128469Z",
     "iopub.status.idle": "2023-03-16T13:59:48.156945Z",
     "shell.execute_reply": "2023-03-16T13:59:48.155887Z"
    },
    "executionInfo": {
     "elapsed": 856,
     "status": "ok",
     "timestamp": 1607147404489,
     "user": {
      "displayName": "Aakash N S",
      "photoUrl": "https://lh3.googleusercontent.com/a-/AOh14GiIWFHtan62vtW1gz2Bv2bxL3rppefcadxzEVxRKQ=s64",
      "userId": "03254185060287524023"
     },
     "user_tz": -330
    },
    "id": "zHMpGUGRpeT7",
    "outputId": "73821aa2-39ff-4422-cd6a-b6daaef65521",
    "papermill": {
     "duration": 0.056978,
     "end_time": "2023-03-16T13:59:48.159025",
     "exception": false,
     "start_time": "2023-03-16T13:59:48.102047",
     "status": "completed"
    },
    "tags": []
   },
   "outputs": [
    {
     "data": {
      "text/plain": [
       "tensor([[1.0000, 0.0000, 0.0000],\n",
       "        [0.0000, 0.2000, 3.0000]])"
      ]
     },
     "execution_count": 17,
     "metadata": {},
     "output_type": "execute_result"
    }
   ],
   "source": [
    "F.relu(torch.tensor([[1, -1, 0], \n",
    "                     [-0.1, .2, 3]]))"
   ]
  },
  {
   "cell_type": "markdown",
   "id": "a5f78d37",
   "metadata": {
    "id": "Y0QIFoEopeT7",
    "papermill": {
     "duration": 0.025124,
     "end_time": "2023-03-16T13:59:48.209686",
     "exception": false,
     "start_time": "2023-03-16T13:59:48.184562",
     "status": "completed"
    },
    "tags": []
   },
   "source": [
    "Let's apply the activation function to `layer1_outputs` and verify that negative values were replaced with 0."
   ]
  },
  {
   "cell_type": "code",
   "execution_count": 18,
   "id": "f5594cb3",
   "metadata": {
    "execution": {
     "iopub.execute_input": "2023-03-16T13:59:48.263593Z",
     "iopub.status.busy": "2023-03-16T13:59:48.262498Z",
     "iopub.status.idle": "2023-03-16T13:59:48.272131Z",
     "shell.execute_reply": "2023-03-16T13:59:48.270786Z"
    },
    "executionInfo": {
     "elapsed": 851,
     "status": "ok",
     "timestamp": 1607147451170,
     "user": {
      "displayName": "Aakash N S",
      "photoUrl": "https://lh3.googleusercontent.com/a-/AOh14GiIWFHtan62vtW1gz2Bv2bxL3rppefcadxzEVxRKQ=s64",
      "userId": "03254185060287524023"
     },
     "user_tz": -330
    },
    "id": "QqBj3KsnpeT7",
    "outputId": "b7d59b68-e58e-4788-b841-5c75ec574cb6",
    "papermill": {
     "duration": 0.039041,
     "end_time": "2023-03-16T13:59:48.274268",
     "exception": false,
     "start_time": "2023-03-16T13:59:48.235227",
     "status": "completed"
    },
    "tags": []
   },
   "outputs": [
    {
     "name": "stdout",
     "output_type": "stream",
     "text": [
      "min(layer1_outputs): -0.7789531946182251\n",
      "min(relu_outputs): 0.0\n"
     ]
    }
   ],
   "source": [
    "relu_outputs = F.relu(layer1_outputs)\n",
    "print('min(layer1_outputs):', torch.min(layer1_outputs).item())\n",
    "print('min(relu_outputs):', torch.min(relu_outputs).item())"
   ]
  },
  {
   "cell_type": "markdown",
   "id": "3ec0b520",
   "metadata": {
    "id": "g42i491NpeT7",
    "papermill": {
     "duration": 0.025735,
     "end_time": "2023-03-16T13:59:48.325983",
     "exception": false,
     "start_time": "2023-03-16T13:59:48.300248",
     "status": "completed"
    },
    "tags": []
   },
   "source": [
    "Now that we've applied a non-linear activation function, `relu_outputs` and `inputs` do not have a linear relationship. We refer to `ReLU` as the _activation function_, because for each input certain outputs are activated (those with non-zero values) while others turned off (those with zero values)\n",
    "\n",
    "Next, let's create an output layer to convert vectors of length `hidden_size` in `relu_outputs` into vectors of length 10, which is the desired output of our model (since there are 10 target labels)."
   ]
  },
  {
   "cell_type": "code",
   "execution_count": 19,
   "id": "5eb535df",
   "metadata": {
    "execution": {
     "iopub.execute_input": "2023-03-16T13:59:48.380414Z",
     "iopub.status.busy": "2023-03-16T13:59:48.379562Z",
     "iopub.status.idle": "2023-03-16T13:59:48.384682Z",
     "shell.execute_reply": "2023-03-16T13:59:48.383772Z"
    },
    "executionInfo": {
     "elapsed": 955,
     "status": "ok",
     "timestamp": 1607147503435,
     "user": {
      "displayName": "Aakash N S",
      "photoUrl": "https://lh3.googleusercontent.com/a-/AOh14GiIWFHtan62vtW1gz2Bv2bxL3rppefcadxzEVxRKQ=s64",
      "userId": "03254185060287524023"
     },
     "user_tz": -330
    },
    "id": "k1qY-KYzpeT7",
    "papermill": {
     "duration": 0.034454,
     "end_time": "2023-03-16T13:59:48.386861",
     "exception": false,
     "start_time": "2023-03-16T13:59:48.352407",
     "status": "completed"
    },
    "tags": []
   },
   "outputs": [],
   "source": [
    "output_size = 10\n",
    "layer2 = nn.Linear(hidden_size, output_size)"
   ]
  },
  {
   "cell_type": "code",
   "execution_count": 20,
   "id": "09b54542",
   "metadata": {
    "execution": {
     "iopub.execute_input": "2023-03-16T13:59:48.439068Z",
     "iopub.status.busy": "2023-03-16T13:59:48.438744Z",
     "iopub.status.idle": "2023-03-16T13:59:48.444394Z",
     "shell.execute_reply": "2023-03-16T13:59:48.443317Z"
    },
    "executionInfo": {
     "elapsed": 887,
     "status": "ok",
     "timestamp": 1607147514398,
     "user": {
      "displayName": "Aakash N S",
      "photoUrl": "https://lh3.googleusercontent.com/a-/AOh14GiIWFHtan62vtW1gz2Bv2bxL3rppefcadxzEVxRKQ=s64",
      "userId": "03254185060287524023"
     },
     "user_tz": -330
    },
    "id": "D_DuKvL8peT7",
    "outputId": "4542bfde-4c73-4a38-8491-e3b808395db7",
    "papermill": {
     "duration": 0.03561,
     "end_time": "2023-03-16T13:59:48.447904",
     "exception": false,
     "start_time": "2023-03-16T13:59:48.412294",
     "status": "completed"
    },
    "tags": []
   },
   "outputs": [
    {
     "name": "stdout",
     "output_type": "stream",
     "text": [
      "torch.Size([128, 10])\n"
     ]
    }
   ],
   "source": [
    "layer2_outputs = layer2(relu_outputs)\n",
    "print(layer2_outputs.shape)"
   ]
  },
  {
   "cell_type": "code",
   "execution_count": 21,
   "id": "30cd5b9e",
   "metadata": {
    "execution": {
     "iopub.execute_input": "2023-03-16T13:59:48.505374Z",
     "iopub.status.busy": "2023-03-16T13:59:48.505020Z",
     "iopub.status.idle": "2023-03-16T13:59:48.511626Z",
     "shell.execute_reply": "2023-03-16T13:59:48.510540Z"
    },
    "executionInfo": {
     "elapsed": 1102,
     "status": "ok",
     "timestamp": 1607147527699,
     "user": {
      "displayName": "Aakash N S",
      "photoUrl": "https://lh3.googleusercontent.com/a-/AOh14GiIWFHtan62vtW1gz2Bv2bxL3rppefcadxzEVxRKQ=s64",
      "userId": "03254185060287524023"
     },
     "user_tz": -330
    },
    "id": "caxPuaS9dQhH",
    "outputId": "d2ba04fb-a317-4dc9-d015-ae48900e983b",
    "papermill": {
     "duration": 0.037304,
     "end_time": "2023-03-16T13:59:48.514108",
     "exception": false,
     "start_time": "2023-03-16T13:59:48.476804",
     "status": "completed"
    },
    "tags": []
   },
   "outputs": [
    {
     "data": {
      "text/plain": [
       "torch.Size([128, 784])"
      ]
     },
     "execution_count": 21,
     "metadata": {},
     "output_type": "execute_result"
    }
   ],
   "source": [
    "inputs.shape"
   ]
  },
  {
   "cell_type": "markdown",
   "id": "fa2f464f",
   "metadata": {
    "id": "AikFPlJppeT7",
    "papermill": {
     "duration": 0.029734,
     "end_time": "2023-03-16T13:59:48.573198",
     "exception": false,
     "start_time": "2023-03-16T13:59:48.543464",
     "status": "completed"
    },
    "tags": []
   },
   "source": [
    "As expected, `layer2_outputs` contains a batch of vectors of size 10. We can now use this output to compute the loss using `F.cross_entropy` and adjust the weights of `layer1` and `layer2` using gradient descent."
   ]
  },
  {
   "cell_type": "code",
   "execution_count": 22,
   "id": "dbaadd4f",
   "metadata": {
    "execution": {
     "iopub.execute_input": "2023-03-16T13:59:48.632121Z",
     "iopub.status.busy": "2023-03-16T13:59:48.631740Z",
     "iopub.status.idle": "2023-03-16T13:59:48.649304Z",
     "shell.execute_reply": "2023-03-16T13:59:48.648070Z"
    },
    "executionInfo": {
     "elapsed": 874,
     "status": "ok",
     "timestamp": 1607147565217,
     "user": {
      "displayName": "Aakash N S",
      "photoUrl": "https://lh3.googleusercontent.com/a-/AOh14GiIWFHtan62vtW1gz2Bv2bxL3rppefcadxzEVxRKQ=s64",
      "userId": "03254185060287524023"
     },
     "user_tz": -330
    },
    "id": "CQ_ArLNApeT7",
    "outputId": "05ddc267-9532-4b02-d7d3-402feb78be0a",
    "papermill": {
     "duration": 0.048044,
     "end_time": "2023-03-16T13:59:48.651460",
     "exception": false,
     "start_time": "2023-03-16T13:59:48.603416",
     "status": "completed"
    },
    "tags": []
   },
   "outputs": [
    {
     "data": {
      "text/plain": [
       "tensor(2.3245, grad_fn=<NllLossBackward0>)"
      ]
     },
     "execution_count": 22,
     "metadata": {},
     "output_type": "execute_result"
    }
   ],
   "source": [
    "F.cross_entropy(layer2_outputs, labels)"
   ]
  },
  {
   "cell_type": "markdown",
   "id": "3cb31207",
   "metadata": {
    "id": "UazxyCKHpeT7",
    "papermill": {
     "duration": 0.026264,
     "end_time": "2023-03-16T13:59:48.704530",
     "exception": false,
     "start_time": "2023-03-16T13:59:48.678266",
     "status": "completed"
    },
    "tags": []
   },
   "source": [
    "Thus, our model transforms `inputs` into `layer2_outputs` by applying a linear transformation (using `layer1`), followed by a non-linear activation (using `F.relu`), followed by another linear transformation (using `layer2`). Let's verify this by re-computing the output using basic matrix operations."
   ]
  },
  {
   "cell_type": "code",
   "execution_count": 23,
   "id": "408a7a89",
   "metadata": {
    "execution": {
     "iopub.execute_input": "2023-03-16T13:59:48.759623Z",
     "iopub.status.busy": "2023-03-16T13:59:48.758904Z",
     "iopub.status.idle": "2023-03-16T13:59:48.764918Z",
     "shell.execute_reply": "2023-03-16T13:59:48.763861Z"
    },
    "executionInfo": {
     "elapsed": 826,
     "status": "ok",
     "timestamp": 1607147631503,
     "user": {
      "displayName": "Aakash N S",
      "photoUrl": "https://lh3.googleusercontent.com/a-/AOh14GiIWFHtan62vtW1gz2Bv2bxL3rppefcadxzEVxRKQ=s64",
      "userId": "03254185060287524023"
     },
     "user_tz": -330
    },
    "id": "vNQ2nPijpeT7",
    "papermill": {
     "duration": 0.035999,
     "end_time": "2023-03-16T13:59:48.767275",
     "exception": false,
     "start_time": "2023-03-16T13:59:48.731276",
     "status": "completed"
    },
    "tags": []
   },
   "outputs": [],
   "source": [
    "# Expanded version of layer2(F.relu(layer1(inputs)))\n",
    "outputs = (F.relu(inputs @ layer1.weight.t() + layer1.bias)) @ layer2.weight.t() + layer2.bias"
   ]
  },
  {
   "cell_type": "code",
   "execution_count": 24,
   "id": "9996c0f0",
   "metadata": {
    "execution": {
     "iopub.execute_input": "2023-03-16T13:59:48.831070Z",
     "iopub.status.busy": "2023-03-16T13:59:48.829997Z",
     "iopub.status.idle": "2023-03-16T13:59:48.838522Z",
     "shell.execute_reply": "2023-03-16T13:59:48.837337Z"
    },
    "executionInfo": {
     "elapsed": 1050,
     "status": "ok",
     "timestamp": 1607147647339,
     "user": {
      "displayName": "Aakash N S",
      "photoUrl": "https://lh3.googleusercontent.com/a-/AOh14GiIWFHtan62vtW1gz2Bv2bxL3rppefcadxzEVxRKQ=s64",
      "userId": "03254185060287524023"
     },
     "user_tz": -330
    },
    "id": "4BgaRib-peT7",
    "outputId": "46fe04bb-ecee-4f75-9f3b-5ca9507534ab",
    "papermill": {
     "duration": 0.043044,
     "end_time": "2023-03-16T13:59:48.841063",
     "exception": false,
     "start_time": "2023-03-16T13:59:48.798019",
     "status": "completed"
    },
    "tags": []
   },
   "outputs": [
    {
     "data": {
      "text/plain": [
       "True"
      ]
     },
     "execution_count": 24,
     "metadata": {},
     "output_type": "execute_result"
    }
   ],
   "source": [
    "torch.allclose(outputs, layer2_outputs, 1e-3)"
   ]
  },
  {
   "cell_type": "markdown",
   "id": "64e0ffa0",
   "metadata": {
    "id": "ZLOjL89WpeT7",
    "papermill": {
     "duration": 0.029952,
     "end_time": "2023-03-16T13:59:48.901460",
     "exception": false,
     "start_time": "2023-03-16T13:59:48.871508",
     "status": "completed"
    },
    "tags": []
   },
   "source": [
    "Note that `outputs` and `inputs` do not have a linear relationship due to the non-linear activation function `F.relu`. As we train the model and adjust the weights of `layer1` and `layer2`, we can now capture non-linear relationships between the images and their labels. In other words, introducing non-linearity makes the model more powerful and versatile. Also, since `hidden_size` does not depend on the dimensions of the inputs or outputs, we vary it to increase the number of parameters within the model. We can also introduce new hidden layers and apply the same non-linear activation after each hidden layer.\n",
    "\n",
    "The model we just created is called a neural network. A _deep neural network_ is simply a neural network with one or more hidden layers. In fact, the [Universal Approximation Theorem](http://neuralnetworksanddeeplearning.com/chap4.html) states that a sufficiently large & deep neural network can compute any arbitrary function i.e. it can _learn_ rich and complex non-linear relationships between inputs and targets. Here are some examples:\n",
    "\n",
    "* Identifying if an image contains a cat or a dog (or [something else](https://machinelearningmastery.com/introduction-to-the-imagenet-large-scale-visual-recognition-challenge-ilsvrc/))\n",
    "* Identifying the genre of a song using a 10-second sample\n",
    "* Classifying movie reviews as positive or negative based on their content\n",
    "* Navigating self-driving cars using a video feed of the road\n",
    "* Translating sentences from English to French (and hundreds of other languages)\n",
    "* Converting a speech recording to text and vice versa\n",
    "* And many more...\n",
    "\n",
    "It's hard to imagine how the simple process of multiplying inputs with randomly initialized matrices, applying non-linear activations, and adjusting weights repeatedly using gradient descent can yield such astounding results. Deep learning models often contain millions of parameters, which can together capture far more complex relationships than the human brain can comprehend.\n",
    "\n",
    "If we hadn't included a non-linear activation between the two linear layers, the final relationship between inputs and outputs would still be linear. A simple refactoring of the computations illustrates this."
   ]
  },
  {
   "cell_type": "code",
   "execution_count": 25,
   "id": "851a1aa1",
   "metadata": {
    "execution": {
     "iopub.execute_input": "2023-03-16T13:59:48.958886Z",
     "iopub.status.busy": "2023-03-16T13:59:48.958533Z",
     "iopub.status.idle": "2023-03-16T13:59:48.964435Z",
     "shell.execute_reply": "2023-03-16T13:59:48.963393Z"
    },
    "executionInfo": {
     "elapsed": 851,
     "status": "ok",
     "timestamp": 1607147759305,
     "user": {
      "displayName": "Aakash N S",
      "photoUrl": "https://lh3.googleusercontent.com/a-/AOh14GiIWFHtan62vtW1gz2Bv2bxL3rppefcadxzEVxRKQ=s64",
      "userId": "03254185060287524023"
     },
     "user_tz": -330
    },
    "id": "AHWruKwlpeT7",
    "papermill": {
     "duration": 0.036063,
     "end_time": "2023-03-16T13:59:48.966611",
     "exception": false,
     "start_time": "2023-03-16T13:59:48.930548",
     "status": "completed"
    },
    "tags": []
   },
   "outputs": [],
   "source": [
    "# Same as layer2(layer1(inputs))\n",
    "outputs2 = (inputs @ layer1.weight.t() + layer1.bias) @ layer2.weight.t() + layer2.bias"
   ]
  },
  {
   "cell_type": "code",
   "execution_count": 26,
   "id": "16a907fb",
   "metadata": {
    "execution": {
     "iopub.execute_input": "2023-03-16T13:59:49.023640Z",
     "iopub.status.busy": "2023-03-16T13:59:49.022669Z",
     "iopub.status.idle": "2023-03-16T13:59:49.038496Z",
     "shell.execute_reply": "2023-03-16T13:59:49.037303Z"
    },
    "executionInfo": {
     "elapsed": 956,
     "status": "ok",
     "timestamp": 1607147759755,
     "user": {
      "displayName": "Aakash N S",
      "photoUrl": "https://lh3.googleusercontent.com/a-/AOh14GiIWFHtan62vtW1gz2Bv2bxL3rppefcadxzEVxRKQ=s64",
      "userId": "03254185060287524023"
     },
     "user_tz": -330
    },
    "id": "BTUU8qRRpeT8",
    "papermill": {
     "duration": 0.048068,
     "end_time": "2023-03-16T13:59:49.041344",
     "exception": false,
     "start_time": "2023-03-16T13:59:48.993276",
     "status": "completed"
    },
    "tags": []
   },
   "outputs": [],
   "source": [
    "# Create a single layer to replace the two linear layers\n",
    "combined_layer = nn.Linear(input_size, output_size)\n",
    "\n",
    "combined_layer.weight.data = layer2.weight @ layer1.weight\n",
    "combined_layer.bias.data = layer1.bias @ layer2.weight.t() + layer2.bias"
   ]
  },
  {
   "cell_type": "code",
   "execution_count": 27,
   "id": "c809aa1c",
   "metadata": {
    "execution": {
     "iopub.execute_input": "2023-03-16T13:59:49.099137Z",
     "iopub.status.busy": "2023-03-16T13:59:49.098836Z",
     "iopub.status.idle": "2023-03-16T13:59:49.103823Z",
     "shell.execute_reply": "2023-03-16T13:59:49.102757Z"
    },
    "papermill": {
     "duration": 0.035852,
     "end_time": "2023-03-16T13:59:49.105894",
     "exception": false,
     "start_time": "2023-03-16T13:59:49.070042",
     "status": "completed"
    },
    "tags": []
   },
   "outputs": [],
   "source": [
    "# Same as combined_layer(inputs)\n",
    "outputs3 = inputs @ combined_layer.weight.t() + combined_layer.bias"
   ]
  },
  {
   "cell_type": "code",
   "execution_count": 28,
   "id": "9e93fcc9",
   "metadata": {
    "execution": {
     "iopub.execute_input": "2023-03-16T13:59:49.160909Z",
     "iopub.status.busy": "2023-03-16T13:59:49.160085Z",
     "iopub.status.idle": "2023-03-16T13:59:49.167205Z",
     "shell.execute_reply": "2023-03-16T13:59:49.166138Z"
    },
    "executionInfo": {
     "elapsed": 1117,
     "status": "ok",
     "timestamp": 1607147770691,
     "user": {
      "displayName": "Aakash N S",
      "photoUrl": "https://lh3.googleusercontent.com/a-/AOh14GiIWFHtan62vtW1gz2Bv2bxL3rppefcadxzEVxRKQ=s64",
      "userId": "03254185060287524023"
     },
     "user_tz": -330
    },
    "id": "It7A4nzQpeT8",
    "outputId": "aeaae6d4-c4cb-4fcd-b303-606a4dbe4a96",
    "papermill": {
     "duration": 0.037334,
     "end_time": "2023-03-16T13:59:49.169329",
     "exception": false,
     "start_time": "2023-03-16T13:59:49.131995",
     "status": "completed"
    },
    "tags": []
   },
   "outputs": [
    {
     "data": {
      "text/plain": [
       "False"
      ]
     },
     "execution_count": 28,
     "metadata": {},
     "output_type": "execute_result"
    }
   ],
   "source": [
    "torch.allclose(outputs2, outputs3, 1e-3)"
   ]
  },
  {
   "cell_type": "markdown",
   "id": "de28ebbf",
   "metadata": {
    "id": "Y7NUCuW5wODZ",
    "papermill": {
     "duration": 0.026082,
     "end_time": "2023-03-16T13:59:49.222506",
     "exception": false,
     "start_time": "2023-03-16T13:59:49.196424",
     "status": "completed"
    },
    "tags": []
   },
   "source": [
    "### Save and upload your notebook\n",
    "\n",
    "Whether you're running this Jupyter notebook online or on your computer, it's essential to save your work from time to time. You can continue working on a saved notebook later or share it with friends and colleagues to let them execute your code. [Jovian](https://jovian.ai/platform-features) offers an easy way of saving and sharing your Jupyter notebooks online."
   ]
  },
  {
   "cell_type": "markdown",
   "id": "79b209a4",
   "metadata": {
    "id": "ur3bA-lZwZBu",
    "papermill": {
     "duration": 0.027817,
     "end_time": "2023-03-16T13:59:49.277313",
     "exception": false,
     "start_time": "2023-03-16T13:59:49.249496",
     "status": "completed"
    },
    "tags": []
   },
   "source": [
    "`jovian.commit` uploads the notebook to your Jovian account, captures the Python environment, and creates a shareable link for your notebook, as shown above. You can use this link to share your work and let anyone (including you) run your notebooks and reproduce your work."
   ]
  },
  {
   "cell_type": "markdown",
   "id": "ed0d617c",
   "metadata": {
    "id": "l8dOeJyfpeT8",
    "papermill": {
     "duration": 0.026423,
     "end_time": "2023-03-16T13:59:49.329924",
     "exception": false,
     "start_time": "2023-03-16T13:59:49.303501",
     "status": "completed"
    },
    "tags": []
   },
   "source": [
    "## Model\n",
    "\n",
    "We are now ready to define our model. As discussed above, we'll create a neural network with one hidden layer. Here's what that means:\n",
    "\n",
    "* Instead of using a single `nn.Linear` object to transform a batch of inputs (pixel intensities) into outputs (class probabilities), we'll use two `nn.Linear` objects. Each of these is called a _layer_ in the network. \n",
    "\n",
    "* The first layer (also known as the hidden layer) will transform the input matrix of shape `batch_size x 784` into an intermediate output matrix of shape `batch_size x hidden_size`. The parameter `hidden_size` can be configured manually (e.g., 32 or 64).\n",
    "\n",
    "* We'll then apply a non-linear *activation function* to the intermediate outputs. The activation function transforms individual elements of the matrix.\n",
    "\n",
    "* The result of the activation function, which is also of size `batch_size x hidden_size`, is passed into the second layer (also known as the output layer).  The second layer transforms it into a matrix of size `batch_size x 10`. We can use this output to compute the loss and adjust weights using gradient descent.\n",
    "\n",
    "\n",
    "As discussed above, our model will contain one hidden layer. Here's what it looks like visually:\n",
    "\n",
    "<img src=\"https://i.imgur.com/eN7FrpF.png\" width=\"480\">\n",
    "\n",
    "\n",
    "Let's define the model by extending the `nn.Module` class from PyTorch."
   ]
  },
  {
   "cell_type": "code",
   "execution_count": 29,
   "id": "f4d2efdc",
   "metadata": {
    "execution": {
     "iopub.execute_input": "2023-03-16T13:59:49.385571Z",
     "iopub.status.busy": "2023-03-16T13:59:49.385198Z",
     "iopub.status.idle": "2023-03-16T13:59:49.397746Z",
     "shell.execute_reply": "2023-03-16T13:59:49.396778Z"
    },
    "executionInfo": {
     "elapsed": 921,
     "status": "ok",
     "timestamp": 1607148434259,
     "user": {
      "displayName": "Aakash N S",
      "photoUrl": "https://lh3.googleusercontent.com/a-/AOh14GiIWFHtan62vtW1gz2Bv2bxL3rppefcadxzEVxRKQ=s64",
      "userId": "03254185060287524023"
     },
     "user_tz": -330
    },
    "id": "_fKPW6tSpeT8",
    "papermill": {
     "duration": 0.043071,
     "end_time": "2023-03-16T13:59:49.400074",
     "exception": false,
     "start_time": "2023-03-16T13:59:49.357003",
     "status": "completed"
    },
    "tags": []
   },
   "outputs": [],
   "source": [
    "class MnistModel(nn.Module):\n",
    "    \"\"\"Feedfoward neural network with 1 hidden layer\"\"\"\n",
    "    def __init__(self, in_size, hidden_size, out_size):\n",
    "        super().__init__()\n",
    "        # hidden layer\n",
    "        self.linear1 = nn.Linear(in_size, hidden_size)\n",
    "        # output layer\n",
    "        self.linear2 = nn.Linear(hidden_size, out_size)\n",
    "        \n",
    "    def forward(self, xb):\n",
    "        # Flatten the image tensors\n",
    "        xb = xb.view(xb.size(0), -1)\n",
    "        # Get intermediate outputs using hidden layer\n",
    "        out = self.linear1(xb)\n",
    "        # Apply activation function\n",
    "        out = F.relu(out)\n",
    "        # Get predictions using output layer\n",
    "        out = self.linear2(out)\n",
    "        return out\n",
    "    \n",
    "    def training_step(self, batch):\n",
    "        images, labels = batch \n",
    "        images,labels = batch[0].to(device),batch[-1].to(device)\n",
    "        out = self(images)                  # Generate predictions\n",
    "        loss = F.cross_entropy(out, labels) # Calculate loss\n",
    "        return loss\n",
    "    \n",
    "    def validation_step(self, batch):\n",
    "        images, labels = batch \n",
    "        images,labels = batch[0].to(device),batch[-1].to(device)\n",
    "        out = self(images)                    # Generate predictions\n",
    "        loss = F.cross_entropy(out, labels)   # Calculate loss\n",
    "        acc = accuracy(out, labels)           # Calculate accuracy\n",
    "        return {'val_loss': loss, 'val_acc': acc}\n",
    "        \n",
    "    def validation_epoch_end(self, outputs):\n",
    "        batch_losses = [x['val_loss'] for x in outputs]\n",
    "        epoch_loss = torch.stack(batch_losses).mean()   # Combine losses\n",
    "        batch_accs = [x['val_acc'] for x in outputs]\n",
    "        epoch_acc = torch.stack(batch_accs).mean()      # Combine accuracies\n",
    "        return {'val_loss': epoch_loss.item(), 'val_acc': epoch_acc.item()}\n",
    "    \n",
    "    def epoch_end(self, epoch, result):\n",
    "        print(\"Epoch [{}], val_loss: {:.4f}, val_acc: {:.4f}\".format(epoch, result['val_loss'], result['val_acc']))"
   ]
  },
  {
   "cell_type": "markdown",
   "id": "f8b74d1c",
   "metadata": {
    "papermill": {
     "duration": 0.02578,
     "end_time": "2023-03-16T13:59:49.452143",
     "exception": false,
     "start_time": "2023-03-16T13:59:49.426363",
     "status": "completed"
    },
    "tags": []
   },
   "source": [
    "We also need to define an `accuracy` function which calculates the accuracy of the model's prediction on an batch of inputs. It's used in `validation_step` above."
   ]
  },
  {
   "cell_type": "code",
   "execution_count": 30,
   "id": "ef659cb1",
   "metadata": {
    "execution": {
     "iopub.execute_input": "2023-03-16T13:59:49.505995Z",
     "iopub.status.busy": "2023-03-16T13:59:49.505177Z",
     "iopub.status.idle": "2023-03-16T13:59:49.511039Z",
     "shell.execute_reply": "2023-03-16T13:59:49.510160Z"
    },
    "executionInfo": {
     "elapsed": 1077,
     "status": "ok",
     "timestamp": 1607149498146,
     "user": {
      "displayName": "Aakash N S",
      "photoUrl": "https://lh3.googleusercontent.com/a-/AOh14GiIWFHtan62vtW1gz2Bv2bxL3rppefcadxzEVxRKQ=s64",
      "userId": "03254185060287524023"
     },
     "user_tz": -330
    },
    "id": "ooA0PwVipeT8",
    "papermill": {
     "duration": 0.035154,
     "end_time": "2023-03-16T13:59:49.513213",
     "exception": false,
     "start_time": "2023-03-16T13:59:49.478059",
     "status": "completed"
    },
    "tags": []
   },
   "outputs": [],
   "source": [
    "def accuracy(outputs, labels):\n",
    "    _, preds = torch.max(outputs, dim=1)\n",
    "    return torch.tensor(torch.sum(preds == labels).item() / len(preds))"
   ]
  },
  {
   "cell_type": "markdown",
   "id": "7eee1afa",
   "metadata": {
    "id": "4sSd532VpeT8",
    "papermill": {
     "duration": 0.025669,
     "end_time": "2023-03-16T13:59:49.564663",
     "exception": false,
     "start_time": "2023-03-16T13:59:49.538994",
     "status": "completed"
    },
    "tags": []
   },
   "source": [
    "We'll create a model that contains a hidden layer with 32 activations."
   ]
  },
  {
   "cell_type": "code",
   "execution_count": 31,
   "id": "0189b6e9",
   "metadata": {
    "execution": {
     "iopub.execute_input": "2023-03-16T13:59:49.618900Z",
     "iopub.status.busy": "2023-03-16T13:59:49.618525Z",
     "iopub.status.idle": "2023-03-16T13:59:49.623595Z",
     "shell.execute_reply": "2023-03-16T13:59:49.622247Z"
    },
    "executionInfo": {
     "elapsed": 904,
     "status": "ok",
     "timestamp": 1607148434678,
     "user": {
      "displayName": "Aakash N S",
      "photoUrl": "https://lh3.googleusercontent.com/a-/AOh14GiIWFHtan62vtW1gz2Bv2bxL3rppefcadxzEVxRKQ=s64",
      "userId": "03254185060287524023"
     },
     "user_tz": -330
    },
    "id": "beSRnIQTpeT8",
    "papermill": {
     "duration": 0.035014,
     "end_time": "2023-03-16T13:59:49.625782",
     "exception": false,
     "start_time": "2023-03-16T13:59:49.590768",
     "status": "completed"
    },
    "tags": []
   },
   "outputs": [],
   "source": [
    "input_size = 784\n",
    "hidden_size = 32 # you can change this\n",
    "num_classes = 10"
   ]
  },
  {
   "cell_type": "code",
   "execution_count": 32,
   "id": "a339833e",
   "metadata": {
    "execution": {
     "iopub.execute_input": "2023-03-16T13:59:49.679405Z",
     "iopub.status.busy": "2023-03-16T13:59:49.678592Z",
     "iopub.status.idle": "2023-03-16T13:59:49.684591Z",
     "shell.execute_reply": "2023-03-16T13:59:49.683635Z"
    },
    "executionInfo": {
     "elapsed": 963,
     "status": "ok",
     "timestamp": 1607148435178,
     "user": {
      "displayName": "Aakash N S",
      "photoUrl": "https://lh3.googleusercontent.com/a-/AOh14GiIWFHtan62vtW1gz2Bv2bxL3rppefcadxzEVxRKQ=s64",
      "userId": "03254185060287524023"
     },
     "user_tz": -330
    },
    "id": "IvSp6BFppeT8",
    "papermill": {
     "duration": 0.035245,
     "end_time": "2023-03-16T13:59:49.686835",
     "exception": false,
     "start_time": "2023-03-16T13:59:49.651590",
     "status": "completed"
    },
    "tags": []
   },
   "outputs": [],
   "source": [
    "model = MnistModel(input_size, hidden_size=32, out_size=num_classes)"
   ]
  },
  {
   "cell_type": "markdown",
   "id": "1e73e3a3",
   "metadata": {
    "id": "EtWfv0N9peT8",
    "papermill": {
     "duration": 0.02683,
     "end_time": "2023-03-16T13:59:49.740206",
     "exception": false,
     "start_time": "2023-03-16T13:59:49.713376",
     "status": "completed"
    },
    "tags": []
   },
   "source": [
    "Let's take a look at the model's parameters. We expect to see one weight and bias matrix for each of the layers."
   ]
  },
  {
   "cell_type": "code",
   "execution_count": 33,
   "id": "caf60145",
   "metadata": {
    "execution": {
     "iopub.execute_input": "2023-03-16T13:59:49.795843Z",
     "iopub.status.busy": "2023-03-16T13:59:49.794853Z",
     "iopub.status.idle": "2023-03-16T13:59:49.801377Z",
     "shell.execute_reply": "2023-03-16T13:59:49.799751Z"
    },
    "executionInfo": {
     "elapsed": 1083,
     "status": "ok",
     "timestamp": 1607148444827,
     "user": {
      "displayName": "Aakash N S",
      "photoUrl": "https://lh3.googleusercontent.com/a-/AOh14GiIWFHtan62vtW1gz2Bv2bxL3rppefcadxzEVxRKQ=s64",
      "userId": "03254185060287524023"
     },
     "user_tz": -330
    },
    "id": "psecOJfZpeT8",
    "outputId": "8a7acfca-577f-47d7-d4b2-ee337318c711",
    "papermill": {
     "duration": 0.037592,
     "end_time": "2023-03-16T13:59:49.804070",
     "exception": false,
     "start_time": "2023-03-16T13:59:49.766478",
     "status": "completed"
    },
    "tags": []
   },
   "outputs": [
    {
     "name": "stdout",
     "output_type": "stream",
     "text": [
      "torch.Size([32, 784])\n",
      "torch.Size([32])\n",
      "torch.Size([10, 32])\n",
      "torch.Size([10])\n"
     ]
    }
   ],
   "source": [
    "for t in model.parameters():\n",
    "    print(t.shape)"
   ]
  },
  {
   "cell_type": "markdown",
   "id": "569e3917",
   "metadata": {
    "id": "zeFGsljIpeT8",
    "papermill": {
     "duration": 0.02594,
     "end_time": "2023-03-16T13:59:49.856227",
     "exception": false,
     "start_time": "2023-03-16T13:59:49.830287",
     "status": "completed"
    },
    "tags": []
   },
   "source": [
    "Let's try and generate some outputs using our model. We'll take the first batch of 128 images from our dataset and pass them into our model."
   ]
  },
  {
   "cell_type": "code",
   "execution_count": 34,
   "id": "bfbf4475",
   "metadata": {
    "execution": {
     "iopub.execute_input": "2023-03-16T13:59:49.909322Z",
     "iopub.status.busy": "2023-03-16T13:59:49.909038Z",
     "iopub.status.idle": "2023-03-16T13:59:50.142307Z",
     "shell.execute_reply": "2023-03-16T13:59:50.140777Z"
    },
    "executionInfo": {
     "elapsed": 915,
     "status": "ok",
     "timestamp": 1607148531317,
     "user": {
      "displayName": "Aakash N S",
      "photoUrl": "https://lh3.googleusercontent.com/a-/AOh14GiIWFHtan62vtW1gz2Bv2bxL3rppefcadxzEVxRKQ=s64",
      "userId": "03254185060287524023"
     },
     "user_tz": -330
    },
    "id": "jajA6VFYpeT8",
    "outputId": "0d9e12b4-c08f-4e8a-fc6f-43288e0efd65",
    "papermill": {
     "duration": 0.263464,
     "end_time": "2023-03-16T13:59:50.145647",
     "exception": false,
     "start_time": "2023-03-16T13:59:49.882183",
     "status": "completed"
    },
    "tags": []
   },
   "outputs": [
    {
     "name": "stdout",
     "output_type": "stream",
     "text": [
      "Loss: 2.3193702697753906\n",
      "outputs.shape :  torch.Size([128, 10])\n",
      "Sample outputs :\n",
      " tensor([[-0.1674,  0.2019, -0.1489,  0.1229, -0.0631,  0.1377, -0.1497, -0.0040,\n",
      "         -0.0333, -0.0126],\n",
      "        [-0.1312,  0.1436, -0.1137,  0.1598,  0.0668,  0.1801, -0.0643,  0.0623,\n",
      "         -0.0183, -0.0431]])\n"
     ]
    }
   ],
   "source": [
    "for images, labels in train_loader:\n",
    "    outputs = model(images)\n",
    "    loss = F.cross_entropy(outputs, labels)\n",
    "    print('Loss:', loss.item())\n",
    "    break\n",
    "\n",
    "print('outputs.shape : ', outputs.shape)\n",
    "print('Sample outputs :\\n', outputs[:2].data)"
   ]
  },
  {
   "cell_type": "markdown",
   "id": "1dead640",
   "metadata": {
    "id": "vmw6iiTXpeT8",
    "papermill": {
     "duration": 0.026111,
     "end_time": "2023-03-16T13:59:50.198471",
     "exception": false,
     "start_time": "2023-03-16T13:59:50.172360",
     "status": "completed"
    },
    "tags": []
   },
   "source": [
    "## Using a GPU\n",
    "\n",
    "As the sizes of our models and datasets increase, we need to use GPUs to train our models within a reasonable amount of time. GPUs contain hundreds of cores optimized for performing expensive matrix operations on floating-point numbers quickly, making them ideal for training deep neural networks. You can use GPUs for free on [Google Colab](https://colab.research.google.com/) and [Kaggle](https://www.kaggle.com/kernels) or rent GPU-powered machines on services like [Google Cloud Platform](https://cloud.google.com/gpu/), [Amazon Web Services](https://docs.aws.amazon.com/dlami/latest/devguide/gpu.html), and [Paperspace](https://www.paperspace.com/).\n",
    "\n",
    "We can check if a GPU is available and the required NVIDIA CUDA drivers are installed using `torch.cuda.is_available`."
   ]
  },
  {
   "cell_type": "code",
   "execution_count": 35,
   "id": "3f8eaaae",
   "metadata": {
    "execution": {
     "iopub.execute_input": "2023-03-16T13:59:50.253511Z",
     "iopub.status.busy": "2023-03-16T13:59:50.253135Z",
     "iopub.status.idle": "2023-03-16T13:59:50.259930Z",
     "shell.execute_reply": "2023-03-16T13:59:50.258897Z"
    },
    "executionInfo": {
     "elapsed": 900,
     "status": "ok",
     "timestamp": 1607148692518,
     "user": {
      "displayName": "Aakash N S",
      "photoUrl": "https://lh3.googleusercontent.com/a-/AOh14GiIWFHtan62vtW1gz2Bv2bxL3rppefcadxzEVxRKQ=s64",
      "userId": "03254185060287524023"
     },
     "user_tz": -330
    },
    "id": "gt2Ve_cFpeT8",
    "outputId": "c3d39897-9546-49a5-9bd7-440227c01db2",
    "papermill": {
     "duration": 0.036986,
     "end_time": "2023-03-16T13:59:50.262061",
     "exception": false,
     "start_time": "2023-03-16T13:59:50.225075",
     "status": "completed"
    },
    "tags": []
   },
   "outputs": [
    {
     "data": {
      "text/plain": [
       "True"
      ]
     },
     "execution_count": 35,
     "metadata": {},
     "output_type": "execute_result"
    }
   ],
   "source": [
    "torch.cuda.is_available()"
   ]
  },
  {
   "cell_type": "markdown",
   "id": "2c0253be",
   "metadata": {
    "id": "S2ffHXrnpeT8",
    "papermill": {
     "duration": 0.026786,
     "end_time": "2023-03-16T13:59:50.315536",
     "exception": false,
     "start_time": "2023-03-16T13:59:50.288750",
     "status": "completed"
    },
    "tags": []
   },
   "source": [
    "Let's define a helper function to ensure that our code uses the GPU if available and defaults to using the CPU if it isn't. "
   ]
  },
  {
   "cell_type": "code",
   "execution_count": 36,
   "id": "83f9f43b",
   "metadata": {
    "execution": {
     "iopub.execute_input": "2023-03-16T13:59:50.371455Z",
     "iopub.status.busy": "2023-03-16T13:59:50.371152Z",
     "iopub.status.idle": "2023-03-16T13:59:50.376465Z",
     "shell.execute_reply": "2023-03-16T13:59:50.375305Z"
    },
    "executionInfo": {
     "elapsed": 863,
     "status": "ok",
     "timestamp": 1607148792514,
     "user": {
      "displayName": "Aakash N S",
      "photoUrl": "https://lh3.googleusercontent.com/a-/AOh14GiIWFHtan62vtW1gz2Bv2bxL3rppefcadxzEVxRKQ=s64",
      "userId": "03254185060287524023"
     },
     "user_tz": -330
    },
    "id": "oY8kxA4tpeT8",
    "papermill": {
     "duration": 0.035845,
     "end_time": "2023-03-16T13:59:50.378743",
     "exception": false,
     "start_time": "2023-03-16T13:59:50.342898",
     "status": "completed"
    },
    "tags": []
   },
   "outputs": [],
   "source": [
    "def get_default_device():\n",
    "    \"\"\"Pick GPU if available, else CPU\"\"\"\n",
    "    if torch.cuda.is_available():\n",
    "        return torch.device('cuda')\n",
    "    else:\n",
    "        return torch.device('cpu')"
   ]
  },
  {
   "cell_type": "code",
   "execution_count": 37,
   "id": "e3016010",
   "metadata": {
    "execution": {
     "iopub.execute_input": "2023-03-16T13:59:50.433175Z",
     "iopub.status.busy": "2023-03-16T13:59:50.432896Z",
     "iopub.status.idle": "2023-03-16T13:59:50.438743Z",
     "shell.execute_reply": "2023-03-16T13:59:50.437768Z"
    },
    "executionInfo": {
     "elapsed": 1144,
     "status": "ok",
     "timestamp": 1607148794236,
     "user": {
      "displayName": "Aakash N S",
      "photoUrl": "https://lh3.googleusercontent.com/a-/AOh14GiIWFHtan62vtW1gz2Bv2bxL3rppefcadxzEVxRKQ=s64",
      "userId": "03254185060287524023"
     },
     "user_tz": -330
    },
    "id": "rgxTDAjtpeT8",
    "outputId": "98dcf48e-0730-4acd-c1fc-1a86f3051aa8",
    "papermill": {
     "duration": 0.03533,
     "end_time": "2023-03-16T13:59:50.440885",
     "exception": false,
     "start_time": "2023-03-16T13:59:50.405555",
     "status": "completed"
    },
    "tags": []
   },
   "outputs": [
    {
     "data": {
      "text/plain": [
       "device(type='cuda')"
      ]
     },
     "execution_count": 37,
     "metadata": {},
     "output_type": "execute_result"
    }
   ],
   "source": [
    "device = get_default_device()\n",
    "device"
   ]
  },
  {
   "cell_type": "markdown",
   "id": "555f7241",
   "metadata": {
    "id": "U58VabR4peT8",
    "papermill": {
     "duration": 0.026017,
     "end_time": "2023-03-16T13:59:50.492965",
     "exception": false,
     "start_time": "2023-03-16T13:59:50.466948",
     "status": "completed"
    },
    "tags": []
   },
   "source": [
    "Next, let's define a function that can move data and model to a chosen device."
   ]
  },
  {
   "cell_type": "code",
   "execution_count": 38,
   "id": "3fc5169b",
   "metadata": {
    "execution": {
     "iopub.execute_input": "2023-03-16T13:59:50.546672Z",
     "iopub.status.busy": "2023-03-16T13:59:50.546373Z",
     "iopub.status.idle": "2023-03-16T13:59:50.552125Z",
     "shell.execute_reply": "2023-03-16T13:59:50.551167Z"
    },
    "executionInfo": {
     "elapsed": 860,
     "status": "ok",
     "timestamp": 1607148855160,
     "user": {
      "displayName": "Aakash N S",
      "photoUrl": "https://lh3.googleusercontent.com/a-/AOh14GiIWFHtan62vtW1gz2Bv2bxL3rppefcadxzEVxRKQ=s64",
      "userId": "03254185060287524023"
     },
     "user_tz": -330
    },
    "id": "qe39OMPmpeT8",
    "papermill": {
     "duration": 0.0355,
     "end_time": "2023-03-16T13:59:50.554181",
     "exception": false,
     "start_time": "2023-03-16T13:59:50.518681",
     "status": "completed"
    },
    "tags": []
   },
   "outputs": [],
   "source": [
    "def to_device(data, device):\n",
    "    \"\"\"Move tensor(s) to chosen device\"\"\"\n",
    "    if isinstance(data, (list,tuple)):\n",
    "        return [to_device(x, device) for x in data]\n",
    "    return data.to(device, non_blocking=True)"
   ]
  },
  {
   "cell_type": "code",
   "execution_count": 39,
   "id": "ea8d2935",
   "metadata": {
    "execution": {
     "iopub.execute_input": "2023-03-16T13:59:50.614538Z",
     "iopub.status.busy": "2023-03-16T13:59:50.613819Z",
     "iopub.status.idle": "2023-03-16T13:59:50.902327Z",
     "shell.execute_reply": "2023-03-16T13:59:50.900805Z"
    },
    "executionInfo": {
     "elapsed": 873,
     "status": "ok",
     "timestamp": 1607148885595,
     "user": {
      "displayName": "Aakash N S",
      "photoUrl": "https://lh3.googleusercontent.com/a-/AOh14GiIWFHtan62vtW1gz2Bv2bxL3rppefcadxzEVxRKQ=s64",
      "userId": "03254185060287524023"
     },
     "user_tz": -330
    },
    "id": "bdouJFtwpeT8",
    "outputId": "8610ddd3-9b4a-4a6c-8aec-324b4c4a29bd",
    "papermill": {
     "duration": 0.322416,
     "end_time": "2023-03-16T13:59:50.904988",
     "exception": false,
     "start_time": "2023-03-16T13:59:50.582572",
     "status": "completed"
    },
    "tags": []
   },
   "outputs": [
    {
     "name": "stdout",
     "output_type": "stream",
     "text": [
      "torch.Size([128, 1, 28, 28])\n",
      "cuda:0\n"
     ]
    }
   ],
   "source": [
    "for images, labels in train_loader:\n",
    "    print(images.shape)\n",
    "    images = to_device(images, device)\n",
    "    print(images.device)\n",
    "    break"
   ]
  },
  {
   "cell_type": "markdown",
   "id": "c1e52d4c",
   "metadata": {
    "id": "WiKbIzujpeT9",
    "papermill": {
     "duration": 0.02754,
     "end_time": "2023-03-16T13:59:50.961128",
     "exception": false,
     "start_time": "2023-03-16T13:59:50.933588",
     "status": "completed"
    },
    "tags": []
   },
   "source": [
    "Finally, we define a `DeviceDataLoader` class to wrap our existing data loaders and move batches of data to the selected device. Interestingly, we don't need to extend an existing class to create a PyTorch datal oader. All we need is an `__iter__` method to retrieve batches of data and an `__len__` method to get the number of batches."
   ]
  },
  {
   "cell_type": "code",
   "execution_count": 40,
   "id": "83e12f81",
   "metadata": {
    "execution": {
     "iopub.execute_input": "2023-03-16T13:59:51.021426Z",
     "iopub.status.busy": "2023-03-16T13:59:51.020374Z",
     "iopub.status.idle": "2023-03-16T13:59:51.027790Z",
     "shell.execute_reply": "2023-03-16T13:59:51.026659Z"
    },
    "executionInfo": {
     "elapsed": 934,
     "status": "ok",
     "timestamp": 1607149162055,
     "user": {
      "displayName": "Aakash N S",
      "photoUrl": "https://lh3.googleusercontent.com/a-/AOh14GiIWFHtan62vtW1gz2Bv2bxL3rppefcadxzEVxRKQ=s64",
      "userId": "03254185060287524023"
     },
     "user_tz": -330
    },
    "id": "Mncx5AEcpeT9",
    "papermill": {
     "duration": 0.040637,
     "end_time": "2023-03-16T13:59:51.030044",
     "exception": false,
     "start_time": "2023-03-16T13:59:50.989407",
     "status": "completed"
    },
    "tags": []
   },
   "outputs": [],
   "source": [
    "class DeviceDataLoader():\n",
    "    \"\"\"Wrap a dataloader to move data to a device\"\"\"\n",
    "    def __init__(self, dl, device):\n",
    "        self.dl = dl\n",
    "        self.device = device\n",
    "        \n",
    "    def __iter__(self):\n",
    "        \"\"\"Yield a batch of data after moving it to device\"\"\"\n",
    "        for b in self.dl: \n",
    "            yield to_device(b, self.device)\n",
    "\n",
    "    def __len__(self):\n",
    "        \"\"\"Number of batches\"\"\"\n",
    "        return len(self.dl)"
   ]
  },
  {
   "cell_type": "markdown",
   "id": "ac6cd133",
   "metadata": {
    "id": "RxwvU5eP4r76",
    "papermill": {
     "duration": 0.02872,
     "end_time": "2023-03-16T13:59:51.087353",
     "exception": false,
     "start_time": "2023-03-16T13:59:51.058633",
     "status": "completed"
    },
    "tags": []
   },
   "source": [
    "The `yield` keyword in Python is used to create a generator function that can be used within a `for` loop, as illustrated below."
   ]
  },
  {
   "cell_type": "code",
   "execution_count": 41,
   "id": "c9fcb275",
   "metadata": {
    "execution": {
     "iopub.execute_input": "2023-03-16T13:59:51.146559Z",
     "iopub.status.busy": "2023-03-16T13:59:51.145655Z",
     "iopub.status.idle": "2023-03-16T13:59:51.152693Z",
     "shell.execute_reply": "2023-03-16T13:59:51.150893Z"
    },
    "executionInfo": {
     "elapsed": 944,
     "status": "ok",
     "timestamp": 1607149162459,
     "user": {
      "displayName": "Aakash N S",
      "photoUrl": "https://lh3.googleusercontent.com/a-/AOh14GiIWFHtan62vtW1gz2Bv2bxL3rppefcadxzEVxRKQ=s64",
      "userId": "03254185060287524023"
     },
     "user_tz": -330
    },
    "id": "7IeHPpx74slh",
    "outputId": "d218f6b2-b6d9-4cb7-c948-f2673d15a88c",
    "papermill": {
     "duration": 0.039475,
     "end_time": "2023-03-16T13:59:51.155539",
     "exception": false,
     "start_time": "2023-03-16T13:59:51.116064",
     "status": "completed"
    },
    "tags": []
   },
   "outputs": [
    {
     "name": "stdout",
     "output_type": "stream",
     "text": [
      "10\n",
      "20\n",
      "30\n"
     ]
    }
   ],
   "source": [
    "def some_numbers():\n",
    "    yield 10\n",
    "    yield 20\n",
    "    yield 30\n",
    "\n",
    "for value in some_numbers():\n",
    "    print(value)"
   ]
  },
  {
   "cell_type": "markdown",
   "id": "e6141bcd",
   "metadata": {
    "id": "9AM28h0ipeT9",
    "papermill": {
     "duration": 0.027611,
     "end_time": "2023-03-16T13:59:51.211802",
     "exception": false,
     "start_time": "2023-03-16T13:59:51.184191",
     "status": "completed"
    },
    "tags": []
   },
   "source": [
    "We can now wrap our data loaders using `DeviceDataLoader`."
   ]
  },
  {
   "cell_type": "code",
   "execution_count": 42,
   "id": "cf30de12",
   "metadata": {
    "execution": {
     "iopub.execute_input": "2023-03-16T13:59:51.268546Z",
     "iopub.status.busy": "2023-03-16T13:59:51.267935Z",
     "iopub.status.idle": "2023-03-16T13:59:51.272551Z",
     "shell.execute_reply": "2023-03-16T13:59:51.271467Z"
    },
    "executionInfo": {
     "elapsed": 932,
     "status": "ok",
     "timestamp": 1607149162933,
     "user": {
      "displayName": "Aakash N S",
      "photoUrl": "https://lh3.googleusercontent.com/a-/AOh14GiIWFHtan62vtW1gz2Bv2bxL3rppefcadxzEVxRKQ=s64",
      "userId": "03254185060287524023"
     },
     "user_tz": -330
    },
    "id": "fwZdTIxgpeT9",
    "papermill": {
     "duration": 0.035803,
     "end_time": "2023-03-16T13:59:51.274815",
     "exception": false,
     "start_time": "2023-03-16T13:59:51.239012",
     "status": "completed"
    },
    "tags": []
   },
   "outputs": [],
   "source": [
    "train_loader = DeviceDataLoader(train_loader, device)\n",
    "val_loader = DeviceDataLoader(val_loader, device)"
   ]
  },
  {
   "cell_type": "markdown",
   "id": "fc085027",
   "metadata": {
    "id": "Go0zbQTypeT9",
    "papermill": {
     "duration": 0.028677,
     "end_time": "2023-03-16T13:59:51.333790",
     "exception": false,
     "start_time": "2023-03-16T13:59:51.305113",
     "status": "completed"
    },
    "tags": []
   },
   "source": [
    "Tensors moved to the GPU have a `device` property which includes that word `cuda`. Let's verify this by looking at a batch of data from `valid_dl`."
   ]
  },
  {
   "cell_type": "code",
   "execution_count": 43,
   "id": "6c1fea2c",
   "metadata": {
    "execution": {
     "iopub.execute_input": "2023-03-16T13:59:51.394237Z",
     "iopub.status.busy": "2023-03-16T13:59:51.393892Z",
     "iopub.status.idle": "2023-03-16T13:59:51.771280Z",
     "shell.execute_reply": "2023-03-16T13:59:51.770046Z"
    },
    "executionInfo": {
     "elapsed": 876,
     "status": "ok",
     "timestamp": 1607149182829,
     "user": {
      "displayName": "Aakash N S",
      "photoUrl": "https://lh3.googleusercontent.com/a-/AOh14GiIWFHtan62vtW1gz2Bv2bxL3rppefcadxzEVxRKQ=s64",
      "userId": "03254185060287524023"
     },
     "user_tz": -330
    },
    "id": "ZdOfMdmxpeT9",
    "outputId": "b12356a8-8d95-4236-fe33-ea75a3a491d4",
    "papermill": {
     "duration": 0.41208,
     "end_time": "2023-03-16T13:59:51.774430",
     "exception": false,
     "start_time": "2023-03-16T13:59:51.362350",
     "status": "completed"
    },
    "tags": []
   },
   "outputs": [
    {
     "name": "stdout",
     "output_type": "stream",
     "text": [
      "xb.device: cuda:0\n",
      "yb: tensor([5, 8, 8, 2, 7, 8, 9, 5, 3, 0, 8, 5, 1, 9, 6, 7, 3, 1, 2, 5, 0, 8, 1, 7,\n",
      "        6, 2, 6, 6, 5, 8, 2, 8, 6, 3, 1, 3, 3, 6, 9, 8, 3, 8, 3, 4, 4, 2, 0, 7,\n",
      "        5, 9, 7, 1, 1, 9, 7, 9, 7, 5, 2, 7, 1, 8, 8, 2, 7, 3, 7, 9, 2, 6, 5, 8,\n",
      "        8, 4, 4, 4, 7, 9, 3, 4, 3, 1, 1, 0, 0, 9, 5, 4, 3, 7, 6, 7, 5, 0, 2, 6,\n",
      "        6, 3, 3, 8, 4, 9, 7, 0, 8, 6, 7, 1, 5, 1, 2, 7, 3, 4, 4, 9, 9, 0, 0, 5,\n",
      "        1, 9, 2, 1, 7, 0, 4, 6, 4, 8, 2, 4, 1, 6, 6, 1, 7, 9, 7, 0, 5, 3, 9, 1,\n",
      "        1, 2, 6, 0, 8, 9, 4, 4, 4, 4, 0, 1, 8, 1, 0, 3, 5, 0, 5, 1, 9, 4, 9, 4,\n",
      "        9, 4, 3, 2, 3, 0, 0, 5, 6, 3, 5, 8, 7, 1, 0, 3, 7, 4, 5, 6, 5, 1, 1, 4,\n",
      "        1, 6, 8, 2, 2, 4, 1, 6, 4, 6, 0, 5, 4, 4, 9, 1, 0, 2, 3, 4, 5, 0, 7, 4,\n",
      "        5, 3, 3, 8, 7, 1, 9, 6, 6, 3, 0, 4, 4, 3, 5, 6, 4, 7, 4, 0, 3, 4, 4, 8,\n",
      "        1, 6, 4, 3, 8, 2, 2, 2, 6, 0, 6, 9, 7, 2, 7, 7], device='cuda:0')\n"
     ]
    }
   ],
   "source": [
    "for xb, yb in val_loader:\n",
    "    print('xb.device:', xb.device)\n",
    "    print('yb:', yb)\n",
    "    break"
   ]
  },
  {
   "cell_type": "markdown",
   "id": "694e2667",
   "metadata": {
    "id": "sfPhGrIRpeT9",
    "papermill": {
     "duration": 0.026402,
     "end_time": "2023-03-16T13:59:51.828047",
     "exception": false,
     "start_time": "2023-03-16T13:59:51.801645",
     "status": "completed"
    },
    "tags": []
   },
   "source": [
    "## Training the Model\n",
    "\n",
    "We'll define two functions: `fit` and `evaluate` to train the model using gradient descent and evaluate its performance on the validation set. For a detailed walkthrough of these functions, check out the [previous tutorial](https://jovian.ai/aakashns/03-logistic-regression)."
   ]
  },
  {
   "cell_type": "code",
   "execution_count": 44,
   "id": "6c30c18e",
   "metadata": {
    "execution": {
     "iopub.execute_input": "2023-03-16T13:59:51.886236Z",
     "iopub.status.busy": "2023-03-16T13:59:51.885460Z",
     "iopub.status.idle": "2023-03-16T13:59:51.893388Z",
     "shell.execute_reply": "2023-03-16T13:59:51.892276Z"
    },
    "executionInfo": {
     "elapsed": 962,
     "status": "ok",
     "timestamp": 1607149368036,
     "user": {
      "displayName": "Aakash N S",
      "photoUrl": "https://lh3.googleusercontent.com/a-/AOh14GiIWFHtan62vtW1gz2Bv2bxL3rppefcadxzEVxRKQ=s64",
      "userId": "03254185060287524023"
     },
     "user_tz": -330
    },
    "id": "JRw6Zf0wpeT9",
    "papermill": {
     "duration": 0.04055,
     "end_time": "2023-03-16T13:59:51.895355",
     "exception": false,
     "start_time": "2023-03-16T13:59:51.854805",
     "status": "completed"
    },
    "tags": []
   },
   "outputs": [],
   "source": [
    "def evaluate(model, val_loader):\n",
    "    \"\"\"Evaluate the model's performance on the validation set\"\"\"\n",
    "    outputs = [model.validation_step(batch) for batch in val_loader]\n",
    "    return model.validation_epoch_end(outputs)\n",
    "\n",
    "def fit(epochs, lr, model, train_loader, val_loader, opt_func=torch.optim.SGD):\n",
    "    \"\"\"Train the model using gradient descent\"\"\"\n",
    "    history = []\n",
    "    optimizer = opt_func(model.parameters(), lr)\n",
    "    for epoch in range(epochs):\n",
    "        # Training Phase \n",
    "        for batch in train_loader:\n",
    "            loss = model.training_step(batch)\n",
    "            loss.backward()\n",
    "            optimizer.step()\n",
    "            optimizer.zero_grad()\n",
    "        # Validation phase\n",
    "        result = evaluate(model, val_loader)\n",
    "        model.epoch_end(epoch, result)\n",
    "        history.append(result)\n",
    "    return history"
   ]
  },
  {
   "cell_type": "markdown",
   "id": "70959077",
   "metadata": {
    "id": "JuWv6GKZpeT9",
    "papermill": {
     "duration": 0.027004,
     "end_time": "2023-03-16T13:59:51.948476",
     "exception": false,
     "start_time": "2023-03-16T13:59:51.921472",
     "status": "completed"
    },
    "tags": []
   },
   "source": [
    "Before we train the model, we need to ensure that the data and the model's parameters (weights and biases) are on the same device (CPU or GPU). We can reuse the `to_device` function to move the model's parameters to the right device. "
   ]
  },
  {
   "cell_type": "code",
   "execution_count": 45,
   "id": "19d80141",
   "metadata": {
    "execution": {
     "iopub.execute_input": "2023-03-16T13:59:52.003093Z",
     "iopub.status.busy": "2023-03-16T13:59:52.002799Z",
     "iopub.status.idle": "2023-03-16T13:59:52.012507Z",
     "shell.execute_reply": "2023-03-16T13:59:52.011399Z"
    },
    "executionInfo": {
     "elapsed": 870,
     "status": "ok",
     "timestamp": 1607149431204,
     "user": {
      "displayName": "Aakash N S",
      "photoUrl": "https://lh3.googleusercontent.com/a-/AOh14GiIWFHtan62vtW1gz2Bv2bxL3rppefcadxzEVxRKQ=s64",
      "userId": "03254185060287524023"
     },
     "user_tz": -330
    },
    "id": "u1CyEQsJpeT9",
    "outputId": "94eb4f15-4349-4344-e8fb-13affa7c9928",
    "papermill": {
     "duration": 0.039504,
     "end_time": "2023-03-16T13:59:52.014538",
     "exception": false,
     "start_time": "2023-03-16T13:59:51.975034",
     "status": "completed"
    },
    "tags": []
   },
   "outputs": [
    {
     "data": {
      "text/plain": [
       "MnistModel(\n",
       "  (linear1): Linear(in_features=784, out_features=32, bias=True)\n",
       "  (linear2): Linear(in_features=32, out_features=10, bias=True)\n",
       ")"
      ]
     },
     "execution_count": 45,
     "metadata": {},
     "output_type": "execute_result"
    }
   ],
   "source": [
    "# Model (on GPU)\n",
    "model = MnistModel(input_size, hidden_size=hidden_size, out_size=num_classes)\n",
    "to_device(model, device)"
   ]
  },
  {
   "cell_type": "markdown",
   "id": "0414ca22",
   "metadata": {
    "id": "9N_aE2GRpeT9",
    "papermill": {
     "duration": 0.026247,
     "end_time": "2023-03-16T13:59:52.066905",
     "exception": false,
     "start_time": "2023-03-16T13:59:52.040658",
     "status": "completed"
    },
    "tags": []
   },
   "source": [
    "Let's see how the model performs on the validation set with the initial set of weights and biases."
   ]
  },
  {
   "cell_type": "code",
   "execution_count": 46,
   "id": "0dd8a342",
   "metadata": {
    "execution": {
     "iopub.execute_input": "2023-03-16T13:59:52.121155Z",
     "iopub.status.busy": "2023-03-16T13:59:52.120852Z",
     "iopub.status.idle": "2023-03-16T13:59:55.948900Z",
     "shell.execute_reply": "2023-03-16T13:59:55.947678Z"
    },
    "executionInfo": {
     "elapsed": 1814,
     "status": "ok",
     "timestamp": 1607149506311,
     "user": {
      "displayName": "Aakash N S",
      "photoUrl": "https://lh3.googleusercontent.com/a-/AOh14GiIWFHtan62vtW1gz2Bv2bxL3rppefcadxzEVxRKQ=s64",
      "userId": "03254185060287524023"
     },
     "user_tz": -330
    },
    "id": "bF_wEBAIpeT9",
    "outputId": "c8f587c1-1402-49f3-bb52-7acd705bacfb",
    "papermill": {
     "duration": 3.858559,
     "end_time": "2023-03-16T13:59:55.951880",
     "exception": false,
     "start_time": "2023-03-16T13:59:52.093321",
     "status": "completed"
    },
    "tags": []
   },
   "outputs": [
    {
     "data": {
      "text/plain": [
       "[{'val_loss': 2.3133819103240967, 'val_acc': 0.10957030951976776}]"
      ]
     },
     "execution_count": 46,
     "metadata": {},
     "output_type": "execute_result"
    }
   ],
   "source": [
    "history = [evaluate(model, val_loader)]\n",
    "history"
   ]
  },
  {
   "cell_type": "markdown",
   "id": "05aac0c9",
   "metadata": {
    "id": "BU0tYFcPpeT9",
    "papermill": {
     "duration": 0.041573,
     "end_time": "2023-03-16T13:59:56.034958",
     "exception": false,
     "start_time": "2023-03-16T13:59:55.993385",
     "status": "completed"
    },
    "tags": []
   },
   "source": [
    "The initial accuracy is around 10%, as one might expect from a randomly initialized model (since it has a 1 in 10 chance of getting a label right by guessing randomly).\n",
    "\n",
    "Let's train the model for five epochs and look at the results. We can use a relatively high learning rate of 0.5."
   ]
  },
  {
   "cell_type": "code",
   "execution_count": 47,
   "id": "da105b48",
   "metadata": {
    "execution": {
     "iopub.execute_input": "2023-03-16T13:59:56.121935Z",
     "iopub.status.busy": "2023-03-16T13:59:56.121325Z",
     "iopub.status.idle": "2023-03-16T14:00:31.829418Z",
     "shell.execute_reply": "2023-03-16T14:00:31.825335Z"
    },
    "executionInfo": {
     "elapsed": 26155,
     "status": "ok",
     "timestamp": 1607149617381,
     "user": {
      "displayName": "Aakash N S",
      "photoUrl": "https://lh3.googleusercontent.com/a-/AOh14GiIWFHtan62vtW1gz2Bv2bxL3rppefcadxzEVxRKQ=s64",
      "userId": "03254185060287524023"
     },
     "user_tz": -330
    },
    "id": "DE5_oVckpeT9",
    "outputId": "691a56b6-e47f-4470-9f28-353e8bd56dd8",
    "papermill": {
     "duration": 35.779448,
     "end_time": "2023-03-16T14:00:31.857077",
     "exception": false,
     "start_time": "2023-03-16T13:59:56.077629",
     "status": "completed"
    },
    "tags": []
   },
   "outputs": [
    {
     "name": "stdout",
     "output_type": "stream",
     "text": [
      "Epoch [0], val_loss: 0.2687, val_acc: 0.9153\n",
      "Epoch [1], val_loss: 0.1747, val_acc: 0.9475\n",
      "Epoch [2], val_loss: 0.1550, val_acc: 0.9538\n",
      "Epoch [3], val_loss: 0.1464, val_acc: 0.9555\n",
      "Epoch [4], val_loss: 0.1360, val_acc: 0.9588\n"
     ]
    }
   ],
   "source": [
    "history += fit(5, 0.5, model, train_loader, val_loader)"
   ]
  },
  {
   "cell_type": "markdown",
   "id": "feda9a03",
   "metadata": {
    "id": "_by-a2g9peT9",
    "papermill": {
     "duration": 0.026519,
     "end_time": "2023-03-16T14:00:31.911691",
     "exception": false,
     "start_time": "2023-03-16T14:00:31.885172",
     "status": "completed"
    },
    "tags": []
   },
   "source": [
    "96% is pretty good! Let's train the model for five more epochs at a lower learning rate of 0.1 to improve the accuracy further."
   ]
  },
  {
   "cell_type": "code",
   "execution_count": 48,
   "id": "49833387",
   "metadata": {
    "execution": {
     "iopub.execute_input": "2023-03-16T14:00:31.966708Z",
     "iopub.status.busy": "2023-03-16T14:00:31.966306Z",
     "iopub.status.idle": "2023-03-16T14:01:07.017780Z",
     "shell.execute_reply": "2023-03-16T14:01:07.016467Z"
    },
    "executionInfo": {
     "elapsed": 27406,
     "status": "ok",
     "timestamp": 1607149682088,
     "user": {
      "displayName": "Aakash N S",
      "photoUrl": "https://lh3.googleusercontent.com/a-/AOh14GiIWFHtan62vtW1gz2Bv2bxL3rppefcadxzEVxRKQ=s64",
      "userId": "03254185060287524023"
     },
     "user_tz": -330
    },
    "id": "AjA2dtlrpeT9",
    "outputId": "680388ae-55f0-4629-8c29-89aebfa4357c",
    "papermill": {
     "duration": 35.109272,
     "end_time": "2023-03-16T14:01:07.047605",
     "exception": false,
     "start_time": "2023-03-16T14:00:31.938333",
     "status": "completed"
    },
    "tags": []
   },
   "outputs": [
    {
     "name": "stdout",
     "output_type": "stream",
     "text": [
      "Epoch [0], val_loss: 0.1228, val_acc: 0.9623\n",
      "Epoch [1], val_loss: 0.1215, val_acc: 0.9632\n",
      "Epoch [2], val_loss: 0.1211, val_acc: 0.9645\n",
      "Epoch [3], val_loss: 0.1208, val_acc: 0.9642\n",
      "Epoch [4], val_loss: 0.1192, val_acc: 0.9644\n"
     ]
    }
   ],
   "source": [
    "history += fit(5, 0.1, model, train_loader, val_loader)"
   ]
  },
  {
   "cell_type": "markdown",
   "id": "e2d1fa43",
   "metadata": {
    "id": "W7LAqJCMpeT9",
    "papermill": {
     "duration": 0.026914,
     "end_time": "2023-03-16T14:01:07.102355",
     "exception": false,
     "start_time": "2023-03-16T14:01:07.075441",
     "status": "completed"
    },
    "tags": []
   },
   "source": [
    "We can now plot the losses & accuracies to study how the model improves over time."
   ]
  },
  {
   "cell_type": "code",
   "execution_count": 49,
   "id": "bce44b4d",
   "metadata": {
    "execution": {
     "iopub.execute_input": "2023-03-16T14:01:07.159649Z",
     "iopub.status.busy": "2023-03-16T14:01:07.158469Z",
     "iopub.status.idle": "2023-03-16T14:01:07.368211Z",
     "shell.execute_reply": "2023-03-16T14:01:07.367172Z"
    },
    "executionInfo": {
     "elapsed": 1059,
     "status": "ok",
     "timestamp": 1607149690281,
     "user": {
      "displayName": "Aakash N S",
      "photoUrl": "https://lh3.googleusercontent.com/a-/AOh14GiIWFHtan62vtW1gz2Bv2bxL3rppefcadxzEVxRKQ=s64",
      "userId": "03254185060287524023"
     },
     "user_tz": -330
    },
    "id": "I3g-DRifpeT9",
    "outputId": "133e6548-c6d9-4dc1-f2d4-78ce94d619d9",
    "papermill": {
     "duration": 0.240668,
     "end_time": "2023-03-16T14:01:07.370420",
     "exception": false,
     "start_time": "2023-03-16T14:01:07.129752",
     "status": "completed"
    },
    "tags": []
   },
   "outputs": [
    {
     "data": {
      "image/png": "[encoded data removed]",
      "text/plain": [
       "<Figure size 640x480 with 1 Axes>"
      ]
     },
     "metadata": {},
     "output_type": "display_data"
    }
   ],
   "source": [
    "losses = [x['val_loss'] for x in history]\n",
    "plt.plot(losses, '-x')\n",
    "plt.xlabel('epoch')\n",
    "plt.ylabel('loss')\n",
    "plt.title('Loss vs. No. of epochs');"
   ]
  },
  {
   "cell_type": "code",
   "execution_count": 50,
   "id": "2dd75540",
   "metadata": {
    "execution": {
     "iopub.execute_input": "2023-03-16T14:01:07.426976Z",
     "iopub.status.busy": "2023-03-16T14:01:07.426655Z",
     "iopub.status.idle": "2023-03-16T14:01:07.639298Z",
     "shell.execute_reply": "2023-03-16T14:01:07.638234Z"
    },
    "executionInfo": {
     "elapsed": 967,
     "status": "ok",
     "timestamp": 1607149698222,
     "user": {
      "displayName": "Aakash N S",
      "photoUrl": "https://lh3.googleusercontent.com/a-/AOh14GiIWFHtan62vtW1gz2Bv2bxL3rppefcadxzEVxRKQ=s64",
      "userId": "03254185060287524023"
     },
     "user_tz": -330
    },
    "id": "28kJvNmFpeT9",
    "outputId": "8d7336ba-6c62-4d09-e5d1-a7f66679d4b6",
    "papermill": {
     "duration": 0.243324,
     "end_time": "2023-03-16T14:01:07.641609",
     "exception": false,
     "start_time": "2023-03-16T14:01:07.398285",
     "status": "completed"
    },
    "scrolled": true,
    "tags": []
   },
   "outputs": [
    {
     "data": {
      "image/png": "[encoded data removed]",
      "text/plain": [
       "<Figure size 640x480 with 1 Axes>"
      ]
     },
     "metadata": {},
     "output_type": "display_data"
    }
   ],
   "source": [
    "accuracies = [x['val_acc'] for x in history]\n",
    "plt.plot(accuracies, '-x')\n",
    "plt.xlabel('epoch')\n",
    "plt.ylabel('accuracy')\n",
    "plt.title('Accuracy vs. No. of epochs');"
   ]
  },
  {
   "cell_type": "markdown",
   "id": "ddf9306e",
   "metadata": {
    "id": "zBmLGRuLpeT9",
    "papermill": {
     "duration": 0.027476,
     "end_time": "2023-03-16T14:01:07.697211",
     "exception": false,
     "start_time": "2023-03-16T14:01:07.669735",
     "status": "completed"
    },
    "tags": []
   },
   "source": [
    "Our current model outperforms the logistic regression model (which could only achieve around 86% accuracy) by a considerable margin! It quickly reaches an accuracy of 97% but doesn't improve much beyond this. To improve accuracy further, we need to make the model more powerful by increasing the hidden layer's size or adding more hidden layers with activations. I encourage you to try out both these approaches and see which one works better."
   ]
  },
  {
   "cell_type": "markdown",
   "id": "df5c39a6",
   "metadata": {
    "id": "v72CM4EYpeT9",
    "papermill": {
     "duration": 0.027559,
     "end_time": "2023-03-16T14:01:07.753428",
     "exception": false,
     "start_time": "2023-03-16T14:01:07.725869",
     "status": "completed"
    },
    "tags": []
   },
   "source": [
    "As a final step, we can save and commit our work using the `jovian` library."
   ]
  },
  {
   "cell_type": "markdown",
   "id": "916ab2db",
   "metadata": {
    "id": "Lf_6nWkCBGB5",
    "papermill": {
     "duration": 0.027583,
     "end_time": "2023-03-16T14:01:07.808446",
     "exception": false,
     "start_time": "2023-03-16T14:01:07.780863",
     "status": "completed"
    },
    "tags": []
   },
   "source": [
    "## Testing with individual images\n",
    "\n",
    "While we have been tracking the overall accuracy of a model so far, it's also a good idea to look at model's results on some sample images. Let's test out our model with some images from the predefined test dataset of 10000 images. We begin by recreating the test dataset with the `ToTensor` transform."
   ]
  },
  {
   "cell_type": "code",
   "execution_count": 51,
   "id": "318d15cd",
   "metadata": {
    "execution": {
     "iopub.execute_input": "2023-03-16T14:01:07.865442Z",
     "iopub.status.busy": "2023-03-16T14:01:07.865107Z",
     "iopub.status.idle": "2023-03-16T14:01:07.879725Z",
     "shell.execute_reply": "2023-03-16T14:01:07.878826Z"
    },
    "id": "ZJ6E4f-iBBTm",
    "papermill": {
     "duration": 0.04568,
     "end_time": "2023-03-16T14:01:07.881819",
     "exception": false,
     "start_time": "2023-03-16T14:01:07.836139",
     "status": "completed"
    },
    "tags": []
   },
   "outputs": [],
   "source": [
    "# Define test dataset\n",
    "test_dataset = MNIST(root='data/', \n",
    "                     train=False,\n",
    "                     transform=ToTensor())"
   ]
  },
  {
   "cell_type": "markdown",
   "id": "f178106f",
   "metadata": {
    "id": "uGKvjeJXBTiN",
    "papermill": {
     "duration": 0.028025,
     "end_time": "2023-03-16T14:01:07.937228",
     "exception": false,
     "start_time": "2023-03-16T14:01:07.909203",
     "status": "completed"
    },
    "tags": []
   },
   "source": [
    "Let's define a helper function `predict_image`, which returns the predicted label for a single image tensor."
   ]
  },
  {
   "cell_type": "code",
   "execution_count": 52,
   "id": "ade87ef0",
   "metadata": {
    "execution": {
     "iopub.execute_input": "2023-03-16T14:01:07.993588Z",
     "iopub.status.busy": "2023-03-16T14:01:07.993299Z",
     "iopub.status.idle": "2023-03-16T14:01:07.999311Z",
     "shell.execute_reply": "2023-03-16T14:01:07.998401Z"
    },
    "id": "ZhxrAx6LBTNG",
    "papermill": {
     "duration": 0.036432,
     "end_time": "2023-03-16T14:01:08.001433",
     "exception": false,
     "start_time": "2023-03-16T14:01:07.965001",
     "status": "completed"
    },
    "tags": []
   },
   "outputs": [],
   "source": [
    "def predict_image(img, model):\n",
    "    xb = to_device(img.unsqueeze(0), device)\n",
    "    yb = model(xb)\n",
    "    _, preds  = torch.max(yb, dim=1)\n",
    "    return preds[0].item()"
   ]
  },
  {
   "cell_type": "markdown",
   "id": "0f479c0a",
   "metadata": {
    "id": "N4kUaLBqBZLd",
    "papermill": {
     "duration": 0.027161,
     "end_time": "2023-03-16T14:01:08.055754",
     "exception": false,
     "start_time": "2023-03-16T14:01:08.028593",
     "status": "completed"
    },
    "tags": []
   },
   "source": [
    "Let's try it out with a few images."
   ]
  },
  {
   "cell_type": "code",
   "execution_count": 53,
   "id": "1a3581c5",
   "metadata": {
    "execution": {
     "iopub.execute_input": "2023-03-16T14:01:08.111858Z",
     "iopub.status.busy": "2023-03-16T14:01:08.111535Z",
     "iopub.status.idle": "2023-03-16T14:01:08.321538Z",
     "shell.execute_reply": "2023-03-16T14:01:08.320418Z"
    },
    "id": "JsNnl42DBXog",
    "papermill": {
     "duration": 0.240357,
     "end_time": "2023-03-16T14:01:08.323804",
     "exception": false,
     "start_time": "2023-03-16T14:01:08.083447",
     "status": "completed"
    },
    "tags": []
   },
   "outputs": [
    {
     "name": "stdout",
     "output_type": "stream",
     "text": [
      "Label: 7 , Predicted: 7\n"
     ]
    },
    {
     "data": {
      "image/png": "[encoded data removed]",
      "text/plain": [
       "<Figure size 640x480 with 1 Axes>"
      ]
     },
     "metadata": {},
     "output_type": "display_data"
    }
   ],
   "source": [
    "img, label = test_dataset[0]\n",
    "plt.imshow(img[0], cmap='gray')\n",
    "print('Label:', label, ', Predicted:', predict_image(img, model))"
   ]
  },
  {
   "cell_type": "code",
   "execution_count": 54,
   "id": "66871688",
   "metadata": {
    "execution": {
     "iopub.execute_input": "2023-03-16T14:01:08.381666Z",
     "iopub.status.busy": "2023-03-16T14:01:08.381371Z",
     "iopub.status.idle": "2023-03-16T14:01:08.596189Z",
     "shell.execute_reply": "2023-03-16T14:01:08.595210Z"
    },
    "id": "lu0lN0xnBiD6",
    "papermill": {
     "duration": 0.24612,
     "end_time": "2023-03-16T14:01:08.598547",
     "exception": false,
     "start_time": "2023-03-16T14:01:08.352427",
     "status": "completed"
    },
    "tags": []
   },
   "outputs": [
    {
     "name": "stdout",
     "output_type": "stream",
     "text": [
      "Label: 2 , Predicted: 2\n"
     ]
    },
    {
     "data": {
      "image/png": "[encoded data removed]",
      "text/plain": [
       "<Figure size 640x480 with 1 Axes>"
      ]
     },
     "metadata": {},
     "output_type": "display_data"
    }
   ],
   "source": [
    "img, label = test_dataset[1839]\n",
    "plt.imshow(img[0], cmap='gray')\n",
    "print('Label:', label, ', Predicted:', predict_image(img, model))"
   ]
  },
  {
   "cell_type": "code",
   "execution_count": 55,
   "id": "dde87100",
   "metadata": {
    "execution": {
     "iopub.execute_input": "2023-03-16T14:01:08.658923Z",
     "iopub.status.busy": "2023-03-16T14:01:08.658043Z",
     "iopub.status.idle": "2023-03-16T14:01:08.869555Z",
     "shell.execute_reply": "2023-03-16T14:01:08.868571Z"
    },
    "id": "ZpzxiYHjBliK",
    "papermill": {
     "duration": 0.243378,
     "end_time": "2023-03-16T14:01:08.871904",
     "exception": false,
     "start_time": "2023-03-16T14:01:08.628526",
     "status": "completed"
    },
    "tags": []
   },
   "outputs": [
    {
     "name": "stdout",
     "output_type": "stream",
     "text": [
      "Label: 9 , Predicted: 9\n"
     ]
    },
    {
     "data": {
      "image/png": "[encoded data removed]",
      "text/plain": [
       "<Figure size 640x480 with 1 Axes>"
      ]
     },
     "metadata": {},
     "output_type": "display_data"
    }
   ],
   "source": [
    "img, label = test_dataset[193]\n",
    "plt.imshow(img[0], cmap='gray')\n",
    "print('Label:', label, ', Predicted:', predict_image(img, model))"
   ]
  },
  {
   "cell_type": "markdown",
   "id": "4b19d23d",
   "metadata": {
    "id": "RqG62k05BqpC",
    "papermill": {
     "duration": 0.028069,
     "end_time": "2023-03-16T14:01:08.928684",
     "exception": false,
     "start_time": "2023-03-16T14:01:08.900615",
     "status": "completed"
    },
    "tags": []
   },
   "source": [
    "Identifying where our model performs poorly can help us improve the model, by collecting more training data, increasing/decreasing the complexity of the model, and changing the hypeparameters.\n",
    "\n",
    "As a final step, let's also look at the overall loss and accuracy of the model on the test set."
   ]
  },
  {
   "cell_type": "code",
   "execution_count": 56,
   "id": "2bf48ac5",
   "metadata": {
    "execution": {
     "iopub.execute_input": "2023-03-16T14:01:08.986909Z",
     "iopub.status.busy": "2023-03-16T14:01:08.986029Z",
     "iopub.status.idle": "2023-03-16T14:01:09.911109Z",
     "shell.execute_reply": "2023-03-16T14:01:09.909877Z"
    },
    "id": "rvNoyn0RBtBm",
    "papermill": {
     "duration": 0.957013,
     "end_time": "2023-03-16T14:01:09.914016",
     "exception": false,
     "start_time": "2023-03-16T14:01:08.957003",
     "status": "completed"
    },
    "tags": []
   },
   "outputs": [
    {
     "data": {
      "text/plain": [
       "{'val_loss': 0.10953330993652344, 'val_acc': 0.967578113079071}"
      ]
     },
     "execution_count": 56,
     "metadata": {},
     "output_type": "execute_result"
    }
   ],
   "source": [
    "test_loader = DeviceDataLoader(DataLoader(test_dataset, batch_size=256), device)\n",
    "result = evaluate(model, test_loader)\n",
    "result"
   ]
  },
  {
   "cell_type": "markdown",
   "id": "7cd01e42",
   "metadata": {
    "id": "CZz2M4WPBzlT",
    "papermill": {
     "duration": 0.028109,
     "end_time": "2023-03-16T14:01:09.971152",
     "exception": false,
     "start_time": "2023-03-16T14:01:09.943043",
     "status": "completed"
    },
    "tags": []
   },
   "source": [
    "We expect this to be similar to the accuracy/loss on the validation set. If not, we might need a better validation set that has similar data and distribution as the test set (which often comes from real world data)."
   ]
  },
  {
   "cell_type": "markdown",
   "id": "099872db",
   "metadata": {
    "id": "Q-syIZYUB1Ls",
    "papermill": {
     "duration": 0.027718,
     "end_time": "2023-03-16T14:01:10.027024",
     "exception": false,
     "start_time": "2023-03-16T14:01:09.999306",
     "status": "completed"
    },
    "tags": []
   },
   "source": [
    "Let's save the model's weights and attach it to the notebook using `jovian.commit`. We will also record the model's performance on the test dataset using `jovian.log_metrics`."
   ]
  },
  {
   "cell_type": "markdown",
   "id": "43a05b65",
   "metadata": {
    "id": "DPk8QvFo9z3C",
    "papermill": {
     "duration": 0.028085,
     "end_time": "2023-03-16T14:01:10.083303",
     "exception": false,
     "start_time": "2023-03-16T14:01:10.055218",
     "status": "completed"
    },
    "tags": []
   },
   "source": [
    "## Exercises\n",
    "\n",
    "Try out the following exercises to apply the concepts and techniques you have learned so far:\n",
    "\n",
    "* Coding exercises on end-to-end model training: https://jovian.ai/aakashns/03-cifar10-feedforward\n",
    "* Starter notebook for deep learning models:  https://jovian.ai/aakashns/fashion-feedforward-minimal\n",
    "\n",
    "Training great machine learning models reliably takes practice and experience. Try experimenting with different datasets, models and hyperparameters, it's the best way to acquire this skill."
   ]
  },
  {
   "cell_type": "markdown",
   "id": "94b9ac97",
   "metadata": {
    "id": "sSSOi-g_peT-",
    "papermill": {
     "duration": 0.04012,
     "end_time": "2023-03-16T14:01:10.152856",
     "exception": false,
     "start_time": "2023-03-16T14:01:10.112736",
     "status": "completed"
    },
    "tags": []
   },
   "source": [
    "## Summary and Further Reading\n",
    "\n",
    "Here is a summary of the topics covered in this tutorial:\n",
    "\n",
    "* We created a neural network with one hidden layer to improve upon the logistic regression model from the previous tutorial. We also used the ReLU activation function to introduce non-linearity into the model, allowing it to learn more complex relationships between the inputs (pixel densities) and outputs (class probabilities).\n",
    "\n",
    "* We defined some utilities like `get_default_device`, `to_device` and `DeviceDataLoader` to leverage a GPU if available, by moving the input data and model parameters to the appropriate device.\n",
    "\n",
    "* We were able to use the exact same training loop: the `fit` function we had define earlier to train out model and evaluate it using the validation dataset.\n",
    "\n",
    "There's a lot of scope to experiment here, and I encourage you to use the interactive nature of Jupyter to play around with the various parameters. Here are a few ideas:\n",
    "\n",
    "* Try changing the size of the hidden layer, or add more hidden layers and see if you can achieve a higher accuracy.\n",
    "\n",
    "* Try changing the batch size and learning rate to see if you can achieve the same accuracy in fewer epochs.\n",
    "\n",
    "* Compare the training times on a CPU vs. GPU. Do you see a significant difference. How does it vary with the size of the dataset and the size of the model (no. of weights and parameters)?\n",
    "\n",
    "* Try building a model for a different dataset, such as the [CIFAR10 or CIFAR100 datasets](https://www.cs.toronto.edu/~kriz/cifar.html).\n",
    "\n",
    "Here are some references for further reading:\n",
    "\n",
    "* [A visual proof that neural networks can compute any function](http://neuralnetworksanddeeplearning.com/chap4.html), also known as the Universal Approximation Theorem.\n",
    "\n",
    "* [But what *is* a neural network?](https://www.youtube.com/watch?v=aircAruvnKk) - A visual and intuitive introduction to what neural networks are and what the intermediate layers represent\n",
    "\n",
    "* [Stanford CS229 Lecture notes on Backpropagation](https://github.com/BirajCoder/File-host-repo/blob/main/backprop.pdf) - for a more mathematical treatment of how gradients are calculated and weights are updated for neural networks with multiple layers.\n",
    "\n",
    "\n",
    "You are now ready to move on to the next tutorial: [Image Classification using Convolutional Neural Networks](https://jovian.ai/aakashns/05-cifar10-cnn)."
   ]
  }
 ],
 "metadata": {
  "kernelspec": {
   "display_name": "Python 3",
   "language": "python",
   "name": "python3"
  },
  "language_info": {
   "codemirror_mode": {
    "name": "ipython",
    "version": 3
   },
   "file_extension": ".py",
   "mimetype": "text/x-python",
   "name": "python",
   "nbconvert_exporter": "python",
   "pygments_lexer": "ipython3",
   "version": "3.7.12"
  },
  "papermill": {
   "default_parameters": {},
   "duration": 104.425623,
   "end_time": "2023-03-16T14:01:11.605773",
   "environment_variables": {},
   "exception": null,
   "input_path": "__notebook__.ipynb",
   "output_path": "__notebook__.ipynb",
   "parameters": {},
   "start_time": "2023-03-16T13:59:27.180150",
   "version": "2.4.0"
  },
  "widgets": {
   "application/vnd.jupyter.widget-state+json": {
    "state": {
     "00b5762d7dd14db18410beda153ff74b": {
      "model_module": "@jupyter-widgets/controls",
      "model_module_version": "1.5.0",
      "model_name": "HBoxModel",
      "state": {
       "_dom_classes": [],
       "_model_module": "@jupyter-widgets/controls",
       "_model_module_version": "1.5.0",
       "_model_name": "HBoxModel",
       "_view_count": null,
       "_view_module": "@jupyter-widgets/controls",
       "_view_module_version": "1.5.0",
       "_view_name": "HBoxView",
       "box_style": "",
       "children": [
        "IPY_MODEL_ce1a96cdf50840e6ab4bc3f27ba05af6",
        "IPY_MODEL_02aed49666d84b82971c1297901e537a",
        "IPY_MODEL_d13167527d8841d8a424038130fff40d"
       ],
       "layout": "IPY_MODEL_9c5c0ddc49174d42a72679f503b79ce1"
      }
     },
     "013e4fa4069f49d082062b4c7bafb16b": {
      "model_module": "@jupyter-widgets/base",
      "model_module_version": "1.2.0",
      "model_name": "LayoutModel",
      "state": {
       "_model_module": "@jupyter-widgets/base",
       "_model_module_version": "1.2.0",
       "_model_name": "LayoutModel",
       "_view_count": null,
       "_view_module": "@jupyter-widgets/base",
       "_view_module_version": "1.2.0",
       "_view_name": "LayoutView",
       "align_content": null,
       "align_items": null,
       "align_self": null,
       "border": null,
       "bottom": null,
       "display": null,
       "flex": null,
       "flex_flow": null,
       "grid_area": null,
       "grid_auto_columns": null,
       "grid_auto_flow": null,
       "grid_auto_rows": null,
       "grid_column": null,
       "grid_gap": null,
       "grid_row": null,
       "grid_template_areas": null,
       "grid_template_columns": null,
       "grid_template_rows": null,
       "height": null,
       "justify_content": null,
       "justify_items": null,
       "left": null,
       "margin": null,
       "max_height": null,
       "max_width": null,
       "min_height": null,
       "min_width": null,
       "object_fit": null,
       "object_position": null,
       "order": null,
       "overflow": null,
       "overflow_x": null,
       "overflow_y": null,
       "padding": null,
       "right": null,
       "top": null,
       "visibility": null,
       "width": null
      }
     },
     "014a8354d9164dc8a2d2caca186041ee": {
      "model_module": "@jupyter-widgets/controls",
      "model_module_version": "1.5.0",
      "model_name": "FloatProgressModel",
      "state": {
       "_dom_classes": [],
       "_model_module": "@jupyter-widgets/controls",
       "_model_module_version": "1.5.0",
       "_model_name": "FloatProgressModel",
       "_view_count": null,
       "_view_module": "@jupyter-widgets/controls",
       "_view_module_version": "1.5.0",
       "_view_name": "ProgressView",
       "bar_style": "success",
       "description": "",
       "description_tooltip": null,
       "layout": "IPY_MODEL_ced607d8eb6345ed9b3784ab37ff482f",
       "max": 1648877.0,
       "min": 0.0,
       "orientation": "horizontal",
       "style": "IPY_MODEL_5f52f89e7c014b75b04eb68d89258349",
       "value": 1648877.0
      }
     },
     "02aed49666d84b82971c1297901e537a": {
      "model_module": "@jupyter-widgets/controls",
      "model_module_version": "1.5.0",
      "model_name": "FloatProgressModel",
      "state": {
       "_dom_classes": [],
       "_model_module": "@jupyter-widgets/controls",
       "_model_module_version": "1.5.0",
       "_model_name": "FloatProgressModel",
       "_view_count": null,
       "_view_module": "@jupyter-widgets/controls",
       "_view_module_version": "1.5.0",
       "_view_name": "ProgressView",
       "bar_style": "success",
       "description": "",
       "description_tooltip": null,
       "layout": "IPY_MODEL_d9421859334a4d2cae175bea819e41b9",
       "max": 4542.0,
       "min": 0.0,
       "orientation": "horizontal",
       "style": "IPY_MODEL_a5b0cd20a5cb45dd881a18404259b4e5",
       "value": 4542.0
      }
     },
     "02dcc07263804d33aa9f4b5ae5ef68b2": {
      "model_module": "@jupyter-widgets/controls",
      "model_module_version": "1.5.0",
      "model_name": "ProgressStyleModel",
      "state": {
       "_model_module": "@jupyter-widgets/controls",
       "_model_module_version": "1.5.0",
       "_model_name": "ProgressStyleModel",
       "_view_count": null,
       "_view_module": "@jupyter-widgets/base",
       "_view_module_version": "1.2.0",
       "_view_name": "StyleView",
       "bar_color": null,
       "description_width": ""
      }
     },
     "07d82b50aa684b1da5b726c9cf70f23f": {
      "model_module": "@jupyter-widgets/controls",
      "model_module_version": "1.5.0",
      "model_name": "DescriptionStyleModel",
      "state": {
       "_model_module": "@jupyter-widgets/controls",
       "_model_module_version": "1.5.0",
       "_model_name": "DescriptionStyleModel",
       "_view_count": null,
       "_view_module": "@jupyter-widgets/base",
       "_view_module_version": "1.2.0",
       "_view_name": "StyleView",
       "description_width": ""
      }
     },
     "0b25e634948645728bf70531560ca41f": {
      "model_module": "@jupyter-widgets/controls",
      "model_module_version": "1.5.0",
      "model_name": "HTMLModel",
      "state": {
       "_dom_classes": [],
       "_model_module": "@jupyter-widgets/controls",
       "_model_module_version": "1.5.0",
       "_model_name": "HTMLModel",
       "_view_count": null,
       "_view_module": "@jupyter-widgets/controls",
       "_view_module_version": "1.5.0",
       "_view_name": "HTMLView",
       "description": "",
       "description_tooltip": null,
       "layout": "IPY_MODEL_554c530f25aa44efa779e5f554ee1436",
       "placeholder": "​",
       "style": "IPY_MODEL_fd920d4267c34c54be8de8f8b036f4dc",
       "value": " 1648877/1648877 [00:00&lt;00:00, 27345374.81it/s]"
      }
     },
     "1075cd2350344d38b291f8c18304d680": {
      "model_module": "@jupyter-widgets/controls",
      "model_module_version": "1.5.0",
      "model_name": "HTMLModel",
      "state": {
       "_dom_classes": [],
       "_model_module": "@jupyter-widgets/controls",
       "_model_module_version": "1.5.0",
       "_model_name": "HTMLModel",
       "_view_count": null,
       "_view_module": "@jupyter-widgets/controls",
       "_view_module_version": "1.5.0",
       "_view_name": "HTMLView",
       "description": "",
       "description_tooltip": null,
       "layout": "IPY_MODEL_88024f2979ef495c84a4eadc59ec8139",
       "placeholder": "​",
       "style": "IPY_MODEL_db702c2beeb94f39bb928a88ecd2a6cc",
       "value": "100%"
      }
     },
     "1ce524cdba6e46cc8dda9adeaf6607d7": {
      "model_module": "@jupyter-widgets/controls",
      "model_module_version": "1.5.0",
      "model_name": "DescriptionStyleModel",
      "state": {
       "_model_module": "@jupyter-widgets/controls",
       "_model_module_version": "1.5.0",
       "_model_name": "DescriptionStyleModel",
       "_view_count": null,
       "_view_module": "@jupyter-widgets/base",
       "_view_module_version": "1.2.0",
       "_view_name": "StyleView",
       "description_width": ""
      }
     },
     "26e31a70c91049bc997b649d03bfa186": {
      "model_module": "@jupyter-widgets/controls",
      "model_module_version": "1.5.0",
      "model_name": "HBoxModel",
      "state": {
       "_dom_classes": [],
       "_model_module": "@jupyter-widgets/controls",
       "_model_module_version": "1.5.0",
       "_model_name": "HBoxModel",
       "_view_count": null,
       "_view_module": "@jupyter-widgets/controls",
       "_view_module_version": "1.5.0",
       "_view_name": "HBoxView",
       "box_style": "",
       "children": [
        "IPY_MODEL_1075cd2350344d38b291f8c18304d680",
        "IPY_MODEL_b2daf400e4e444cfadac0f76ed2008b4",
        "IPY_MODEL_cf5119c381aa4f3cb6b816cc2ac036a5"
       ],
       "layout": "IPY_MODEL_7e1141c062e645d3b3f92d63002e2083"
      }
     },
     "3c671c798cc340068689031087e1b955": {
      "model_module": "@jupyter-widgets/controls",
      "model_module_version": "1.5.0",
      "model_name": "DescriptionStyleModel",
      "state": {
       "_model_module": "@jupyter-widgets/controls",
       "_model_module_version": "1.5.0",
       "_model_name": "DescriptionStyleModel",
       "_view_count": null,
       "_view_module": "@jupyter-widgets/base",
       "_view_module_version": "1.2.0",
       "_view_name": "StyleView",
       "description_width": ""
      }
     },
     "4028d9fc1faf4438aa249aee7e56ddfe": {
      "model_module": "@jupyter-widgets/controls",
      "model_module_version": "1.5.0",
      "model_name": "DescriptionStyleModel",
      "state": {
       "_model_module": "@jupyter-widgets/controls",
       "_model_module_version": "1.5.0",
       "_model_name": "DescriptionStyleModel",
       "_view_count": null,
       "_view_module": "@jupyter-widgets/base",
       "_view_module_version": "1.2.0",
       "_view_name": "StyleView",
       "description_width": ""
      }
     },
     "4117fc8eeaab48088878e38acebc9398": {
      "model_module": "@jupyter-widgets/base",
      "model_module_version": "1.2.0",
      "model_name": "LayoutModel",
      "state": {
       "_model_module": "@jupyter-widgets/base",
       "_model_module_version": "1.2.0",
       "_model_name": "LayoutModel",
       "_view_count": null,
       "_view_module": "@jupyter-widgets/base",
       "_view_module_version": "1.2.0",
       "_view_name": "LayoutView",
       "align_content": null,
       "align_items": null,
       "align_self": null,
       "border": null,
       "bottom": null,
       "display": null,
       "flex": null,
       "flex_flow": null,
       "grid_area": null,
       "grid_auto_columns": null,
       "grid_auto_flow": null,
       "grid_auto_rows": null,
       "grid_column": null,
       "grid_gap": null,
       "grid_row": null,
       "grid_template_areas": null,
       "grid_template_columns": null,
       "grid_template_rows": null,
       "height": null,
       "justify_content": null,
       "justify_items": null,
       "left": null,
       "margin": null,
       "max_height": null,
       "max_width": null,
       "min_height": null,
       "min_width": null,
       "object_fit": null,
       "object_position": null,
       "order": null,
       "overflow": null,
       "overflow_x": null,
       "overflow_y": null,
       "padding": null,
       "right": null,
       "top": null,
       "visibility": null,
       "width": null
      }
     },
     "554c530f25aa44efa779e5f554ee1436": {
      "model_module": "@jupyter-widgets/base",
      "model_module_version": "1.2.0",
      "model_name": "LayoutModel",
      "state": {
       "_model_module": "@jupyter-widgets/base",
       "_model_module_version": "1.2.0",
       "_model_name": "LayoutModel",
       "_view_count": null,
       "_view_module": "@jupyter-widgets/base",
       "_view_module_version": "1.2.0",
       "_view_name": "LayoutView",
       "align_content": null,
       "align_items": null,
       "align_self": null,
       "border": null,
       "bottom": null,
       "display": null,
       "flex": null,
       "flex_flow": null,
       "grid_area": null,
       "grid_auto_columns": null,
       "grid_auto_flow": null,
       "grid_auto_rows": null,
       "grid_column": null,
       "grid_gap": null,
       "grid_row": null,
       "grid_template_areas": null,
       "grid_template_columns": null,
       "grid_template_rows": null,
       "height": null,
       "justify_content": null,
       "justify_items": null,
       "left": null,
       "margin": null,
       "max_height": null,
       "max_width": null,
       "min_height": null,
       "min_width": null,
       "object_fit": null,
       "object_position": null,
       "order": null,
       "overflow": null,
       "overflow_x": null,
       "overflow_y": null,
       "padding": null,
       "right": null,
       "top": null,
       "visibility": null,
       "width": null
      }
     },
     "56f5b59a1bd3402e8c1940a4b25b6e36": {
      "model_module": "@jupyter-widgets/base",
      "model_module_version": "1.2.0",
      "model_name": "LayoutModel",
      "state": {
       "_model_module": "@jupyter-widgets/base",
       "_model_module_version": "1.2.0",
       "_model_name": "LayoutModel",
       "_view_count": null,
       "_view_module": "@jupyter-widgets/base",
       "_view_module_version": "1.2.0",
       "_view_name": "LayoutView",
       "align_content": null,
       "align_items": null,
       "align_self": null,
       "border": null,
       "bottom": null,
       "display": null,
       "flex": null,
       "flex_flow": null,
       "grid_area": null,
       "grid_auto_columns": null,
       "grid_auto_flow": null,
       "grid_auto_rows": null,
       "grid_column": null,
       "grid_gap": null,
       "grid_row": null,
       "grid_template_areas": null,
       "grid_template_columns": null,
       "grid_template_rows": null,
       "height": null,
       "justify_content": null,
       "justify_items": null,
       "left": null,
       "margin": null,
       "max_height": null,
       "max_width": null,
       "min_height": null,
       "min_width": null,
       "object_fit": null,
       "object_position": null,
       "order": null,
       "overflow": null,
       "overflow_x": null,
       "overflow_y": null,
       "padding": null,
       "right": null,
       "top": null,
       "visibility": null,
       "width": null
      }
     },
     "59403cf2bba64710b4c2c17b5877b1fb": {
      "model_module": "@jupyter-widgets/controls",
      "model_module_version": "1.5.0",
      "model_name": "HBoxModel",
      "state": {
       "_dom_classes": [],
       "_model_module": "@jupyter-widgets/controls",
       "_model_module_version": "1.5.0",
       "_model_name": "HBoxModel",
       "_view_count": null,
       "_view_module": "@jupyter-widgets/controls",
       "_view_module_version": "1.5.0",
       "_view_name": "HBoxView",
       "box_style": "",
       "children": [
        "IPY_MODEL_7472cf72129d4d77953d097c9cb08a0b",
        "IPY_MODEL_014a8354d9164dc8a2d2caca186041ee",
        "IPY_MODEL_0b25e634948645728bf70531560ca41f"
       ],
       "layout": "IPY_MODEL_620a526f3ed9498295717c78f8de4ab2"
      }
     },
     "5a85c85b3f604fda899ebe34b188d487": {
      "model_module": "@jupyter-widgets/controls",
      "model_module_version": "1.5.0",
      "model_name": "HBoxModel",
      "state": {
       "_dom_classes": [],
       "_model_module": "@jupyter-widgets/controls",
       "_model_module_version": "1.5.0",
       "_model_name": "HBoxModel",
       "_view_count": null,
       "_view_module": "@jupyter-widgets/controls",
       "_view_module_version": "1.5.0",
       "_view_name": "HBoxView",
       "box_style": "",
       "children": [
        "IPY_MODEL_8be7f432f08e40df9e3c71e827dfbbb6",
        "IPY_MODEL_f8c182225b6e4526b74f3cebdfef0268",
        "IPY_MODEL_77901cb7e4a64decaade3b327c959706"
       ],
       "layout": "IPY_MODEL_e826cd95dd224fa2b7bc52e936420ce1"
      }
     },
     "5d76a77b9d1a4eacb2c1b76273ff6780": {
      "model_module": "@jupyter-widgets/base",
      "model_module_version": "1.2.0",
      "model_name": "LayoutModel",
      "state": {
       "_model_module": "@jupyter-widgets/base",
       "_model_module_version": "1.2.0",
       "_model_name": "LayoutModel",
       "_view_count": null,
       "_view_module": "@jupyter-widgets/base",
       "_view_module_version": "1.2.0",
       "_view_name": "LayoutView",
       "align_content": null,
       "align_items": null,
       "align_self": null,
       "border": null,
       "bottom": null,
       "display": null,
       "flex": null,
       "flex_flow": null,
       "grid_area": null,
       "grid_auto_columns": null,
       "grid_auto_flow": null,
       "grid_auto_rows": null,
       "grid_column": null,
       "grid_gap": null,
       "grid_row": null,
       "grid_template_areas": null,
       "grid_template_columns": null,
       "grid_template_rows": null,
       "height": null,
       "justify_content": null,
       "justify_items": null,
       "left": null,
       "margin": null,
       "max_height": null,
       "max_width": null,
       "min_height": null,
       "min_width": null,
       "object_fit": null,
       "object_position": null,
       "order": null,
       "overflow": null,
       "overflow_x": null,
       "overflow_y": null,
       "padding": null,
       "right": null,
       "top": null,
       "visibility": null,
       "width": null
      }
     },
     "5f2bb813ac4e49dc9ad860437d1b51b8": {
      "model_module": "@jupyter-widgets/base",
      "model_module_version": "1.2.0",
      "model_name": "LayoutModel",
      "state": {
       "_model_module": "@jupyter-widgets/base",
       "_model_module_version": "1.2.0",
       "_model_name": "LayoutModel",
       "_view_count": null,
       "_view_module": "@jupyter-widgets/base",
       "_view_module_version": "1.2.0",
       "_view_name": "LayoutView",
       "align_content": null,
       "align_items": null,
       "align_self": null,
       "border": null,
       "bottom": null,
       "display": null,
       "flex": null,
       "flex_flow": null,
       "grid_area": null,
       "grid_auto_columns": null,
       "grid_auto_flow": null,
       "grid_auto_rows": null,
       "grid_column": null,
       "grid_gap": null,
       "grid_row": null,
       "grid_template_areas": null,
       "grid_template_columns": null,
       "grid_template_rows": null,
       "height": null,
       "justify_content": null,
       "justify_items": null,
       "left": null,
       "margin": null,
       "max_height": null,
       "max_width": null,
       "min_height": null,
       "min_width": null,
       "object_fit": null,
       "object_position": null,
       "order": null,
       "overflow": null,
       "overflow_x": null,
       "overflow_y": null,
       "padding": null,
       "right": null,
       "top": null,
       "visibility": null,
       "width": null
      }
     },
     "5f52f89e7c014b75b04eb68d89258349": {
      "model_module": "@jupyter-widgets/controls",
      "model_module_version": "1.5.0",
      "model_name": "ProgressStyleModel",
      "state": {
       "_model_module": "@jupyter-widgets/controls",
       "_model_module_version": "1.5.0",
       "_model_name": "ProgressStyleModel",
       "_view_count": null,
       "_view_module": "@jupyter-widgets/base",
       "_view_module_version": "1.2.0",
       "_view_name": "StyleView",
       "bar_color": null,
       "description_width": ""
      }
     },
     "620a526f3ed9498295717c78f8de4ab2": {
      "model_module": "@jupyter-widgets/base",
      "model_module_version": "1.2.0",
      "model_name": "LayoutModel",
      "state": {
       "_model_module": "@jupyter-widgets/base",
       "_model_module_version": "1.2.0",
       "_model_name": "LayoutModel",
       "_view_count": null,
       "_view_module": "@jupyter-widgets/base",
       "_view_module_version": "1.2.0",
       "_view_name": "LayoutView",
       "align_content": null,
       "align_items": null,
       "align_self": null,
       "border": null,
       "bottom": null,
       "display": null,
       "flex": null,
       "flex_flow": null,
       "grid_area": null,
       "grid_auto_columns": null,
       "grid_auto_flow": null,
       "grid_auto_rows": null,
       "grid_column": null,
       "grid_gap": null,
       "grid_row": null,
       "grid_template_areas": null,
       "grid_template_columns": null,
       "grid_template_rows": null,
       "height": null,
       "justify_content": null,
       "justify_items": null,
       "left": null,
       "margin": null,
       "max_height": null,
       "max_width": null,
       "min_height": null,
       "min_width": null,
       "object_fit": null,
       "object_position": null,
       "order": null,
       "overflow": null,
       "overflow_x": null,
       "overflow_y": null,
       "padding": null,
       "right": null,
       "top": null,
       "visibility": null,
       "width": null
      }
     },
     "67ff6a6386e9447a8290ab3ba8b38dad": {
      "model_module": "@jupyter-widgets/controls",
      "model_module_version": "1.5.0",
      "model_name": "DescriptionStyleModel",
      "state": {
       "_model_module": "@jupyter-widgets/controls",
       "_model_module_version": "1.5.0",
       "_model_name": "DescriptionStyleModel",
       "_view_count": null,
       "_view_module": "@jupyter-widgets/base",
       "_view_module_version": "1.2.0",
       "_view_name": "StyleView",
       "description_width": ""
      }
     },
     "7472cf72129d4d77953d097c9cb08a0b": {
      "model_module": "@jupyter-widgets/controls",
      "model_module_version": "1.5.0",
      "model_name": "HTMLModel",
      "state": {
       "_dom_classes": [],
       "_model_module": "@jupyter-widgets/controls",
       "_model_module_version": "1.5.0",
       "_model_name": "HTMLModel",
       "_view_count": null,
       "_view_module": "@jupyter-widgets/controls",
       "_view_module_version": "1.5.0",
       "_view_name": "HTMLView",
       "description": "",
       "description_tooltip": null,
       "layout": "IPY_MODEL_5d76a77b9d1a4eacb2c1b76273ff6780",
       "placeholder": "​",
       "style": "IPY_MODEL_f26f4042c55c4972b006d9e3ce18d171",
       "value": "100%"
      }
     },
     "77901cb7e4a64decaade3b327c959706": {
      "model_module": "@jupyter-widgets/controls",
      "model_module_version": "1.5.0",
      "model_name": "HTMLModel",
      "state": {
       "_dom_classes": [],
       "_model_module": "@jupyter-widgets/controls",
       "_model_module_version": "1.5.0",
       "_model_name": "HTMLModel",
       "_view_count": null,
       "_view_module": "@jupyter-widgets/controls",
       "_view_module_version": "1.5.0",
       "_view_name": "HTMLView",
       "description": "",
       "description_tooltip": null,
       "layout": "IPY_MODEL_9b84f38205fb4ecc809f68eba5af0e6d",
       "placeholder": "​",
       "style": "IPY_MODEL_3c671c798cc340068689031087e1b955",
       "value": " 9912422/9912422 [00:00&lt;00:00, 124056607.77it/s]"
      }
     },
     "7e1141c062e645d3b3f92d63002e2083": {
      "model_module": "@jupyter-widgets/base",
      "model_module_version": "1.2.0",
      "model_name": "LayoutModel",
      "state": {
       "_model_module": "@jupyter-widgets/base",
       "_model_module_version": "1.2.0",
       "_model_name": "LayoutModel",
       "_view_count": null,
       "_view_module": "@jupyter-widgets/base",
       "_view_module_version": "1.2.0",
       "_view_name": "LayoutView",
       "align_content": null,
       "align_items": null,
       "align_self": null,
       "border": null,
       "bottom": null,
       "display": null,
       "flex": null,
       "flex_flow": null,
       "grid_area": null,
       "grid_auto_columns": null,
       "grid_auto_flow": null,
       "grid_auto_rows": null,
       "grid_column": null,
       "grid_gap": null,
       "grid_row": null,
       "grid_template_areas": null,
       "grid_template_columns": null,
       "grid_template_rows": null,
       "height": null,
       "justify_content": null,
       "justify_items": null,
       "left": null,
       "margin": null,
       "max_height": null,
       "max_width": null,
       "min_height": null,
       "min_width": null,
       "object_fit": null,
       "object_position": null,
       "order": null,
       "overflow": null,
       "overflow_x": null,
       "overflow_y": null,
       "padding": null,
       "right": null,
       "top": null,
       "visibility": null,
       "width": null
      }
     },
     "88024f2979ef495c84a4eadc59ec8139": {
      "model_module": "@jupyter-widgets/base",
      "model_module_version": "1.2.0",
      "model_name": "LayoutModel",
      "state": {
       "_model_module": "@jupyter-widgets/base",
       "_model_module_version": "1.2.0",
       "_model_name": "LayoutModel",
       "_view_count": null,
       "_view_module": "@jupyter-widgets/base",
       "_view_module_version": "1.2.0",
       "_view_name": "LayoutView",
       "align_content": null,
       "align_items": null,
       "align_self": null,
       "border": null,
       "bottom": null,
       "display": null,
       "flex": null,
       "flex_flow": null,
       "grid_area": null,
       "grid_auto_columns": null,
       "grid_auto_flow": null,
       "grid_auto_rows": null,
       "grid_column": null,
       "grid_gap": null,
       "grid_row": null,
       "grid_template_areas": null,
       "grid_template_columns": null,
       "grid_template_rows": null,
       "height": null,
       "justify_content": null,
       "justify_items": null,
       "left": null,
       "margin": null,
       "max_height": null,
       "max_width": null,
       "min_height": null,
       "min_width": null,
       "object_fit": null,
       "object_position": null,
       "order": null,
       "overflow": null,
       "overflow_x": null,
       "overflow_y": null,
       "padding": null,
       "right": null,
       "top": null,
       "visibility": null,
       "width": null
      }
     },
     "8be7f432f08e40df9e3c71e827dfbbb6": {
      "model_module": "@jupyter-widgets/controls",
      "model_module_version": "1.5.0",
      "model_name": "HTMLModel",
      "state": {
       "_dom_classes": [],
       "_model_module": "@jupyter-widgets/controls",
       "_model_module_version": "1.5.0",
       "_model_name": "HTMLModel",
       "_view_count": null,
       "_view_module": "@jupyter-widgets/controls",
       "_view_module_version": "1.5.0",
       "_view_name": "HTMLView",
       "description": "",
       "description_tooltip": null,
       "layout": "IPY_MODEL_56f5b59a1bd3402e8c1940a4b25b6e36",
       "placeholder": "​",
       "style": "IPY_MODEL_07d82b50aa684b1da5b726c9cf70f23f",
       "value": "100%"
      }
     },
     "9b84f38205fb4ecc809f68eba5af0e6d": {
      "model_module": "@jupyter-widgets/base",
      "model_module_version": "1.2.0",
      "model_name": "LayoutModel",
      "state": {
       "_model_module": "@jupyter-widgets/base",
       "_model_module_version": "1.2.0",
       "_model_name": "LayoutModel",
       "_view_count": null,
       "_view_module": "@jupyter-widgets/base",
       "_view_module_version": "1.2.0",
       "_view_name": "LayoutView",
       "align_content": null,
       "align_items": null,
       "align_self": null,
       "border": null,
       "bottom": null,
       "display": null,
       "flex": null,
       "flex_flow": null,
       "grid_area": null,
       "grid_auto_columns": null,
       "grid_auto_flow": null,
       "grid_auto_rows": null,
       "grid_column": null,
       "grid_gap": null,
       "grid_row": null,
       "grid_template_areas": null,
       "grid_template_columns": null,
       "grid_template_rows": null,
       "height": null,
       "justify_content": null,
       "justify_items": null,
       "left": null,
       "margin": null,
       "max_height": null,
       "max_width": null,
       "min_height": null,
       "min_width": null,
       "object_fit": null,
       "object_position": null,
       "order": null,
       "overflow": null,
       "overflow_x": null,
       "overflow_y": null,
       "padding": null,
       "right": null,
       "top": null,
       "visibility": null,
       "width": null
      }
     },
     "9c5c0ddc49174d42a72679f503b79ce1": {
      "model_module": "@jupyter-widgets/base",
      "model_module_version": "1.2.0",
      "model_name": "LayoutModel",
      "state": {
       "_model_module": "@jupyter-widgets/base",
       "_model_module_version": "1.2.0",
       "_model_name": "LayoutModel",
       "_view_count": null,
       "_view_module": "@jupyter-widgets/base",
       "_view_module_version": "1.2.0",
       "_view_name": "LayoutView",
       "align_content": null,
       "align_items": null,
       "align_self": null,
       "border": null,
       "bottom": null,
       "display": null,
       "flex": null,
       "flex_flow": null,
       "grid_area": null,
       "grid_auto_columns": null,
       "grid_auto_flow": null,
       "grid_auto_rows": null,
       "grid_column": null,
       "grid_gap": null,
       "grid_row": null,
       "grid_template_areas": null,
       "grid_template_columns": null,
       "grid_template_rows": null,
       "height": null,
       "justify_content": null,
       "justify_items": null,
       "left": null,
       "margin": null,
       "max_height": null,
       "max_width": null,
       "min_height": null,
       "min_width": null,
       "object_fit": null,
       "object_position": null,
       "order": null,
       "overflow": null,
       "overflow_x": null,
       "overflow_y": null,
       "padding": null,
       "right": null,
       "top": null,
       "visibility": null,
       "width": null
      }
     },
     "a5b0cd20a5cb45dd881a18404259b4e5": {
      "model_module": "@jupyter-widgets/controls",
      "model_module_version": "1.5.0",
      "model_name": "ProgressStyleModel",
      "state": {
       "_model_module": "@jupyter-widgets/controls",
       "_model_module_version": "1.5.0",
       "_model_name": "ProgressStyleModel",
       "_view_count": null,
       "_view_module": "@jupyter-widgets/base",
       "_view_module_version": "1.2.0",
       "_view_name": "StyleView",
       "bar_color": null,
       "description_width": ""
      }
     },
     "b2daf400e4e444cfadac0f76ed2008b4": {
      "model_module": "@jupyter-widgets/controls",
      "model_module_version": "1.5.0",
      "model_name": "FloatProgressModel",
      "state": {
       "_dom_classes": [],
       "_model_module": "@jupyter-widgets/controls",
       "_model_module_version": "1.5.0",
       "_model_name": "FloatProgressModel",
       "_view_count": null,
       "_view_module": "@jupyter-widgets/controls",
       "_view_module_version": "1.5.0",
       "_view_name": "ProgressView",
       "bar_style": "success",
       "description": "",
       "description_tooltip": null,
       "layout": "IPY_MODEL_013e4fa4069f49d082062b4c7bafb16b",
       "max": 28881.0,
       "min": 0.0,
       "orientation": "horizontal",
       "style": "IPY_MODEL_c6ac82beb6d84adaa77a0cf737ed80ee",
       "value": 28881.0
      }
     },
     "c0b8fcc52e4f4b17967016f3ecf30cd2": {
      "model_module": "@jupyter-widgets/base",
      "model_module_version": "1.2.0",
      "model_name": "LayoutModel",
      "state": {
       "_model_module": "@jupyter-widgets/base",
       "_model_module_version": "1.2.0",
       "_model_name": "LayoutModel",
       "_view_count": null,
       "_view_module": "@jupyter-widgets/base",
       "_view_module_version": "1.2.0",
       "_view_name": "LayoutView",
       "align_content": null,
       "align_items": null,
       "align_self": null,
       "border": null,
       "bottom": null,
       "display": null,
       "flex": null,
       "flex_flow": null,
       "grid_area": null,
       "grid_auto_columns": null,
       "grid_auto_flow": null,
       "grid_auto_rows": null,
       "grid_column": null,
       "grid_gap": null,
       "grid_row": null,
       "grid_template_areas": null,
       "grid_template_columns": null,
       "grid_template_rows": null,
       "height": null,
       "justify_content": null,
       "justify_items": null,
       "left": null,
       "margin": null,
       "max_height": null,
       "max_width": null,
       "min_height": null,
       "min_width": null,
       "object_fit": null,
       "object_position": null,
       "order": null,
       "overflow": null,
       "overflow_x": null,
       "overflow_y": null,
       "padding": null,
       "right": null,
       "top": null,
       "visibility": null,
       "width": null
      }
     },
     "c6ac82beb6d84adaa77a0cf737ed80ee": {
      "model_module": "@jupyter-widgets/controls",
      "model_module_version": "1.5.0",
      "model_name": "ProgressStyleModel",
      "state": {
       "_model_module": "@jupyter-widgets/controls",
       "_model_module_version": "1.5.0",
       "_model_name": "ProgressStyleModel",
       "_view_count": null,
       "_view_module": "@jupyter-widgets/base",
       "_view_module_version": "1.2.0",
       "_view_name": "StyleView",
       "bar_color": null,
       "description_width": ""
      }
     },
     "ce1a96cdf50840e6ab4bc3f27ba05af6": {
      "model_module": "@jupyter-widgets/controls",
      "model_module_version": "1.5.0",
      "model_name": "HTMLModel",
      "state": {
       "_dom_classes": [],
       "_model_module": "@jupyter-widgets/controls",
       "_model_module_version": "1.5.0",
       "_model_name": "HTMLModel",
       "_view_count": null,
       "_view_module": "@jupyter-widgets/controls",
       "_view_module_version": "1.5.0",
       "_view_name": "HTMLView",
       "description": "",
       "description_tooltip": null,
       "layout": "IPY_MODEL_4117fc8eeaab48088878e38acebc9398",
       "placeholder": "​",
       "style": "IPY_MODEL_67ff6a6386e9447a8290ab3ba8b38dad",
       "value": "100%"
      }
     },
     "ced607d8eb6345ed9b3784ab37ff482f": {
      "model_module": "@jupyter-widgets/base",
      "model_module_version": "1.2.0",
      "model_name": "LayoutModel",
      "state": {
       "_model_module": "@jupyter-widgets/base",
       "_model_module_version": "1.2.0",
       "_model_name": "LayoutModel",
       "_view_count": null,
       "_view_module": "@jupyter-widgets/base",
       "_view_module_version": "1.2.0",
       "_view_name": "LayoutView",
       "align_content": null,
       "align_items": null,
       "align_self": null,
       "border": null,
       "bottom": null,
       "display": null,
       "flex": null,
       "flex_flow": null,
       "grid_area": null,
       "grid_auto_columns": null,
       "grid_auto_flow": null,
       "grid_auto_rows": null,
       "grid_column": null,
       "grid_gap": null,
       "grid_row": null,
       "grid_template_areas": null,
       "grid_template_columns": null,
       "grid_template_rows": null,
       "height": null,
       "justify_content": null,
       "justify_items": null,
       "left": null,
       "margin": null,
       "max_height": null,
       "max_width": null,
       "min_height": null,
       "min_width": null,
       "object_fit": null,
       "object_position": null,
       "order": null,
       "overflow": null,
       "overflow_x": null,
       "overflow_y": null,
       "padding": null,
       "right": null,
       "top": null,
       "visibility": null,
       "width": null
      }
     },
     "cf5119c381aa4f3cb6b816cc2ac036a5": {
      "model_module": "@jupyter-widgets/controls",
      "model_module_version": "1.5.0",
      "model_name": "HTMLModel",
      "state": {
       "_dom_classes": [],
       "_model_module": "@jupyter-widgets/controls",
       "_model_module_version": "1.5.0",
       "_model_name": "HTMLModel",
       "_view_count": null,
       "_view_module": "@jupyter-widgets/controls",
       "_view_module_version": "1.5.0",
       "_view_name": "HTMLView",
       "description": "",
       "description_tooltip": null,
       "layout": "IPY_MODEL_5f2bb813ac4e49dc9ad860437d1b51b8",
       "placeholder": "​",
       "style": "IPY_MODEL_4028d9fc1faf4438aa249aee7e56ddfe",
       "value": " 28881/28881 [00:00&lt;00:00, 2178934.67it/s]"
      }
     },
     "d13167527d8841d8a424038130fff40d": {
      "model_module": "@jupyter-widgets/controls",
      "model_module_version": "1.5.0",
      "model_name": "HTMLModel",
      "state": {
       "_dom_classes": [],
       "_model_module": "@jupyter-widgets/controls",
       "_model_module_version": "1.5.0",
       "_model_name": "HTMLModel",
       "_view_count": null,
       "_view_module": "@jupyter-widgets/controls",
       "_view_module_version": "1.5.0",
       "_view_name": "HTMLView",
       "description": "",
       "description_tooltip": null,
       "layout": "IPY_MODEL_c0b8fcc52e4f4b17967016f3ecf30cd2",
       "placeholder": "​",
       "style": "IPY_MODEL_1ce524cdba6e46cc8dda9adeaf6607d7",
       "value": " 4542/4542 [00:00&lt;00:00, 358079.18it/s]"
      }
     },
     "d7f64fae51854b2a8265afa4d385bf23": {
      "model_module": "@jupyter-widgets/base",
      "model_module_version": "1.2.0",
      "model_name": "LayoutModel",
      "state": {
       "_model_module": "@jupyter-widgets/base",
       "_model_module_version": "1.2.0",
       "_model_name": "LayoutModel",
       "_view_count": null,
       "_view_module": "@jupyter-widgets/base",
       "_view_module_version": "1.2.0",
       "_view_name": "LayoutView",
       "align_content": null,
       "align_items": null,
       "align_self": null,
       "border": null,
       "bottom": null,
       "display": null,
       "flex": null,
       "flex_flow": null,
       "grid_area": null,
       "grid_auto_columns": null,
       "grid_auto_flow": null,
       "grid_auto_rows": null,
       "grid_column": null,
       "grid_gap": null,
       "grid_row": null,
       "grid_template_areas": null,
       "grid_template_columns": null,
       "grid_template_rows": null,
       "height": null,
       "justify_content": null,
       "justify_items": null,
       "left": null,
       "margin": null,
       "max_height": null,
       "max_width": null,
       "min_height": null,
       "min_width": null,
       "object_fit": null,
       "object_position": null,
       "order": null,
       "overflow": null,
       "overflow_x": null,
       "overflow_y": null,
       "padding": null,
       "right": null,
       "top": null,
       "visibility": null,
       "width": null
      }
     },
     "d9421859334a4d2cae175bea819e41b9": {
      "model_module": "@jupyter-widgets/base",
      "model_module_version": "1.2.0",
      "model_name": "LayoutModel",
      "state": {
       "_model_module": "@jupyter-widgets/base",
       "_model_module_version": "1.2.0",
       "_model_name": "LayoutModel",
       "_view_count": null,
       "_view_module": "@jupyter-widgets/base",
       "_view_module_version": "1.2.0",
       "_view_name": "LayoutView",
       "align_content": null,
       "align_items": null,
       "align_self": null,
       "border": null,
       "bottom": null,
       "display": null,
       "flex": null,
       "flex_flow": null,
       "grid_area": null,
       "grid_auto_columns": null,
       "grid_auto_flow": null,
       "grid_auto_rows": null,
       "grid_column": null,
       "grid_gap": null,
       "grid_row": null,
       "grid_template_areas": null,
       "grid_template_columns": null,
       "grid_template_rows": null,
       "height": null,
       "justify_content": null,
       "justify_items": null,
       "left": null,
       "margin": null,
       "max_height": null,
       "max_width": null,
       "min_height": null,
       "min_width": null,
       "object_fit": null,
       "object_position": null,
       "order": null,
       "overflow": null,
       "overflow_x": null,
       "overflow_y": null,
       "padding": null,
       "right": null,
       "top": null,
       "visibility": null,
       "width": null
      }
     },
     "db702c2beeb94f39bb928a88ecd2a6cc": {
      "model_module": "@jupyter-widgets/controls",
      "model_module_version": "1.5.0",
      "model_name": "DescriptionStyleModel",
      "state": {
       "_model_module": "@jupyter-widgets/controls",
       "_model_module_version": "1.5.0",
       "_model_name": "DescriptionStyleModel",
       "_view_count": null,
       "_view_module": "@jupyter-widgets/base",
       "_view_module_version": "1.2.0",
       "_view_name": "StyleView",
       "description_width": ""
      }
     },
     "e826cd95dd224fa2b7bc52e936420ce1": {
      "model_module": "@jupyter-widgets/base",
      "model_module_version": "1.2.0",
      "model_name": "LayoutModel",
      "state": {
       "_model_module": "@jupyter-widgets/base",
       "_model_module_version": "1.2.0",
       "_model_name": "LayoutModel",
       "_view_count": null,
       "_view_module": "@jupyter-widgets/base",
       "_view_module_version": "1.2.0",
       "_view_name": "LayoutView",
       "align_content": null,
       "align_items": null,
       "align_self": null,
       "border": null,
       "bottom": null,
       "display": null,
       "flex": null,
       "flex_flow": null,
       "grid_area": null,
       "grid_auto_columns": null,
       "grid_auto_flow": null,
       "grid_auto_rows": null,
       "grid_column": null,
       "grid_gap": null,
       "grid_row": null,
       "grid_template_areas": null,
       "grid_template_columns": null,
       "grid_template_rows": null,
       "height": null,
       "justify_content": null,
       "justify_items": null,
       "left": null,
       "margin": null,
       "max_height": null,
       "max_width": null,
       "min_height": null,
       "min_width": null,
       "object_fit": null,
       "object_position": null,
       "order": null,
       "overflow": null,
       "overflow_x": null,
       "overflow_y": null,
       "padding": null,
       "right": null,
       "top": null,
       "visibility": null,
       "width": null
      }
     },
     "f26f4042c55c4972b006d9e3ce18d171": {
      "model_module": "@jupyter-widgets/controls",
      "model_module_version": "1.5.0",
      "model_name": "DescriptionStyleModel",
      "state": {
       "_model_module": "@jupyter-widgets/controls",
       "_model_module_version": "1.5.0",
       "_model_name": "DescriptionStyleModel",
       "_view_count": null,
       "_view_module": "@jupyter-widgets/base",
       "_view_module_version": "1.2.0",
       "_view_name": "StyleView",
       "description_width": ""
      }
     },
     "f8c182225b6e4526b74f3cebdfef0268": {
      "model_module": "@jupyter-widgets/controls",
      "model_module_version": "1.5.0",
      "model_name": "FloatProgressModel",
      "state": {
       "_dom_classes": [],
       "_model_module": "@jupyter-widgets/controls",
       "_model_module_version": "1.5.0",
       "_model_name": "FloatProgressModel",
       "_view_count": null,
       "_view_module": "@jupyter-widgets/controls",
       "_view_module_version": "1.5.0",
       "_view_name": "ProgressView",
       "bar_style": "success",
       "description": "",
       "description_tooltip": null,
       "layout": "IPY_MODEL_d7f64fae51854b2a8265afa4d385bf23",
       "max": 9912422.0,
       "min": 0.0,
       "orientation": "horizontal",
       "style": "IPY_MODEL_02dcc07263804d33aa9f4b5ae5ef68b2",
       "value": 9912422.0
      }
     },
     "fd920d4267c34c54be8de8f8b036f4dc": {
      "model_module": "@jupyter-widgets/controls",
      "model_module_version": "1.5.0",
      "model_name": "DescriptionStyleModel",
      "state": {
       "_model_module": "@jupyter-widgets/controls",
       "_model_module_version": "1.5.0",
       "_model_name": "DescriptionStyleModel",
       "_view_count": null,
       "_view_module": "@jupyter-widgets/base",
       "_view_module_version": "1.2.0",
       "_view_name": "StyleView",
       "description_width": ""
      }
     }
    },
    "version_major": 2,
    "version_minor": 0
   }
  }
 },
 "nbformat": 4,
 "nbformat_minor": 5
}
