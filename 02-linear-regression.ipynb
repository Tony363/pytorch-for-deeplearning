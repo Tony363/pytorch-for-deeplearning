{
 "cells": [
  {
   "cell_type": "markdown",
   "id": "bcce9d1c",
   "metadata": {
    "papermill": {
     "duration": 0.01896,
     "end_time": "2023-03-12T23:47:47.037543",
     "exception": false,
     "start_time": "2023-03-12T23:47:47.018583",
     "status": "completed"
    },
    "tags": []
   },
   "source": [
    "## Gradient Descent and Linear Regression with PyTorch\n",
    "\n",
    "### Part 2 of \"Deep Learning with Pytorch: Zero to GANs\"\n",
    "\n",
    "This tutorial series is a hands-on beginner-friendly introduction to deep learning using [PyTorch](https://pytorch.org), an open-source neural networks library. These tutorials take a practical and coding-focused approach. The best way to learn the material is to execute the code and experiment with it yourself. Check out the full series here:\n",
    "\n",
    "1. [PyTorch Basics: Tensors & Gradients](https://jovian.ai/aakashns/01-pytorch-basics)\n",
    "2. [Gradient Descent & Linear Regression](https://jovian.ai/aakashns/02-linear-regression)\n",
    "3. [Working with Images & Logistic Regression](https://jovian.ai/aakashns/03-logistic-regression) \n",
    "4. [Training Deep Neural Networks on a GPU](https://jovian.ai/aakashns/04-feedforward-nn)\n",
    "5. [Image Classification using Convolutional Neural Networks](https://jovian.ai/aakashns/05-cifar10-cnn)\n",
    "6. [Data Augmentation, Regularization and ResNets](https://jovian.ai/aakashns/05b-cifar10-resnet)\n",
    "7. [Generating Images using Generative Adversarial Networks](https://jovian.ai/aakashns/06b-anime-dcgan/)\n"
   ]
  },
  {
   "cell_type": "markdown",
   "id": "79582a10",
   "metadata": {
    "papermill": {
     "duration": 0.019191,
     "end_time": "2023-03-12T23:47:47.075066",
     "exception": false,
     "start_time": "2023-03-12T23:47:47.055875",
     "status": "completed"
    },
    "tags": []
   },
   "source": [
    "This tutorial covers the following topics:\n",
    "\n",
    "- Introduction to linear regression and gradient descent\n",
    "- Implementing a linear regression model using PyTorch tensors\n",
    "- Training a linear regression model using the gradient descent algorithm\n",
    "- Implementing gradient descent and linear regression using PyTorch built-in"
   ]
  },
  {
   "cell_type": "markdown",
   "id": "35da3b04",
   "metadata": {
    "papermill": {
     "duration": 0.017838,
     "end_time": "2023-03-12T23:47:47.111081",
     "exception": false,
     "start_time": "2023-03-12T23:47:47.093243",
     "status": "completed"
    },
    "tags": []
   },
   "source": [
    "### How to run the code\n",
    "\n",
    "This tutorial is an executable [Jupyter notebook](https://jupyter.org) hosted on [Jovian](https://www.jovian.ai) (don't worry if these terms seem unfamiliar; we'll learn more about them soon). You can _run_ this tutorial and experiment with the code examples in a couple of ways: *using free online resources* (recommended) or *on your computer*.\n",
    "\n",
    "#### Option 1: Running using free online resources (1-click, recommended)\n",
    "\n",
    "The easiest way to start executing the code is to click the **Run** button at the top of this page and select **Run on Colab**. [Google Colab](https://colab.research.google.com) is a free online platform for running Jupyter notebooks using Google's cloud infrastructure. You can also select \"Run on Binder\" or \"Run on Kaggle\" if you face issues running the notebook on Google Colab.\n",
    "\n",
    "\n",
    "#### Option 2: Running on your computer locally\n",
    "\n",
    "To run the code on your computer locally, you'll need to set up [Python](https://www.python.org), download the notebook and install the required libraries. We recommend using the [Conda](https://docs.conda.io/projects/conda/en/latest/user-guide/install/) distribution of Python. Click the **Run** button at the top of this page, select the **Run Locally** option, and follow the instructions.\n",
    "\n",
    ">  **Jupyter Notebooks**: This tutorial is a [Jupyter notebook](https://jupyter.org) - a document made of _cells_. Each cell can contain code written in Python or explanations in plain English. You can execute code cells and view the results, e.g., numbers, messages, graphs, tables, files, etc. instantly within the notebook. Jupyter is a powerful platform for experimentation and analysis. Don't be afraid to mess around with the code & break things - you'll learn a lot by encountering and fixing errors. You can use the \"Kernel > Restart & Clear Output\" or \"Edit > Clear Outputs\" menu option to clear all outputs and start again from the top."
   ]
  },
  {
   "cell_type": "markdown",
   "id": "1f917465",
   "metadata": {
    "papermill": {
     "duration": 0.017938,
     "end_time": "2023-03-12T23:47:47.146987",
     "exception": false,
     "start_time": "2023-03-12T23:47:47.129049",
     "status": "completed"
    },
    "tags": []
   },
   "source": [
    "Before we begin, we need to install the required libraries. The installation of PyTorch may differ based on your operating system / cloud environment. You can find detailed installation instructions here: https://pytorch.org ."
   ]
  },
  {
   "cell_type": "code",
   "execution_count": 1,
   "id": "faeefd3e",
   "metadata": {
    "execution": {
     "iopub.execute_input": "2023-03-12T23:47:47.184870Z",
     "iopub.status.busy": "2023-03-12T23:47:47.184508Z",
     "iopub.status.idle": "2023-03-12T23:47:47.189250Z",
     "shell.execute_reply": "2023-03-12T23:47:47.188500Z"
    },
    "papermill": {
     "duration": 0.025774,
     "end_time": "2023-03-12T23:47:47.191037",
     "exception": false,
     "start_time": "2023-03-12T23:47:47.165263",
     "status": "completed"
    },
    "tags": []
   },
   "outputs": [],
   "source": [
    "# Uncomment and run the appropriate command for your operating system, if required\n",
    "\n",
    "# Linux / Binder\n",
    "# !pip install numpy torch==1.7.0+cpu torchvision==0.8.1+cpu torchaudio==0.7.0 -f https://download.pytorch.org/whl/torch_stable.html\n",
    "\n",
    "# Windows\n",
    "# !pip install numpy torch==1.7.0+cpu torchvision==0.8.1+cpu torchaudio==0.7.0 -f https://download.pytorch.org/whl/torch_stable.html\n",
    "\n",
    "# MacOS\n",
    "# !pip install numpy torch torchvision torchaudio"
   ]
  },
  {
   "cell_type": "markdown",
   "id": "37fd5feb",
   "metadata": {
    "papermill": {
     "duration": 0.017384,
     "end_time": "2023-03-12T23:47:47.226411",
     "exception": false,
     "start_time": "2023-03-12T23:47:47.209027",
     "status": "completed"
    },
    "tags": []
   },
   "source": [
    "## Introduction to Linear Regression\n",
    "\n",
    "In this tutorial, we'll discuss one of the foundational algorithms in machine learning: *Linear regression*. We'll create a model that predicts crop yields for apples and oranges (*target variables*) by looking at the average temperature, rainfall, and humidity (*input variables or features*) in a region. Here's the training data:\n",
    "\n",
    "![linear-regression-training-data](https://i.imgur.com/6Ujttb4.png)\n",
    "\n",
    "In a linear regression model, each target variable is estimated to be a weighted sum of the input variables, offset by some constant, known as a bias :\n",
    "\n",
    "```\n",
    "yield_apple  = w11 * temp + w12 * rainfall + w13 * humidity + b1\n",
    "yield_orange = w21 * temp + w22 * rainfall + w23 * humidity + b2\n",
    "```\n",
    "\n",
    "Visually, it means that the yield of apples is a linear or planar function of temperature, rainfall and humidity:\n",
    "\n",
    "![linear-regression-graph](https://i.imgur.com/4DJ9f8X.png)"
   ]
  },
  {
   "cell_type": "markdown",
   "id": "ad44f09f",
   "metadata": {
    "papermill": {
     "duration": 0.017544,
     "end_time": "2023-03-12T23:47:47.261747",
     "exception": false,
     "start_time": "2023-03-12T23:47:47.244203",
     "status": "completed"
    },
    "tags": []
   },
   "source": [
    "The *learning* part of linear regression is to figure out a set of weights `w11, w12,... w23, b1 & b2` using the training data, to make accurate predictions for new data. The _learned_ weights will be used to predict the yields for apples and oranges in a new region using the average temperature, rainfall, and humidity for that region. \n",
    "\n",
    "We'll _train_ our model by adjusting the weights slightly many times to make better predictions, using an optimization technique called *gradient descent*. Let's begin by importing Numpy and PyTorch."
   ]
  },
  {
   "cell_type": "code",
   "execution_count": 2,
   "id": "a4524bab",
   "metadata": {
    "execution": {
     "iopub.execute_input": "2023-03-12T23:47:47.299312Z",
     "iopub.status.busy": "2023-03-12T23:47:47.298782Z",
     "iopub.status.idle": "2023-03-12T23:47:49.396812Z",
     "shell.execute_reply": "2023-03-12T23:47:49.395599Z"
    },
    "papermill": {
     "duration": 2.119747,
     "end_time": "2023-03-12T23:47:49.399342",
     "exception": false,
     "start_time": "2023-03-12T23:47:47.279595",
     "status": "completed"
    },
    "tags": []
   },
   "outputs": [],
   "source": [
    "import numpy as np\n",
    "import torch"
   ]
  },
  {
   "cell_type": "markdown",
   "id": "e3aec101",
   "metadata": {
    "papermill": {
     "duration": 0.018539,
     "end_time": "2023-03-12T23:47:49.436345",
     "exception": false,
     "start_time": "2023-03-12T23:47:49.417806",
     "status": "completed"
    },
    "tags": []
   },
   "source": [
    "## Training data\n",
    "\n",
    "We can represent the training data using two matrices: `inputs` and `targets`, each with one row per observation, and one column per variable."
   ]
  },
  {
   "cell_type": "code",
   "execution_count": 3,
   "id": "e360e9c5",
   "metadata": {
    "execution": {
     "iopub.execute_input": "2023-03-12T23:47:49.475618Z",
     "iopub.status.busy": "2023-03-12T23:47:49.474890Z",
     "iopub.status.idle": "2023-03-12T23:47:49.479353Z",
     "shell.execute_reply": "2023-03-12T23:47:49.478724Z"
    },
    "papermill": {
     "duration": 0.025732,
     "end_time": "2023-03-12T23:47:49.481142",
     "exception": false,
     "start_time": "2023-03-12T23:47:49.455410",
     "status": "completed"
    },
    "tags": []
   },
   "outputs": [],
   "source": [
    "# Input (temp, rainfall, humidity)\n",
    "inputs = np.array([[73, 67, 43], \n",
    "                   [91, 88, 64], \n",
    "                   [87, 134, 58], \n",
    "                   [102, 43, 37], \n",
    "                   [69, 96, 70]], dtype='float32')"
   ]
  },
  {
   "cell_type": "code",
   "execution_count": 4,
   "id": "9ba98408",
   "metadata": {
    "execution": {
     "iopub.execute_input": "2023-03-12T23:47:49.518276Z",
     "iopub.status.busy": "2023-03-12T23:47:49.517900Z",
     "iopub.status.idle": "2023-03-12T23:47:49.522953Z",
     "shell.execute_reply": "2023-03-12T23:47:49.521982Z"
    },
    "papermill": {
     "duration": 0.025668,
     "end_time": "2023-03-12T23:47:49.524795",
     "exception": false,
     "start_time": "2023-03-12T23:47:49.499127",
     "status": "completed"
    },
    "tags": []
   },
   "outputs": [],
   "source": [
    "# Targets (apples, oranges)\n",
    "targets = np.array([[56, 70], \n",
    "                    [81, 101], \n",
    "                    [119, 133], \n",
    "                    [22, 37], \n",
    "                    [103, 119]], dtype='float32')"
   ]
  },
  {
   "cell_type": "markdown",
   "id": "d9f0b102",
   "metadata": {
    "papermill": {
     "duration": 0.017714,
     "end_time": "2023-03-12T23:47:49.560975",
     "exception": false,
     "start_time": "2023-03-12T23:47:49.543261",
     "status": "completed"
    },
    "tags": []
   },
   "source": [
    "We've separated the input and target variables because we'll operate on them separately. Also, we've created numpy arrays, because this is typically how you would work with training data: read some CSV files as numpy arrays, do some processing, and then convert them to PyTorch tensors.\n",
    "\n",
    "Let's convert the arrays to PyTorch tensors."
   ]
  },
  {
   "cell_type": "code",
   "execution_count": 5,
   "id": "a32a71b5",
   "metadata": {
    "execution": {
     "iopub.execute_input": "2023-03-12T23:47:49.605192Z",
     "iopub.status.busy": "2023-03-12T23:47:49.604364Z",
     "iopub.status.idle": "2023-03-12T23:47:49.698305Z",
     "shell.execute_reply": "2023-03-12T23:47:49.696999Z"
    },
    "papermill": {
     "duration": 0.118857,
     "end_time": "2023-03-12T23:47:49.701182",
     "exception": false,
     "start_time": "2023-03-12T23:47:49.582325",
     "status": "completed"
    },
    "tags": []
   },
   "outputs": [
    {
     "name": "stdout",
     "output_type": "stream",
     "text": [
      "tensor([[ 73.,  67.,  43.],\n",
      "        [ 91.,  88.,  64.],\n",
      "        [ 87., 134.,  58.],\n",
      "        [102.,  43.,  37.],\n",
      "        [ 69.,  96.,  70.]])\n",
      "tensor([[ 56.,  70.],\n",
      "        [ 81., 101.],\n",
      "        [119., 133.],\n",
      "        [ 22.,  37.],\n",
      "        [103., 119.]])\n"
     ]
    }
   ],
   "source": [
    "# Convert inputs and targets to tensors\n",
    "inputs = torch.from_numpy(inputs)\n",
    "targets = torch.from_numpy(targets)\n",
    "print(inputs)\n",
    "print(targets)"
   ]
  },
  {
   "cell_type": "markdown",
   "id": "b451f782",
   "metadata": {
    "papermill": {
     "duration": 0.018224,
     "end_time": "2023-03-12T23:47:49.737971",
     "exception": false,
     "start_time": "2023-03-12T23:47:49.719747",
     "status": "completed"
    },
    "tags": []
   },
   "source": [
    "## Linear regression model from scratch\n",
    "\n",
    "The weights and biases (`w11, w12,... w23, b1 & b2`) can also be represented as matrices, initialized as random values. The first row of `w` and the first element of `b` are used to predict the first target variable, i.e., yield of apples, and similarly, the second for oranges."
   ]
  },
  {
   "cell_type": "code",
   "execution_count": 6,
   "id": "710ff4c0",
   "metadata": {
    "execution": {
     "iopub.execute_input": "2023-03-12T23:47:49.774751Z",
     "iopub.status.busy": "2023-03-12T23:47:49.774354Z",
     "iopub.status.idle": "2023-03-12T23:47:49.785471Z",
     "shell.execute_reply": "2023-03-12T23:47:49.784198Z"
    },
    "papermill": {
     "duration": 0.031982,
     "end_time": "2023-03-12T23:47:49.787465",
     "exception": false,
     "start_time": "2023-03-12T23:47:49.755483",
     "status": "completed"
    },
    "tags": []
   },
   "outputs": [
    {
     "name": "stdout",
     "output_type": "stream",
     "text": [
      "tensor([[ 0.6433, -0.6972,  0.4105],\n",
      "        [ 0.0571, -1.1121,  0.0756]], requires_grad=True)\n",
      "tensor([-0.1811, -0.5483], requires_grad=True)\n"
     ]
    }
   ],
   "source": [
    "# Weights and biases\n",
    "w = torch.randn(2, 3, requires_grad=True)\n",
    "b = torch.randn(2, requires_grad=True)\n",
    "print(w)\n",
    "print(b)"
   ]
  },
  {
   "cell_type": "markdown",
   "id": "c9b288b0",
   "metadata": {
    "papermill": {
     "duration": 0.01749,
     "end_time": "2023-03-12T23:47:49.823120",
     "exception": false,
     "start_time": "2023-03-12T23:47:49.805630",
     "status": "completed"
    },
    "tags": []
   },
   "source": [
    "`torch.randn` creates a tensor with the given shape, with elements picked randomly from a [normal distribution](https://en.wikipedia.org/wiki/Normal_distribution) with mean 0 and standard deviation 1.\n",
    "\n",
    "Our *model* is simply a function that performs a matrix multiplication of the `inputs` and the weights `w` (transposed) and adds the bias `b` (replicated for each observation).\n",
    "\n",
    "![matrix-mult](https://i.imgur.com/WGXLFvA.png)\n",
    "\n",
    "We can define the model as follows:"
   ]
  },
  {
   "cell_type": "code",
   "execution_count": 7,
   "id": "1ccd7c59",
   "metadata": {
    "execution": {
     "iopub.execute_input": "2023-03-12T23:47:49.860881Z",
     "iopub.status.busy": "2023-03-12T23:47:49.859939Z",
     "iopub.status.idle": "2023-03-12T23:47:49.865422Z",
     "shell.execute_reply": "2023-03-12T23:47:49.864563Z"
    },
    "papermill": {
     "duration": 0.026661,
     "end_time": "2023-03-12T23:47:49.867509",
     "exception": false,
     "start_time": "2023-03-12T23:47:49.840848",
     "status": "completed"
    },
    "tags": []
   },
   "outputs": [],
   "source": [
    "def model(x):\n",
    "    return x @ w.t() + b"
   ]
  },
  {
   "cell_type": "markdown",
   "id": "5a81e355",
   "metadata": {
    "papermill": {
     "duration": 0.017487,
     "end_time": "2023-03-12T23:47:49.902889",
     "exception": false,
     "start_time": "2023-03-12T23:47:49.885402",
     "status": "completed"
    },
    "tags": []
   },
   "source": [
    "`@` represents matrix multiplication in PyTorch, and the `.t` method returns the transpose of a tensor.\n",
    "\n",
    "The matrix obtained by passing the input data into the model is a set of predictions for the target variables."
   ]
  },
  {
   "cell_type": "code",
   "execution_count": 8,
   "id": "8223abb9",
   "metadata": {
    "execution": {
     "iopub.execute_input": "2023-03-12T23:47:49.940237Z",
     "iopub.status.busy": "2023-03-12T23:47:49.939893Z",
     "iopub.status.idle": "2023-03-12T23:47:49.962944Z",
     "shell.execute_reply": "2023-03-12T23:47:49.961505Z"
    },
    "papermill": {
     "duration": 0.044604,
     "end_time": "2023-03-12T23:47:49.965272",
     "exception": false,
     "start_time": "2023-03-12T23:47:49.920668",
     "status": "completed"
    },
    "tags": []
   },
   "outputs": [
    {
     "name": "stdout",
     "output_type": "stream",
     "text": [
      "tensor([[  17.7153,  -67.6377],\n",
      "        [  23.2729,  -88.3756],\n",
      "        [ -13.8363, -140.2124],\n",
      "        [  50.6418,  -39.7463],\n",
      "        [   6.0054,  -98.0744]], grad_fn=<AddBackward0>)\n"
     ]
    }
   ],
   "source": [
    "# Generate predictions\n",
    "preds = model(inputs)\n",
    "print(preds)"
   ]
  },
  {
   "cell_type": "markdown",
   "id": "65edb2aa",
   "metadata": {
    "papermill": {
     "duration": 0.018965,
     "end_time": "2023-03-12T23:47:50.002958",
     "exception": false,
     "start_time": "2023-03-12T23:47:49.983993",
     "status": "completed"
    },
    "tags": []
   },
   "source": [
    "Let's compare the predictions of our model with the actual targets."
   ]
  },
  {
   "cell_type": "code",
   "execution_count": 9,
   "id": "023f281c",
   "metadata": {
    "execution": {
     "iopub.execute_input": "2023-03-12T23:47:50.041206Z",
     "iopub.status.busy": "2023-03-12T23:47:50.040856Z",
     "iopub.status.idle": "2023-03-12T23:47:50.046999Z",
     "shell.execute_reply": "2023-03-12T23:47:50.045717Z"
    },
    "papermill": {
     "duration": 0.028354,
     "end_time": "2023-03-12T23:47:50.049713",
     "exception": false,
     "start_time": "2023-03-12T23:47:50.021359",
     "status": "completed"
    },
    "tags": []
   },
   "outputs": [
    {
     "name": "stdout",
     "output_type": "stream",
     "text": [
      "tensor([[ 56.,  70.],\n",
      "        [ 81., 101.],\n",
      "        [119., 133.],\n",
      "        [ 22.,  37.],\n",
      "        [103., 119.]])\n"
     ]
    }
   ],
   "source": [
    "# Compare with targets\n",
    "print(targets)"
   ]
  },
  {
   "cell_type": "markdown",
   "id": "98f0bc0d",
   "metadata": {
    "papermill": {
     "duration": 0.018078,
     "end_time": "2023-03-12T23:47:50.086734",
     "exception": false,
     "start_time": "2023-03-12T23:47:50.068656",
     "status": "completed"
    },
    "tags": []
   },
   "source": [
    "You can see a big difference between our model's predictions and the actual targets because we've initialized our model with random weights and biases. Obviously, we can't expect a randomly initialized model to *just work*."
   ]
  },
  {
   "cell_type": "markdown",
   "id": "fdb093a5",
   "metadata": {
    "papermill": {
     "duration": 0.017959,
     "end_time": "2023-03-12T23:47:50.123868",
     "exception": false,
     "start_time": "2023-03-12T23:47:50.105909",
     "status": "completed"
    },
    "tags": []
   },
   "source": [
    "## Loss function\n",
    "\n",
    "Before we improve our model, we need a way to evaluate how well our model is performing. We can compare the model's predictions with the actual targets using the following method:\n",
    "\n",
    "* Calculate the difference between the two matrices (`preds` and `targets`).\n",
    "* Square all elements of the difference matrix to remove negative values.\n",
    "* Calculate the average of the elements in the resulting matrix.\n",
    "\n",
    "The result is a single number, known as the **mean squared error** (MSE)."
   ]
  },
  {
   "cell_type": "code",
   "execution_count": 10,
   "id": "96ce75ad",
   "metadata": {
    "execution": {
     "iopub.execute_input": "2023-03-12T23:47:50.161849Z",
     "iopub.status.busy": "2023-03-12T23:47:50.161489Z",
     "iopub.status.idle": "2023-03-12T23:47:50.166402Z",
     "shell.execute_reply": "2023-03-12T23:47:50.165419Z"
    },
    "papermill": {
     "duration": 0.026267,
     "end_time": "2023-03-12T23:47:50.168320",
     "exception": false,
     "start_time": "2023-03-12T23:47:50.142053",
     "status": "completed"
    },
    "tags": []
   },
   "outputs": [],
   "source": [
    "# MSE loss\n",
    "def mse(t1, t2):\n",
    "    diff = t1 - t2\n",
    "    return torch.sum(diff * diff) / torch.numel(diff)"
   ]
  },
  {
   "cell_type": "markdown",
   "id": "f075cfb7",
   "metadata": {
    "papermill": {
     "duration": 0.01753,
     "end_time": "2023-03-12T23:47:50.203866",
     "exception": false,
     "start_time": "2023-03-12T23:47:50.186336",
     "status": "completed"
    },
    "tags": []
   },
   "source": [
    "`torch.sum` returns the sum of all the elements in a tensor. The `.numel` method of a tensor returns the number of elements in a tensor. Let's compute the mean squared error for the current predictions of our model."
   ]
  },
  {
   "cell_type": "code",
   "execution_count": 11,
   "id": "5a46de28",
   "metadata": {
    "execution": {
     "iopub.execute_input": "2023-03-12T23:47:50.244389Z",
     "iopub.status.busy": "2023-03-12T23:47:50.244011Z",
     "iopub.status.idle": "2023-03-12T23:47:50.252453Z",
     "shell.execute_reply": "2023-03-12T23:47:50.251561Z"
    },
    "papermill": {
     "duration": 0.031342,
     "end_time": "2023-03-12T23:47:50.254927",
     "exception": false,
     "start_time": "2023-03-12T23:47:50.223585",
     "status": "completed"
    },
    "tags": []
   },
   "outputs": [
    {
     "name": "stdout",
     "output_type": "stream",
     "text": [
      "tensor(21513.5508, grad_fn=<DivBackward0>)\n"
     ]
    }
   ],
   "source": [
    "# Compute loss\n",
    "loss = mse(preds, targets)\n",
    "print(loss)"
   ]
  },
  {
   "cell_type": "markdown",
   "id": "b6acc4bb",
   "metadata": {
    "papermill": {
     "duration": 0.017226,
     "end_time": "2023-03-12T23:47:50.290940",
     "exception": false,
     "start_time": "2023-03-12T23:47:50.273714",
     "status": "completed"
    },
    "tags": []
   },
   "source": [
    "Here’s how we can interpret the result: *On average, each element in the prediction differs from the actual target by the square root of the loss*. And that’s pretty bad, considering the numbers we are trying to predict are themselves in the range 50–200. The result is called the *loss* because it indicates how bad the model is at predicting the target variables. It represents information loss in the model: the lower the loss, the better the model."
   ]
  },
  {
   "cell_type": "markdown",
   "id": "fee814b1",
   "metadata": {
    "papermill": {
     "duration": 0.017238,
     "end_time": "2023-03-12T23:47:50.325653",
     "exception": false,
     "start_time": "2023-03-12T23:47:50.308415",
     "status": "completed"
    },
    "tags": []
   },
   "source": [
    "## Compute gradients\n",
    "\n",
    "With PyTorch, we can automatically compute the gradient or derivative of the loss w.r.t. to the weights and biases because they have `requires_grad` set to `True`. We'll see how this is useful in just a moment."
   ]
  },
  {
   "cell_type": "code",
   "execution_count": 12,
   "id": "6bc63dbc",
   "metadata": {
    "execution": {
     "iopub.execute_input": "2023-03-12T23:47:50.364605Z",
     "iopub.status.busy": "2023-03-12T23:47:50.364185Z",
     "iopub.status.idle": "2023-03-12T23:47:50.377327Z",
     "shell.execute_reply": "2023-03-12T23:47:50.376213Z"
    },
    "papermill": {
     "duration": 0.035726,
     "end_time": "2023-03-12T23:47:50.379651",
     "exception": false,
     "start_time": "2023-03-12T23:47:50.343925",
     "status": "completed"
    },
    "tags": []
   },
   "outputs": [],
   "source": [
    "# Compute gradients\n",
    "loss.backward()"
   ]
  },
  {
   "cell_type": "markdown",
   "id": "76edfb90",
   "metadata": {
    "papermill": {
     "duration": 0.017503,
     "end_time": "2023-03-12T23:47:50.415294",
     "exception": false,
     "start_time": "2023-03-12T23:47:50.397791",
     "status": "completed"
    },
    "tags": []
   },
   "source": [
    "The gradients are stored in the `.grad` property of the respective tensors. Note that the derivative of the loss w.r.t. the weights matrix is itself a matrix with the same dimensions."
   ]
  },
  {
   "cell_type": "code",
   "execution_count": 13,
   "id": "08748939",
   "metadata": {
    "execution": {
     "iopub.execute_input": "2023-03-12T23:47:50.452440Z",
     "iopub.status.busy": "2023-03-12T23:47:50.452056Z",
     "iopub.status.idle": "2023-03-12T23:47:50.459031Z",
     "shell.execute_reply": "2023-03-12T23:47:50.457999Z"
    },
    "papermill": {
     "duration": 0.0278,
     "end_time": "2023-03-12T23:47:50.460922",
     "exception": false,
     "start_time": "2023-03-12T23:47:50.433122",
     "status": "completed"
    },
    "tags": []
   },
   "outputs": [
    {
     "name": "stdout",
     "output_type": "stream",
     "text": [
      "tensor([[ 0.6433, -0.6972,  0.4105],\n",
      "        [ 0.0571, -1.1121,  0.0756]], requires_grad=True)\n",
      "tensor([[ -4675.1748,  -6705.0015,  -3755.0320],\n",
      "        [-14771.2949, -17327.2969, -10383.9209]])\n"
     ]
    }
   ],
   "source": [
    "# Gradients for weights\n",
    "print(w)\n",
    "print(w.grad)"
   ]
  },
  {
   "cell_type": "markdown",
   "id": "959bb5b1",
   "metadata": {
    "papermill": {
     "duration": 0.017359,
     "end_time": "2023-03-12T23:47:50.496315",
     "exception": false,
     "start_time": "2023-03-12T23:47:50.478956",
     "status": "completed"
    },
    "tags": []
   },
   "source": [
    "## Adjust weights and biases to reduce the loss\n",
    "\n",
    "The loss is a [quadratic function](https://en.wikipedia.org/wiki/Quadratic_function) of our weights and biases, and our objective is to find the set of weights where the loss is the lowest. If we plot a graph of the loss w.r.t any individual weight or bias element, it will look like the figure shown below. An important insight from calculus is that the gradient indicates the rate of change of the loss, i.e., the loss function's [slope](https://en.wikipedia.org/wiki/Slope) w.r.t. the weights and biases.\n",
    "\n",
    "If a gradient element is **positive**:\n",
    "\n",
    "* **increasing** the weight element's value slightly will **increase** the loss\n",
    "* **decreasing** the weight element's value slightly will **decrease** the loss\n",
    "\n",
    "![postive-gradient](https://i.imgur.com/WLzJ4xP.png)\n",
    "\n",
    "If a gradient element is **negative**:\n",
    "\n",
    "* **increasing** the weight element's value slightly will **decrease** the loss\n",
    "* **decreasing** the weight element's value slightly will **increase** the loss\n",
    "\n",
    "![negative=gradient](https://i.imgur.com/dvG2fxU.png)\n",
    "\n",
    "The increase or decrease in the loss by changing a weight element is proportional to the gradient of the loss w.r.t. that element. This observation forms the basis of _the gradient descent_ optimization algorithm that we'll use to improve our model (by _descending_ along the _gradient_).\n",
    "\n",
    "We can subtract from each weight element a small quantity proportional to the derivative of the loss w.r.t. that element to reduce the loss slightly."
   ]
  },
  {
   "cell_type": "code",
   "execution_count": 14,
   "id": "54bca4b7",
   "metadata": {
    "execution": {
     "iopub.execute_input": "2023-03-12T23:47:50.533076Z",
     "iopub.status.busy": "2023-03-12T23:47:50.532702Z",
     "iopub.status.idle": "2023-03-12T23:47:50.539733Z",
     "shell.execute_reply": "2023-03-12T23:47:50.539033Z"
    },
    "papermill": {
     "duration": 0.027496,
     "end_time": "2023-03-12T23:47:50.541330",
     "exception": false,
     "start_time": "2023-03-12T23:47:50.513834",
     "status": "completed"
    },
    "tags": []
   },
   "outputs": [
    {
     "data": {
      "text/plain": [
       "tensor([[ -4675.1748,  -6705.0015,  -3755.0320],\n",
       "        [-14771.2949, -17327.2969, -10383.9209]])"
      ]
     },
     "execution_count": 14,
     "metadata": {},
     "output_type": "execute_result"
    }
   ],
   "source": [
    "w\n",
    "w.grad"
   ]
  },
  {
   "cell_type": "code",
   "execution_count": 15,
   "id": "76ee8730",
   "metadata": {
    "execution": {
     "iopub.execute_input": "2023-03-12T23:47:50.579649Z",
     "iopub.status.busy": "2023-03-12T23:47:50.578560Z",
     "iopub.status.idle": "2023-03-12T23:47:50.584625Z",
     "shell.execute_reply": "2023-03-12T23:47:50.583927Z"
    },
    "papermill": {
     "duration": 0.026823,
     "end_time": "2023-03-12T23:47:50.586227",
     "exception": false,
     "start_time": "2023-03-12T23:47:50.559404",
     "status": "completed"
    },
    "tags": []
   },
   "outputs": [],
   "source": [
    "with torch.no_grad():\n",
    "    w -= w.grad * 1e-5\n",
    "    b -= b.grad * 1e-5"
   ]
  },
  {
   "cell_type": "markdown",
   "id": "4d37f3bc",
   "metadata": {
    "papermill": {
     "duration": 0.017395,
     "end_time": "2023-03-12T23:47:50.621437",
     "exception": false,
     "start_time": "2023-03-12T23:47:50.604042",
     "status": "completed"
    },
    "tags": []
   },
   "source": [
    "We multiply the gradients with a very small number (`10^-5` in this case) to ensure that we don't modify the weights by a very large amount. We want to take a small step in the downhill direction of the gradient, not a giant leap. This number is called the *learning rate* of the algorithm. \n",
    "\n",
    "We use `torch.no_grad` to indicate to PyTorch that we shouldn't track, calculate, or modify gradients while updating the weights and biases."
   ]
  },
  {
   "cell_type": "code",
   "execution_count": 16,
   "id": "30dd6761",
   "metadata": {
    "execution": {
     "iopub.execute_input": "2023-03-12T23:47:50.658961Z",
     "iopub.status.busy": "2023-03-12T23:47:50.658311Z",
     "iopub.status.idle": "2023-03-12T23:47:50.665549Z",
     "shell.execute_reply": "2023-03-12T23:47:50.664326Z"
    },
    "papermill": {
     "duration": 0.029225,
     "end_time": "2023-03-12T23:47:50.668311",
     "exception": false,
     "start_time": "2023-03-12T23:47:50.639086",
     "status": "completed"
    },
    "tags": []
   },
   "outputs": [
    {
     "name": "stdout",
     "output_type": "stream",
     "text": [
      "tensor(21513.5508, grad_fn=<DivBackward0>)\n"
     ]
    }
   ],
   "source": [
    "# Let's verify that the loss is actually lower\n",
    "loss = mse(preds, targets)\n",
    "print(loss)"
   ]
  },
  {
   "cell_type": "markdown",
   "id": "f31bb3fe",
   "metadata": {
    "papermill": {
     "duration": 0.017974,
     "end_time": "2023-03-12T23:47:50.705400",
     "exception": false,
     "start_time": "2023-03-12T23:47:50.687426",
     "status": "completed"
    },
    "tags": []
   },
   "source": [
    "Before we proceed, we reset the gradients to zero by invoking the `.zero_()` method. We need to do this because PyTorch accumulates gradients. Otherwise, the next time we invoke `.backward` on the loss, the new gradient values are added to the existing gradients, which may lead to unexpected results."
   ]
  },
  {
   "cell_type": "code",
   "execution_count": 17,
   "id": "bd60fa8c",
   "metadata": {
    "execution": {
     "iopub.execute_input": "2023-03-12T23:47:50.744128Z",
     "iopub.status.busy": "2023-03-12T23:47:50.743176Z",
     "iopub.status.idle": "2023-03-12T23:47:50.751884Z",
     "shell.execute_reply": "2023-03-12T23:47:50.750591Z"
    },
    "papermill": {
     "duration": 0.030499,
     "end_time": "2023-03-12T23:47:50.754135",
     "exception": false,
     "start_time": "2023-03-12T23:47:50.723636",
     "status": "completed"
    },
    "tags": []
   },
   "outputs": [
    {
     "name": "stdout",
     "output_type": "stream",
     "text": [
      "tensor([[0., 0., 0.],\n",
      "        [0., 0., 0.]])\n",
      "tensor([0., 0.])\n"
     ]
    }
   ],
   "source": [
    "w.grad.zero_()\n",
    "b.grad.zero_()\n",
    "print(w.grad)\n",
    "print(b.grad)"
   ]
  },
  {
   "cell_type": "markdown",
   "id": "adaba95f",
   "metadata": {
    "papermill": {
     "duration": 0.018468,
     "end_time": "2023-03-12T23:47:50.792481",
     "exception": false,
     "start_time": "2023-03-12T23:47:50.774013",
     "status": "completed"
    },
    "tags": []
   },
   "source": [
    "## Train the model using gradient descent\n",
    "\n",
    "As seen above, we reduce the loss and improve our model using the gradient descent optimization algorithm. Thus, we can _train_ the model using the following steps:\n",
    "\n",
    "1. Generate predictions\n",
    "\n",
    "2. Calculate the loss\n",
    "\n",
    "3. Compute gradients w.r.t the weights and biases\n",
    "\n",
    "4. Adjust the weights by subtracting a small quantity proportional to the gradient\n",
    "\n",
    "5. Reset the gradients to zero\n",
    "\n",
    "Let's implement the above step by step."
   ]
  },
  {
   "cell_type": "code",
   "execution_count": 18,
   "id": "98f7db38",
   "metadata": {
    "execution": {
     "iopub.execute_input": "2023-03-12T23:47:50.831339Z",
     "iopub.status.busy": "2023-03-12T23:47:50.831015Z",
     "iopub.status.idle": "2023-03-12T23:47:50.838389Z",
     "shell.execute_reply": "2023-03-12T23:47:50.836786Z"
    },
    "papermill": {
     "duration": 0.029207,
     "end_time": "2023-03-12T23:47:50.840411",
     "exception": false,
     "start_time": "2023-03-12T23:47:50.811204",
     "status": "completed"
    },
    "tags": []
   },
   "outputs": [
    {
     "name": "stdout",
     "output_type": "stream",
     "text": [
      "tensor([[ 27.2358, -40.7785],\n",
      "        [ 35.8315, -53.0382],\n",
      "        [  1.3944, -98.1183],\n",
      "        [ 59.6836, -13.3850],\n",
      "        [ 18.2971, -63.9775]], grad_fn=<AddBackward0>)\n"
     ]
    }
   ],
   "source": [
    "# Generate predictions\n",
    "preds = model(inputs)\n",
    "print(preds)"
   ]
  },
  {
   "cell_type": "code",
   "execution_count": 19,
   "id": "73bb06b7",
   "metadata": {
    "execution": {
     "iopub.execute_input": "2023-03-12T23:47:50.878946Z",
     "iopub.status.busy": "2023-03-12T23:47:50.878597Z",
     "iopub.status.idle": "2023-03-12T23:47:50.883899Z",
     "shell.execute_reply": "2023-03-12T23:47:50.883024Z"
    },
    "papermill": {
     "duration": 0.028129,
     "end_time": "2023-03-12T23:47:50.887075",
     "exception": false,
     "start_time": "2023-03-12T23:47:50.858946",
     "status": "completed"
    },
    "tags": []
   },
   "outputs": [
    {
     "name": "stdout",
     "output_type": "stream",
     "text": [
      "tensor(15072.8027, grad_fn=<DivBackward0>)\n"
     ]
    }
   ],
   "source": [
    "# Calculate the loss\n",
    "loss = mse(preds, targets)\n",
    "print(loss)"
   ]
  },
  {
   "cell_type": "code",
   "execution_count": 20,
   "id": "dd045747",
   "metadata": {
    "execution": {
     "iopub.execute_input": "2023-03-12T23:47:50.929014Z",
     "iopub.status.busy": "2023-03-12T23:47:50.928214Z",
     "iopub.status.idle": "2023-03-12T23:47:50.935369Z",
     "shell.execute_reply": "2023-03-12T23:47:50.934154Z"
    },
    "papermill": {
     "duration": 0.030403,
     "end_time": "2023-03-12T23:47:50.937686",
     "exception": false,
     "start_time": "2023-03-12T23:47:50.907283",
     "status": "completed"
    },
    "tags": []
   },
   "outputs": [
    {
     "name": "stdout",
     "output_type": "stream",
     "text": [
      "tensor([[ -3688.5171,  -5634.4526,  -3096.7358],\n",
      "        [-11995.2656, -14335.9551,  -8539.8906]])\n",
      "tensor([ -47.7115, -145.8595])\n"
     ]
    }
   ],
   "source": [
    "# Compute gradients\n",
    "loss.backward()\n",
    "print(w.grad)\n",
    "print(b.grad)"
   ]
  },
  {
   "cell_type": "markdown",
   "id": "8e848e93",
   "metadata": {
    "papermill": {
     "duration": 0.018,
     "end_time": "2023-03-12T23:47:50.974937",
     "exception": false,
     "start_time": "2023-03-12T23:47:50.956937",
     "status": "completed"
    },
    "tags": []
   },
   "source": [
    "Let's update the weights and biases using the gradients computed above."
   ]
  },
  {
   "cell_type": "code",
   "execution_count": 21,
   "id": "f11d3940",
   "metadata": {
    "execution": {
     "iopub.execute_input": "2023-03-12T23:47:51.013328Z",
     "iopub.status.busy": "2023-03-12T23:47:51.012979Z",
     "iopub.status.idle": "2023-03-12T23:47:51.017704Z",
     "shell.execute_reply": "2023-03-12T23:47:51.016786Z"
    },
    "papermill": {
     "duration": 0.026195,
     "end_time": "2023-03-12T23:47:51.019422",
     "exception": false,
     "start_time": "2023-03-12T23:47:50.993227",
     "status": "completed"
    },
    "tags": []
   },
   "outputs": [],
   "source": [
    "# Adjust weights & reset gradients\n",
    "with torch.no_grad():\n",
    "    w -= w.grad * 1e-5\n",
    "    b -= b.grad * 1e-5\n",
    "    w.grad.zero_()\n",
    "    b.grad.zero_()"
   ]
  },
  {
   "cell_type": "markdown",
   "id": "657a8f3a",
   "metadata": {
    "papermill": {
     "duration": 0.019322,
     "end_time": "2023-03-12T23:47:51.058049",
     "exception": false,
     "start_time": "2023-03-12T23:47:51.038727",
     "status": "completed"
    },
    "tags": []
   },
   "source": [
    "Let's take a look at the new weights and biases."
   ]
  },
  {
   "cell_type": "code",
   "execution_count": 22,
   "id": "23fb9507",
   "metadata": {
    "execution": {
     "iopub.execute_input": "2023-03-12T23:47:51.098260Z",
     "iopub.status.busy": "2023-03-12T23:47:51.097366Z",
     "iopub.status.idle": "2023-03-12T23:47:51.103509Z",
     "shell.execute_reply": "2023-03-12T23:47:51.102585Z"
    },
    "papermill": {
     "duration": 0.028058,
     "end_time": "2023-03-12T23:47:51.105371",
     "exception": false,
     "start_time": "2023-03-12T23:47:51.077313",
     "status": "completed"
    },
    "tags": []
   },
   "outputs": [
    {
     "name": "stdout",
     "output_type": "stream",
     "text": [
      "tensor([[ 0.7269, -0.5738,  0.4790],\n",
      "        [ 0.3248, -0.7954,  0.2648]], requires_grad=True)\n",
      "tensor([-0.1801, -0.5450], requires_grad=True)\n"
     ]
    }
   ],
   "source": [
    "print(w)\n",
    "print(b)"
   ]
  },
  {
   "cell_type": "markdown",
   "id": "ab1f87c0",
   "metadata": {
    "papermill": {
     "duration": 0.017893,
     "end_time": "2023-03-12T23:47:51.141842",
     "exception": false,
     "start_time": "2023-03-12T23:47:51.123949",
     "status": "completed"
    },
    "tags": []
   },
   "source": [
    "With the new weights and biases, the model should have a lower loss."
   ]
  },
  {
   "cell_type": "code",
   "execution_count": 23,
   "id": "8a756ec6",
   "metadata": {
    "execution": {
     "iopub.execute_input": "2023-03-12T23:47:51.180140Z",
     "iopub.status.busy": "2023-03-12T23:47:51.179809Z",
     "iopub.status.idle": "2023-03-12T23:47:51.184632Z",
     "shell.execute_reply": "2023-03-12T23:47:51.183969Z"
    },
    "papermill": {
     "duration": 0.026251,
     "end_time": "2023-03-12T23:47:51.186507",
     "exception": false,
     "start_time": "2023-03-12T23:47:51.160256",
     "status": "completed"
    },
    "tags": []
   },
   "outputs": [
    {
     "name": "stdout",
     "output_type": "stream",
     "text": [
      "tensor(10725.2197, grad_fn=<DivBackward0>)\n"
     ]
    }
   ],
   "source": [
    "# Calculate loss\n",
    "preds = model(inputs)\n",
    "loss = mse(preds, targets)\n",
    "print(loss)"
   ]
  },
  {
   "cell_type": "markdown",
   "id": "4f1e0f7c",
   "metadata": {
    "papermill": {
     "duration": 0.017669,
     "end_time": "2023-03-12T23:47:51.222342",
     "exception": false,
     "start_time": "2023-03-12T23:47:51.204673",
     "status": "completed"
    },
    "tags": []
   },
   "source": [
    "We have already achieved a significant reduction in the loss merely by adjusting the weights and biases slightly using gradient descent."
   ]
  },
  {
   "cell_type": "markdown",
   "id": "c0586971",
   "metadata": {
    "papermill": {
     "duration": 0.017907,
     "end_time": "2023-03-12T23:47:51.258503",
     "exception": false,
     "start_time": "2023-03-12T23:47:51.240596",
     "status": "completed"
    },
    "tags": []
   },
   "source": [
    "## Train for multiple epochs\n",
    "\n",
    "To reduce the loss further, we can repeat the process of adjusting the weights and biases using the gradients multiple times. Each iteration is called an _epoch_. Let's train the model for 100 epochs."
   ]
  },
  {
   "cell_type": "code",
   "execution_count": 24,
   "id": "e7525d01",
   "metadata": {
    "execution": {
     "iopub.execute_input": "2023-03-12T23:47:51.299011Z",
     "iopub.status.busy": "2023-03-12T23:47:51.298644Z",
     "iopub.status.idle": "2023-03-12T23:47:51.318631Z",
     "shell.execute_reply": "2023-03-12T23:47:51.317801Z"
    },
    "papermill": {
     "duration": 0.042681,
     "end_time": "2023-03-12T23:47:51.320918",
     "exception": false,
     "start_time": "2023-03-12T23:47:51.278237",
     "status": "completed"
    },
    "tags": []
   },
   "outputs": [],
   "source": [
    "# Train for 100 epochs\n",
    "for i in range(100):\n",
    "    preds = model(inputs)\n",
    "    loss = mse(preds, targets)\n",
    "    loss.backward()\n",
    "    with torch.no_grad():\n",
    "        w -= w.grad * 1e-5\n",
    "        b -= b.grad * 1e-5\n",
    "        w.grad.zero_()\n",
    "        b.grad.zero_()"
   ]
  },
  {
   "cell_type": "markdown",
   "id": "fd9c8202",
   "metadata": {
    "papermill": {
     "duration": 0.018797,
     "end_time": "2023-03-12T23:47:51.359748",
     "exception": false,
     "start_time": "2023-03-12T23:47:51.340951",
     "status": "completed"
    },
    "tags": []
   },
   "source": [
    "Once again, let's verify that the loss is now lower:"
   ]
  },
  {
   "cell_type": "code",
   "execution_count": 25,
   "id": "e25992f1",
   "metadata": {
    "execution": {
     "iopub.execute_input": "2023-03-12T23:47:51.399675Z",
     "iopub.status.busy": "2023-03-12T23:47:51.399041Z",
     "iopub.status.idle": "2023-03-12T23:47:51.404553Z",
     "shell.execute_reply": "2023-03-12T23:47:51.403564Z"
    },
    "papermill": {
     "duration": 0.026905,
     "end_time": "2023-03-12T23:47:51.406360",
     "exception": false,
     "start_time": "2023-03-12T23:47:51.379455",
     "status": "completed"
    },
    "tags": []
   },
   "outputs": [
    {
     "name": "stdout",
     "output_type": "stream",
     "text": [
      "tensor(503.0103, grad_fn=<DivBackward0>)\n"
     ]
    }
   ],
   "source": [
    "# Calculate loss\n",
    "preds = model(inputs)\n",
    "loss = mse(preds, targets)\n",
    "print(loss)"
   ]
  },
  {
   "cell_type": "markdown",
   "id": "4d83c821",
   "metadata": {
    "papermill": {
     "duration": 0.020497,
     "end_time": "2023-03-12T23:47:51.445560",
     "exception": false,
     "start_time": "2023-03-12T23:47:51.425063",
     "status": "completed"
    },
    "tags": []
   },
   "source": [
    "The loss is now much lower than its initial value. Let's look at the model's predictions and compare them with the targets."
   ]
  },
  {
   "cell_type": "code",
   "execution_count": 26,
   "id": "cea96364",
   "metadata": {
    "execution": {
     "iopub.execute_input": "2023-03-12T23:47:51.487012Z",
     "iopub.status.busy": "2023-03-12T23:47:51.486675Z",
     "iopub.status.idle": "2023-03-12T23:47:51.493176Z",
     "shell.execute_reply": "2023-03-12T23:47:51.491676Z"
    },
    "papermill": {
     "duration": 0.030228,
     "end_time": "2023-03-12T23:47:51.495734",
     "exception": false,
     "start_time": "2023-03-12T23:47:51.465506",
     "status": "completed"
    },
    "tags": []
   },
   "outputs": [
    {
     "data": {
      "text/plain": [
       "tensor([[ 64.5619,  76.8345],\n",
       "        [ 88.4686, 104.7835],\n",
       "        [ 92.5601, 113.1112],\n",
       "        [ 64.3769,  75.4390],\n",
       "        [ 87.5122, 103.7642]], grad_fn=<AddBackward0>)"
      ]
     },
     "execution_count": 26,
     "metadata": {},
     "output_type": "execute_result"
    }
   ],
   "source": [
    "# Predictions\n",
    "preds"
   ]
  },
  {
   "cell_type": "code",
   "execution_count": 27,
   "id": "c39d72f2",
   "metadata": {
    "execution": {
     "iopub.execute_input": "2023-03-12T23:47:51.536424Z",
     "iopub.status.busy": "2023-03-12T23:47:51.536076Z",
     "iopub.status.idle": "2023-03-12T23:47:51.542984Z",
     "shell.execute_reply": "2023-03-12T23:47:51.541449Z"
    },
    "papermill": {
     "duration": 0.029578,
     "end_time": "2023-03-12T23:47:51.544930",
     "exception": false,
     "start_time": "2023-03-12T23:47:51.515352",
     "status": "completed"
    },
    "tags": []
   },
   "outputs": [
    {
     "data": {
      "text/plain": [
       "tensor([[ 56.,  70.],\n",
       "        [ 81., 101.],\n",
       "        [119., 133.],\n",
       "        [ 22.,  37.],\n",
       "        [103., 119.]])"
      ]
     },
     "execution_count": 27,
     "metadata": {},
     "output_type": "execute_result"
    }
   ],
   "source": [
    "# Targets\n",
    "targets"
   ]
  },
  {
   "cell_type": "markdown",
   "id": "b381a0d2",
   "metadata": {
    "papermill": {
     "duration": 0.01982,
     "end_time": "2023-03-12T23:47:51.584206",
     "exception": false,
     "start_time": "2023-03-12T23:47:51.564386",
     "status": "completed"
    },
    "tags": []
   },
   "source": [
    "The predictions are now quite close to the target variables. We can get even better results by training for a few more epochs. "
   ]
  },
  {
   "cell_type": "markdown",
   "id": "b84e51d0",
   "metadata": {
    "papermill": {
     "duration": 0.019006,
     "end_time": "2023-03-12T23:47:51.622780",
     "exception": false,
     "start_time": "2023-03-12T23:47:51.603774",
     "status": "completed"
    },
    "tags": []
   },
   "source": [
    "## Save and upload your notebook\n",
    "\n",
    "Whether you're running this Jupyter notebook online or on your computer, it's essential to save your work from time to time. You can continue working on a saved notebook later or share it with friends and colleagues to let them execute your code. [Jovian](https://jovian.ai/platform-features) offers an easy way of saving and sharing your Jupyter notebooks online.\n",
    "\n",
    "First, you need to install the Jovian python library if it isn't already installed."
   ]
  },
  {
   "cell_type": "code",
   "execution_count": 28,
   "id": "d33569cb",
   "metadata": {
    "execution": {
     "iopub.execute_input": "2023-03-12T23:47:51.663106Z",
     "iopub.status.busy": "2023-03-12T23:47:51.662746Z",
     "iopub.status.idle": "2023-03-12T23:48:02.913931Z",
     "shell.execute_reply": "2023-03-12T23:48:02.912167Z"
    },
    "papermill": {
     "duration": 11.274448,
     "end_time": "2023-03-12T23:48:02.916695",
     "exception": false,
     "start_time": "2023-03-12T23:47:51.642247",
     "status": "completed"
    },
    "tags": []
   },
   "outputs": [
    {
     "name": "stdout",
     "output_type": "stream",
     "text": [
      "\u001b[33mWARNING: Running pip as the 'root' user can result in broken permissions and conflicting behaviour with the system package manager. It is recommended to use a virtual environment instead: https://pip.pypa.io/warnings/venv\u001b[0m\u001b[33m\r\n",
      "\u001b[0m"
     ]
    }
   ],
   "source": [
    "!pip install jovian --upgrade -q"
   ]
  },
  {
   "cell_type": "code",
   "execution_count": 29,
   "id": "cb3191a6",
   "metadata": {
    "execution": {
     "iopub.execute_input": "2023-03-12T23:48:02.960136Z",
     "iopub.status.busy": "2023-03-12T23:48:02.959759Z",
     "iopub.status.idle": "2023-03-12T23:48:03.247581Z",
     "shell.execute_reply": "2023-03-12T23:48:03.246600Z"
    },
    "papermill": {
     "duration": 0.312512,
     "end_time": "2023-03-12T23:48:03.249672",
     "exception": false,
     "start_time": "2023-03-12T23:48:02.937160",
     "status": "completed"
    },
    "tags": []
   },
   "outputs": [
    {
     "data": {
      "application/javascript": [
       "if (window.IPython && IPython.notebook.kernel) IPython.notebook.kernel.execute('jovian.utils.jupyter.get_notebook_name_saved = lambda: \"' + IPython.notebook.notebook_name + '\"')"
      ],
      "text/plain": [
       "<IPython.core.display.Javascript object>"
      ]
     },
     "metadata": {},
     "output_type": "display_data"
    }
   ],
   "source": [
    "import jovian"
   ]
  },
  {
   "cell_type": "code",
   "execution_count": 30,
   "id": "77227a7f",
   "metadata": {
    "execution": {
     "iopub.execute_input": "2023-03-12T23:48:03.289902Z",
     "iopub.status.busy": "2023-03-12T23:48:03.289486Z",
     "iopub.status.idle": "2023-03-12T23:48:04.339104Z",
     "shell.execute_reply": "2023-03-12T23:48:04.337603Z"
    },
    "papermill": {
     "duration": 1.072356,
     "end_time": "2023-03-12T23:48:04.341334",
     "exception": false,
     "start_time": "2023-03-12T23:48:03.268978",
     "status": "completed"
    },
    "tags": []
   },
   "outputs": [
    {
     "data": {
      "application/javascript": [
       "window.require && require([\"base/js/namespace\"],function(Jupyter){Jupyter.notebook.save_checkpoint()})"
      ],
      "text/plain": [
       "<IPython.core.display.Javascript object>"
      ]
     },
     "metadata": {},
     "output_type": "display_data"
    },
    {
     "data": {
      "application/javascript": [
       "if (window.IPython && IPython.notebook.kernel) IPython.notebook.kernel.execute('jovian.utils.jupyter.get_notebook_name_saved = lambda: \"' + IPython.notebook.notebook_name + '\"')"
      ],
      "text/plain": [
       "<IPython.core.display.Javascript object>"
      ]
     },
     "metadata": {},
     "output_type": "display_data"
    },
    {
     "name": "stderr",
     "output_type": "stream",
     "text": [
      "\u001b[31m[jovian] Error: Failed to read the Jupyter notebook. Please re-run this cell to try again. If the issue persists, provide the \"filename\" argument to \"jovian.commit\" e.g. \"jovian.commit(filename='my-notebook.ipynb')\"\u001b[0m\n"
     ]
    }
   ],
   "source": [
    "jovian.commit(project='02-linear-regression')"
   ]
  },
  {
   "cell_type": "markdown",
   "id": "30d9dd3b",
   "metadata": {
    "papermill": {
     "duration": 0.018355,
     "end_time": "2023-03-12T23:48:04.378998",
     "exception": false,
     "start_time": "2023-03-12T23:48:04.360643",
     "status": "completed"
    },
    "tags": []
   },
   "source": [
    "`jovian.commit` uploads the notebook to your Jovian account, captures the Python environment, and creates a shareable link for your notebook, as shown above. You can use this link to share your work and let anyone (including you) run your notebooks and reproduce your work.\n",
    "\n",
    "> The first time you run `jovian.commit`, you may be asked to provide an _API Key_ to securely upload the notebook to your Jovian account. You can get the API key from your [Jovian profile page](https://jovian.ai) after logging in / signing up.\n",
    "\n"
   ]
  },
  {
   "cell_type": "markdown",
   "id": "426daf08",
   "metadata": {
    "papermill": {
     "duration": 0.018361,
     "end_time": "2023-03-12T23:48:04.416006",
     "exception": false,
     "start_time": "2023-03-12T23:48:04.397645",
     "status": "completed"
    },
    "tags": []
   },
   "source": [
    "## Linear regression using PyTorch built-ins\n",
    "\n",
    "We've implemented linear regression & gradient descent model using some basic tensor operations. However, since this is a common pattern in deep learning, PyTorch provides several built-in functions and classes to make it easy to create and train models with just a few lines of code.\n",
    "\n",
    "Let's begin by importing the `torch.nn` package from PyTorch, which contains utility classes for building neural networks."
   ]
  },
  {
   "cell_type": "code",
   "execution_count": 31,
   "id": "bf1cfc5a",
   "metadata": {
    "execution": {
     "iopub.execute_input": "2023-03-12T23:48:04.455734Z",
     "iopub.status.busy": "2023-03-12T23:48:04.455025Z",
     "iopub.status.idle": "2023-03-12T23:48:04.459831Z",
     "shell.execute_reply": "2023-03-12T23:48:04.458825Z"
    },
    "papermill": {
     "duration": 0.026824,
     "end_time": "2023-03-12T23:48:04.461792",
     "exception": false,
     "start_time": "2023-03-12T23:48:04.434968",
     "status": "completed"
    },
    "tags": []
   },
   "outputs": [],
   "source": [
    "import torch.nn as nn"
   ]
  },
  {
   "cell_type": "markdown",
   "id": "64e975ee",
   "metadata": {
    "papermill": {
     "duration": 0.018488,
     "end_time": "2023-03-12T23:48:04.499232",
     "exception": false,
     "start_time": "2023-03-12T23:48:04.480744",
     "status": "completed"
    },
    "tags": []
   },
   "source": [
    "As before, we represent the inputs and targets and matrices."
   ]
  },
  {
   "cell_type": "code",
   "execution_count": 32,
   "id": "ad0efa74",
   "metadata": {
    "execution": {
     "iopub.execute_input": "2023-03-12T23:48:04.538991Z",
     "iopub.status.busy": "2023-03-12T23:48:04.538128Z",
     "iopub.status.idle": "2023-03-12T23:48:04.547121Z",
     "shell.execute_reply": "2023-03-12T23:48:04.546214Z"
    },
    "papermill": {
     "duration": 0.03112,
     "end_time": "2023-03-12T23:48:04.549018",
     "exception": false,
     "start_time": "2023-03-12T23:48:04.517898",
     "status": "completed"
    },
    "tags": []
   },
   "outputs": [],
   "source": [
    "# Input (temp, rainfall, humidity)\n",
    "inputs = np.array([[73, 67, 43], \n",
    "                   [91, 88, 64], \n",
    "                   [87, 134, 58], \n",
    "                   [102, 43, 37], \n",
    "                   [69, 96, 70], \n",
    "                   [74, 66, 43], \n",
    "                   [91, 87, 65], \n",
    "                   [88, 134, 59], \n",
    "                   [101, 44, 37], \n",
    "                   [68, 96, 71], \n",
    "                   [73, 66, 44], \n",
    "                   [92, 87, 64], \n",
    "                   [87, 135, 57], \n",
    "                   [103, 43, 36], \n",
    "                   [68, 97, 70]], \n",
    "                  dtype='float32')\n",
    "\n",
    "# Targets (apples, oranges)\n",
    "targets = np.array([[56, 70], \n",
    "                    [81, 101], \n",
    "                    [119, 133], \n",
    "                    [22, 37], \n",
    "                    [103, 119],\n",
    "                    [57, 69], \n",
    "                    [80, 102], \n",
    "                    [118, 132], \n",
    "                    [21, 38], \n",
    "                    [104, 118], \n",
    "                    [57, 69], \n",
    "                    [82, 100], \n",
    "                    [118, 134], \n",
    "                    [20, 38], \n",
    "                    [102, 120]], \n",
    "                   dtype='float32')\n",
    "\n",
    "inputs = torch.from_numpy(inputs)\n",
    "targets = torch.from_numpy(targets)"
   ]
  },
  {
   "cell_type": "code",
   "execution_count": 33,
   "id": "2372bdf6",
   "metadata": {
    "execution": {
     "iopub.execute_input": "2023-03-12T23:48:04.589102Z",
     "iopub.status.busy": "2023-03-12T23:48:04.588790Z",
     "iopub.status.idle": "2023-03-12T23:48:04.595879Z",
     "shell.execute_reply": "2023-03-12T23:48:04.594877Z"
    },
    "papermill": {
     "duration": 0.028988,
     "end_time": "2023-03-12T23:48:04.597671",
     "exception": false,
     "start_time": "2023-03-12T23:48:04.568683",
     "status": "completed"
    },
    "tags": []
   },
   "outputs": [
    {
     "data": {
      "text/plain": [
       "tensor([[ 73.,  67.,  43.],\n",
       "        [ 91.,  88.,  64.],\n",
       "        [ 87., 134.,  58.],\n",
       "        [102.,  43.,  37.],\n",
       "        [ 69.,  96.,  70.],\n",
       "        [ 74.,  66.,  43.],\n",
       "        [ 91.,  87.,  65.],\n",
       "        [ 88., 134.,  59.],\n",
       "        [101.,  44.,  37.],\n",
       "        [ 68.,  96.,  71.],\n",
       "        [ 73.,  66.,  44.],\n",
       "        [ 92.,  87.,  64.],\n",
       "        [ 87., 135.,  57.],\n",
       "        [103.,  43.,  36.],\n",
       "        [ 68.,  97.,  70.]])"
      ]
     },
     "execution_count": 33,
     "metadata": {},
     "output_type": "execute_result"
    }
   ],
   "source": [
    "inputs"
   ]
  },
  {
   "cell_type": "markdown",
   "id": "2f7fd64d",
   "metadata": {
    "papermill": {
     "duration": 0.01866,
     "end_time": "2023-03-12T23:48:04.635507",
     "exception": false,
     "start_time": "2023-03-12T23:48:04.616847",
     "status": "completed"
    },
    "tags": []
   },
   "source": [
    "We are using 15 training examples to illustrate how to work with large datasets in small batches. "
   ]
  },
  {
   "cell_type": "markdown",
   "id": "da112903",
   "metadata": {
    "papermill": {
     "duration": 0.018518,
     "end_time": "2023-03-12T23:48:04.672641",
     "exception": false,
     "start_time": "2023-03-12T23:48:04.654123",
     "status": "completed"
    },
    "tags": []
   },
   "source": [
    "## Dataset and DataLoader\n",
    "\n",
    "We'll create a `TensorDataset`, which allows access to rows from `inputs` and `targets` as tuples, and provides standard APIs for working with many different types of datasets in PyTorch."
   ]
  },
  {
   "cell_type": "code",
   "execution_count": 34,
   "id": "80b7bf4a",
   "metadata": {
    "execution": {
     "iopub.execute_input": "2023-03-12T23:48:04.716675Z",
     "iopub.status.busy": "2023-03-12T23:48:04.716297Z",
     "iopub.status.idle": "2023-03-12T23:48:04.721549Z",
     "shell.execute_reply": "2023-03-12T23:48:04.720289Z"
    },
    "papermill": {
     "duration": 0.028889,
     "end_time": "2023-03-12T23:48:04.723451",
     "exception": false,
     "start_time": "2023-03-12T23:48:04.694562",
     "status": "completed"
    },
    "tags": []
   },
   "outputs": [],
   "source": [
    "from torch.utils.data import TensorDataset"
   ]
  },
  {
   "cell_type": "code",
   "execution_count": 35,
   "id": "5ca3101a",
   "metadata": {
    "execution": {
     "iopub.execute_input": "2023-03-12T23:48:04.763780Z",
     "iopub.status.busy": "2023-03-12T23:48:04.763409Z",
     "iopub.status.idle": "2023-03-12T23:48:04.769347Z",
     "shell.execute_reply": "2023-03-12T23:48:04.768748Z"
    },
    "papermill": {
     "duration": 0.027983,
     "end_time": "2023-03-12T23:48:04.771330",
     "exception": false,
     "start_time": "2023-03-12T23:48:04.743347",
     "status": "completed"
    },
    "tags": []
   },
   "outputs": [
    {
     "data": {
      "text/plain": [
       "(tensor([[ 73.,  67.,  43.],\n",
       "         [ 91.,  88.,  64.],\n",
       "         [ 87., 134.,  58.]]),\n",
       " tensor([[ 56.,  70.],\n",
       "         [ 81., 101.],\n",
       "         [119., 133.]]))"
      ]
     },
     "execution_count": 35,
     "metadata": {},
     "output_type": "execute_result"
    }
   ],
   "source": [
    "# Define dataset\n",
    "train_ds = TensorDataset(inputs, targets)\n",
    "train_ds[0:3]"
   ]
  },
  {
   "cell_type": "markdown",
   "id": "f6b89bc9",
   "metadata": {
    "papermill": {
     "duration": 0.020284,
     "end_time": "2023-03-12T23:48:04.812606",
     "exception": false,
     "start_time": "2023-03-12T23:48:04.792322",
     "status": "completed"
    },
    "tags": []
   },
   "source": [
    "The `TensorDataset` allows us to access a small section of the training data using the array indexing notation (`[0:3]` in the above code). It returns a tuple with two elements. The first element contains the input variables for the selected rows, and the second contains the targets."
   ]
  },
  {
   "cell_type": "markdown",
   "id": "ee28fb82",
   "metadata": {
    "papermill": {
     "duration": 0.021234,
     "end_time": "2023-03-12T23:48:04.853867",
     "exception": false,
     "start_time": "2023-03-12T23:48:04.832633",
     "status": "completed"
    },
    "tags": []
   },
   "source": [
    "We'll also create a `DataLoader`, which can split the data into batches of a predefined size while training. It also provides other utilities like shuffling and random sampling of the data."
   ]
  },
  {
   "cell_type": "code",
   "execution_count": 36,
   "id": "ebc80e20",
   "metadata": {
    "execution": {
     "iopub.execute_input": "2023-03-12T23:48:04.902295Z",
     "iopub.status.busy": "2023-03-12T23:48:04.901637Z",
     "iopub.status.idle": "2023-03-12T23:48:04.905831Z",
     "shell.execute_reply": "2023-03-12T23:48:04.905034Z"
    },
    "papermill": {
     "duration": 0.028107,
     "end_time": "2023-03-12T23:48:04.907619",
     "exception": false,
     "start_time": "2023-03-12T23:48:04.879512",
     "status": "completed"
    },
    "tags": []
   },
   "outputs": [],
   "source": [
    "from torch.utils.data import DataLoader"
   ]
  },
  {
   "cell_type": "code",
   "execution_count": 37,
   "id": "7c5cdd41",
   "metadata": {
    "execution": {
     "iopub.execute_input": "2023-03-12T23:48:04.952204Z",
     "iopub.status.busy": "2023-03-12T23:48:04.951509Z",
     "iopub.status.idle": "2023-03-12T23:48:04.956319Z",
     "shell.execute_reply": "2023-03-12T23:48:04.955470Z"
    },
    "papermill": {
     "duration": 0.030665,
     "end_time": "2023-03-12T23:48:04.958296",
     "exception": false,
     "start_time": "2023-03-12T23:48:04.927631",
     "status": "completed"
    },
    "tags": []
   },
   "outputs": [],
   "source": [
    "# Define data loader\n",
    "batch_size = 5\n",
    "train_dl = DataLoader(train_ds, batch_size, shuffle=True)"
   ]
  },
  {
   "cell_type": "markdown",
   "id": "fae81a75",
   "metadata": {
    "papermill": {
     "duration": 0.020872,
     "end_time": "2023-03-12T23:48:04.999923",
     "exception": false,
     "start_time": "2023-03-12T23:48:04.979051",
     "status": "completed"
    },
    "tags": []
   },
   "source": [
    "We can use the data loader in a `for` loop. Let's look at an example."
   ]
  },
  {
   "cell_type": "code",
   "execution_count": 38,
   "id": "8b7bc39c",
   "metadata": {
    "execution": {
     "iopub.execute_input": "2023-03-12T23:48:05.045043Z",
     "iopub.status.busy": "2023-03-12T23:48:05.044352Z",
     "iopub.status.idle": "2023-03-12T23:48:05.055798Z",
     "shell.execute_reply": "2023-03-12T23:48:05.054927Z"
    },
    "papermill": {
     "duration": 0.03521,
     "end_time": "2023-03-12T23:48:05.057895",
     "exception": false,
     "start_time": "2023-03-12T23:48:05.022685",
     "status": "completed"
    },
    "tags": []
   },
   "outputs": [
    {
     "name": "stdout",
     "output_type": "stream",
     "text": [
      "tensor([[ 74.,  66.,  43.],\n",
      "        [ 68.,  96.,  71.],\n",
      "        [ 88., 134.,  59.],\n",
      "        [101.,  44.,  37.],\n",
      "        [ 87., 134.,  58.]])\n",
      "tensor([[ 57.,  69.],\n",
      "        [104., 118.],\n",
      "        [118., 132.],\n",
      "        [ 21.,  38.],\n",
      "        [119., 133.]])\n"
     ]
    }
   ],
   "source": [
    "for xb, yb in train_dl:\n",
    "    print(xb)\n",
    "    print(yb)\n",
    "    break"
   ]
  },
  {
   "cell_type": "markdown",
   "id": "3ebd4f4d",
   "metadata": {
    "papermill": {
     "duration": 0.020193,
     "end_time": "2023-03-12T23:48:05.099776",
     "exception": false,
     "start_time": "2023-03-12T23:48:05.079583",
     "status": "completed"
    },
    "tags": []
   },
   "source": [
    "In each iteration, the data loader returns one batch of data with the given batch size. If `shuffle` is set to `True`, it shuffles the training data before creating batches. Shuffling helps randomize the input to the optimization algorithm, leading to a faster reduction in the loss."
   ]
  },
  {
   "cell_type": "markdown",
   "id": "8806d11c",
   "metadata": {
    "papermill": {
     "duration": 0.023498,
     "end_time": "2023-03-12T23:48:05.146640",
     "exception": false,
     "start_time": "2023-03-12T23:48:05.123142",
     "status": "completed"
    },
    "tags": []
   },
   "source": [
    "## nn.Linear\n",
    "\n",
    "Instead of initializing the weights & biases manually, we can define the model using the `nn.Linear` class from PyTorch, which does it automatically."
   ]
  },
  {
   "cell_type": "code",
   "execution_count": 39,
   "id": "4dbc1127",
   "metadata": {
    "execution": {
     "iopub.execute_input": "2023-03-12T23:48:05.188592Z",
     "iopub.status.busy": "2023-03-12T23:48:05.187824Z",
     "iopub.status.idle": "2023-03-12T23:48:05.199373Z",
     "shell.execute_reply": "2023-03-12T23:48:05.197841Z"
    },
    "papermill": {
     "duration": 0.03428,
     "end_time": "2023-03-12T23:48:05.201151",
     "exception": false,
     "start_time": "2023-03-12T23:48:05.166871",
     "status": "completed"
    },
    "tags": []
   },
   "outputs": [
    {
     "name": "stdout",
     "output_type": "stream",
     "text": [
      "Parameter containing:\n",
      "tensor([[-0.1986, -0.2174,  0.1877],\n",
      "        [-0.4029, -0.2886, -0.4833]], requires_grad=True)\n",
      "Parameter containing:\n",
      "tensor([-0.4279,  0.5572], requires_grad=True)\n"
     ]
    }
   ],
   "source": [
    "# Define model\n",
    "model = nn.Linear(3, 2)\n",
    "print(model.weight)\n",
    "print(model.bias)"
   ]
  },
  {
   "cell_type": "markdown",
   "id": "3401b5e9",
   "metadata": {
    "papermill": {
     "duration": 0.020245,
     "end_time": "2023-03-12T23:48:05.241029",
     "exception": false,
     "start_time": "2023-03-12T23:48:05.220784",
     "status": "completed"
    },
    "tags": []
   },
   "source": [
    "PyTorch models also have a helpful `.parameters` method, which returns a list containing all the weights and bias matrices present in the model. For our linear regression model, we have one weight matrix and one bias matrix."
   ]
  },
  {
   "cell_type": "code",
   "execution_count": 40,
   "id": "64150632",
   "metadata": {
    "execution": {
     "iopub.execute_input": "2023-03-12T23:48:05.285286Z",
     "iopub.status.busy": "2023-03-12T23:48:05.283765Z",
     "iopub.status.idle": "2023-03-12T23:48:05.291559Z",
     "shell.execute_reply": "2023-03-12T23:48:05.290577Z"
    },
    "papermill": {
     "duration": 0.032377,
     "end_time": "2023-03-12T23:48:05.293405",
     "exception": false,
     "start_time": "2023-03-12T23:48:05.261028",
     "status": "completed"
    },
    "tags": []
   },
   "outputs": [
    {
     "data": {
      "text/plain": [
       "[Parameter containing:\n",
       " tensor([[-0.1986, -0.2174,  0.1877],\n",
       "         [-0.4029, -0.2886, -0.4833]], requires_grad=True),\n",
       " Parameter containing:\n",
       " tensor([-0.4279,  0.5572], requires_grad=True)]"
      ]
     },
     "execution_count": 40,
     "metadata": {},
     "output_type": "execute_result"
    }
   ],
   "source": [
    "# Parameters\n",
    "list(model.parameters())"
   ]
  },
  {
   "cell_type": "markdown",
   "id": "6437d3b7",
   "metadata": {
    "papermill": {
     "duration": 0.019139,
     "end_time": "2023-03-12T23:48:05.332992",
     "exception": false,
     "start_time": "2023-03-12T23:48:05.313853",
     "status": "completed"
    },
    "tags": []
   },
   "source": [
    "We can use the model to generate predictions in the same way as before."
   ]
  },
  {
   "cell_type": "code",
   "execution_count": 41,
   "id": "ce31690d",
   "metadata": {
    "execution": {
     "iopub.execute_input": "2023-03-12T23:48:05.373657Z",
     "iopub.status.busy": "2023-03-12T23:48:05.373002Z",
     "iopub.status.idle": "2023-03-12T23:48:05.384004Z",
     "shell.execute_reply": "2023-03-12T23:48:05.383318Z"
    },
    "papermill": {
     "duration": 0.033496,
     "end_time": "2023-03-12T23:48:05.385771",
     "exception": false,
     "start_time": "2023-03-12T23:48:05.352275",
     "status": "completed"
    },
    "tags": []
   },
   "outputs": [
    {
     "data": {
      "text/plain": [
       "tensor([[ -21.4183,  -68.9728],\n",
       "        [ -25.6161,  -92.4350],\n",
       "        [ -35.9510, -101.2012],\n",
       "        [ -23.0841,  -70.8292],\n",
       "        [ -21.8610,  -88.7805],\n",
       "        [ -21.3995,  -69.0871],\n",
       "        [ -25.2109,  -92.6296],\n",
       "        [ -35.9618, -102.0874],\n",
       "        [ -23.1030,  -70.7150],\n",
       "        [ -21.4747,  -88.8609],\n",
       "        [ -21.0132,  -69.1675],\n",
       "        [ -25.5972,  -92.5492],\n",
       "        [ -36.3562, -101.0066],\n",
       "        [ -23.4704,  -70.7488],\n",
       "        [ -21.8799,  -88.6663]], grad_fn=<AddmmBackward0>)"
      ]
     },
     "execution_count": 41,
     "metadata": {},
     "output_type": "execute_result"
    }
   ],
   "source": [
    "# Generate predictions\n",
    "preds = model(inputs)\n",
    "preds"
   ]
  },
  {
   "cell_type": "markdown",
   "id": "4a34d52f",
   "metadata": {
    "papermill": {
     "duration": 0.019886,
     "end_time": "2023-03-12T23:48:05.426606",
     "exception": false,
     "start_time": "2023-03-12T23:48:05.406720",
     "status": "completed"
    },
    "tags": []
   },
   "source": [
    "## Loss Function\n",
    "\n",
    "Instead of defining a loss function manually, we can use the built-in loss function `mse_loss`."
   ]
  },
  {
   "cell_type": "code",
   "execution_count": 42,
   "id": "5a409491",
   "metadata": {
    "execution": {
     "iopub.execute_input": "2023-03-12T23:48:05.471598Z",
     "iopub.status.busy": "2023-03-12T23:48:05.470979Z",
     "iopub.status.idle": "2023-03-12T23:48:05.476127Z",
     "shell.execute_reply": "2023-03-12T23:48:05.474576Z"
    },
    "papermill": {
     "duration": 0.031467,
     "end_time": "2023-03-12T23:48:05.478372",
     "exception": false,
     "start_time": "2023-03-12T23:48:05.446905",
     "status": "completed"
    },
    "tags": []
   },
   "outputs": [],
   "source": [
    "# Import nn.functional\n",
    "import torch.nn.functional as F"
   ]
  },
  {
   "cell_type": "markdown",
   "id": "6bd8661b",
   "metadata": {
    "papermill": {
     "duration": 0.02006,
     "end_time": "2023-03-12T23:48:05.518970",
     "exception": false,
     "start_time": "2023-03-12T23:48:05.498910",
     "status": "completed"
    },
    "tags": []
   },
   "source": [
    "The `nn.functional` package contains many useful loss functions and several other utilities. "
   ]
  },
  {
   "cell_type": "code",
   "execution_count": 43,
   "id": "a655bb2d",
   "metadata": {
    "execution": {
     "iopub.execute_input": "2023-03-12T23:48:05.562633Z",
     "iopub.status.busy": "2023-03-12T23:48:05.562197Z",
     "iopub.status.idle": "2023-03-12T23:48:05.566313Z",
     "shell.execute_reply": "2023-03-12T23:48:05.565370Z"
    },
    "papermill": {
     "duration": 0.028658,
     "end_time": "2023-03-12T23:48:05.568216",
     "exception": false,
     "start_time": "2023-03-12T23:48:05.539558",
     "status": "completed"
    },
    "tags": []
   },
   "outputs": [],
   "source": [
    "# Define loss function\n",
    "loss_fn = F.mse_loss"
   ]
  },
  {
   "cell_type": "markdown",
   "id": "5109ccef",
   "metadata": {
    "papermill": {
     "duration": 0.020138,
     "end_time": "2023-03-12T23:48:05.608729",
     "exception": false,
     "start_time": "2023-03-12T23:48:05.588591",
     "status": "completed"
    },
    "tags": []
   },
   "source": [
    "Let's compute the loss for the current predictions of our model."
   ]
  },
  {
   "cell_type": "code",
   "execution_count": 44,
   "id": "5ea27c02",
   "metadata": {
    "execution": {
     "iopub.execute_input": "2023-03-12T23:48:05.651370Z",
     "iopub.status.busy": "2023-03-12T23:48:05.651004Z",
     "iopub.status.idle": "2023-03-12T23:48:05.658946Z",
     "shell.execute_reply": "2023-03-12T23:48:05.657579Z"
    },
    "papermill": {
     "duration": 0.032406,
     "end_time": "2023-03-12T23:48:05.661663",
     "exception": false,
     "start_time": "2023-03-12T23:48:05.629257",
     "status": "completed"
    },
    "tags": []
   },
   "outputs": [
    {
     "name": "stdout",
     "output_type": "stream",
     "text": [
      "tensor(22527.5098, grad_fn=<MseLossBackward0>)\n"
     ]
    }
   ],
   "source": [
    "loss = loss_fn(model(inputs), targets)\n",
    "print(loss)"
   ]
  },
  {
   "cell_type": "markdown",
   "id": "0bdf0898",
   "metadata": {
    "papermill": {
     "duration": 0.019266,
     "end_time": "2023-03-12T23:48:05.700912",
     "exception": false,
     "start_time": "2023-03-12T23:48:05.681646",
     "status": "completed"
    },
    "tags": []
   },
   "source": [
    "## Optimizer\n",
    "\n",
    "Instead of manually manipulating the model's weights & biases using gradients, we can use the optimizer `optim.SGD`. SGD is short for \"stochastic gradient descent\". The term _stochastic_ indicates that samples are selected in random batches instead of as a single group."
   ]
  },
  {
   "cell_type": "code",
   "execution_count": 45,
   "id": "f63faf13",
   "metadata": {
    "execution": {
     "iopub.execute_input": "2023-03-12T23:48:05.742442Z",
     "iopub.status.busy": "2023-03-12T23:48:05.741350Z",
     "iopub.status.idle": "2023-03-12T23:48:05.746313Z",
     "shell.execute_reply": "2023-03-12T23:48:05.745268Z"
    },
    "papermill": {
     "duration": 0.027745,
     "end_time": "2023-03-12T23:48:05.748295",
     "exception": false,
     "start_time": "2023-03-12T23:48:05.720550",
     "status": "completed"
    },
    "tags": []
   },
   "outputs": [],
   "source": [
    "# Define optimizer\n",
    "opt = torch.optim.SGD(model.parameters(), lr=1e-5)"
   ]
  },
  {
   "cell_type": "markdown",
   "id": "20741656",
   "metadata": {
    "papermill": {
     "duration": 0.019495,
     "end_time": "2023-03-12T23:48:05.787729",
     "exception": false,
     "start_time": "2023-03-12T23:48:05.768234",
     "status": "completed"
    },
    "tags": []
   },
   "source": [
    "Note that `model.parameters()` is passed as an argument to `optim.SGD` so that the optimizer knows which matrices should be modified during the update step. Also, we can specify a learning rate that controls the amount by which the parameters are modified."
   ]
  },
  {
   "cell_type": "markdown",
   "id": "364ccc20",
   "metadata": {
    "papermill": {
     "duration": 0.019319,
     "end_time": "2023-03-12T23:48:05.826439",
     "exception": false,
     "start_time": "2023-03-12T23:48:05.807120",
     "status": "completed"
    },
    "tags": []
   },
   "source": [
    "## Train the model\n",
    "\n",
    "We are now ready to train the model. We'll follow the same process to implement gradient descent:\n",
    "\n",
    "1. Generate predictions\n",
    "\n",
    "2. Calculate the loss\n",
    "\n",
    "3. Compute gradients w.r.t the weights and biases\n",
    "\n",
    "4. Adjust the weights by subtracting a small quantity proportional to the gradient\n",
    "\n",
    "5. Reset the gradients to zero\n",
    "\n",
    "The only change is that we'll work batches of data instead of processing the entire training data in every iteration. Let's define a utility function `fit` that trains the model for a given number of epochs."
   ]
  },
  {
   "cell_type": "code",
   "execution_count": 46,
   "id": "9319a6a9",
   "metadata": {
    "execution": {
     "iopub.execute_input": "2023-03-12T23:48:05.867312Z",
     "iopub.status.busy": "2023-03-12T23:48:05.866953Z",
     "iopub.status.idle": "2023-03-12T23:48:05.873185Z",
     "shell.execute_reply": "2023-03-12T23:48:05.872416Z"
    },
    "papermill": {
     "duration": 0.02937,
     "end_time": "2023-03-12T23:48:05.875161",
     "exception": false,
     "start_time": "2023-03-12T23:48:05.845791",
     "status": "completed"
    },
    "tags": []
   },
   "outputs": [],
   "source": [
    "# Utility function to train the model\n",
    "def fit(num_epochs, model, loss_fn, opt, train_dl):\n",
    "    \n",
    "    # Repeat for given number of epochs\n",
    "    for epoch in range(num_epochs):\n",
    "        \n",
    "        # Train with batches of data\n",
    "        for xb,yb in train_dl:\n",
    "            \n",
    "            # 1. Generate predictions\n",
    "            pred = model(xb)\n",
    "            \n",
    "            # 2. Calculate loss\n",
    "            loss = loss_fn(pred, yb)\n",
    "            \n",
    "            # 3. Compute gradients\n",
    "            loss.backward()\n",
    "            \n",
    "            # 4. Update parameters using gradients\n",
    "            opt.step()\n",
    "            \n",
    "            # 5. Reset the gradients to zero\n",
    "            opt.zero_grad()\n",
    "        \n",
    "        # Print the progress\n",
    "        if (epoch+1) % 10 == 0:\n",
    "            print('Epoch [{}/{}], Loss: {:.4f}'.format(epoch+1, num_epochs, loss.item()))"
   ]
  },
  {
   "cell_type": "markdown",
   "id": "357ba80b",
   "metadata": {
    "papermill": {
     "duration": 0.020475,
     "end_time": "2023-03-12T23:48:05.918129",
     "exception": false,
     "start_time": "2023-03-12T23:48:05.897654",
     "status": "completed"
    },
    "tags": []
   },
   "source": [
    "Some things to note above:\n",
    "\n",
    "* We use the data loader defined earlier to get batches of data for every iteration.\n",
    "\n",
    "* Instead of updating parameters (weights and biases) manually, we use `opt.step` to perform the update and `opt.zero_grad` to reset the gradients to zero.\n",
    "\n",
    "* We've also added a log statement that prints the loss from the last batch of data for every 10th epoch to track training progress. `loss.item` returns the actual value stored in the loss tensor.\n",
    "\n",
    "Let's train the model for 100 epochs."
   ]
  },
  {
   "cell_type": "code",
   "execution_count": 47,
   "id": "2b3f00e1",
   "metadata": {
    "execution": {
     "iopub.execute_input": "2023-03-12T23:48:05.961067Z",
     "iopub.status.busy": "2023-03-12T23:48:05.960702Z",
     "iopub.status.idle": "2023-03-12T23:48:06.059530Z",
     "shell.execute_reply": "2023-03-12T23:48:06.058543Z"
    },
    "papermill": {
     "duration": 0.122788,
     "end_time": "2023-03-12T23:48:06.061809",
     "exception": false,
     "start_time": "2023-03-12T23:48:05.939021",
     "status": "completed"
    },
    "tags": []
   },
   "outputs": [
    {
     "name": "stdout",
     "output_type": "stream",
     "text": [
      "Epoch [10/100], Loss: 128.8544\n",
      "Epoch [20/100], Loss: 354.6702\n",
      "Epoch [30/100], Loss: 260.3384\n",
      "Epoch [40/100], Loss: 189.1411\n",
      "Epoch [50/100], Loss: 66.0705\n",
      "Epoch [60/100], Loss: 101.5416\n",
      "Epoch [70/100], Loss: 38.7723\n",
      "Epoch [80/100], Loss: 40.2791\n",
      "Epoch [90/100], Loss: 53.7836\n",
      "Epoch [100/100], Loss: 16.0867\n"
     ]
    }
   ],
   "source": [
    "fit(100, model, loss_fn, opt, train_dl)"
   ]
  },
  {
   "cell_type": "markdown",
   "id": "61733941",
   "metadata": {
    "papermill": {
     "duration": 0.020002,
     "end_time": "2023-03-12T23:48:06.102322",
     "exception": false,
     "start_time": "2023-03-12T23:48:06.082320",
     "status": "completed"
    },
    "tags": []
   },
   "source": [
    "Let's generate predictions using our model and verify that they're close to our targets."
   ]
  },
  {
   "cell_type": "code",
   "execution_count": 48,
   "id": "9f4f8b3e",
   "metadata": {
    "execution": {
     "iopub.execute_input": "2023-03-12T23:48:06.145980Z",
     "iopub.status.busy": "2023-03-12T23:48:06.144897Z",
     "iopub.status.idle": "2023-03-12T23:48:06.152271Z",
     "shell.execute_reply": "2023-03-12T23:48:06.151351Z"
    },
    "papermill": {
     "duration": 0.031811,
     "end_time": "2023-03-12T23:48:06.154486",
     "exception": false,
     "start_time": "2023-03-12T23:48:06.122675",
     "status": "completed"
    },
    "tags": []
   },
   "outputs": [
    {
     "data": {
      "text/plain": [
       "tensor([[ 57.9278,  71.8064],\n",
       "        [ 82.1797,  96.9531],\n",
       "        [116.1912, 138.8858],\n",
       "        [ 26.9348,  44.7892],\n",
       "        [ 98.4700, 108.2548],\n",
       "        [ 56.8477,  70.7781],\n",
       "        [ 81.9928,  96.3280],\n",
       "        [116.5115, 139.1252],\n",
       "        [ 28.0148,  45.8175],\n",
       "        [ 99.3632, 108.6581],\n",
       "        [ 57.7409,  71.1814],\n",
       "        [ 81.0997,  95.9248],\n",
       "        [116.3781, 139.5108],\n",
       "        [ 26.0416,  44.3859],\n",
       "        [ 99.5501, 109.2831]], grad_fn=<AddmmBackward0>)"
      ]
     },
     "execution_count": 48,
     "metadata": {},
     "output_type": "execute_result"
    }
   ],
   "source": [
    "# Generate predictions\n",
    "preds = model(inputs)\n",
    "preds"
   ]
  },
  {
   "cell_type": "code",
   "execution_count": 49,
   "id": "db425ac9",
   "metadata": {
    "execution": {
     "iopub.execute_input": "2023-03-12T23:48:06.196300Z",
     "iopub.status.busy": "2023-03-12T23:48:06.195962Z",
     "iopub.status.idle": "2023-03-12T23:48:06.202631Z",
     "shell.execute_reply": "2023-03-12T23:48:06.201897Z"
    },
    "papermill": {
     "duration": 0.029685,
     "end_time": "2023-03-12T23:48:06.204334",
     "exception": false,
     "start_time": "2023-03-12T23:48:06.174649",
     "status": "completed"
    },
    "tags": []
   },
   "outputs": [
    {
     "data": {
      "text/plain": [
       "tensor([[ 56.,  70.],\n",
       "        [ 81., 101.],\n",
       "        [119., 133.],\n",
       "        [ 22.,  37.],\n",
       "        [103., 119.],\n",
       "        [ 57.,  69.],\n",
       "        [ 80., 102.],\n",
       "        [118., 132.],\n",
       "        [ 21.,  38.],\n",
       "        [104., 118.],\n",
       "        [ 57.,  69.],\n",
       "        [ 82., 100.],\n",
       "        [118., 134.],\n",
       "        [ 20.,  38.],\n",
       "        [102., 120.]])"
      ]
     },
     "execution_count": 49,
     "metadata": {},
     "output_type": "execute_result"
    }
   ],
   "source": [
    "# Compare with targets\n",
    "targets"
   ]
  },
  {
   "cell_type": "markdown",
   "id": "bd36e70f",
   "metadata": {
    "papermill": {
     "duration": 0.020898,
     "end_time": "2023-03-12T23:48:06.246116",
     "exception": false,
     "start_time": "2023-03-12T23:48:06.225218",
     "status": "completed"
    },
    "tags": []
   },
   "source": [
    "Indeed, the predictions are quite close to our targets. We have a trained a reasonably good model to predict crop yields for apples and oranges by looking at the average temperature, rainfall, and humidity in a region. We can use it to make predictions of crop yields for new regions by passing a batch containing a single row of input."
   ]
  },
  {
   "cell_type": "code",
   "execution_count": 50,
   "id": "e5677193",
   "metadata": {
    "execution": {
     "iopub.execute_input": "2023-03-12T23:48:06.289594Z",
     "iopub.status.busy": "2023-03-12T23:48:06.289241Z",
     "iopub.status.idle": "2023-03-12T23:48:06.296464Z",
     "shell.execute_reply": "2023-03-12T23:48:06.295725Z"
    },
    "papermill": {
     "duration": 0.031463,
     "end_time": "2023-03-12T23:48:06.298361",
     "exception": false,
     "start_time": "2023-03-12T23:48:06.266898",
     "status": "completed"
    },
    "tags": []
   },
   "outputs": [
    {
     "data": {
      "text/plain": [
       "tensor([[54.7872, 68.1784]], grad_fn=<AddmmBackward0>)"
      ]
     },
     "execution_count": 50,
     "metadata": {},
     "output_type": "execute_result"
    }
   ],
   "source": [
    "model(torch.tensor([[75, 63, 44.]]))"
   ]
  },
  {
   "cell_type": "markdown",
   "id": "aa6525b3",
   "metadata": {
    "papermill": {
     "duration": 0.020523,
     "end_time": "2023-03-12T23:48:06.339342",
     "exception": false,
     "start_time": "2023-03-12T23:48:06.318819",
     "status": "completed"
    },
    "tags": []
   },
   "source": [
    "The predicted yield of apples is 54.3 tons per hectare, and that of oranges is 68.3 tons per hectare."
   ]
  },
  {
   "cell_type": "markdown",
   "id": "7ae7c60b",
   "metadata": {
    "papermill": {
     "duration": 0.020569,
     "end_time": "2023-03-12T23:48:06.380852",
     "exception": false,
     "start_time": "2023-03-12T23:48:06.360283",
     "status": "completed"
    },
    "tags": []
   },
   "source": [
    "## Machine Learning vs. Classical Programming\n",
    "\n",
    "The approach we've taken in this tutorial is very different from programming as you might know it. Usually, we write programs that take some inputs, perform some operations, and return a result. \n",
    "\n",
    "However, in this notebook, we've defined a \"model\" that assumes a specific relationship between the inputs and the outputs, expressed using some unknown parameters (weights & biases). We then show the model some know inputs and outputs and _train_ the model to come up with good values for the unknown parameters. Once trained, the model can be used to compute the outputs for new inputs.\n",
    "\n",
    "This paradigm of programming is known as _machine learning_, where we use data to figure out the relationship between inputs and outputs. _Deep learning_ is a branch of machine learning that uses matrix operations, non-linear activation functions and gradient descent to build and train models. Andrej Karpathy, the director of AI at Tesla Motors, has written a great blog post on this topics, titled [Software 2.0](https://medium.com/@karpathy/software-2-0-a64152b37c35).\n",
    "\n",
    "This picture from book [Deep Learning with Python](https://www.manning.com/books/deep-learning-with-python) by Francois Chollet captures the difference between classical programming and machine learning:\n",
    "\n",
    "![](https://i.imgur.com/oJEQe7k.png)\n",
    "\n",
    "Keep this picture in mind as you work through the next few tutorials. \n",
    "\n"
   ]
  },
  {
   "cell_type": "markdown",
   "id": "7cf0931f",
   "metadata": {
    "papermill": {
     "duration": 0.020916,
     "end_time": "2023-03-12T23:48:06.422715",
     "exception": false,
     "start_time": "2023-03-12T23:48:06.401799",
     "status": "completed"
    },
    "tags": []
   },
   "source": [
    "## Commit and update the notebook\n",
    "\n",
    "As a final step, we can record a new version of the notebook using the `jovian` library."
   ]
  },
  {
   "cell_type": "code",
   "execution_count": 51,
   "id": "66786427",
   "metadata": {
    "execution": {
     "iopub.execute_input": "2023-03-12T23:48:06.465362Z",
     "iopub.status.busy": "2023-03-12T23:48:06.464853Z",
     "iopub.status.idle": "2023-03-12T23:48:06.468898Z",
     "shell.execute_reply": "2023-03-12T23:48:06.468089Z"
    },
    "papermill": {
     "duration": 0.028252,
     "end_time": "2023-03-12T23:48:06.471201",
     "exception": false,
     "start_time": "2023-03-12T23:48:06.442949",
     "status": "completed"
    },
    "tags": []
   },
   "outputs": [],
   "source": [
    "import jovian"
   ]
  },
  {
   "cell_type": "code",
   "execution_count": 52,
   "id": "fc6070f4",
   "metadata": {
    "execution": {
     "iopub.execute_input": "2023-03-12T23:48:06.515179Z",
     "iopub.status.busy": "2023-03-12T23:48:06.514635Z",
     "iopub.status.idle": "2023-03-12T23:48:07.523955Z",
     "shell.execute_reply": "2023-03-12T23:48:07.523067Z"
    },
    "papermill": {
     "duration": 1.035057,
     "end_time": "2023-03-12T23:48:07.527825",
     "exception": false,
     "start_time": "2023-03-12T23:48:06.492768",
     "status": "completed"
    },
    "tags": []
   },
   "outputs": [
    {
     "data": {
      "application/javascript": [
       "window.require && require([\"base/js/namespace\"],function(Jupyter){Jupyter.notebook.save_checkpoint()})"
      ],
      "text/plain": [
       "<IPython.core.display.Javascript object>"
      ]
     },
     "metadata": {},
     "output_type": "display_data"
    },
    {
     "data": {
      "application/javascript": [
       "if (window.IPython && IPython.notebook.kernel) IPython.notebook.kernel.execute('jovian.utils.jupyter.get_notebook_name_saved = lambda: \"' + IPython.notebook.notebook_name + '\"')"
      ],
      "text/plain": [
       "<IPython.core.display.Javascript object>"
      ]
     },
     "metadata": {},
     "output_type": "display_data"
    },
    {
     "name": "stderr",
     "output_type": "stream",
     "text": [
      "\u001b[31m[jovian] Error: Failed to read the Jupyter notebook. Please re-run this cell to try again. If the issue persists, provide the \"filename\" argument to \"jovian.commit\" e.g. \"jovian.commit(filename='my-notebook.ipynb')\"\u001b[0m\n"
     ]
    }
   ],
   "source": [
    "jovian.commit(project='02-linear-regression')"
   ]
  },
  {
   "cell_type": "markdown",
   "id": "b771dfe9",
   "metadata": {
    "papermill": {
     "duration": 0.022813,
     "end_time": "2023-03-12T23:48:07.572494",
     "exception": false,
     "start_time": "2023-03-12T23:48:07.549681",
     "status": "completed"
    },
    "tags": []
   },
   "source": [
    "Note that running `jovian.commit` a second time records a new version of your existing notebook. With Jovian.ml, you can avoid creating copies of your Jupyter notebooks and keep versions organized. Jovian also provides a visual diff ([example](https://jovian.ai/aakashns/keras-mnist-jovian/diff?base=8&remote=2)) so you can inspect what has changed between different versions:\n",
    "\n",
    "![jovian-commenting](https://i.imgur.com/HF1cOVt.png)"
   ]
  },
  {
   "cell_type": "markdown",
   "id": "0ceafde9",
   "metadata": {
    "papermill": {
     "duration": 0.02083,
     "end_time": "2023-03-12T23:48:07.614924",
     "exception": false,
     "start_time": "2023-03-12T23:48:07.594094",
     "status": "completed"
    },
    "tags": []
   },
   "source": [
    "## Exercises and Further Reading\n",
    "\n",
    "We've covered the following topics in this tutorial:\n",
    "\n",
    "- Introduction to linear regression and gradient descent\n",
    "- Implementing a linear regression model using PyTorch tensors\n",
    "- Training a linear regression model using the gradient descent algorithm\n",
    "- Implementing gradient descent and linear regression using PyTorch built-in\n",
    "\n",
    "\n",
    "Here are some resources for learning more about linear regression and gradient descent:\n",
    "\n",
    "* An visual & animated explanation of gradient descent: https://www.youtube.com/watch?v=IHZwWFHWa-w\n",
    "\n",
    "* For a more detailed explanation of derivates and gradient descent, see [these notes from a Udacity course](https://storage.googleapis.com/supplemental_media/udacityu/315142919/Gradient%20Descent.pdf). \n",
    "\n",
    "* For an animated visualization of how linear regression works, [see this post](https://hackernoon.com/visualizing-linear-regression-with-pytorch-9261f49edb09).\n",
    "\n",
    "* For a more mathematical treatment of matrix calculus, linear regression and gradient descent, you should check out [Andrew Ng's excellent course notes](https://github.com/Cleo-Stanford-CS/CS229_Notes/blob/master/lectures/cs229-notes1.pdf) from CS229 at Stanford University.\n",
    "\n",
    "* To practice and test your skills, you can participate in the [Boston Housing Price Prediction](https://www.kaggle.com/c/boston-housing) competition on Kaggle, a website that hosts data science competitions.\n",
    "\n",
    "With this, we complete our discussion of linear regression in PyTorch, and we’re ready to move on to the next topic: [Working with Images & Logistic Regression](https://jovian.ai/aakashns/03-logistic-regression)."
   ]
  },
  {
   "cell_type": "markdown",
   "id": "247a7bca",
   "metadata": {
    "papermill": {
     "duration": 0.021231,
     "end_time": "2023-03-12T23:48:07.657549",
     "exception": false,
     "start_time": "2023-03-12T23:48:07.636318",
     "status": "completed"
    },
    "tags": []
   },
   "source": [
    "## Questions for Review\n",
    "\n",
    "Try answering the following questions to test your understanding of the topics covered in this notebook:\n",
    "\n",
    "1. What is a linear regression model? Give an example of a problem formulated as a linear regression model.\n",
    "2. What are input and target variables in a dataset? Give an example.\n",
    "3. What are weights and biases in a linear regression model?\n",
    "4. How do you represent tabular data using PyTorch tensors?\n",
    "5. Why do we create separate matrices for inputs and targets while training a linear regression model?\n",
    "6. How do you determine the shape of the weights matrix & bias vector given some training data?\n",
    "7. How do you create randomly initialized weights & biases with a given shape?\n",
    "8. How is a linear regression model implemented using matrix operations? Explain with an example.\n",
    "9. How do you generate predictions using a linear regression model?\n",
    "10. Why are the predictions of a randomly initialized model different from the actual targets?\n",
    "11. What is a loss function? What does the term “loss” signify?\n",
    "12. What is mean squared error?\n",
    "13. Write a function to calculate mean squared using model predictions and actual targets.\n",
    "14. What happens when you invoke the `.backward` function on the result of the mean squared error loss function?\n",
    "15. Why is the derivative of the loss w.r.t. the weights matrix itself a matrix? What do its elements represent?\n",
    "16. How is the derivate of the loss w.r.t. a weight element useful for reducing the loss? Explain with an example.\n",
    "17. Suppose the derivative  of the loss w.r.t. a weight element is positive. Should you increase or decrease the element’s value slightly to get a lower loss?\n",
    "18. Suppose the derivative  of the loss w.r.t. a weight element is negative. Should you increase or decrease the element’s value slightly to get a lower loss?\n",
    "19. How do you update the weights and biases of a model using their respective gradients to reduce the loss slightly?\n",
    "20. What is the gradient descent optimization algorithm? Why is it called “gradient descent”?\n",
    "21. Why do you subtract a “small quantity” proportional to the gradient from the weights & biases, not the actual gradient itself?\n",
    "22. What is learning rate? Why is it important?\n",
    "23. What is `torch.no_grad`?\n",
    "24. Why do you reset gradients to zero after updating weights and biases?\n",
    "25. What are the steps involved in training a linear regression model using gradient descent?\n",
    "26. What is an epoch?\n",
    "27. What is the benefit of training a model for multiple epochs?\n",
    "28. How do you make predictions using a trained model?\n",
    "29. What should you do if your model’s loss doesn’t decrease while training? Hint: learning rate.\n",
    "30. What is `torch.nn`?\n",
    "31. What is the purpose of the `TensorDataset` class in PyTorch? Give an example.\n",
    "32. What is a data loader in PyTorch? Give an example.\n",
    "33. How do you use a data loader to retrieve batches of data?\n",
    "34. What are the benefits of shuffling the training data before creating batches?\n",
    "35. What is the benefit of training in small batches instead of training with the entire dataset?\n",
    "36. What is the purpose of the `nn.Linear` class in PyTorch? Give an example.\n",
    "37. How do you see the weights and biases of a `nn.Linear` model?\n",
    "38. What is the purpose of the `torch.nn.functional` module?\n",
    "39. How do you compute mean squared error loss using a PyTorch built-in function?\n",
    "40. What is an optimizer in PyTorch?\n",
    "41. What is `torch.optim.SGD`? What does SGD stand for?\n",
    "42. What are the inputs to a PyTorch optimizer? \n",
    "43. Give an example of creating an optimizer for training a linear regression model.\n",
    "44. Write a function to train a `nn.Linear` model in batches using gradient descent.\n",
    "45. How do you use a linear regression model to make predictions on previously unseen data? ",
    "\n"
   ]
  }
 ],
 "metadata": {
  "kernelspec": {
   "display_name": "Python 3",
   "language": "python",
   "name": "python3"
  },
  "language_info": {
   "codemirror_mode": {
    "name": "ipython",
    "version": 3
   },
   "file_extension": ".py",
   "mimetype": "text/x-python",
   "name": "python",
   "nbconvert_exporter": "python",
   "pygments_lexer": "ipython3",
   "version": "3.7.12"
  },
  "papermill": {
   "default_parameters": {},
   "duration": 29.950997,
   "end_time": "2023-03-12T23:48:08.500175",
   "environment_variables": {},
   "exception": null,
   "input_path": "__notebook__.ipynb",
   "output_path": "__notebook__.ipynb",
   "parameters": {},
   "start_time": "2023-03-12T23:47:38.549178",
   "version": "2.4.0"
  }
 },
 "nbformat": 4,
 "nbformat_minor": 5
}
