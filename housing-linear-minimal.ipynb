{
 "cells": [
  {
   "cell_type": "code",
   "execution_count": 1,
   "id": "7a498f04",
   "metadata": {
    "execution": {
     "iopub.execute_input": "2023-03-16T14:22:38.945400Z",
     "iopub.status.busy": "2023-03-16T14:22:38.944337Z",
     "iopub.status.idle": "2023-03-16T14:22:41.953257Z",
     "shell.execute_reply": "2023-03-16T14:22:41.951977Z"
    },
    "papermill": {
     "duration": 3.019926,
     "end_time": "2023-03-16T14:22:41.956393",
     "exception": false,
     "start_time": "2023-03-16T14:22:38.936467",
     "status": "completed"
    },
    "tags": []
   },
   "outputs": [],
   "source": [
    "# Imports\n",
    "import torch\n",
    "# import jovian\n",
    "import torchvision\n",
    "import torch.nn as nn\n",
    "import pandas as pd\n",
    "import matplotlib.pyplot as plt\n",
    "import torch.nn.functional as F\n",
    "from torchvision.datasets.utils import download_url\n",
    "from torch.utils.data import DataLoader, TensorDataset, random_split"
   ]
  },
  {
   "cell_type": "code",
   "execution_count": 2,
   "id": "c4886782",
   "metadata": {
    "execution": {
     "iopub.execute_input": "2023-03-16T14:22:41.970462Z",
     "iopub.status.busy": "2023-03-16T14:22:41.969834Z",
     "iopub.status.idle": "2023-03-16T14:22:41.976592Z",
     "shell.execute_reply": "2023-03-16T14:22:41.975116Z"
    },
    "papermill": {
     "duration": 0.016206,
     "end_time": "2023-03-16T14:22:41.979466",
     "exception": false,
     "start_time": "2023-03-16T14:22:41.963260",
     "status": "completed"
    },
    "tags": []
   },
   "outputs": [],
   "source": [
    "# Hyperparameters\n",
    "batch_size=64\n",
    "learning_rate=5e-7\n",
    "\n",
    "\n",
    "# Other constants\n",
    "DATASET_URL = \"https://raw.githubusercontent.com/selva86/datasets/master/BostonHousing.csv\"\n",
    "DATA_FILENAME = \"BostonHousing.csv\"\n",
    "TARGET_COLUMN = 'medv'\n",
    "input_size=13\n",
    "output_size=1"
   ]
  },
  {
   "cell_type": "markdown",
   "id": "0a92663f",
   "metadata": {
    "papermill": {
     "duration": 0.004668,
     "end_time": "2023-03-16T14:22:41.989312",
     "exception": false,
     "start_time": "2023-03-16T14:22:41.984644",
     "status": "completed"
    },
    "tags": []
   },
   "source": [
    "## Dataset & Data loaders"
   ]
  },
  {
   "cell_type": "code",
   "execution_count": 3,
   "id": "f3a34f16",
   "metadata": {
    "execution": {
     "iopub.execute_input": "2023-03-16T14:22:42.001342Z",
     "iopub.status.busy": "2023-03-16T14:22:42.000560Z",
     "iopub.status.idle": "2023-03-16T14:22:42.263319Z",
     "shell.execute_reply": "2023-03-16T14:22:42.262279Z"
    },
    "papermill": {
     "duration": 0.272175,
     "end_time": "2023-03-16T14:22:42.266438",
     "exception": false,
     "start_time": "2023-03-16T14:22:41.994263",
     "status": "completed"
    },
    "tags": []
   },
   "outputs": [
    {
     "name": "stdout",
     "output_type": "stream",
     "text": [
      "Downloading https://raw.githubusercontent.com/selva86/datasets/master/BostonHousing.csv to ./BostonHousing.csv\n"
     ]
    },
    {
     "data": {
      "application/vnd.jupyter.widget-view+json": {
       "model_id": "e3bcb6a623b5439397c1aced743ed286",
       "version_major": 2,
       "version_minor": 0
      },
      "text/plain": [
       "  0%|          | 0/35735 [00:00<?, ?it/s]"
      ]
     },
     "metadata": {},
     "output_type": "display_data"
    },
    {
     "data": {
      "text/html": [
       "<div>\n",
       "<style scoped>\n",
       "    .dataframe tbody tr th:only-of-type {\n",
       "        vertical-align: middle;\n",
       "    }\n",
       "\n",
       "    .dataframe tbody tr th {\n",
       "        vertical-align: top;\n",
       "    }\n",
       "\n",
       "    .dataframe thead th {\n",
       "        text-align: right;\n",
       "    }\n",
       "</style>\n",
       "<table border=\"1\" class=\"dataframe\">\n",
       "  <thead>\n",
       "    <tr style=\"text-align: right;\">\n",
       "      <th></th>\n",
       "      <th>crim</th>\n",
       "      <th>zn</th>\n",
       "      <th>indus</th>\n",
       "      <th>chas</th>\n",
       "      <th>nox</th>\n",
       "      <th>rm</th>\n",
       "      <th>age</th>\n",
       "      <th>dis</th>\n",
       "      <th>rad</th>\n",
       "      <th>tax</th>\n",
       "      <th>ptratio</th>\n",
       "      <th>b</th>\n",
       "      <th>lstat</th>\n",
       "      <th>medv</th>\n",
       "    </tr>\n",
       "  </thead>\n",
       "  <tbody>\n",
       "    <tr>\n",
       "      <th>0</th>\n",
       "      <td>0.00632</td>\n",
       "      <td>18.0</td>\n",
       "      <td>2.31</td>\n",
       "      <td>0</td>\n",
       "      <td>0.538</td>\n",
       "      <td>6.575</td>\n",
       "      <td>65.2</td>\n",
       "      <td>4.0900</td>\n",
       "      <td>1</td>\n",
       "      <td>296</td>\n",
       "      <td>15.3</td>\n",
       "      <td>396.90</td>\n",
       "      <td>4.98</td>\n",
       "      <td>24.0</td>\n",
       "    </tr>\n",
       "    <tr>\n",
       "      <th>1</th>\n",
       "      <td>0.02731</td>\n",
       "      <td>0.0</td>\n",
       "      <td>7.07</td>\n",
       "      <td>0</td>\n",
       "      <td>0.469</td>\n",
       "      <td>6.421</td>\n",
       "      <td>78.9</td>\n",
       "      <td>4.9671</td>\n",
       "      <td>2</td>\n",
       "      <td>242</td>\n",
       "      <td>17.8</td>\n",
       "      <td>396.90</td>\n",
       "      <td>9.14</td>\n",
       "      <td>21.6</td>\n",
       "    </tr>\n",
       "    <tr>\n",
       "      <th>2</th>\n",
       "      <td>0.02729</td>\n",
       "      <td>0.0</td>\n",
       "      <td>7.07</td>\n",
       "      <td>0</td>\n",
       "      <td>0.469</td>\n",
       "      <td>7.185</td>\n",
       "      <td>61.1</td>\n",
       "      <td>4.9671</td>\n",
       "      <td>2</td>\n",
       "      <td>242</td>\n",
       "      <td>17.8</td>\n",
       "      <td>392.83</td>\n",
       "      <td>4.03</td>\n",
       "      <td>34.7</td>\n",
       "    </tr>\n",
       "    <tr>\n",
       "      <th>3</th>\n",
       "      <td>0.03237</td>\n",
       "      <td>0.0</td>\n",
       "      <td>2.18</td>\n",
       "      <td>0</td>\n",
       "      <td>0.458</td>\n",
       "      <td>6.998</td>\n",
       "      <td>45.8</td>\n",
       "      <td>6.0622</td>\n",
       "      <td>3</td>\n",
       "      <td>222</td>\n",
       "      <td>18.7</td>\n",
       "      <td>394.63</td>\n",
       "      <td>2.94</td>\n",
       "      <td>33.4</td>\n",
       "    </tr>\n",
       "    <tr>\n",
       "      <th>4</th>\n",
       "      <td>0.06905</td>\n",
       "      <td>0.0</td>\n",
       "      <td>2.18</td>\n",
       "      <td>0</td>\n",
       "      <td>0.458</td>\n",
       "      <td>7.147</td>\n",
       "      <td>54.2</td>\n",
       "      <td>6.0622</td>\n",
       "      <td>3</td>\n",
       "      <td>222</td>\n",
       "      <td>18.7</td>\n",
       "      <td>396.90</td>\n",
       "      <td>5.33</td>\n",
       "      <td>36.2</td>\n",
       "    </tr>\n",
       "  </tbody>\n",
       "</table>\n",
       "</div>"
      ],
      "text/plain": [
       "      crim    zn  indus  chas    nox     rm   age     dis  rad  tax  ptratio  \\\n",
       "0  0.00632  18.0   2.31     0  0.538  6.575  65.2  4.0900    1  296     15.3   \n",
       "1  0.02731   0.0   7.07     0  0.469  6.421  78.9  4.9671    2  242     17.8   \n",
       "2  0.02729   0.0   7.07     0  0.469  7.185  61.1  4.9671    2  242     17.8   \n",
       "3  0.03237   0.0   2.18     0  0.458  6.998  45.8  6.0622    3  222     18.7   \n",
       "4  0.06905   0.0   2.18     0  0.458  7.147  54.2  6.0622    3  222     18.7   \n",
       "\n",
       "        b  lstat  medv  \n",
       "0  396.90   4.98  24.0  \n",
       "1  396.90   9.14  21.6  \n",
       "2  392.83   4.03  34.7  \n",
       "3  394.63   2.94  33.4  \n",
       "4  396.90   5.33  36.2  "
      ]
     },
     "execution_count": 3,
     "metadata": {},
     "output_type": "execute_result"
    }
   ],
   "source": [
    "# Download the data\n",
    "download_url(DATASET_URL, '.')\n",
    "dataframe = pd.read_csv(DATA_FILENAME)\n",
    "dataframe.head()"
   ]
  },
  {
   "cell_type": "code",
   "execution_count": 4,
   "id": "91354d61",
   "metadata": {
    "execution": {
     "iopub.execute_input": "2023-03-16T14:22:42.280140Z",
     "iopub.status.busy": "2023-03-16T14:22:42.279036Z",
     "iopub.status.idle": "2023-03-16T14:22:42.293273Z",
     "shell.execute_reply": "2023-03-16T14:22:42.292224Z"
    },
    "papermill": {
     "duration": 0.023496,
     "end_time": "2023-03-16T14:22:42.295626",
     "exception": false,
     "start_time": "2023-03-16T14:22:42.272130",
     "status": "completed"
    },
    "tags": []
   },
   "outputs": [
    {
     "data": {
      "text/plain": [
       "((506, 13), (506, 1))"
      ]
     },
     "execution_count": 4,
     "metadata": {},
     "output_type": "execute_result"
    }
   ],
   "source": [
    "# Convert from Pandas dataframe to numpy arrays\n",
    "inputs = dataframe.drop('medv', axis=1).values\n",
    "targets = dataframe[['medv']].values\n",
    "inputs.shape, targets.shape"
   ]
  },
  {
   "cell_type": "code",
   "execution_count": 5,
   "id": "6c691828",
   "metadata": {
    "execution": {
     "iopub.execute_input": "2023-03-16T14:22:42.310331Z",
     "iopub.status.busy": "2023-03-16T14:22:42.309000Z",
     "iopub.status.idle": "2023-03-16T14:22:42.367177Z",
     "shell.execute_reply": "2023-03-16T14:22:42.365766Z"
    },
    "papermill": {
     "duration": 0.069035,
     "end_time": "2023-03-16T14:22:42.370371",
     "exception": false,
     "start_time": "2023-03-16T14:22:42.301336",
     "status": "completed"
    },
    "tags": []
   },
   "outputs": [],
   "source": [
    "# Convert to PyTorch dataset\n",
    "dataset = TensorDataset(torch.tensor(inputs, dtype=torch.float32), torch.tensor(targets, dtype=torch.float32))\n",
    "train_ds, val_ds = random_split(dataset, [406, 100])\n",
    "\n",
    "train_loader = DataLoader(train_ds, batch_size, shuffle=True)\n",
    "val_loader = DataLoader(val_ds, batch_size*2)"
   ]
  },
  {
   "cell_type": "markdown",
   "id": "81672d65",
   "metadata": {
    "papermill": {
     "duration": 0.005712,
     "end_time": "2023-03-16T14:22:42.381990",
     "exception": false,
     "start_time": "2023-03-16T14:22:42.376278",
     "status": "completed"
    },
    "tags": []
   },
   "source": [
    "## Model"
   ]
  },
  {
   "cell_type": "code",
   "execution_count": 6,
   "id": "5c7e39dd",
   "metadata": {
    "execution": {
     "iopub.execute_input": "2023-03-16T14:22:42.400508Z",
     "iopub.status.busy": "2023-03-16T14:22:42.399668Z",
     "iopub.status.idle": "2023-03-16T14:22:42.428573Z",
     "shell.execute_reply": "2023-03-16T14:22:42.426566Z"
    },
    "papermill": {
     "duration": 0.04158,
     "end_time": "2023-03-16T14:22:42.432380",
     "exception": false,
     "start_time": "2023-03-16T14:22:42.390800",
     "status": "completed"
    },
    "tags": []
   },
   "outputs": [],
   "source": [
    "class HousingModel(nn.Module):\n",
    "    def __init__(self):\n",
    "        super().__init__()\n",
    "        self.linear = nn.Linear(input_size, output_size)\n",
    "        \n",
    "    def forward(self, xb):\n",
    "        out = self.linear(xb)\n",
    "        return out\n",
    "    \n",
    "    def training_step(self, batch):\n",
    "        inputs, targets = batch \n",
    "        out = self(inputs)                 # Generate predictions\n",
    "        loss = F.mse_loss(out, targets)    # Calculate loss\n",
    "        return loss\n",
    "    \n",
    "    def validation_step(self, batch):\n",
    "        inputs, targets = batch \n",
    "        out = self(inputs)                 # Generate predictions\n",
    "        loss = F.mse_loss(out, targets)    # Calculate loss\n",
    "        return {'val_loss': loss.detach()}\n",
    "        \n",
    "    def validation_epoch_end(self, outputs):\n",
    "        batch_losses = [x['val_loss'] for x in outputs]\n",
    "        epoch_loss = torch.stack(batch_losses).mean()   # Combine losses\n",
    "        return {'val_loss': epoch_loss.item()}\n",
    "    \n",
    "    def epoch_end(self, epoch, result):\n",
    "        print(\"Epoch [{}], val_loss: {:.4f}\".format(epoch, result['val_loss']))\n",
    "    \n",
    "model = HousingModel()"
   ]
  },
  {
   "cell_type": "markdown",
   "id": "ee1d1fec",
   "metadata": {
    "papermill": {
     "duration": 0.005273,
     "end_time": "2023-03-16T14:22:42.443396",
     "exception": false,
     "start_time": "2023-03-16T14:22:42.438123",
     "status": "completed"
    },
    "tags": []
   },
   "source": [
    "## Training"
   ]
  },
  {
   "cell_type": "code",
   "execution_count": 7,
   "id": "233bcadf",
   "metadata": {
    "execution": {
     "iopub.execute_input": "2023-03-16T14:22:42.458111Z",
     "iopub.status.busy": "2023-03-16T14:22:42.457121Z",
     "iopub.status.idle": "2023-03-16T14:22:42.466770Z",
     "shell.execute_reply": "2023-03-16T14:22:42.465619Z"
    },
    "papermill": {
     "duration": 0.019937,
     "end_time": "2023-03-16T14:22:42.469601",
     "exception": false,
     "start_time": "2023-03-16T14:22:42.449664",
     "status": "completed"
    },
    "tags": []
   },
   "outputs": [],
   "source": [
    "def evaluate(model, val_loader):\n",
    "    outputs = [model.validation_step(batch) for batch in val_loader]\n",
    "    return model.validation_epoch_end(outputs)\n",
    "\n",
    "def fit(epochs, lr, model, train_loader, val_loader, opt_func=torch.optim.SGD):\n",
    "    history = []\n",
    "    optimizer = opt_func(model.parameters(), lr)\n",
    "    for epoch in range(epochs):\n",
    "        # Training Phase \n",
    "        for batch in train_loader:\n",
    "            loss = model.training_step(batch)\n",
    "            loss.backward()\n",
    "            optimizer.step()\n",
    "            optimizer.zero_grad()\n",
    "        # Validation phase\n",
    "        result = evaluate(model, val_loader)\n",
    "        model.epoch_end(epoch, result)\n",
    "        history.append(result)\n",
    "    return history"
   ]
  },
  {
   "cell_type": "code",
   "execution_count": 8,
   "id": "ab8bde76",
   "metadata": {
    "execution": {
     "iopub.execute_input": "2023-03-16T14:22:42.485959Z",
     "iopub.status.busy": "2023-03-16T14:22:42.484522Z",
     "iopub.status.idle": "2023-03-16T14:22:42.569897Z",
     "shell.execute_reply": "2023-03-16T14:22:42.568700Z"
    },
    "papermill": {
     "duration": 0.097821,
     "end_time": "2023-03-16T14:22:42.573140",
     "exception": false,
     "start_time": "2023-03-16T14:22:42.475319",
     "status": "completed"
    },
    "tags": []
   },
   "outputs": [
    {
     "data": {
      "text/plain": [
       "{'val_loss': 7224.47705078125}"
      ]
     },
     "execution_count": 8,
     "metadata": {},
     "output_type": "execute_result"
    }
   ],
   "source": [
    "result = evaluate(model, val_loader)\n",
    "result"
   ]
  },
  {
   "cell_type": "code",
   "execution_count": 9,
   "id": "d11ebfdc",
   "metadata": {
    "execution": {
     "iopub.execute_input": "2023-03-16T14:22:42.592184Z",
     "iopub.status.busy": "2023-03-16T14:22:42.591077Z",
     "iopub.status.idle": "2023-03-16T14:22:42.694366Z",
     "shell.execute_reply": "2023-03-16T14:22:42.693289Z"
    },
    "papermill": {
     "duration": 0.115468,
     "end_time": "2023-03-16T14:22:42.697464",
     "exception": false,
     "start_time": "2023-03-16T14:22:42.581996",
     "status": "completed"
    },
    "tags": []
   },
   "outputs": [
    {
     "name": "stdout",
     "output_type": "stream",
     "text": [
      "Epoch [0], val_loss: 1104.6624\n",
      "Epoch [1], val_loss: 798.2727\n",
      "Epoch [2], val_loss: 604.8504\n",
      "Epoch [3], val_loss: 479.1749\n",
      "Epoch [4], val_loss: 380.4234\n",
      "Epoch [5], val_loss: 312.0283\n",
      "Epoch [6], val_loss: 263.2485\n",
      "Epoch [7], val_loss: 228.0171\n",
      "Epoch [8], val_loss: 199.2563\n",
      "Epoch [9], val_loss: 182.3209\n"
     ]
    }
   ],
   "source": [
    "history = fit(10, learning_rate, model, train_loader, val_loader)"
   ]
  },
  {
   "cell_type": "code",
   "execution_count": 10,
   "id": "546f1b6e",
   "metadata": {
    "execution": {
     "iopub.execute_input": "2023-03-16T14:22:42.712395Z",
     "iopub.status.busy": "2023-03-16T14:22:42.711384Z",
     "iopub.status.idle": "2023-03-16T14:22:43.014175Z",
     "shell.execute_reply": "2023-03-16T14:22:43.012849Z"
    },
    "papermill": {
     "duration": 0.313611,
     "end_time": "2023-03-16T14:22:43.017053",
     "exception": false,
     "start_time": "2023-03-16T14:22:42.703442",
     "status": "completed"
    },
    "tags": []
   },
   "outputs": [
    {
     "data": {
      "image/png": "[encoded data removed]",
      "text/plain": [
       "<Figure size 640x480 with 1 Axes>"
      ]
     },
     "metadata": {},
     "output_type": "display_data"
    }
   ],
   "source": [
    "losses = [r['val_loss'] for r in [result] + history]\n",
    "plt.plot(losses, '-x')\n",
    "plt.xlabel('epoch')\n",
    "plt.ylabel('val_loss')\n",
    "plt.title('val_loss vs. epochs');"
   ]
  },
  {
   "cell_type": "markdown",
   "id": "2d569928",
   "metadata": {
    "papermill": {
     "duration": 0.007125,
     "end_time": "2023-03-16T14:22:43.030524",
     "exception": false,
     "start_time": "2023-03-16T14:22:43.023399",
     "status": "completed"
    },
    "tags": []
   },
   "source": [
    "## Prediction"
   ]
  },
  {
   "cell_type": "code",
   "execution_count": 11,
   "id": "47a9065e",
   "metadata": {
    "execution": {
     "iopub.execute_input": "2023-03-16T14:22:43.045744Z",
     "iopub.status.busy": "2023-03-16T14:22:43.044521Z",
     "iopub.status.idle": "2023-03-16T14:22:43.050758Z",
     "shell.execute_reply": "2023-03-16T14:22:43.049709Z"
    },
    "papermill": {
     "duration": 0.016542,
     "end_time": "2023-03-16T14:22:43.053339",
     "exception": false,
     "start_time": "2023-03-16T14:22:43.036797",
     "status": "completed"
    },
    "tags": []
   },
   "outputs": [],
   "source": [
    "def predict_single(x, model):\n",
    "    xb = x.unsqueeze(0)\n",
    "    return model(x).item()"
   ]
  },
  {
   "cell_type": "code",
   "execution_count": 12,
   "id": "0533e74b",
   "metadata": {
    "execution": {
     "iopub.execute_input": "2023-03-16T14:22:43.068173Z",
     "iopub.status.busy": "2023-03-16T14:22:43.067476Z",
     "iopub.status.idle": "2023-03-16T14:22:43.095859Z",
     "shell.execute_reply": "2023-03-16T14:22:43.093518Z"
    },
    "papermill": {
     "duration": 0.039376,
     "end_time": "2023-03-16T14:22:43.098962",
     "exception": false,
     "start_time": "2023-03-16T14:22:43.059586",
     "status": "completed"
    },
    "tags": []
   },
   "outputs": [
    {
     "name": "stdout",
     "output_type": "stream",
     "text": [
      "Input:  tensor([3.3147e-01, 0.0000e+00, 6.2000e+00, 0.0000e+00, 5.0700e-01, 8.2470e+00,\n",
      "        7.0400e+01, 3.6519e+00, 8.0000e+00, 3.0700e+02, 1.7400e+01, 3.7895e+02,\n",
      "        3.9500e+00])\n",
      "Target:  48.29999923706055\n",
      "Prediction: 15.33918571472168\n"
     ]
    }
   ],
   "source": [
    "x, target = val_ds[10]\n",
    "pred = predict_single(x, model)\n",
    "print(\"Input: \", x)\n",
    "print(\"Target: \", target.item())\n",
    "print(\"Prediction:\", pred)"
   ]
  },
  {
   "cell_type": "markdown",
   "id": "92dac8a1",
   "metadata": {
    "papermill": {
     "duration": 0.006092,
     "end_time": "2023-03-16T14:22:43.111540",
     "exception": false,
     "start_time": "2023-03-16T14:22:43.105448",
     "status": "completed"
    },
    "tags": []
   },
   "source": [
    "## Save and upload"
   ]
  },
  {
   "cell_type": "code",
   "execution_count": 13,
   "id": "376890db",
   "metadata": {
    "execution": {
     "iopub.execute_input": "2023-03-16T14:22:43.127388Z",
     "iopub.status.busy": "2023-03-16T14:22:43.126421Z",
     "iopub.status.idle": "2023-03-16T14:22:43.133499Z",
     "shell.execute_reply": "2023-03-16T14:22:43.132397Z"
    },
    "papermill": {
     "duration": 0.018231,
     "end_time": "2023-03-16T14:22:43.136477",
     "exception": false,
     "start_time": "2023-03-16T14:22:43.118246",
     "status": "completed"
    },
    "tags": []
   },
   "outputs": [],
   "source": [
    "torch.save(model.state_dict(), 'housing-linear.pth')"
   ]
  },
  {
   "cell_type": "code",
   "execution_count": null,
   "id": "ec7c8154",
   "metadata": {
    "papermill": {
     "duration": 0.007507,
     "end_time": "2023-03-16T14:22:43.153396",
     "exception": false,
     "start_time": "2023-03-16T14:22:43.145889",
     "status": "completed"
    },
    "tags": []
   },
   "outputs": [],
   "source": []
  }
 ],
 "metadata": {
  "kernelspec": {
   "display_name": "Python 3",
   "language": "python",
   "name": "python3"
  },
  "language_info": {
   "codemirror_mode": {
    "name": "ipython",
    "version": 3
   },
   "file_extension": ".py",
   "mimetype": "text/x-python",
   "name": "python",
   "nbconvert_exporter": "python",
   "pygments_lexer": "ipython3",
   "version": "3.7.12"
  },
  "papermill": {
   "default_parameters": {},
   "duration": 16.060568,
   "end_time": "2023-03-16T14:22:44.185548",
   "environment_variables": {},
   "exception": null,
   "input_path": "__notebook__.ipynb",
   "output_path": "__notebook__.ipynb",
   "parameters": {},
   "start_time": "2023-03-16T14:22:28.124980",
   "version": "2.4.0"
  },
  "widgets": {
   "application/vnd.jupyter.widget-state+json": {
    "state": {
     "4d43d6d93e0549808dcdb704ffa0eed1": {
      "model_module": "@jupyter-widgets/base",
      "model_module_version": "1.2.0",
      "model_name": "LayoutModel",
      "state": {
       "_model_module": "@jupyter-widgets/base",
       "_model_module_version": "1.2.0",
       "_model_name": "LayoutModel",
       "_view_count": null,
       "_view_module": "@jupyter-widgets/base",
       "_view_module_version": "1.2.0",
       "_view_name": "LayoutView",
       "align_content": null,
       "align_items": null,
       "align_self": null,
       "border": null,
       "bottom": null,
       "display": null,
       "flex": null,
       "flex_flow": null,
       "grid_area": null,
       "grid_auto_columns": null,
       "grid_auto_flow": null,
       "grid_auto_rows": null,
       "grid_column": null,
       "grid_gap": null,
       "grid_row": null,
       "grid_template_areas": null,
       "grid_template_columns": null,
       "grid_template_rows": null,
       "height": null,
       "justify_content": null,
       "justify_items": null,
       "left": null,
       "margin": null,
       "max_height": null,
       "max_width": null,
       "min_height": null,
       "min_width": null,
       "object_fit": null,
       "object_position": null,
       "order": null,
       "overflow": null,
       "overflow_x": null,
       "overflow_y": null,
       "padding": null,
       "right": null,
       "top": null,
       "visibility": null,
       "width": null
      }
     },
     "62abf5feedfb4fd38e90ba495783a4ef": {
      "model_module": "@jupyter-widgets/controls",
      "model_module_version": "1.5.0",
      "model_name": "DescriptionStyleModel",
      "state": {
       "_model_module": "@jupyter-widgets/controls",
       "_model_module_version": "1.5.0",
       "_model_name": "DescriptionStyleModel",
       "_view_count": null,
       "_view_module": "@jupyter-widgets/base",
       "_view_module_version": "1.2.0",
       "_view_name": "StyleView",
       "description_width": ""
      }
     },
     "7f72b32028ea4b5fb8b0804fc46c249a": {
      "model_module": "@jupyter-widgets/controls",
      "model_module_version": "1.5.0",
      "model_name": "HTMLModel",
      "state": {
       "_dom_classes": [],
       "_model_module": "@jupyter-widgets/controls",
       "_model_module_version": "1.5.0",
       "_model_name": "HTMLModel",
       "_view_count": null,
       "_view_module": "@jupyter-widgets/controls",
       "_view_module_version": "1.5.0",
       "_view_name": "HTMLView",
       "description": "",
       "description_tooltip": null,
       "layout": "IPY_MODEL_dc86ba07c9b947f1b4f0011c4685fe10",
       "placeholder": "​",
       "style": "IPY_MODEL_62abf5feedfb4fd38e90ba495783a4ef",
       "value": "100%"
      }
     },
     "874a8039804944f385b832021793d4f1": {
      "model_module": "@jupyter-widgets/base",
      "model_module_version": "1.2.0",
      "model_name": "LayoutModel",
      "state": {
       "_model_module": "@jupyter-widgets/base",
       "_model_module_version": "1.2.0",
       "_model_name": "LayoutModel",
       "_view_count": null,
       "_view_module": "@jupyter-widgets/base",
       "_view_module_version": "1.2.0",
       "_view_name": "LayoutView",
       "align_content": null,
       "align_items": null,
       "align_self": null,
       "border": null,
       "bottom": null,
       "display": null,
       "flex": null,
       "flex_flow": null,
       "grid_area": null,
       "grid_auto_columns": null,
       "grid_auto_flow": null,
       "grid_auto_rows": null,
       "grid_column": null,
       "grid_gap": null,
       "grid_row": null,
       "grid_template_areas": null,
       "grid_template_columns": null,
       "grid_template_rows": null,
       "height": null,
       "justify_content": null,
       "justify_items": null,
       "left": null,
       "margin": null,
       "max_height": null,
       "max_width": null,
       "min_height": null,
       "min_width": null,
       "object_fit": null,
       "object_position": null,
       "order": null,
       "overflow": null,
       "overflow_x": null,
       "overflow_y": null,
       "padding": null,
       "right": null,
       "top": null,
       "visibility": null,
       "width": null
      }
     },
     "898f3138b2274d09a1f29b97c610d485": {
      "model_module": "@jupyter-widgets/controls",
      "model_module_version": "1.5.0",
      "model_name": "FloatProgressModel",
      "state": {
       "_dom_classes": [],
       "_model_module": "@jupyter-widgets/controls",
       "_model_module_version": "1.5.0",
       "_model_name": "FloatProgressModel",
       "_view_count": null,
       "_view_module": "@jupyter-widgets/controls",
       "_view_module_version": "1.5.0",
       "_view_name": "ProgressView",
       "bar_style": "success",
       "description": "",
       "description_tooltip": null,
       "layout": "IPY_MODEL_874a8039804944f385b832021793d4f1",
       "max": 35735.0,
       "min": 0.0,
       "orientation": "horizontal",
       "style": "IPY_MODEL_c71dcfd3d7d44e9f866af9520022621a",
       "value": 35735.0
      }
     },
     "a401653ef57b482aab2c74d56fa54f98": {
      "model_module": "@jupyter-widgets/controls",
      "model_module_version": "1.5.0",
      "model_name": "DescriptionStyleModel",
      "state": {
       "_model_module": "@jupyter-widgets/controls",
       "_model_module_version": "1.5.0",
       "_model_name": "DescriptionStyleModel",
       "_view_count": null,
       "_view_module": "@jupyter-widgets/base",
       "_view_module_version": "1.2.0",
       "_view_name": "StyleView",
       "description_width": ""
      }
     },
     "c71dcfd3d7d44e9f866af9520022621a": {
      "model_module": "@jupyter-widgets/controls",
      "model_module_version": "1.5.0",
      "model_name": "ProgressStyleModel",
      "state": {
       "_model_module": "@jupyter-widgets/controls",
       "_model_module_version": "1.5.0",
       "_model_name": "ProgressStyleModel",
       "_view_count": null,
       "_view_module": "@jupyter-widgets/base",
       "_view_module_version": "1.2.0",
       "_view_name": "StyleView",
       "bar_color": null,
       "description_width": ""
      }
     },
     "dc86ba07c9b947f1b4f0011c4685fe10": {
      "model_module": "@jupyter-widgets/base",
      "model_module_version": "1.2.0",
      "model_name": "LayoutModel",
      "state": {
       "_model_module": "@jupyter-widgets/base",
       "_model_module_version": "1.2.0",
       "_model_name": "LayoutModel",
       "_view_count": null,
       "_view_module": "@jupyter-widgets/base",
       "_view_module_version": "1.2.0",
       "_view_name": "LayoutView",
       "align_content": null,
       "align_items": null,
       "align_self": null,
       "border": null,
       "bottom": null,
       "display": null,
       "flex": null,
       "flex_flow": null,
       "grid_area": null,
       "grid_auto_columns": null,
       "grid_auto_flow": null,
       "grid_auto_rows": null,
       "grid_column": null,
       "grid_gap": null,
       "grid_row": null,
       "grid_template_areas": null,
       "grid_template_columns": null,
       "grid_template_rows": null,
       "height": null,
       "justify_content": null,
       "justify_items": null,
       "left": null,
       "margin": null,
       "max_height": null,
       "max_width": null,
       "min_height": null,
       "min_width": null,
       "object_fit": null,
       "object_position": null,
       "order": null,
       "overflow": null,
       "overflow_x": null,
       "overflow_y": null,
       "padding": null,
       "right": null,
       "top": null,
       "visibility": null,
       "width": null
      }
     },
     "e2449a3f605e4254ae8c35ed65983dfb": {
      "model_module": "@jupyter-widgets/base",
      "model_module_version": "1.2.0",
      "model_name": "LayoutModel",
      "state": {
       "_model_module": "@jupyter-widgets/base",
       "_model_module_version": "1.2.0",
       "_model_name": "LayoutModel",
       "_view_count": null,
       "_view_module": "@jupyter-widgets/base",
       "_view_module_version": "1.2.0",
       "_view_name": "LayoutView",
       "align_content": null,
       "align_items": null,
       "align_self": null,
       "border": null,
       "bottom": null,
       "display": null,
       "flex": null,
       "flex_flow": null,
       "grid_area": null,
       "grid_auto_columns": null,
       "grid_auto_flow": null,
       "grid_auto_rows": null,
       "grid_column": null,
       "grid_gap": null,
       "grid_row": null,
       "grid_template_areas": null,
       "grid_template_columns": null,
       "grid_template_rows": null,
       "height": null,
       "justify_content": null,
       "justify_items": null,
       "left": null,
       "margin": null,
       "max_height": null,
       "max_width": null,
       "min_height": null,
       "min_width": null,
       "object_fit": null,
       "object_position": null,
       "order": null,
       "overflow": null,
       "overflow_x": null,
       "overflow_y": null,
       "padding": null,
       "right": null,
       "top": null,
       "visibility": null,
       "width": null
      }
     },
     "e3bcb6a623b5439397c1aced743ed286": {
      "model_module": "@jupyter-widgets/controls",
      "model_module_version": "1.5.0",
      "model_name": "HBoxModel",
      "state": {
       "_dom_classes": [],
       "_model_module": "@jupyter-widgets/controls",
       "_model_module_version": "1.5.0",
       "_model_name": "HBoxModel",
       "_view_count": null,
       "_view_module": "@jupyter-widgets/controls",
       "_view_module_version": "1.5.0",
       "_view_name": "HBoxView",
       "box_style": "",
       "children": [
        "IPY_MODEL_7f72b32028ea4b5fb8b0804fc46c249a",
        "IPY_MODEL_898f3138b2274d09a1f29b97c610d485",
        "IPY_MODEL_e7e17ec5995b4119b231df2482ffe8eb"
       ],
       "layout": "IPY_MODEL_4d43d6d93e0549808dcdb704ffa0eed1"
      }
     },
     "e7e17ec5995b4119b231df2482ffe8eb": {
      "model_module": "@jupyter-widgets/controls",
      "model_module_version": "1.5.0",
      "model_name": "HTMLModel",
      "state": {
       "_dom_classes": [],
       "_model_module": "@jupyter-widgets/controls",
       "_model_module_version": "1.5.0",
       "_model_name": "HTMLModel",
       "_view_count": null,
       "_view_module": "@jupyter-widgets/controls",
       "_view_module_version": "1.5.0",
       "_view_name": "HTMLView",
       "description": "",
       "description_tooltip": null,
       "layout": "IPY_MODEL_e2449a3f605e4254ae8c35ed65983dfb",
       "placeholder": "​",
       "style": "IPY_MODEL_a401653ef57b482aab2c74d56fa54f98",
       "value": " 35735/35735 [00:00&lt;00:00, 1910048.98it/s]"
      }
     }
    },
    "version_major": 2,
    "version_minor": 0
   }
  }
 },
 "nbformat": 4,
 "nbformat_minor": 5
}
